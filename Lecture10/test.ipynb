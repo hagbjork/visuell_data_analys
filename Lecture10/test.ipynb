{
 "cells": [
  {
   "cell_type": "markdown",
   "metadata": {},
   "source": [
    "## This is just a test file"
   ]
  }
 ],
 "metadata": {
  "interpreter": {
   "hash": "f13a95544e7d71142d81789b2205176bd08875654a045ce37ca8648092bfe876"
  },
  "kernelspec": {
   "display_name": "Python 3.10.0 ('visuell_env')",
   "language": "python",
   "name": "python3"
  },
  "language_info": {
   "name": "python",
   "version": "3.10.0"
  },
  "orig_nbformat": 4
 },
 "nbformat": 4,
 "nbformat_minor": 2
}
