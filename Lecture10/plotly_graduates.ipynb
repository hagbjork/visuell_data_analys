{
 "cells": [
  {
   "cell_type": "code",
   "execution_count": 1,
   "metadata": {},
   "outputs": [
    {
     "data": {
      "text/html": [
       "        <script type=\"text/javascript\">\n",
       "        window.PlotlyConfig = {MathJaxConfig: 'local'};\n",
       "        if (window.MathJax) {MathJax.Hub.Config({SVG: {font: \"STIX-Web\"}});}\n",
       "        if (typeof require !== 'undefined') {\n",
       "        require.undef(\"plotly\");\n",
       "        requirejs.config({\n",
       "            paths: {\n",
       "                'plotly': ['https://cdn.plot.ly/plotly-2.11.1.min']\n",
       "            }\n",
       "        });\n",
       "        require(['plotly'], function(Plotly) {\n",
       "            window._Plotly = Plotly;\n",
       "        });\n",
       "        }\n",
       "        </script>\n",
       "        "
      ]
     },
     "metadata": {},
     "output_type": "display_data"
    }
   ],
   "source": [
    "import plotly.graph_objs as go\n",
    "import chart_studio.plotly as py\n",
    "\n",
    "# Cufflinks wrapper on plotly\n",
    "import cufflinks\n",
    "\n",
    "# Data science imports\n",
    "import pandas as pd\n",
    "import numpy as np\n",
    "\n",
    "# Options for pandas\n",
    "pd.options.display.max_columns = 30\n",
    "\n",
    "# Display all cell outputs\n",
    "from IPython.core.interactiveshell import InteractiveShell\n",
    "\n",
    "InteractiveShell.ast_node_interactivity = \"all\"\n",
    "\n",
    "from plotly.offline import iplot\n",
    "\n",
    "cufflinks.go_offline()\n",
    "\n",
    "# Set global theme\n",
    "cufflinks.set_config_file(world_readable=True, theme=\"pearl\")"
   ]
  },
  {
   "cell_type": "code",
   "execution_count": 2,
   "metadata": {},
   "outputs": [
    {
     "name": "stdout",
     "output_type": "stream",
     "text": [
      "(173, 19)\n"
     ]
    },
    {
     "data": {
      "text/html": [
       "<div>\n",
       "<style scoped>\n",
       "    .dataframe tbody tr th:only-of-type {\n",
       "        vertical-align: middle;\n",
       "    }\n",
       "\n",
       "    .dataframe tbody tr th {\n",
       "        vertical-align: top;\n",
       "    }\n",
       "\n",
       "    .dataframe thead th {\n",
       "        text-align: right;\n",
       "    }\n",
       "</style>\n",
       "<table border=\"1\" class=\"dataframe\">\n",
       "  <thead>\n",
       "    <tr style=\"text-align: right;\">\n",
       "      <th></th>\n",
       "      <th>Rank</th>\n",
       "      <th>Major_code</th>\n",
       "      <th>Major</th>\n",
       "      <th>Total</th>\n",
       "      <th>Major_category</th>\n",
       "      <th>ShareWomen</th>\n",
       "      <th>Sample_size</th>\n",
       "      <th>Employed</th>\n",
       "      <th>Full_time</th>\n",
       "      <th>Part_time</th>\n",
       "      <th>Full_time_year_round</th>\n",
       "      <th>Unemployed</th>\n",
       "      <th>Unemployment_rate</th>\n",
       "      <th>Median</th>\n",
       "      <th>P25th</th>\n",
       "      <th>P75th</th>\n",
       "      <th>College_jobs</th>\n",
       "      <th>Non_college_jobs</th>\n",
       "      <th>Low_wage_jobs</th>\n",
       "    </tr>\n",
       "  </thead>\n",
       "  <tbody>\n",
       "    <tr>\n",
       "      <th>0</th>\n",
       "      <td>1</td>\n",
       "      <td>2419</td>\n",
       "      <td>PETROLEUM ENGINEERING</td>\n",
       "      <td>2339.0</td>\n",
       "      <td>Engineering</td>\n",
       "      <td>0.120564</td>\n",
       "      <td>36</td>\n",
       "      <td>1976</td>\n",
       "      <td>1849</td>\n",
       "      <td>270</td>\n",
       "      <td>1207</td>\n",
       "      <td>37</td>\n",
       "      <td>0.018381</td>\n",
       "      <td>110000</td>\n",
       "      <td>95000</td>\n",
       "      <td>125000</td>\n",
       "      <td>1534</td>\n",
       "      <td>364</td>\n",
       "      <td>193</td>\n",
       "    </tr>\n",
       "    <tr>\n",
       "      <th>1</th>\n",
       "      <td>2</td>\n",
       "      <td>2416</td>\n",
       "      <td>MINING AND MINERAL ENGINEERING</td>\n",
       "      <td>756.0</td>\n",
       "      <td>Engineering</td>\n",
       "      <td>0.101852</td>\n",
       "      <td>7</td>\n",
       "      <td>640</td>\n",
       "      <td>556</td>\n",
       "      <td>170</td>\n",
       "      <td>388</td>\n",
       "      <td>85</td>\n",
       "      <td>0.117241</td>\n",
       "      <td>75000</td>\n",
       "      <td>55000</td>\n",
       "      <td>90000</td>\n",
       "      <td>350</td>\n",
       "      <td>257</td>\n",
       "      <td>50</td>\n",
       "    </tr>\n",
       "    <tr>\n",
       "      <th>2</th>\n",
       "      <td>3</td>\n",
       "      <td>2415</td>\n",
       "      <td>METALLURGICAL ENGINEERING</td>\n",
       "      <td>856.0</td>\n",
       "      <td>Engineering</td>\n",
       "      <td>0.153037</td>\n",
       "      <td>3</td>\n",
       "      <td>648</td>\n",
       "      <td>558</td>\n",
       "      <td>133</td>\n",
       "      <td>340</td>\n",
       "      <td>16</td>\n",
       "      <td>0.024096</td>\n",
       "      <td>73000</td>\n",
       "      <td>50000</td>\n",
       "      <td>105000</td>\n",
       "      <td>456</td>\n",
       "      <td>176</td>\n",
       "      <td>0</td>\n",
       "    </tr>\n",
       "    <tr>\n",
       "      <th>3</th>\n",
       "      <td>4</td>\n",
       "      <td>2417</td>\n",
       "      <td>NAVAL ARCHITECTURE AND MARINE ENGINEERING</td>\n",
       "      <td>1258.0</td>\n",
       "      <td>Engineering</td>\n",
       "      <td>0.107313</td>\n",
       "      <td>16</td>\n",
       "      <td>758</td>\n",
       "      <td>1069</td>\n",
       "      <td>150</td>\n",
       "      <td>692</td>\n",
       "      <td>40</td>\n",
       "      <td>0.050125</td>\n",
       "      <td>70000</td>\n",
       "      <td>43000</td>\n",
       "      <td>80000</td>\n",
       "      <td>529</td>\n",
       "      <td>102</td>\n",
       "      <td>0</td>\n",
       "    </tr>\n",
       "    <tr>\n",
       "      <th>4</th>\n",
       "      <td>5</td>\n",
       "      <td>2405</td>\n",
       "      <td>CHEMICAL ENGINEERING</td>\n",
       "      <td>32260.0</td>\n",
       "      <td>Engineering</td>\n",
       "      <td>0.341631</td>\n",
       "      <td>289</td>\n",
       "      <td>25694</td>\n",
       "      <td>23170</td>\n",
       "      <td>5180</td>\n",
       "      <td>16697</td>\n",
       "      <td>1672</td>\n",
       "      <td>0.061098</td>\n",
       "      <td>65000</td>\n",
       "      <td>50000</td>\n",
       "      <td>75000</td>\n",
       "      <td>18314</td>\n",
       "      <td>4440</td>\n",
       "      <td>972</td>\n",
       "    </tr>\n",
       "  </tbody>\n",
       "</table>\n",
       "</div>"
      ],
      "text/plain": [
       "   Rank  Major_code                                      Major    Total  \\\n",
       "0     1        2419                      PETROLEUM ENGINEERING   2339.0   \n",
       "1     2        2416             MINING AND MINERAL ENGINEERING    756.0   \n",
       "2     3        2415                  METALLURGICAL ENGINEERING    856.0   \n",
       "3     4        2417  NAVAL ARCHITECTURE AND MARINE ENGINEERING   1258.0   \n",
       "4     5        2405                       CHEMICAL ENGINEERING  32260.0   \n",
       "\n",
       "  Major_category  ShareWomen  Sample_size  Employed  Full_time  Part_time  \\\n",
       "0    Engineering    0.120564           36      1976       1849        270   \n",
       "1    Engineering    0.101852            7       640        556        170   \n",
       "2    Engineering    0.153037            3       648        558        133   \n",
       "3    Engineering    0.107313           16       758       1069        150   \n",
       "4    Engineering    0.341631          289     25694      23170       5180   \n",
       "\n",
       "   Full_time_year_round  Unemployed  Unemployment_rate  Median  P25th   P75th  \\\n",
       "0                  1207          37           0.018381  110000  95000  125000   \n",
       "1                   388          85           0.117241   75000  55000   90000   \n",
       "2                   340          16           0.024096   73000  50000  105000   \n",
       "3                   692          40           0.050125   70000  43000   80000   \n",
       "4                 16697        1672           0.061098   65000  50000   75000   \n",
       "\n",
       "   College_jobs  Non_college_jobs  Low_wage_jobs  \n",
       "0          1534               364            193  \n",
       "1           350               257             50  \n",
       "2           456               176              0  \n",
       "3           529               102              0  \n",
       "4         18314              4440            972  "
      ]
     },
     "execution_count": 2,
     "metadata": {},
     "output_type": "execute_result"
    }
   ],
   "source": [
    "\n",
    "df = pd.read_csv(\"graduates.csv\")\n",
    "previous_rows, previous_columns = df.shape\n",
    "print(df.shape)\n",
    "df.head()"
   ]
  },
  {
   "cell_type": "code",
   "execution_count": 3,
   "metadata": {},
   "outputs": [
    {
     "name": "stdout",
     "output_type": "stream",
     "text": [
      "1 row(s) dropped in dropna() step.\n"
     ]
    }
   ],
   "source": [
    "df = df.dropna()\n",
    "rows, columns = df.shape\n",
    "\n",
    "print(f\"{previous_rows - rows} row(s) dropped in dropna() step.\")\n"
   ]
  },
  {
   "cell_type": "code",
   "execution_count": 5,
   "metadata": {},
   "outputs": [],
   "source": [
    "#Lägg till kolumnen ”ShareMen” som anger andelen män som jobbar på varje Major. (stödfunktion för apply)\n",
    "def share_men(share):\n",
    "\n",
    "    return 1 - share\n",
    "\n",
    "#Lägg till antal män och kvinnor  som jobbar i respektive Major och se till att avrunda till integer. (stödfunktion för apply)\n",
    "def amount_people(total, share, row):\n",
    "    try:\n",
    "        return int(total*share)\n",
    "    except:\n",
    "        print(f\"NaN-values in following row: {list(row)}\")\n",
    "        return 0"
   ]
  },
  {
   "cell_type": "code",
   "execution_count": 6,
   "metadata": {},
   "outputs": [
    {
     "data": {
      "text/html": [
       "<div>\n",
       "<style scoped>\n",
       "    .dataframe tbody tr th:only-of-type {\n",
       "        vertical-align: middle;\n",
       "    }\n",
       "\n",
       "    .dataframe tbody tr th {\n",
       "        vertical-align: top;\n",
       "    }\n",
       "\n",
       "    .dataframe thead th {\n",
       "        text-align: right;\n",
       "    }\n",
       "</style>\n",
       "<table border=\"1\" class=\"dataframe\">\n",
       "  <thead>\n",
       "    <tr style=\"text-align: right;\">\n",
       "      <th></th>\n",
       "      <th>Rank</th>\n",
       "      <th>Major_code</th>\n",
       "      <th>Major</th>\n",
       "      <th>Total</th>\n",
       "      <th>Major_category</th>\n",
       "      <th>ShareWomen</th>\n",
       "      <th>Sample_size</th>\n",
       "      <th>Employed</th>\n",
       "      <th>Full_time</th>\n",
       "      <th>Part_time</th>\n",
       "      <th>Full_time_year_round</th>\n",
       "      <th>Unemployed</th>\n",
       "      <th>Unemployment_rate</th>\n",
       "      <th>Median</th>\n",
       "      <th>P25th</th>\n",
       "      <th>P75th</th>\n",
       "      <th>College_jobs</th>\n",
       "      <th>Non_college_jobs</th>\n",
       "      <th>Low_wage_jobs</th>\n",
       "      <th>ShareMen</th>\n",
       "      <th>Amount Men</th>\n",
       "      <th>Amount Women</th>\n",
       "    </tr>\n",
       "  </thead>\n",
       "  <tbody>\n",
       "    <tr>\n",
       "      <th>0</th>\n",
       "      <td>1</td>\n",
       "      <td>2419</td>\n",
       "      <td>PETROLEUM ENGINEERING</td>\n",
       "      <td>2339.0</td>\n",
       "      <td>Engineering</td>\n",
       "      <td>0.120564</td>\n",
       "      <td>36</td>\n",
       "      <td>1976</td>\n",
       "      <td>1849</td>\n",
       "      <td>270</td>\n",
       "      <td>1207</td>\n",
       "      <td>37</td>\n",
       "      <td>0.018381</td>\n",
       "      <td>110000</td>\n",
       "      <td>95000</td>\n",
       "      <td>125000</td>\n",
       "      <td>1534</td>\n",
       "      <td>364</td>\n",
       "      <td>193</td>\n",
       "      <td>0.879436</td>\n",
       "      <td>2056</td>\n",
       "      <td>282</td>\n",
       "    </tr>\n",
       "    <tr>\n",
       "      <th>1</th>\n",
       "      <td>2</td>\n",
       "      <td>2416</td>\n",
       "      <td>MINING AND MINERAL ENGINEERING</td>\n",
       "      <td>756.0</td>\n",
       "      <td>Engineering</td>\n",
       "      <td>0.101852</td>\n",
       "      <td>7</td>\n",
       "      <td>640</td>\n",
       "      <td>556</td>\n",
       "      <td>170</td>\n",
       "      <td>388</td>\n",
       "      <td>85</td>\n",
       "      <td>0.117241</td>\n",
       "      <td>75000</td>\n",
       "      <td>55000</td>\n",
       "      <td>90000</td>\n",
       "      <td>350</td>\n",
       "      <td>257</td>\n",
       "      <td>50</td>\n",
       "      <td>0.898148</td>\n",
       "      <td>678</td>\n",
       "      <td>77</td>\n",
       "    </tr>\n",
       "    <tr>\n",
       "      <th>2</th>\n",
       "      <td>3</td>\n",
       "      <td>2415</td>\n",
       "      <td>METALLURGICAL ENGINEERING</td>\n",
       "      <td>856.0</td>\n",
       "      <td>Engineering</td>\n",
       "      <td>0.153037</td>\n",
       "      <td>3</td>\n",
       "      <td>648</td>\n",
       "      <td>558</td>\n",
       "      <td>133</td>\n",
       "      <td>340</td>\n",
       "      <td>16</td>\n",
       "      <td>0.024096</td>\n",
       "      <td>73000</td>\n",
       "      <td>50000</td>\n",
       "      <td>105000</td>\n",
       "      <td>456</td>\n",
       "      <td>176</td>\n",
       "      <td>0</td>\n",
       "      <td>0.846963</td>\n",
       "      <td>725</td>\n",
       "      <td>130</td>\n",
       "    </tr>\n",
       "    <tr>\n",
       "      <th>3</th>\n",
       "      <td>4</td>\n",
       "      <td>2417</td>\n",
       "      <td>NAVAL ARCHITECTURE AND MARINE ENGINEERING</td>\n",
       "      <td>1258.0</td>\n",
       "      <td>Engineering</td>\n",
       "      <td>0.107313</td>\n",
       "      <td>16</td>\n",
       "      <td>758</td>\n",
       "      <td>1069</td>\n",
       "      <td>150</td>\n",
       "      <td>692</td>\n",
       "      <td>40</td>\n",
       "      <td>0.050125</td>\n",
       "      <td>70000</td>\n",
       "      <td>43000</td>\n",
       "      <td>80000</td>\n",
       "      <td>529</td>\n",
       "      <td>102</td>\n",
       "      <td>0</td>\n",
       "      <td>0.892687</td>\n",
       "      <td>1122</td>\n",
       "      <td>135</td>\n",
       "    </tr>\n",
       "    <tr>\n",
       "      <th>4</th>\n",
       "      <td>5</td>\n",
       "      <td>2405</td>\n",
       "      <td>CHEMICAL ENGINEERING</td>\n",
       "      <td>32260.0</td>\n",
       "      <td>Engineering</td>\n",
       "      <td>0.341631</td>\n",
       "      <td>289</td>\n",
       "      <td>25694</td>\n",
       "      <td>23170</td>\n",
       "      <td>5180</td>\n",
       "      <td>16697</td>\n",
       "      <td>1672</td>\n",
       "      <td>0.061098</td>\n",
       "      <td>65000</td>\n",
       "      <td>50000</td>\n",
       "      <td>75000</td>\n",
       "      <td>18314</td>\n",
       "      <td>4440</td>\n",
       "      <td>972</td>\n",
       "      <td>0.658369</td>\n",
       "      <td>21239</td>\n",
       "      <td>11020</td>\n",
       "    </tr>\n",
       "  </tbody>\n",
       "</table>\n",
       "</div>"
      ],
      "text/plain": [
       "   Rank  Major_code                                      Major    Total  \\\n",
       "0     1        2419                      PETROLEUM ENGINEERING   2339.0   \n",
       "1     2        2416             MINING AND MINERAL ENGINEERING    756.0   \n",
       "2     3        2415                  METALLURGICAL ENGINEERING    856.0   \n",
       "3     4        2417  NAVAL ARCHITECTURE AND MARINE ENGINEERING   1258.0   \n",
       "4     5        2405                       CHEMICAL ENGINEERING  32260.0   \n",
       "\n",
       "  Major_category  ShareWomen  Sample_size  Employed  Full_time  Part_time  \\\n",
       "0    Engineering    0.120564           36      1976       1849        270   \n",
       "1    Engineering    0.101852            7       640        556        170   \n",
       "2    Engineering    0.153037            3       648        558        133   \n",
       "3    Engineering    0.107313           16       758       1069        150   \n",
       "4    Engineering    0.341631          289     25694      23170       5180   \n",
       "\n",
       "   Full_time_year_round  Unemployed  Unemployment_rate  Median  P25th   P75th  \\\n",
       "0                  1207          37           0.018381  110000  95000  125000   \n",
       "1                   388          85           0.117241   75000  55000   90000   \n",
       "2                   340          16           0.024096   73000  50000  105000   \n",
       "3                   692          40           0.050125   70000  43000   80000   \n",
       "4                 16697        1672           0.061098   65000  50000   75000   \n",
       "\n",
       "   College_jobs  Non_college_jobs  Low_wage_jobs  ShareMen  Amount Men  \\\n",
       "0          1534               364            193  0.879436        2056   \n",
       "1           350               257             50  0.898148         678   \n",
       "2           456               176              0  0.846963         725   \n",
       "3           529               102              0  0.892687        1122   \n",
       "4         18314              4440            972  0.658369       21239   \n",
       "\n",
       "   Amount Women  \n",
       "0           282  \n",
       "1            77  \n",
       "2           130  \n",
       "3           135  \n",
       "4         11020  "
      ]
     },
     "execution_count": 6,
     "metadata": {},
     "output_type": "execute_result"
    }
   ],
   "source": [
    "#Lägg till kolumnen ”ShareMen” som anger andelen män som jobbar på varje Major.\n",
    "df[\"ShareMen\"] = df[\"ShareWomen\"].apply(share_men)\n",
    "df[\"Amount Men\"] = df.apply(lambda row: amount_people(row['Total'], row['ShareMen'], row), axis=1)\n",
    "df[\"Amount Women\"] = df.apply(lambda row: amount_people(row['Total'], row['ShareWomen'], row), axis=1)\n",
    "\n",
    "df.head()\n"
   ]
  },
  {
   "cell_type": "code",
   "execution_count": 7,
   "metadata": {},
   "outputs": [
    {
     "data": {
      "application/vnd.plotly.v1+json": {
       "config": {
        "linkText": "Export to plot.ly",
        "plotlyServerURL": "https://plot.ly",
        "showLink": true
       },
       "data": [
        {
         "marker": {
          "color": "rgba(255, 153, 51, 0.6)",
          "line": {
           "color": "rgba(255, 153, 51, 1.0)",
           "width": 1
          }
         },
         "name": "Amount Men",
         "orientation": "v",
         "text": "",
         "type": "bar",
         "x": [
          "Agriculture & Natural Resources",
          "Arts",
          "Biology & Life Science",
          "Business",
          "Communications & Journalism",
          "Computers & Mathematics",
          "Education",
          "Engineering",
          "Health",
          "Humanities & Liberal Arts",
          "Industrial Arts & Consumer Services",
          "Interdisciplinary",
          "Law & Public Policy",
          "Physical Sciences",
          "Psychology & Social Work",
          "Social Science"
         ],
         "y": [
          40352,
          134383,
          184913,
          667844,
          131918,
          208718,
          103519,
          408288,
          75515,
          272839,
          103779,
          2817,
          91126,
          95384,
          98111,
          256826
         ]
        }
       ],
       "layout": {
        "legend": {
         "bgcolor": "#F5F6F9",
         "font": {
          "color": "#4D5663"
         }
        },
        "paper_bgcolor": "#F5F6F9",
        "plot_bgcolor": "#F5F6F9",
        "template": {
         "data": {
          "bar": [
           {
            "error_x": {
             "color": "#2a3f5f"
            },
            "error_y": {
             "color": "#2a3f5f"
            },
            "marker": {
             "line": {
              "color": "#E5ECF6",
              "width": 0.5
             },
             "pattern": {
              "fillmode": "overlay",
              "size": 10,
              "solidity": 0.2
             }
            },
            "type": "bar"
           }
          ],
          "barpolar": [
           {
            "marker": {
             "line": {
              "color": "#E5ECF6",
              "width": 0.5
             },
             "pattern": {
              "fillmode": "overlay",
              "size": 10,
              "solidity": 0.2
             }
            },
            "type": "barpolar"
           }
          ],
          "carpet": [
           {
            "aaxis": {
             "endlinecolor": "#2a3f5f",
             "gridcolor": "white",
             "linecolor": "white",
             "minorgridcolor": "white",
             "startlinecolor": "#2a3f5f"
            },
            "baxis": {
             "endlinecolor": "#2a3f5f",
             "gridcolor": "white",
             "linecolor": "white",
             "minorgridcolor": "white",
             "startlinecolor": "#2a3f5f"
            },
            "type": "carpet"
           }
          ],
          "choropleth": [
           {
            "colorbar": {
             "outlinewidth": 0,
             "ticks": ""
            },
            "type": "choropleth"
           }
          ],
          "contour": [
           {
            "colorbar": {
             "outlinewidth": 0,
             "ticks": ""
            },
            "colorscale": [
             [
              0,
              "#0d0887"
             ],
             [
              0.1111111111111111,
              "#46039f"
             ],
             [
              0.2222222222222222,
              "#7201a8"
             ],
             [
              0.3333333333333333,
              "#9c179e"
             ],
             [
              0.4444444444444444,
              "#bd3786"
             ],
             [
              0.5555555555555556,
              "#d8576b"
             ],
             [
              0.6666666666666666,
              "#ed7953"
             ],
             [
              0.7777777777777778,
              "#fb9f3a"
             ],
             [
              0.8888888888888888,
              "#fdca26"
             ],
             [
              1,
              "#f0f921"
             ]
            ],
            "type": "contour"
           }
          ],
          "contourcarpet": [
           {
            "colorbar": {
             "outlinewidth": 0,
             "ticks": ""
            },
            "type": "contourcarpet"
           }
          ],
          "heatmap": [
           {
            "colorbar": {
             "outlinewidth": 0,
             "ticks": ""
            },
            "colorscale": [
             [
              0,
              "#0d0887"
             ],
             [
              0.1111111111111111,
              "#46039f"
             ],
             [
              0.2222222222222222,
              "#7201a8"
             ],
             [
              0.3333333333333333,
              "#9c179e"
             ],
             [
              0.4444444444444444,
              "#bd3786"
             ],
             [
              0.5555555555555556,
              "#d8576b"
             ],
             [
              0.6666666666666666,
              "#ed7953"
             ],
             [
              0.7777777777777778,
              "#fb9f3a"
             ],
             [
              0.8888888888888888,
              "#fdca26"
             ],
             [
              1,
              "#f0f921"
             ]
            ],
            "type": "heatmap"
           }
          ],
          "heatmapgl": [
           {
            "colorbar": {
             "outlinewidth": 0,
             "ticks": ""
            },
            "colorscale": [
             [
              0,
              "#0d0887"
             ],
             [
              0.1111111111111111,
              "#46039f"
             ],
             [
              0.2222222222222222,
              "#7201a8"
             ],
             [
              0.3333333333333333,
              "#9c179e"
             ],
             [
              0.4444444444444444,
              "#bd3786"
             ],
             [
              0.5555555555555556,
              "#d8576b"
             ],
             [
              0.6666666666666666,
              "#ed7953"
             ],
             [
              0.7777777777777778,
              "#fb9f3a"
             ],
             [
              0.8888888888888888,
              "#fdca26"
             ],
             [
              1,
              "#f0f921"
             ]
            ],
            "type": "heatmapgl"
           }
          ],
          "histogram": [
           {
            "marker": {
             "pattern": {
              "fillmode": "overlay",
              "size": 10,
              "solidity": 0.2
             }
            },
            "type": "histogram"
           }
          ],
          "histogram2d": [
           {
            "colorbar": {
             "outlinewidth": 0,
             "ticks": ""
            },
            "colorscale": [
             [
              0,
              "#0d0887"
             ],
             [
              0.1111111111111111,
              "#46039f"
             ],
             [
              0.2222222222222222,
              "#7201a8"
             ],
             [
              0.3333333333333333,
              "#9c179e"
             ],
             [
              0.4444444444444444,
              "#bd3786"
             ],
             [
              0.5555555555555556,
              "#d8576b"
             ],
             [
              0.6666666666666666,
              "#ed7953"
             ],
             [
              0.7777777777777778,
              "#fb9f3a"
             ],
             [
              0.8888888888888888,
              "#fdca26"
             ],
             [
              1,
              "#f0f921"
             ]
            ],
            "type": "histogram2d"
           }
          ],
          "histogram2dcontour": [
           {
            "colorbar": {
             "outlinewidth": 0,
             "ticks": ""
            },
            "colorscale": [
             [
              0,
              "#0d0887"
             ],
             [
              0.1111111111111111,
              "#46039f"
             ],
             [
              0.2222222222222222,
              "#7201a8"
             ],
             [
              0.3333333333333333,
              "#9c179e"
             ],
             [
              0.4444444444444444,
              "#bd3786"
             ],
             [
              0.5555555555555556,
              "#d8576b"
             ],
             [
              0.6666666666666666,
              "#ed7953"
             ],
             [
              0.7777777777777778,
              "#fb9f3a"
             ],
             [
              0.8888888888888888,
              "#fdca26"
             ],
             [
              1,
              "#f0f921"
             ]
            ],
            "type": "histogram2dcontour"
           }
          ],
          "mesh3d": [
           {
            "colorbar": {
             "outlinewidth": 0,
             "ticks": ""
            },
            "type": "mesh3d"
           }
          ],
          "parcoords": [
           {
            "line": {
             "colorbar": {
              "outlinewidth": 0,
              "ticks": ""
             }
            },
            "type": "parcoords"
           }
          ],
          "pie": [
           {
            "automargin": true,
            "type": "pie"
           }
          ],
          "scatter": [
           {
            "fillpattern": {
             "fillmode": "overlay",
             "size": 10,
             "solidity": 0.2
            },
            "type": "scatter"
           }
          ],
          "scatter3d": [
           {
            "line": {
             "colorbar": {
              "outlinewidth": 0,
              "ticks": ""
             }
            },
            "marker": {
             "colorbar": {
              "outlinewidth": 0,
              "ticks": ""
             }
            },
            "type": "scatter3d"
           }
          ],
          "scattercarpet": [
           {
            "marker": {
             "colorbar": {
              "outlinewidth": 0,
              "ticks": ""
             }
            },
            "type": "scattercarpet"
           }
          ],
          "scattergeo": [
           {
            "marker": {
             "colorbar": {
              "outlinewidth": 0,
              "ticks": ""
             }
            },
            "type": "scattergeo"
           }
          ],
          "scattergl": [
           {
            "marker": {
             "colorbar": {
              "outlinewidth": 0,
              "ticks": ""
             }
            },
            "type": "scattergl"
           }
          ],
          "scattermapbox": [
           {
            "marker": {
             "colorbar": {
              "outlinewidth": 0,
              "ticks": ""
             }
            },
            "type": "scattermapbox"
           }
          ],
          "scatterpolar": [
           {
            "marker": {
             "colorbar": {
              "outlinewidth": 0,
              "ticks": ""
             }
            },
            "type": "scatterpolar"
           }
          ],
          "scatterpolargl": [
           {
            "marker": {
             "colorbar": {
              "outlinewidth": 0,
              "ticks": ""
             }
            },
            "type": "scatterpolargl"
           }
          ],
          "scatterternary": [
           {
            "marker": {
             "colorbar": {
              "outlinewidth": 0,
              "ticks": ""
             }
            },
            "type": "scatterternary"
           }
          ],
          "surface": [
           {
            "colorbar": {
             "outlinewidth": 0,
             "ticks": ""
            },
            "colorscale": [
             [
              0,
              "#0d0887"
             ],
             [
              0.1111111111111111,
              "#46039f"
             ],
             [
              0.2222222222222222,
              "#7201a8"
             ],
             [
              0.3333333333333333,
              "#9c179e"
             ],
             [
              0.4444444444444444,
              "#bd3786"
             ],
             [
              0.5555555555555556,
              "#d8576b"
             ],
             [
              0.6666666666666666,
              "#ed7953"
             ],
             [
              0.7777777777777778,
              "#fb9f3a"
             ],
             [
              0.8888888888888888,
              "#fdca26"
             ],
             [
              1,
              "#f0f921"
             ]
            ],
            "type": "surface"
           }
          ],
          "table": [
           {
            "cells": {
             "fill": {
              "color": "#EBF0F8"
             },
             "line": {
              "color": "white"
             }
            },
            "header": {
             "fill": {
              "color": "#C8D4E3"
             },
             "line": {
              "color": "white"
             }
            },
            "type": "table"
           }
          ]
         },
         "layout": {
          "annotationdefaults": {
           "arrowcolor": "#2a3f5f",
           "arrowhead": 0,
           "arrowwidth": 1
          },
          "autotypenumbers": "strict",
          "coloraxis": {
           "colorbar": {
            "outlinewidth": 0,
            "ticks": ""
           }
          },
          "colorscale": {
           "diverging": [
            [
             0,
             "#8e0152"
            ],
            [
             0.1,
             "#c51b7d"
            ],
            [
             0.2,
             "#de77ae"
            ],
            [
             0.3,
             "#f1b6da"
            ],
            [
             0.4,
             "#fde0ef"
            ],
            [
             0.5,
             "#f7f7f7"
            ],
            [
             0.6,
             "#e6f5d0"
            ],
            [
             0.7,
             "#b8e186"
            ],
            [
             0.8,
             "#7fbc41"
            ],
            [
             0.9,
             "#4d9221"
            ],
            [
             1,
             "#276419"
            ]
           ],
           "sequential": [
            [
             0,
             "#0d0887"
            ],
            [
             0.1111111111111111,
             "#46039f"
            ],
            [
             0.2222222222222222,
             "#7201a8"
            ],
            [
             0.3333333333333333,
             "#9c179e"
            ],
            [
             0.4444444444444444,
             "#bd3786"
            ],
            [
             0.5555555555555556,
             "#d8576b"
            ],
            [
             0.6666666666666666,
             "#ed7953"
            ],
            [
             0.7777777777777778,
             "#fb9f3a"
            ],
            [
             0.8888888888888888,
             "#fdca26"
            ],
            [
             1,
             "#f0f921"
            ]
           ],
           "sequentialminus": [
            [
             0,
             "#0d0887"
            ],
            [
             0.1111111111111111,
             "#46039f"
            ],
            [
             0.2222222222222222,
             "#7201a8"
            ],
            [
             0.3333333333333333,
             "#9c179e"
            ],
            [
             0.4444444444444444,
             "#bd3786"
            ],
            [
             0.5555555555555556,
             "#d8576b"
            ],
            [
             0.6666666666666666,
             "#ed7953"
            ],
            [
             0.7777777777777778,
             "#fb9f3a"
            ],
            [
             0.8888888888888888,
             "#fdca26"
            ],
            [
             1,
             "#f0f921"
            ]
           ]
          },
          "colorway": [
           "#636efa",
           "#EF553B",
           "#00cc96",
           "#ab63fa",
           "#FFA15A",
           "#19d3f3",
           "#FF6692",
           "#B6E880",
           "#FF97FF",
           "#FECB52"
          ],
          "font": {
           "color": "#2a3f5f"
          },
          "geo": {
           "bgcolor": "white",
           "lakecolor": "white",
           "landcolor": "#E5ECF6",
           "showlakes": true,
           "showland": true,
           "subunitcolor": "white"
          },
          "hoverlabel": {
           "align": "left"
          },
          "hovermode": "closest",
          "mapbox": {
           "style": "light"
          },
          "paper_bgcolor": "white",
          "plot_bgcolor": "#E5ECF6",
          "polar": {
           "angularaxis": {
            "gridcolor": "white",
            "linecolor": "white",
            "ticks": ""
           },
           "bgcolor": "#E5ECF6",
           "radialaxis": {
            "gridcolor": "white",
            "linecolor": "white",
            "ticks": ""
           }
          },
          "scene": {
           "xaxis": {
            "backgroundcolor": "#E5ECF6",
            "gridcolor": "white",
            "gridwidth": 2,
            "linecolor": "white",
            "showbackground": true,
            "ticks": "",
            "zerolinecolor": "white"
           },
           "yaxis": {
            "backgroundcolor": "#E5ECF6",
            "gridcolor": "white",
            "gridwidth": 2,
            "linecolor": "white",
            "showbackground": true,
            "ticks": "",
            "zerolinecolor": "white"
           },
           "zaxis": {
            "backgroundcolor": "#E5ECF6",
            "gridcolor": "white",
            "gridwidth": 2,
            "linecolor": "white",
            "showbackground": true,
            "ticks": "",
            "zerolinecolor": "white"
           }
          },
          "shapedefaults": {
           "line": {
            "color": "#2a3f5f"
           }
          },
          "ternary": {
           "aaxis": {
            "gridcolor": "white",
            "linecolor": "white",
            "ticks": ""
           },
           "baxis": {
            "gridcolor": "white",
            "linecolor": "white",
            "ticks": ""
           },
           "bgcolor": "#E5ECF6",
           "caxis": {
            "gridcolor": "white",
            "linecolor": "white",
            "ticks": ""
           }
          },
          "title": {
           "x": 0.05
          },
          "xaxis": {
           "automargin": true,
           "gridcolor": "white",
           "linecolor": "white",
           "ticks": "",
           "title": {
            "standoff": 15
           },
           "zerolinecolor": "white",
           "zerolinewidth": 2
          },
          "yaxis": {
           "automargin": true,
           "gridcolor": "white",
           "linecolor": "white",
           "ticks": "",
           "title": {
            "standoff": 15
           },
           "zerolinecolor": "white",
           "zerolinewidth": 2
          }
         }
        },
        "title": {
         "font": {
          "color": "#4D5663"
         },
         "text": "Amount Men"
        },
        "xaxis": {
         "gridcolor": "#E1E5ED",
         "linecolor": "black",
         "showgrid": true,
         "tickfont": {
          "color": "#4D5663"
         },
         "title": {
          "font": {
           "color": "#4D5663"
          },
          "text": ""
         },
         "zerolinecolor": "#E1E5ED"
        },
        "yaxis": {
         "gridcolor": "#E1E5ED",
         "linecolor": "black",
         "showgrid": true,
         "tickfont": {
          "color": "#4D5663"
         },
         "title": {
          "font": {
           "color": "#4D5663"
          },
          "text": "Amount Men"
         },
         "zerolinecolor": "#E1E5ED"
        }
       }
      },
      "text/html": [
       "<div>                            <div id=\"38b7dc56-458a-4ab8-964a-2d729bd14d01\" class=\"plotly-graph-div\" style=\"height:525px; width:100%;\"></div>            <script type=\"text/javascript\">                require([\"plotly\"], function(Plotly) {                    window.PLOTLYENV=window.PLOTLYENV || {};\n",
       "                    window.PLOTLYENV.BASE_URL='https://plot.ly';                                    if (document.getElementById(\"38b7dc56-458a-4ab8-964a-2d729bd14d01\")) {                    Plotly.newPlot(                        \"38b7dc56-458a-4ab8-964a-2d729bd14d01\",                        [{\"marker\":{\"color\":\"rgba(255, 153, 51, 0.6)\",\"line\":{\"color\":\"rgba(255, 153, 51, 1.0)\",\"width\":1}},\"name\":\"Amount Men\",\"orientation\":\"v\",\"text\":\"\",\"x\":[\"Agriculture & Natural Resources\",\"Arts\",\"Biology & Life Science\",\"Business\",\"Communications & Journalism\",\"Computers & Mathematics\",\"Education\",\"Engineering\",\"Health\",\"Humanities & Liberal Arts\",\"Industrial Arts & Consumer Services\",\"Interdisciplinary\",\"Law & Public Policy\",\"Physical Sciences\",\"Psychology & Social Work\",\"Social Science\"],\"y\":[40352,134383,184913,667844,131918,208718,103519,408288,75515,272839,103779,2817,91126,95384,98111,256826],\"type\":\"bar\"}],                        {\"legend\":{\"bgcolor\":\"#F5F6F9\",\"font\":{\"color\":\"#4D5663\"}},\"paper_bgcolor\":\"#F5F6F9\",\"plot_bgcolor\":\"#F5F6F9\",\"template\":{\"data\":{\"barpolar\":[{\"marker\":{\"line\":{\"color\":\"#E5ECF6\",\"width\":0.5},\"pattern\":{\"fillmode\":\"overlay\",\"size\":10,\"solidity\":0.2}},\"type\":\"barpolar\"}],\"bar\":[{\"error_x\":{\"color\":\"#2a3f5f\"},\"error_y\":{\"color\":\"#2a3f5f\"},\"marker\":{\"line\":{\"color\":\"#E5ECF6\",\"width\":0.5},\"pattern\":{\"fillmode\":\"overlay\",\"size\":10,\"solidity\":0.2}},\"type\":\"bar\"}],\"carpet\":[{\"aaxis\":{\"endlinecolor\":\"#2a3f5f\",\"gridcolor\":\"white\",\"linecolor\":\"white\",\"minorgridcolor\":\"white\",\"startlinecolor\":\"#2a3f5f\"},\"baxis\":{\"endlinecolor\":\"#2a3f5f\",\"gridcolor\":\"white\",\"linecolor\":\"white\",\"minorgridcolor\":\"white\",\"startlinecolor\":\"#2a3f5f\"},\"type\":\"carpet\"}],\"choropleth\":[{\"colorbar\":{\"outlinewidth\":0,\"ticks\":\"\"},\"type\":\"choropleth\"}],\"contourcarpet\":[{\"colorbar\":{\"outlinewidth\":0,\"ticks\":\"\"},\"type\":\"contourcarpet\"}],\"contour\":[{\"colorbar\":{\"outlinewidth\":0,\"ticks\":\"\"},\"colorscale\":[[0.0,\"#0d0887\"],[0.1111111111111111,\"#46039f\"],[0.2222222222222222,\"#7201a8\"],[0.3333333333333333,\"#9c179e\"],[0.4444444444444444,\"#bd3786\"],[0.5555555555555556,\"#d8576b\"],[0.6666666666666666,\"#ed7953\"],[0.7777777777777778,\"#fb9f3a\"],[0.8888888888888888,\"#fdca26\"],[1.0,\"#f0f921\"]],\"type\":\"contour\"}],\"heatmapgl\":[{\"colorbar\":{\"outlinewidth\":0,\"ticks\":\"\"},\"colorscale\":[[0.0,\"#0d0887\"],[0.1111111111111111,\"#46039f\"],[0.2222222222222222,\"#7201a8\"],[0.3333333333333333,\"#9c179e\"],[0.4444444444444444,\"#bd3786\"],[0.5555555555555556,\"#d8576b\"],[0.6666666666666666,\"#ed7953\"],[0.7777777777777778,\"#fb9f3a\"],[0.8888888888888888,\"#fdca26\"],[1.0,\"#f0f921\"]],\"type\":\"heatmapgl\"}],\"heatmap\":[{\"colorbar\":{\"outlinewidth\":0,\"ticks\":\"\"},\"colorscale\":[[0.0,\"#0d0887\"],[0.1111111111111111,\"#46039f\"],[0.2222222222222222,\"#7201a8\"],[0.3333333333333333,\"#9c179e\"],[0.4444444444444444,\"#bd3786\"],[0.5555555555555556,\"#d8576b\"],[0.6666666666666666,\"#ed7953\"],[0.7777777777777778,\"#fb9f3a\"],[0.8888888888888888,\"#fdca26\"],[1.0,\"#f0f921\"]],\"type\":\"heatmap\"}],\"histogram2dcontour\":[{\"colorbar\":{\"outlinewidth\":0,\"ticks\":\"\"},\"colorscale\":[[0.0,\"#0d0887\"],[0.1111111111111111,\"#46039f\"],[0.2222222222222222,\"#7201a8\"],[0.3333333333333333,\"#9c179e\"],[0.4444444444444444,\"#bd3786\"],[0.5555555555555556,\"#d8576b\"],[0.6666666666666666,\"#ed7953\"],[0.7777777777777778,\"#fb9f3a\"],[0.8888888888888888,\"#fdca26\"],[1.0,\"#f0f921\"]],\"type\":\"histogram2dcontour\"}],\"histogram2d\":[{\"colorbar\":{\"outlinewidth\":0,\"ticks\":\"\"},\"colorscale\":[[0.0,\"#0d0887\"],[0.1111111111111111,\"#46039f\"],[0.2222222222222222,\"#7201a8\"],[0.3333333333333333,\"#9c179e\"],[0.4444444444444444,\"#bd3786\"],[0.5555555555555556,\"#d8576b\"],[0.6666666666666666,\"#ed7953\"],[0.7777777777777778,\"#fb9f3a\"],[0.8888888888888888,\"#fdca26\"],[1.0,\"#f0f921\"]],\"type\":\"histogram2d\"}],\"histogram\":[{\"marker\":{\"pattern\":{\"fillmode\":\"overlay\",\"size\":10,\"solidity\":0.2}},\"type\":\"histogram\"}],\"mesh3d\":[{\"colorbar\":{\"outlinewidth\":0,\"ticks\":\"\"},\"type\":\"mesh3d\"}],\"parcoords\":[{\"line\":{\"colorbar\":{\"outlinewidth\":0,\"ticks\":\"\"}},\"type\":\"parcoords\"}],\"pie\":[{\"automargin\":true,\"type\":\"pie\"}],\"scatter3d\":[{\"line\":{\"colorbar\":{\"outlinewidth\":0,\"ticks\":\"\"}},\"marker\":{\"colorbar\":{\"outlinewidth\":0,\"ticks\":\"\"}},\"type\":\"scatter3d\"}],\"scattercarpet\":[{\"marker\":{\"colorbar\":{\"outlinewidth\":0,\"ticks\":\"\"}},\"type\":\"scattercarpet\"}],\"scattergeo\":[{\"marker\":{\"colorbar\":{\"outlinewidth\":0,\"ticks\":\"\"}},\"type\":\"scattergeo\"}],\"scattergl\":[{\"marker\":{\"colorbar\":{\"outlinewidth\":0,\"ticks\":\"\"}},\"type\":\"scattergl\"}],\"scattermapbox\":[{\"marker\":{\"colorbar\":{\"outlinewidth\":0,\"ticks\":\"\"}},\"type\":\"scattermapbox\"}],\"scatterpolargl\":[{\"marker\":{\"colorbar\":{\"outlinewidth\":0,\"ticks\":\"\"}},\"type\":\"scatterpolargl\"}],\"scatterpolar\":[{\"marker\":{\"colorbar\":{\"outlinewidth\":0,\"ticks\":\"\"}},\"type\":\"scatterpolar\"}],\"scatter\":[{\"fillpattern\":{\"fillmode\":\"overlay\",\"size\":10,\"solidity\":0.2},\"type\":\"scatter\"}],\"scatterternary\":[{\"marker\":{\"colorbar\":{\"outlinewidth\":0,\"ticks\":\"\"}},\"type\":\"scatterternary\"}],\"surface\":[{\"colorbar\":{\"outlinewidth\":0,\"ticks\":\"\"},\"colorscale\":[[0.0,\"#0d0887\"],[0.1111111111111111,\"#46039f\"],[0.2222222222222222,\"#7201a8\"],[0.3333333333333333,\"#9c179e\"],[0.4444444444444444,\"#bd3786\"],[0.5555555555555556,\"#d8576b\"],[0.6666666666666666,\"#ed7953\"],[0.7777777777777778,\"#fb9f3a\"],[0.8888888888888888,\"#fdca26\"],[1.0,\"#f0f921\"]],\"type\":\"surface\"}],\"table\":[{\"cells\":{\"fill\":{\"color\":\"#EBF0F8\"},\"line\":{\"color\":\"white\"}},\"header\":{\"fill\":{\"color\":\"#C8D4E3\"},\"line\":{\"color\":\"white\"}},\"type\":\"table\"}]},\"layout\":{\"annotationdefaults\":{\"arrowcolor\":\"#2a3f5f\",\"arrowhead\":0,\"arrowwidth\":1},\"autotypenumbers\":\"strict\",\"coloraxis\":{\"colorbar\":{\"outlinewidth\":0,\"ticks\":\"\"}},\"colorscale\":{\"diverging\":[[0,\"#8e0152\"],[0.1,\"#c51b7d\"],[0.2,\"#de77ae\"],[0.3,\"#f1b6da\"],[0.4,\"#fde0ef\"],[0.5,\"#f7f7f7\"],[0.6,\"#e6f5d0\"],[0.7,\"#b8e186\"],[0.8,\"#7fbc41\"],[0.9,\"#4d9221\"],[1,\"#276419\"]],\"sequential\":[[0.0,\"#0d0887\"],[0.1111111111111111,\"#46039f\"],[0.2222222222222222,\"#7201a8\"],[0.3333333333333333,\"#9c179e\"],[0.4444444444444444,\"#bd3786\"],[0.5555555555555556,\"#d8576b\"],[0.6666666666666666,\"#ed7953\"],[0.7777777777777778,\"#fb9f3a\"],[0.8888888888888888,\"#fdca26\"],[1.0,\"#f0f921\"]],\"sequentialminus\":[[0.0,\"#0d0887\"],[0.1111111111111111,\"#46039f\"],[0.2222222222222222,\"#7201a8\"],[0.3333333333333333,\"#9c179e\"],[0.4444444444444444,\"#bd3786\"],[0.5555555555555556,\"#d8576b\"],[0.6666666666666666,\"#ed7953\"],[0.7777777777777778,\"#fb9f3a\"],[0.8888888888888888,\"#fdca26\"],[1.0,\"#f0f921\"]]},\"colorway\":[\"#636efa\",\"#EF553B\",\"#00cc96\",\"#ab63fa\",\"#FFA15A\",\"#19d3f3\",\"#FF6692\",\"#B6E880\",\"#FF97FF\",\"#FECB52\"],\"font\":{\"color\":\"#2a3f5f\"},\"geo\":{\"bgcolor\":\"white\",\"lakecolor\":\"white\",\"landcolor\":\"#E5ECF6\",\"showlakes\":true,\"showland\":true,\"subunitcolor\":\"white\"},\"hoverlabel\":{\"align\":\"left\"},\"hovermode\":\"closest\",\"mapbox\":{\"style\":\"light\"},\"paper_bgcolor\":\"white\",\"plot_bgcolor\":\"#E5ECF6\",\"polar\":{\"angularaxis\":{\"gridcolor\":\"white\",\"linecolor\":\"white\",\"ticks\":\"\"},\"bgcolor\":\"#E5ECF6\",\"radialaxis\":{\"gridcolor\":\"white\",\"linecolor\":\"white\",\"ticks\":\"\"}},\"scene\":{\"xaxis\":{\"backgroundcolor\":\"#E5ECF6\",\"gridcolor\":\"white\",\"gridwidth\":2,\"linecolor\":\"white\",\"showbackground\":true,\"ticks\":\"\",\"zerolinecolor\":\"white\"},\"yaxis\":{\"backgroundcolor\":\"#E5ECF6\",\"gridcolor\":\"white\",\"gridwidth\":2,\"linecolor\":\"white\",\"showbackground\":true,\"ticks\":\"\",\"zerolinecolor\":\"white\"},\"zaxis\":{\"backgroundcolor\":\"#E5ECF6\",\"gridcolor\":\"white\",\"gridwidth\":2,\"linecolor\":\"white\",\"showbackground\":true,\"ticks\":\"\",\"zerolinecolor\":\"white\"}},\"shapedefaults\":{\"line\":{\"color\":\"#2a3f5f\"}},\"ternary\":{\"aaxis\":{\"gridcolor\":\"white\",\"linecolor\":\"white\",\"ticks\":\"\"},\"baxis\":{\"gridcolor\":\"white\",\"linecolor\":\"white\",\"ticks\":\"\"},\"bgcolor\":\"#E5ECF6\",\"caxis\":{\"gridcolor\":\"white\",\"linecolor\":\"white\",\"ticks\":\"\"}},\"title\":{\"x\":0.05},\"xaxis\":{\"automargin\":true,\"gridcolor\":\"white\",\"linecolor\":\"white\",\"ticks\":\"\",\"title\":{\"standoff\":15},\"zerolinecolor\":\"white\",\"zerolinewidth\":2},\"yaxis\":{\"automargin\":true,\"gridcolor\":\"white\",\"linecolor\":\"white\",\"ticks\":\"\",\"title\":{\"standoff\":15},\"zerolinecolor\":\"white\",\"zerolinewidth\":2}}},\"title\":{\"font\":{\"color\":\"#4D5663\"},\"text\":\"Amount Men\"},\"xaxis\":{\"gridcolor\":\"#E1E5ED\",\"linecolor\":\"black\",\"showgrid\":true,\"tickfont\":{\"color\":\"#4D5663\"},\"title\":{\"font\":{\"color\":\"#4D5663\"},\"text\":\"\"},\"zerolinecolor\":\"#E1E5ED\"},\"yaxis\":{\"gridcolor\":\"#E1E5ED\",\"linecolor\":\"black\",\"showgrid\":true,\"tickfont\":{\"color\":\"#4D5663\"},\"title\":{\"font\":{\"color\":\"#4D5663\"},\"text\":\"Amount Men\"},\"zerolinecolor\":\"#E1E5ED\"}},                        {\"showLink\": true, \"linkText\": \"Export to plot.ly\", \"plotlyServerURL\": \"https://plot.ly\", \"responsive\": true}                    ).then(function(){\n",
       "                            \n",
       "var gd = document.getElementById('38b7dc56-458a-4ab8-964a-2d729bd14d01');\n",
       "var x = new MutationObserver(function (mutations, observer) {{\n",
       "        var display = window.getComputedStyle(gd).display;\n",
       "        if (!display || display === 'none') {{\n",
       "            console.log([gd, 'removed!']);\n",
       "            Plotly.purge(gd);\n",
       "            observer.disconnect();\n",
       "        }}\n",
       "}});\n",
       "\n",
       "// Listen for the removal of the full notebook cells\n",
       "var notebookContainer = gd.closest('#notebook-container');\n",
       "if (notebookContainer) {{\n",
       "    x.observe(notebookContainer, {childList: true});\n",
       "}}\n",
       "\n",
       "// Listen for the clearing of the current output cell\n",
       "var outputEl = gd.closest('.output');\n",
       "if (outputEl) {{\n",
       "    x.observe(outputEl, {childList: true});\n",
       "}}\n",
       "\n",
       "                        })                };                });            </script>        </div>"
      ]
     },
     "metadata": {},
     "output_type": "display_data"
    }
   ],
   "source": [
    "df.groupby(\"Major_category\").sum()[\"Amount Men\"].iplot(\n",
    "    kind=\"bar\",\n",
    "    yTitle=\"Amount Men\",\n",
    "    linecolor=\"black\",\n",
    "    title=\"Amount Men\",\n",
    ")"
   ]
  },
  {
   "cell_type": "code",
   "execution_count": 14,
   "metadata": {},
   "outputs": [
    {
     "data": {
      "application/vnd.plotly.v1+json": {
       "config": {
        "linkText": "Export to plot.ly",
        "plotlyServerURL": "https://plot.ly",
        "showLink": true
       },
       "data": [
        {
         "marker": {
          "color": "rgba(255, 153, 51, 0.6)",
          "line": {
           "color": "rgba(255, 153, 51, 1.0)",
           "width": 1
          }
         },
         "name": "ShareWomen",
         "orientation": "v",
         "text": "",
         "type": "bar",
         "x": [
          "Agriculture & Natural Resources",
          "Arts",
          "Biology & Life Science",
          "Business",
          "Communications & Journalism",
          "Computers & Mathematics",
          "Education",
          "Engineering",
          "Health",
          "Humanities & Liberal Arts",
          "Industrial Arts & Consumer Services",
          "Interdisciplinary",
          "Law & Public Policy",
          "Physical Sciences",
          "Psychology & Social Work",
          "Social Science"
         ],
         "y": [
          0.4052673943333333,
          0.60365793875,
          0.587192857,
          0.48319791615384616,
          0.6583839885,
          0.3117722051818182,
          0.74850749475,
          0.23888867596551724,
          0.7951519023333334,
          0.6317903742666666,
          0.34952311771428574,
          0.770901106,
          0.4836487646,
          0.5086833598,
          0.7943969888888889,
          0.5539624870000001
         ]
        },
        {
         "marker": {
          "color": "rgba(55, 128, 191, 0.6)",
          "line": {
           "color": "rgba(55, 128, 191, 1.0)",
           "width": 1
          }
         },
         "name": "ShareMen",
         "orientation": "v",
         "text": "",
         "type": "bar",
         "x": [
          "Agriculture & Natural Resources",
          "Arts",
          "Biology & Life Science",
          "Business",
          "Communications & Journalism",
          "Computers & Mathematics",
          "Education",
          "Engineering",
          "Health",
          "Humanities & Liberal Arts",
          "Industrial Arts & Consumer Services",
          "Interdisciplinary",
          "Law & Public Policy",
          "Physical Sciences",
          "Psychology & Social Work",
          "Social Science"
         ],
         "y": [
          0.5947326056666666,
          0.39634206125,
          0.41280714300000004,
          0.5168020838461539,
          0.3416160115,
          0.6882277948181819,
          0.25149250525,
          0.7611113240344828,
          0.20484809766666665,
          0.3682096257333333,
          0.6504768822857142,
          0.22909889400000005,
          0.5163512353999999,
          0.4913166402,
          0.20560301111111112,
          0.446037513
         ]
        }
       ],
       "layout": {
        "barmode": "overlay",
        "legend": {
         "bgcolor": "#F5F6F9",
         "font": {
          "color": "#4D5663"
         }
        },
        "paper_bgcolor": "#F5F6F9",
        "plot_bgcolor": "#F5F6F9",
        "template": {
         "data": {
          "bar": [
           {
            "error_x": {
             "color": "#2a3f5f"
            },
            "error_y": {
             "color": "#2a3f5f"
            },
            "marker": {
             "line": {
              "color": "#E5ECF6",
              "width": 0.5
             },
             "pattern": {
              "fillmode": "overlay",
              "size": 10,
              "solidity": 0.2
             }
            },
            "type": "bar"
           }
          ],
          "barpolar": [
           {
            "marker": {
             "line": {
              "color": "#E5ECF6",
              "width": 0.5
             },
             "pattern": {
              "fillmode": "overlay",
              "size": 10,
              "solidity": 0.2
             }
            },
            "type": "barpolar"
           }
          ],
          "carpet": [
           {
            "aaxis": {
             "endlinecolor": "#2a3f5f",
             "gridcolor": "white",
             "linecolor": "white",
             "minorgridcolor": "white",
             "startlinecolor": "#2a3f5f"
            },
            "baxis": {
             "endlinecolor": "#2a3f5f",
             "gridcolor": "white",
             "linecolor": "white",
             "minorgridcolor": "white",
             "startlinecolor": "#2a3f5f"
            },
            "type": "carpet"
           }
          ],
          "choropleth": [
           {
            "colorbar": {
             "outlinewidth": 0,
             "ticks": ""
            },
            "type": "choropleth"
           }
          ],
          "contour": [
           {
            "colorbar": {
             "outlinewidth": 0,
             "ticks": ""
            },
            "colorscale": [
             [
              0,
              "#0d0887"
             ],
             [
              0.1111111111111111,
              "#46039f"
             ],
             [
              0.2222222222222222,
              "#7201a8"
             ],
             [
              0.3333333333333333,
              "#9c179e"
             ],
             [
              0.4444444444444444,
              "#bd3786"
             ],
             [
              0.5555555555555556,
              "#d8576b"
             ],
             [
              0.6666666666666666,
              "#ed7953"
             ],
             [
              0.7777777777777778,
              "#fb9f3a"
             ],
             [
              0.8888888888888888,
              "#fdca26"
             ],
             [
              1,
              "#f0f921"
             ]
            ],
            "type": "contour"
           }
          ],
          "contourcarpet": [
           {
            "colorbar": {
             "outlinewidth": 0,
             "ticks": ""
            },
            "type": "contourcarpet"
           }
          ],
          "heatmap": [
           {
            "colorbar": {
             "outlinewidth": 0,
             "ticks": ""
            },
            "colorscale": [
             [
              0,
              "#0d0887"
             ],
             [
              0.1111111111111111,
              "#46039f"
             ],
             [
              0.2222222222222222,
              "#7201a8"
             ],
             [
              0.3333333333333333,
              "#9c179e"
             ],
             [
              0.4444444444444444,
              "#bd3786"
             ],
             [
              0.5555555555555556,
              "#d8576b"
             ],
             [
              0.6666666666666666,
              "#ed7953"
             ],
             [
              0.7777777777777778,
              "#fb9f3a"
             ],
             [
              0.8888888888888888,
              "#fdca26"
             ],
             [
              1,
              "#f0f921"
             ]
            ],
            "type": "heatmap"
           }
          ],
          "heatmapgl": [
           {
            "colorbar": {
             "outlinewidth": 0,
             "ticks": ""
            },
            "colorscale": [
             [
              0,
              "#0d0887"
             ],
             [
              0.1111111111111111,
              "#46039f"
             ],
             [
              0.2222222222222222,
              "#7201a8"
             ],
             [
              0.3333333333333333,
              "#9c179e"
             ],
             [
              0.4444444444444444,
              "#bd3786"
             ],
             [
              0.5555555555555556,
              "#d8576b"
             ],
             [
              0.6666666666666666,
              "#ed7953"
             ],
             [
              0.7777777777777778,
              "#fb9f3a"
             ],
             [
              0.8888888888888888,
              "#fdca26"
             ],
             [
              1,
              "#f0f921"
             ]
            ],
            "type": "heatmapgl"
           }
          ],
          "histogram": [
           {
            "marker": {
             "pattern": {
              "fillmode": "overlay",
              "size": 10,
              "solidity": 0.2
             }
            },
            "type": "histogram"
           }
          ],
          "histogram2d": [
           {
            "colorbar": {
             "outlinewidth": 0,
             "ticks": ""
            },
            "colorscale": [
             [
              0,
              "#0d0887"
             ],
             [
              0.1111111111111111,
              "#46039f"
             ],
             [
              0.2222222222222222,
              "#7201a8"
             ],
             [
              0.3333333333333333,
              "#9c179e"
             ],
             [
              0.4444444444444444,
              "#bd3786"
             ],
             [
              0.5555555555555556,
              "#d8576b"
             ],
             [
              0.6666666666666666,
              "#ed7953"
             ],
             [
              0.7777777777777778,
              "#fb9f3a"
             ],
             [
              0.8888888888888888,
              "#fdca26"
             ],
             [
              1,
              "#f0f921"
             ]
            ],
            "type": "histogram2d"
           }
          ],
          "histogram2dcontour": [
           {
            "colorbar": {
             "outlinewidth": 0,
             "ticks": ""
            },
            "colorscale": [
             [
              0,
              "#0d0887"
             ],
             [
              0.1111111111111111,
              "#46039f"
             ],
             [
              0.2222222222222222,
              "#7201a8"
             ],
             [
              0.3333333333333333,
              "#9c179e"
             ],
             [
              0.4444444444444444,
              "#bd3786"
             ],
             [
              0.5555555555555556,
              "#d8576b"
             ],
             [
              0.6666666666666666,
              "#ed7953"
             ],
             [
              0.7777777777777778,
              "#fb9f3a"
             ],
             [
              0.8888888888888888,
              "#fdca26"
             ],
             [
              1,
              "#f0f921"
             ]
            ],
            "type": "histogram2dcontour"
           }
          ],
          "mesh3d": [
           {
            "colorbar": {
             "outlinewidth": 0,
             "ticks": ""
            },
            "type": "mesh3d"
           }
          ],
          "parcoords": [
           {
            "line": {
             "colorbar": {
              "outlinewidth": 0,
              "ticks": ""
             }
            },
            "type": "parcoords"
           }
          ],
          "pie": [
           {
            "automargin": true,
            "type": "pie"
           }
          ],
          "scatter": [
           {
            "fillpattern": {
             "fillmode": "overlay",
             "size": 10,
             "solidity": 0.2
            },
            "type": "scatter"
           }
          ],
          "scatter3d": [
           {
            "line": {
             "colorbar": {
              "outlinewidth": 0,
              "ticks": ""
             }
            },
            "marker": {
             "colorbar": {
              "outlinewidth": 0,
              "ticks": ""
             }
            },
            "type": "scatter3d"
           }
          ],
          "scattercarpet": [
           {
            "marker": {
             "colorbar": {
              "outlinewidth": 0,
              "ticks": ""
             }
            },
            "type": "scattercarpet"
           }
          ],
          "scattergeo": [
           {
            "marker": {
             "colorbar": {
              "outlinewidth": 0,
              "ticks": ""
             }
            },
            "type": "scattergeo"
           }
          ],
          "scattergl": [
           {
            "marker": {
             "colorbar": {
              "outlinewidth": 0,
              "ticks": ""
             }
            },
            "type": "scattergl"
           }
          ],
          "scattermapbox": [
           {
            "marker": {
             "colorbar": {
              "outlinewidth": 0,
              "ticks": ""
             }
            },
            "type": "scattermapbox"
           }
          ],
          "scatterpolar": [
           {
            "marker": {
             "colorbar": {
              "outlinewidth": 0,
              "ticks": ""
             }
            },
            "type": "scatterpolar"
           }
          ],
          "scatterpolargl": [
           {
            "marker": {
             "colorbar": {
              "outlinewidth": 0,
              "ticks": ""
             }
            },
            "type": "scatterpolargl"
           }
          ],
          "scatterternary": [
           {
            "marker": {
             "colorbar": {
              "outlinewidth": 0,
              "ticks": ""
             }
            },
            "type": "scatterternary"
           }
          ],
          "surface": [
           {
            "colorbar": {
             "outlinewidth": 0,
             "ticks": ""
            },
            "colorscale": [
             [
              0,
              "#0d0887"
             ],
             [
              0.1111111111111111,
              "#46039f"
             ],
             [
              0.2222222222222222,
              "#7201a8"
             ],
             [
              0.3333333333333333,
              "#9c179e"
             ],
             [
              0.4444444444444444,
              "#bd3786"
             ],
             [
              0.5555555555555556,
              "#d8576b"
             ],
             [
              0.6666666666666666,
              "#ed7953"
             ],
             [
              0.7777777777777778,
              "#fb9f3a"
             ],
             [
              0.8888888888888888,
              "#fdca26"
             ],
             [
              1,
              "#f0f921"
             ]
            ],
            "type": "surface"
           }
          ],
          "table": [
           {
            "cells": {
             "fill": {
              "color": "#EBF0F8"
             },
             "line": {
              "color": "white"
             }
            },
            "header": {
             "fill": {
              "color": "#C8D4E3"
             },
             "line": {
              "color": "white"
             }
            },
            "type": "table"
           }
          ]
         },
         "layout": {
          "annotationdefaults": {
           "arrowcolor": "#2a3f5f",
           "arrowhead": 0,
           "arrowwidth": 1
          },
          "autotypenumbers": "strict",
          "coloraxis": {
           "colorbar": {
            "outlinewidth": 0,
            "ticks": ""
           }
          },
          "colorscale": {
           "diverging": [
            [
             0,
             "#8e0152"
            ],
            [
             0.1,
             "#c51b7d"
            ],
            [
             0.2,
             "#de77ae"
            ],
            [
             0.3,
             "#f1b6da"
            ],
            [
             0.4,
             "#fde0ef"
            ],
            [
             0.5,
             "#f7f7f7"
            ],
            [
             0.6,
             "#e6f5d0"
            ],
            [
             0.7,
             "#b8e186"
            ],
            [
             0.8,
             "#7fbc41"
            ],
            [
             0.9,
             "#4d9221"
            ],
            [
             1,
             "#276419"
            ]
           ],
           "sequential": [
            [
             0,
             "#0d0887"
            ],
            [
             0.1111111111111111,
             "#46039f"
            ],
            [
             0.2222222222222222,
             "#7201a8"
            ],
            [
             0.3333333333333333,
             "#9c179e"
            ],
            [
             0.4444444444444444,
             "#bd3786"
            ],
            [
             0.5555555555555556,
             "#d8576b"
            ],
            [
             0.6666666666666666,
             "#ed7953"
            ],
            [
             0.7777777777777778,
             "#fb9f3a"
            ],
            [
             0.8888888888888888,
             "#fdca26"
            ],
            [
             1,
             "#f0f921"
            ]
           ],
           "sequentialminus": [
            [
             0,
             "#0d0887"
            ],
            [
             0.1111111111111111,
             "#46039f"
            ],
            [
             0.2222222222222222,
             "#7201a8"
            ],
            [
             0.3333333333333333,
             "#9c179e"
            ],
            [
             0.4444444444444444,
             "#bd3786"
            ],
            [
             0.5555555555555556,
             "#d8576b"
            ],
            [
             0.6666666666666666,
             "#ed7953"
            ],
            [
             0.7777777777777778,
             "#fb9f3a"
            ],
            [
             0.8888888888888888,
             "#fdca26"
            ],
            [
             1,
             "#f0f921"
            ]
           ]
          },
          "colorway": [
           "#636efa",
           "#EF553B",
           "#00cc96",
           "#ab63fa",
           "#FFA15A",
           "#19d3f3",
           "#FF6692",
           "#B6E880",
           "#FF97FF",
           "#FECB52"
          ],
          "font": {
           "color": "#2a3f5f"
          },
          "geo": {
           "bgcolor": "white",
           "lakecolor": "white",
           "landcolor": "#E5ECF6",
           "showlakes": true,
           "showland": true,
           "subunitcolor": "white"
          },
          "hoverlabel": {
           "align": "left"
          },
          "hovermode": "closest",
          "mapbox": {
           "style": "light"
          },
          "paper_bgcolor": "white",
          "plot_bgcolor": "#E5ECF6",
          "polar": {
           "angularaxis": {
            "gridcolor": "white",
            "linecolor": "white",
            "ticks": ""
           },
           "bgcolor": "#E5ECF6",
           "radialaxis": {
            "gridcolor": "white",
            "linecolor": "white",
            "ticks": ""
           }
          },
          "scene": {
           "xaxis": {
            "backgroundcolor": "#E5ECF6",
            "gridcolor": "white",
            "gridwidth": 2,
            "linecolor": "white",
            "showbackground": true,
            "ticks": "",
            "zerolinecolor": "white"
           },
           "yaxis": {
            "backgroundcolor": "#E5ECF6",
            "gridcolor": "white",
            "gridwidth": 2,
            "linecolor": "white",
            "showbackground": true,
            "ticks": "",
            "zerolinecolor": "white"
           },
           "zaxis": {
            "backgroundcolor": "#E5ECF6",
            "gridcolor": "white",
            "gridwidth": 2,
            "linecolor": "white",
            "showbackground": true,
            "ticks": "",
            "zerolinecolor": "white"
           }
          },
          "shapedefaults": {
           "line": {
            "color": "#2a3f5f"
           }
          },
          "ternary": {
           "aaxis": {
            "gridcolor": "white",
            "linecolor": "white",
            "ticks": ""
           },
           "baxis": {
            "gridcolor": "white",
            "linecolor": "white",
            "ticks": ""
           },
           "bgcolor": "#E5ECF6",
           "caxis": {
            "gridcolor": "white",
            "linecolor": "white",
            "ticks": ""
           }
          },
          "title": {
           "x": 0.05
          },
          "xaxis": {
           "automargin": true,
           "gridcolor": "white",
           "linecolor": "white",
           "ticks": "",
           "title": {
            "standoff": 15
           },
           "zerolinecolor": "white",
           "zerolinewidth": 2
          },
          "yaxis": {
           "automargin": true,
           "gridcolor": "white",
           "linecolor": "white",
           "ticks": "",
           "title": {
            "standoff": 15
           },
           "zerolinecolor": "white",
           "zerolinewidth": 2
          }
         }
        },
        "title": {
         "font": {
          "color": "#4D5663"
         },
         "text": "Proportion of Women per Category"
        },
        "xaxis": {
         "gridcolor": "#E1E5ED",
         "linecolor": "black",
         "showgrid": true,
         "tickfont": {
          "color": "#4D5663"
         },
         "title": {
          "font": {
           "color": "#4D5663"
          },
          "text": ""
         },
         "zerolinecolor": "#E1E5ED"
        },
        "yaxis": {
         "gridcolor": "#E1E5ED",
         "linecolor": "black",
         "showgrid": true,
         "tickfont": {
          "color": "#4D5663"
         },
         "title": {
          "font": {
           "color": "#4D5663"
          },
          "text": "Proportion Women"
         },
         "zerolinecolor": "#E1E5ED"
        }
       }
      },
      "text/html": [
       "<div>                            <div id=\"e955c3be-4305-4000-95b3-ea8a1d433c30\" class=\"plotly-graph-div\" style=\"height:525px; width:100%;\"></div>            <script type=\"text/javascript\">                require([\"plotly\"], function(Plotly) {                    window.PLOTLYENV=window.PLOTLYENV || {};\n",
       "                    window.PLOTLYENV.BASE_URL='https://plot.ly';                                    if (document.getElementById(\"e955c3be-4305-4000-95b3-ea8a1d433c30\")) {                    Plotly.newPlot(                        \"e955c3be-4305-4000-95b3-ea8a1d433c30\",                        [{\"marker\":{\"color\":\"rgba(255, 153, 51, 0.6)\",\"line\":{\"color\":\"rgba(255, 153, 51, 1.0)\",\"width\":1}},\"name\":\"ShareWomen\",\"orientation\":\"v\",\"text\":\"\",\"x\":[\"Agriculture & Natural Resources\",\"Arts\",\"Biology & Life Science\",\"Business\",\"Communications & Journalism\",\"Computers & Mathematics\",\"Education\",\"Engineering\",\"Health\",\"Humanities & Liberal Arts\",\"Industrial Arts & Consumer Services\",\"Interdisciplinary\",\"Law & Public Policy\",\"Physical Sciences\",\"Psychology & Social Work\",\"Social Science\"],\"y\":[0.4052673943333333,0.60365793875,0.587192857,0.48319791615384616,0.6583839885,0.3117722051818182,0.74850749475,0.23888867596551724,0.7951519023333334,0.6317903742666666,0.34952311771428574,0.770901106,0.4836487646,0.5086833598,0.7943969888888889,0.5539624870000001],\"type\":\"bar\"},{\"marker\":{\"color\":\"rgba(55, 128, 191, 0.6)\",\"line\":{\"color\":\"rgba(55, 128, 191, 1.0)\",\"width\":1}},\"name\":\"ShareMen\",\"orientation\":\"v\",\"text\":\"\",\"x\":[\"Agriculture & Natural Resources\",\"Arts\",\"Biology & Life Science\",\"Business\",\"Communications & Journalism\",\"Computers & Mathematics\",\"Education\",\"Engineering\",\"Health\",\"Humanities & Liberal Arts\",\"Industrial Arts & Consumer Services\",\"Interdisciplinary\",\"Law & Public Policy\",\"Physical Sciences\",\"Psychology & Social Work\",\"Social Science\"],\"y\":[0.5947326056666666,0.39634206125,0.41280714300000004,0.5168020838461539,0.3416160115,0.6882277948181819,0.25149250525,0.7611113240344828,0.20484809766666665,0.3682096257333333,0.6504768822857142,0.22909889400000005,0.5163512353999999,0.4913166402,0.20560301111111112,0.446037513],\"type\":\"bar\"}],                        {\"barmode\":\"overlay\",\"legend\":{\"bgcolor\":\"#F5F6F9\",\"font\":{\"color\":\"#4D5663\"}},\"paper_bgcolor\":\"#F5F6F9\",\"plot_bgcolor\":\"#F5F6F9\",\"template\":{\"data\":{\"barpolar\":[{\"marker\":{\"line\":{\"color\":\"#E5ECF6\",\"width\":0.5},\"pattern\":{\"fillmode\":\"overlay\",\"size\":10,\"solidity\":0.2}},\"type\":\"barpolar\"}],\"bar\":[{\"error_x\":{\"color\":\"#2a3f5f\"},\"error_y\":{\"color\":\"#2a3f5f\"},\"marker\":{\"line\":{\"color\":\"#E5ECF6\",\"width\":0.5},\"pattern\":{\"fillmode\":\"overlay\",\"size\":10,\"solidity\":0.2}},\"type\":\"bar\"}],\"carpet\":[{\"aaxis\":{\"endlinecolor\":\"#2a3f5f\",\"gridcolor\":\"white\",\"linecolor\":\"white\",\"minorgridcolor\":\"white\",\"startlinecolor\":\"#2a3f5f\"},\"baxis\":{\"endlinecolor\":\"#2a3f5f\",\"gridcolor\":\"white\",\"linecolor\":\"white\",\"minorgridcolor\":\"white\",\"startlinecolor\":\"#2a3f5f\"},\"type\":\"carpet\"}],\"choropleth\":[{\"colorbar\":{\"outlinewidth\":0,\"ticks\":\"\"},\"type\":\"choropleth\"}],\"contourcarpet\":[{\"colorbar\":{\"outlinewidth\":0,\"ticks\":\"\"},\"type\":\"contourcarpet\"}],\"contour\":[{\"colorbar\":{\"outlinewidth\":0,\"ticks\":\"\"},\"colorscale\":[[0.0,\"#0d0887\"],[0.1111111111111111,\"#46039f\"],[0.2222222222222222,\"#7201a8\"],[0.3333333333333333,\"#9c179e\"],[0.4444444444444444,\"#bd3786\"],[0.5555555555555556,\"#d8576b\"],[0.6666666666666666,\"#ed7953\"],[0.7777777777777778,\"#fb9f3a\"],[0.8888888888888888,\"#fdca26\"],[1.0,\"#f0f921\"]],\"type\":\"contour\"}],\"heatmapgl\":[{\"colorbar\":{\"outlinewidth\":0,\"ticks\":\"\"},\"colorscale\":[[0.0,\"#0d0887\"],[0.1111111111111111,\"#46039f\"],[0.2222222222222222,\"#7201a8\"],[0.3333333333333333,\"#9c179e\"],[0.4444444444444444,\"#bd3786\"],[0.5555555555555556,\"#d8576b\"],[0.6666666666666666,\"#ed7953\"],[0.7777777777777778,\"#fb9f3a\"],[0.8888888888888888,\"#fdca26\"],[1.0,\"#f0f921\"]],\"type\":\"heatmapgl\"}],\"heatmap\":[{\"colorbar\":{\"outlinewidth\":0,\"ticks\":\"\"},\"colorscale\":[[0.0,\"#0d0887\"],[0.1111111111111111,\"#46039f\"],[0.2222222222222222,\"#7201a8\"],[0.3333333333333333,\"#9c179e\"],[0.4444444444444444,\"#bd3786\"],[0.5555555555555556,\"#d8576b\"],[0.6666666666666666,\"#ed7953\"],[0.7777777777777778,\"#fb9f3a\"],[0.8888888888888888,\"#fdca26\"],[1.0,\"#f0f921\"]],\"type\":\"heatmap\"}],\"histogram2dcontour\":[{\"colorbar\":{\"outlinewidth\":0,\"ticks\":\"\"},\"colorscale\":[[0.0,\"#0d0887\"],[0.1111111111111111,\"#46039f\"],[0.2222222222222222,\"#7201a8\"],[0.3333333333333333,\"#9c179e\"],[0.4444444444444444,\"#bd3786\"],[0.5555555555555556,\"#d8576b\"],[0.6666666666666666,\"#ed7953\"],[0.7777777777777778,\"#fb9f3a\"],[0.8888888888888888,\"#fdca26\"],[1.0,\"#f0f921\"]],\"type\":\"histogram2dcontour\"}],\"histogram2d\":[{\"colorbar\":{\"outlinewidth\":0,\"ticks\":\"\"},\"colorscale\":[[0.0,\"#0d0887\"],[0.1111111111111111,\"#46039f\"],[0.2222222222222222,\"#7201a8\"],[0.3333333333333333,\"#9c179e\"],[0.4444444444444444,\"#bd3786\"],[0.5555555555555556,\"#d8576b\"],[0.6666666666666666,\"#ed7953\"],[0.7777777777777778,\"#fb9f3a\"],[0.8888888888888888,\"#fdca26\"],[1.0,\"#f0f921\"]],\"type\":\"histogram2d\"}],\"histogram\":[{\"marker\":{\"pattern\":{\"fillmode\":\"overlay\",\"size\":10,\"solidity\":0.2}},\"type\":\"histogram\"}],\"mesh3d\":[{\"colorbar\":{\"outlinewidth\":0,\"ticks\":\"\"},\"type\":\"mesh3d\"}],\"parcoords\":[{\"line\":{\"colorbar\":{\"outlinewidth\":0,\"ticks\":\"\"}},\"type\":\"parcoords\"}],\"pie\":[{\"automargin\":true,\"type\":\"pie\"}],\"scatter3d\":[{\"line\":{\"colorbar\":{\"outlinewidth\":0,\"ticks\":\"\"}},\"marker\":{\"colorbar\":{\"outlinewidth\":0,\"ticks\":\"\"}},\"type\":\"scatter3d\"}],\"scattercarpet\":[{\"marker\":{\"colorbar\":{\"outlinewidth\":0,\"ticks\":\"\"}},\"type\":\"scattercarpet\"}],\"scattergeo\":[{\"marker\":{\"colorbar\":{\"outlinewidth\":0,\"ticks\":\"\"}},\"type\":\"scattergeo\"}],\"scattergl\":[{\"marker\":{\"colorbar\":{\"outlinewidth\":0,\"ticks\":\"\"}},\"type\":\"scattergl\"}],\"scattermapbox\":[{\"marker\":{\"colorbar\":{\"outlinewidth\":0,\"ticks\":\"\"}},\"type\":\"scattermapbox\"}],\"scatterpolargl\":[{\"marker\":{\"colorbar\":{\"outlinewidth\":0,\"ticks\":\"\"}},\"type\":\"scatterpolargl\"}],\"scatterpolar\":[{\"marker\":{\"colorbar\":{\"outlinewidth\":0,\"ticks\":\"\"}},\"type\":\"scatterpolar\"}],\"scatter\":[{\"fillpattern\":{\"fillmode\":\"overlay\",\"size\":10,\"solidity\":0.2},\"type\":\"scatter\"}],\"scatterternary\":[{\"marker\":{\"colorbar\":{\"outlinewidth\":0,\"ticks\":\"\"}},\"type\":\"scatterternary\"}],\"surface\":[{\"colorbar\":{\"outlinewidth\":0,\"ticks\":\"\"},\"colorscale\":[[0.0,\"#0d0887\"],[0.1111111111111111,\"#46039f\"],[0.2222222222222222,\"#7201a8\"],[0.3333333333333333,\"#9c179e\"],[0.4444444444444444,\"#bd3786\"],[0.5555555555555556,\"#d8576b\"],[0.6666666666666666,\"#ed7953\"],[0.7777777777777778,\"#fb9f3a\"],[0.8888888888888888,\"#fdca26\"],[1.0,\"#f0f921\"]],\"type\":\"surface\"}],\"table\":[{\"cells\":{\"fill\":{\"color\":\"#EBF0F8\"},\"line\":{\"color\":\"white\"}},\"header\":{\"fill\":{\"color\":\"#C8D4E3\"},\"line\":{\"color\":\"white\"}},\"type\":\"table\"}]},\"layout\":{\"annotationdefaults\":{\"arrowcolor\":\"#2a3f5f\",\"arrowhead\":0,\"arrowwidth\":1},\"autotypenumbers\":\"strict\",\"coloraxis\":{\"colorbar\":{\"outlinewidth\":0,\"ticks\":\"\"}},\"colorscale\":{\"diverging\":[[0,\"#8e0152\"],[0.1,\"#c51b7d\"],[0.2,\"#de77ae\"],[0.3,\"#f1b6da\"],[0.4,\"#fde0ef\"],[0.5,\"#f7f7f7\"],[0.6,\"#e6f5d0\"],[0.7,\"#b8e186\"],[0.8,\"#7fbc41\"],[0.9,\"#4d9221\"],[1,\"#276419\"]],\"sequential\":[[0.0,\"#0d0887\"],[0.1111111111111111,\"#46039f\"],[0.2222222222222222,\"#7201a8\"],[0.3333333333333333,\"#9c179e\"],[0.4444444444444444,\"#bd3786\"],[0.5555555555555556,\"#d8576b\"],[0.6666666666666666,\"#ed7953\"],[0.7777777777777778,\"#fb9f3a\"],[0.8888888888888888,\"#fdca26\"],[1.0,\"#f0f921\"]],\"sequentialminus\":[[0.0,\"#0d0887\"],[0.1111111111111111,\"#46039f\"],[0.2222222222222222,\"#7201a8\"],[0.3333333333333333,\"#9c179e\"],[0.4444444444444444,\"#bd3786\"],[0.5555555555555556,\"#d8576b\"],[0.6666666666666666,\"#ed7953\"],[0.7777777777777778,\"#fb9f3a\"],[0.8888888888888888,\"#fdca26\"],[1.0,\"#f0f921\"]]},\"colorway\":[\"#636efa\",\"#EF553B\",\"#00cc96\",\"#ab63fa\",\"#FFA15A\",\"#19d3f3\",\"#FF6692\",\"#B6E880\",\"#FF97FF\",\"#FECB52\"],\"font\":{\"color\":\"#2a3f5f\"},\"geo\":{\"bgcolor\":\"white\",\"lakecolor\":\"white\",\"landcolor\":\"#E5ECF6\",\"showlakes\":true,\"showland\":true,\"subunitcolor\":\"white\"},\"hoverlabel\":{\"align\":\"left\"},\"hovermode\":\"closest\",\"mapbox\":{\"style\":\"light\"},\"paper_bgcolor\":\"white\",\"plot_bgcolor\":\"#E5ECF6\",\"polar\":{\"angularaxis\":{\"gridcolor\":\"white\",\"linecolor\":\"white\",\"ticks\":\"\"},\"bgcolor\":\"#E5ECF6\",\"radialaxis\":{\"gridcolor\":\"white\",\"linecolor\":\"white\",\"ticks\":\"\"}},\"scene\":{\"xaxis\":{\"backgroundcolor\":\"#E5ECF6\",\"gridcolor\":\"white\",\"gridwidth\":2,\"linecolor\":\"white\",\"showbackground\":true,\"ticks\":\"\",\"zerolinecolor\":\"white\"},\"yaxis\":{\"backgroundcolor\":\"#E5ECF6\",\"gridcolor\":\"white\",\"gridwidth\":2,\"linecolor\":\"white\",\"showbackground\":true,\"ticks\":\"\",\"zerolinecolor\":\"white\"},\"zaxis\":{\"backgroundcolor\":\"#E5ECF6\",\"gridcolor\":\"white\",\"gridwidth\":2,\"linecolor\":\"white\",\"showbackground\":true,\"ticks\":\"\",\"zerolinecolor\":\"white\"}},\"shapedefaults\":{\"line\":{\"color\":\"#2a3f5f\"}},\"ternary\":{\"aaxis\":{\"gridcolor\":\"white\",\"linecolor\":\"white\",\"ticks\":\"\"},\"baxis\":{\"gridcolor\":\"white\",\"linecolor\":\"white\",\"ticks\":\"\"},\"bgcolor\":\"#E5ECF6\",\"caxis\":{\"gridcolor\":\"white\",\"linecolor\":\"white\",\"ticks\":\"\"}},\"title\":{\"x\":0.05},\"xaxis\":{\"automargin\":true,\"gridcolor\":\"white\",\"linecolor\":\"white\",\"ticks\":\"\",\"title\":{\"standoff\":15},\"zerolinecolor\":\"white\",\"zerolinewidth\":2},\"yaxis\":{\"automargin\":true,\"gridcolor\":\"white\",\"linecolor\":\"white\",\"ticks\":\"\",\"title\":{\"standoff\":15},\"zerolinecolor\":\"white\",\"zerolinewidth\":2}}},\"title\":{\"font\":{\"color\":\"#4D5663\"},\"text\":\"Proportion of Women per Category\"},\"xaxis\":{\"gridcolor\":\"#E1E5ED\",\"linecolor\":\"black\",\"showgrid\":true,\"tickfont\":{\"color\":\"#4D5663\"},\"title\":{\"font\":{\"color\":\"#4D5663\"},\"text\":\"\"},\"zerolinecolor\":\"#E1E5ED\"},\"yaxis\":{\"gridcolor\":\"#E1E5ED\",\"linecolor\":\"black\",\"showgrid\":true,\"tickfont\":{\"color\":\"#4D5663\"},\"title\":{\"font\":{\"color\":\"#4D5663\"},\"text\":\"Proportion Women\"},\"zerolinecolor\":\"#E1E5ED\"}},                        {\"showLink\": true, \"linkText\": \"Export to plot.ly\", \"plotlyServerURL\": \"https://plot.ly\", \"responsive\": true}                    ).then(function(){\n",
       "                            \n",
       "var gd = document.getElementById('e955c3be-4305-4000-95b3-ea8a1d433c30');\n",
       "var x = new MutationObserver(function (mutations, observer) {{\n",
       "        var display = window.getComputedStyle(gd).display;\n",
       "        if (!display || display === 'none') {{\n",
       "            console.log([gd, 'removed!']);\n",
       "            Plotly.purge(gd);\n",
       "            observer.disconnect();\n",
       "        }}\n",
       "}});\n",
       "\n",
       "// Listen for the removal of the full notebook cells\n",
       "var notebookContainer = gd.closest('#notebook-container');\n",
       "if (notebookContainer) {{\n",
       "    x.observe(notebookContainer, {childList: true});\n",
       "}}\n",
       "\n",
       "// Listen for the clearing of the current output cell\n",
       "var outputEl = gd.closest('.output');\n",
       "if (outputEl) {{\n",
       "    x.observe(outputEl, {childList: true});\n",
       "}}\n",
       "\n",
       "                        })                };                });            </script>        </div>"
      ]
     },
     "metadata": {},
     "output_type": "display_data"
    }
   ],
   "source": [
    "#Plotta i histogram – först de 6 största, sedan sorterat på average av ShareWomen.\n",
    "\n",
    "df.groupby(\"Major_category\").mean()[[\"ShareWomen\", 'ShareMen']].iplot(\n",
    "    kind=\"bar\",\n",
    "    barmode = 'overlay',\n",
    "    yTitle=\"Proportion Women\",\n",
    "    linecolor=\"black\",\n",
    "    title=\"Proportion of Women per Category\",\n",
    ")"
   ]
  },
  {
   "cell_type": "code",
   "execution_count": 10,
   "metadata": {},
   "outputs": [
    {
     "data": {
      "application/vnd.plotly.v1+json": {
       "config": {
        "linkText": "Export to plot.ly",
        "plotlyServerURL": "https://plot.ly",
        "showLink": true
       },
       "data": [
        {
         "marker": {
          "color": "rgba(255, 153, 51, 0.6)",
          "line": {
           "color": "rgba(255, 153, 51, 1.0)",
           "width": 1
          }
         },
         "name": "ShareWomen",
         "orientation": "v",
         "text": "",
         "type": "bar",
         "x": [
          "Engineering",
          "Computers & Mathematics",
          "Industrial Arts & Consumer Services",
          "Agriculture & Natural Resources",
          "Business",
          "Law & Public Policy",
          "Physical Sciences",
          "Social Science",
          "Biology & Life Science",
          "Arts",
          "Humanities & Liberal Arts",
          "Communications & Journalism",
          "Education",
          "Interdisciplinary",
          "Psychology & Social Work",
          "Health"
         ],
         "y": [
          0.23888867596551724,
          0.3117722051818182,
          0.34952311771428574,
          0.4052673943333333,
          0.48319791615384616,
          0.4836487646,
          0.5086833598,
          0.5539624870000001,
          0.587192857,
          0.60365793875,
          0.6317903742666666,
          0.6583839885,
          0.74850749475,
          0.770901106,
          0.7943969888888889,
          0.7951519023333334
         ]
        }
       ],
       "layout": {
        "legend": {
         "bgcolor": "#F5F6F9",
         "font": {
          "color": "#4D5663"
         }
        },
        "paper_bgcolor": "#F5F6F9",
        "plot_bgcolor": "#F5F6F9",
        "template": {
         "data": {
          "bar": [
           {
            "error_x": {
             "color": "#2a3f5f"
            },
            "error_y": {
             "color": "#2a3f5f"
            },
            "marker": {
             "line": {
              "color": "#E5ECF6",
              "width": 0.5
             },
             "pattern": {
              "fillmode": "overlay",
              "size": 10,
              "solidity": 0.2
             }
            },
            "type": "bar"
           }
          ],
          "barpolar": [
           {
            "marker": {
             "line": {
              "color": "#E5ECF6",
              "width": 0.5
             },
             "pattern": {
              "fillmode": "overlay",
              "size": 10,
              "solidity": 0.2
             }
            },
            "type": "barpolar"
           }
          ],
          "carpet": [
           {
            "aaxis": {
             "endlinecolor": "#2a3f5f",
             "gridcolor": "white",
             "linecolor": "white",
             "minorgridcolor": "white",
             "startlinecolor": "#2a3f5f"
            },
            "baxis": {
             "endlinecolor": "#2a3f5f",
             "gridcolor": "white",
             "linecolor": "white",
             "minorgridcolor": "white",
             "startlinecolor": "#2a3f5f"
            },
            "type": "carpet"
           }
          ],
          "choropleth": [
           {
            "colorbar": {
             "outlinewidth": 0,
             "ticks": ""
            },
            "type": "choropleth"
           }
          ],
          "contour": [
           {
            "colorbar": {
             "outlinewidth": 0,
             "ticks": ""
            },
            "colorscale": [
             [
              0,
              "#0d0887"
             ],
             [
              0.1111111111111111,
              "#46039f"
             ],
             [
              0.2222222222222222,
              "#7201a8"
             ],
             [
              0.3333333333333333,
              "#9c179e"
             ],
             [
              0.4444444444444444,
              "#bd3786"
             ],
             [
              0.5555555555555556,
              "#d8576b"
             ],
             [
              0.6666666666666666,
              "#ed7953"
             ],
             [
              0.7777777777777778,
              "#fb9f3a"
             ],
             [
              0.8888888888888888,
              "#fdca26"
             ],
             [
              1,
              "#f0f921"
             ]
            ],
            "type": "contour"
           }
          ],
          "contourcarpet": [
           {
            "colorbar": {
             "outlinewidth": 0,
             "ticks": ""
            },
            "type": "contourcarpet"
           }
          ],
          "heatmap": [
           {
            "colorbar": {
             "outlinewidth": 0,
             "ticks": ""
            },
            "colorscale": [
             [
              0,
              "#0d0887"
             ],
             [
              0.1111111111111111,
              "#46039f"
             ],
             [
              0.2222222222222222,
              "#7201a8"
             ],
             [
              0.3333333333333333,
              "#9c179e"
             ],
             [
              0.4444444444444444,
              "#bd3786"
             ],
             [
              0.5555555555555556,
              "#d8576b"
             ],
             [
              0.6666666666666666,
              "#ed7953"
             ],
             [
              0.7777777777777778,
              "#fb9f3a"
             ],
             [
              0.8888888888888888,
              "#fdca26"
             ],
             [
              1,
              "#f0f921"
             ]
            ],
            "type": "heatmap"
           }
          ],
          "heatmapgl": [
           {
            "colorbar": {
             "outlinewidth": 0,
             "ticks": ""
            },
            "colorscale": [
             [
              0,
              "#0d0887"
             ],
             [
              0.1111111111111111,
              "#46039f"
             ],
             [
              0.2222222222222222,
              "#7201a8"
             ],
             [
              0.3333333333333333,
              "#9c179e"
             ],
             [
              0.4444444444444444,
              "#bd3786"
             ],
             [
              0.5555555555555556,
              "#d8576b"
             ],
             [
              0.6666666666666666,
              "#ed7953"
             ],
             [
              0.7777777777777778,
              "#fb9f3a"
             ],
             [
              0.8888888888888888,
              "#fdca26"
             ],
             [
              1,
              "#f0f921"
             ]
            ],
            "type": "heatmapgl"
           }
          ],
          "histogram": [
           {
            "marker": {
             "pattern": {
              "fillmode": "overlay",
              "size": 10,
              "solidity": 0.2
             }
            },
            "type": "histogram"
           }
          ],
          "histogram2d": [
           {
            "colorbar": {
             "outlinewidth": 0,
             "ticks": ""
            },
            "colorscale": [
             [
              0,
              "#0d0887"
             ],
             [
              0.1111111111111111,
              "#46039f"
             ],
             [
              0.2222222222222222,
              "#7201a8"
             ],
             [
              0.3333333333333333,
              "#9c179e"
             ],
             [
              0.4444444444444444,
              "#bd3786"
             ],
             [
              0.5555555555555556,
              "#d8576b"
             ],
             [
              0.6666666666666666,
              "#ed7953"
             ],
             [
              0.7777777777777778,
              "#fb9f3a"
             ],
             [
              0.8888888888888888,
              "#fdca26"
             ],
             [
              1,
              "#f0f921"
             ]
            ],
            "type": "histogram2d"
           }
          ],
          "histogram2dcontour": [
           {
            "colorbar": {
             "outlinewidth": 0,
             "ticks": ""
            },
            "colorscale": [
             [
              0,
              "#0d0887"
             ],
             [
              0.1111111111111111,
              "#46039f"
             ],
             [
              0.2222222222222222,
              "#7201a8"
             ],
             [
              0.3333333333333333,
              "#9c179e"
             ],
             [
              0.4444444444444444,
              "#bd3786"
             ],
             [
              0.5555555555555556,
              "#d8576b"
             ],
             [
              0.6666666666666666,
              "#ed7953"
             ],
             [
              0.7777777777777778,
              "#fb9f3a"
             ],
             [
              0.8888888888888888,
              "#fdca26"
             ],
             [
              1,
              "#f0f921"
             ]
            ],
            "type": "histogram2dcontour"
           }
          ],
          "mesh3d": [
           {
            "colorbar": {
             "outlinewidth": 0,
             "ticks": ""
            },
            "type": "mesh3d"
           }
          ],
          "parcoords": [
           {
            "line": {
             "colorbar": {
              "outlinewidth": 0,
              "ticks": ""
             }
            },
            "type": "parcoords"
           }
          ],
          "pie": [
           {
            "automargin": true,
            "type": "pie"
           }
          ],
          "scatter": [
           {
            "fillpattern": {
             "fillmode": "overlay",
             "size": 10,
             "solidity": 0.2
            },
            "type": "scatter"
           }
          ],
          "scatter3d": [
           {
            "line": {
             "colorbar": {
              "outlinewidth": 0,
              "ticks": ""
             }
            },
            "marker": {
             "colorbar": {
              "outlinewidth": 0,
              "ticks": ""
             }
            },
            "type": "scatter3d"
           }
          ],
          "scattercarpet": [
           {
            "marker": {
             "colorbar": {
              "outlinewidth": 0,
              "ticks": ""
             }
            },
            "type": "scattercarpet"
           }
          ],
          "scattergeo": [
           {
            "marker": {
             "colorbar": {
              "outlinewidth": 0,
              "ticks": ""
             }
            },
            "type": "scattergeo"
           }
          ],
          "scattergl": [
           {
            "marker": {
             "colorbar": {
              "outlinewidth": 0,
              "ticks": ""
             }
            },
            "type": "scattergl"
           }
          ],
          "scattermapbox": [
           {
            "marker": {
             "colorbar": {
              "outlinewidth": 0,
              "ticks": ""
             }
            },
            "type": "scattermapbox"
           }
          ],
          "scatterpolar": [
           {
            "marker": {
             "colorbar": {
              "outlinewidth": 0,
              "ticks": ""
             }
            },
            "type": "scatterpolar"
           }
          ],
          "scatterpolargl": [
           {
            "marker": {
             "colorbar": {
              "outlinewidth": 0,
              "ticks": ""
             }
            },
            "type": "scatterpolargl"
           }
          ],
          "scatterternary": [
           {
            "marker": {
             "colorbar": {
              "outlinewidth": 0,
              "ticks": ""
             }
            },
            "type": "scatterternary"
           }
          ],
          "surface": [
           {
            "colorbar": {
             "outlinewidth": 0,
             "ticks": ""
            },
            "colorscale": [
             [
              0,
              "#0d0887"
             ],
             [
              0.1111111111111111,
              "#46039f"
             ],
             [
              0.2222222222222222,
              "#7201a8"
             ],
             [
              0.3333333333333333,
              "#9c179e"
             ],
             [
              0.4444444444444444,
              "#bd3786"
             ],
             [
              0.5555555555555556,
              "#d8576b"
             ],
             [
              0.6666666666666666,
              "#ed7953"
             ],
             [
              0.7777777777777778,
              "#fb9f3a"
             ],
             [
              0.8888888888888888,
              "#fdca26"
             ],
             [
              1,
              "#f0f921"
             ]
            ],
            "type": "surface"
           }
          ],
          "table": [
           {
            "cells": {
             "fill": {
              "color": "#EBF0F8"
             },
             "line": {
              "color": "white"
             }
            },
            "header": {
             "fill": {
              "color": "#C8D4E3"
             },
             "line": {
              "color": "white"
             }
            },
            "type": "table"
           }
          ]
         },
         "layout": {
          "annotationdefaults": {
           "arrowcolor": "#2a3f5f",
           "arrowhead": 0,
           "arrowwidth": 1
          },
          "autotypenumbers": "strict",
          "coloraxis": {
           "colorbar": {
            "outlinewidth": 0,
            "ticks": ""
           }
          },
          "colorscale": {
           "diverging": [
            [
             0,
             "#8e0152"
            ],
            [
             0.1,
             "#c51b7d"
            ],
            [
             0.2,
             "#de77ae"
            ],
            [
             0.3,
             "#f1b6da"
            ],
            [
             0.4,
             "#fde0ef"
            ],
            [
             0.5,
             "#f7f7f7"
            ],
            [
             0.6,
             "#e6f5d0"
            ],
            [
             0.7,
             "#b8e186"
            ],
            [
             0.8,
             "#7fbc41"
            ],
            [
             0.9,
             "#4d9221"
            ],
            [
             1,
             "#276419"
            ]
           ],
           "sequential": [
            [
             0,
             "#0d0887"
            ],
            [
             0.1111111111111111,
             "#46039f"
            ],
            [
             0.2222222222222222,
             "#7201a8"
            ],
            [
             0.3333333333333333,
             "#9c179e"
            ],
            [
             0.4444444444444444,
             "#bd3786"
            ],
            [
             0.5555555555555556,
             "#d8576b"
            ],
            [
             0.6666666666666666,
             "#ed7953"
            ],
            [
             0.7777777777777778,
             "#fb9f3a"
            ],
            [
             0.8888888888888888,
             "#fdca26"
            ],
            [
             1,
             "#f0f921"
            ]
           ],
           "sequentialminus": [
            [
             0,
             "#0d0887"
            ],
            [
             0.1111111111111111,
             "#46039f"
            ],
            [
             0.2222222222222222,
             "#7201a8"
            ],
            [
             0.3333333333333333,
             "#9c179e"
            ],
            [
             0.4444444444444444,
             "#bd3786"
            ],
            [
             0.5555555555555556,
             "#d8576b"
            ],
            [
             0.6666666666666666,
             "#ed7953"
            ],
            [
             0.7777777777777778,
             "#fb9f3a"
            ],
            [
             0.8888888888888888,
             "#fdca26"
            ],
            [
             1,
             "#f0f921"
            ]
           ]
          },
          "colorway": [
           "#636efa",
           "#EF553B",
           "#00cc96",
           "#ab63fa",
           "#FFA15A",
           "#19d3f3",
           "#FF6692",
           "#B6E880",
           "#FF97FF",
           "#FECB52"
          ],
          "font": {
           "color": "#2a3f5f"
          },
          "geo": {
           "bgcolor": "white",
           "lakecolor": "white",
           "landcolor": "#E5ECF6",
           "showlakes": true,
           "showland": true,
           "subunitcolor": "white"
          },
          "hoverlabel": {
           "align": "left"
          },
          "hovermode": "closest",
          "mapbox": {
           "style": "light"
          },
          "paper_bgcolor": "white",
          "plot_bgcolor": "#E5ECF6",
          "polar": {
           "angularaxis": {
            "gridcolor": "white",
            "linecolor": "white",
            "ticks": ""
           },
           "bgcolor": "#E5ECF6",
           "radialaxis": {
            "gridcolor": "white",
            "linecolor": "white",
            "ticks": ""
           }
          },
          "scene": {
           "xaxis": {
            "backgroundcolor": "#E5ECF6",
            "gridcolor": "white",
            "gridwidth": 2,
            "linecolor": "white",
            "showbackground": true,
            "ticks": "",
            "zerolinecolor": "white"
           },
           "yaxis": {
            "backgroundcolor": "#E5ECF6",
            "gridcolor": "white",
            "gridwidth": 2,
            "linecolor": "white",
            "showbackground": true,
            "ticks": "",
            "zerolinecolor": "white"
           },
           "zaxis": {
            "backgroundcolor": "#E5ECF6",
            "gridcolor": "white",
            "gridwidth": 2,
            "linecolor": "white",
            "showbackground": true,
            "ticks": "",
            "zerolinecolor": "white"
           }
          },
          "shapedefaults": {
           "line": {
            "color": "#2a3f5f"
           }
          },
          "ternary": {
           "aaxis": {
            "gridcolor": "white",
            "linecolor": "white",
            "ticks": ""
           },
           "baxis": {
            "gridcolor": "white",
            "linecolor": "white",
            "ticks": ""
           },
           "bgcolor": "#E5ECF6",
           "caxis": {
            "gridcolor": "white",
            "linecolor": "white",
            "ticks": ""
           }
          },
          "title": {
           "x": 0.05
          },
          "xaxis": {
           "automargin": true,
           "gridcolor": "white",
           "linecolor": "white",
           "ticks": "",
           "title": {
            "standoff": 15
           },
           "zerolinecolor": "white",
           "zerolinewidth": 2
          },
          "yaxis": {
           "automargin": true,
           "gridcolor": "white",
           "linecolor": "white",
           "ticks": "",
           "title": {
            "standoff": 15
           },
           "zerolinecolor": "white",
           "zerolinewidth": 2
          }
         }
        },
        "title": {
         "font": {
          "color": "#4D5663"
         },
         "text": "Proportion of Women per Category"
        },
        "xaxis": {
         "gridcolor": "#E1E5ED",
         "linecolor": "black",
         "showgrid": true,
         "tickfont": {
          "color": "#4D5663"
         },
         "title": {
          "font": {
           "color": "#4D5663"
          },
          "text": ""
         },
         "zerolinecolor": "#E1E5ED"
        },
        "yaxis": {
         "gridcolor": "#E1E5ED",
         "linecolor": "black",
         "showgrid": true,
         "tickfont": {
          "color": "#4D5663"
         },
         "title": {
          "font": {
           "color": "#4D5663"
          },
          "text": "Proportion Women"
         },
         "zerolinecolor": "#E1E5ED"
        }
       }
      },
      "text/html": [
       "<div>                            <div id=\"b1a64474-5597-42be-8dbf-8b6671e820d2\" class=\"plotly-graph-div\" style=\"height:525px; width:100%;\"></div>            <script type=\"text/javascript\">                require([\"plotly\"], function(Plotly) {                    window.PLOTLYENV=window.PLOTLYENV || {};\n",
       "                    window.PLOTLYENV.BASE_URL='https://plot.ly';                                    if (document.getElementById(\"b1a64474-5597-42be-8dbf-8b6671e820d2\")) {                    Plotly.newPlot(                        \"b1a64474-5597-42be-8dbf-8b6671e820d2\",                        [{\"marker\":{\"color\":\"rgba(255, 153, 51, 0.6)\",\"line\":{\"color\":\"rgba(255, 153, 51, 1.0)\",\"width\":1}},\"name\":\"ShareWomen\",\"orientation\":\"v\",\"text\":\"\",\"x\":[\"Engineering\",\"Computers & Mathematics\",\"Industrial Arts & Consumer Services\",\"Agriculture & Natural Resources\",\"Business\",\"Law & Public Policy\",\"Physical Sciences\",\"Social Science\",\"Biology & Life Science\",\"Arts\",\"Humanities & Liberal Arts\",\"Communications & Journalism\",\"Education\",\"Interdisciplinary\",\"Psychology & Social Work\",\"Health\"],\"y\":[0.23888867596551724,0.3117722051818182,0.34952311771428574,0.4052673943333333,0.48319791615384616,0.4836487646,0.5086833598,0.5539624870000001,0.587192857,0.60365793875,0.6317903742666666,0.6583839885,0.74850749475,0.770901106,0.7943969888888889,0.7951519023333334],\"type\":\"bar\"}],                        {\"legend\":{\"bgcolor\":\"#F5F6F9\",\"font\":{\"color\":\"#4D5663\"}},\"paper_bgcolor\":\"#F5F6F9\",\"plot_bgcolor\":\"#F5F6F9\",\"template\":{\"data\":{\"barpolar\":[{\"marker\":{\"line\":{\"color\":\"#E5ECF6\",\"width\":0.5},\"pattern\":{\"fillmode\":\"overlay\",\"size\":10,\"solidity\":0.2}},\"type\":\"barpolar\"}],\"bar\":[{\"error_x\":{\"color\":\"#2a3f5f\"},\"error_y\":{\"color\":\"#2a3f5f\"},\"marker\":{\"line\":{\"color\":\"#E5ECF6\",\"width\":0.5},\"pattern\":{\"fillmode\":\"overlay\",\"size\":10,\"solidity\":0.2}},\"type\":\"bar\"}],\"carpet\":[{\"aaxis\":{\"endlinecolor\":\"#2a3f5f\",\"gridcolor\":\"white\",\"linecolor\":\"white\",\"minorgridcolor\":\"white\",\"startlinecolor\":\"#2a3f5f\"},\"baxis\":{\"endlinecolor\":\"#2a3f5f\",\"gridcolor\":\"white\",\"linecolor\":\"white\",\"minorgridcolor\":\"white\",\"startlinecolor\":\"#2a3f5f\"},\"type\":\"carpet\"}],\"choropleth\":[{\"colorbar\":{\"outlinewidth\":0,\"ticks\":\"\"},\"type\":\"choropleth\"}],\"contourcarpet\":[{\"colorbar\":{\"outlinewidth\":0,\"ticks\":\"\"},\"type\":\"contourcarpet\"}],\"contour\":[{\"colorbar\":{\"outlinewidth\":0,\"ticks\":\"\"},\"colorscale\":[[0.0,\"#0d0887\"],[0.1111111111111111,\"#46039f\"],[0.2222222222222222,\"#7201a8\"],[0.3333333333333333,\"#9c179e\"],[0.4444444444444444,\"#bd3786\"],[0.5555555555555556,\"#d8576b\"],[0.6666666666666666,\"#ed7953\"],[0.7777777777777778,\"#fb9f3a\"],[0.8888888888888888,\"#fdca26\"],[1.0,\"#f0f921\"]],\"type\":\"contour\"}],\"heatmapgl\":[{\"colorbar\":{\"outlinewidth\":0,\"ticks\":\"\"},\"colorscale\":[[0.0,\"#0d0887\"],[0.1111111111111111,\"#46039f\"],[0.2222222222222222,\"#7201a8\"],[0.3333333333333333,\"#9c179e\"],[0.4444444444444444,\"#bd3786\"],[0.5555555555555556,\"#d8576b\"],[0.6666666666666666,\"#ed7953\"],[0.7777777777777778,\"#fb9f3a\"],[0.8888888888888888,\"#fdca26\"],[1.0,\"#f0f921\"]],\"type\":\"heatmapgl\"}],\"heatmap\":[{\"colorbar\":{\"outlinewidth\":0,\"ticks\":\"\"},\"colorscale\":[[0.0,\"#0d0887\"],[0.1111111111111111,\"#46039f\"],[0.2222222222222222,\"#7201a8\"],[0.3333333333333333,\"#9c179e\"],[0.4444444444444444,\"#bd3786\"],[0.5555555555555556,\"#d8576b\"],[0.6666666666666666,\"#ed7953\"],[0.7777777777777778,\"#fb9f3a\"],[0.8888888888888888,\"#fdca26\"],[1.0,\"#f0f921\"]],\"type\":\"heatmap\"}],\"histogram2dcontour\":[{\"colorbar\":{\"outlinewidth\":0,\"ticks\":\"\"},\"colorscale\":[[0.0,\"#0d0887\"],[0.1111111111111111,\"#46039f\"],[0.2222222222222222,\"#7201a8\"],[0.3333333333333333,\"#9c179e\"],[0.4444444444444444,\"#bd3786\"],[0.5555555555555556,\"#d8576b\"],[0.6666666666666666,\"#ed7953\"],[0.7777777777777778,\"#fb9f3a\"],[0.8888888888888888,\"#fdca26\"],[1.0,\"#f0f921\"]],\"type\":\"histogram2dcontour\"}],\"histogram2d\":[{\"colorbar\":{\"outlinewidth\":0,\"ticks\":\"\"},\"colorscale\":[[0.0,\"#0d0887\"],[0.1111111111111111,\"#46039f\"],[0.2222222222222222,\"#7201a8\"],[0.3333333333333333,\"#9c179e\"],[0.4444444444444444,\"#bd3786\"],[0.5555555555555556,\"#d8576b\"],[0.6666666666666666,\"#ed7953\"],[0.7777777777777778,\"#fb9f3a\"],[0.8888888888888888,\"#fdca26\"],[1.0,\"#f0f921\"]],\"type\":\"histogram2d\"}],\"histogram\":[{\"marker\":{\"pattern\":{\"fillmode\":\"overlay\",\"size\":10,\"solidity\":0.2}},\"type\":\"histogram\"}],\"mesh3d\":[{\"colorbar\":{\"outlinewidth\":0,\"ticks\":\"\"},\"type\":\"mesh3d\"}],\"parcoords\":[{\"line\":{\"colorbar\":{\"outlinewidth\":0,\"ticks\":\"\"}},\"type\":\"parcoords\"}],\"pie\":[{\"automargin\":true,\"type\":\"pie\"}],\"scatter3d\":[{\"line\":{\"colorbar\":{\"outlinewidth\":0,\"ticks\":\"\"}},\"marker\":{\"colorbar\":{\"outlinewidth\":0,\"ticks\":\"\"}},\"type\":\"scatter3d\"}],\"scattercarpet\":[{\"marker\":{\"colorbar\":{\"outlinewidth\":0,\"ticks\":\"\"}},\"type\":\"scattercarpet\"}],\"scattergeo\":[{\"marker\":{\"colorbar\":{\"outlinewidth\":0,\"ticks\":\"\"}},\"type\":\"scattergeo\"}],\"scattergl\":[{\"marker\":{\"colorbar\":{\"outlinewidth\":0,\"ticks\":\"\"}},\"type\":\"scattergl\"}],\"scattermapbox\":[{\"marker\":{\"colorbar\":{\"outlinewidth\":0,\"ticks\":\"\"}},\"type\":\"scattermapbox\"}],\"scatterpolargl\":[{\"marker\":{\"colorbar\":{\"outlinewidth\":0,\"ticks\":\"\"}},\"type\":\"scatterpolargl\"}],\"scatterpolar\":[{\"marker\":{\"colorbar\":{\"outlinewidth\":0,\"ticks\":\"\"}},\"type\":\"scatterpolar\"}],\"scatter\":[{\"fillpattern\":{\"fillmode\":\"overlay\",\"size\":10,\"solidity\":0.2},\"type\":\"scatter\"}],\"scatterternary\":[{\"marker\":{\"colorbar\":{\"outlinewidth\":0,\"ticks\":\"\"}},\"type\":\"scatterternary\"}],\"surface\":[{\"colorbar\":{\"outlinewidth\":0,\"ticks\":\"\"},\"colorscale\":[[0.0,\"#0d0887\"],[0.1111111111111111,\"#46039f\"],[0.2222222222222222,\"#7201a8\"],[0.3333333333333333,\"#9c179e\"],[0.4444444444444444,\"#bd3786\"],[0.5555555555555556,\"#d8576b\"],[0.6666666666666666,\"#ed7953\"],[0.7777777777777778,\"#fb9f3a\"],[0.8888888888888888,\"#fdca26\"],[1.0,\"#f0f921\"]],\"type\":\"surface\"}],\"table\":[{\"cells\":{\"fill\":{\"color\":\"#EBF0F8\"},\"line\":{\"color\":\"white\"}},\"header\":{\"fill\":{\"color\":\"#C8D4E3\"},\"line\":{\"color\":\"white\"}},\"type\":\"table\"}]},\"layout\":{\"annotationdefaults\":{\"arrowcolor\":\"#2a3f5f\",\"arrowhead\":0,\"arrowwidth\":1},\"autotypenumbers\":\"strict\",\"coloraxis\":{\"colorbar\":{\"outlinewidth\":0,\"ticks\":\"\"}},\"colorscale\":{\"diverging\":[[0,\"#8e0152\"],[0.1,\"#c51b7d\"],[0.2,\"#de77ae\"],[0.3,\"#f1b6da\"],[0.4,\"#fde0ef\"],[0.5,\"#f7f7f7\"],[0.6,\"#e6f5d0\"],[0.7,\"#b8e186\"],[0.8,\"#7fbc41\"],[0.9,\"#4d9221\"],[1,\"#276419\"]],\"sequential\":[[0.0,\"#0d0887\"],[0.1111111111111111,\"#46039f\"],[0.2222222222222222,\"#7201a8\"],[0.3333333333333333,\"#9c179e\"],[0.4444444444444444,\"#bd3786\"],[0.5555555555555556,\"#d8576b\"],[0.6666666666666666,\"#ed7953\"],[0.7777777777777778,\"#fb9f3a\"],[0.8888888888888888,\"#fdca26\"],[1.0,\"#f0f921\"]],\"sequentialminus\":[[0.0,\"#0d0887\"],[0.1111111111111111,\"#46039f\"],[0.2222222222222222,\"#7201a8\"],[0.3333333333333333,\"#9c179e\"],[0.4444444444444444,\"#bd3786\"],[0.5555555555555556,\"#d8576b\"],[0.6666666666666666,\"#ed7953\"],[0.7777777777777778,\"#fb9f3a\"],[0.8888888888888888,\"#fdca26\"],[1.0,\"#f0f921\"]]},\"colorway\":[\"#636efa\",\"#EF553B\",\"#00cc96\",\"#ab63fa\",\"#FFA15A\",\"#19d3f3\",\"#FF6692\",\"#B6E880\",\"#FF97FF\",\"#FECB52\"],\"font\":{\"color\":\"#2a3f5f\"},\"geo\":{\"bgcolor\":\"white\",\"lakecolor\":\"white\",\"landcolor\":\"#E5ECF6\",\"showlakes\":true,\"showland\":true,\"subunitcolor\":\"white\"},\"hoverlabel\":{\"align\":\"left\"},\"hovermode\":\"closest\",\"mapbox\":{\"style\":\"light\"},\"paper_bgcolor\":\"white\",\"plot_bgcolor\":\"#E5ECF6\",\"polar\":{\"angularaxis\":{\"gridcolor\":\"white\",\"linecolor\":\"white\",\"ticks\":\"\"},\"bgcolor\":\"#E5ECF6\",\"radialaxis\":{\"gridcolor\":\"white\",\"linecolor\":\"white\",\"ticks\":\"\"}},\"scene\":{\"xaxis\":{\"backgroundcolor\":\"#E5ECF6\",\"gridcolor\":\"white\",\"gridwidth\":2,\"linecolor\":\"white\",\"showbackground\":true,\"ticks\":\"\",\"zerolinecolor\":\"white\"},\"yaxis\":{\"backgroundcolor\":\"#E5ECF6\",\"gridcolor\":\"white\",\"gridwidth\":2,\"linecolor\":\"white\",\"showbackground\":true,\"ticks\":\"\",\"zerolinecolor\":\"white\"},\"zaxis\":{\"backgroundcolor\":\"#E5ECF6\",\"gridcolor\":\"white\",\"gridwidth\":2,\"linecolor\":\"white\",\"showbackground\":true,\"ticks\":\"\",\"zerolinecolor\":\"white\"}},\"shapedefaults\":{\"line\":{\"color\":\"#2a3f5f\"}},\"ternary\":{\"aaxis\":{\"gridcolor\":\"white\",\"linecolor\":\"white\",\"ticks\":\"\"},\"baxis\":{\"gridcolor\":\"white\",\"linecolor\":\"white\",\"ticks\":\"\"},\"bgcolor\":\"#E5ECF6\",\"caxis\":{\"gridcolor\":\"white\",\"linecolor\":\"white\",\"ticks\":\"\"}},\"title\":{\"x\":0.05},\"xaxis\":{\"automargin\":true,\"gridcolor\":\"white\",\"linecolor\":\"white\",\"ticks\":\"\",\"title\":{\"standoff\":15},\"zerolinecolor\":\"white\",\"zerolinewidth\":2},\"yaxis\":{\"automargin\":true,\"gridcolor\":\"white\",\"linecolor\":\"white\",\"ticks\":\"\",\"title\":{\"standoff\":15},\"zerolinecolor\":\"white\",\"zerolinewidth\":2}}},\"title\":{\"font\":{\"color\":\"#4D5663\"},\"text\":\"Proportion of Women per Category\"},\"xaxis\":{\"gridcolor\":\"#E1E5ED\",\"linecolor\":\"black\",\"showgrid\":true,\"tickfont\":{\"color\":\"#4D5663\"},\"title\":{\"font\":{\"color\":\"#4D5663\"},\"text\":\"\"},\"zerolinecolor\":\"#E1E5ED\"},\"yaxis\":{\"gridcolor\":\"#E1E5ED\",\"linecolor\":\"black\",\"showgrid\":true,\"tickfont\":{\"color\":\"#4D5663\"},\"title\":{\"font\":{\"color\":\"#4D5663\"},\"text\":\"Proportion Women\"},\"zerolinecolor\":\"#E1E5ED\"}},                        {\"showLink\": true, \"linkText\": \"Export to plot.ly\", \"plotlyServerURL\": \"https://plot.ly\", \"responsive\": true}                    ).then(function(){\n",
       "                            \n",
       "var gd = document.getElementById('b1a64474-5597-42be-8dbf-8b6671e820d2');\n",
       "var x = new MutationObserver(function (mutations, observer) {{\n",
       "        var display = window.getComputedStyle(gd).display;\n",
       "        if (!display || display === 'none') {{\n",
       "            console.log([gd, 'removed!']);\n",
       "            Plotly.purge(gd);\n",
       "            observer.disconnect();\n",
       "        }}\n",
       "}});\n",
       "\n",
       "// Listen for the removal of the full notebook cells\n",
       "var notebookContainer = gd.closest('#notebook-container');\n",
       "if (notebookContainer) {{\n",
       "    x.observe(notebookContainer, {childList: true});\n",
       "}}\n",
       "\n",
       "// Listen for the clearing of the current output cell\n",
       "var outputEl = gd.closest('.output');\n",
       "if (outputEl) {{\n",
       "    x.observe(outputEl, {childList: true});\n",
       "}}\n",
       "\n",
       "                        })                };                });            </script>        </div>"
      ]
     },
     "metadata": {},
     "output_type": "display_data"
    }
   ],
   "source": [
    "#Plotta i histogram – först de 6 största, sedan sorterat på average av ShareWomen.\n",
    "df.groupby(\"Major_category\").mean()[\"ShareWomen\"].sort_values(ascending = True).iplot(\n",
    "    kind=\"bar\",\n",
    "    yTitle=\"Proportion Women\",\n",
    "    linecolor=\"black\",\n",
    "    title=\"Proportion of Women per Category\",\n",
    ")"
   ]
  },
  {
   "cell_type": "code",
   "execution_count": 11,
   "metadata": {},
   "outputs": [
    {
     "data": {
      "application/vnd.plotly.v1+json": {
       "config": {
        "linkText": "Export to plot.ly",
        "plotlyServerURL": "https://plot.ly",
        "showLink": true
       },
       "data": [
        {
         "marker": {
          "color": "rgba(255, 153, 51, 0.6)",
          "line": {
           "color": "rgba(255, 153, 51, 1.0)",
           "width": 1
          }
         },
         "name": "ShareWomen",
         "orientation": "v",
         "text": "",
         "type": "bar",
         "x": [
          "Health",
          "Psychology & Social Work",
          "Interdisciplinary",
          "Education"
         ],
         "y": [
          0.7951519023333334,
          0.7943969888888889,
          0.770901106,
          0.74850749475
         ]
        }
       ],
       "layout": {
        "legend": {
         "bgcolor": "#F5F6F9",
         "font": {
          "color": "#4D5663"
         }
        },
        "paper_bgcolor": "#F5F6F9",
        "plot_bgcolor": "#F5F6F9",
        "template": {
         "data": {
          "bar": [
           {
            "error_x": {
             "color": "#2a3f5f"
            },
            "error_y": {
             "color": "#2a3f5f"
            },
            "marker": {
             "line": {
              "color": "#E5ECF6",
              "width": 0.5
             },
             "pattern": {
              "fillmode": "overlay",
              "size": 10,
              "solidity": 0.2
             }
            },
            "type": "bar"
           }
          ],
          "barpolar": [
           {
            "marker": {
             "line": {
              "color": "#E5ECF6",
              "width": 0.5
             },
             "pattern": {
              "fillmode": "overlay",
              "size": 10,
              "solidity": 0.2
             }
            },
            "type": "barpolar"
           }
          ],
          "carpet": [
           {
            "aaxis": {
             "endlinecolor": "#2a3f5f",
             "gridcolor": "white",
             "linecolor": "white",
             "minorgridcolor": "white",
             "startlinecolor": "#2a3f5f"
            },
            "baxis": {
             "endlinecolor": "#2a3f5f",
             "gridcolor": "white",
             "linecolor": "white",
             "minorgridcolor": "white",
             "startlinecolor": "#2a3f5f"
            },
            "type": "carpet"
           }
          ],
          "choropleth": [
           {
            "colorbar": {
             "outlinewidth": 0,
             "ticks": ""
            },
            "type": "choropleth"
           }
          ],
          "contour": [
           {
            "colorbar": {
             "outlinewidth": 0,
             "ticks": ""
            },
            "colorscale": [
             [
              0,
              "#0d0887"
             ],
             [
              0.1111111111111111,
              "#46039f"
             ],
             [
              0.2222222222222222,
              "#7201a8"
             ],
             [
              0.3333333333333333,
              "#9c179e"
             ],
             [
              0.4444444444444444,
              "#bd3786"
             ],
             [
              0.5555555555555556,
              "#d8576b"
             ],
             [
              0.6666666666666666,
              "#ed7953"
             ],
             [
              0.7777777777777778,
              "#fb9f3a"
             ],
             [
              0.8888888888888888,
              "#fdca26"
             ],
             [
              1,
              "#f0f921"
             ]
            ],
            "type": "contour"
           }
          ],
          "contourcarpet": [
           {
            "colorbar": {
             "outlinewidth": 0,
             "ticks": ""
            },
            "type": "contourcarpet"
           }
          ],
          "heatmap": [
           {
            "colorbar": {
             "outlinewidth": 0,
             "ticks": ""
            },
            "colorscale": [
             [
              0,
              "#0d0887"
             ],
             [
              0.1111111111111111,
              "#46039f"
             ],
             [
              0.2222222222222222,
              "#7201a8"
             ],
             [
              0.3333333333333333,
              "#9c179e"
             ],
             [
              0.4444444444444444,
              "#bd3786"
             ],
             [
              0.5555555555555556,
              "#d8576b"
             ],
             [
              0.6666666666666666,
              "#ed7953"
             ],
             [
              0.7777777777777778,
              "#fb9f3a"
             ],
             [
              0.8888888888888888,
              "#fdca26"
             ],
             [
              1,
              "#f0f921"
             ]
            ],
            "type": "heatmap"
           }
          ],
          "heatmapgl": [
           {
            "colorbar": {
             "outlinewidth": 0,
             "ticks": ""
            },
            "colorscale": [
             [
              0,
              "#0d0887"
             ],
             [
              0.1111111111111111,
              "#46039f"
             ],
             [
              0.2222222222222222,
              "#7201a8"
             ],
             [
              0.3333333333333333,
              "#9c179e"
             ],
             [
              0.4444444444444444,
              "#bd3786"
             ],
             [
              0.5555555555555556,
              "#d8576b"
             ],
             [
              0.6666666666666666,
              "#ed7953"
             ],
             [
              0.7777777777777778,
              "#fb9f3a"
             ],
             [
              0.8888888888888888,
              "#fdca26"
             ],
             [
              1,
              "#f0f921"
             ]
            ],
            "type": "heatmapgl"
           }
          ],
          "histogram": [
           {
            "marker": {
             "pattern": {
              "fillmode": "overlay",
              "size": 10,
              "solidity": 0.2
             }
            },
            "type": "histogram"
           }
          ],
          "histogram2d": [
           {
            "colorbar": {
             "outlinewidth": 0,
             "ticks": ""
            },
            "colorscale": [
             [
              0,
              "#0d0887"
             ],
             [
              0.1111111111111111,
              "#46039f"
             ],
             [
              0.2222222222222222,
              "#7201a8"
             ],
             [
              0.3333333333333333,
              "#9c179e"
             ],
             [
              0.4444444444444444,
              "#bd3786"
             ],
             [
              0.5555555555555556,
              "#d8576b"
             ],
             [
              0.6666666666666666,
              "#ed7953"
             ],
             [
              0.7777777777777778,
              "#fb9f3a"
             ],
             [
              0.8888888888888888,
              "#fdca26"
             ],
             [
              1,
              "#f0f921"
             ]
            ],
            "type": "histogram2d"
           }
          ],
          "histogram2dcontour": [
           {
            "colorbar": {
             "outlinewidth": 0,
             "ticks": ""
            },
            "colorscale": [
             [
              0,
              "#0d0887"
             ],
             [
              0.1111111111111111,
              "#46039f"
             ],
             [
              0.2222222222222222,
              "#7201a8"
             ],
             [
              0.3333333333333333,
              "#9c179e"
             ],
             [
              0.4444444444444444,
              "#bd3786"
             ],
             [
              0.5555555555555556,
              "#d8576b"
             ],
             [
              0.6666666666666666,
              "#ed7953"
             ],
             [
              0.7777777777777778,
              "#fb9f3a"
             ],
             [
              0.8888888888888888,
              "#fdca26"
             ],
             [
              1,
              "#f0f921"
             ]
            ],
            "type": "histogram2dcontour"
           }
          ],
          "mesh3d": [
           {
            "colorbar": {
             "outlinewidth": 0,
             "ticks": ""
            },
            "type": "mesh3d"
           }
          ],
          "parcoords": [
           {
            "line": {
             "colorbar": {
              "outlinewidth": 0,
              "ticks": ""
             }
            },
            "type": "parcoords"
           }
          ],
          "pie": [
           {
            "automargin": true,
            "type": "pie"
           }
          ],
          "scatter": [
           {
            "fillpattern": {
             "fillmode": "overlay",
             "size": 10,
             "solidity": 0.2
            },
            "type": "scatter"
           }
          ],
          "scatter3d": [
           {
            "line": {
             "colorbar": {
              "outlinewidth": 0,
              "ticks": ""
             }
            },
            "marker": {
             "colorbar": {
              "outlinewidth": 0,
              "ticks": ""
             }
            },
            "type": "scatter3d"
           }
          ],
          "scattercarpet": [
           {
            "marker": {
             "colorbar": {
              "outlinewidth": 0,
              "ticks": ""
             }
            },
            "type": "scattercarpet"
           }
          ],
          "scattergeo": [
           {
            "marker": {
             "colorbar": {
              "outlinewidth": 0,
              "ticks": ""
             }
            },
            "type": "scattergeo"
           }
          ],
          "scattergl": [
           {
            "marker": {
             "colorbar": {
              "outlinewidth": 0,
              "ticks": ""
             }
            },
            "type": "scattergl"
           }
          ],
          "scattermapbox": [
           {
            "marker": {
             "colorbar": {
              "outlinewidth": 0,
              "ticks": ""
             }
            },
            "type": "scattermapbox"
           }
          ],
          "scatterpolar": [
           {
            "marker": {
             "colorbar": {
              "outlinewidth": 0,
              "ticks": ""
             }
            },
            "type": "scatterpolar"
           }
          ],
          "scatterpolargl": [
           {
            "marker": {
             "colorbar": {
              "outlinewidth": 0,
              "ticks": ""
             }
            },
            "type": "scatterpolargl"
           }
          ],
          "scatterternary": [
           {
            "marker": {
             "colorbar": {
              "outlinewidth": 0,
              "ticks": ""
             }
            },
            "type": "scatterternary"
           }
          ],
          "surface": [
           {
            "colorbar": {
             "outlinewidth": 0,
             "ticks": ""
            },
            "colorscale": [
             [
              0,
              "#0d0887"
             ],
             [
              0.1111111111111111,
              "#46039f"
             ],
             [
              0.2222222222222222,
              "#7201a8"
             ],
             [
              0.3333333333333333,
              "#9c179e"
             ],
             [
              0.4444444444444444,
              "#bd3786"
             ],
             [
              0.5555555555555556,
              "#d8576b"
             ],
             [
              0.6666666666666666,
              "#ed7953"
             ],
             [
              0.7777777777777778,
              "#fb9f3a"
             ],
             [
              0.8888888888888888,
              "#fdca26"
             ],
             [
              1,
              "#f0f921"
             ]
            ],
            "type": "surface"
           }
          ],
          "table": [
           {
            "cells": {
             "fill": {
              "color": "#EBF0F8"
             },
             "line": {
              "color": "white"
             }
            },
            "header": {
             "fill": {
              "color": "#C8D4E3"
             },
             "line": {
              "color": "white"
             }
            },
            "type": "table"
           }
          ]
         },
         "layout": {
          "annotationdefaults": {
           "arrowcolor": "#2a3f5f",
           "arrowhead": 0,
           "arrowwidth": 1
          },
          "autotypenumbers": "strict",
          "coloraxis": {
           "colorbar": {
            "outlinewidth": 0,
            "ticks": ""
           }
          },
          "colorscale": {
           "diverging": [
            [
             0,
             "#8e0152"
            ],
            [
             0.1,
             "#c51b7d"
            ],
            [
             0.2,
             "#de77ae"
            ],
            [
             0.3,
             "#f1b6da"
            ],
            [
             0.4,
             "#fde0ef"
            ],
            [
             0.5,
             "#f7f7f7"
            ],
            [
             0.6,
             "#e6f5d0"
            ],
            [
             0.7,
             "#b8e186"
            ],
            [
             0.8,
             "#7fbc41"
            ],
            [
             0.9,
             "#4d9221"
            ],
            [
             1,
             "#276419"
            ]
           ],
           "sequential": [
            [
             0,
             "#0d0887"
            ],
            [
             0.1111111111111111,
             "#46039f"
            ],
            [
             0.2222222222222222,
             "#7201a8"
            ],
            [
             0.3333333333333333,
             "#9c179e"
            ],
            [
             0.4444444444444444,
             "#bd3786"
            ],
            [
             0.5555555555555556,
             "#d8576b"
            ],
            [
             0.6666666666666666,
             "#ed7953"
            ],
            [
             0.7777777777777778,
             "#fb9f3a"
            ],
            [
             0.8888888888888888,
             "#fdca26"
            ],
            [
             1,
             "#f0f921"
            ]
           ],
           "sequentialminus": [
            [
             0,
             "#0d0887"
            ],
            [
             0.1111111111111111,
             "#46039f"
            ],
            [
             0.2222222222222222,
             "#7201a8"
            ],
            [
             0.3333333333333333,
             "#9c179e"
            ],
            [
             0.4444444444444444,
             "#bd3786"
            ],
            [
             0.5555555555555556,
             "#d8576b"
            ],
            [
             0.6666666666666666,
             "#ed7953"
            ],
            [
             0.7777777777777778,
             "#fb9f3a"
            ],
            [
             0.8888888888888888,
             "#fdca26"
            ],
            [
             1,
             "#f0f921"
            ]
           ]
          },
          "colorway": [
           "#636efa",
           "#EF553B",
           "#00cc96",
           "#ab63fa",
           "#FFA15A",
           "#19d3f3",
           "#FF6692",
           "#B6E880",
           "#FF97FF",
           "#FECB52"
          ],
          "font": {
           "color": "#2a3f5f"
          },
          "geo": {
           "bgcolor": "white",
           "lakecolor": "white",
           "landcolor": "#E5ECF6",
           "showlakes": true,
           "showland": true,
           "subunitcolor": "white"
          },
          "hoverlabel": {
           "align": "left"
          },
          "hovermode": "closest",
          "mapbox": {
           "style": "light"
          },
          "paper_bgcolor": "white",
          "plot_bgcolor": "#E5ECF6",
          "polar": {
           "angularaxis": {
            "gridcolor": "white",
            "linecolor": "white",
            "ticks": ""
           },
           "bgcolor": "#E5ECF6",
           "radialaxis": {
            "gridcolor": "white",
            "linecolor": "white",
            "ticks": ""
           }
          },
          "scene": {
           "xaxis": {
            "backgroundcolor": "#E5ECF6",
            "gridcolor": "white",
            "gridwidth": 2,
            "linecolor": "white",
            "showbackground": true,
            "ticks": "",
            "zerolinecolor": "white"
           },
           "yaxis": {
            "backgroundcolor": "#E5ECF6",
            "gridcolor": "white",
            "gridwidth": 2,
            "linecolor": "white",
            "showbackground": true,
            "ticks": "",
            "zerolinecolor": "white"
           },
           "zaxis": {
            "backgroundcolor": "#E5ECF6",
            "gridcolor": "white",
            "gridwidth": 2,
            "linecolor": "white",
            "showbackground": true,
            "ticks": "",
            "zerolinecolor": "white"
           }
          },
          "shapedefaults": {
           "line": {
            "color": "#2a3f5f"
           }
          },
          "ternary": {
           "aaxis": {
            "gridcolor": "white",
            "linecolor": "white",
            "ticks": ""
           },
           "baxis": {
            "gridcolor": "white",
            "linecolor": "white",
            "ticks": ""
           },
           "bgcolor": "#E5ECF6",
           "caxis": {
            "gridcolor": "white",
            "linecolor": "white",
            "ticks": ""
           }
          },
          "title": {
           "x": 0.05
          },
          "xaxis": {
           "automargin": true,
           "gridcolor": "white",
           "linecolor": "white",
           "ticks": "",
           "title": {
            "standoff": 15
           },
           "zerolinecolor": "white",
           "zerolinewidth": 2
          },
          "yaxis": {
           "automargin": true,
           "gridcolor": "white",
           "linecolor": "white",
           "ticks": "",
           "title": {
            "standoff": 15
           },
           "zerolinecolor": "white",
           "zerolinewidth": 2
          }
         }
        },
        "title": {
         "font": {
          "color": "#4D5663"
         },
         "text": "Articles by Publication"
        },
        "xaxis": {
         "gridcolor": "#E1E5ED",
         "linecolor": "black",
         "showgrid": true,
         "tickfont": {
          "color": "#4D5663"
         },
         "title": {
          "font": {
           "color": "#4D5663"
          },
          "text": ""
         },
         "zerolinecolor": "#E1E5ED"
        },
        "yaxis": {
         "gridcolor": "#E1E5ED",
         "linecolor": "black",
         "showgrid": true,
         "tickfont": {
          "color": "#4D5663"
         },
         "title": {
          "font": {
           "color": "#4D5663"
          },
          "text": "Number of Articles"
         },
         "zerolinecolor": "#E1E5ED"
        }
       }
      },
      "text/html": [
       "<div>                            <div id=\"54230e15-be8d-4a43-a8a4-6185ca084b19\" class=\"plotly-graph-div\" style=\"height:525px; width:100%;\"></div>            <script type=\"text/javascript\">                require([\"plotly\"], function(Plotly) {                    window.PLOTLYENV=window.PLOTLYENV || {};\n",
       "                    window.PLOTLYENV.BASE_URL='https://plot.ly';                                    if (document.getElementById(\"54230e15-be8d-4a43-a8a4-6185ca084b19\")) {                    Plotly.newPlot(                        \"54230e15-be8d-4a43-a8a4-6185ca084b19\",                        [{\"marker\":{\"color\":\"rgba(255, 153, 51, 0.6)\",\"line\":{\"color\":\"rgba(255, 153, 51, 1.0)\",\"width\":1}},\"name\":\"ShareWomen\",\"orientation\":\"v\",\"text\":\"\",\"x\":[\"Health\",\"Psychology & Social Work\",\"Interdisciplinary\",\"Education\"],\"y\":[0.7951519023333334,0.7943969888888889,0.770901106,0.74850749475],\"type\":\"bar\"}],                        {\"legend\":{\"bgcolor\":\"#F5F6F9\",\"font\":{\"color\":\"#4D5663\"}},\"paper_bgcolor\":\"#F5F6F9\",\"plot_bgcolor\":\"#F5F6F9\",\"template\":{\"data\":{\"barpolar\":[{\"marker\":{\"line\":{\"color\":\"#E5ECF6\",\"width\":0.5},\"pattern\":{\"fillmode\":\"overlay\",\"size\":10,\"solidity\":0.2}},\"type\":\"barpolar\"}],\"bar\":[{\"error_x\":{\"color\":\"#2a3f5f\"},\"error_y\":{\"color\":\"#2a3f5f\"},\"marker\":{\"line\":{\"color\":\"#E5ECF6\",\"width\":0.5},\"pattern\":{\"fillmode\":\"overlay\",\"size\":10,\"solidity\":0.2}},\"type\":\"bar\"}],\"carpet\":[{\"aaxis\":{\"endlinecolor\":\"#2a3f5f\",\"gridcolor\":\"white\",\"linecolor\":\"white\",\"minorgridcolor\":\"white\",\"startlinecolor\":\"#2a3f5f\"},\"baxis\":{\"endlinecolor\":\"#2a3f5f\",\"gridcolor\":\"white\",\"linecolor\":\"white\",\"minorgridcolor\":\"white\",\"startlinecolor\":\"#2a3f5f\"},\"type\":\"carpet\"}],\"choropleth\":[{\"colorbar\":{\"outlinewidth\":0,\"ticks\":\"\"},\"type\":\"choropleth\"}],\"contourcarpet\":[{\"colorbar\":{\"outlinewidth\":0,\"ticks\":\"\"},\"type\":\"contourcarpet\"}],\"contour\":[{\"colorbar\":{\"outlinewidth\":0,\"ticks\":\"\"},\"colorscale\":[[0.0,\"#0d0887\"],[0.1111111111111111,\"#46039f\"],[0.2222222222222222,\"#7201a8\"],[0.3333333333333333,\"#9c179e\"],[0.4444444444444444,\"#bd3786\"],[0.5555555555555556,\"#d8576b\"],[0.6666666666666666,\"#ed7953\"],[0.7777777777777778,\"#fb9f3a\"],[0.8888888888888888,\"#fdca26\"],[1.0,\"#f0f921\"]],\"type\":\"contour\"}],\"heatmapgl\":[{\"colorbar\":{\"outlinewidth\":0,\"ticks\":\"\"},\"colorscale\":[[0.0,\"#0d0887\"],[0.1111111111111111,\"#46039f\"],[0.2222222222222222,\"#7201a8\"],[0.3333333333333333,\"#9c179e\"],[0.4444444444444444,\"#bd3786\"],[0.5555555555555556,\"#d8576b\"],[0.6666666666666666,\"#ed7953\"],[0.7777777777777778,\"#fb9f3a\"],[0.8888888888888888,\"#fdca26\"],[1.0,\"#f0f921\"]],\"type\":\"heatmapgl\"}],\"heatmap\":[{\"colorbar\":{\"outlinewidth\":0,\"ticks\":\"\"},\"colorscale\":[[0.0,\"#0d0887\"],[0.1111111111111111,\"#46039f\"],[0.2222222222222222,\"#7201a8\"],[0.3333333333333333,\"#9c179e\"],[0.4444444444444444,\"#bd3786\"],[0.5555555555555556,\"#d8576b\"],[0.6666666666666666,\"#ed7953\"],[0.7777777777777778,\"#fb9f3a\"],[0.8888888888888888,\"#fdca26\"],[1.0,\"#f0f921\"]],\"type\":\"heatmap\"}],\"histogram2dcontour\":[{\"colorbar\":{\"outlinewidth\":0,\"ticks\":\"\"},\"colorscale\":[[0.0,\"#0d0887\"],[0.1111111111111111,\"#46039f\"],[0.2222222222222222,\"#7201a8\"],[0.3333333333333333,\"#9c179e\"],[0.4444444444444444,\"#bd3786\"],[0.5555555555555556,\"#d8576b\"],[0.6666666666666666,\"#ed7953\"],[0.7777777777777778,\"#fb9f3a\"],[0.8888888888888888,\"#fdca26\"],[1.0,\"#f0f921\"]],\"type\":\"histogram2dcontour\"}],\"histogram2d\":[{\"colorbar\":{\"outlinewidth\":0,\"ticks\":\"\"},\"colorscale\":[[0.0,\"#0d0887\"],[0.1111111111111111,\"#46039f\"],[0.2222222222222222,\"#7201a8\"],[0.3333333333333333,\"#9c179e\"],[0.4444444444444444,\"#bd3786\"],[0.5555555555555556,\"#d8576b\"],[0.6666666666666666,\"#ed7953\"],[0.7777777777777778,\"#fb9f3a\"],[0.8888888888888888,\"#fdca26\"],[1.0,\"#f0f921\"]],\"type\":\"histogram2d\"}],\"histogram\":[{\"marker\":{\"pattern\":{\"fillmode\":\"overlay\",\"size\":10,\"solidity\":0.2}},\"type\":\"histogram\"}],\"mesh3d\":[{\"colorbar\":{\"outlinewidth\":0,\"ticks\":\"\"},\"type\":\"mesh3d\"}],\"parcoords\":[{\"line\":{\"colorbar\":{\"outlinewidth\":0,\"ticks\":\"\"}},\"type\":\"parcoords\"}],\"pie\":[{\"automargin\":true,\"type\":\"pie\"}],\"scatter3d\":[{\"line\":{\"colorbar\":{\"outlinewidth\":0,\"ticks\":\"\"}},\"marker\":{\"colorbar\":{\"outlinewidth\":0,\"ticks\":\"\"}},\"type\":\"scatter3d\"}],\"scattercarpet\":[{\"marker\":{\"colorbar\":{\"outlinewidth\":0,\"ticks\":\"\"}},\"type\":\"scattercarpet\"}],\"scattergeo\":[{\"marker\":{\"colorbar\":{\"outlinewidth\":0,\"ticks\":\"\"}},\"type\":\"scattergeo\"}],\"scattergl\":[{\"marker\":{\"colorbar\":{\"outlinewidth\":0,\"ticks\":\"\"}},\"type\":\"scattergl\"}],\"scattermapbox\":[{\"marker\":{\"colorbar\":{\"outlinewidth\":0,\"ticks\":\"\"}},\"type\":\"scattermapbox\"}],\"scatterpolargl\":[{\"marker\":{\"colorbar\":{\"outlinewidth\":0,\"ticks\":\"\"}},\"type\":\"scatterpolargl\"}],\"scatterpolar\":[{\"marker\":{\"colorbar\":{\"outlinewidth\":0,\"ticks\":\"\"}},\"type\":\"scatterpolar\"}],\"scatter\":[{\"fillpattern\":{\"fillmode\":\"overlay\",\"size\":10,\"solidity\":0.2},\"type\":\"scatter\"}],\"scatterternary\":[{\"marker\":{\"colorbar\":{\"outlinewidth\":0,\"ticks\":\"\"}},\"type\":\"scatterternary\"}],\"surface\":[{\"colorbar\":{\"outlinewidth\":0,\"ticks\":\"\"},\"colorscale\":[[0.0,\"#0d0887\"],[0.1111111111111111,\"#46039f\"],[0.2222222222222222,\"#7201a8\"],[0.3333333333333333,\"#9c179e\"],[0.4444444444444444,\"#bd3786\"],[0.5555555555555556,\"#d8576b\"],[0.6666666666666666,\"#ed7953\"],[0.7777777777777778,\"#fb9f3a\"],[0.8888888888888888,\"#fdca26\"],[1.0,\"#f0f921\"]],\"type\":\"surface\"}],\"table\":[{\"cells\":{\"fill\":{\"color\":\"#EBF0F8\"},\"line\":{\"color\":\"white\"}},\"header\":{\"fill\":{\"color\":\"#C8D4E3\"},\"line\":{\"color\":\"white\"}},\"type\":\"table\"}]},\"layout\":{\"annotationdefaults\":{\"arrowcolor\":\"#2a3f5f\",\"arrowhead\":0,\"arrowwidth\":1},\"autotypenumbers\":\"strict\",\"coloraxis\":{\"colorbar\":{\"outlinewidth\":0,\"ticks\":\"\"}},\"colorscale\":{\"diverging\":[[0,\"#8e0152\"],[0.1,\"#c51b7d\"],[0.2,\"#de77ae\"],[0.3,\"#f1b6da\"],[0.4,\"#fde0ef\"],[0.5,\"#f7f7f7\"],[0.6,\"#e6f5d0\"],[0.7,\"#b8e186\"],[0.8,\"#7fbc41\"],[0.9,\"#4d9221\"],[1,\"#276419\"]],\"sequential\":[[0.0,\"#0d0887\"],[0.1111111111111111,\"#46039f\"],[0.2222222222222222,\"#7201a8\"],[0.3333333333333333,\"#9c179e\"],[0.4444444444444444,\"#bd3786\"],[0.5555555555555556,\"#d8576b\"],[0.6666666666666666,\"#ed7953\"],[0.7777777777777778,\"#fb9f3a\"],[0.8888888888888888,\"#fdca26\"],[1.0,\"#f0f921\"]],\"sequentialminus\":[[0.0,\"#0d0887\"],[0.1111111111111111,\"#46039f\"],[0.2222222222222222,\"#7201a8\"],[0.3333333333333333,\"#9c179e\"],[0.4444444444444444,\"#bd3786\"],[0.5555555555555556,\"#d8576b\"],[0.6666666666666666,\"#ed7953\"],[0.7777777777777778,\"#fb9f3a\"],[0.8888888888888888,\"#fdca26\"],[1.0,\"#f0f921\"]]},\"colorway\":[\"#636efa\",\"#EF553B\",\"#00cc96\",\"#ab63fa\",\"#FFA15A\",\"#19d3f3\",\"#FF6692\",\"#B6E880\",\"#FF97FF\",\"#FECB52\"],\"font\":{\"color\":\"#2a3f5f\"},\"geo\":{\"bgcolor\":\"white\",\"lakecolor\":\"white\",\"landcolor\":\"#E5ECF6\",\"showlakes\":true,\"showland\":true,\"subunitcolor\":\"white\"},\"hoverlabel\":{\"align\":\"left\"},\"hovermode\":\"closest\",\"mapbox\":{\"style\":\"light\"},\"paper_bgcolor\":\"white\",\"plot_bgcolor\":\"#E5ECF6\",\"polar\":{\"angularaxis\":{\"gridcolor\":\"white\",\"linecolor\":\"white\",\"ticks\":\"\"},\"bgcolor\":\"#E5ECF6\",\"radialaxis\":{\"gridcolor\":\"white\",\"linecolor\":\"white\",\"ticks\":\"\"}},\"scene\":{\"xaxis\":{\"backgroundcolor\":\"#E5ECF6\",\"gridcolor\":\"white\",\"gridwidth\":2,\"linecolor\":\"white\",\"showbackground\":true,\"ticks\":\"\",\"zerolinecolor\":\"white\"},\"yaxis\":{\"backgroundcolor\":\"#E5ECF6\",\"gridcolor\":\"white\",\"gridwidth\":2,\"linecolor\":\"white\",\"showbackground\":true,\"ticks\":\"\",\"zerolinecolor\":\"white\"},\"zaxis\":{\"backgroundcolor\":\"#E5ECF6\",\"gridcolor\":\"white\",\"gridwidth\":2,\"linecolor\":\"white\",\"showbackground\":true,\"ticks\":\"\",\"zerolinecolor\":\"white\"}},\"shapedefaults\":{\"line\":{\"color\":\"#2a3f5f\"}},\"ternary\":{\"aaxis\":{\"gridcolor\":\"white\",\"linecolor\":\"white\",\"ticks\":\"\"},\"baxis\":{\"gridcolor\":\"white\",\"linecolor\":\"white\",\"ticks\":\"\"},\"bgcolor\":\"#E5ECF6\",\"caxis\":{\"gridcolor\":\"white\",\"linecolor\":\"white\",\"ticks\":\"\"}},\"title\":{\"x\":0.05},\"xaxis\":{\"automargin\":true,\"gridcolor\":\"white\",\"linecolor\":\"white\",\"ticks\":\"\",\"title\":{\"standoff\":15},\"zerolinecolor\":\"white\",\"zerolinewidth\":2},\"yaxis\":{\"automargin\":true,\"gridcolor\":\"white\",\"linecolor\":\"white\",\"ticks\":\"\",\"title\":{\"standoff\":15},\"zerolinecolor\":\"white\",\"zerolinewidth\":2}}},\"title\":{\"font\":{\"color\":\"#4D5663\"},\"text\":\"Articles by Publication\"},\"xaxis\":{\"gridcolor\":\"#E1E5ED\",\"linecolor\":\"black\",\"showgrid\":true,\"tickfont\":{\"color\":\"#4D5663\"},\"title\":{\"font\":{\"color\":\"#4D5663\"},\"text\":\"\"},\"zerolinecolor\":\"#E1E5ED\"},\"yaxis\":{\"gridcolor\":\"#E1E5ED\",\"linecolor\":\"black\",\"showgrid\":true,\"tickfont\":{\"color\":\"#4D5663\"},\"title\":{\"font\":{\"color\":\"#4D5663\"},\"text\":\"Number of Articles\"},\"zerolinecolor\":\"#E1E5ED\"}},                        {\"showLink\": true, \"linkText\": \"Export to plot.ly\", \"plotlyServerURL\": \"https://plot.ly\", \"responsive\": true}                    ).then(function(){\n",
       "                            \n",
       "var gd = document.getElementById('54230e15-be8d-4a43-a8a4-6185ca084b19');\n",
       "var x = new MutationObserver(function (mutations, observer) {{\n",
       "        var display = window.getComputedStyle(gd).display;\n",
       "        if (!display || display === 'none') {{\n",
       "            console.log([gd, 'removed!']);\n",
       "            Plotly.purge(gd);\n",
       "            observer.disconnect();\n",
       "        }}\n",
       "}});\n",
       "\n",
       "// Listen for the removal of the full notebook cells\n",
       "var notebookContainer = gd.closest('#notebook-container');\n",
       "if (notebookContainer) {{\n",
       "    x.observe(notebookContainer, {childList: true});\n",
       "}}\n",
       "\n",
       "// Listen for the clearing of the current output cell\n",
       "var outputEl = gd.closest('.output');\n",
       "if (outputEl) {{\n",
       "    x.observe(outputEl, {childList: true});\n",
       "}}\n",
       "\n",
       "                        })                };                });            </script>        </div>"
      ]
     },
     "metadata": {},
     "output_type": "display_data"
    }
   ],
   "source": [
    "df.groupby(\"Major_category\").mean()[\"ShareWomen\"].nlargest(4).iplot(\n",
    "    kind=\"bar\",\n",
    "    yTitle=\"Number of Articles\",\n",
    "    linecolor=\"black\",\n",
    "    title=\"Articles by Publication\",\n",
    ")"
   ]
  },
  {
   "cell_type": "code",
   "execution_count": 17,
   "metadata": {},
   "outputs": [
    {
     "data": {
      "application/vnd.plotly.v1+json": {
       "config": {
        "linkText": "Export to plot.ly",
        "plotlyServerURL": "https://plot.ly",
        "showLink": true
       },
       "data": [
        {
         "line": {
          "color": "rgba(255, 153, 51, 1.0)",
          "dash": "solid",
          "shape": "linear",
          "width": 1.3
         },
         "marker": {
          "size": 12,
          "symbol": "circle"
         },
         "mode": "markers",
         "name": "Full_time_year_round",
         "text": [
          "PETROLEUM ENGINEERING",
          "MINING AND MINERAL ENGINEERING",
          "METALLURGICAL ENGINEERING",
          "NAVAL ARCHITECTURE AND MARINE ENGINEERING",
          "CHEMICAL ENGINEERING",
          "NUCLEAR ENGINEERING",
          "MECHANICAL ENGINEERING",
          "ELECTRICAL ENGINEERING",
          "COMPUTER ENGINEERING",
          "AEROSPACE ENGINEERING",
          "BIOMEDICAL ENGINEERING",
          "MATERIALS SCIENCE",
          "ENGINEERING MECHANICS PHYSICS AND SCIENCE",
          "BIOLOGICAL ENGINEERING",
          "INDUSTRIAL AND MANUFACTURING ENGINEERING",
          "GENERAL ENGINEERING",
          "ARCHITECTURAL ENGINEERING",
          "ELECTRICAL ENGINEERING TECHNOLOGY",
          "MATERIALS ENGINEERING AND MATERIALS SCIENCE",
          "CIVIL ENGINEERING",
          "MISCELLANEOUS ENGINEERING",
          "ENVIRONMENTAL ENGINEERING",
          "ENGINEERING TECHNOLOGIES",
          "GEOLOGICAL AND GEOPHYSICAL ENGINEERING",
          "INDUSTRIAL PRODUCTION TECHNOLOGIES",
          "ENGINEERING AND INDUSTRIAL MANAGEMENT",
          "ARCHITECTURE",
          "MISCELLANEOUS ENGINEERING TECHNOLOGIES",
          "MECHANICAL ENGINEERING RELATED TECHNOLOGIES"
         ],
         "type": "scatter",
         "x": [
          0.018380527,
          0.117241379,
          0.024096386,
          0.050125313,
          0.061097712,
          0.177226407,
          0.057342278,
          0.059173845,
          0.065409275,
          0.065162085,
          0.09208386,
          0.023042836,
          0.006334343,
          0.087143069,
          0.042875544,
          0.059824231,
          0.061930783,
          0.087557114,
          0.027788805,
          0.070609574,
          0.074392523,
          0.093588575,
          0.055030385,
          0.075038285,
          0.028308097,
          0.03365166,
          0.113331949,
          0.05253852,
          0.056357078
         ],
         "y": [
          1207,
          388,
          340,
          692,
          16697,
          1449,
          54639,
          41413,
          23621,
          8790,
          5986,
          1967,
          2004,
          3413,
          11326,
          33540,
          1848,
          5681,
          1151,
          29196,
          5476,
          1951,
          1723,
          396,
          3242,
          1358,
          20026,
          5825,
          3607
         ]
        }
       ],
       "layout": {
        "legend": {
         "bgcolor": "#F5F6F9",
         "font": {
          "color": "#4D5663"
         }
        },
        "paper_bgcolor": "#F5F6F9",
        "plot_bgcolor": "#F5F6F9",
        "template": {
         "data": {
          "bar": [
           {
            "error_x": {
             "color": "#2a3f5f"
            },
            "error_y": {
             "color": "#2a3f5f"
            },
            "marker": {
             "line": {
              "color": "#E5ECF6",
              "width": 0.5
             },
             "pattern": {
              "fillmode": "overlay",
              "size": 10,
              "solidity": 0.2
             }
            },
            "type": "bar"
           }
          ],
          "barpolar": [
           {
            "marker": {
             "line": {
              "color": "#E5ECF6",
              "width": 0.5
             },
             "pattern": {
              "fillmode": "overlay",
              "size": 10,
              "solidity": 0.2
             }
            },
            "type": "barpolar"
           }
          ],
          "carpet": [
           {
            "aaxis": {
             "endlinecolor": "#2a3f5f",
             "gridcolor": "white",
             "linecolor": "white",
             "minorgridcolor": "white",
             "startlinecolor": "#2a3f5f"
            },
            "baxis": {
             "endlinecolor": "#2a3f5f",
             "gridcolor": "white",
             "linecolor": "white",
             "minorgridcolor": "white",
             "startlinecolor": "#2a3f5f"
            },
            "type": "carpet"
           }
          ],
          "choropleth": [
           {
            "colorbar": {
             "outlinewidth": 0,
             "ticks": ""
            },
            "type": "choropleth"
           }
          ],
          "contour": [
           {
            "colorbar": {
             "outlinewidth": 0,
             "ticks": ""
            },
            "colorscale": [
             [
              0,
              "#0d0887"
             ],
             [
              0.1111111111111111,
              "#46039f"
             ],
             [
              0.2222222222222222,
              "#7201a8"
             ],
             [
              0.3333333333333333,
              "#9c179e"
             ],
             [
              0.4444444444444444,
              "#bd3786"
             ],
             [
              0.5555555555555556,
              "#d8576b"
             ],
             [
              0.6666666666666666,
              "#ed7953"
             ],
             [
              0.7777777777777778,
              "#fb9f3a"
             ],
             [
              0.8888888888888888,
              "#fdca26"
             ],
             [
              1,
              "#f0f921"
             ]
            ],
            "type": "contour"
           }
          ],
          "contourcarpet": [
           {
            "colorbar": {
             "outlinewidth": 0,
             "ticks": ""
            },
            "type": "contourcarpet"
           }
          ],
          "heatmap": [
           {
            "colorbar": {
             "outlinewidth": 0,
             "ticks": ""
            },
            "colorscale": [
             [
              0,
              "#0d0887"
             ],
             [
              0.1111111111111111,
              "#46039f"
             ],
             [
              0.2222222222222222,
              "#7201a8"
             ],
             [
              0.3333333333333333,
              "#9c179e"
             ],
             [
              0.4444444444444444,
              "#bd3786"
             ],
             [
              0.5555555555555556,
              "#d8576b"
             ],
             [
              0.6666666666666666,
              "#ed7953"
             ],
             [
              0.7777777777777778,
              "#fb9f3a"
             ],
             [
              0.8888888888888888,
              "#fdca26"
             ],
             [
              1,
              "#f0f921"
             ]
            ],
            "type": "heatmap"
           }
          ],
          "heatmapgl": [
           {
            "colorbar": {
             "outlinewidth": 0,
             "ticks": ""
            },
            "colorscale": [
             [
              0,
              "#0d0887"
             ],
             [
              0.1111111111111111,
              "#46039f"
             ],
             [
              0.2222222222222222,
              "#7201a8"
             ],
             [
              0.3333333333333333,
              "#9c179e"
             ],
             [
              0.4444444444444444,
              "#bd3786"
             ],
             [
              0.5555555555555556,
              "#d8576b"
             ],
             [
              0.6666666666666666,
              "#ed7953"
             ],
             [
              0.7777777777777778,
              "#fb9f3a"
             ],
             [
              0.8888888888888888,
              "#fdca26"
             ],
             [
              1,
              "#f0f921"
             ]
            ],
            "type": "heatmapgl"
           }
          ],
          "histogram": [
           {
            "marker": {
             "pattern": {
              "fillmode": "overlay",
              "size": 10,
              "solidity": 0.2
             }
            },
            "type": "histogram"
           }
          ],
          "histogram2d": [
           {
            "colorbar": {
             "outlinewidth": 0,
             "ticks": ""
            },
            "colorscale": [
             [
              0,
              "#0d0887"
             ],
             [
              0.1111111111111111,
              "#46039f"
             ],
             [
              0.2222222222222222,
              "#7201a8"
             ],
             [
              0.3333333333333333,
              "#9c179e"
             ],
             [
              0.4444444444444444,
              "#bd3786"
             ],
             [
              0.5555555555555556,
              "#d8576b"
             ],
             [
              0.6666666666666666,
              "#ed7953"
             ],
             [
              0.7777777777777778,
              "#fb9f3a"
             ],
             [
              0.8888888888888888,
              "#fdca26"
             ],
             [
              1,
              "#f0f921"
             ]
            ],
            "type": "histogram2d"
           }
          ],
          "histogram2dcontour": [
           {
            "colorbar": {
             "outlinewidth": 0,
             "ticks": ""
            },
            "colorscale": [
             [
              0,
              "#0d0887"
             ],
             [
              0.1111111111111111,
              "#46039f"
             ],
             [
              0.2222222222222222,
              "#7201a8"
             ],
             [
              0.3333333333333333,
              "#9c179e"
             ],
             [
              0.4444444444444444,
              "#bd3786"
             ],
             [
              0.5555555555555556,
              "#d8576b"
             ],
             [
              0.6666666666666666,
              "#ed7953"
             ],
             [
              0.7777777777777778,
              "#fb9f3a"
             ],
             [
              0.8888888888888888,
              "#fdca26"
             ],
             [
              1,
              "#f0f921"
             ]
            ],
            "type": "histogram2dcontour"
           }
          ],
          "mesh3d": [
           {
            "colorbar": {
             "outlinewidth": 0,
             "ticks": ""
            },
            "type": "mesh3d"
           }
          ],
          "parcoords": [
           {
            "line": {
             "colorbar": {
              "outlinewidth": 0,
              "ticks": ""
             }
            },
            "type": "parcoords"
           }
          ],
          "pie": [
           {
            "automargin": true,
            "type": "pie"
           }
          ],
          "scatter": [
           {
            "fillpattern": {
             "fillmode": "overlay",
             "size": 10,
             "solidity": 0.2
            },
            "type": "scatter"
           }
          ],
          "scatter3d": [
           {
            "line": {
             "colorbar": {
              "outlinewidth": 0,
              "ticks": ""
             }
            },
            "marker": {
             "colorbar": {
              "outlinewidth": 0,
              "ticks": ""
             }
            },
            "type": "scatter3d"
           }
          ],
          "scattercarpet": [
           {
            "marker": {
             "colorbar": {
              "outlinewidth": 0,
              "ticks": ""
             }
            },
            "type": "scattercarpet"
           }
          ],
          "scattergeo": [
           {
            "marker": {
             "colorbar": {
              "outlinewidth": 0,
              "ticks": ""
             }
            },
            "type": "scattergeo"
           }
          ],
          "scattergl": [
           {
            "marker": {
             "colorbar": {
              "outlinewidth": 0,
              "ticks": ""
             }
            },
            "type": "scattergl"
           }
          ],
          "scattermapbox": [
           {
            "marker": {
             "colorbar": {
              "outlinewidth": 0,
              "ticks": ""
             }
            },
            "type": "scattermapbox"
           }
          ],
          "scatterpolar": [
           {
            "marker": {
             "colorbar": {
              "outlinewidth": 0,
              "ticks": ""
             }
            },
            "type": "scatterpolar"
           }
          ],
          "scatterpolargl": [
           {
            "marker": {
             "colorbar": {
              "outlinewidth": 0,
              "ticks": ""
             }
            },
            "type": "scatterpolargl"
           }
          ],
          "scatterternary": [
           {
            "marker": {
             "colorbar": {
              "outlinewidth": 0,
              "ticks": ""
             }
            },
            "type": "scatterternary"
           }
          ],
          "surface": [
           {
            "colorbar": {
             "outlinewidth": 0,
             "ticks": ""
            },
            "colorscale": [
             [
              0,
              "#0d0887"
             ],
             [
              0.1111111111111111,
              "#46039f"
             ],
             [
              0.2222222222222222,
              "#7201a8"
             ],
             [
              0.3333333333333333,
              "#9c179e"
             ],
             [
              0.4444444444444444,
              "#bd3786"
             ],
             [
              0.5555555555555556,
              "#d8576b"
             ],
             [
              0.6666666666666666,
              "#ed7953"
             ],
             [
              0.7777777777777778,
              "#fb9f3a"
             ],
             [
              0.8888888888888888,
              "#fdca26"
             ],
             [
              1,
              "#f0f921"
             ]
            ],
            "type": "surface"
           }
          ],
          "table": [
           {
            "cells": {
             "fill": {
              "color": "#EBF0F8"
             },
             "line": {
              "color": "white"
             }
            },
            "header": {
             "fill": {
              "color": "#C8D4E3"
             },
             "line": {
              "color": "white"
             }
            },
            "type": "table"
           }
          ]
         },
         "layout": {
          "annotationdefaults": {
           "arrowcolor": "#2a3f5f",
           "arrowhead": 0,
           "arrowwidth": 1
          },
          "autotypenumbers": "strict",
          "coloraxis": {
           "colorbar": {
            "outlinewidth": 0,
            "ticks": ""
           }
          },
          "colorscale": {
           "diverging": [
            [
             0,
             "#8e0152"
            ],
            [
             0.1,
             "#c51b7d"
            ],
            [
             0.2,
             "#de77ae"
            ],
            [
             0.3,
             "#f1b6da"
            ],
            [
             0.4,
             "#fde0ef"
            ],
            [
             0.5,
             "#f7f7f7"
            ],
            [
             0.6,
             "#e6f5d0"
            ],
            [
             0.7,
             "#b8e186"
            ],
            [
             0.8,
             "#7fbc41"
            ],
            [
             0.9,
             "#4d9221"
            ],
            [
             1,
             "#276419"
            ]
           ],
           "sequential": [
            [
             0,
             "#0d0887"
            ],
            [
             0.1111111111111111,
             "#46039f"
            ],
            [
             0.2222222222222222,
             "#7201a8"
            ],
            [
             0.3333333333333333,
             "#9c179e"
            ],
            [
             0.4444444444444444,
             "#bd3786"
            ],
            [
             0.5555555555555556,
             "#d8576b"
            ],
            [
             0.6666666666666666,
             "#ed7953"
            ],
            [
             0.7777777777777778,
             "#fb9f3a"
            ],
            [
             0.8888888888888888,
             "#fdca26"
            ],
            [
             1,
             "#f0f921"
            ]
           ],
           "sequentialminus": [
            [
             0,
             "#0d0887"
            ],
            [
             0.1111111111111111,
             "#46039f"
            ],
            [
             0.2222222222222222,
             "#7201a8"
            ],
            [
             0.3333333333333333,
             "#9c179e"
            ],
            [
             0.4444444444444444,
             "#bd3786"
            ],
            [
             0.5555555555555556,
             "#d8576b"
            ],
            [
             0.6666666666666666,
             "#ed7953"
            ],
            [
             0.7777777777777778,
             "#fb9f3a"
            ],
            [
             0.8888888888888888,
             "#fdca26"
            ],
            [
             1,
             "#f0f921"
            ]
           ]
          },
          "colorway": [
           "#636efa",
           "#EF553B",
           "#00cc96",
           "#ab63fa",
           "#FFA15A",
           "#19d3f3",
           "#FF6692",
           "#B6E880",
           "#FF97FF",
           "#FECB52"
          ],
          "font": {
           "color": "#2a3f5f"
          },
          "geo": {
           "bgcolor": "white",
           "lakecolor": "white",
           "landcolor": "#E5ECF6",
           "showlakes": true,
           "showland": true,
           "subunitcolor": "white"
          },
          "hoverlabel": {
           "align": "left"
          },
          "hovermode": "closest",
          "mapbox": {
           "style": "light"
          },
          "paper_bgcolor": "white",
          "plot_bgcolor": "#E5ECF6",
          "polar": {
           "angularaxis": {
            "gridcolor": "white",
            "linecolor": "white",
            "ticks": ""
           },
           "bgcolor": "#E5ECF6",
           "radialaxis": {
            "gridcolor": "white",
            "linecolor": "white",
            "ticks": ""
           }
          },
          "scene": {
           "xaxis": {
            "backgroundcolor": "#E5ECF6",
            "gridcolor": "white",
            "gridwidth": 2,
            "linecolor": "white",
            "showbackground": true,
            "ticks": "",
            "zerolinecolor": "white"
           },
           "yaxis": {
            "backgroundcolor": "#E5ECF6",
            "gridcolor": "white",
            "gridwidth": 2,
            "linecolor": "white",
            "showbackground": true,
            "ticks": "",
            "zerolinecolor": "white"
           },
           "zaxis": {
            "backgroundcolor": "#E5ECF6",
            "gridcolor": "white",
            "gridwidth": 2,
            "linecolor": "white",
            "showbackground": true,
            "ticks": "",
            "zerolinecolor": "white"
           }
          },
          "shapedefaults": {
           "line": {
            "color": "#2a3f5f"
           }
          },
          "ternary": {
           "aaxis": {
            "gridcolor": "white",
            "linecolor": "white",
            "ticks": ""
           },
           "baxis": {
            "gridcolor": "white",
            "linecolor": "white",
            "ticks": ""
           },
           "bgcolor": "#E5ECF6",
           "caxis": {
            "gridcolor": "white",
            "linecolor": "white",
            "ticks": ""
           }
          },
          "title": {
           "x": 0.05
          },
          "xaxis": {
           "automargin": true,
           "gridcolor": "white",
           "linecolor": "white",
           "ticks": "",
           "title": {
            "standoff": 15
           },
           "zerolinecolor": "white",
           "zerolinewidth": 2
          },
          "yaxis": {
           "automargin": true,
           "gridcolor": "white",
           "linecolor": "white",
           "ticks": "",
           "title": {
            "standoff": 15
           },
           "zerolinecolor": "white",
           "zerolinewidth": 2
          }
         }
        },
        "title": {
         "font": {
          "color": "#4D5663"
         },
         "text": "Job Prospects Engineering"
        },
        "xaxis": {
         "gridcolor": "#E1E5ED",
         "showgrid": true,
         "tickfont": {
          "color": "#4D5663"
         },
         "title": {
          "font": {
           "color": "#4D5663"
          },
          "text": "Unemployment rate"
         },
         "zerolinecolor": "#E1E5ED"
        },
        "yaxis": {
         "gridcolor": "#E1E5ED",
         "showgrid": true,
         "tickfont": {
          "color": "#4D5663"
         },
         "title": {
          "font": {
           "color": "#4D5663"
          },
          "text": "Amount of full time year round employees"
         },
         "zerolinecolor": "#E1E5ED"
        }
       }
      },
      "text/html": [
       "<div>                            <div id=\"e91d00de-6d34-4594-af21-b2b93ba5897e\" class=\"plotly-graph-div\" style=\"height:525px; width:100%;\"></div>            <script type=\"text/javascript\">                require([\"plotly\"], function(Plotly) {                    window.PLOTLYENV=window.PLOTLYENV || {};\n",
       "                    window.PLOTLYENV.BASE_URL='https://plot.ly';                                    if (document.getElementById(\"e91d00de-6d34-4594-af21-b2b93ba5897e\")) {                    Plotly.newPlot(                        \"e91d00de-6d34-4594-af21-b2b93ba5897e\",                        [{\"line\":{\"color\":\"rgba(255, 153, 51, 1.0)\",\"dash\":\"solid\",\"shape\":\"linear\",\"width\":1.3},\"marker\":{\"size\":12,\"symbol\":\"circle\"},\"mode\":\"markers\",\"name\":\"Full_time_year_round\",\"text\":[\"PETROLEUM ENGINEERING\",\"MINING AND MINERAL ENGINEERING\",\"METALLURGICAL ENGINEERING\",\"NAVAL ARCHITECTURE AND MARINE ENGINEERING\",\"CHEMICAL ENGINEERING\",\"NUCLEAR ENGINEERING\",\"MECHANICAL ENGINEERING\",\"ELECTRICAL ENGINEERING\",\"COMPUTER ENGINEERING\",\"AEROSPACE ENGINEERING\",\"BIOMEDICAL ENGINEERING\",\"MATERIALS SCIENCE\",\"ENGINEERING MECHANICS PHYSICS AND SCIENCE\",\"BIOLOGICAL ENGINEERING\",\"INDUSTRIAL AND MANUFACTURING ENGINEERING\",\"GENERAL ENGINEERING\",\"ARCHITECTURAL ENGINEERING\",\"ELECTRICAL ENGINEERING TECHNOLOGY\",\"MATERIALS ENGINEERING AND MATERIALS SCIENCE\",\"CIVIL ENGINEERING\",\"MISCELLANEOUS ENGINEERING\",\"ENVIRONMENTAL ENGINEERING\",\"ENGINEERING TECHNOLOGIES\",\"GEOLOGICAL AND GEOPHYSICAL ENGINEERING\",\"INDUSTRIAL PRODUCTION TECHNOLOGIES\",\"ENGINEERING AND INDUSTRIAL MANAGEMENT\",\"ARCHITECTURE\",\"MISCELLANEOUS ENGINEERING TECHNOLOGIES\",\"MECHANICAL ENGINEERING RELATED TECHNOLOGIES\"],\"x\":[0.018380527,0.117241379,0.024096386,0.050125313,0.061097712,0.177226407,0.057342278,0.059173845,0.065409275,0.065162085,0.09208386,0.023042836,0.006334343,0.087143069,0.042875544,0.059824231,0.061930783,0.087557114,0.027788805,0.070609574,0.074392523,0.093588575,0.055030385,0.075038285,0.028308097,0.03365166,0.113331949,0.05253852,0.056357078],\"y\":[1207,388,340,692,16697,1449,54639,41413,23621,8790,5986,1967,2004,3413,11326,33540,1848,5681,1151,29196,5476,1951,1723,396,3242,1358,20026,5825,3607],\"type\":\"scatter\"}],                        {\"legend\":{\"bgcolor\":\"#F5F6F9\",\"font\":{\"color\":\"#4D5663\"}},\"paper_bgcolor\":\"#F5F6F9\",\"plot_bgcolor\":\"#F5F6F9\",\"template\":{\"data\":{\"barpolar\":[{\"marker\":{\"line\":{\"color\":\"#E5ECF6\",\"width\":0.5},\"pattern\":{\"fillmode\":\"overlay\",\"size\":10,\"solidity\":0.2}},\"type\":\"barpolar\"}],\"bar\":[{\"error_x\":{\"color\":\"#2a3f5f\"},\"error_y\":{\"color\":\"#2a3f5f\"},\"marker\":{\"line\":{\"color\":\"#E5ECF6\",\"width\":0.5},\"pattern\":{\"fillmode\":\"overlay\",\"size\":10,\"solidity\":0.2}},\"type\":\"bar\"}],\"carpet\":[{\"aaxis\":{\"endlinecolor\":\"#2a3f5f\",\"gridcolor\":\"white\",\"linecolor\":\"white\",\"minorgridcolor\":\"white\",\"startlinecolor\":\"#2a3f5f\"},\"baxis\":{\"endlinecolor\":\"#2a3f5f\",\"gridcolor\":\"white\",\"linecolor\":\"white\",\"minorgridcolor\":\"white\",\"startlinecolor\":\"#2a3f5f\"},\"type\":\"carpet\"}],\"choropleth\":[{\"colorbar\":{\"outlinewidth\":0,\"ticks\":\"\"},\"type\":\"choropleth\"}],\"contourcarpet\":[{\"colorbar\":{\"outlinewidth\":0,\"ticks\":\"\"},\"type\":\"contourcarpet\"}],\"contour\":[{\"colorbar\":{\"outlinewidth\":0,\"ticks\":\"\"},\"colorscale\":[[0.0,\"#0d0887\"],[0.1111111111111111,\"#46039f\"],[0.2222222222222222,\"#7201a8\"],[0.3333333333333333,\"#9c179e\"],[0.4444444444444444,\"#bd3786\"],[0.5555555555555556,\"#d8576b\"],[0.6666666666666666,\"#ed7953\"],[0.7777777777777778,\"#fb9f3a\"],[0.8888888888888888,\"#fdca26\"],[1.0,\"#f0f921\"]],\"type\":\"contour\"}],\"heatmapgl\":[{\"colorbar\":{\"outlinewidth\":0,\"ticks\":\"\"},\"colorscale\":[[0.0,\"#0d0887\"],[0.1111111111111111,\"#46039f\"],[0.2222222222222222,\"#7201a8\"],[0.3333333333333333,\"#9c179e\"],[0.4444444444444444,\"#bd3786\"],[0.5555555555555556,\"#d8576b\"],[0.6666666666666666,\"#ed7953\"],[0.7777777777777778,\"#fb9f3a\"],[0.8888888888888888,\"#fdca26\"],[1.0,\"#f0f921\"]],\"type\":\"heatmapgl\"}],\"heatmap\":[{\"colorbar\":{\"outlinewidth\":0,\"ticks\":\"\"},\"colorscale\":[[0.0,\"#0d0887\"],[0.1111111111111111,\"#46039f\"],[0.2222222222222222,\"#7201a8\"],[0.3333333333333333,\"#9c179e\"],[0.4444444444444444,\"#bd3786\"],[0.5555555555555556,\"#d8576b\"],[0.6666666666666666,\"#ed7953\"],[0.7777777777777778,\"#fb9f3a\"],[0.8888888888888888,\"#fdca26\"],[1.0,\"#f0f921\"]],\"type\":\"heatmap\"}],\"histogram2dcontour\":[{\"colorbar\":{\"outlinewidth\":0,\"ticks\":\"\"},\"colorscale\":[[0.0,\"#0d0887\"],[0.1111111111111111,\"#46039f\"],[0.2222222222222222,\"#7201a8\"],[0.3333333333333333,\"#9c179e\"],[0.4444444444444444,\"#bd3786\"],[0.5555555555555556,\"#d8576b\"],[0.6666666666666666,\"#ed7953\"],[0.7777777777777778,\"#fb9f3a\"],[0.8888888888888888,\"#fdca26\"],[1.0,\"#f0f921\"]],\"type\":\"histogram2dcontour\"}],\"histogram2d\":[{\"colorbar\":{\"outlinewidth\":0,\"ticks\":\"\"},\"colorscale\":[[0.0,\"#0d0887\"],[0.1111111111111111,\"#46039f\"],[0.2222222222222222,\"#7201a8\"],[0.3333333333333333,\"#9c179e\"],[0.4444444444444444,\"#bd3786\"],[0.5555555555555556,\"#d8576b\"],[0.6666666666666666,\"#ed7953\"],[0.7777777777777778,\"#fb9f3a\"],[0.8888888888888888,\"#fdca26\"],[1.0,\"#f0f921\"]],\"type\":\"histogram2d\"}],\"histogram\":[{\"marker\":{\"pattern\":{\"fillmode\":\"overlay\",\"size\":10,\"solidity\":0.2}},\"type\":\"histogram\"}],\"mesh3d\":[{\"colorbar\":{\"outlinewidth\":0,\"ticks\":\"\"},\"type\":\"mesh3d\"}],\"parcoords\":[{\"line\":{\"colorbar\":{\"outlinewidth\":0,\"ticks\":\"\"}},\"type\":\"parcoords\"}],\"pie\":[{\"automargin\":true,\"type\":\"pie\"}],\"scatter3d\":[{\"line\":{\"colorbar\":{\"outlinewidth\":0,\"ticks\":\"\"}},\"marker\":{\"colorbar\":{\"outlinewidth\":0,\"ticks\":\"\"}},\"type\":\"scatter3d\"}],\"scattercarpet\":[{\"marker\":{\"colorbar\":{\"outlinewidth\":0,\"ticks\":\"\"}},\"type\":\"scattercarpet\"}],\"scattergeo\":[{\"marker\":{\"colorbar\":{\"outlinewidth\":0,\"ticks\":\"\"}},\"type\":\"scattergeo\"}],\"scattergl\":[{\"marker\":{\"colorbar\":{\"outlinewidth\":0,\"ticks\":\"\"}},\"type\":\"scattergl\"}],\"scattermapbox\":[{\"marker\":{\"colorbar\":{\"outlinewidth\":0,\"ticks\":\"\"}},\"type\":\"scattermapbox\"}],\"scatterpolargl\":[{\"marker\":{\"colorbar\":{\"outlinewidth\":0,\"ticks\":\"\"}},\"type\":\"scatterpolargl\"}],\"scatterpolar\":[{\"marker\":{\"colorbar\":{\"outlinewidth\":0,\"ticks\":\"\"}},\"type\":\"scatterpolar\"}],\"scatter\":[{\"fillpattern\":{\"fillmode\":\"overlay\",\"size\":10,\"solidity\":0.2},\"type\":\"scatter\"}],\"scatterternary\":[{\"marker\":{\"colorbar\":{\"outlinewidth\":0,\"ticks\":\"\"}},\"type\":\"scatterternary\"}],\"surface\":[{\"colorbar\":{\"outlinewidth\":0,\"ticks\":\"\"},\"colorscale\":[[0.0,\"#0d0887\"],[0.1111111111111111,\"#46039f\"],[0.2222222222222222,\"#7201a8\"],[0.3333333333333333,\"#9c179e\"],[0.4444444444444444,\"#bd3786\"],[0.5555555555555556,\"#d8576b\"],[0.6666666666666666,\"#ed7953\"],[0.7777777777777778,\"#fb9f3a\"],[0.8888888888888888,\"#fdca26\"],[1.0,\"#f0f921\"]],\"type\":\"surface\"}],\"table\":[{\"cells\":{\"fill\":{\"color\":\"#EBF0F8\"},\"line\":{\"color\":\"white\"}},\"header\":{\"fill\":{\"color\":\"#C8D4E3\"},\"line\":{\"color\":\"white\"}},\"type\":\"table\"}]},\"layout\":{\"annotationdefaults\":{\"arrowcolor\":\"#2a3f5f\",\"arrowhead\":0,\"arrowwidth\":1},\"autotypenumbers\":\"strict\",\"coloraxis\":{\"colorbar\":{\"outlinewidth\":0,\"ticks\":\"\"}},\"colorscale\":{\"diverging\":[[0,\"#8e0152\"],[0.1,\"#c51b7d\"],[0.2,\"#de77ae\"],[0.3,\"#f1b6da\"],[0.4,\"#fde0ef\"],[0.5,\"#f7f7f7\"],[0.6,\"#e6f5d0\"],[0.7,\"#b8e186\"],[0.8,\"#7fbc41\"],[0.9,\"#4d9221\"],[1,\"#276419\"]],\"sequential\":[[0.0,\"#0d0887\"],[0.1111111111111111,\"#46039f\"],[0.2222222222222222,\"#7201a8\"],[0.3333333333333333,\"#9c179e\"],[0.4444444444444444,\"#bd3786\"],[0.5555555555555556,\"#d8576b\"],[0.6666666666666666,\"#ed7953\"],[0.7777777777777778,\"#fb9f3a\"],[0.8888888888888888,\"#fdca26\"],[1.0,\"#f0f921\"]],\"sequentialminus\":[[0.0,\"#0d0887\"],[0.1111111111111111,\"#46039f\"],[0.2222222222222222,\"#7201a8\"],[0.3333333333333333,\"#9c179e\"],[0.4444444444444444,\"#bd3786\"],[0.5555555555555556,\"#d8576b\"],[0.6666666666666666,\"#ed7953\"],[0.7777777777777778,\"#fb9f3a\"],[0.8888888888888888,\"#fdca26\"],[1.0,\"#f0f921\"]]},\"colorway\":[\"#636efa\",\"#EF553B\",\"#00cc96\",\"#ab63fa\",\"#FFA15A\",\"#19d3f3\",\"#FF6692\",\"#B6E880\",\"#FF97FF\",\"#FECB52\"],\"font\":{\"color\":\"#2a3f5f\"},\"geo\":{\"bgcolor\":\"white\",\"lakecolor\":\"white\",\"landcolor\":\"#E5ECF6\",\"showlakes\":true,\"showland\":true,\"subunitcolor\":\"white\"},\"hoverlabel\":{\"align\":\"left\"},\"hovermode\":\"closest\",\"mapbox\":{\"style\":\"light\"},\"paper_bgcolor\":\"white\",\"plot_bgcolor\":\"#E5ECF6\",\"polar\":{\"angularaxis\":{\"gridcolor\":\"white\",\"linecolor\":\"white\",\"ticks\":\"\"},\"bgcolor\":\"#E5ECF6\",\"radialaxis\":{\"gridcolor\":\"white\",\"linecolor\":\"white\",\"ticks\":\"\"}},\"scene\":{\"xaxis\":{\"backgroundcolor\":\"#E5ECF6\",\"gridcolor\":\"white\",\"gridwidth\":2,\"linecolor\":\"white\",\"showbackground\":true,\"ticks\":\"\",\"zerolinecolor\":\"white\"},\"yaxis\":{\"backgroundcolor\":\"#E5ECF6\",\"gridcolor\":\"white\",\"gridwidth\":2,\"linecolor\":\"white\",\"showbackground\":true,\"ticks\":\"\",\"zerolinecolor\":\"white\"},\"zaxis\":{\"backgroundcolor\":\"#E5ECF6\",\"gridcolor\":\"white\",\"gridwidth\":2,\"linecolor\":\"white\",\"showbackground\":true,\"ticks\":\"\",\"zerolinecolor\":\"white\"}},\"shapedefaults\":{\"line\":{\"color\":\"#2a3f5f\"}},\"ternary\":{\"aaxis\":{\"gridcolor\":\"white\",\"linecolor\":\"white\",\"ticks\":\"\"},\"baxis\":{\"gridcolor\":\"white\",\"linecolor\":\"white\",\"ticks\":\"\"},\"bgcolor\":\"#E5ECF6\",\"caxis\":{\"gridcolor\":\"white\",\"linecolor\":\"white\",\"ticks\":\"\"}},\"title\":{\"x\":0.05},\"xaxis\":{\"automargin\":true,\"gridcolor\":\"white\",\"linecolor\":\"white\",\"ticks\":\"\",\"title\":{\"standoff\":15},\"zerolinecolor\":\"white\",\"zerolinewidth\":2},\"yaxis\":{\"automargin\":true,\"gridcolor\":\"white\",\"linecolor\":\"white\",\"ticks\":\"\",\"title\":{\"standoff\":15},\"zerolinecolor\":\"white\",\"zerolinewidth\":2}}},\"title\":{\"font\":{\"color\":\"#4D5663\"},\"text\":\"Job Prospects Engineering\"},\"xaxis\":{\"gridcolor\":\"#E1E5ED\",\"showgrid\":true,\"tickfont\":{\"color\":\"#4D5663\"},\"title\":{\"font\":{\"color\":\"#4D5663\"},\"text\":\"Unemployment rate\"},\"zerolinecolor\":\"#E1E5ED\"},\"yaxis\":{\"gridcolor\":\"#E1E5ED\",\"showgrid\":true,\"tickfont\":{\"color\":\"#4D5663\"},\"title\":{\"font\":{\"color\":\"#4D5663\"},\"text\":\"Amount of full time year round employees\"},\"zerolinecolor\":\"#E1E5ED\"}},                        {\"showLink\": true, \"linkText\": \"Export to plot.ly\", \"plotlyServerURL\": \"https://plot.ly\", \"responsive\": true}                    ).then(function(){\n",
       "                            \n",
       "var gd = document.getElementById('e91d00de-6d34-4594-af21-b2b93ba5897e');\n",
       "var x = new MutationObserver(function (mutations, observer) {{\n",
       "        var display = window.getComputedStyle(gd).display;\n",
       "        if (!display || display === 'none') {{\n",
       "            console.log([gd, 'removed!']);\n",
       "            Plotly.purge(gd);\n",
       "            observer.disconnect();\n",
       "        }}\n",
       "}});\n",
       "\n",
       "// Listen for the removal of the full notebook cells\n",
       "var notebookContainer = gd.closest('#notebook-container');\n",
       "if (notebookContainer) {{\n",
       "    x.observe(notebookContainer, {childList: true});\n",
       "}}\n",
       "\n",
       "// Listen for the clearing of the current output cell\n",
       "var outputEl = gd.closest('.output');\n",
       "if (outputEl) {{\n",
       "    x.observe(outputEl, {childList: true});\n",
       "}}\n",
       "\n",
       "                        })                };                });            </script>        </div>"
      ]
     },
     "metadata": {},
     "output_type": "display_data"
    },
    {
     "data": {
      "application/vnd.plotly.v1+json": {
       "config": {
        "linkText": "Export to plot.ly",
        "plotlyServerURL": "https://plot.ly",
        "showLink": true
       },
       "data": [
        {
         "line": {
          "color": "rgba(255, 153, 51, 1.0)",
          "dash": "solid",
          "shape": "linear",
          "width": 1.3
         },
         "marker": {
          "size": 12,
          "symbol": "circle"
         },
         "mode": "markers",
         "name": "Full_time_year_round",
         "text": [
          "ACTUARIAL SCIENCE",
          "MANAGEMENT INFORMATION SYSTEMS AND STATISTICS",
          "OPERATIONS LOGISTICS AND E-COMMERCE",
          "FINANCE",
          "BUSINESS ECONOMICS",
          "ACCOUNTING",
          "GENERAL BUSINESS",
          "INTERNATIONAL BUSINESS",
          "MISCELLANEOUS BUSINESS & MEDICAL ADMINISTRATION",
          "BUSINESS MANAGEMENT AND ADMINISTRATION",
          "MARKETING AND MARKETING RESEARCH",
          "HUMAN RESOURCES AND PERSONNEL MANAGEMENT",
          "HOSPITALITY MANAGEMENT"
         ],
         "type": "scatter",
         "x": [
          0.095652174,
          0.058239614,
          0.047858703,
          0.060686356,
          0.096448381,
          0.069749014,
          0.072861468,
          0.096175064,
          0.071982974,
          0.072218341,
          0.061215064,
          0.059569649,
          0.061169193
         ],
         "y": [
          2482,
          13017,
          7724,
          108595,
          8000,
          123169,
          138299,
          12823,
          10637,
          199897,
          127230,
          15446,
          23106
         ]
        }
       ],
       "layout": {
        "legend": {
         "bgcolor": "#F5F6F9",
         "font": {
          "color": "#4D5663"
         }
        },
        "paper_bgcolor": "#F5F6F9",
        "plot_bgcolor": "#F5F6F9",
        "template": {
         "data": {
          "bar": [
           {
            "error_x": {
             "color": "#2a3f5f"
            },
            "error_y": {
             "color": "#2a3f5f"
            },
            "marker": {
             "line": {
              "color": "#E5ECF6",
              "width": 0.5
             },
             "pattern": {
              "fillmode": "overlay",
              "size": 10,
              "solidity": 0.2
             }
            },
            "type": "bar"
           }
          ],
          "barpolar": [
           {
            "marker": {
             "line": {
              "color": "#E5ECF6",
              "width": 0.5
             },
             "pattern": {
              "fillmode": "overlay",
              "size": 10,
              "solidity": 0.2
             }
            },
            "type": "barpolar"
           }
          ],
          "carpet": [
           {
            "aaxis": {
             "endlinecolor": "#2a3f5f",
             "gridcolor": "white",
             "linecolor": "white",
             "minorgridcolor": "white",
             "startlinecolor": "#2a3f5f"
            },
            "baxis": {
             "endlinecolor": "#2a3f5f",
             "gridcolor": "white",
             "linecolor": "white",
             "minorgridcolor": "white",
             "startlinecolor": "#2a3f5f"
            },
            "type": "carpet"
           }
          ],
          "choropleth": [
           {
            "colorbar": {
             "outlinewidth": 0,
             "ticks": ""
            },
            "type": "choropleth"
           }
          ],
          "contour": [
           {
            "colorbar": {
             "outlinewidth": 0,
             "ticks": ""
            },
            "colorscale": [
             [
              0,
              "#0d0887"
             ],
             [
              0.1111111111111111,
              "#46039f"
             ],
             [
              0.2222222222222222,
              "#7201a8"
             ],
             [
              0.3333333333333333,
              "#9c179e"
             ],
             [
              0.4444444444444444,
              "#bd3786"
             ],
             [
              0.5555555555555556,
              "#d8576b"
             ],
             [
              0.6666666666666666,
              "#ed7953"
             ],
             [
              0.7777777777777778,
              "#fb9f3a"
             ],
             [
              0.8888888888888888,
              "#fdca26"
             ],
             [
              1,
              "#f0f921"
             ]
            ],
            "type": "contour"
           }
          ],
          "contourcarpet": [
           {
            "colorbar": {
             "outlinewidth": 0,
             "ticks": ""
            },
            "type": "contourcarpet"
           }
          ],
          "heatmap": [
           {
            "colorbar": {
             "outlinewidth": 0,
             "ticks": ""
            },
            "colorscale": [
             [
              0,
              "#0d0887"
             ],
             [
              0.1111111111111111,
              "#46039f"
             ],
             [
              0.2222222222222222,
              "#7201a8"
             ],
             [
              0.3333333333333333,
              "#9c179e"
             ],
             [
              0.4444444444444444,
              "#bd3786"
             ],
             [
              0.5555555555555556,
              "#d8576b"
             ],
             [
              0.6666666666666666,
              "#ed7953"
             ],
             [
              0.7777777777777778,
              "#fb9f3a"
             ],
             [
              0.8888888888888888,
              "#fdca26"
             ],
             [
              1,
              "#f0f921"
             ]
            ],
            "type": "heatmap"
           }
          ],
          "heatmapgl": [
           {
            "colorbar": {
             "outlinewidth": 0,
             "ticks": ""
            },
            "colorscale": [
             [
              0,
              "#0d0887"
             ],
             [
              0.1111111111111111,
              "#46039f"
             ],
             [
              0.2222222222222222,
              "#7201a8"
             ],
             [
              0.3333333333333333,
              "#9c179e"
             ],
             [
              0.4444444444444444,
              "#bd3786"
             ],
             [
              0.5555555555555556,
              "#d8576b"
             ],
             [
              0.6666666666666666,
              "#ed7953"
             ],
             [
              0.7777777777777778,
              "#fb9f3a"
             ],
             [
              0.8888888888888888,
              "#fdca26"
             ],
             [
              1,
              "#f0f921"
             ]
            ],
            "type": "heatmapgl"
           }
          ],
          "histogram": [
           {
            "marker": {
             "pattern": {
              "fillmode": "overlay",
              "size": 10,
              "solidity": 0.2
             }
            },
            "type": "histogram"
           }
          ],
          "histogram2d": [
           {
            "colorbar": {
             "outlinewidth": 0,
             "ticks": ""
            },
            "colorscale": [
             [
              0,
              "#0d0887"
             ],
             [
              0.1111111111111111,
              "#46039f"
             ],
             [
              0.2222222222222222,
              "#7201a8"
             ],
             [
              0.3333333333333333,
              "#9c179e"
             ],
             [
              0.4444444444444444,
              "#bd3786"
             ],
             [
              0.5555555555555556,
              "#d8576b"
             ],
             [
              0.6666666666666666,
              "#ed7953"
             ],
             [
              0.7777777777777778,
              "#fb9f3a"
             ],
             [
              0.8888888888888888,
              "#fdca26"
             ],
             [
              1,
              "#f0f921"
             ]
            ],
            "type": "histogram2d"
           }
          ],
          "histogram2dcontour": [
           {
            "colorbar": {
             "outlinewidth": 0,
             "ticks": ""
            },
            "colorscale": [
             [
              0,
              "#0d0887"
             ],
             [
              0.1111111111111111,
              "#46039f"
             ],
             [
              0.2222222222222222,
              "#7201a8"
             ],
             [
              0.3333333333333333,
              "#9c179e"
             ],
             [
              0.4444444444444444,
              "#bd3786"
             ],
             [
              0.5555555555555556,
              "#d8576b"
             ],
             [
              0.6666666666666666,
              "#ed7953"
             ],
             [
              0.7777777777777778,
              "#fb9f3a"
             ],
             [
              0.8888888888888888,
              "#fdca26"
             ],
             [
              1,
              "#f0f921"
             ]
            ],
            "type": "histogram2dcontour"
           }
          ],
          "mesh3d": [
           {
            "colorbar": {
             "outlinewidth": 0,
             "ticks": ""
            },
            "type": "mesh3d"
           }
          ],
          "parcoords": [
           {
            "line": {
             "colorbar": {
              "outlinewidth": 0,
              "ticks": ""
             }
            },
            "type": "parcoords"
           }
          ],
          "pie": [
           {
            "automargin": true,
            "type": "pie"
           }
          ],
          "scatter": [
           {
            "fillpattern": {
             "fillmode": "overlay",
             "size": 10,
             "solidity": 0.2
            },
            "type": "scatter"
           }
          ],
          "scatter3d": [
           {
            "line": {
             "colorbar": {
              "outlinewidth": 0,
              "ticks": ""
             }
            },
            "marker": {
             "colorbar": {
              "outlinewidth": 0,
              "ticks": ""
             }
            },
            "type": "scatter3d"
           }
          ],
          "scattercarpet": [
           {
            "marker": {
             "colorbar": {
              "outlinewidth": 0,
              "ticks": ""
             }
            },
            "type": "scattercarpet"
           }
          ],
          "scattergeo": [
           {
            "marker": {
             "colorbar": {
              "outlinewidth": 0,
              "ticks": ""
             }
            },
            "type": "scattergeo"
           }
          ],
          "scattergl": [
           {
            "marker": {
             "colorbar": {
              "outlinewidth": 0,
              "ticks": ""
             }
            },
            "type": "scattergl"
           }
          ],
          "scattermapbox": [
           {
            "marker": {
             "colorbar": {
              "outlinewidth": 0,
              "ticks": ""
             }
            },
            "type": "scattermapbox"
           }
          ],
          "scatterpolar": [
           {
            "marker": {
             "colorbar": {
              "outlinewidth": 0,
              "ticks": ""
             }
            },
            "type": "scatterpolar"
           }
          ],
          "scatterpolargl": [
           {
            "marker": {
             "colorbar": {
              "outlinewidth": 0,
              "ticks": ""
             }
            },
            "type": "scatterpolargl"
           }
          ],
          "scatterternary": [
           {
            "marker": {
             "colorbar": {
              "outlinewidth": 0,
              "ticks": ""
             }
            },
            "type": "scatterternary"
           }
          ],
          "surface": [
           {
            "colorbar": {
             "outlinewidth": 0,
             "ticks": ""
            },
            "colorscale": [
             [
              0,
              "#0d0887"
             ],
             [
              0.1111111111111111,
              "#46039f"
             ],
             [
              0.2222222222222222,
              "#7201a8"
             ],
             [
              0.3333333333333333,
              "#9c179e"
             ],
             [
              0.4444444444444444,
              "#bd3786"
             ],
             [
              0.5555555555555556,
              "#d8576b"
             ],
             [
              0.6666666666666666,
              "#ed7953"
             ],
             [
              0.7777777777777778,
              "#fb9f3a"
             ],
             [
              0.8888888888888888,
              "#fdca26"
             ],
             [
              1,
              "#f0f921"
             ]
            ],
            "type": "surface"
           }
          ],
          "table": [
           {
            "cells": {
             "fill": {
              "color": "#EBF0F8"
             },
             "line": {
              "color": "white"
             }
            },
            "header": {
             "fill": {
              "color": "#C8D4E3"
             },
             "line": {
              "color": "white"
             }
            },
            "type": "table"
           }
          ]
         },
         "layout": {
          "annotationdefaults": {
           "arrowcolor": "#2a3f5f",
           "arrowhead": 0,
           "arrowwidth": 1
          },
          "autotypenumbers": "strict",
          "coloraxis": {
           "colorbar": {
            "outlinewidth": 0,
            "ticks": ""
           }
          },
          "colorscale": {
           "diverging": [
            [
             0,
             "#8e0152"
            ],
            [
             0.1,
             "#c51b7d"
            ],
            [
             0.2,
             "#de77ae"
            ],
            [
             0.3,
             "#f1b6da"
            ],
            [
             0.4,
             "#fde0ef"
            ],
            [
             0.5,
             "#f7f7f7"
            ],
            [
             0.6,
             "#e6f5d0"
            ],
            [
             0.7,
             "#b8e186"
            ],
            [
             0.8,
             "#7fbc41"
            ],
            [
             0.9,
             "#4d9221"
            ],
            [
             1,
             "#276419"
            ]
           ],
           "sequential": [
            [
             0,
             "#0d0887"
            ],
            [
             0.1111111111111111,
             "#46039f"
            ],
            [
             0.2222222222222222,
             "#7201a8"
            ],
            [
             0.3333333333333333,
             "#9c179e"
            ],
            [
             0.4444444444444444,
             "#bd3786"
            ],
            [
             0.5555555555555556,
             "#d8576b"
            ],
            [
             0.6666666666666666,
             "#ed7953"
            ],
            [
             0.7777777777777778,
             "#fb9f3a"
            ],
            [
             0.8888888888888888,
             "#fdca26"
            ],
            [
             1,
             "#f0f921"
            ]
           ],
           "sequentialminus": [
            [
             0,
             "#0d0887"
            ],
            [
             0.1111111111111111,
             "#46039f"
            ],
            [
             0.2222222222222222,
             "#7201a8"
            ],
            [
             0.3333333333333333,
             "#9c179e"
            ],
            [
             0.4444444444444444,
             "#bd3786"
            ],
            [
             0.5555555555555556,
             "#d8576b"
            ],
            [
             0.6666666666666666,
             "#ed7953"
            ],
            [
             0.7777777777777778,
             "#fb9f3a"
            ],
            [
             0.8888888888888888,
             "#fdca26"
            ],
            [
             1,
             "#f0f921"
            ]
           ]
          },
          "colorway": [
           "#636efa",
           "#EF553B",
           "#00cc96",
           "#ab63fa",
           "#FFA15A",
           "#19d3f3",
           "#FF6692",
           "#B6E880",
           "#FF97FF",
           "#FECB52"
          ],
          "font": {
           "color": "#2a3f5f"
          },
          "geo": {
           "bgcolor": "white",
           "lakecolor": "white",
           "landcolor": "#E5ECF6",
           "showlakes": true,
           "showland": true,
           "subunitcolor": "white"
          },
          "hoverlabel": {
           "align": "left"
          },
          "hovermode": "closest",
          "mapbox": {
           "style": "light"
          },
          "paper_bgcolor": "white",
          "plot_bgcolor": "#E5ECF6",
          "polar": {
           "angularaxis": {
            "gridcolor": "white",
            "linecolor": "white",
            "ticks": ""
           },
           "bgcolor": "#E5ECF6",
           "radialaxis": {
            "gridcolor": "white",
            "linecolor": "white",
            "ticks": ""
           }
          },
          "scene": {
           "xaxis": {
            "backgroundcolor": "#E5ECF6",
            "gridcolor": "white",
            "gridwidth": 2,
            "linecolor": "white",
            "showbackground": true,
            "ticks": "",
            "zerolinecolor": "white"
           },
           "yaxis": {
            "backgroundcolor": "#E5ECF6",
            "gridcolor": "white",
            "gridwidth": 2,
            "linecolor": "white",
            "showbackground": true,
            "ticks": "",
            "zerolinecolor": "white"
           },
           "zaxis": {
            "backgroundcolor": "#E5ECF6",
            "gridcolor": "white",
            "gridwidth": 2,
            "linecolor": "white",
            "showbackground": true,
            "ticks": "",
            "zerolinecolor": "white"
           }
          },
          "shapedefaults": {
           "line": {
            "color": "#2a3f5f"
           }
          },
          "ternary": {
           "aaxis": {
            "gridcolor": "white",
            "linecolor": "white",
            "ticks": ""
           },
           "baxis": {
            "gridcolor": "white",
            "linecolor": "white",
            "ticks": ""
           },
           "bgcolor": "#E5ECF6",
           "caxis": {
            "gridcolor": "white",
            "linecolor": "white",
            "ticks": ""
           }
          },
          "title": {
           "x": 0.05
          },
          "xaxis": {
           "automargin": true,
           "gridcolor": "white",
           "linecolor": "white",
           "ticks": "",
           "title": {
            "standoff": 15
           },
           "zerolinecolor": "white",
           "zerolinewidth": 2
          },
          "yaxis": {
           "automargin": true,
           "gridcolor": "white",
           "linecolor": "white",
           "ticks": "",
           "title": {
            "standoff": 15
           },
           "zerolinecolor": "white",
           "zerolinewidth": 2
          }
         }
        },
        "title": {
         "font": {
          "color": "#4D5663"
         },
         "text": "Job Prospects Business"
        },
        "xaxis": {
         "gridcolor": "#E1E5ED",
         "showgrid": true,
         "tickfont": {
          "color": "#4D5663"
         },
         "title": {
          "font": {
           "color": "#4D5663"
          },
          "text": "Unemployment rate"
         },
         "zerolinecolor": "#E1E5ED"
        },
        "yaxis": {
         "gridcolor": "#E1E5ED",
         "showgrid": true,
         "tickfont": {
          "color": "#4D5663"
         },
         "title": {
          "font": {
           "color": "#4D5663"
          },
          "text": "Amount of full time year round employees"
         },
         "zerolinecolor": "#E1E5ED"
        }
       }
      },
      "text/html": [
       "<div>                            <div id=\"e8678c54-28dd-4007-afe8-e5298436a235\" class=\"plotly-graph-div\" style=\"height:525px; width:100%;\"></div>            <script type=\"text/javascript\">                require([\"plotly\"], function(Plotly) {                    window.PLOTLYENV=window.PLOTLYENV || {};\n",
       "                    window.PLOTLYENV.BASE_URL='https://plot.ly';                                    if (document.getElementById(\"e8678c54-28dd-4007-afe8-e5298436a235\")) {                    Plotly.newPlot(                        \"e8678c54-28dd-4007-afe8-e5298436a235\",                        [{\"line\":{\"color\":\"rgba(255, 153, 51, 1.0)\",\"dash\":\"solid\",\"shape\":\"linear\",\"width\":1.3},\"marker\":{\"size\":12,\"symbol\":\"circle\"},\"mode\":\"markers\",\"name\":\"Full_time_year_round\",\"text\":[\"ACTUARIAL SCIENCE\",\"MANAGEMENT INFORMATION SYSTEMS AND STATISTICS\",\"OPERATIONS LOGISTICS AND E-COMMERCE\",\"FINANCE\",\"BUSINESS ECONOMICS\",\"ACCOUNTING\",\"GENERAL BUSINESS\",\"INTERNATIONAL BUSINESS\",\"MISCELLANEOUS BUSINESS & MEDICAL ADMINISTRATION\",\"BUSINESS MANAGEMENT AND ADMINISTRATION\",\"MARKETING AND MARKETING RESEARCH\",\"HUMAN RESOURCES AND PERSONNEL MANAGEMENT\",\"HOSPITALITY MANAGEMENT\"],\"x\":[0.095652174,0.058239614,0.047858703,0.060686356,0.096448381,0.069749014,0.072861468,0.096175064,0.071982974,0.072218341,0.061215064,0.059569649,0.061169193],\"y\":[2482,13017,7724,108595,8000,123169,138299,12823,10637,199897,127230,15446,23106],\"type\":\"scatter\"}],                        {\"legend\":{\"bgcolor\":\"#F5F6F9\",\"font\":{\"color\":\"#4D5663\"}},\"paper_bgcolor\":\"#F5F6F9\",\"plot_bgcolor\":\"#F5F6F9\",\"template\":{\"data\":{\"barpolar\":[{\"marker\":{\"line\":{\"color\":\"#E5ECF6\",\"width\":0.5},\"pattern\":{\"fillmode\":\"overlay\",\"size\":10,\"solidity\":0.2}},\"type\":\"barpolar\"}],\"bar\":[{\"error_x\":{\"color\":\"#2a3f5f\"},\"error_y\":{\"color\":\"#2a3f5f\"},\"marker\":{\"line\":{\"color\":\"#E5ECF6\",\"width\":0.5},\"pattern\":{\"fillmode\":\"overlay\",\"size\":10,\"solidity\":0.2}},\"type\":\"bar\"}],\"carpet\":[{\"aaxis\":{\"endlinecolor\":\"#2a3f5f\",\"gridcolor\":\"white\",\"linecolor\":\"white\",\"minorgridcolor\":\"white\",\"startlinecolor\":\"#2a3f5f\"},\"baxis\":{\"endlinecolor\":\"#2a3f5f\",\"gridcolor\":\"white\",\"linecolor\":\"white\",\"minorgridcolor\":\"white\",\"startlinecolor\":\"#2a3f5f\"},\"type\":\"carpet\"}],\"choropleth\":[{\"colorbar\":{\"outlinewidth\":0,\"ticks\":\"\"},\"type\":\"choropleth\"}],\"contourcarpet\":[{\"colorbar\":{\"outlinewidth\":0,\"ticks\":\"\"},\"type\":\"contourcarpet\"}],\"contour\":[{\"colorbar\":{\"outlinewidth\":0,\"ticks\":\"\"},\"colorscale\":[[0.0,\"#0d0887\"],[0.1111111111111111,\"#46039f\"],[0.2222222222222222,\"#7201a8\"],[0.3333333333333333,\"#9c179e\"],[0.4444444444444444,\"#bd3786\"],[0.5555555555555556,\"#d8576b\"],[0.6666666666666666,\"#ed7953\"],[0.7777777777777778,\"#fb9f3a\"],[0.8888888888888888,\"#fdca26\"],[1.0,\"#f0f921\"]],\"type\":\"contour\"}],\"heatmapgl\":[{\"colorbar\":{\"outlinewidth\":0,\"ticks\":\"\"},\"colorscale\":[[0.0,\"#0d0887\"],[0.1111111111111111,\"#46039f\"],[0.2222222222222222,\"#7201a8\"],[0.3333333333333333,\"#9c179e\"],[0.4444444444444444,\"#bd3786\"],[0.5555555555555556,\"#d8576b\"],[0.6666666666666666,\"#ed7953\"],[0.7777777777777778,\"#fb9f3a\"],[0.8888888888888888,\"#fdca26\"],[1.0,\"#f0f921\"]],\"type\":\"heatmapgl\"}],\"heatmap\":[{\"colorbar\":{\"outlinewidth\":0,\"ticks\":\"\"},\"colorscale\":[[0.0,\"#0d0887\"],[0.1111111111111111,\"#46039f\"],[0.2222222222222222,\"#7201a8\"],[0.3333333333333333,\"#9c179e\"],[0.4444444444444444,\"#bd3786\"],[0.5555555555555556,\"#d8576b\"],[0.6666666666666666,\"#ed7953\"],[0.7777777777777778,\"#fb9f3a\"],[0.8888888888888888,\"#fdca26\"],[1.0,\"#f0f921\"]],\"type\":\"heatmap\"}],\"histogram2dcontour\":[{\"colorbar\":{\"outlinewidth\":0,\"ticks\":\"\"},\"colorscale\":[[0.0,\"#0d0887\"],[0.1111111111111111,\"#46039f\"],[0.2222222222222222,\"#7201a8\"],[0.3333333333333333,\"#9c179e\"],[0.4444444444444444,\"#bd3786\"],[0.5555555555555556,\"#d8576b\"],[0.6666666666666666,\"#ed7953\"],[0.7777777777777778,\"#fb9f3a\"],[0.8888888888888888,\"#fdca26\"],[1.0,\"#f0f921\"]],\"type\":\"histogram2dcontour\"}],\"histogram2d\":[{\"colorbar\":{\"outlinewidth\":0,\"ticks\":\"\"},\"colorscale\":[[0.0,\"#0d0887\"],[0.1111111111111111,\"#46039f\"],[0.2222222222222222,\"#7201a8\"],[0.3333333333333333,\"#9c179e\"],[0.4444444444444444,\"#bd3786\"],[0.5555555555555556,\"#d8576b\"],[0.6666666666666666,\"#ed7953\"],[0.7777777777777778,\"#fb9f3a\"],[0.8888888888888888,\"#fdca26\"],[1.0,\"#f0f921\"]],\"type\":\"histogram2d\"}],\"histogram\":[{\"marker\":{\"pattern\":{\"fillmode\":\"overlay\",\"size\":10,\"solidity\":0.2}},\"type\":\"histogram\"}],\"mesh3d\":[{\"colorbar\":{\"outlinewidth\":0,\"ticks\":\"\"},\"type\":\"mesh3d\"}],\"parcoords\":[{\"line\":{\"colorbar\":{\"outlinewidth\":0,\"ticks\":\"\"}},\"type\":\"parcoords\"}],\"pie\":[{\"automargin\":true,\"type\":\"pie\"}],\"scatter3d\":[{\"line\":{\"colorbar\":{\"outlinewidth\":0,\"ticks\":\"\"}},\"marker\":{\"colorbar\":{\"outlinewidth\":0,\"ticks\":\"\"}},\"type\":\"scatter3d\"}],\"scattercarpet\":[{\"marker\":{\"colorbar\":{\"outlinewidth\":0,\"ticks\":\"\"}},\"type\":\"scattercarpet\"}],\"scattergeo\":[{\"marker\":{\"colorbar\":{\"outlinewidth\":0,\"ticks\":\"\"}},\"type\":\"scattergeo\"}],\"scattergl\":[{\"marker\":{\"colorbar\":{\"outlinewidth\":0,\"ticks\":\"\"}},\"type\":\"scattergl\"}],\"scattermapbox\":[{\"marker\":{\"colorbar\":{\"outlinewidth\":0,\"ticks\":\"\"}},\"type\":\"scattermapbox\"}],\"scatterpolargl\":[{\"marker\":{\"colorbar\":{\"outlinewidth\":0,\"ticks\":\"\"}},\"type\":\"scatterpolargl\"}],\"scatterpolar\":[{\"marker\":{\"colorbar\":{\"outlinewidth\":0,\"ticks\":\"\"}},\"type\":\"scatterpolar\"}],\"scatter\":[{\"fillpattern\":{\"fillmode\":\"overlay\",\"size\":10,\"solidity\":0.2},\"type\":\"scatter\"}],\"scatterternary\":[{\"marker\":{\"colorbar\":{\"outlinewidth\":0,\"ticks\":\"\"}},\"type\":\"scatterternary\"}],\"surface\":[{\"colorbar\":{\"outlinewidth\":0,\"ticks\":\"\"},\"colorscale\":[[0.0,\"#0d0887\"],[0.1111111111111111,\"#46039f\"],[0.2222222222222222,\"#7201a8\"],[0.3333333333333333,\"#9c179e\"],[0.4444444444444444,\"#bd3786\"],[0.5555555555555556,\"#d8576b\"],[0.6666666666666666,\"#ed7953\"],[0.7777777777777778,\"#fb9f3a\"],[0.8888888888888888,\"#fdca26\"],[1.0,\"#f0f921\"]],\"type\":\"surface\"}],\"table\":[{\"cells\":{\"fill\":{\"color\":\"#EBF0F8\"},\"line\":{\"color\":\"white\"}},\"header\":{\"fill\":{\"color\":\"#C8D4E3\"},\"line\":{\"color\":\"white\"}},\"type\":\"table\"}]},\"layout\":{\"annotationdefaults\":{\"arrowcolor\":\"#2a3f5f\",\"arrowhead\":0,\"arrowwidth\":1},\"autotypenumbers\":\"strict\",\"coloraxis\":{\"colorbar\":{\"outlinewidth\":0,\"ticks\":\"\"}},\"colorscale\":{\"diverging\":[[0,\"#8e0152\"],[0.1,\"#c51b7d\"],[0.2,\"#de77ae\"],[0.3,\"#f1b6da\"],[0.4,\"#fde0ef\"],[0.5,\"#f7f7f7\"],[0.6,\"#e6f5d0\"],[0.7,\"#b8e186\"],[0.8,\"#7fbc41\"],[0.9,\"#4d9221\"],[1,\"#276419\"]],\"sequential\":[[0.0,\"#0d0887\"],[0.1111111111111111,\"#46039f\"],[0.2222222222222222,\"#7201a8\"],[0.3333333333333333,\"#9c179e\"],[0.4444444444444444,\"#bd3786\"],[0.5555555555555556,\"#d8576b\"],[0.6666666666666666,\"#ed7953\"],[0.7777777777777778,\"#fb9f3a\"],[0.8888888888888888,\"#fdca26\"],[1.0,\"#f0f921\"]],\"sequentialminus\":[[0.0,\"#0d0887\"],[0.1111111111111111,\"#46039f\"],[0.2222222222222222,\"#7201a8\"],[0.3333333333333333,\"#9c179e\"],[0.4444444444444444,\"#bd3786\"],[0.5555555555555556,\"#d8576b\"],[0.6666666666666666,\"#ed7953\"],[0.7777777777777778,\"#fb9f3a\"],[0.8888888888888888,\"#fdca26\"],[1.0,\"#f0f921\"]]},\"colorway\":[\"#636efa\",\"#EF553B\",\"#00cc96\",\"#ab63fa\",\"#FFA15A\",\"#19d3f3\",\"#FF6692\",\"#B6E880\",\"#FF97FF\",\"#FECB52\"],\"font\":{\"color\":\"#2a3f5f\"},\"geo\":{\"bgcolor\":\"white\",\"lakecolor\":\"white\",\"landcolor\":\"#E5ECF6\",\"showlakes\":true,\"showland\":true,\"subunitcolor\":\"white\"},\"hoverlabel\":{\"align\":\"left\"},\"hovermode\":\"closest\",\"mapbox\":{\"style\":\"light\"},\"paper_bgcolor\":\"white\",\"plot_bgcolor\":\"#E5ECF6\",\"polar\":{\"angularaxis\":{\"gridcolor\":\"white\",\"linecolor\":\"white\",\"ticks\":\"\"},\"bgcolor\":\"#E5ECF6\",\"radialaxis\":{\"gridcolor\":\"white\",\"linecolor\":\"white\",\"ticks\":\"\"}},\"scene\":{\"xaxis\":{\"backgroundcolor\":\"#E5ECF6\",\"gridcolor\":\"white\",\"gridwidth\":2,\"linecolor\":\"white\",\"showbackground\":true,\"ticks\":\"\",\"zerolinecolor\":\"white\"},\"yaxis\":{\"backgroundcolor\":\"#E5ECF6\",\"gridcolor\":\"white\",\"gridwidth\":2,\"linecolor\":\"white\",\"showbackground\":true,\"ticks\":\"\",\"zerolinecolor\":\"white\"},\"zaxis\":{\"backgroundcolor\":\"#E5ECF6\",\"gridcolor\":\"white\",\"gridwidth\":2,\"linecolor\":\"white\",\"showbackground\":true,\"ticks\":\"\",\"zerolinecolor\":\"white\"}},\"shapedefaults\":{\"line\":{\"color\":\"#2a3f5f\"}},\"ternary\":{\"aaxis\":{\"gridcolor\":\"white\",\"linecolor\":\"white\",\"ticks\":\"\"},\"baxis\":{\"gridcolor\":\"white\",\"linecolor\":\"white\",\"ticks\":\"\"},\"bgcolor\":\"#E5ECF6\",\"caxis\":{\"gridcolor\":\"white\",\"linecolor\":\"white\",\"ticks\":\"\"}},\"title\":{\"x\":0.05},\"xaxis\":{\"automargin\":true,\"gridcolor\":\"white\",\"linecolor\":\"white\",\"ticks\":\"\",\"title\":{\"standoff\":15},\"zerolinecolor\":\"white\",\"zerolinewidth\":2},\"yaxis\":{\"automargin\":true,\"gridcolor\":\"white\",\"linecolor\":\"white\",\"ticks\":\"\",\"title\":{\"standoff\":15},\"zerolinecolor\":\"white\",\"zerolinewidth\":2}}},\"title\":{\"font\":{\"color\":\"#4D5663\"},\"text\":\"Job Prospects Business\"},\"xaxis\":{\"gridcolor\":\"#E1E5ED\",\"showgrid\":true,\"tickfont\":{\"color\":\"#4D5663\"},\"title\":{\"font\":{\"color\":\"#4D5663\"},\"text\":\"Unemployment rate\"},\"zerolinecolor\":\"#E1E5ED\"},\"yaxis\":{\"gridcolor\":\"#E1E5ED\",\"showgrid\":true,\"tickfont\":{\"color\":\"#4D5663\"},\"title\":{\"font\":{\"color\":\"#4D5663\"},\"text\":\"Amount of full time year round employees\"},\"zerolinecolor\":\"#E1E5ED\"}},                        {\"showLink\": true, \"linkText\": \"Export to plot.ly\", \"plotlyServerURL\": \"https://plot.ly\", \"responsive\": true}                    ).then(function(){\n",
       "                            \n",
       "var gd = document.getElementById('e8678c54-28dd-4007-afe8-e5298436a235');\n",
       "var x = new MutationObserver(function (mutations, observer) {{\n",
       "        var display = window.getComputedStyle(gd).display;\n",
       "        if (!display || display === 'none') {{\n",
       "            console.log([gd, 'removed!']);\n",
       "            Plotly.purge(gd);\n",
       "            observer.disconnect();\n",
       "        }}\n",
       "}});\n",
       "\n",
       "// Listen for the removal of the full notebook cells\n",
       "var notebookContainer = gd.closest('#notebook-container');\n",
       "if (notebookContainer) {{\n",
       "    x.observe(notebookContainer, {childList: true});\n",
       "}}\n",
       "\n",
       "// Listen for the clearing of the current output cell\n",
       "var outputEl = gd.closest('.output');\n",
       "if (outputEl) {{\n",
       "    x.observe(outputEl, {childList: true});\n",
       "}}\n",
       "\n",
       "                        })                };                });            </script>        </div>"
      ]
     },
     "metadata": {},
     "output_type": "display_data"
    }
   ],
   "source": [
    "tds = df[df[\"Major_category\"] == \"Engineering\"]\n",
    "#Full_time_year_round,Unemployed,Unemployment_rate,Median,P25th,P75th,College_jobs,Non_college_jobs,Low_wage_jobs\n",
    "tds.iplot(\n",
    "    x=\"Unemployment_rate\",\n",
    "    y=\"Full_time_year_round\",\n",
    "    xTitle=\"Unemployment rate\",\n",
    "    yTitle=\"Amount of full time year round employees\",\n",
    "    text=\"Major\",\n",
    "    mode=\"markers\",\n",
    "    title=\"Job Prospects Engineering\",\n",
    ")\n",
    "\n",
    "tds = df[df[\"Major_category\"] == \"Business\"]\n",
    "#Full_time_year_round,Unemployed,Unemployment_rate,Median,P25th,P75th,College_jobs,Non_college_jobs,Low_wage_jobs\n",
    "tds.iplot(\n",
    "    x=\"Unemployment_rate\",\n",
    "    y=\"Full_time_year_round\",\n",
    "    xTitle=\"Unemployment rate\",\n",
    "    yTitle=\"Amount of full time year round employees\",\n",
    "    text=\"Major\",\n",
    "    mode=\"markers\",\n",
    "    title=\"Job Prospects Business\",\n",
    ")"
   ]
  },
  {
   "cell_type": "code",
   "execution_count": 18,
   "metadata": {},
   "outputs": [
    {
     "name": "stderr",
     "output_type": "stream",
     "text": [
      "/Users/evahegnar/opt/miniconda3/envs/visuell_env/lib/python3.10/site-packages/cufflinks/plotlytools.py:807: FutureWarning:\n",
      "\n",
      "The pandas.np module is deprecated and will be removed from pandas in a future version. Import numpy directly instead.\n",
      "\n",
      "/Users/evahegnar/opt/miniconda3/envs/visuell_env/lib/python3.10/site-packages/cufflinks/plotlytools.py:810: FutureWarning:\n",
      "\n",
      "The pandas.np module is deprecated and will be removed from pandas in a future version. Import numpy directly instead.\n",
      "\n"
     ]
    },
    {
     "data": {
      "application/vnd.plotly.v1+json": {
       "config": {
        "linkText": "Export to plot.ly",
        "plotlyServerURL": "https://plot.ly",
        "showLink": true
       },
       "data": [
        {
         "marker": {
          "color": "rgba(255, 153, 51, 1.0)",
          "line": {
           "width": 1.3
          },
          "opacity": 0.8,
          "size": 12,
          "symbol": "circle"
         },
         "mode": "markers",
         "name": "Engineering",
         "text": [
          "PETROLEUM ENGINEERING",
          "MINING AND MINERAL ENGINEERING",
          "METALLURGICAL ENGINEERING",
          "NAVAL ARCHITECTURE AND MARINE ENGINEERING",
          "CHEMICAL ENGINEERING",
          "NUCLEAR ENGINEERING",
          "MECHANICAL ENGINEERING",
          "ELECTRICAL ENGINEERING",
          "COMPUTER ENGINEERING",
          "AEROSPACE ENGINEERING",
          "BIOMEDICAL ENGINEERING",
          "MATERIALS SCIENCE",
          "ENGINEERING MECHANICS PHYSICS AND SCIENCE",
          "BIOLOGICAL ENGINEERING",
          "INDUSTRIAL AND MANUFACTURING ENGINEERING",
          "GENERAL ENGINEERING",
          "ARCHITECTURAL ENGINEERING",
          "ELECTRICAL ENGINEERING TECHNOLOGY",
          "MATERIALS ENGINEERING AND MATERIALS SCIENCE",
          "CIVIL ENGINEERING",
          "MISCELLANEOUS ENGINEERING",
          "ENVIRONMENTAL ENGINEERING",
          "ENGINEERING TECHNOLOGIES",
          "GEOLOGICAL AND GEOPHYSICAL ENGINEERING",
          "INDUSTRIAL PRODUCTION TECHNOLOGIES",
          "ENGINEERING AND INDUSTRIAL MANAGEMENT",
          "ARCHITECTURE",
          "MISCELLANEOUS ENGINEERING TECHNOLOGIES",
          "MECHANICAL ENGINEERING RELATED TECHNOLOGIES"
         ],
         "textfont": {
          "color": "#4D5663"
         },
         "type": "scatter",
         "x": [
          0.018380527,
          0.117241379,
          0.024096386,
          0.050125313,
          0.061097712,
          0.177226407,
          0.057342278,
          0.059173845,
          0.065409275,
          0.065162085,
          0.09208386,
          0.023042836,
          0.006334343,
          0.087143069,
          0.042875544,
          0.059824231,
          0.061930783,
          0.087557114,
          0.027788805,
          0.070609574,
          0.074392523,
          0.093588575,
          0.055030385,
          0.075038285,
          0.028308097,
          0.03365166,
          0.113331949,
          0.05253852,
          0.056357078
         ],
         "y": [
          1207,
          388,
          340,
          692,
          16697,
          1449,
          54639,
          41413,
          23621,
          8790,
          5986,
          1967,
          2004,
          3413,
          11326,
          33540,
          1848,
          5681,
          1151,
          29196,
          5476,
          1951,
          1723,
          396,
          3242,
          1358,
          20026,
          5825,
          3607
         ]
        },
        {
         "marker": {
          "color": "rgba(55, 128, 191, 1.0)",
          "line": {
           "width": 1.3
          },
          "opacity": 0.8,
          "size": 12,
          "symbol": "circle"
         },
         "mode": "markers",
         "name": "Business",
         "text": [
          "ACTUARIAL SCIENCE",
          "MANAGEMENT INFORMATION SYSTEMS AND STATISTICS",
          "OPERATIONS LOGISTICS AND E-COMMERCE",
          "FINANCE",
          "BUSINESS ECONOMICS",
          "ACCOUNTING",
          "GENERAL BUSINESS",
          "INTERNATIONAL BUSINESS",
          "MISCELLANEOUS BUSINESS & MEDICAL ADMINISTRATION",
          "BUSINESS MANAGEMENT AND ADMINISTRATION",
          "MARKETING AND MARKETING RESEARCH",
          "HUMAN RESOURCES AND PERSONNEL MANAGEMENT",
          "HOSPITALITY MANAGEMENT"
         ],
         "textfont": {
          "color": "#4D5663"
         },
         "type": "scatter",
         "x": [
          0.095652174,
          0.058239614,
          0.047858703,
          0.060686356,
          0.096448381,
          0.069749014,
          0.072861468,
          0.096175064,
          0.071982974,
          0.072218341,
          0.061215064,
          0.059569649,
          0.061169193
         ],
         "y": [
          2482,
          13017,
          7724,
          108595,
          8000,
          123169,
          138299,
          12823,
          10637,
          199897,
          127230,
          15446,
          23106
         ]
        },
        {
         "marker": {
          "color": "rgba(50, 171, 96, 1.0)",
          "line": {
           "width": 1.3
          },
          "opacity": 0.8,
          "size": 12,
          "symbol": "circle"
         },
         "mode": "markers",
         "name": "Physical Sciences",
         "text": [
          "ASTRONOMY AND ASTROPHYSICS",
          "NUCLEAR, INDUSTRIAL RADIOLOGY, AND BIOLOGICAL TECHNOLOGIES",
          "PHYSICS",
          "OCEANOGRAPHY",
          "PHYSICAL SCIENCES",
          "CHEMISTRY",
          "GEOLOGY AND EARTH SCIENCE",
          "GEOSCIENCES",
          "MULTI-DISCIPLINARY OR GENERAL SCIENCE",
          "ATMOSPHERIC SCIENCES AND METEOROLOGY"
         ],
         "textfont": {
          "color": "#4D5663"
         },
         "type": "scatter",
         "x": [
          0.021167415,
          0.07154047,
          0.048224496,
          0.056994819,
          0.035353535,
          0.0539724,
          0.075448568,
          0.024373731,
          0.055806815,
          0.022228555
         ],
         "y": [
          827,
          1115,
          14389,
          1595,
          653,
          29910,
          5008,
          1011,
          28966,
          2161
         ]
        },
        {
         "marker": {
          "color": "rgba(128, 0, 128, 1.0)",
          "line": {
           "width": 1.3
          },
          "opacity": 0.8,
          "size": 12,
          "symbol": "circle"
         },
         "mode": "markers",
         "name": "Law & Public Policy",
         "text": [
          "COURT REPORTING",
          "PUBLIC POLICY",
          "PRE-LAW AND LEGAL STUDIES",
          "PUBLIC ADMINISTRATION",
          "CRIMINAL JUSTICE AND FIRE PROTECTION"
         ],
         "textfont": {
          "color": "#4D5663"
         },
         "type": "scatter",
         "x": [
          0.011689692,
          0.128426299,
          0.071965016,
          0.1594906,
          0.082452199
         ],
         "y": [
          808,
          2776,
          5370,
          2952,
          88548
         ]
        },
        {
         "marker": {
          "color": "rgba(219, 64, 82, 1.0)",
          "line": {
           "width": 1.3
          },
          "opacity": 0.8,
          "size": 12,
          "symbol": "circle"
         },
         "mode": "markers",
         "name": "Computers & Mathematics",
         "text": [
          "COMPUTER SCIENCE",
          "MATHEMATICS",
          "COMPUTER AND INFORMATION SYSTEMS",
          "INFORMATION SCIENCES",
          "STATISTICS AND DECISION SCIENCE",
          "APPLIED MATHEMATICS",
          "MATHEMATICS AND COMPUTER SCIENCE",
          "COMPUTER PROGRAMMING AND DATA PROCESSING",
          "COMPUTER ADMINISTRATION MANAGEMENT AND SECURITY",
          "COMPUTER NETWORKING AND TELECOMMUNICATIONS",
          "COMMUNICATION TECHNOLOGIES"
         ],
         "textfont": {
          "color": "#4D5663"
         },
         "type": "scatter",
         "x": [
          0.063172771,
          0.047277138,
          0.093460326,
          0.060741445,
          0.086273666,
          0.090823307,
          0,
          0.11398259,
          0.099723375,
          0.151849807,
          0.119511469
         ],
         "y": [
          70932,
          33738,
          21130,
          7378,
          2151,
          2593,
          391,
          2453,
          4936,
          4369,
          9085
         ]
        },
        {
         "marker": {
          "color": "rgba(0, 128, 128, 1.0)",
          "line": {
           "width": 1.3
          },
          "opacity": 0.8,
          "size": 12,
          "symbol": "circle"
         },
         "mode": "markers",
         "name": "Industrial Arts & Consumer Services",
         "text": [
          "CONSTRUCTION SERVICES",
          "MILITARY TECHNOLOGIES",
          "ELECTRICAL, MECHANICAL, AND PRECISION TECHNOLOGIES AND PRODUCTION",
          "TRANSPORTATION SCIENCES AND TECHNOLOGIES",
          "PHYSICAL FITNESS PARKS RECREATION AND LEISURE",
          "FAMILY AND CONSUMER SCIENCES",
          "COSMETOLOGY SERVICES AND CULINARY ARTS"
         ],
         "textfont": {
          "color": "#4D5663"
         },
         "type": "scatter",
         "x": [
          0.060023041,
          0,
          0.029479503,
          0.072724524,
          0.051467273,
          0.067128194,
          0.055676856
         ],
         "y": [
          12313,
          111,
          1752,
          9170,
          57978,
          26906,
          5949
         ]
        },
        {
         "marker": {
          "color": "rgba(255, 255, 51, 1.0)",
          "line": {
           "width": 1.3
          },
          "opacity": 0.8,
          "size": 12,
          "symbol": "circle"
         },
         "mode": "markers",
         "name": "Arts",
         "text": [
          "MISCELLANEOUS FINE ARTS",
          "COMMERCIAL ART AND GRAPHIC DESIGN",
          "FILM VIDEO AND PHOTOGRAPHIC ARTS",
          "MUSIC",
          "FINE ARTS",
          "VISUAL AND PERFORMING ARTS",
          "STUDIO ARTS",
          "DRAMA AND THEATER ARTS"
         ],
         "textfont": {
          "color": "#4D5663"
         },
         "type": "scatter",
         "x": [
          0.089375,
          0.096797577,
          0.10577224,
          0.075959674,
          0.084186296,
          0.102197419,
          0.089552239,
          0.07754113
         ],
         "y": [
          1200,
          52243,
          15740,
          21425,
          31877,
          6322,
          7413,
          16891
         ]
        },
        {
         "marker": {
          "color": "rgba(128, 128, 0, 1.0)",
          "line": {
           "width": 1.3
          },
          "opacity": 0.8,
          "size": 12,
          "symbol": "circle"
         },
         "mode": "markers",
         "name": "Health",
         "text": [
          "NURSING",
          "MEDICAL TECHNOLOGIES TECHNICIANS",
          "MEDICAL ASSISTING SERVICES",
          "PHARMACY PHARMACEUTICAL SCIENCES AND ADMINISTRATION",
          "MISCELLANEOUS HEALTH MEDICAL PROFESSIONS",
          "NUTRITION SCIENCES",
          "HEALTH AND MEDICAL ADMINISTRATIVE SERVICES",
          "COMMUNITY AND PUBLIC HEALTH",
          "HEALTH AND MEDICAL PREPARATORY PROGRAMS",
          "TREATMENT THERAPY PROFESSIONS",
          "GENERAL MEDICAL AND HEALTH SERVICES",
          "COMMUNICATION DISORDERS SCIENCES AND SERVICES"
         ],
         "textfont": {
          "color": "#4D5663"
         },
         "type": "scatter",
         "x": [
          0.044862724,
          0.03698279,
          0.042506527,
          0.055520827,
          0.08141125,
          0.068700676,
          0.089626262,
          0.112144387,
          0.069779712,
          0.059821207,
          0.082101621,
          0.047584
         ],
         "y": [
          122817,
          9005,
          4290,
          9131,
          5868,
          6625,
          10982,
          7460,
          3236,
          21735,
          12809,
          14460
         ]
        },
        {
         "marker": {
          "color": "rgba(251, 128, 114, 1.0)",
          "line": {
           "width": 1.3
          },
          "opacity": 0.8,
          "size": 12,
          "symbol": "circle"
         },
         "mode": "markers",
         "name": "Social Science",
         "text": [
          "ECONOMICS",
          "INTERNATIONAL RELATIONS",
          "MISCELLANEOUS SOCIAL SCIENCES",
          "POLITICAL SCIENCE AND GOVERNMENT",
          "GEOGRAPHY",
          "CRIMINOLOGY",
          "SOCIOLOGY",
          "INTERDISCIPLINARY SOCIAL SCIENCES",
          "GENERAL SOCIAL SCIENCES"
         ],
         "textfont": {
          "color": "#4D5663"
         },
         "type": "scatter",
         "x": [
          0.099092317,
          0.096798943,
          0.073079538,
          0.101174601,
          0.113458628,
          0.097243919,
          0.084951001,
          0.092305816,
          0.103454715
         ],
         "y": [
          70740,
          13583,
          1530,
          83236,
          8628,
          10548,
          56561,
          4714,
          5679
         ]
        },
        {
         "marker": {
          "color": "rgba(128, 177, 211, 1.0)",
          "line": {
           "width": 1.3
          },
          "opacity": 0.8,
          "size": 12,
          "symbol": "circle"
         },
         "mode": "markers",
         "name": "Biology & Life Science",
         "text": [
          "PHARMACOLOGY",
          "COGNITIVE SCIENCE AND BIOPSYCHOLOGY",
          "MOLECULAR BIOLOGY",
          "GENETICS",
          "MICROBIOLOGY",
          "BIOCHEMICAL SCIENCES",
          "BOTANY",
          "ENVIRONMENTAL SCIENCE",
          "PHYSIOLOGY",
          "NEUROSCIENCE",
          "MISCELLANEOUS BIOLOGY",
          "BIOLOGY",
          "ECOLOGY",
          "ZOOLOGY"
         ],
         "textfont": {
          "color": "#4D5663"
         },
         "type": "scatter",
         "x": [
          0.085531575,
          0.075236167,
          0.084361164,
          0.034117647,
          0.066775872,
          0.080531385,
          0,
          0.078584681,
          0.0691628,
          0.048481675,
          0.058545455,
          0.070724732,
          0.054475193,
          0.04632028
         ],
         "y": [
          565,
          1584,
          6183,
          1487,
          5080,
          13785,
          740,
          10916,
          7588,
          5482,
          4542,
          100336,
          3912,
          3602
         ]
        },
        {
         "marker": {
          "color": "rgba(128, 177, 211, 0.8999999999999999)",
          "line": {
           "width": 1.3
          },
          "opacity": 0.8,
          "size": 12,
          "symbol": "circle"
         },
         "mode": "markers",
         "name": "Education",
         "text": [
          "SCHOOL STUDENT COUNSELING",
          "SPECIAL NEEDS EDUCATION",
          "GENERAL EDUCATION",
          "SOCIAL SCIENCE OR HISTORY TEACHER EDUCATION",
          "MATHEMATICS TEACHER EDUCATION",
          "EDUCATIONAL ADMINISTRATION AND SUPERVISION",
          "LANGUAGE AND DRAMA EDUCATION",
          "MISCELLANEOUS EDUCATION",
          "SECONDARY TEACHER EDUCATION",
          "ART AND MUSIC EDUCATION",
          "ELEMENTARY EDUCATION",
          "SCIENCE AND COMPUTER TEACHER EDUCATION",
          "PHYSICAL AND HEALTH EDUCATION TEACHING",
          "TEACHER EDUCATION: MULTIPLE LEVELS",
          "EARLY CHILDHOOD EDUCATION",
          "LIBRARY SCIENCE"
         ],
         "textfont": {
          "color": "#4D5663"
         },
         "type": "scatter",
         "x": [
          0.107579462,
          0.041507819,
          0.057359929,
          0.054082941,
          0.016202835,
          0,
          0.050306435,
          0.059211951,
          0.05222898,
          0.038637747,
          0.046585715,
          0.047263682,
          0.074667496,
          0.03654583,
          0.040104981,
          0.104945718
         ],
         "y": [
          545,
          16642,
          73531,
          8871,
          8073,
          504,
          15266,
          5816,
          9193,
          16537,
          86540,
          3247,
          13651,
          8457,
          20748,
          410
         ]
        },
        {
         "marker": {
          "color": "rgba(255, 153, 51, 0.8999999999999999)",
          "line": {
           "width": 1.3
          },
          "opacity": 0.8,
          "size": 12,
          "symbol": "circle"
         },
         "mode": "markers",
         "name": "Agriculture & Natural Resources",
         "text": [
          "AGRICULTURE PRODUCTION AND MANAGEMENT",
          "GENERAL AGRICULTURE",
          "AGRICULTURAL ECONOMICS",
          "NATURAL RESOURCES MANAGEMENT",
          "FORESTRY",
          "SOIL SCIENCE",
          "PLANT SCIENCE AND AGRONOMY",
          "ANIMAL SCIENCES",
          "MISCELLANEOUS AGRICULTURE"
         ],
         "textfont": {
          "color": "#4D5663"
         },
         "type": "scatter",
         "x": [
          0.050030836,
          0.019642463,
          0.077249576,
          0.066619195,
          0.096725743,
          0,
          0.045454545,
          0.050862499,
          0.059766764
         ],
         "y": [
          9093,
          5888,
          1528,
          6954,
          1763,
          383,
          4522,
          10824,
          936
         ]
        },
        {
         "marker": {
          "color": "rgba(55, 128, 191, 0.8999999999999999)",
          "line": {
           "width": 1.3
          },
          "opacity": 0.8,
          "size": 12,
          "symbol": "circle"
         },
         "mode": "markers",
         "name": "Humanities & Liberal Arts",
         "text": [
          "UNITED STATES HISTORY",
          "AREA ETHNIC AND CIVILIZATION STUDIES",
          "HISTORY",
          "FRENCH GERMAN LATIN AND OTHER COMMON FOREIGN LANGUAGE STUDIES",
          "INTERCULTURAL AND INTERNATIONAL STUDIES",
          "LINGUISTICS AND COMPARATIVE LANGUAGE AND LITERATURE",
          "PHILOSOPHY AND RELIGIOUS STUDIES",
          "ENGLISH LANGUAGE AND LITERATURE",
          "LIBERAL ARTS",
          "ART HISTORY AND CRITICISM",
          "HUMANITIES",
          "THEOLOGY AND RELIGIOUS VOCATIONS",
          "ANTHROPOLOGY AND ARCHEOLOGY",
          "OTHER FOREIGN LANGUAGES",
          "COMPOSITION AND RHETORIC"
         ],
         "textfont": {
          "color": "#4D5663"
         },
         "type": "scatter",
         "x": [
          0.047179487,
          0.063429289,
          0.095666912,
          0.075566386,
          0.083633531,
          0.10443571,
          0.096051684,
          0.08772359,
          0.078267592,
          0.060298284,
          0.068584071,
          0.062628297,
          0.102791571,
          0.107115726,
          0.081742207
         ],
         "y": [
          1274,
          13109,
          59218,
          20056,
          8801,
          5821,
          21816,
          81180,
          33438,
          9965,
          2661,
          13944,
          13232,
          3214,
          7832
         ]
        },
        {
         "marker": {
          "color": "rgba(50, 171, 96, 0.8999999999999999)",
          "line": {
           "width": 1.3
          },
          "opacity": 0.8,
          "size": 12,
          "symbol": "circle"
         },
         "mode": "markers",
         "name": "Psychology & Social Work",
         "text": [
          "INDUSTRIAL AND ORGANIZATIONAL PSYCHOLOGY",
          "SOCIAL PSYCHOLOGY",
          "PSYCHOLOGY",
          "SOCIAL WORK",
          "MISCELLANEOUS PSYCHOLOGY",
          "HUMAN SERVICES AND COMMUNITY ORGANIZATION",
          "EDUCATIONAL PSYCHOLOGY",
          "CLINICAL PSYCHOLOGY",
          "COUNSELING PSYCHOLOGY"
         ],
         "textfont": {
          "color": "#4D5663"
         },
         "type": "scatter",
         "x": [
          0.108786611,
          0.029649596,
          0.083810867,
          0.06882792,
          0.05190783,
          0.037819026,
          0.065112187,
          0.149048198,
          0.053620646
         ],
         "y": [
          1409,
          529,
          174438,
          27588,
          3838,
          5061,
          1211,
          1293,
          2738
         ]
        },
        {
         "marker": {
          "color": "rgba(128, 0, 128, 0.8999999999999999)",
          "line": {
           "width": 1.3
          },
          "opacity": 0.8,
          "size": 12,
          "symbol": "circle"
         },
         "mode": "markers",
         "name": "Communications & Journalism",
         "text": [
          "COMMUNICATIONS",
          "JOURNALISM",
          "ADVERTISING AND PUBLIC RELATIONS",
          "MASS MEDIA"
         ],
         "textfont": {
          "color": "#4D5663"
         },
         "type": "scatter",
         "x": [
          0.075176976,
          0.069176442,
          0.067960766,
          0.089836827
         ],
         "y": [
          116251,
          39524,
          30932,
          27521
         ]
        },
        {
         "marker": {
          "color": "rgba(219, 64, 82, 0.8999999999999999)",
          "line": {
           "width": 1.3
          },
          "opacity": 0.8,
          "size": 12,
          "symbol": "circle"
         },
         "mode": "markers",
         "name": "Interdisciplinary",
         "text": [
          "MULTI/INTERDISCIPLINARY STUDIES"
         ],
         "textfont": {
          "color": "#4D5663"
         },
         "type": "scatter",
         "x": [
          0.070860927
         ],
         "y": [
          6234
         ]
        }
       ],
       "layout": {
        "legend": {
         "bgcolor": "#F5F6F9",
         "font": {
          "color": "#4D5663"
         }
        },
        "paper_bgcolor": "#F5F6F9",
        "plot_bgcolor": "#F5F6F9",
        "template": {
         "data": {
          "bar": [
           {
            "error_x": {
             "color": "#2a3f5f"
            },
            "error_y": {
             "color": "#2a3f5f"
            },
            "marker": {
             "line": {
              "color": "#E5ECF6",
              "width": 0.5
             },
             "pattern": {
              "fillmode": "overlay",
              "size": 10,
              "solidity": 0.2
             }
            },
            "type": "bar"
           }
          ],
          "barpolar": [
           {
            "marker": {
             "line": {
              "color": "#E5ECF6",
              "width": 0.5
             },
             "pattern": {
              "fillmode": "overlay",
              "size": 10,
              "solidity": 0.2
             }
            },
            "type": "barpolar"
           }
          ],
          "carpet": [
           {
            "aaxis": {
             "endlinecolor": "#2a3f5f",
             "gridcolor": "white",
             "linecolor": "white",
             "minorgridcolor": "white",
             "startlinecolor": "#2a3f5f"
            },
            "baxis": {
             "endlinecolor": "#2a3f5f",
             "gridcolor": "white",
             "linecolor": "white",
             "minorgridcolor": "white",
             "startlinecolor": "#2a3f5f"
            },
            "type": "carpet"
           }
          ],
          "choropleth": [
           {
            "colorbar": {
             "outlinewidth": 0,
             "ticks": ""
            },
            "type": "choropleth"
           }
          ],
          "contour": [
           {
            "colorbar": {
             "outlinewidth": 0,
             "ticks": ""
            },
            "colorscale": [
             [
              0,
              "#0d0887"
             ],
             [
              0.1111111111111111,
              "#46039f"
             ],
             [
              0.2222222222222222,
              "#7201a8"
             ],
             [
              0.3333333333333333,
              "#9c179e"
             ],
             [
              0.4444444444444444,
              "#bd3786"
             ],
             [
              0.5555555555555556,
              "#d8576b"
             ],
             [
              0.6666666666666666,
              "#ed7953"
             ],
             [
              0.7777777777777778,
              "#fb9f3a"
             ],
             [
              0.8888888888888888,
              "#fdca26"
             ],
             [
              1,
              "#f0f921"
             ]
            ],
            "type": "contour"
           }
          ],
          "contourcarpet": [
           {
            "colorbar": {
             "outlinewidth": 0,
             "ticks": ""
            },
            "type": "contourcarpet"
           }
          ],
          "heatmap": [
           {
            "colorbar": {
             "outlinewidth": 0,
             "ticks": ""
            },
            "colorscale": [
             [
              0,
              "#0d0887"
             ],
             [
              0.1111111111111111,
              "#46039f"
             ],
             [
              0.2222222222222222,
              "#7201a8"
             ],
             [
              0.3333333333333333,
              "#9c179e"
             ],
             [
              0.4444444444444444,
              "#bd3786"
             ],
             [
              0.5555555555555556,
              "#d8576b"
             ],
             [
              0.6666666666666666,
              "#ed7953"
             ],
             [
              0.7777777777777778,
              "#fb9f3a"
             ],
             [
              0.8888888888888888,
              "#fdca26"
             ],
             [
              1,
              "#f0f921"
             ]
            ],
            "type": "heatmap"
           }
          ],
          "heatmapgl": [
           {
            "colorbar": {
             "outlinewidth": 0,
             "ticks": ""
            },
            "colorscale": [
             [
              0,
              "#0d0887"
             ],
             [
              0.1111111111111111,
              "#46039f"
             ],
             [
              0.2222222222222222,
              "#7201a8"
             ],
             [
              0.3333333333333333,
              "#9c179e"
             ],
             [
              0.4444444444444444,
              "#bd3786"
             ],
             [
              0.5555555555555556,
              "#d8576b"
             ],
             [
              0.6666666666666666,
              "#ed7953"
             ],
             [
              0.7777777777777778,
              "#fb9f3a"
             ],
             [
              0.8888888888888888,
              "#fdca26"
             ],
             [
              1,
              "#f0f921"
             ]
            ],
            "type": "heatmapgl"
           }
          ],
          "histogram": [
           {
            "marker": {
             "pattern": {
              "fillmode": "overlay",
              "size": 10,
              "solidity": 0.2
             }
            },
            "type": "histogram"
           }
          ],
          "histogram2d": [
           {
            "colorbar": {
             "outlinewidth": 0,
             "ticks": ""
            },
            "colorscale": [
             [
              0,
              "#0d0887"
             ],
             [
              0.1111111111111111,
              "#46039f"
             ],
             [
              0.2222222222222222,
              "#7201a8"
             ],
             [
              0.3333333333333333,
              "#9c179e"
             ],
             [
              0.4444444444444444,
              "#bd3786"
             ],
             [
              0.5555555555555556,
              "#d8576b"
             ],
             [
              0.6666666666666666,
              "#ed7953"
             ],
             [
              0.7777777777777778,
              "#fb9f3a"
             ],
             [
              0.8888888888888888,
              "#fdca26"
             ],
             [
              1,
              "#f0f921"
             ]
            ],
            "type": "histogram2d"
           }
          ],
          "histogram2dcontour": [
           {
            "colorbar": {
             "outlinewidth": 0,
             "ticks": ""
            },
            "colorscale": [
             [
              0,
              "#0d0887"
             ],
             [
              0.1111111111111111,
              "#46039f"
             ],
             [
              0.2222222222222222,
              "#7201a8"
             ],
             [
              0.3333333333333333,
              "#9c179e"
             ],
             [
              0.4444444444444444,
              "#bd3786"
             ],
             [
              0.5555555555555556,
              "#d8576b"
             ],
             [
              0.6666666666666666,
              "#ed7953"
             ],
             [
              0.7777777777777778,
              "#fb9f3a"
             ],
             [
              0.8888888888888888,
              "#fdca26"
             ],
             [
              1,
              "#f0f921"
             ]
            ],
            "type": "histogram2dcontour"
           }
          ],
          "mesh3d": [
           {
            "colorbar": {
             "outlinewidth": 0,
             "ticks": ""
            },
            "type": "mesh3d"
           }
          ],
          "parcoords": [
           {
            "line": {
             "colorbar": {
              "outlinewidth": 0,
              "ticks": ""
             }
            },
            "type": "parcoords"
           }
          ],
          "pie": [
           {
            "automargin": true,
            "type": "pie"
           }
          ],
          "scatter": [
           {
            "fillpattern": {
             "fillmode": "overlay",
             "size": 10,
             "solidity": 0.2
            },
            "type": "scatter"
           }
          ],
          "scatter3d": [
           {
            "line": {
             "colorbar": {
              "outlinewidth": 0,
              "ticks": ""
             }
            },
            "marker": {
             "colorbar": {
              "outlinewidth": 0,
              "ticks": ""
             }
            },
            "type": "scatter3d"
           }
          ],
          "scattercarpet": [
           {
            "marker": {
             "colorbar": {
              "outlinewidth": 0,
              "ticks": ""
             }
            },
            "type": "scattercarpet"
           }
          ],
          "scattergeo": [
           {
            "marker": {
             "colorbar": {
              "outlinewidth": 0,
              "ticks": ""
             }
            },
            "type": "scattergeo"
           }
          ],
          "scattergl": [
           {
            "marker": {
             "colorbar": {
              "outlinewidth": 0,
              "ticks": ""
             }
            },
            "type": "scattergl"
           }
          ],
          "scattermapbox": [
           {
            "marker": {
             "colorbar": {
              "outlinewidth": 0,
              "ticks": ""
             }
            },
            "type": "scattermapbox"
           }
          ],
          "scatterpolar": [
           {
            "marker": {
             "colorbar": {
              "outlinewidth": 0,
              "ticks": ""
             }
            },
            "type": "scatterpolar"
           }
          ],
          "scatterpolargl": [
           {
            "marker": {
             "colorbar": {
              "outlinewidth": 0,
              "ticks": ""
             }
            },
            "type": "scatterpolargl"
           }
          ],
          "scatterternary": [
           {
            "marker": {
             "colorbar": {
              "outlinewidth": 0,
              "ticks": ""
             }
            },
            "type": "scatterternary"
           }
          ],
          "surface": [
           {
            "colorbar": {
             "outlinewidth": 0,
             "ticks": ""
            },
            "colorscale": [
             [
              0,
              "#0d0887"
             ],
             [
              0.1111111111111111,
              "#46039f"
             ],
             [
              0.2222222222222222,
              "#7201a8"
             ],
             [
              0.3333333333333333,
              "#9c179e"
             ],
             [
              0.4444444444444444,
              "#bd3786"
             ],
             [
              0.5555555555555556,
              "#d8576b"
             ],
             [
              0.6666666666666666,
              "#ed7953"
             ],
             [
              0.7777777777777778,
              "#fb9f3a"
             ],
             [
              0.8888888888888888,
              "#fdca26"
             ],
             [
              1,
              "#f0f921"
             ]
            ],
            "type": "surface"
           }
          ],
          "table": [
           {
            "cells": {
             "fill": {
              "color": "#EBF0F8"
             },
             "line": {
              "color": "white"
             }
            },
            "header": {
             "fill": {
              "color": "#C8D4E3"
             },
             "line": {
              "color": "white"
             }
            },
            "type": "table"
           }
          ]
         },
         "layout": {
          "annotationdefaults": {
           "arrowcolor": "#2a3f5f",
           "arrowhead": 0,
           "arrowwidth": 1
          },
          "autotypenumbers": "strict",
          "coloraxis": {
           "colorbar": {
            "outlinewidth": 0,
            "ticks": ""
           }
          },
          "colorscale": {
           "diverging": [
            [
             0,
             "#8e0152"
            ],
            [
             0.1,
             "#c51b7d"
            ],
            [
             0.2,
             "#de77ae"
            ],
            [
             0.3,
             "#f1b6da"
            ],
            [
             0.4,
             "#fde0ef"
            ],
            [
             0.5,
             "#f7f7f7"
            ],
            [
             0.6,
             "#e6f5d0"
            ],
            [
             0.7,
             "#b8e186"
            ],
            [
             0.8,
             "#7fbc41"
            ],
            [
             0.9,
             "#4d9221"
            ],
            [
             1,
             "#276419"
            ]
           ],
           "sequential": [
            [
             0,
             "#0d0887"
            ],
            [
             0.1111111111111111,
             "#46039f"
            ],
            [
             0.2222222222222222,
             "#7201a8"
            ],
            [
             0.3333333333333333,
             "#9c179e"
            ],
            [
             0.4444444444444444,
             "#bd3786"
            ],
            [
             0.5555555555555556,
             "#d8576b"
            ],
            [
             0.6666666666666666,
             "#ed7953"
            ],
            [
             0.7777777777777778,
             "#fb9f3a"
            ],
            [
             0.8888888888888888,
             "#fdca26"
            ],
            [
             1,
             "#f0f921"
            ]
           ],
           "sequentialminus": [
            [
             0,
             "#0d0887"
            ],
            [
             0.1111111111111111,
             "#46039f"
            ],
            [
             0.2222222222222222,
             "#7201a8"
            ],
            [
             0.3333333333333333,
             "#9c179e"
            ],
            [
             0.4444444444444444,
             "#bd3786"
            ],
            [
             0.5555555555555556,
             "#d8576b"
            ],
            [
             0.6666666666666666,
             "#ed7953"
            ],
            [
             0.7777777777777778,
             "#fb9f3a"
            ],
            [
             0.8888888888888888,
             "#fdca26"
            ],
            [
             1,
             "#f0f921"
            ]
           ]
          },
          "colorway": [
           "#636efa",
           "#EF553B",
           "#00cc96",
           "#ab63fa",
           "#FFA15A",
           "#19d3f3",
           "#FF6692",
           "#B6E880",
           "#FF97FF",
           "#FECB52"
          ],
          "font": {
           "color": "#2a3f5f"
          },
          "geo": {
           "bgcolor": "white",
           "lakecolor": "white",
           "landcolor": "#E5ECF6",
           "showlakes": true,
           "showland": true,
           "subunitcolor": "white"
          },
          "hoverlabel": {
           "align": "left"
          },
          "hovermode": "closest",
          "mapbox": {
           "style": "light"
          },
          "paper_bgcolor": "white",
          "plot_bgcolor": "#E5ECF6",
          "polar": {
           "angularaxis": {
            "gridcolor": "white",
            "linecolor": "white",
            "ticks": ""
           },
           "bgcolor": "#E5ECF6",
           "radialaxis": {
            "gridcolor": "white",
            "linecolor": "white",
            "ticks": ""
           }
          },
          "scene": {
           "xaxis": {
            "backgroundcolor": "#E5ECF6",
            "gridcolor": "white",
            "gridwidth": 2,
            "linecolor": "white",
            "showbackground": true,
            "ticks": "",
            "zerolinecolor": "white"
           },
           "yaxis": {
            "backgroundcolor": "#E5ECF6",
            "gridcolor": "white",
            "gridwidth": 2,
            "linecolor": "white",
            "showbackground": true,
            "ticks": "",
            "zerolinecolor": "white"
           },
           "zaxis": {
            "backgroundcolor": "#E5ECF6",
            "gridcolor": "white",
            "gridwidth": 2,
            "linecolor": "white",
            "showbackground": true,
            "ticks": "",
            "zerolinecolor": "white"
           }
          },
          "shapedefaults": {
           "line": {
            "color": "#2a3f5f"
           }
          },
          "ternary": {
           "aaxis": {
            "gridcolor": "white",
            "linecolor": "white",
            "ticks": ""
           },
           "baxis": {
            "gridcolor": "white",
            "linecolor": "white",
            "ticks": ""
           },
           "bgcolor": "#E5ECF6",
           "caxis": {
            "gridcolor": "white",
            "linecolor": "white",
            "ticks": ""
           }
          },
          "title": {
           "x": 0.05
          },
          "xaxis": {
           "automargin": true,
           "gridcolor": "white",
           "linecolor": "white",
           "ticks": "",
           "title": {
            "standoff": 15
           },
           "zerolinecolor": "white",
           "zerolinewidth": 2
          },
          "yaxis": {
           "automargin": true,
           "gridcolor": "white",
           "linecolor": "white",
           "ticks": "",
           "title": {
            "standoff": 15
           },
           "zerolinecolor": "white",
           "zerolinewidth": 2
          }
         }
        },
        "title": {
         "font": {
          "color": "#4D5663"
         },
         "text": "Job Prospects"
        },
        "xaxis": {
         "gridcolor": "#E1E5ED",
         "showgrid": true,
         "tickfont": {
          "color": "#4D5663"
         },
         "title": {
          "font": {
           "color": "#4D5663"
          },
          "text": "Unemployment rate"
         },
         "zerolinecolor": "#E1E5ED"
        },
        "yaxis": {
         "gridcolor": "#E1E5ED",
         "showgrid": true,
         "tickfont": {
          "color": "#4D5663"
         },
         "title": {
          "font": {
           "color": "#4D5663"
          },
          "text": "Amount of full time year round employees"
         },
         "zerolinecolor": "#E1E5ED"
        }
       }
      },
      "text/html": [
       "<div>                            <div id=\"9f59f5bc-53fb-4d36-bc51-af1b41724641\" class=\"plotly-graph-div\" style=\"height:525px; width:100%;\"></div>            <script type=\"text/javascript\">                require([\"plotly\"], function(Plotly) {                    window.PLOTLYENV=window.PLOTLYENV || {};\n",
       "                    window.PLOTLYENV.BASE_URL='https://plot.ly';                                    if (document.getElementById(\"9f59f5bc-53fb-4d36-bc51-af1b41724641\")) {                    Plotly.newPlot(                        \"9f59f5bc-53fb-4d36-bc51-af1b41724641\",                        [{\"marker\":{\"color\":\"rgba(255, 153, 51, 1.0)\",\"line\":{\"width\":1.3},\"opacity\":0.8,\"size\":12,\"symbol\":\"circle\"},\"mode\":\"markers\",\"name\":\"Engineering\",\"text\":[\"PETROLEUM ENGINEERING\",\"MINING AND MINERAL ENGINEERING\",\"METALLURGICAL ENGINEERING\",\"NAVAL ARCHITECTURE AND MARINE ENGINEERING\",\"CHEMICAL ENGINEERING\",\"NUCLEAR ENGINEERING\",\"MECHANICAL ENGINEERING\",\"ELECTRICAL ENGINEERING\",\"COMPUTER ENGINEERING\",\"AEROSPACE ENGINEERING\",\"BIOMEDICAL ENGINEERING\",\"MATERIALS SCIENCE\",\"ENGINEERING MECHANICS PHYSICS AND SCIENCE\",\"BIOLOGICAL ENGINEERING\",\"INDUSTRIAL AND MANUFACTURING ENGINEERING\",\"GENERAL ENGINEERING\",\"ARCHITECTURAL ENGINEERING\",\"ELECTRICAL ENGINEERING TECHNOLOGY\",\"MATERIALS ENGINEERING AND MATERIALS SCIENCE\",\"CIVIL ENGINEERING\",\"MISCELLANEOUS ENGINEERING\",\"ENVIRONMENTAL ENGINEERING\",\"ENGINEERING TECHNOLOGIES\",\"GEOLOGICAL AND GEOPHYSICAL ENGINEERING\",\"INDUSTRIAL PRODUCTION TECHNOLOGIES\",\"ENGINEERING AND INDUSTRIAL MANAGEMENT\",\"ARCHITECTURE\",\"MISCELLANEOUS ENGINEERING TECHNOLOGIES\",\"MECHANICAL ENGINEERING RELATED TECHNOLOGIES\"],\"textfont\":{\"color\":\"#4D5663\"},\"x\":[0.018380527,0.117241379,0.024096386,0.050125313,0.061097712,0.177226407,0.057342278,0.059173845,0.065409275,0.065162085,0.09208386,0.023042836,0.006334343,0.087143069,0.042875544,0.059824231,0.061930783,0.087557114,0.027788805,0.070609574,0.074392523,0.093588575,0.055030385,0.075038285,0.028308097,0.03365166,0.113331949,0.05253852,0.056357078],\"y\":[1207,388,340,692,16697,1449,54639,41413,23621,8790,5986,1967,2004,3413,11326,33540,1848,5681,1151,29196,5476,1951,1723,396,3242,1358,20026,5825,3607],\"type\":\"scatter\"},{\"marker\":{\"color\":\"rgba(55, 128, 191, 1.0)\",\"line\":{\"width\":1.3},\"opacity\":0.8,\"size\":12,\"symbol\":\"circle\"},\"mode\":\"markers\",\"name\":\"Business\",\"text\":[\"ACTUARIAL SCIENCE\",\"MANAGEMENT INFORMATION SYSTEMS AND STATISTICS\",\"OPERATIONS LOGISTICS AND E-COMMERCE\",\"FINANCE\",\"BUSINESS ECONOMICS\",\"ACCOUNTING\",\"GENERAL BUSINESS\",\"INTERNATIONAL BUSINESS\",\"MISCELLANEOUS BUSINESS & MEDICAL ADMINISTRATION\",\"BUSINESS MANAGEMENT AND ADMINISTRATION\",\"MARKETING AND MARKETING RESEARCH\",\"HUMAN RESOURCES AND PERSONNEL MANAGEMENT\",\"HOSPITALITY MANAGEMENT\"],\"textfont\":{\"color\":\"#4D5663\"},\"x\":[0.095652174,0.058239614,0.047858703,0.060686356,0.096448381,0.069749014,0.072861468,0.096175064,0.071982974,0.072218341,0.061215064,0.059569649,0.061169193],\"y\":[2482,13017,7724,108595,8000,123169,138299,12823,10637,199897,127230,15446,23106],\"type\":\"scatter\"},{\"marker\":{\"color\":\"rgba(50, 171, 96, 1.0)\",\"line\":{\"width\":1.3},\"opacity\":0.8,\"size\":12,\"symbol\":\"circle\"},\"mode\":\"markers\",\"name\":\"Physical Sciences\",\"text\":[\"ASTRONOMY AND ASTROPHYSICS\",\"NUCLEAR, INDUSTRIAL RADIOLOGY, AND BIOLOGICAL TECHNOLOGIES\",\"PHYSICS\",\"OCEANOGRAPHY\",\"PHYSICAL SCIENCES\",\"CHEMISTRY\",\"GEOLOGY AND EARTH SCIENCE\",\"GEOSCIENCES\",\"MULTI-DISCIPLINARY OR GENERAL SCIENCE\",\"ATMOSPHERIC SCIENCES AND METEOROLOGY\"],\"textfont\":{\"color\":\"#4D5663\"},\"x\":[0.021167415,0.07154047,0.048224496,0.056994819,0.035353535,0.0539724,0.075448568,0.024373731,0.055806815,0.022228555],\"y\":[827,1115,14389,1595,653,29910,5008,1011,28966,2161],\"type\":\"scatter\"},{\"marker\":{\"color\":\"rgba(128, 0, 128, 1.0)\",\"line\":{\"width\":1.3},\"opacity\":0.8,\"size\":12,\"symbol\":\"circle\"},\"mode\":\"markers\",\"name\":\"Law & Public Policy\",\"text\":[\"COURT REPORTING\",\"PUBLIC POLICY\",\"PRE-LAW AND LEGAL STUDIES\",\"PUBLIC ADMINISTRATION\",\"CRIMINAL JUSTICE AND FIRE PROTECTION\"],\"textfont\":{\"color\":\"#4D5663\"},\"x\":[0.011689692,0.128426299,0.071965016,0.1594906,0.082452199],\"y\":[808,2776,5370,2952,88548],\"type\":\"scatter\"},{\"marker\":{\"color\":\"rgba(219, 64, 82, 1.0)\",\"line\":{\"width\":1.3},\"opacity\":0.8,\"size\":12,\"symbol\":\"circle\"},\"mode\":\"markers\",\"name\":\"Computers & Mathematics\",\"text\":[\"COMPUTER SCIENCE\",\"MATHEMATICS\",\"COMPUTER AND INFORMATION SYSTEMS\",\"INFORMATION SCIENCES\",\"STATISTICS AND DECISION SCIENCE\",\"APPLIED MATHEMATICS\",\"MATHEMATICS AND COMPUTER SCIENCE\",\"COMPUTER PROGRAMMING AND DATA PROCESSING\",\"COMPUTER ADMINISTRATION MANAGEMENT AND SECURITY\",\"COMPUTER NETWORKING AND TELECOMMUNICATIONS\",\"COMMUNICATION TECHNOLOGIES\"],\"textfont\":{\"color\":\"#4D5663\"},\"x\":[0.063172771,0.047277138,0.093460326,0.060741445,0.086273666,0.090823307,0.0,0.11398259,0.099723375,0.151849807,0.119511469],\"y\":[70932,33738,21130,7378,2151,2593,391,2453,4936,4369,9085],\"type\":\"scatter\"},{\"marker\":{\"color\":\"rgba(0, 128, 128, 1.0)\",\"line\":{\"width\":1.3},\"opacity\":0.8,\"size\":12,\"symbol\":\"circle\"},\"mode\":\"markers\",\"name\":\"Industrial Arts & Consumer Services\",\"text\":[\"CONSTRUCTION SERVICES\",\"MILITARY TECHNOLOGIES\",\"ELECTRICAL, MECHANICAL, AND PRECISION TECHNOLOGIES AND PRODUCTION\",\"TRANSPORTATION SCIENCES AND TECHNOLOGIES\",\"PHYSICAL FITNESS PARKS RECREATION AND LEISURE\",\"FAMILY AND CONSUMER SCIENCES\",\"COSMETOLOGY SERVICES AND CULINARY ARTS\"],\"textfont\":{\"color\":\"#4D5663\"},\"x\":[0.060023041,0.0,0.029479503,0.072724524,0.051467273,0.067128194,0.055676856],\"y\":[12313,111,1752,9170,57978,26906,5949],\"type\":\"scatter\"},{\"marker\":{\"color\":\"rgba(255, 255, 51, 1.0)\",\"line\":{\"width\":1.3},\"opacity\":0.8,\"size\":12,\"symbol\":\"circle\"},\"mode\":\"markers\",\"name\":\"Arts\",\"text\":[\"MISCELLANEOUS FINE ARTS\",\"COMMERCIAL ART AND GRAPHIC DESIGN\",\"FILM VIDEO AND PHOTOGRAPHIC ARTS\",\"MUSIC\",\"FINE ARTS\",\"VISUAL AND PERFORMING ARTS\",\"STUDIO ARTS\",\"DRAMA AND THEATER ARTS\"],\"textfont\":{\"color\":\"#4D5663\"},\"x\":[0.089375,0.096797577,0.10577224,0.075959674,0.084186296,0.102197419,0.089552239,0.07754113],\"y\":[1200,52243,15740,21425,31877,6322,7413,16891],\"type\":\"scatter\"},{\"marker\":{\"color\":\"rgba(128, 128, 0, 1.0)\",\"line\":{\"width\":1.3},\"opacity\":0.8,\"size\":12,\"symbol\":\"circle\"},\"mode\":\"markers\",\"name\":\"Health\",\"text\":[\"NURSING\",\"MEDICAL TECHNOLOGIES TECHNICIANS\",\"MEDICAL ASSISTING SERVICES\",\"PHARMACY PHARMACEUTICAL SCIENCES AND ADMINISTRATION\",\"MISCELLANEOUS HEALTH MEDICAL PROFESSIONS\",\"NUTRITION SCIENCES\",\"HEALTH AND MEDICAL ADMINISTRATIVE SERVICES\",\"COMMUNITY AND PUBLIC HEALTH\",\"HEALTH AND MEDICAL PREPARATORY PROGRAMS\",\"TREATMENT THERAPY PROFESSIONS\",\"GENERAL MEDICAL AND HEALTH SERVICES\",\"COMMUNICATION DISORDERS SCIENCES AND SERVICES\"],\"textfont\":{\"color\":\"#4D5663\"},\"x\":[0.044862724,0.03698279,0.042506527,0.055520827,0.08141125,0.068700676,0.089626262,0.112144387,0.069779712,0.059821207,0.082101621,0.047584],\"y\":[122817,9005,4290,9131,5868,6625,10982,7460,3236,21735,12809,14460],\"type\":\"scatter\"},{\"marker\":{\"color\":\"rgba(251, 128, 114, 1.0)\",\"line\":{\"width\":1.3},\"opacity\":0.8,\"size\":12,\"symbol\":\"circle\"},\"mode\":\"markers\",\"name\":\"Social Science\",\"text\":[\"ECONOMICS\",\"INTERNATIONAL RELATIONS\",\"MISCELLANEOUS SOCIAL SCIENCES\",\"POLITICAL SCIENCE AND GOVERNMENT\",\"GEOGRAPHY\",\"CRIMINOLOGY\",\"SOCIOLOGY\",\"INTERDISCIPLINARY SOCIAL SCIENCES\",\"GENERAL SOCIAL SCIENCES\"],\"textfont\":{\"color\":\"#4D5663\"},\"x\":[0.099092317,0.096798943,0.073079538,0.101174601,0.113458628,0.097243919,0.084951001,0.092305816,0.103454715],\"y\":[70740,13583,1530,83236,8628,10548,56561,4714,5679],\"type\":\"scatter\"},{\"marker\":{\"color\":\"rgba(128, 177, 211, 1.0)\",\"line\":{\"width\":1.3},\"opacity\":0.8,\"size\":12,\"symbol\":\"circle\"},\"mode\":\"markers\",\"name\":\"Biology & Life Science\",\"text\":[\"PHARMACOLOGY\",\"COGNITIVE SCIENCE AND BIOPSYCHOLOGY\",\"MOLECULAR BIOLOGY\",\"GENETICS\",\"MICROBIOLOGY\",\"BIOCHEMICAL SCIENCES\",\"BOTANY\",\"ENVIRONMENTAL SCIENCE\",\"PHYSIOLOGY\",\"NEUROSCIENCE\",\"MISCELLANEOUS BIOLOGY\",\"BIOLOGY\",\"ECOLOGY\",\"ZOOLOGY\"],\"textfont\":{\"color\":\"#4D5663\"},\"x\":[0.085531575,0.075236167,0.084361164,0.034117647,0.066775872,0.080531385,0.0,0.078584681,0.0691628,0.048481675,0.058545455,0.070724732,0.054475193,0.04632028],\"y\":[565,1584,6183,1487,5080,13785,740,10916,7588,5482,4542,100336,3912,3602],\"type\":\"scatter\"},{\"marker\":{\"color\":\"rgba(128, 177, 211, 0.8999999999999999)\",\"line\":{\"width\":1.3},\"opacity\":0.8,\"size\":12,\"symbol\":\"circle\"},\"mode\":\"markers\",\"name\":\"Education\",\"text\":[\"SCHOOL STUDENT COUNSELING\",\"SPECIAL NEEDS EDUCATION\",\"GENERAL EDUCATION\",\"SOCIAL SCIENCE OR HISTORY TEACHER EDUCATION\",\"MATHEMATICS TEACHER EDUCATION\",\"EDUCATIONAL ADMINISTRATION AND SUPERVISION\",\"LANGUAGE AND DRAMA EDUCATION\",\"MISCELLANEOUS EDUCATION\",\"SECONDARY TEACHER EDUCATION\",\"ART AND MUSIC EDUCATION\",\"ELEMENTARY EDUCATION\",\"SCIENCE AND COMPUTER TEACHER EDUCATION\",\"PHYSICAL AND HEALTH EDUCATION TEACHING\",\"TEACHER EDUCATION: MULTIPLE LEVELS\",\"EARLY CHILDHOOD EDUCATION\",\"LIBRARY SCIENCE\"],\"textfont\":{\"color\":\"#4D5663\"},\"x\":[0.107579462,0.041507819,0.057359929,0.054082941,0.016202835,0.0,0.050306435,0.059211951,0.05222898,0.038637747,0.046585715,0.047263682,0.074667496,0.03654583,0.040104981,0.104945718],\"y\":[545,16642,73531,8871,8073,504,15266,5816,9193,16537,86540,3247,13651,8457,20748,410],\"type\":\"scatter\"},{\"marker\":{\"color\":\"rgba(255, 153, 51, 0.8999999999999999)\",\"line\":{\"width\":1.3},\"opacity\":0.8,\"size\":12,\"symbol\":\"circle\"},\"mode\":\"markers\",\"name\":\"Agriculture & Natural Resources\",\"text\":[\"AGRICULTURE PRODUCTION AND MANAGEMENT\",\"GENERAL AGRICULTURE\",\"AGRICULTURAL ECONOMICS\",\"NATURAL RESOURCES MANAGEMENT\",\"FORESTRY\",\"SOIL SCIENCE\",\"PLANT SCIENCE AND AGRONOMY\",\"ANIMAL SCIENCES\",\"MISCELLANEOUS AGRICULTURE\"],\"textfont\":{\"color\":\"#4D5663\"},\"x\":[0.050030836,0.019642463,0.077249576,0.066619195,0.096725743,0.0,0.045454545,0.050862499,0.059766764],\"y\":[9093,5888,1528,6954,1763,383,4522,10824,936],\"type\":\"scatter\"},{\"marker\":{\"color\":\"rgba(55, 128, 191, 0.8999999999999999)\",\"line\":{\"width\":1.3},\"opacity\":0.8,\"size\":12,\"symbol\":\"circle\"},\"mode\":\"markers\",\"name\":\"Humanities & Liberal Arts\",\"text\":[\"UNITED STATES HISTORY\",\"AREA ETHNIC AND CIVILIZATION STUDIES\",\"HISTORY\",\"FRENCH GERMAN LATIN AND OTHER COMMON FOREIGN LANGUAGE STUDIES\",\"INTERCULTURAL AND INTERNATIONAL STUDIES\",\"LINGUISTICS AND COMPARATIVE LANGUAGE AND LITERATURE\",\"PHILOSOPHY AND RELIGIOUS STUDIES\",\"ENGLISH LANGUAGE AND LITERATURE\",\"LIBERAL ARTS\",\"ART HISTORY AND CRITICISM\",\"HUMANITIES\",\"THEOLOGY AND RELIGIOUS VOCATIONS\",\"ANTHROPOLOGY AND ARCHEOLOGY\",\"OTHER FOREIGN LANGUAGES\",\"COMPOSITION AND RHETORIC\"],\"textfont\":{\"color\":\"#4D5663\"},\"x\":[0.047179487,0.063429289,0.095666912,0.075566386,0.083633531,0.10443571,0.096051684,0.08772359,0.078267592,0.060298284,0.068584071,0.062628297,0.102791571,0.107115726,0.081742207],\"y\":[1274,13109,59218,20056,8801,5821,21816,81180,33438,9965,2661,13944,13232,3214,7832],\"type\":\"scatter\"},{\"marker\":{\"color\":\"rgba(50, 171, 96, 0.8999999999999999)\",\"line\":{\"width\":1.3},\"opacity\":0.8,\"size\":12,\"symbol\":\"circle\"},\"mode\":\"markers\",\"name\":\"Psychology & Social Work\",\"text\":[\"INDUSTRIAL AND ORGANIZATIONAL PSYCHOLOGY\",\"SOCIAL PSYCHOLOGY\",\"PSYCHOLOGY\",\"SOCIAL WORK\",\"MISCELLANEOUS PSYCHOLOGY\",\"HUMAN SERVICES AND COMMUNITY ORGANIZATION\",\"EDUCATIONAL PSYCHOLOGY\",\"CLINICAL PSYCHOLOGY\",\"COUNSELING PSYCHOLOGY\"],\"textfont\":{\"color\":\"#4D5663\"},\"x\":[0.108786611,0.029649596,0.083810867,0.06882792,0.05190783,0.037819026,0.065112187,0.149048198,0.053620646],\"y\":[1409,529,174438,27588,3838,5061,1211,1293,2738],\"type\":\"scatter\"},{\"marker\":{\"color\":\"rgba(128, 0, 128, 0.8999999999999999)\",\"line\":{\"width\":1.3},\"opacity\":0.8,\"size\":12,\"symbol\":\"circle\"},\"mode\":\"markers\",\"name\":\"Communications & Journalism\",\"text\":[\"COMMUNICATIONS\",\"JOURNALISM\",\"ADVERTISING AND PUBLIC RELATIONS\",\"MASS MEDIA\"],\"textfont\":{\"color\":\"#4D5663\"},\"x\":[0.075176976,0.069176442,0.067960766,0.089836827],\"y\":[116251,39524,30932,27521],\"type\":\"scatter\"},{\"marker\":{\"color\":\"rgba(219, 64, 82, 0.8999999999999999)\",\"line\":{\"width\":1.3},\"opacity\":0.8,\"size\":12,\"symbol\":\"circle\"},\"mode\":\"markers\",\"name\":\"Interdisciplinary\",\"text\":[\"MULTI/INTERDISCIPLINARY STUDIES\"],\"textfont\":{\"color\":\"#4D5663\"},\"x\":[0.070860927],\"y\":[6234],\"type\":\"scatter\"}],                        {\"legend\":{\"bgcolor\":\"#F5F6F9\",\"font\":{\"color\":\"#4D5663\"}},\"paper_bgcolor\":\"#F5F6F9\",\"plot_bgcolor\":\"#F5F6F9\",\"template\":{\"data\":{\"barpolar\":[{\"marker\":{\"line\":{\"color\":\"#E5ECF6\",\"width\":0.5},\"pattern\":{\"fillmode\":\"overlay\",\"size\":10,\"solidity\":0.2}},\"type\":\"barpolar\"}],\"bar\":[{\"error_x\":{\"color\":\"#2a3f5f\"},\"error_y\":{\"color\":\"#2a3f5f\"},\"marker\":{\"line\":{\"color\":\"#E5ECF6\",\"width\":0.5},\"pattern\":{\"fillmode\":\"overlay\",\"size\":10,\"solidity\":0.2}},\"type\":\"bar\"}],\"carpet\":[{\"aaxis\":{\"endlinecolor\":\"#2a3f5f\",\"gridcolor\":\"white\",\"linecolor\":\"white\",\"minorgridcolor\":\"white\",\"startlinecolor\":\"#2a3f5f\"},\"baxis\":{\"endlinecolor\":\"#2a3f5f\",\"gridcolor\":\"white\",\"linecolor\":\"white\",\"minorgridcolor\":\"white\",\"startlinecolor\":\"#2a3f5f\"},\"type\":\"carpet\"}],\"choropleth\":[{\"colorbar\":{\"outlinewidth\":0,\"ticks\":\"\"},\"type\":\"choropleth\"}],\"contourcarpet\":[{\"colorbar\":{\"outlinewidth\":0,\"ticks\":\"\"},\"type\":\"contourcarpet\"}],\"contour\":[{\"colorbar\":{\"outlinewidth\":0,\"ticks\":\"\"},\"colorscale\":[[0.0,\"#0d0887\"],[0.1111111111111111,\"#46039f\"],[0.2222222222222222,\"#7201a8\"],[0.3333333333333333,\"#9c179e\"],[0.4444444444444444,\"#bd3786\"],[0.5555555555555556,\"#d8576b\"],[0.6666666666666666,\"#ed7953\"],[0.7777777777777778,\"#fb9f3a\"],[0.8888888888888888,\"#fdca26\"],[1.0,\"#f0f921\"]],\"type\":\"contour\"}],\"heatmapgl\":[{\"colorbar\":{\"outlinewidth\":0,\"ticks\":\"\"},\"colorscale\":[[0.0,\"#0d0887\"],[0.1111111111111111,\"#46039f\"],[0.2222222222222222,\"#7201a8\"],[0.3333333333333333,\"#9c179e\"],[0.4444444444444444,\"#bd3786\"],[0.5555555555555556,\"#d8576b\"],[0.6666666666666666,\"#ed7953\"],[0.7777777777777778,\"#fb9f3a\"],[0.8888888888888888,\"#fdca26\"],[1.0,\"#f0f921\"]],\"type\":\"heatmapgl\"}],\"heatmap\":[{\"colorbar\":{\"outlinewidth\":0,\"ticks\":\"\"},\"colorscale\":[[0.0,\"#0d0887\"],[0.1111111111111111,\"#46039f\"],[0.2222222222222222,\"#7201a8\"],[0.3333333333333333,\"#9c179e\"],[0.4444444444444444,\"#bd3786\"],[0.5555555555555556,\"#d8576b\"],[0.6666666666666666,\"#ed7953\"],[0.7777777777777778,\"#fb9f3a\"],[0.8888888888888888,\"#fdca26\"],[1.0,\"#f0f921\"]],\"type\":\"heatmap\"}],\"histogram2dcontour\":[{\"colorbar\":{\"outlinewidth\":0,\"ticks\":\"\"},\"colorscale\":[[0.0,\"#0d0887\"],[0.1111111111111111,\"#46039f\"],[0.2222222222222222,\"#7201a8\"],[0.3333333333333333,\"#9c179e\"],[0.4444444444444444,\"#bd3786\"],[0.5555555555555556,\"#d8576b\"],[0.6666666666666666,\"#ed7953\"],[0.7777777777777778,\"#fb9f3a\"],[0.8888888888888888,\"#fdca26\"],[1.0,\"#f0f921\"]],\"type\":\"histogram2dcontour\"}],\"histogram2d\":[{\"colorbar\":{\"outlinewidth\":0,\"ticks\":\"\"},\"colorscale\":[[0.0,\"#0d0887\"],[0.1111111111111111,\"#46039f\"],[0.2222222222222222,\"#7201a8\"],[0.3333333333333333,\"#9c179e\"],[0.4444444444444444,\"#bd3786\"],[0.5555555555555556,\"#d8576b\"],[0.6666666666666666,\"#ed7953\"],[0.7777777777777778,\"#fb9f3a\"],[0.8888888888888888,\"#fdca26\"],[1.0,\"#f0f921\"]],\"type\":\"histogram2d\"}],\"histogram\":[{\"marker\":{\"pattern\":{\"fillmode\":\"overlay\",\"size\":10,\"solidity\":0.2}},\"type\":\"histogram\"}],\"mesh3d\":[{\"colorbar\":{\"outlinewidth\":0,\"ticks\":\"\"},\"type\":\"mesh3d\"}],\"parcoords\":[{\"line\":{\"colorbar\":{\"outlinewidth\":0,\"ticks\":\"\"}},\"type\":\"parcoords\"}],\"pie\":[{\"automargin\":true,\"type\":\"pie\"}],\"scatter3d\":[{\"line\":{\"colorbar\":{\"outlinewidth\":0,\"ticks\":\"\"}},\"marker\":{\"colorbar\":{\"outlinewidth\":0,\"ticks\":\"\"}},\"type\":\"scatter3d\"}],\"scattercarpet\":[{\"marker\":{\"colorbar\":{\"outlinewidth\":0,\"ticks\":\"\"}},\"type\":\"scattercarpet\"}],\"scattergeo\":[{\"marker\":{\"colorbar\":{\"outlinewidth\":0,\"ticks\":\"\"}},\"type\":\"scattergeo\"}],\"scattergl\":[{\"marker\":{\"colorbar\":{\"outlinewidth\":0,\"ticks\":\"\"}},\"type\":\"scattergl\"}],\"scattermapbox\":[{\"marker\":{\"colorbar\":{\"outlinewidth\":0,\"ticks\":\"\"}},\"type\":\"scattermapbox\"}],\"scatterpolargl\":[{\"marker\":{\"colorbar\":{\"outlinewidth\":0,\"ticks\":\"\"}},\"type\":\"scatterpolargl\"}],\"scatterpolar\":[{\"marker\":{\"colorbar\":{\"outlinewidth\":0,\"ticks\":\"\"}},\"type\":\"scatterpolar\"}],\"scatter\":[{\"fillpattern\":{\"fillmode\":\"overlay\",\"size\":10,\"solidity\":0.2},\"type\":\"scatter\"}],\"scatterternary\":[{\"marker\":{\"colorbar\":{\"outlinewidth\":0,\"ticks\":\"\"}},\"type\":\"scatterternary\"}],\"surface\":[{\"colorbar\":{\"outlinewidth\":0,\"ticks\":\"\"},\"colorscale\":[[0.0,\"#0d0887\"],[0.1111111111111111,\"#46039f\"],[0.2222222222222222,\"#7201a8\"],[0.3333333333333333,\"#9c179e\"],[0.4444444444444444,\"#bd3786\"],[0.5555555555555556,\"#d8576b\"],[0.6666666666666666,\"#ed7953\"],[0.7777777777777778,\"#fb9f3a\"],[0.8888888888888888,\"#fdca26\"],[1.0,\"#f0f921\"]],\"type\":\"surface\"}],\"table\":[{\"cells\":{\"fill\":{\"color\":\"#EBF0F8\"},\"line\":{\"color\":\"white\"}},\"header\":{\"fill\":{\"color\":\"#C8D4E3\"},\"line\":{\"color\":\"white\"}},\"type\":\"table\"}]},\"layout\":{\"annotationdefaults\":{\"arrowcolor\":\"#2a3f5f\",\"arrowhead\":0,\"arrowwidth\":1},\"autotypenumbers\":\"strict\",\"coloraxis\":{\"colorbar\":{\"outlinewidth\":0,\"ticks\":\"\"}},\"colorscale\":{\"diverging\":[[0,\"#8e0152\"],[0.1,\"#c51b7d\"],[0.2,\"#de77ae\"],[0.3,\"#f1b6da\"],[0.4,\"#fde0ef\"],[0.5,\"#f7f7f7\"],[0.6,\"#e6f5d0\"],[0.7,\"#b8e186\"],[0.8,\"#7fbc41\"],[0.9,\"#4d9221\"],[1,\"#276419\"]],\"sequential\":[[0.0,\"#0d0887\"],[0.1111111111111111,\"#46039f\"],[0.2222222222222222,\"#7201a8\"],[0.3333333333333333,\"#9c179e\"],[0.4444444444444444,\"#bd3786\"],[0.5555555555555556,\"#d8576b\"],[0.6666666666666666,\"#ed7953\"],[0.7777777777777778,\"#fb9f3a\"],[0.8888888888888888,\"#fdca26\"],[1.0,\"#f0f921\"]],\"sequentialminus\":[[0.0,\"#0d0887\"],[0.1111111111111111,\"#46039f\"],[0.2222222222222222,\"#7201a8\"],[0.3333333333333333,\"#9c179e\"],[0.4444444444444444,\"#bd3786\"],[0.5555555555555556,\"#d8576b\"],[0.6666666666666666,\"#ed7953\"],[0.7777777777777778,\"#fb9f3a\"],[0.8888888888888888,\"#fdca26\"],[1.0,\"#f0f921\"]]},\"colorway\":[\"#636efa\",\"#EF553B\",\"#00cc96\",\"#ab63fa\",\"#FFA15A\",\"#19d3f3\",\"#FF6692\",\"#B6E880\",\"#FF97FF\",\"#FECB52\"],\"font\":{\"color\":\"#2a3f5f\"},\"geo\":{\"bgcolor\":\"white\",\"lakecolor\":\"white\",\"landcolor\":\"#E5ECF6\",\"showlakes\":true,\"showland\":true,\"subunitcolor\":\"white\"},\"hoverlabel\":{\"align\":\"left\"},\"hovermode\":\"closest\",\"mapbox\":{\"style\":\"light\"},\"paper_bgcolor\":\"white\",\"plot_bgcolor\":\"#E5ECF6\",\"polar\":{\"angularaxis\":{\"gridcolor\":\"white\",\"linecolor\":\"white\",\"ticks\":\"\"},\"bgcolor\":\"#E5ECF6\",\"radialaxis\":{\"gridcolor\":\"white\",\"linecolor\":\"white\",\"ticks\":\"\"}},\"scene\":{\"xaxis\":{\"backgroundcolor\":\"#E5ECF6\",\"gridcolor\":\"white\",\"gridwidth\":2,\"linecolor\":\"white\",\"showbackground\":true,\"ticks\":\"\",\"zerolinecolor\":\"white\"},\"yaxis\":{\"backgroundcolor\":\"#E5ECF6\",\"gridcolor\":\"white\",\"gridwidth\":2,\"linecolor\":\"white\",\"showbackground\":true,\"ticks\":\"\",\"zerolinecolor\":\"white\"},\"zaxis\":{\"backgroundcolor\":\"#E5ECF6\",\"gridcolor\":\"white\",\"gridwidth\":2,\"linecolor\":\"white\",\"showbackground\":true,\"ticks\":\"\",\"zerolinecolor\":\"white\"}},\"shapedefaults\":{\"line\":{\"color\":\"#2a3f5f\"}},\"ternary\":{\"aaxis\":{\"gridcolor\":\"white\",\"linecolor\":\"white\",\"ticks\":\"\"},\"baxis\":{\"gridcolor\":\"white\",\"linecolor\":\"white\",\"ticks\":\"\"},\"bgcolor\":\"#E5ECF6\",\"caxis\":{\"gridcolor\":\"white\",\"linecolor\":\"white\",\"ticks\":\"\"}},\"title\":{\"x\":0.05},\"xaxis\":{\"automargin\":true,\"gridcolor\":\"white\",\"linecolor\":\"white\",\"ticks\":\"\",\"title\":{\"standoff\":15},\"zerolinecolor\":\"white\",\"zerolinewidth\":2},\"yaxis\":{\"automargin\":true,\"gridcolor\":\"white\",\"linecolor\":\"white\",\"ticks\":\"\",\"title\":{\"standoff\":15},\"zerolinecolor\":\"white\",\"zerolinewidth\":2}}},\"title\":{\"font\":{\"color\":\"#4D5663\"},\"text\":\"Job Prospects\"},\"xaxis\":{\"gridcolor\":\"#E1E5ED\",\"showgrid\":true,\"tickfont\":{\"color\":\"#4D5663\"},\"title\":{\"font\":{\"color\":\"#4D5663\"},\"text\":\"Unemployment rate\"},\"zerolinecolor\":\"#E1E5ED\"},\"yaxis\":{\"gridcolor\":\"#E1E5ED\",\"showgrid\":true,\"tickfont\":{\"color\":\"#4D5663\"},\"title\":{\"font\":{\"color\":\"#4D5663\"},\"text\":\"Amount of full time year round employees\"},\"zerolinecolor\":\"#E1E5ED\"}},                        {\"showLink\": true, \"linkText\": \"Export to plot.ly\", \"plotlyServerURL\": \"https://plot.ly\", \"responsive\": true}                    ).then(function(){\n",
       "                            \n",
       "var gd = document.getElementById('9f59f5bc-53fb-4d36-bc51-af1b41724641');\n",
       "var x = new MutationObserver(function (mutations, observer) {{\n",
       "        var display = window.getComputedStyle(gd).display;\n",
       "        if (!display || display === 'none') {{\n",
       "            console.log([gd, 'removed!']);\n",
       "            Plotly.purge(gd);\n",
       "            observer.disconnect();\n",
       "        }}\n",
       "}});\n",
       "\n",
       "// Listen for the removal of the full notebook cells\n",
       "var notebookContainer = gd.closest('#notebook-container');\n",
       "if (notebookContainer) {{\n",
       "    x.observe(notebookContainer, {childList: true});\n",
       "}}\n",
       "\n",
       "// Listen for the clearing of the current output cell\n",
       "var outputEl = gd.closest('.output');\n",
       "if (outputEl) {{\n",
       "    x.observe(outputEl, {childList: true});\n",
       "}}\n",
       "\n",
       "                        })                };                });            </script>        </div>"
      ]
     },
     "metadata": {},
     "output_type": "display_data"
    }
   ],
   "source": [
    "df.iplot(\n",
    "    x=\"Unemployment_rate\",\n",
    "    y=\"Full_time_year_round\",\n",
    "    categories=\"Major_category\",\n",
    "    xTitle=\"Unemployment rate\",\n",
    "    yTitle=\"Amount of full time year round employees\",\n",
    "    text=\"Major\",\n",
    "    mode=\"markers\",\n",
    "    title=\"Job Prospects\",\n",
    ")"
   ]
  },
  {
   "cell_type": "code",
   "execution_count": 28,
   "metadata": {},
   "outputs": [
    {
     "data": {
      "application/vnd.plotly.v1+json": {
       "config": {
        "linkText": "Export to plot.ly",
        "plotlyServerURL": "https://plot.ly",
        "showLink": true
       },
       "data": [
        {
         "marker": {
          "color": "rgba(255, 153, 51, 1.0)",
          "line": {
           "width": 1.3
          },
          "opacity": 0.8,
          "size": [
           0.46780000000000005,
           0.1512,
           0.17120000000000002,
           0.2516,
           6.452,
           0.5146000000000001,
           0.7554000000000001,
           0.3584,
           18.2454,
           16.305400000000002,
           8.3084,
           3.0116,
           2.991,
           0.8558,
           0.8642000000000001,
           1.7850000000000001,
           3.7936,
           12.230400000000001,
           0.5650000000000001,
           0.2296,
           25.663800000000002,
           2.313,
           0.5986,
           3.7426000000000004,
           10.630600000000001,
           3.6996,
           2.3464,
           1.8266,
           1.1956,
           0.8094,
           0.7200000000000001,
           0.668,
           0.14400000000000002,
           41.878800000000005,
           34.9012,
           27.849400000000003,
           2.6604,
           0.9262,
           0.4232,
           39.726600000000005,
           14.4794,
           7.339600000000001,
           6.4284,
           3.1828000000000003,
           2.3826,
           1.2502,
           0.9878,
           0.3524,
           0.48360000000000003,
           0.5812,
           2.2246,
           0.1218,
           0.8336,
           0.7662,
           0.1636,
           5.6374,
           46.918,
           9.284,
           5.1788,
           4.7102,
           3.66,
           3.5894000000000004,
           2.8480000000000003,
           2.0798,
           1.7608000000000001,
           0.9580000000000001,
           0.727,
           0.6566000000000001,
           0.6158,
           0.6028,
           0.4878,
           0.2872,
           0.024800000000000003,
           13.306000000000001,
           0.48700000000000004,
           65.9854,
           41.0422,
           36.5242,
           3.696,
           3.0464,
           1.6132,
           7.821400000000001,
           0.26580000000000004,
           1.5226000000000002,
           2.1944,
           4.8994,
           2.7056,
           2.6772,
           1.1258000000000001,
           0.3956,
           0.2772,
           5.1930000000000005,
           42.7992,
           30.5648,
           20.696,
           14.523800000000001,
           12.410400000000001,
           10.6324,
           6.239,
           5.747800000000001,
           4.412,
           3.9758,
           3.7818,
           3.6218000000000004,
           3.607,
           3.0300000000000002,
           2.7546,
           2.7326,
           2.4592,
           0.8086,
           0.7214,
           0.137,
           28.7436,
           28.3902,
           9.6492,
           4.930000000000001,
           4.0396,
           3.947,
           2.8474,
           0.1608,
           2.548,
           2.1412,
           56.1418,
           23.0866,
           10.5648,
           9.6982,
           8.7294,
           6.094200000000001,
           3.3202000000000003,
           2.0300000000000002,
           1.9832,
           1.8308,
           3.4250000000000003,
           6.7198,
           10.9628,
           6.836200000000001,
           38.9346,
           34.1724,
           25.0148,
           14.273800000000001,
           7.7522,
           2.584,
           1.4832,
           1.2966,
           78.747,
           12.1266,
           5.6426,
           4.206,
           14.888,
           11.600200000000001,
           10.7104,
           4.3146,
           3.25,
           2.8886000000000003,
           1.9256000000000002,
           1.8748,
           1.3304,
           6.0414,
           3.3954,
           2.1020000000000003,
           0.29760000000000003,
           7.768800000000001,
           7.6558,
           7.5178,
           2.2408,
           8.6498,
           3.7906,
           1.6818000000000002,
           0.5708,
           0.5676,
           0.9252,
           0.21960000000000002
          ],
          "symbol": "circle"
         },
         "mode": "markers",
         "name": "Engineering",
         "text": [
          "PETROLEUM ENGINEERING",
          "MINING AND MINERAL ENGINEERING",
          "METALLURGICAL ENGINEERING",
          "NAVAL ARCHITECTURE AND MARINE ENGINEERING",
          "CHEMICAL ENGINEERING",
          "NUCLEAR ENGINEERING",
          "MECHANICAL ENGINEERING",
          "ELECTRICAL ENGINEERING",
          "COMPUTER ENGINEERING",
          "AEROSPACE ENGINEERING",
          "BIOMEDICAL ENGINEERING",
          "MATERIALS SCIENCE",
          "ENGINEERING MECHANICS PHYSICS AND SCIENCE",
          "BIOLOGICAL ENGINEERING",
          "INDUSTRIAL AND MANUFACTURING ENGINEERING",
          "GENERAL ENGINEERING",
          "ARCHITECTURAL ENGINEERING",
          "ELECTRICAL ENGINEERING TECHNOLOGY",
          "MATERIALS ENGINEERING AND MATERIALS SCIENCE",
          "CIVIL ENGINEERING",
          "MISCELLANEOUS ENGINEERING",
          "ENVIRONMENTAL ENGINEERING",
          "ENGINEERING TECHNOLOGIES",
          "GEOLOGICAL AND GEOPHYSICAL ENGINEERING",
          "INDUSTRIAL PRODUCTION TECHNOLOGIES",
          "ENGINEERING AND INDUSTRIAL MANAGEMENT",
          "ARCHITECTURE",
          "MISCELLANEOUS ENGINEERING TECHNOLOGIES",
          "MECHANICAL ENGINEERING RELATED TECHNOLOGIES"
         ],
         "textfont": {
          "color": "#4D5663"
         },
         "type": "scatter",
         "x": [
          0.018380527,
          0.117241379,
          0.024096386,
          0.050125313,
          0.061097712,
          0.177226407,
          0.057342278,
          0.059173845,
          0.065409275,
          0.065162085,
          0.09208386,
          0.023042836,
          0.006334343,
          0.087143069,
          0.042875544,
          0.059824231,
          0.061930783,
          0.087557114,
          0.027788805,
          0.070609574,
          0.074392523,
          0.093588575,
          0.055030385,
          0.075038285,
          0.028308097,
          0.03365166,
          0.113331949,
          0.05253852,
          0.056357078
         ],
         "y": [
          1207,
          388,
          340,
          692,
          16697,
          1449,
          54639,
          41413,
          23621,
          8790,
          5986,
          1967,
          2004,
          3413,
          11326,
          33540,
          1848,
          5681,
          1151,
          29196,
          5476,
          1951,
          1723,
          396,
          3242,
          1358,
          20026,
          5825,
          3607
         ]
        },
        {
         "marker": {
          "color": "rgba(55, 128, 191, 1.0)",
          "line": {
           "width": 1.3
          },
          "opacity": 0.8,
          "size": [
           0.46780000000000005,
           0.1512,
           0.17120000000000002,
           0.2516,
           6.452,
           0.5146000000000001,
           0.7554000000000001,
           0.3584,
           18.2454,
           16.305400000000002,
           8.3084,
           3.0116,
           2.991,
           0.8558,
           0.8642000000000001,
           1.7850000000000001,
           3.7936,
           12.230400000000001,
           0.5650000000000001,
           0.2296,
           25.663800000000002,
           2.313,
           0.5986,
           3.7426000000000004,
           10.630600000000001,
           3.6996,
           2.3464,
           1.8266,
           1.1956,
           0.8094,
           0.7200000000000001,
           0.668,
           0.14400000000000002,
           41.878800000000005,
           34.9012,
           27.849400000000003,
           2.6604,
           0.9262,
           0.4232,
           39.726600000000005,
           14.4794,
           7.339600000000001,
           6.4284,
           3.1828000000000003,
           2.3826,
           1.2502,
           0.9878,
           0.3524,
           0.48360000000000003,
           0.5812,
           2.2246,
           0.1218,
           0.8336,
           0.7662,
           0.1636,
           5.6374,
           46.918,
           9.284,
           5.1788,
           4.7102,
           3.66,
           3.5894000000000004,
           2.8480000000000003,
           2.0798,
           1.7608000000000001,
           0.9580000000000001,
           0.727,
           0.6566000000000001,
           0.6158,
           0.6028,
           0.4878,
           0.2872,
           0.024800000000000003,
           13.306000000000001,
           0.48700000000000004,
           65.9854,
           41.0422,
           36.5242,
           3.696,
           3.0464,
           1.6132,
           7.821400000000001,
           0.26580000000000004,
           1.5226000000000002,
           2.1944,
           4.8994,
           2.7056,
           2.6772,
           1.1258000000000001,
           0.3956,
           0.2772,
           5.1930000000000005,
           42.7992,
           30.5648,
           20.696,
           14.523800000000001,
           12.410400000000001,
           10.6324,
           6.239,
           5.747800000000001,
           4.412,
           3.9758,
           3.7818,
           3.6218000000000004,
           3.607,
           3.0300000000000002,
           2.7546,
           2.7326,
           2.4592,
           0.8086,
           0.7214,
           0.137,
           28.7436,
           28.3902,
           9.6492,
           4.930000000000001,
           4.0396,
           3.947,
           2.8474,
           0.1608,
           2.548,
           2.1412,
           56.1418,
           23.0866,
           10.5648,
           9.6982,
           8.7294,
           6.094200000000001,
           3.3202000000000003,
           2.0300000000000002,
           1.9832,
           1.8308,
           3.4250000000000003,
           6.7198,
           10.9628,
           6.836200000000001,
           38.9346,
           34.1724,
           25.0148,
           14.273800000000001,
           7.7522,
           2.584,
           1.4832,
           1.2966,
           78.747,
           12.1266,
           5.6426,
           4.206,
           14.888,
           11.600200000000001,
           10.7104,
           4.3146,
           3.25,
           2.8886000000000003,
           1.9256000000000002,
           1.8748,
           1.3304,
           6.0414,
           3.3954,
           2.1020000000000003,
           0.29760000000000003,
           7.768800000000001,
           7.6558,
           7.5178,
           2.2408,
           8.6498,
           3.7906,
           1.6818000000000002,
           0.5708,
           0.5676,
           0.9252,
           0.21960000000000002
          ],
          "symbol": "circle"
         },
         "mode": "markers",
         "name": "Business",
         "text": [
          "ACTUARIAL SCIENCE",
          "MANAGEMENT INFORMATION SYSTEMS AND STATISTICS",
          "OPERATIONS LOGISTICS AND E-COMMERCE",
          "FINANCE",
          "BUSINESS ECONOMICS",
          "ACCOUNTING",
          "GENERAL BUSINESS",
          "INTERNATIONAL BUSINESS",
          "MISCELLANEOUS BUSINESS & MEDICAL ADMINISTRATION",
          "BUSINESS MANAGEMENT AND ADMINISTRATION",
          "MARKETING AND MARKETING RESEARCH",
          "HUMAN RESOURCES AND PERSONNEL MANAGEMENT",
          "HOSPITALITY MANAGEMENT"
         ],
         "textfont": {
          "color": "#4D5663"
         },
         "type": "scatter",
         "x": [
          0.095652174,
          0.058239614,
          0.047858703,
          0.060686356,
          0.096448381,
          0.069749014,
          0.072861468,
          0.096175064,
          0.071982974,
          0.072218341,
          0.061215064,
          0.059569649,
          0.061169193
         ],
         "y": [
          2482,
          13017,
          7724,
          108595,
          8000,
          123169,
          138299,
          12823,
          10637,
          199897,
          127230,
          15446,
          23106
         ]
        },
        {
         "marker": {
          "color": "rgba(50, 171, 96, 1.0)",
          "line": {
           "width": 1.3
          },
          "opacity": 0.8,
          "size": [
           0.46780000000000005,
           0.1512,
           0.17120000000000002,
           0.2516,
           6.452,
           0.5146000000000001,
           0.7554000000000001,
           0.3584,
           18.2454,
           16.305400000000002,
           8.3084,
           3.0116,
           2.991,
           0.8558,
           0.8642000000000001,
           1.7850000000000001,
           3.7936,
           12.230400000000001,
           0.5650000000000001,
           0.2296,
           25.663800000000002,
           2.313,
           0.5986,
           3.7426000000000004,
           10.630600000000001,
           3.6996,
           2.3464,
           1.8266,
           1.1956,
           0.8094,
           0.7200000000000001,
           0.668,
           0.14400000000000002,
           41.878800000000005,
           34.9012,
           27.849400000000003,
           2.6604,
           0.9262,
           0.4232,
           39.726600000000005,
           14.4794,
           7.339600000000001,
           6.4284,
           3.1828000000000003,
           2.3826,
           1.2502,
           0.9878,
           0.3524,
           0.48360000000000003,
           0.5812,
           2.2246,
           0.1218,
           0.8336,
           0.7662,
           0.1636,
           5.6374,
           46.918,
           9.284,
           5.1788,
           4.7102,
           3.66,
           3.5894000000000004,
           2.8480000000000003,
           2.0798,
           1.7608000000000001,
           0.9580000000000001,
           0.727,
           0.6566000000000001,
           0.6158,
           0.6028,
           0.4878,
           0.2872,
           0.024800000000000003,
           13.306000000000001,
           0.48700000000000004,
           65.9854,
           41.0422,
           36.5242,
           3.696,
           3.0464,
           1.6132,
           7.821400000000001,
           0.26580000000000004,
           1.5226000000000002,
           2.1944,
           4.8994,
           2.7056,
           2.6772,
           1.1258000000000001,
           0.3956,
           0.2772,
           5.1930000000000005,
           42.7992,
           30.5648,
           20.696,
           14.523800000000001,
           12.410400000000001,
           10.6324,
           6.239,
           5.747800000000001,
           4.412,
           3.9758,
           3.7818,
           3.6218000000000004,
           3.607,
           3.0300000000000002,
           2.7546,
           2.7326,
           2.4592,
           0.8086,
           0.7214,
           0.137,
           28.7436,
           28.3902,
           9.6492,
           4.930000000000001,
           4.0396,
           3.947,
           2.8474,
           0.1608,
           2.548,
           2.1412,
           56.1418,
           23.0866,
           10.5648,
           9.6982,
           8.7294,
           6.094200000000001,
           3.3202000000000003,
           2.0300000000000002,
           1.9832,
           1.8308,
           3.4250000000000003,
           6.7198,
           10.9628,
           6.836200000000001,
           38.9346,
           34.1724,
           25.0148,
           14.273800000000001,
           7.7522,
           2.584,
           1.4832,
           1.2966,
           78.747,
           12.1266,
           5.6426,
           4.206,
           14.888,
           11.600200000000001,
           10.7104,
           4.3146,
           3.25,
           2.8886000000000003,
           1.9256000000000002,
           1.8748,
           1.3304,
           6.0414,
           3.3954,
           2.1020000000000003,
           0.29760000000000003,
           7.768800000000001,
           7.6558,
           7.5178,
           2.2408,
           8.6498,
           3.7906,
           1.6818000000000002,
           0.5708,
           0.5676,
           0.9252,
           0.21960000000000002
          ],
          "symbol": "circle"
         },
         "mode": "markers",
         "name": "Physical Sciences",
         "text": [
          "ASTRONOMY AND ASTROPHYSICS",
          "NUCLEAR, INDUSTRIAL RADIOLOGY, AND BIOLOGICAL TECHNOLOGIES",
          "PHYSICS",
          "OCEANOGRAPHY",
          "PHYSICAL SCIENCES",
          "CHEMISTRY",
          "GEOLOGY AND EARTH SCIENCE",
          "GEOSCIENCES",
          "MULTI-DISCIPLINARY OR GENERAL SCIENCE",
          "ATMOSPHERIC SCIENCES AND METEOROLOGY"
         ],
         "textfont": {
          "color": "#4D5663"
         },
         "type": "scatter",
         "x": [
          0.021167415,
          0.07154047,
          0.048224496,
          0.056994819,
          0.035353535,
          0.0539724,
          0.075448568,
          0.024373731,
          0.055806815,
          0.022228555
         ],
         "y": [
          827,
          1115,
          14389,
          1595,
          653,
          29910,
          5008,
          1011,
          28966,
          2161
         ]
        },
        {
         "marker": {
          "color": "rgba(128, 0, 128, 1.0)",
          "line": {
           "width": 1.3
          },
          "opacity": 0.8,
          "size": [
           0.46780000000000005,
           0.1512,
           0.17120000000000002,
           0.2516,
           6.452,
           0.5146000000000001,
           0.7554000000000001,
           0.3584,
           18.2454,
           16.305400000000002,
           8.3084,
           3.0116,
           2.991,
           0.8558,
           0.8642000000000001,
           1.7850000000000001,
           3.7936,
           12.230400000000001,
           0.5650000000000001,
           0.2296,
           25.663800000000002,
           2.313,
           0.5986,
           3.7426000000000004,
           10.630600000000001,
           3.6996,
           2.3464,
           1.8266,
           1.1956,
           0.8094,
           0.7200000000000001,
           0.668,
           0.14400000000000002,
           41.878800000000005,
           34.9012,
           27.849400000000003,
           2.6604,
           0.9262,
           0.4232,
           39.726600000000005,
           14.4794,
           7.339600000000001,
           6.4284,
           3.1828000000000003,
           2.3826,
           1.2502,
           0.9878,
           0.3524,
           0.48360000000000003,
           0.5812,
           2.2246,
           0.1218,
           0.8336,
           0.7662,
           0.1636,
           5.6374,
           46.918,
           9.284,
           5.1788,
           4.7102,
           3.66,
           3.5894000000000004,
           2.8480000000000003,
           2.0798,
           1.7608000000000001,
           0.9580000000000001,
           0.727,
           0.6566000000000001,
           0.6158,
           0.6028,
           0.4878,
           0.2872,
           0.024800000000000003,
           13.306000000000001,
           0.48700000000000004,
           65.9854,
           41.0422,
           36.5242,
           3.696,
           3.0464,
           1.6132,
           7.821400000000001,
           0.26580000000000004,
           1.5226000000000002,
           2.1944,
           4.8994,
           2.7056,
           2.6772,
           1.1258000000000001,
           0.3956,
           0.2772,
           5.1930000000000005,
           42.7992,
           30.5648,
           20.696,
           14.523800000000001,
           12.410400000000001,
           10.6324,
           6.239,
           5.747800000000001,
           4.412,
           3.9758,
           3.7818,
           3.6218000000000004,
           3.607,
           3.0300000000000002,
           2.7546,
           2.7326,
           2.4592,
           0.8086,
           0.7214,
           0.137,
           28.7436,
           28.3902,
           9.6492,
           4.930000000000001,
           4.0396,
           3.947,
           2.8474,
           0.1608,
           2.548,
           2.1412,
           56.1418,
           23.0866,
           10.5648,
           9.6982,
           8.7294,
           6.094200000000001,
           3.3202000000000003,
           2.0300000000000002,
           1.9832,
           1.8308,
           3.4250000000000003,
           6.7198,
           10.9628,
           6.836200000000001,
           38.9346,
           34.1724,
           25.0148,
           14.273800000000001,
           7.7522,
           2.584,
           1.4832,
           1.2966,
           78.747,
           12.1266,
           5.6426,
           4.206,
           14.888,
           11.600200000000001,
           10.7104,
           4.3146,
           3.25,
           2.8886000000000003,
           1.9256000000000002,
           1.8748,
           1.3304,
           6.0414,
           3.3954,
           2.1020000000000003,
           0.29760000000000003,
           7.768800000000001,
           7.6558,
           7.5178,
           2.2408,
           8.6498,
           3.7906,
           1.6818000000000002,
           0.5708,
           0.5676,
           0.9252,
           0.21960000000000002
          ],
          "symbol": "circle"
         },
         "mode": "markers",
         "name": "Law & Public Policy",
         "text": [
          "COURT REPORTING",
          "PUBLIC POLICY",
          "PRE-LAW AND LEGAL STUDIES",
          "PUBLIC ADMINISTRATION",
          "CRIMINAL JUSTICE AND FIRE PROTECTION"
         ],
         "textfont": {
          "color": "#4D5663"
         },
         "type": "scatter",
         "x": [
          0.011689692,
          0.128426299,
          0.071965016,
          0.1594906,
          0.082452199
         ],
         "y": [
          808,
          2776,
          5370,
          2952,
          88548
         ]
        },
        {
         "marker": {
          "color": "rgba(219, 64, 82, 1.0)",
          "line": {
           "width": 1.3
          },
          "opacity": 0.8,
          "size": [
           0.46780000000000005,
           0.1512,
           0.17120000000000002,
           0.2516,
           6.452,
           0.5146000000000001,
           0.7554000000000001,
           0.3584,
           18.2454,
           16.305400000000002,
           8.3084,
           3.0116,
           2.991,
           0.8558,
           0.8642000000000001,
           1.7850000000000001,
           3.7936,
           12.230400000000001,
           0.5650000000000001,
           0.2296,
           25.663800000000002,
           2.313,
           0.5986,
           3.7426000000000004,
           10.630600000000001,
           3.6996,
           2.3464,
           1.8266,
           1.1956,
           0.8094,
           0.7200000000000001,
           0.668,
           0.14400000000000002,
           41.878800000000005,
           34.9012,
           27.849400000000003,
           2.6604,
           0.9262,
           0.4232,
           39.726600000000005,
           14.4794,
           7.339600000000001,
           6.4284,
           3.1828000000000003,
           2.3826,
           1.2502,
           0.9878,
           0.3524,
           0.48360000000000003,
           0.5812,
           2.2246,
           0.1218,
           0.8336,
           0.7662,
           0.1636,
           5.6374,
           46.918,
           9.284,
           5.1788,
           4.7102,
           3.66,
           3.5894000000000004,
           2.8480000000000003,
           2.0798,
           1.7608000000000001,
           0.9580000000000001,
           0.727,
           0.6566000000000001,
           0.6158,
           0.6028,
           0.4878,
           0.2872,
           0.024800000000000003,
           13.306000000000001,
           0.48700000000000004,
           65.9854,
           41.0422,
           36.5242,
           3.696,
           3.0464,
           1.6132,
           7.821400000000001,
           0.26580000000000004,
           1.5226000000000002,
           2.1944,
           4.8994,
           2.7056,
           2.6772,
           1.1258000000000001,
           0.3956,
           0.2772,
           5.1930000000000005,
           42.7992,
           30.5648,
           20.696,
           14.523800000000001,
           12.410400000000001,
           10.6324,
           6.239,
           5.747800000000001,
           4.412,
           3.9758,
           3.7818,
           3.6218000000000004,
           3.607,
           3.0300000000000002,
           2.7546,
           2.7326,
           2.4592,
           0.8086,
           0.7214,
           0.137,
           28.7436,
           28.3902,
           9.6492,
           4.930000000000001,
           4.0396,
           3.947,
           2.8474,
           0.1608,
           2.548,
           2.1412,
           56.1418,
           23.0866,
           10.5648,
           9.6982,
           8.7294,
           6.094200000000001,
           3.3202000000000003,
           2.0300000000000002,
           1.9832,
           1.8308,
           3.4250000000000003,
           6.7198,
           10.9628,
           6.836200000000001,
           38.9346,
           34.1724,
           25.0148,
           14.273800000000001,
           7.7522,
           2.584,
           1.4832,
           1.2966,
           78.747,
           12.1266,
           5.6426,
           4.206,
           14.888,
           11.600200000000001,
           10.7104,
           4.3146,
           3.25,
           2.8886000000000003,
           1.9256000000000002,
           1.8748,
           1.3304,
           6.0414,
           3.3954,
           2.1020000000000003,
           0.29760000000000003,
           7.768800000000001,
           7.6558,
           7.5178,
           2.2408,
           8.6498,
           3.7906,
           1.6818000000000002,
           0.5708,
           0.5676,
           0.9252,
           0.21960000000000002
          ],
          "symbol": "circle"
         },
         "mode": "markers",
         "name": "Computers & Mathematics",
         "text": [
          "COMPUTER SCIENCE",
          "MATHEMATICS",
          "COMPUTER AND INFORMATION SYSTEMS",
          "INFORMATION SCIENCES",
          "STATISTICS AND DECISION SCIENCE",
          "APPLIED MATHEMATICS",
          "MATHEMATICS AND COMPUTER SCIENCE",
          "COMPUTER PROGRAMMING AND DATA PROCESSING",
          "COMPUTER ADMINISTRATION MANAGEMENT AND SECURITY",
          "COMPUTER NETWORKING AND TELECOMMUNICATIONS",
          "COMMUNICATION TECHNOLOGIES"
         ],
         "textfont": {
          "color": "#4D5663"
         },
         "type": "scatter",
         "x": [
          0.063172771,
          0.047277138,
          0.093460326,
          0.060741445,
          0.086273666,
          0.090823307,
          0,
          0.11398259,
          0.099723375,
          0.151849807,
          0.119511469
         ],
         "y": [
          70932,
          33738,
          21130,
          7378,
          2151,
          2593,
          391,
          2453,
          4936,
          4369,
          9085
         ]
        },
        {
         "marker": {
          "color": "rgba(0, 128, 128, 1.0)",
          "line": {
           "width": 1.3
          },
          "opacity": 0.8,
          "size": [
           0.46780000000000005,
           0.1512,
           0.17120000000000002,
           0.2516,
           6.452,
           0.5146000000000001,
           0.7554000000000001,
           0.3584,
           18.2454,
           16.305400000000002,
           8.3084,
           3.0116,
           2.991,
           0.8558,
           0.8642000000000001,
           1.7850000000000001,
           3.7936,
           12.230400000000001,
           0.5650000000000001,
           0.2296,
           25.663800000000002,
           2.313,
           0.5986,
           3.7426000000000004,
           10.630600000000001,
           3.6996,
           2.3464,
           1.8266,
           1.1956,
           0.8094,
           0.7200000000000001,
           0.668,
           0.14400000000000002,
           41.878800000000005,
           34.9012,
           27.849400000000003,
           2.6604,
           0.9262,
           0.4232,
           39.726600000000005,
           14.4794,
           7.339600000000001,
           6.4284,
           3.1828000000000003,
           2.3826,
           1.2502,
           0.9878,
           0.3524,
           0.48360000000000003,
           0.5812,
           2.2246,
           0.1218,
           0.8336,
           0.7662,
           0.1636,
           5.6374,
           46.918,
           9.284,
           5.1788,
           4.7102,
           3.66,
           3.5894000000000004,
           2.8480000000000003,
           2.0798,
           1.7608000000000001,
           0.9580000000000001,
           0.727,
           0.6566000000000001,
           0.6158,
           0.6028,
           0.4878,
           0.2872,
           0.024800000000000003,
           13.306000000000001,
           0.48700000000000004,
           65.9854,
           41.0422,
           36.5242,
           3.696,
           3.0464,
           1.6132,
           7.821400000000001,
           0.26580000000000004,
           1.5226000000000002,
           2.1944,
           4.8994,
           2.7056,
           2.6772,
           1.1258000000000001,
           0.3956,
           0.2772,
           5.1930000000000005,
           42.7992,
           30.5648,
           20.696,
           14.523800000000001,
           12.410400000000001,
           10.6324,
           6.239,
           5.747800000000001,
           4.412,
           3.9758,
           3.7818,
           3.6218000000000004,
           3.607,
           3.0300000000000002,
           2.7546,
           2.7326,
           2.4592,
           0.8086,
           0.7214,
           0.137,
           28.7436,
           28.3902,
           9.6492,
           4.930000000000001,
           4.0396,
           3.947,
           2.8474,
           0.1608,
           2.548,
           2.1412,
           56.1418,
           23.0866,
           10.5648,
           9.6982,
           8.7294,
           6.094200000000001,
           3.3202000000000003,
           2.0300000000000002,
           1.9832,
           1.8308,
           3.4250000000000003,
           6.7198,
           10.9628,
           6.836200000000001,
           38.9346,
           34.1724,
           25.0148,
           14.273800000000001,
           7.7522,
           2.584,
           1.4832,
           1.2966,
           78.747,
           12.1266,
           5.6426,
           4.206,
           14.888,
           11.600200000000001,
           10.7104,
           4.3146,
           3.25,
           2.8886000000000003,
           1.9256000000000002,
           1.8748,
           1.3304,
           6.0414,
           3.3954,
           2.1020000000000003,
           0.29760000000000003,
           7.768800000000001,
           7.6558,
           7.5178,
           2.2408,
           8.6498,
           3.7906,
           1.6818000000000002,
           0.5708,
           0.5676,
           0.9252,
           0.21960000000000002
          ],
          "symbol": "circle"
         },
         "mode": "markers",
         "name": "Industrial Arts & Consumer Services",
         "text": [
          "CONSTRUCTION SERVICES",
          "MILITARY TECHNOLOGIES",
          "ELECTRICAL, MECHANICAL, AND PRECISION TECHNOLOGIES AND PRODUCTION",
          "TRANSPORTATION SCIENCES AND TECHNOLOGIES",
          "PHYSICAL FITNESS PARKS RECREATION AND LEISURE",
          "FAMILY AND CONSUMER SCIENCES",
          "COSMETOLOGY SERVICES AND CULINARY ARTS"
         ],
         "textfont": {
          "color": "#4D5663"
         },
         "type": "scatter",
         "x": [
          0.060023041,
          0,
          0.029479503,
          0.072724524,
          0.051467273,
          0.067128194,
          0.055676856
         ],
         "y": [
          12313,
          111,
          1752,
          9170,
          57978,
          26906,
          5949
         ]
        },
        {
         "marker": {
          "color": "rgba(255, 255, 51, 1.0)",
          "line": {
           "width": 1.3
          },
          "opacity": 0.8,
          "size": [
           0.46780000000000005,
           0.1512,
           0.17120000000000002,
           0.2516,
           6.452,
           0.5146000000000001,
           0.7554000000000001,
           0.3584,
           18.2454,
           16.305400000000002,
           8.3084,
           3.0116,
           2.991,
           0.8558,
           0.8642000000000001,
           1.7850000000000001,
           3.7936,
           12.230400000000001,
           0.5650000000000001,
           0.2296,
           25.663800000000002,
           2.313,
           0.5986,
           3.7426000000000004,
           10.630600000000001,
           3.6996,
           2.3464,
           1.8266,
           1.1956,
           0.8094,
           0.7200000000000001,
           0.668,
           0.14400000000000002,
           41.878800000000005,
           34.9012,
           27.849400000000003,
           2.6604,
           0.9262,
           0.4232,
           39.726600000000005,
           14.4794,
           7.339600000000001,
           6.4284,
           3.1828000000000003,
           2.3826,
           1.2502,
           0.9878,
           0.3524,
           0.48360000000000003,
           0.5812,
           2.2246,
           0.1218,
           0.8336,
           0.7662,
           0.1636,
           5.6374,
           46.918,
           9.284,
           5.1788,
           4.7102,
           3.66,
           3.5894000000000004,
           2.8480000000000003,
           2.0798,
           1.7608000000000001,
           0.9580000000000001,
           0.727,
           0.6566000000000001,
           0.6158,
           0.6028,
           0.4878,
           0.2872,
           0.024800000000000003,
           13.306000000000001,
           0.48700000000000004,
           65.9854,
           41.0422,
           36.5242,
           3.696,
           3.0464,
           1.6132,
           7.821400000000001,
           0.26580000000000004,
           1.5226000000000002,
           2.1944,
           4.8994,
           2.7056,
           2.6772,
           1.1258000000000001,
           0.3956,
           0.2772,
           5.1930000000000005,
           42.7992,
           30.5648,
           20.696,
           14.523800000000001,
           12.410400000000001,
           10.6324,
           6.239,
           5.747800000000001,
           4.412,
           3.9758,
           3.7818,
           3.6218000000000004,
           3.607,
           3.0300000000000002,
           2.7546,
           2.7326,
           2.4592,
           0.8086,
           0.7214,
           0.137,
           28.7436,
           28.3902,
           9.6492,
           4.930000000000001,
           4.0396,
           3.947,
           2.8474,
           0.1608,
           2.548,
           2.1412,
           56.1418,
           23.0866,
           10.5648,
           9.6982,
           8.7294,
           6.094200000000001,
           3.3202000000000003,
           2.0300000000000002,
           1.9832,
           1.8308,
           3.4250000000000003,
           6.7198,
           10.9628,
           6.836200000000001,
           38.9346,
           34.1724,
           25.0148,
           14.273800000000001,
           7.7522,
           2.584,
           1.4832,
           1.2966,
           78.747,
           12.1266,
           5.6426,
           4.206,
           14.888,
           11.600200000000001,
           10.7104,
           4.3146,
           3.25,
           2.8886000000000003,
           1.9256000000000002,
           1.8748,
           1.3304,
           6.0414,
           3.3954,
           2.1020000000000003,
           0.29760000000000003,
           7.768800000000001,
           7.6558,
           7.5178,
           2.2408,
           8.6498,
           3.7906,
           1.6818000000000002,
           0.5708,
           0.5676,
           0.9252,
           0.21960000000000002
          ],
          "symbol": "circle"
         },
         "mode": "markers",
         "name": "Arts",
         "text": [
          "MISCELLANEOUS FINE ARTS",
          "COMMERCIAL ART AND GRAPHIC DESIGN",
          "FILM VIDEO AND PHOTOGRAPHIC ARTS",
          "MUSIC",
          "FINE ARTS",
          "VISUAL AND PERFORMING ARTS",
          "STUDIO ARTS",
          "DRAMA AND THEATER ARTS"
         ],
         "textfont": {
          "color": "#4D5663"
         },
         "type": "scatter",
         "x": [
          0.089375,
          0.096797577,
          0.10577224,
          0.075959674,
          0.084186296,
          0.102197419,
          0.089552239,
          0.07754113
         ],
         "y": [
          1200,
          52243,
          15740,
          21425,
          31877,
          6322,
          7413,
          16891
         ]
        },
        {
         "marker": {
          "color": "rgba(128, 128, 0, 1.0)",
          "line": {
           "width": 1.3
          },
          "opacity": 0.8,
          "size": [
           0.46780000000000005,
           0.1512,
           0.17120000000000002,
           0.2516,
           6.452,
           0.5146000000000001,
           0.7554000000000001,
           0.3584,
           18.2454,
           16.305400000000002,
           8.3084,
           3.0116,
           2.991,
           0.8558,
           0.8642000000000001,
           1.7850000000000001,
           3.7936,
           12.230400000000001,
           0.5650000000000001,
           0.2296,
           25.663800000000002,
           2.313,
           0.5986,
           3.7426000000000004,
           10.630600000000001,
           3.6996,
           2.3464,
           1.8266,
           1.1956,
           0.8094,
           0.7200000000000001,
           0.668,
           0.14400000000000002,
           41.878800000000005,
           34.9012,
           27.849400000000003,
           2.6604,
           0.9262,
           0.4232,
           39.726600000000005,
           14.4794,
           7.339600000000001,
           6.4284,
           3.1828000000000003,
           2.3826,
           1.2502,
           0.9878,
           0.3524,
           0.48360000000000003,
           0.5812,
           2.2246,
           0.1218,
           0.8336,
           0.7662,
           0.1636,
           5.6374,
           46.918,
           9.284,
           5.1788,
           4.7102,
           3.66,
           3.5894000000000004,
           2.8480000000000003,
           2.0798,
           1.7608000000000001,
           0.9580000000000001,
           0.727,
           0.6566000000000001,
           0.6158,
           0.6028,
           0.4878,
           0.2872,
           0.024800000000000003,
           13.306000000000001,
           0.48700000000000004,
           65.9854,
           41.0422,
           36.5242,
           3.696,
           3.0464,
           1.6132,
           7.821400000000001,
           0.26580000000000004,
           1.5226000000000002,
           2.1944,
           4.8994,
           2.7056,
           2.6772,
           1.1258000000000001,
           0.3956,
           0.2772,
           5.1930000000000005,
           42.7992,
           30.5648,
           20.696,
           14.523800000000001,
           12.410400000000001,
           10.6324,
           6.239,
           5.747800000000001,
           4.412,
           3.9758,
           3.7818,
           3.6218000000000004,
           3.607,
           3.0300000000000002,
           2.7546,
           2.7326,
           2.4592,
           0.8086,
           0.7214,
           0.137,
           28.7436,
           28.3902,
           9.6492,
           4.930000000000001,
           4.0396,
           3.947,
           2.8474,
           0.1608,
           2.548,
           2.1412,
           56.1418,
           23.0866,
           10.5648,
           9.6982,
           8.7294,
           6.094200000000001,
           3.3202000000000003,
           2.0300000000000002,
           1.9832,
           1.8308,
           3.4250000000000003,
           6.7198,
           10.9628,
           6.836200000000001,
           38.9346,
           34.1724,
           25.0148,
           14.273800000000001,
           7.7522,
           2.584,
           1.4832,
           1.2966,
           78.747,
           12.1266,
           5.6426,
           4.206,
           14.888,
           11.600200000000001,
           10.7104,
           4.3146,
           3.25,
           2.8886000000000003,
           1.9256000000000002,
           1.8748,
           1.3304,
           6.0414,
           3.3954,
           2.1020000000000003,
           0.29760000000000003,
           7.768800000000001,
           7.6558,
           7.5178,
           2.2408,
           8.6498,
           3.7906,
           1.6818000000000002,
           0.5708,
           0.5676,
           0.9252,
           0.21960000000000002
          ],
          "symbol": "circle"
         },
         "mode": "markers",
         "name": "Health",
         "text": [
          "NURSING",
          "MEDICAL TECHNOLOGIES TECHNICIANS",
          "MEDICAL ASSISTING SERVICES",
          "PHARMACY PHARMACEUTICAL SCIENCES AND ADMINISTRATION",
          "MISCELLANEOUS HEALTH MEDICAL PROFESSIONS",
          "NUTRITION SCIENCES",
          "HEALTH AND MEDICAL ADMINISTRATIVE SERVICES",
          "COMMUNITY AND PUBLIC HEALTH",
          "HEALTH AND MEDICAL PREPARATORY PROGRAMS",
          "TREATMENT THERAPY PROFESSIONS",
          "GENERAL MEDICAL AND HEALTH SERVICES",
          "COMMUNICATION DISORDERS SCIENCES AND SERVICES"
         ],
         "textfont": {
          "color": "#4D5663"
         },
         "type": "scatter",
         "x": [
          0.044862724,
          0.03698279,
          0.042506527,
          0.055520827,
          0.08141125,
          0.068700676,
          0.089626262,
          0.112144387,
          0.069779712,
          0.059821207,
          0.082101621,
          0.047584
         ],
         "y": [
          122817,
          9005,
          4290,
          9131,
          5868,
          6625,
          10982,
          7460,
          3236,
          21735,
          12809,
          14460
         ]
        },
        {
         "marker": {
          "color": "rgba(251, 128, 114, 1.0)",
          "line": {
           "width": 1.3
          },
          "opacity": 0.8,
          "size": [
           0.46780000000000005,
           0.1512,
           0.17120000000000002,
           0.2516,
           6.452,
           0.5146000000000001,
           0.7554000000000001,
           0.3584,
           18.2454,
           16.305400000000002,
           8.3084,
           3.0116,
           2.991,
           0.8558,
           0.8642000000000001,
           1.7850000000000001,
           3.7936,
           12.230400000000001,
           0.5650000000000001,
           0.2296,
           25.663800000000002,
           2.313,
           0.5986,
           3.7426000000000004,
           10.630600000000001,
           3.6996,
           2.3464,
           1.8266,
           1.1956,
           0.8094,
           0.7200000000000001,
           0.668,
           0.14400000000000002,
           41.878800000000005,
           34.9012,
           27.849400000000003,
           2.6604,
           0.9262,
           0.4232,
           39.726600000000005,
           14.4794,
           7.339600000000001,
           6.4284,
           3.1828000000000003,
           2.3826,
           1.2502,
           0.9878,
           0.3524,
           0.48360000000000003,
           0.5812,
           2.2246,
           0.1218,
           0.8336,
           0.7662,
           0.1636,
           5.6374,
           46.918,
           9.284,
           5.1788,
           4.7102,
           3.66,
           3.5894000000000004,
           2.8480000000000003,
           2.0798,
           1.7608000000000001,
           0.9580000000000001,
           0.727,
           0.6566000000000001,
           0.6158,
           0.6028,
           0.4878,
           0.2872,
           0.024800000000000003,
           13.306000000000001,
           0.48700000000000004,
           65.9854,
           41.0422,
           36.5242,
           3.696,
           3.0464,
           1.6132,
           7.821400000000001,
           0.26580000000000004,
           1.5226000000000002,
           2.1944,
           4.8994,
           2.7056,
           2.6772,
           1.1258000000000001,
           0.3956,
           0.2772,
           5.1930000000000005,
           42.7992,
           30.5648,
           20.696,
           14.523800000000001,
           12.410400000000001,
           10.6324,
           6.239,
           5.747800000000001,
           4.412,
           3.9758,
           3.7818,
           3.6218000000000004,
           3.607,
           3.0300000000000002,
           2.7546,
           2.7326,
           2.4592,
           0.8086,
           0.7214,
           0.137,
           28.7436,
           28.3902,
           9.6492,
           4.930000000000001,
           4.0396,
           3.947,
           2.8474,
           0.1608,
           2.548,
           2.1412,
           56.1418,
           23.0866,
           10.5648,
           9.6982,
           8.7294,
           6.094200000000001,
           3.3202000000000003,
           2.0300000000000002,
           1.9832,
           1.8308,
           3.4250000000000003,
           6.7198,
           10.9628,
           6.836200000000001,
           38.9346,
           34.1724,
           25.0148,
           14.273800000000001,
           7.7522,
           2.584,
           1.4832,
           1.2966,
           78.747,
           12.1266,
           5.6426,
           4.206,
           14.888,
           11.600200000000001,
           10.7104,
           4.3146,
           3.25,
           2.8886000000000003,
           1.9256000000000002,
           1.8748,
           1.3304,
           6.0414,
           3.3954,
           2.1020000000000003,
           0.29760000000000003,
           7.768800000000001,
           7.6558,
           7.5178,
           2.2408,
           8.6498,
           3.7906,
           1.6818000000000002,
           0.5708,
           0.5676,
           0.9252,
           0.21960000000000002
          ],
          "symbol": "circle"
         },
         "mode": "markers",
         "name": "Social Science",
         "text": [
          "ECONOMICS",
          "INTERNATIONAL RELATIONS",
          "MISCELLANEOUS SOCIAL SCIENCES",
          "POLITICAL SCIENCE AND GOVERNMENT",
          "GEOGRAPHY",
          "CRIMINOLOGY",
          "SOCIOLOGY",
          "INTERDISCIPLINARY SOCIAL SCIENCES",
          "GENERAL SOCIAL SCIENCES"
         ],
         "textfont": {
          "color": "#4D5663"
         },
         "type": "scatter",
         "x": [
          0.099092317,
          0.096798943,
          0.073079538,
          0.101174601,
          0.113458628,
          0.097243919,
          0.084951001,
          0.092305816,
          0.103454715
         ],
         "y": [
          70740,
          13583,
          1530,
          83236,
          8628,
          10548,
          56561,
          4714,
          5679
         ]
        },
        {
         "marker": {
          "color": "rgba(128, 177, 211, 1.0)",
          "line": {
           "width": 1.3
          },
          "opacity": 0.8,
          "size": [
           0.46780000000000005,
           0.1512,
           0.17120000000000002,
           0.2516,
           6.452,
           0.5146000000000001,
           0.7554000000000001,
           0.3584,
           18.2454,
           16.305400000000002,
           8.3084,
           3.0116,
           2.991,
           0.8558,
           0.8642000000000001,
           1.7850000000000001,
           3.7936,
           12.230400000000001,
           0.5650000000000001,
           0.2296,
           25.663800000000002,
           2.313,
           0.5986,
           3.7426000000000004,
           10.630600000000001,
           3.6996,
           2.3464,
           1.8266,
           1.1956,
           0.8094,
           0.7200000000000001,
           0.668,
           0.14400000000000002,
           41.878800000000005,
           34.9012,
           27.849400000000003,
           2.6604,
           0.9262,
           0.4232,
           39.726600000000005,
           14.4794,
           7.339600000000001,
           6.4284,
           3.1828000000000003,
           2.3826,
           1.2502,
           0.9878,
           0.3524,
           0.48360000000000003,
           0.5812,
           2.2246,
           0.1218,
           0.8336,
           0.7662,
           0.1636,
           5.6374,
           46.918,
           9.284,
           5.1788,
           4.7102,
           3.66,
           3.5894000000000004,
           2.8480000000000003,
           2.0798,
           1.7608000000000001,
           0.9580000000000001,
           0.727,
           0.6566000000000001,
           0.6158,
           0.6028,
           0.4878,
           0.2872,
           0.024800000000000003,
           13.306000000000001,
           0.48700000000000004,
           65.9854,
           41.0422,
           36.5242,
           3.696,
           3.0464,
           1.6132,
           7.821400000000001,
           0.26580000000000004,
           1.5226000000000002,
           2.1944,
           4.8994,
           2.7056,
           2.6772,
           1.1258000000000001,
           0.3956,
           0.2772,
           5.1930000000000005,
           42.7992,
           30.5648,
           20.696,
           14.523800000000001,
           12.410400000000001,
           10.6324,
           6.239,
           5.747800000000001,
           4.412,
           3.9758,
           3.7818,
           3.6218000000000004,
           3.607,
           3.0300000000000002,
           2.7546,
           2.7326,
           2.4592,
           0.8086,
           0.7214,
           0.137,
           28.7436,
           28.3902,
           9.6492,
           4.930000000000001,
           4.0396,
           3.947,
           2.8474,
           0.1608,
           2.548,
           2.1412,
           56.1418,
           23.0866,
           10.5648,
           9.6982,
           8.7294,
           6.094200000000001,
           3.3202000000000003,
           2.0300000000000002,
           1.9832,
           1.8308,
           3.4250000000000003,
           6.7198,
           10.9628,
           6.836200000000001,
           38.9346,
           34.1724,
           25.0148,
           14.273800000000001,
           7.7522,
           2.584,
           1.4832,
           1.2966,
           78.747,
           12.1266,
           5.6426,
           4.206,
           14.888,
           11.600200000000001,
           10.7104,
           4.3146,
           3.25,
           2.8886000000000003,
           1.9256000000000002,
           1.8748,
           1.3304,
           6.0414,
           3.3954,
           2.1020000000000003,
           0.29760000000000003,
           7.768800000000001,
           7.6558,
           7.5178,
           2.2408,
           8.6498,
           3.7906,
           1.6818000000000002,
           0.5708,
           0.5676,
           0.9252,
           0.21960000000000002
          ],
          "symbol": "circle"
         },
         "mode": "markers",
         "name": "Biology & Life Science",
         "text": [
          "PHARMACOLOGY",
          "COGNITIVE SCIENCE AND BIOPSYCHOLOGY",
          "MOLECULAR BIOLOGY",
          "GENETICS",
          "MICROBIOLOGY",
          "BIOCHEMICAL SCIENCES",
          "BOTANY",
          "ENVIRONMENTAL SCIENCE",
          "PHYSIOLOGY",
          "NEUROSCIENCE",
          "MISCELLANEOUS BIOLOGY",
          "BIOLOGY",
          "ECOLOGY",
          "ZOOLOGY"
         ],
         "textfont": {
          "color": "#4D5663"
         },
         "type": "scatter",
         "x": [
          0.085531575,
          0.075236167,
          0.084361164,
          0.034117647,
          0.066775872,
          0.080531385,
          0,
          0.078584681,
          0.0691628,
          0.048481675,
          0.058545455,
          0.070724732,
          0.054475193,
          0.04632028
         ],
         "y": [
          565,
          1584,
          6183,
          1487,
          5080,
          13785,
          740,
          10916,
          7588,
          5482,
          4542,
          100336,
          3912,
          3602
         ]
        },
        {
         "marker": {
          "color": "rgba(128, 177, 211, 0.8999999999999999)",
          "line": {
           "width": 1.3
          },
          "opacity": 0.8,
          "size": [
           0.46780000000000005,
           0.1512,
           0.17120000000000002,
           0.2516,
           6.452,
           0.5146000000000001,
           0.7554000000000001,
           0.3584,
           18.2454,
           16.305400000000002,
           8.3084,
           3.0116,
           2.991,
           0.8558,
           0.8642000000000001,
           1.7850000000000001,
           3.7936,
           12.230400000000001,
           0.5650000000000001,
           0.2296,
           25.663800000000002,
           2.313,
           0.5986,
           3.7426000000000004,
           10.630600000000001,
           3.6996,
           2.3464,
           1.8266,
           1.1956,
           0.8094,
           0.7200000000000001,
           0.668,
           0.14400000000000002,
           41.878800000000005,
           34.9012,
           27.849400000000003,
           2.6604,
           0.9262,
           0.4232,
           39.726600000000005,
           14.4794,
           7.339600000000001,
           6.4284,
           3.1828000000000003,
           2.3826,
           1.2502,
           0.9878,
           0.3524,
           0.48360000000000003,
           0.5812,
           2.2246,
           0.1218,
           0.8336,
           0.7662,
           0.1636,
           5.6374,
           46.918,
           9.284,
           5.1788,
           4.7102,
           3.66,
           3.5894000000000004,
           2.8480000000000003,
           2.0798,
           1.7608000000000001,
           0.9580000000000001,
           0.727,
           0.6566000000000001,
           0.6158,
           0.6028,
           0.4878,
           0.2872,
           0.024800000000000003,
           13.306000000000001,
           0.48700000000000004,
           65.9854,
           41.0422,
           36.5242,
           3.696,
           3.0464,
           1.6132,
           7.821400000000001,
           0.26580000000000004,
           1.5226000000000002,
           2.1944,
           4.8994,
           2.7056,
           2.6772,
           1.1258000000000001,
           0.3956,
           0.2772,
           5.1930000000000005,
           42.7992,
           30.5648,
           20.696,
           14.523800000000001,
           12.410400000000001,
           10.6324,
           6.239,
           5.747800000000001,
           4.412,
           3.9758,
           3.7818,
           3.6218000000000004,
           3.607,
           3.0300000000000002,
           2.7546,
           2.7326,
           2.4592,
           0.8086,
           0.7214,
           0.137,
           28.7436,
           28.3902,
           9.6492,
           4.930000000000001,
           4.0396,
           3.947,
           2.8474,
           0.1608,
           2.548,
           2.1412,
           56.1418,
           23.0866,
           10.5648,
           9.6982,
           8.7294,
           6.094200000000001,
           3.3202000000000003,
           2.0300000000000002,
           1.9832,
           1.8308,
           3.4250000000000003,
           6.7198,
           10.9628,
           6.836200000000001,
           38.9346,
           34.1724,
           25.0148,
           14.273800000000001,
           7.7522,
           2.584,
           1.4832,
           1.2966,
           78.747,
           12.1266,
           5.6426,
           4.206,
           14.888,
           11.600200000000001,
           10.7104,
           4.3146,
           3.25,
           2.8886000000000003,
           1.9256000000000002,
           1.8748,
           1.3304,
           6.0414,
           3.3954,
           2.1020000000000003,
           0.29760000000000003,
           7.768800000000001,
           7.6558,
           7.5178,
           2.2408,
           8.6498,
           3.7906,
           1.6818000000000002,
           0.5708,
           0.5676,
           0.9252,
           0.21960000000000002
          ],
          "symbol": "circle"
         },
         "mode": "markers",
         "name": "Education",
         "text": [
          "SCHOOL STUDENT COUNSELING",
          "SPECIAL NEEDS EDUCATION",
          "GENERAL EDUCATION",
          "SOCIAL SCIENCE OR HISTORY TEACHER EDUCATION",
          "MATHEMATICS TEACHER EDUCATION",
          "EDUCATIONAL ADMINISTRATION AND SUPERVISION",
          "LANGUAGE AND DRAMA EDUCATION",
          "MISCELLANEOUS EDUCATION",
          "SECONDARY TEACHER EDUCATION",
          "ART AND MUSIC EDUCATION",
          "ELEMENTARY EDUCATION",
          "SCIENCE AND COMPUTER TEACHER EDUCATION",
          "PHYSICAL AND HEALTH EDUCATION TEACHING",
          "TEACHER EDUCATION: MULTIPLE LEVELS",
          "EARLY CHILDHOOD EDUCATION",
          "LIBRARY SCIENCE"
         ],
         "textfont": {
          "color": "#4D5663"
         },
         "type": "scatter",
         "x": [
          0.107579462,
          0.041507819,
          0.057359929,
          0.054082941,
          0.016202835,
          0,
          0.050306435,
          0.059211951,
          0.05222898,
          0.038637747,
          0.046585715,
          0.047263682,
          0.074667496,
          0.03654583,
          0.040104981,
          0.104945718
         ],
         "y": [
          545,
          16642,
          73531,
          8871,
          8073,
          504,
          15266,
          5816,
          9193,
          16537,
          86540,
          3247,
          13651,
          8457,
          20748,
          410
         ]
        },
        {
         "marker": {
          "color": "rgba(255, 153, 51, 0.8999999999999999)",
          "line": {
           "width": 1.3
          },
          "opacity": 0.8,
          "size": [
           0.46780000000000005,
           0.1512,
           0.17120000000000002,
           0.2516,
           6.452,
           0.5146000000000001,
           0.7554000000000001,
           0.3584,
           18.2454,
           16.305400000000002,
           8.3084,
           3.0116,
           2.991,
           0.8558,
           0.8642000000000001,
           1.7850000000000001,
           3.7936,
           12.230400000000001,
           0.5650000000000001,
           0.2296,
           25.663800000000002,
           2.313,
           0.5986,
           3.7426000000000004,
           10.630600000000001,
           3.6996,
           2.3464,
           1.8266,
           1.1956,
           0.8094,
           0.7200000000000001,
           0.668,
           0.14400000000000002,
           41.878800000000005,
           34.9012,
           27.849400000000003,
           2.6604,
           0.9262,
           0.4232,
           39.726600000000005,
           14.4794,
           7.339600000000001,
           6.4284,
           3.1828000000000003,
           2.3826,
           1.2502,
           0.9878,
           0.3524,
           0.48360000000000003,
           0.5812,
           2.2246,
           0.1218,
           0.8336,
           0.7662,
           0.1636,
           5.6374,
           46.918,
           9.284,
           5.1788,
           4.7102,
           3.66,
           3.5894000000000004,
           2.8480000000000003,
           2.0798,
           1.7608000000000001,
           0.9580000000000001,
           0.727,
           0.6566000000000001,
           0.6158,
           0.6028,
           0.4878,
           0.2872,
           0.024800000000000003,
           13.306000000000001,
           0.48700000000000004,
           65.9854,
           41.0422,
           36.5242,
           3.696,
           3.0464,
           1.6132,
           7.821400000000001,
           0.26580000000000004,
           1.5226000000000002,
           2.1944,
           4.8994,
           2.7056,
           2.6772,
           1.1258000000000001,
           0.3956,
           0.2772,
           5.1930000000000005,
           42.7992,
           30.5648,
           20.696,
           14.523800000000001,
           12.410400000000001,
           10.6324,
           6.239,
           5.747800000000001,
           4.412,
           3.9758,
           3.7818,
           3.6218000000000004,
           3.607,
           3.0300000000000002,
           2.7546,
           2.7326,
           2.4592,
           0.8086,
           0.7214,
           0.137,
           28.7436,
           28.3902,
           9.6492,
           4.930000000000001,
           4.0396,
           3.947,
           2.8474,
           0.1608,
           2.548,
           2.1412,
           56.1418,
           23.0866,
           10.5648,
           9.6982,
           8.7294,
           6.094200000000001,
           3.3202000000000003,
           2.0300000000000002,
           1.9832,
           1.8308,
           3.4250000000000003,
           6.7198,
           10.9628,
           6.836200000000001,
           38.9346,
           34.1724,
           25.0148,
           14.273800000000001,
           7.7522,
           2.584,
           1.4832,
           1.2966,
           78.747,
           12.1266,
           5.6426,
           4.206,
           14.888,
           11.600200000000001,
           10.7104,
           4.3146,
           3.25,
           2.8886000000000003,
           1.9256000000000002,
           1.8748,
           1.3304,
           6.0414,
           3.3954,
           2.1020000000000003,
           0.29760000000000003,
           7.768800000000001,
           7.6558,
           7.5178,
           2.2408,
           8.6498,
           3.7906,
           1.6818000000000002,
           0.5708,
           0.5676,
           0.9252,
           0.21960000000000002
          ],
          "symbol": "circle"
         },
         "mode": "markers",
         "name": "Agriculture & Natural Resources",
         "text": [
          "AGRICULTURE PRODUCTION AND MANAGEMENT",
          "GENERAL AGRICULTURE",
          "AGRICULTURAL ECONOMICS",
          "NATURAL RESOURCES MANAGEMENT",
          "FORESTRY",
          "SOIL SCIENCE",
          "PLANT SCIENCE AND AGRONOMY",
          "ANIMAL SCIENCES",
          "MISCELLANEOUS AGRICULTURE"
         ],
         "textfont": {
          "color": "#4D5663"
         },
         "type": "scatter",
         "x": [
          0.050030836,
          0.019642463,
          0.077249576,
          0.066619195,
          0.096725743,
          0,
          0.045454545,
          0.050862499,
          0.059766764
         ],
         "y": [
          9093,
          5888,
          1528,
          6954,
          1763,
          383,
          4522,
          10824,
          936
         ]
        },
        {
         "marker": {
          "color": "rgba(55, 128, 191, 0.8999999999999999)",
          "line": {
           "width": 1.3
          },
          "opacity": 0.8,
          "size": [
           0.46780000000000005,
           0.1512,
           0.17120000000000002,
           0.2516,
           6.452,
           0.5146000000000001,
           0.7554000000000001,
           0.3584,
           18.2454,
           16.305400000000002,
           8.3084,
           3.0116,
           2.991,
           0.8558,
           0.8642000000000001,
           1.7850000000000001,
           3.7936,
           12.230400000000001,
           0.5650000000000001,
           0.2296,
           25.663800000000002,
           2.313,
           0.5986,
           3.7426000000000004,
           10.630600000000001,
           3.6996,
           2.3464,
           1.8266,
           1.1956,
           0.8094,
           0.7200000000000001,
           0.668,
           0.14400000000000002,
           41.878800000000005,
           34.9012,
           27.849400000000003,
           2.6604,
           0.9262,
           0.4232,
           39.726600000000005,
           14.4794,
           7.339600000000001,
           6.4284,
           3.1828000000000003,
           2.3826,
           1.2502,
           0.9878,
           0.3524,
           0.48360000000000003,
           0.5812,
           2.2246,
           0.1218,
           0.8336,
           0.7662,
           0.1636,
           5.6374,
           46.918,
           9.284,
           5.1788,
           4.7102,
           3.66,
           3.5894000000000004,
           2.8480000000000003,
           2.0798,
           1.7608000000000001,
           0.9580000000000001,
           0.727,
           0.6566000000000001,
           0.6158,
           0.6028,
           0.4878,
           0.2872,
           0.024800000000000003,
           13.306000000000001,
           0.48700000000000004,
           65.9854,
           41.0422,
           36.5242,
           3.696,
           3.0464,
           1.6132,
           7.821400000000001,
           0.26580000000000004,
           1.5226000000000002,
           2.1944,
           4.8994,
           2.7056,
           2.6772,
           1.1258000000000001,
           0.3956,
           0.2772,
           5.1930000000000005,
           42.7992,
           30.5648,
           20.696,
           14.523800000000001,
           12.410400000000001,
           10.6324,
           6.239,
           5.747800000000001,
           4.412,
           3.9758,
           3.7818,
           3.6218000000000004,
           3.607,
           3.0300000000000002,
           2.7546,
           2.7326,
           2.4592,
           0.8086,
           0.7214,
           0.137,
           28.7436,
           28.3902,
           9.6492,
           4.930000000000001,
           4.0396,
           3.947,
           2.8474,
           0.1608,
           2.548,
           2.1412,
           56.1418,
           23.0866,
           10.5648,
           9.6982,
           8.7294,
           6.094200000000001,
           3.3202000000000003,
           2.0300000000000002,
           1.9832,
           1.8308,
           3.4250000000000003,
           6.7198,
           10.9628,
           6.836200000000001,
           38.9346,
           34.1724,
           25.0148,
           14.273800000000001,
           7.7522,
           2.584,
           1.4832,
           1.2966,
           78.747,
           12.1266,
           5.6426,
           4.206,
           14.888,
           11.600200000000001,
           10.7104,
           4.3146,
           3.25,
           2.8886000000000003,
           1.9256000000000002,
           1.8748,
           1.3304,
           6.0414,
           3.3954,
           2.1020000000000003,
           0.29760000000000003,
           7.768800000000001,
           7.6558,
           7.5178,
           2.2408,
           8.6498,
           3.7906,
           1.6818000000000002,
           0.5708,
           0.5676,
           0.9252,
           0.21960000000000002
          ],
          "symbol": "circle"
         },
         "mode": "markers",
         "name": "Humanities & Liberal Arts",
         "text": [
          "UNITED STATES HISTORY",
          "AREA ETHNIC AND CIVILIZATION STUDIES",
          "HISTORY",
          "FRENCH GERMAN LATIN AND OTHER COMMON FOREIGN LANGUAGE STUDIES",
          "INTERCULTURAL AND INTERNATIONAL STUDIES",
          "LINGUISTICS AND COMPARATIVE LANGUAGE AND LITERATURE",
          "PHILOSOPHY AND RELIGIOUS STUDIES",
          "ENGLISH LANGUAGE AND LITERATURE",
          "LIBERAL ARTS",
          "ART HISTORY AND CRITICISM",
          "HUMANITIES",
          "THEOLOGY AND RELIGIOUS VOCATIONS",
          "ANTHROPOLOGY AND ARCHEOLOGY",
          "OTHER FOREIGN LANGUAGES",
          "COMPOSITION AND RHETORIC"
         ],
         "textfont": {
          "color": "#4D5663"
         },
         "type": "scatter",
         "x": [
          0.047179487,
          0.063429289,
          0.095666912,
          0.075566386,
          0.083633531,
          0.10443571,
          0.096051684,
          0.08772359,
          0.078267592,
          0.060298284,
          0.068584071,
          0.062628297,
          0.102791571,
          0.107115726,
          0.081742207
         ],
         "y": [
          1274,
          13109,
          59218,
          20056,
          8801,
          5821,
          21816,
          81180,
          33438,
          9965,
          2661,
          13944,
          13232,
          3214,
          7832
         ]
        },
        {
         "marker": {
          "color": "rgba(50, 171, 96, 0.8999999999999999)",
          "line": {
           "width": 1.3
          },
          "opacity": 0.8,
          "size": [
           0.46780000000000005,
           0.1512,
           0.17120000000000002,
           0.2516,
           6.452,
           0.5146000000000001,
           0.7554000000000001,
           0.3584,
           18.2454,
           16.305400000000002,
           8.3084,
           3.0116,
           2.991,
           0.8558,
           0.8642000000000001,
           1.7850000000000001,
           3.7936,
           12.230400000000001,
           0.5650000000000001,
           0.2296,
           25.663800000000002,
           2.313,
           0.5986,
           3.7426000000000004,
           10.630600000000001,
           3.6996,
           2.3464,
           1.8266,
           1.1956,
           0.8094,
           0.7200000000000001,
           0.668,
           0.14400000000000002,
           41.878800000000005,
           34.9012,
           27.849400000000003,
           2.6604,
           0.9262,
           0.4232,
           39.726600000000005,
           14.4794,
           7.339600000000001,
           6.4284,
           3.1828000000000003,
           2.3826,
           1.2502,
           0.9878,
           0.3524,
           0.48360000000000003,
           0.5812,
           2.2246,
           0.1218,
           0.8336,
           0.7662,
           0.1636,
           5.6374,
           46.918,
           9.284,
           5.1788,
           4.7102,
           3.66,
           3.5894000000000004,
           2.8480000000000003,
           2.0798,
           1.7608000000000001,
           0.9580000000000001,
           0.727,
           0.6566000000000001,
           0.6158,
           0.6028,
           0.4878,
           0.2872,
           0.024800000000000003,
           13.306000000000001,
           0.48700000000000004,
           65.9854,
           41.0422,
           36.5242,
           3.696,
           3.0464,
           1.6132,
           7.821400000000001,
           0.26580000000000004,
           1.5226000000000002,
           2.1944,
           4.8994,
           2.7056,
           2.6772,
           1.1258000000000001,
           0.3956,
           0.2772,
           5.1930000000000005,
           42.7992,
           30.5648,
           20.696,
           14.523800000000001,
           12.410400000000001,
           10.6324,
           6.239,
           5.747800000000001,
           4.412,
           3.9758,
           3.7818,
           3.6218000000000004,
           3.607,
           3.0300000000000002,
           2.7546,
           2.7326,
           2.4592,
           0.8086,
           0.7214,
           0.137,
           28.7436,
           28.3902,
           9.6492,
           4.930000000000001,
           4.0396,
           3.947,
           2.8474,
           0.1608,
           2.548,
           2.1412,
           56.1418,
           23.0866,
           10.5648,
           9.6982,
           8.7294,
           6.094200000000001,
           3.3202000000000003,
           2.0300000000000002,
           1.9832,
           1.8308,
           3.4250000000000003,
           6.7198,
           10.9628,
           6.836200000000001,
           38.9346,
           34.1724,
           25.0148,
           14.273800000000001,
           7.7522,
           2.584,
           1.4832,
           1.2966,
           78.747,
           12.1266,
           5.6426,
           4.206,
           14.888,
           11.600200000000001,
           10.7104,
           4.3146,
           3.25,
           2.8886000000000003,
           1.9256000000000002,
           1.8748,
           1.3304,
           6.0414,
           3.3954,
           2.1020000000000003,
           0.29760000000000003,
           7.768800000000001,
           7.6558,
           7.5178,
           2.2408,
           8.6498,
           3.7906,
           1.6818000000000002,
           0.5708,
           0.5676,
           0.9252,
           0.21960000000000002
          ],
          "symbol": "circle"
         },
         "mode": "markers",
         "name": "Psychology & Social Work",
         "text": [
          "INDUSTRIAL AND ORGANIZATIONAL PSYCHOLOGY",
          "SOCIAL PSYCHOLOGY",
          "PSYCHOLOGY",
          "SOCIAL WORK",
          "MISCELLANEOUS PSYCHOLOGY",
          "HUMAN SERVICES AND COMMUNITY ORGANIZATION",
          "EDUCATIONAL PSYCHOLOGY",
          "CLINICAL PSYCHOLOGY",
          "COUNSELING PSYCHOLOGY"
         ],
         "textfont": {
          "color": "#4D5663"
         },
         "type": "scatter",
         "x": [
          0.108786611,
          0.029649596,
          0.083810867,
          0.06882792,
          0.05190783,
          0.037819026,
          0.065112187,
          0.149048198,
          0.053620646
         ],
         "y": [
          1409,
          529,
          174438,
          27588,
          3838,
          5061,
          1211,
          1293,
          2738
         ]
        },
        {
         "marker": {
          "color": "rgba(128, 0, 128, 0.8999999999999999)",
          "line": {
           "width": 1.3
          },
          "opacity": 0.8,
          "size": [
           0.46780000000000005,
           0.1512,
           0.17120000000000002,
           0.2516,
           6.452,
           0.5146000000000001,
           0.7554000000000001,
           0.3584,
           18.2454,
           16.305400000000002,
           8.3084,
           3.0116,
           2.991,
           0.8558,
           0.8642000000000001,
           1.7850000000000001,
           3.7936,
           12.230400000000001,
           0.5650000000000001,
           0.2296,
           25.663800000000002,
           2.313,
           0.5986,
           3.7426000000000004,
           10.630600000000001,
           3.6996,
           2.3464,
           1.8266,
           1.1956,
           0.8094,
           0.7200000000000001,
           0.668,
           0.14400000000000002,
           41.878800000000005,
           34.9012,
           27.849400000000003,
           2.6604,
           0.9262,
           0.4232,
           39.726600000000005,
           14.4794,
           7.339600000000001,
           6.4284,
           3.1828000000000003,
           2.3826,
           1.2502,
           0.9878,
           0.3524,
           0.48360000000000003,
           0.5812,
           2.2246,
           0.1218,
           0.8336,
           0.7662,
           0.1636,
           5.6374,
           46.918,
           9.284,
           5.1788,
           4.7102,
           3.66,
           3.5894000000000004,
           2.8480000000000003,
           2.0798,
           1.7608000000000001,
           0.9580000000000001,
           0.727,
           0.6566000000000001,
           0.6158,
           0.6028,
           0.4878,
           0.2872,
           0.024800000000000003,
           13.306000000000001,
           0.48700000000000004,
           65.9854,
           41.0422,
           36.5242,
           3.696,
           3.0464,
           1.6132,
           7.821400000000001,
           0.26580000000000004,
           1.5226000000000002,
           2.1944,
           4.8994,
           2.7056,
           2.6772,
           1.1258000000000001,
           0.3956,
           0.2772,
           5.1930000000000005,
           42.7992,
           30.5648,
           20.696,
           14.523800000000001,
           12.410400000000001,
           10.6324,
           6.239,
           5.747800000000001,
           4.412,
           3.9758,
           3.7818,
           3.6218000000000004,
           3.607,
           3.0300000000000002,
           2.7546,
           2.7326,
           2.4592,
           0.8086,
           0.7214,
           0.137,
           28.7436,
           28.3902,
           9.6492,
           4.930000000000001,
           4.0396,
           3.947,
           2.8474,
           0.1608,
           2.548,
           2.1412,
           56.1418,
           23.0866,
           10.5648,
           9.6982,
           8.7294,
           6.094200000000001,
           3.3202000000000003,
           2.0300000000000002,
           1.9832,
           1.8308,
           3.4250000000000003,
           6.7198,
           10.9628,
           6.836200000000001,
           38.9346,
           34.1724,
           25.0148,
           14.273800000000001,
           7.7522,
           2.584,
           1.4832,
           1.2966,
           78.747,
           12.1266,
           5.6426,
           4.206,
           14.888,
           11.600200000000001,
           10.7104,
           4.3146,
           3.25,
           2.8886000000000003,
           1.9256000000000002,
           1.8748,
           1.3304,
           6.0414,
           3.3954,
           2.1020000000000003,
           0.29760000000000003,
           7.768800000000001,
           7.6558,
           7.5178,
           2.2408,
           8.6498,
           3.7906,
           1.6818000000000002,
           0.5708,
           0.5676,
           0.9252,
           0.21960000000000002
          ],
          "symbol": "circle"
         },
         "mode": "markers",
         "name": "Communications & Journalism",
         "text": [
          "COMMUNICATIONS",
          "JOURNALISM",
          "ADVERTISING AND PUBLIC RELATIONS",
          "MASS MEDIA"
         ],
         "textfont": {
          "color": "#4D5663"
         },
         "type": "scatter",
         "x": [
          0.075176976,
          0.069176442,
          0.067960766,
          0.089836827
         ],
         "y": [
          116251,
          39524,
          30932,
          27521
         ]
        },
        {
         "marker": {
          "color": "rgba(219, 64, 82, 0.8999999999999999)",
          "line": {
           "width": 1.3
          },
          "opacity": 0.8,
          "size": [
           0.46780000000000005,
           0.1512,
           0.17120000000000002,
           0.2516,
           6.452,
           0.5146000000000001,
           0.7554000000000001,
           0.3584,
           18.2454,
           16.305400000000002,
           8.3084,
           3.0116,
           2.991,
           0.8558,
           0.8642000000000001,
           1.7850000000000001,
           3.7936,
           12.230400000000001,
           0.5650000000000001,
           0.2296,
           25.663800000000002,
           2.313,
           0.5986,
           3.7426000000000004,
           10.630600000000001,
           3.6996,
           2.3464,
           1.8266,
           1.1956,
           0.8094,
           0.7200000000000001,
           0.668,
           0.14400000000000002,
           41.878800000000005,
           34.9012,
           27.849400000000003,
           2.6604,
           0.9262,
           0.4232,
           39.726600000000005,
           14.4794,
           7.339600000000001,
           6.4284,
           3.1828000000000003,
           2.3826,
           1.2502,
           0.9878,
           0.3524,
           0.48360000000000003,
           0.5812,
           2.2246,
           0.1218,
           0.8336,
           0.7662,
           0.1636,
           5.6374,
           46.918,
           9.284,
           5.1788,
           4.7102,
           3.66,
           3.5894000000000004,
           2.8480000000000003,
           2.0798,
           1.7608000000000001,
           0.9580000000000001,
           0.727,
           0.6566000000000001,
           0.6158,
           0.6028,
           0.4878,
           0.2872,
           0.024800000000000003,
           13.306000000000001,
           0.48700000000000004,
           65.9854,
           41.0422,
           36.5242,
           3.696,
           3.0464,
           1.6132,
           7.821400000000001,
           0.26580000000000004,
           1.5226000000000002,
           2.1944,
           4.8994,
           2.7056,
           2.6772,
           1.1258000000000001,
           0.3956,
           0.2772,
           5.1930000000000005,
           42.7992,
           30.5648,
           20.696,
           14.523800000000001,
           12.410400000000001,
           10.6324,
           6.239,
           5.747800000000001,
           4.412,
           3.9758,
           3.7818,
           3.6218000000000004,
           3.607,
           3.0300000000000002,
           2.7546,
           2.7326,
           2.4592,
           0.8086,
           0.7214,
           0.137,
           28.7436,
           28.3902,
           9.6492,
           4.930000000000001,
           4.0396,
           3.947,
           2.8474,
           0.1608,
           2.548,
           2.1412,
           56.1418,
           23.0866,
           10.5648,
           9.6982,
           8.7294,
           6.094200000000001,
           3.3202000000000003,
           2.0300000000000002,
           1.9832,
           1.8308,
           3.4250000000000003,
           6.7198,
           10.9628,
           6.836200000000001,
           38.9346,
           34.1724,
           25.0148,
           14.273800000000001,
           7.7522,
           2.584,
           1.4832,
           1.2966,
           78.747,
           12.1266,
           5.6426,
           4.206,
           14.888,
           11.600200000000001,
           10.7104,
           4.3146,
           3.25,
           2.8886000000000003,
           1.9256000000000002,
           1.8748,
           1.3304,
           6.0414,
           3.3954,
           2.1020000000000003,
           0.29760000000000003,
           7.768800000000001,
           7.6558,
           7.5178,
           2.2408,
           8.6498,
           3.7906,
           1.6818000000000002,
           0.5708,
           0.5676,
           0.9252,
           0.21960000000000002
          ],
          "symbol": "circle"
         },
         "mode": "markers",
         "name": "Interdisciplinary",
         "text": [
          "MULTI/INTERDISCIPLINARY STUDIES"
         ],
         "textfont": {
          "color": "#4D5663"
         },
         "type": "scatter",
         "x": [
          0.070860927
         ],
         "y": [
          6234
         ]
        }
       ],
       "layout": {
        "legend": {
         "bgcolor": "#F5F6F9",
         "font": {
          "color": "#4D5663"
         }
        },
        "paper_bgcolor": "#F5F6F9",
        "plot_bgcolor": "#F5F6F9",
        "template": {
         "data": {
          "bar": [
           {
            "error_x": {
             "color": "#2a3f5f"
            },
            "error_y": {
             "color": "#2a3f5f"
            },
            "marker": {
             "line": {
              "color": "#E5ECF6",
              "width": 0.5
             },
             "pattern": {
              "fillmode": "overlay",
              "size": 10,
              "solidity": 0.2
             }
            },
            "type": "bar"
           }
          ],
          "barpolar": [
           {
            "marker": {
             "line": {
              "color": "#E5ECF6",
              "width": 0.5
             },
             "pattern": {
              "fillmode": "overlay",
              "size": 10,
              "solidity": 0.2
             }
            },
            "type": "barpolar"
           }
          ],
          "carpet": [
           {
            "aaxis": {
             "endlinecolor": "#2a3f5f",
             "gridcolor": "white",
             "linecolor": "white",
             "minorgridcolor": "white",
             "startlinecolor": "#2a3f5f"
            },
            "baxis": {
             "endlinecolor": "#2a3f5f",
             "gridcolor": "white",
             "linecolor": "white",
             "minorgridcolor": "white",
             "startlinecolor": "#2a3f5f"
            },
            "type": "carpet"
           }
          ],
          "choropleth": [
           {
            "colorbar": {
             "outlinewidth": 0,
             "ticks": ""
            },
            "type": "choropleth"
           }
          ],
          "contour": [
           {
            "colorbar": {
             "outlinewidth": 0,
             "ticks": ""
            },
            "colorscale": [
             [
              0,
              "#0d0887"
             ],
             [
              0.1111111111111111,
              "#46039f"
             ],
             [
              0.2222222222222222,
              "#7201a8"
             ],
             [
              0.3333333333333333,
              "#9c179e"
             ],
             [
              0.4444444444444444,
              "#bd3786"
             ],
             [
              0.5555555555555556,
              "#d8576b"
             ],
             [
              0.6666666666666666,
              "#ed7953"
             ],
             [
              0.7777777777777778,
              "#fb9f3a"
             ],
             [
              0.8888888888888888,
              "#fdca26"
             ],
             [
              1,
              "#f0f921"
             ]
            ],
            "type": "contour"
           }
          ],
          "contourcarpet": [
           {
            "colorbar": {
             "outlinewidth": 0,
             "ticks": ""
            },
            "type": "contourcarpet"
           }
          ],
          "heatmap": [
           {
            "colorbar": {
             "outlinewidth": 0,
             "ticks": ""
            },
            "colorscale": [
             [
              0,
              "#0d0887"
             ],
             [
              0.1111111111111111,
              "#46039f"
             ],
             [
              0.2222222222222222,
              "#7201a8"
             ],
             [
              0.3333333333333333,
              "#9c179e"
             ],
             [
              0.4444444444444444,
              "#bd3786"
             ],
             [
              0.5555555555555556,
              "#d8576b"
             ],
             [
              0.6666666666666666,
              "#ed7953"
             ],
             [
              0.7777777777777778,
              "#fb9f3a"
             ],
             [
              0.8888888888888888,
              "#fdca26"
             ],
             [
              1,
              "#f0f921"
             ]
            ],
            "type": "heatmap"
           }
          ],
          "heatmapgl": [
           {
            "colorbar": {
             "outlinewidth": 0,
             "ticks": ""
            },
            "colorscale": [
             [
              0,
              "#0d0887"
             ],
             [
              0.1111111111111111,
              "#46039f"
             ],
             [
              0.2222222222222222,
              "#7201a8"
             ],
             [
              0.3333333333333333,
              "#9c179e"
             ],
             [
              0.4444444444444444,
              "#bd3786"
             ],
             [
              0.5555555555555556,
              "#d8576b"
             ],
             [
              0.6666666666666666,
              "#ed7953"
             ],
             [
              0.7777777777777778,
              "#fb9f3a"
             ],
             [
              0.8888888888888888,
              "#fdca26"
             ],
             [
              1,
              "#f0f921"
             ]
            ],
            "type": "heatmapgl"
           }
          ],
          "histogram": [
           {
            "marker": {
             "pattern": {
              "fillmode": "overlay",
              "size": 10,
              "solidity": 0.2
             }
            },
            "type": "histogram"
           }
          ],
          "histogram2d": [
           {
            "colorbar": {
             "outlinewidth": 0,
             "ticks": ""
            },
            "colorscale": [
             [
              0,
              "#0d0887"
             ],
             [
              0.1111111111111111,
              "#46039f"
             ],
             [
              0.2222222222222222,
              "#7201a8"
             ],
             [
              0.3333333333333333,
              "#9c179e"
             ],
             [
              0.4444444444444444,
              "#bd3786"
             ],
             [
              0.5555555555555556,
              "#d8576b"
             ],
             [
              0.6666666666666666,
              "#ed7953"
             ],
             [
              0.7777777777777778,
              "#fb9f3a"
             ],
             [
              0.8888888888888888,
              "#fdca26"
             ],
             [
              1,
              "#f0f921"
             ]
            ],
            "type": "histogram2d"
           }
          ],
          "histogram2dcontour": [
           {
            "colorbar": {
             "outlinewidth": 0,
             "ticks": ""
            },
            "colorscale": [
             [
              0,
              "#0d0887"
             ],
             [
              0.1111111111111111,
              "#46039f"
             ],
             [
              0.2222222222222222,
              "#7201a8"
             ],
             [
              0.3333333333333333,
              "#9c179e"
             ],
             [
              0.4444444444444444,
              "#bd3786"
             ],
             [
              0.5555555555555556,
              "#d8576b"
             ],
             [
              0.6666666666666666,
              "#ed7953"
             ],
             [
              0.7777777777777778,
              "#fb9f3a"
             ],
             [
              0.8888888888888888,
              "#fdca26"
             ],
             [
              1,
              "#f0f921"
             ]
            ],
            "type": "histogram2dcontour"
           }
          ],
          "mesh3d": [
           {
            "colorbar": {
             "outlinewidth": 0,
             "ticks": ""
            },
            "type": "mesh3d"
           }
          ],
          "parcoords": [
           {
            "line": {
             "colorbar": {
              "outlinewidth": 0,
              "ticks": ""
             }
            },
            "type": "parcoords"
           }
          ],
          "pie": [
           {
            "automargin": true,
            "type": "pie"
           }
          ],
          "scatter": [
           {
            "fillpattern": {
             "fillmode": "overlay",
             "size": 10,
             "solidity": 0.2
            },
            "type": "scatter"
           }
          ],
          "scatter3d": [
           {
            "line": {
             "colorbar": {
              "outlinewidth": 0,
              "ticks": ""
             }
            },
            "marker": {
             "colorbar": {
              "outlinewidth": 0,
              "ticks": ""
             }
            },
            "type": "scatter3d"
           }
          ],
          "scattercarpet": [
           {
            "marker": {
             "colorbar": {
              "outlinewidth": 0,
              "ticks": ""
             }
            },
            "type": "scattercarpet"
           }
          ],
          "scattergeo": [
           {
            "marker": {
             "colorbar": {
              "outlinewidth": 0,
              "ticks": ""
             }
            },
            "type": "scattergeo"
           }
          ],
          "scattergl": [
           {
            "marker": {
             "colorbar": {
              "outlinewidth": 0,
              "ticks": ""
             }
            },
            "type": "scattergl"
           }
          ],
          "scattermapbox": [
           {
            "marker": {
             "colorbar": {
              "outlinewidth": 0,
              "ticks": ""
             }
            },
            "type": "scattermapbox"
           }
          ],
          "scatterpolar": [
           {
            "marker": {
             "colorbar": {
              "outlinewidth": 0,
              "ticks": ""
             }
            },
            "type": "scatterpolar"
           }
          ],
          "scatterpolargl": [
           {
            "marker": {
             "colorbar": {
              "outlinewidth": 0,
              "ticks": ""
             }
            },
            "type": "scatterpolargl"
           }
          ],
          "scatterternary": [
           {
            "marker": {
             "colorbar": {
              "outlinewidth": 0,
              "ticks": ""
             }
            },
            "type": "scatterternary"
           }
          ],
          "surface": [
           {
            "colorbar": {
             "outlinewidth": 0,
             "ticks": ""
            },
            "colorscale": [
             [
              0,
              "#0d0887"
             ],
             [
              0.1111111111111111,
              "#46039f"
             ],
             [
              0.2222222222222222,
              "#7201a8"
             ],
             [
              0.3333333333333333,
              "#9c179e"
             ],
             [
              0.4444444444444444,
              "#bd3786"
             ],
             [
              0.5555555555555556,
              "#d8576b"
             ],
             [
              0.6666666666666666,
              "#ed7953"
             ],
             [
              0.7777777777777778,
              "#fb9f3a"
             ],
             [
              0.8888888888888888,
              "#fdca26"
             ],
             [
              1,
              "#f0f921"
             ]
            ],
            "type": "surface"
           }
          ],
          "table": [
           {
            "cells": {
             "fill": {
              "color": "#EBF0F8"
             },
             "line": {
              "color": "white"
             }
            },
            "header": {
             "fill": {
              "color": "#C8D4E3"
             },
             "line": {
              "color": "white"
             }
            },
            "type": "table"
           }
          ]
         },
         "layout": {
          "annotationdefaults": {
           "arrowcolor": "#2a3f5f",
           "arrowhead": 0,
           "arrowwidth": 1
          },
          "autotypenumbers": "strict",
          "coloraxis": {
           "colorbar": {
            "outlinewidth": 0,
            "ticks": ""
           }
          },
          "colorscale": {
           "diverging": [
            [
             0,
             "#8e0152"
            ],
            [
             0.1,
             "#c51b7d"
            ],
            [
             0.2,
             "#de77ae"
            ],
            [
             0.3,
             "#f1b6da"
            ],
            [
             0.4,
             "#fde0ef"
            ],
            [
             0.5,
             "#f7f7f7"
            ],
            [
             0.6,
             "#e6f5d0"
            ],
            [
             0.7,
             "#b8e186"
            ],
            [
             0.8,
             "#7fbc41"
            ],
            [
             0.9,
             "#4d9221"
            ],
            [
             1,
             "#276419"
            ]
           ],
           "sequential": [
            [
             0,
             "#0d0887"
            ],
            [
             0.1111111111111111,
             "#46039f"
            ],
            [
             0.2222222222222222,
             "#7201a8"
            ],
            [
             0.3333333333333333,
             "#9c179e"
            ],
            [
             0.4444444444444444,
             "#bd3786"
            ],
            [
             0.5555555555555556,
             "#d8576b"
            ],
            [
             0.6666666666666666,
             "#ed7953"
            ],
            [
             0.7777777777777778,
             "#fb9f3a"
            ],
            [
             0.8888888888888888,
             "#fdca26"
            ],
            [
             1,
             "#f0f921"
            ]
           ],
           "sequentialminus": [
            [
             0,
             "#0d0887"
            ],
            [
             0.1111111111111111,
             "#46039f"
            ],
            [
             0.2222222222222222,
             "#7201a8"
            ],
            [
             0.3333333333333333,
             "#9c179e"
            ],
            [
             0.4444444444444444,
             "#bd3786"
            ],
            [
             0.5555555555555556,
             "#d8576b"
            ],
            [
             0.6666666666666666,
             "#ed7953"
            ],
            [
             0.7777777777777778,
             "#fb9f3a"
            ],
            [
             0.8888888888888888,
             "#fdca26"
            ],
            [
             1,
             "#f0f921"
            ]
           ]
          },
          "colorway": [
           "#636efa",
           "#EF553B",
           "#00cc96",
           "#ab63fa",
           "#FFA15A",
           "#19d3f3",
           "#FF6692",
           "#B6E880",
           "#FF97FF",
           "#FECB52"
          ],
          "font": {
           "color": "#2a3f5f"
          },
          "geo": {
           "bgcolor": "white",
           "lakecolor": "white",
           "landcolor": "#E5ECF6",
           "showlakes": true,
           "showland": true,
           "subunitcolor": "white"
          },
          "hoverlabel": {
           "align": "left"
          },
          "hovermode": "closest",
          "mapbox": {
           "style": "light"
          },
          "paper_bgcolor": "white",
          "plot_bgcolor": "#E5ECF6",
          "polar": {
           "angularaxis": {
            "gridcolor": "white",
            "linecolor": "white",
            "ticks": ""
           },
           "bgcolor": "#E5ECF6",
           "radialaxis": {
            "gridcolor": "white",
            "linecolor": "white",
            "ticks": ""
           }
          },
          "scene": {
           "xaxis": {
            "backgroundcolor": "#E5ECF6",
            "gridcolor": "white",
            "gridwidth": 2,
            "linecolor": "white",
            "showbackground": true,
            "ticks": "",
            "zerolinecolor": "white"
           },
           "yaxis": {
            "backgroundcolor": "#E5ECF6",
            "gridcolor": "white",
            "gridwidth": 2,
            "linecolor": "white",
            "showbackground": true,
            "ticks": "",
            "zerolinecolor": "white"
           },
           "zaxis": {
            "backgroundcolor": "#E5ECF6",
            "gridcolor": "white",
            "gridwidth": 2,
            "linecolor": "white",
            "showbackground": true,
            "ticks": "",
            "zerolinecolor": "white"
           }
          },
          "shapedefaults": {
           "line": {
            "color": "#2a3f5f"
           }
          },
          "ternary": {
           "aaxis": {
            "gridcolor": "white",
            "linecolor": "white",
            "ticks": ""
           },
           "baxis": {
            "gridcolor": "white",
            "linecolor": "white",
            "ticks": ""
           },
           "bgcolor": "#E5ECF6",
           "caxis": {
            "gridcolor": "white",
            "linecolor": "white",
            "ticks": ""
           }
          },
          "title": {
           "x": 0.05
          },
          "xaxis": {
           "automargin": true,
           "gridcolor": "white",
           "linecolor": "white",
           "ticks": "",
           "title": {
            "standoff": 15
           },
           "zerolinecolor": "white",
           "zerolinewidth": 2
          },
          "yaxis": {
           "automargin": true,
           "gridcolor": "white",
           "linecolor": "white",
           "ticks": "",
           "title": {
            "standoff": 15
           },
           "zerolinecolor": "white",
           "zerolinewidth": 2
          }
         }
        },
        "title": {
         "font": {
          "color": "#4D5663"
         },
         "text": "Job Prospects"
        },
        "xaxis": {
         "gridcolor": "#E1E5ED",
         "showgrid": true,
         "tickfont": {
          "color": "#4D5663"
         },
         "title": {
          "font": {
           "color": "#4D5663"
          },
          "text": "Unemployment rate"
         },
         "zerolinecolor": "#E1E5ED"
        },
        "yaxis": {
         "gridcolor": "#E1E5ED",
         "showgrid": true,
         "tickfont": {
          "color": "#4D5663"
         },
         "title": {
          "font": {
           "color": "#4D5663"
          },
          "text": "Amount of full time year round employees"
         },
         "zerolinecolor": "#E1E5ED"
        }
       }
      },
      "text/html": [
       "<div>                            <div id=\"1dd907e7-d65a-46bd-917a-47fdf51e7c5c\" class=\"plotly-graph-div\" style=\"height:525px; width:100%;\"></div>            <script type=\"text/javascript\">                require([\"plotly\"], function(Plotly) {                    window.PLOTLYENV=window.PLOTLYENV || {};\n",
       "                    window.PLOTLYENV.BASE_URL='https://plot.ly';                                    if (document.getElementById(\"1dd907e7-d65a-46bd-917a-47fdf51e7c5c\")) {                    Plotly.newPlot(                        \"1dd907e7-d65a-46bd-917a-47fdf51e7c5c\",                        [{\"marker\":{\"color\":\"rgba(255, 153, 51, 1.0)\",\"line\":{\"width\":1.3},\"opacity\":0.8,\"size\":[0.46780000000000005,0.1512,0.17120000000000002,0.2516,6.452,0.5146000000000001,0.7554000000000001,0.3584,18.2454,16.305400000000002,8.3084,3.0116,2.991,0.8558,0.8642000000000001,1.7850000000000001,3.7936,12.230400000000001,0.5650000000000001,0.2296,25.663800000000002,2.313,0.5986,3.7426000000000004,10.630600000000001,3.6996,2.3464,1.8266,1.1956,0.8094,0.7200000000000001,0.668,0.14400000000000002,41.878800000000005,34.9012,27.849400000000003,2.6604,0.9262,0.4232,39.726600000000005,14.4794,7.339600000000001,6.4284,3.1828000000000003,2.3826,1.2502,0.9878,0.3524,0.48360000000000003,0.5812,2.2246,0.1218,0.8336,0.7662,0.1636,5.6374,46.918,9.284,5.1788,4.7102,3.66,3.5894000000000004,2.8480000000000003,2.0798,1.7608000000000001,0.9580000000000001,0.727,0.6566000000000001,0.6158,0.6028,0.4878,0.2872,0.024800000000000003,13.306000000000001,0.48700000000000004,65.9854,41.0422,36.5242,3.696,3.0464,1.6132,7.821400000000001,0.26580000000000004,1.5226000000000002,2.1944,4.8994,2.7056,2.6772,1.1258000000000001,0.3956,0.2772,5.1930000000000005,42.7992,30.5648,20.696,14.523800000000001,12.410400000000001,10.6324,6.239,5.747800000000001,4.412,3.9758,3.7818,3.6218000000000004,3.607,3.0300000000000002,2.7546,2.7326,2.4592,0.8086,0.7214,0.137,28.7436,28.3902,9.6492,4.930000000000001,4.0396,3.947,2.8474,0.1608,2.548,2.1412,56.1418,23.0866,10.5648,9.6982,8.7294,6.094200000000001,3.3202000000000003,2.0300000000000002,1.9832,1.8308,3.4250000000000003,6.7198,10.9628,6.836200000000001,38.9346,34.1724,25.0148,14.273800000000001,7.7522,2.584,1.4832,1.2966,78.747,12.1266,5.6426,4.206,14.888,11.600200000000001,10.7104,4.3146,3.25,2.8886000000000003,1.9256000000000002,1.8748,1.3304,6.0414,3.3954,2.1020000000000003,0.29760000000000003,7.768800000000001,7.6558,7.5178,2.2408,8.6498,3.7906,1.6818000000000002,0.5708,0.5676,0.9252,0.21960000000000002],\"symbol\":\"circle\"},\"mode\":\"markers\",\"name\":\"Engineering\",\"text\":[\"PETROLEUM ENGINEERING\",\"MINING AND MINERAL ENGINEERING\",\"METALLURGICAL ENGINEERING\",\"NAVAL ARCHITECTURE AND MARINE ENGINEERING\",\"CHEMICAL ENGINEERING\",\"NUCLEAR ENGINEERING\",\"MECHANICAL ENGINEERING\",\"ELECTRICAL ENGINEERING\",\"COMPUTER ENGINEERING\",\"AEROSPACE ENGINEERING\",\"BIOMEDICAL ENGINEERING\",\"MATERIALS SCIENCE\",\"ENGINEERING MECHANICS PHYSICS AND SCIENCE\",\"BIOLOGICAL ENGINEERING\",\"INDUSTRIAL AND MANUFACTURING ENGINEERING\",\"GENERAL ENGINEERING\",\"ARCHITECTURAL ENGINEERING\",\"ELECTRICAL ENGINEERING TECHNOLOGY\",\"MATERIALS ENGINEERING AND MATERIALS SCIENCE\",\"CIVIL ENGINEERING\",\"MISCELLANEOUS ENGINEERING\",\"ENVIRONMENTAL ENGINEERING\",\"ENGINEERING TECHNOLOGIES\",\"GEOLOGICAL AND GEOPHYSICAL ENGINEERING\",\"INDUSTRIAL PRODUCTION TECHNOLOGIES\",\"ENGINEERING AND INDUSTRIAL MANAGEMENT\",\"ARCHITECTURE\",\"MISCELLANEOUS ENGINEERING TECHNOLOGIES\",\"MECHANICAL ENGINEERING RELATED TECHNOLOGIES\"],\"textfont\":{\"color\":\"#4D5663\"},\"x\":[0.018380527,0.117241379,0.024096386,0.050125313,0.061097712,0.177226407,0.057342278,0.059173845,0.065409275,0.065162085,0.09208386,0.023042836,0.006334343,0.087143069,0.042875544,0.059824231,0.061930783,0.087557114,0.027788805,0.070609574,0.074392523,0.093588575,0.055030385,0.075038285,0.028308097,0.03365166,0.113331949,0.05253852,0.056357078],\"y\":[1207,388,340,692,16697,1449,54639,41413,23621,8790,5986,1967,2004,3413,11326,33540,1848,5681,1151,29196,5476,1951,1723,396,3242,1358,20026,5825,3607],\"type\":\"scatter\"},{\"marker\":{\"color\":\"rgba(55, 128, 191, 1.0)\",\"line\":{\"width\":1.3},\"opacity\":0.8,\"size\":[0.46780000000000005,0.1512,0.17120000000000002,0.2516,6.452,0.5146000000000001,0.7554000000000001,0.3584,18.2454,16.305400000000002,8.3084,3.0116,2.991,0.8558,0.8642000000000001,1.7850000000000001,3.7936,12.230400000000001,0.5650000000000001,0.2296,25.663800000000002,2.313,0.5986,3.7426000000000004,10.630600000000001,3.6996,2.3464,1.8266,1.1956,0.8094,0.7200000000000001,0.668,0.14400000000000002,41.878800000000005,34.9012,27.849400000000003,2.6604,0.9262,0.4232,39.726600000000005,14.4794,7.339600000000001,6.4284,3.1828000000000003,2.3826,1.2502,0.9878,0.3524,0.48360000000000003,0.5812,2.2246,0.1218,0.8336,0.7662,0.1636,5.6374,46.918,9.284,5.1788,4.7102,3.66,3.5894000000000004,2.8480000000000003,2.0798,1.7608000000000001,0.9580000000000001,0.727,0.6566000000000001,0.6158,0.6028,0.4878,0.2872,0.024800000000000003,13.306000000000001,0.48700000000000004,65.9854,41.0422,36.5242,3.696,3.0464,1.6132,7.821400000000001,0.26580000000000004,1.5226000000000002,2.1944,4.8994,2.7056,2.6772,1.1258000000000001,0.3956,0.2772,5.1930000000000005,42.7992,30.5648,20.696,14.523800000000001,12.410400000000001,10.6324,6.239,5.747800000000001,4.412,3.9758,3.7818,3.6218000000000004,3.607,3.0300000000000002,2.7546,2.7326,2.4592,0.8086,0.7214,0.137,28.7436,28.3902,9.6492,4.930000000000001,4.0396,3.947,2.8474,0.1608,2.548,2.1412,56.1418,23.0866,10.5648,9.6982,8.7294,6.094200000000001,3.3202000000000003,2.0300000000000002,1.9832,1.8308,3.4250000000000003,6.7198,10.9628,6.836200000000001,38.9346,34.1724,25.0148,14.273800000000001,7.7522,2.584,1.4832,1.2966,78.747,12.1266,5.6426,4.206,14.888,11.600200000000001,10.7104,4.3146,3.25,2.8886000000000003,1.9256000000000002,1.8748,1.3304,6.0414,3.3954,2.1020000000000003,0.29760000000000003,7.768800000000001,7.6558,7.5178,2.2408,8.6498,3.7906,1.6818000000000002,0.5708,0.5676,0.9252,0.21960000000000002],\"symbol\":\"circle\"},\"mode\":\"markers\",\"name\":\"Business\",\"text\":[\"ACTUARIAL SCIENCE\",\"MANAGEMENT INFORMATION SYSTEMS AND STATISTICS\",\"OPERATIONS LOGISTICS AND E-COMMERCE\",\"FINANCE\",\"BUSINESS ECONOMICS\",\"ACCOUNTING\",\"GENERAL BUSINESS\",\"INTERNATIONAL BUSINESS\",\"MISCELLANEOUS BUSINESS & MEDICAL ADMINISTRATION\",\"BUSINESS MANAGEMENT AND ADMINISTRATION\",\"MARKETING AND MARKETING RESEARCH\",\"HUMAN RESOURCES AND PERSONNEL MANAGEMENT\",\"HOSPITALITY MANAGEMENT\"],\"textfont\":{\"color\":\"#4D5663\"},\"x\":[0.095652174,0.058239614,0.047858703,0.060686356,0.096448381,0.069749014,0.072861468,0.096175064,0.071982974,0.072218341,0.061215064,0.059569649,0.061169193],\"y\":[2482,13017,7724,108595,8000,123169,138299,12823,10637,199897,127230,15446,23106],\"type\":\"scatter\"},{\"marker\":{\"color\":\"rgba(50, 171, 96, 1.0)\",\"line\":{\"width\":1.3},\"opacity\":0.8,\"size\":[0.46780000000000005,0.1512,0.17120000000000002,0.2516,6.452,0.5146000000000001,0.7554000000000001,0.3584,18.2454,16.305400000000002,8.3084,3.0116,2.991,0.8558,0.8642000000000001,1.7850000000000001,3.7936,12.230400000000001,0.5650000000000001,0.2296,25.663800000000002,2.313,0.5986,3.7426000000000004,10.630600000000001,3.6996,2.3464,1.8266,1.1956,0.8094,0.7200000000000001,0.668,0.14400000000000002,41.878800000000005,34.9012,27.849400000000003,2.6604,0.9262,0.4232,39.726600000000005,14.4794,7.339600000000001,6.4284,3.1828000000000003,2.3826,1.2502,0.9878,0.3524,0.48360000000000003,0.5812,2.2246,0.1218,0.8336,0.7662,0.1636,5.6374,46.918,9.284,5.1788,4.7102,3.66,3.5894000000000004,2.8480000000000003,2.0798,1.7608000000000001,0.9580000000000001,0.727,0.6566000000000001,0.6158,0.6028,0.4878,0.2872,0.024800000000000003,13.306000000000001,0.48700000000000004,65.9854,41.0422,36.5242,3.696,3.0464,1.6132,7.821400000000001,0.26580000000000004,1.5226000000000002,2.1944,4.8994,2.7056,2.6772,1.1258000000000001,0.3956,0.2772,5.1930000000000005,42.7992,30.5648,20.696,14.523800000000001,12.410400000000001,10.6324,6.239,5.747800000000001,4.412,3.9758,3.7818,3.6218000000000004,3.607,3.0300000000000002,2.7546,2.7326,2.4592,0.8086,0.7214,0.137,28.7436,28.3902,9.6492,4.930000000000001,4.0396,3.947,2.8474,0.1608,2.548,2.1412,56.1418,23.0866,10.5648,9.6982,8.7294,6.094200000000001,3.3202000000000003,2.0300000000000002,1.9832,1.8308,3.4250000000000003,6.7198,10.9628,6.836200000000001,38.9346,34.1724,25.0148,14.273800000000001,7.7522,2.584,1.4832,1.2966,78.747,12.1266,5.6426,4.206,14.888,11.600200000000001,10.7104,4.3146,3.25,2.8886000000000003,1.9256000000000002,1.8748,1.3304,6.0414,3.3954,2.1020000000000003,0.29760000000000003,7.768800000000001,7.6558,7.5178,2.2408,8.6498,3.7906,1.6818000000000002,0.5708,0.5676,0.9252,0.21960000000000002],\"symbol\":\"circle\"},\"mode\":\"markers\",\"name\":\"Physical Sciences\",\"text\":[\"ASTRONOMY AND ASTROPHYSICS\",\"NUCLEAR, INDUSTRIAL RADIOLOGY, AND BIOLOGICAL TECHNOLOGIES\",\"PHYSICS\",\"OCEANOGRAPHY\",\"PHYSICAL SCIENCES\",\"CHEMISTRY\",\"GEOLOGY AND EARTH SCIENCE\",\"GEOSCIENCES\",\"MULTI-DISCIPLINARY OR GENERAL SCIENCE\",\"ATMOSPHERIC SCIENCES AND METEOROLOGY\"],\"textfont\":{\"color\":\"#4D5663\"},\"x\":[0.021167415,0.07154047,0.048224496,0.056994819,0.035353535,0.0539724,0.075448568,0.024373731,0.055806815,0.022228555],\"y\":[827,1115,14389,1595,653,29910,5008,1011,28966,2161],\"type\":\"scatter\"},{\"marker\":{\"color\":\"rgba(128, 0, 128, 1.0)\",\"line\":{\"width\":1.3},\"opacity\":0.8,\"size\":[0.46780000000000005,0.1512,0.17120000000000002,0.2516,6.452,0.5146000000000001,0.7554000000000001,0.3584,18.2454,16.305400000000002,8.3084,3.0116,2.991,0.8558,0.8642000000000001,1.7850000000000001,3.7936,12.230400000000001,0.5650000000000001,0.2296,25.663800000000002,2.313,0.5986,3.7426000000000004,10.630600000000001,3.6996,2.3464,1.8266,1.1956,0.8094,0.7200000000000001,0.668,0.14400000000000002,41.878800000000005,34.9012,27.849400000000003,2.6604,0.9262,0.4232,39.726600000000005,14.4794,7.339600000000001,6.4284,3.1828000000000003,2.3826,1.2502,0.9878,0.3524,0.48360000000000003,0.5812,2.2246,0.1218,0.8336,0.7662,0.1636,5.6374,46.918,9.284,5.1788,4.7102,3.66,3.5894000000000004,2.8480000000000003,2.0798,1.7608000000000001,0.9580000000000001,0.727,0.6566000000000001,0.6158,0.6028,0.4878,0.2872,0.024800000000000003,13.306000000000001,0.48700000000000004,65.9854,41.0422,36.5242,3.696,3.0464,1.6132,7.821400000000001,0.26580000000000004,1.5226000000000002,2.1944,4.8994,2.7056,2.6772,1.1258000000000001,0.3956,0.2772,5.1930000000000005,42.7992,30.5648,20.696,14.523800000000001,12.410400000000001,10.6324,6.239,5.747800000000001,4.412,3.9758,3.7818,3.6218000000000004,3.607,3.0300000000000002,2.7546,2.7326,2.4592,0.8086,0.7214,0.137,28.7436,28.3902,9.6492,4.930000000000001,4.0396,3.947,2.8474,0.1608,2.548,2.1412,56.1418,23.0866,10.5648,9.6982,8.7294,6.094200000000001,3.3202000000000003,2.0300000000000002,1.9832,1.8308,3.4250000000000003,6.7198,10.9628,6.836200000000001,38.9346,34.1724,25.0148,14.273800000000001,7.7522,2.584,1.4832,1.2966,78.747,12.1266,5.6426,4.206,14.888,11.600200000000001,10.7104,4.3146,3.25,2.8886000000000003,1.9256000000000002,1.8748,1.3304,6.0414,3.3954,2.1020000000000003,0.29760000000000003,7.768800000000001,7.6558,7.5178,2.2408,8.6498,3.7906,1.6818000000000002,0.5708,0.5676,0.9252,0.21960000000000002],\"symbol\":\"circle\"},\"mode\":\"markers\",\"name\":\"Law & Public Policy\",\"text\":[\"COURT REPORTING\",\"PUBLIC POLICY\",\"PRE-LAW AND LEGAL STUDIES\",\"PUBLIC ADMINISTRATION\",\"CRIMINAL JUSTICE AND FIRE PROTECTION\"],\"textfont\":{\"color\":\"#4D5663\"},\"x\":[0.011689692,0.128426299,0.071965016,0.1594906,0.082452199],\"y\":[808,2776,5370,2952,88548],\"type\":\"scatter\"},{\"marker\":{\"color\":\"rgba(219, 64, 82, 1.0)\",\"line\":{\"width\":1.3},\"opacity\":0.8,\"size\":[0.46780000000000005,0.1512,0.17120000000000002,0.2516,6.452,0.5146000000000001,0.7554000000000001,0.3584,18.2454,16.305400000000002,8.3084,3.0116,2.991,0.8558,0.8642000000000001,1.7850000000000001,3.7936,12.230400000000001,0.5650000000000001,0.2296,25.663800000000002,2.313,0.5986,3.7426000000000004,10.630600000000001,3.6996,2.3464,1.8266,1.1956,0.8094,0.7200000000000001,0.668,0.14400000000000002,41.878800000000005,34.9012,27.849400000000003,2.6604,0.9262,0.4232,39.726600000000005,14.4794,7.339600000000001,6.4284,3.1828000000000003,2.3826,1.2502,0.9878,0.3524,0.48360000000000003,0.5812,2.2246,0.1218,0.8336,0.7662,0.1636,5.6374,46.918,9.284,5.1788,4.7102,3.66,3.5894000000000004,2.8480000000000003,2.0798,1.7608000000000001,0.9580000000000001,0.727,0.6566000000000001,0.6158,0.6028,0.4878,0.2872,0.024800000000000003,13.306000000000001,0.48700000000000004,65.9854,41.0422,36.5242,3.696,3.0464,1.6132,7.821400000000001,0.26580000000000004,1.5226000000000002,2.1944,4.8994,2.7056,2.6772,1.1258000000000001,0.3956,0.2772,5.1930000000000005,42.7992,30.5648,20.696,14.523800000000001,12.410400000000001,10.6324,6.239,5.747800000000001,4.412,3.9758,3.7818,3.6218000000000004,3.607,3.0300000000000002,2.7546,2.7326,2.4592,0.8086,0.7214,0.137,28.7436,28.3902,9.6492,4.930000000000001,4.0396,3.947,2.8474,0.1608,2.548,2.1412,56.1418,23.0866,10.5648,9.6982,8.7294,6.094200000000001,3.3202000000000003,2.0300000000000002,1.9832,1.8308,3.4250000000000003,6.7198,10.9628,6.836200000000001,38.9346,34.1724,25.0148,14.273800000000001,7.7522,2.584,1.4832,1.2966,78.747,12.1266,5.6426,4.206,14.888,11.600200000000001,10.7104,4.3146,3.25,2.8886000000000003,1.9256000000000002,1.8748,1.3304,6.0414,3.3954,2.1020000000000003,0.29760000000000003,7.768800000000001,7.6558,7.5178,2.2408,8.6498,3.7906,1.6818000000000002,0.5708,0.5676,0.9252,0.21960000000000002],\"symbol\":\"circle\"},\"mode\":\"markers\",\"name\":\"Computers & Mathematics\",\"text\":[\"COMPUTER SCIENCE\",\"MATHEMATICS\",\"COMPUTER AND INFORMATION SYSTEMS\",\"INFORMATION SCIENCES\",\"STATISTICS AND DECISION SCIENCE\",\"APPLIED MATHEMATICS\",\"MATHEMATICS AND COMPUTER SCIENCE\",\"COMPUTER PROGRAMMING AND DATA PROCESSING\",\"COMPUTER ADMINISTRATION MANAGEMENT AND SECURITY\",\"COMPUTER NETWORKING AND TELECOMMUNICATIONS\",\"COMMUNICATION TECHNOLOGIES\"],\"textfont\":{\"color\":\"#4D5663\"},\"x\":[0.063172771,0.047277138,0.093460326,0.060741445,0.086273666,0.090823307,0.0,0.11398259,0.099723375,0.151849807,0.119511469],\"y\":[70932,33738,21130,7378,2151,2593,391,2453,4936,4369,9085],\"type\":\"scatter\"},{\"marker\":{\"color\":\"rgba(0, 128, 128, 1.0)\",\"line\":{\"width\":1.3},\"opacity\":0.8,\"size\":[0.46780000000000005,0.1512,0.17120000000000002,0.2516,6.452,0.5146000000000001,0.7554000000000001,0.3584,18.2454,16.305400000000002,8.3084,3.0116,2.991,0.8558,0.8642000000000001,1.7850000000000001,3.7936,12.230400000000001,0.5650000000000001,0.2296,25.663800000000002,2.313,0.5986,3.7426000000000004,10.630600000000001,3.6996,2.3464,1.8266,1.1956,0.8094,0.7200000000000001,0.668,0.14400000000000002,41.878800000000005,34.9012,27.849400000000003,2.6604,0.9262,0.4232,39.726600000000005,14.4794,7.339600000000001,6.4284,3.1828000000000003,2.3826,1.2502,0.9878,0.3524,0.48360000000000003,0.5812,2.2246,0.1218,0.8336,0.7662,0.1636,5.6374,46.918,9.284,5.1788,4.7102,3.66,3.5894000000000004,2.8480000000000003,2.0798,1.7608000000000001,0.9580000000000001,0.727,0.6566000000000001,0.6158,0.6028,0.4878,0.2872,0.024800000000000003,13.306000000000001,0.48700000000000004,65.9854,41.0422,36.5242,3.696,3.0464,1.6132,7.821400000000001,0.26580000000000004,1.5226000000000002,2.1944,4.8994,2.7056,2.6772,1.1258000000000001,0.3956,0.2772,5.1930000000000005,42.7992,30.5648,20.696,14.523800000000001,12.410400000000001,10.6324,6.239,5.747800000000001,4.412,3.9758,3.7818,3.6218000000000004,3.607,3.0300000000000002,2.7546,2.7326,2.4592,0.8086,0.7214,0.137,28.7436,28.3902,9.6492,4.930000000000001,4.0396,3.947,2.8474,0.1608,2.548,2.1412,56.1418,23.0866,10.5648,9.6982,8.7294,6.094200000000001,3.3202000000000003,2.0300000000000002,1.9832,1.8308,3.4250000000000003,6.7198,10.9628,6.836200000000001,38.9346,34.1724,25.0148,14.273800000000001,7.7522,2.584,1.4832,1.2966,78.747,12.1266,5.6426,4.206,14.888,11.600200000000001,10.7104,4.3146,3.25,2.8886000000000003,1.9256000000000002,1.8748,1.3304,6.0414,3.3954,2.1020000000000003,0.29760000000000003,7.768800000000001,7.6558,7.5178,2.2408,8.6498,3.7906,1.6818000000000002,0.5708,0.5676,0.9252,0.21960000000000002],\"symbol\":\"circle\"},\"mode\":\"markers\",\"name\":\"Industrial Arts & Consumer Services\",\"text\":[\"CONSTRUCTION SERVICES\",\"MILITARY TECHNOLOGIES\",\"ELECTRICAL, MECHANICAL, AND PRECISION TECHNOLOGIES AND PRODUCTION\",\"TRANSPORTATION SCIENCES AND TECHNOLOGIES\",\"PHYSICAL FITNESS PARKS RECREATION AND LEISURE\",\"FAMILY AND CONSUMER SCIENCES\",\"COSMETOLOGY SERVICES AND CULINARY ARTS\"],\"textfont\":{\"color\":\"#4D5663\"},\"x\":[0.060023041,0.0,0.029479503,0.072724524,0.051467273,0.067128194,0.055676856],\"y\":[12313,111,1752,9170,57978,26906,5949],\"type\":\"scatter\"},{\"marker\":{\"color\":\"rgba(255, 255, 51, 1.0)\",\"line\":{\"width\":1.3},\"opacity\":0.8,\"size\":[0.46780000000000005,0.1512,0.17120000000000002,0.2516,6.452,0.5146000000000001,0.7554000000000001,0.3584,18.2454,16.305400000000002,8.3084,3.0116,2.991,0.8558,0.8642000000000001,1.7850000000000001,3.7936,12.230400000000001,0.5650000000000001,0.2296,25.663800000000002,2.313,0.5986,3.7426000000000004,10.630600000000001,3.6996,2.3464,1.8266,1.1956,0.8094,0.7200000000000001,0.668,0.14400000000000002,41.878800000000005,34.9012,27.849400000000003,2.6604,0.9262,0.4232,39.726600000000005,14.4794,7.339600000000001,6.4284,3.1828000000000003,2.3826,1.2502,0.9878,0.3524,0.48360000000000003,0.5812,2.2246,0.1218,0.8336,0.7662,0.1636,5.6374,46.918,9.284,5.1788,4.7102,3.66,3.5894000000000004,2.8480000000000003,2.0798,1.7608000000000001,0.9580000000000001,0.727,0.6566000000000001,0.6158,0.6028,0.4878,0.2872,0.024800000000000003,13.306000000000001,0.48700000000000004,65.9854,41.0422,36.5242,3.696,3.0464,1.6132,7.821400000000001,0.26580000000000004,1.5226000000000002,2.1944,4.8994,2.7056,2.6772,1.1258000000000001,0.3956,0.2772,5.1930000000000005,42.7992,30.5648,20.696,14.523800000000001,12.410400000000001,10.6324,6.239,5.747800000000001,4.412,3.9758,3.7818,3.6218000000000004,3.607,3.0300000000000002,2.7546,2.7326,2.4592,0.8086,0.7214,0.137,28.7436,28.3902,9.6492,4.930000000000001,4.0396,3.947,2.8474,0.1608,2.548,2.1412,56.1418,23.0866,10.5648,9.6982,8.7294,6.094200000000001,3.3202000000000003,2.0300000000000002,1.9832,1.8308,3.4250000000000003,6.7198,10.9628,6.836200000000001,38.9346,34.1724,25.0148,14.273800000000001,7.7522,2.584,1.4832,1.2966,78.747,12.1266,5.6426,4.206,14.888,11.600200000000001,10.7104,4.3146,3.25,2.8886000000000003,1.9256000000000002,1.8748,1.3304,6.0414,3.3954,2.1020000000000003,0.29760000000000003,7.768800000000001,7.6558,7.5178,2.2408,8.6498,3.7906,1.6818000000000002,0.5708,0.5676,0.9252,0.21960000000000002],\"symbol\":\"circle\"},\"mode\":\"markers\",\"name\":\"Arts\",\"text\":[\"MISCELLANEOUS FINE ARTS\",\"COMMERCIAL ART AND GRAPHIC DESIGN\",\"FILM VIDEO AND PHOTOGRAPHIC ARTS\",\"MUSIC\",\"FINE ARTS\",\"VISUAL AND PERFORMING ARTS\",\"STUDIO ARTS\",\"DRAMA AND THEATER ARTS\"],\"textfont\":{\"color\":\"#4D5663\"},\"x\":[0.089375,0.096797577,0.10577224,0.075959674,0.084186296,0.102197419,0.089552239,0.07754113],\"y\":[1200,52243,15740,21425,31877,6322,7413,16891],\"type\":\"scatter\"},{\"marker\":{\"color\":\"rgba(128, 128, 0, 1.0)\",\"line\":{\"width\":1.3},\"opacity\":0.8,\"size\":[0.46780000000000005,0.1512,0.17120000000000002,0.2516,6.452,0.5146000000000001,0.7554000000000001,0.3584,18.2454,16.305400000000002,8.3084,3.0116,2.991,0.8558,0.8642000000000001,1.7850000000000001,3.7936,12.230400000000001,0.5650000000000001,0.2296,25.663800000000002,2.313,0.5986,3.7426000000000004,10.630600000000001,3.6996,2.3464,1.8266,1.1956,0.8094,0.7200000000000001,0.668,0.14400000000000002,41.878800000000005,34.9012,27.849400000000003,2.6604,0.9262,0.4232,39.726600000000005,14.4794,7.339600000000001,6.4284,3.1828000000000003,2.3826,1.2502,0.9878,0.3524,0.48360000000000003,0.5812,2.2246,0.1218,0.8336,0.7662,0.1636,5.6374,46.918,9.284,5.1788,4.7102,3.66,3.5894000000000004,2.8480000000000003,2.0798,1.7608000000000001,0.9580000000000001,0.727,0.6566000000000001,0.6158,0.6028,0.4878,0.2872,0.024800000000000003,13.306000000000001,0.48700000000000004,65.9854,41.0422,36.5242,3.696,3.0464,1.6132,7.821400000000001,0.26580000000000004,1.5226000000000002,2.1944,4.8994,2.7056,2.6772,1.1258000000000001,0.3956,0.2772,5.1930000000000005,42.7992,30.5648,20.696,14.523800000000001,12.410400000000001,10.6324,6.239,5.747800000000001,4.412,3.9758,3.7818,3.6218000000000004,3.607,3.0300000000000002,2.7546,2.7326,2.4592,0.8086,0.7214,0.137,28.7436,28.3902,9.6492,4.930000000000001,4.0396,3.947,2.8474,0.1608,2.548,2.1412,56.1418,23.0866,10.5648,9.6982,8.7294,6.094200000000001,3.3202000000000003,2.0300000000000002,1.9832,1.8308,3.4250000000000003,6.7198,10.9628,6.836200000000001,38.9346,34.1724,25.0148,14.273800000000001,7.7522,2.584,1.4832,1.2966,78.747,12.1266,5.6426,4.206,14.888,11.600200000000001,10.7104,4.3146,3.25,2.8886000000000003,1.9256000000000002,1.8748,1.3304,6.0414,3.3954,2.1020000000000003,0.29760000000000003,7.768800000000001,7.6558,7.5178,2.2408,8.6498,3.7906,1.6818000000000002,0.5708,0.5676,0.9252,0.21960000000000002],\"symbol\":\"circle\"},\"mode\":\"markers\",\"name\":\"Health\",\"text\":[\"NURSING\",\"MEDICAL TECHNOLOGIES TECHNICIANS\",\"MEDICAL ASSISTING SERVICES\",\"PHARMACY PHARMACEUTICAL SCIENCES AND ADMINISTRATION\",\"MISCELLANEOUS HEALTH MEDICAL PROFESSIONS\",\"NUTRITION SCIENCES\",\"HEALTH AND MEDICAL ADMINISTRATIVE SERVICES\",\"COMMUNITY AND PUBLIC HEALTH\",\"HEALTH AND MEDICAL PREPARATORY PROGRAMS\",\"TREATMENT THERAPY PROFESSIONS\",\"GENERAL MEDICAL AND HEALTH SERVICES\",\"COMMUNICATION DISORDERS SCIENCES AND SERVICES\"],\"textfont\":{\"color\":\"#4D5663\"},\"x\":[0.044862724,0.03698279,0.042506527,0.055520827,0.08141125,0.068700676,0.089626262,0.112144387,0.069779712,0.059821207,0.082101621,0.047584],\"y\":[122817,9005,4290,9131,5868,6625,10982,7460,3236,21735,12809,14460],\"type\":\"scatter\"},{\"marker\":{\"color\":\"rgba(251, 128, 114, 1.0)\",\"line\":{\"width\":1.3},\"opacity\":0.8,\"size\":[0.46780000000000005,0.1512,0.17120000000000002,0.2516,6.452,0.5146000000000001,0.7554000000000001,0.3584,18.2454,16.305400000000002,8.3084,3.0116,2.991,0.8558,0.8642000000000001,1.7850000000000001,3.7936,12.230400000000001,0.5650000000000001,0.2296,25.663800000000002,2.313,0.5986,3.7426000000000004,10.630600000000001,3.6996,2.3464,1.8266,1.1956,0.8094,0.7200000000000001,0.668,0.14400000000000002,41.878800000000005,34.9012,27.849400000000003,2.6604,0.9262,0.4232,39.726600000000005,14.4794,7.339600000000001,6.4284,3.1828000000000003,2.3826,1.2502,0.9878,0.3524,0.48360000000000003,0.5812,2.2246,0.1218,0.8336,0.7662,0.1636,5.6374,46.918,9.284,5.1788,4.7102,3.66,3.5894000000000004,2.8480000000000003,2.0798,1.7608000000000001,0.9580000000000001,0.727,0.6566000000000001,0.6158,0.6028,0.4878,0.2872,0.024800000000000003,13.306000000000001,0.48700000000000004,65.9854,41.0422,36.5242,3.696,3.0464,1.6132,7.821400000000001,0.26580000000000004,1.5226000000000002,2.1944,4.8994,2.7056,2.6772,1.1258000000000001,0.3956,0.2772,5.1930000000000005,42.7992,30.5648,20.696,14.523800000000001,12.410400000000001,10.6324,6.239,5.747800000000001,4.412,3.9758,3.7818,3.6218000000000004,3.607,3.0300000000000002,2.7546,2.7326,2.4592,0.8086,0.7214,0.137,28.7436,28.3902,9.6492,4.930000000000001,4.0396,3.947,2.8474,0.1608,2.548,2.1412,56.1418,23.0866,10.5648,9.6982,8.7294,6.094200000000001,3.3202000000000003,2.0300000000000002,1.9832,1.8308,3.4250000000000003,6.7198,10.9628,6.836200000000001,38.9346,34.1724,25.0148,14.273800000000001,7.7522,2.584,1.4832,1.2966,78.747,12.1266,5.6426,4.206,14.888,11.600200000000001,10.7104,4.3146,3.25,2.8886000000000003,1.9256000000000002,1.8748,1.3304,6.0414,3.3954,2.1020000000000003,0.29760000000000003,7.768800000000001,7.6558,7.5178,2.2408,8.6498,3.7906,1.6818000000000002,0.5708,0.5676,0.9252,0.21960000000000002],\"symbol\":\"circle\"},\"mode\":\"markers\",\"name\":\"Social Science\",\"text\":[\"ECONOMICS\",\"INTERNATIONAL RELATIONS\",\"MISCELLANEOUS SOCIAL SCIENCES\",\"POLITICAL SCIENCE AND GOVERNMENT\",\"GEOGRAPHY\",\"CRIMINOLOGY\",\"SOCIOLOGY\",\"INTERDISCIPLINARY SOCIAL SCIENCES\",\"GENERAL SOCIAL SCIENCES\"],\"textfont\":{\"color\":\"#4D5663\"},\"x\":[0.099092317,0.096798943,0.073079538,0.101174601,0.113458628,0.097243919,0.084951001,0.092305816,0.103454715],\"y\":[70740,13583,1530,83236,8628,10548,56561,4714,5679],\"type\":\"scatter\"},{\"marker\":{\"color\":\"rgba(128, 177, 211, 1.0)\",\"line\":{\"width\":1.3},\"opacity\":0.8,\"size\":[0.46780000000000005,0.1512,0.17120000000000002,0.2516,6.452,0.5146000000000001,0.7554000000000001,0.3584,18.2454,16.305400000000002,8.3084,3.0116,2.991,0.8558,0.8642000000000001,1.7850000000000001,3.7936,12.230400000000001,0.5650000000000001,0.2296,25.663800000000002,2.313,0.5986,3.7426000000000004,10.630600000000001,3.6996,2.3464,1.8266,1.1956,0.8094,0.7200000000000001,0.668,0.14400000000000002,41.878800000000005,34.9012,27.849400000000003,2.6604,0.9262,0.4232,39.726600000000005,14.4794,7.339600000000001,6.4284,3.1828000000000003,2.3826,1.2502,0.9878,0.3524,0.48360000000000003,0.5812,2.2246,0.1218,0.8336,0.7662,0.1636,5.6374,46.918,9.284,5.1788,4.7102,3.66,3.5894000000000004,2.8480000000000003,2.0798,1.7608000000000001,0.9580000000000001,0.727,0.6566000000000001,0.6158,0.6028,0.4878,0.2872,0.024800000000000003,13.306000000000001,0.48700000000000004,65.9854,41.0422,36.5242,3.696,3.0464,1.6132,7.821400000000001,0.26580000000000004,1.5226000000000002,2.1944,4.8994,2.7056,2.6772,1.1258000000000001,0.3956,0.2772,5.1930000000000005,42.7992,30.5648,20.696,14.523800000000001,12.410400000000001,10.6324,6.239,5.747800000000001,4.412,3.9758,3.7818,3.6218000000000004,3.607,3.0300000000000002,2.7546,2.7326,2.4592,0.8086,0.7214,0.137,28.7436,28.3902,9.6492,4.930000000000001,4.0396,3.947,2.8474,0.1608,2.548,2.1412,56.1418,23.0866,10.5648,9.6982,8.7294,6.094200000000001,3.3202000000000003,2.0300000000000002,1.9832,1.8308,3.4250000000000003,6.7198,10.9628,6.836200000000001,38.9346,34.1724,25.0148,14.273800000000001,7.7522,2.584,1.4832,1.2966,78.747,12.1266,5.6426,4.206,14.888,11.600200000000001,10.7104,4.3146,3.25,2.8886000000000003,1.9256000000000002,1.8748,1.3304,6.0414,3.3954,2.1020000000000003,0.29760000000000003,7.768800000000001,7.6558,7.5178,2.2408,8.6498,3.7906,1.6818000000000002,0.5708,0.5676,0.9252,0.21960000000000002],\"symbol\":\"circle\"},\"mode\":\"markers\",\"name\":\"Biology & Life Science\",\"text\":[\"PHARMACOLOGY\",\"COGNITIVE SCIENCE AND BIOPSYCHOLOGY\",\"MOLECULAR BIOLOGY\",\"GENETICS\",\"MICROBIOLOGY\",\"BIOCHEMICAL SCIENCES\",\"BOTANY\",\"ENVIRONMENTAL SCIENCE\",\"PHYSIOLOGY\",\"NEUROSCIENCE\",\"MISCELLANEOUS BIOLOGY\",\"BIOLOGY\",\"ECOLOGY\",\"ZOOLOGY\"],\"textfont\":{\"color\":\"#4D5663\"},\"x\":[0.085531575,0.075236167,0.084361164,0.034117647,0.066775872,0.080531385,0.0,0.078584681,0.0691628,0.048481675,0.058545455,0.070724732,0.054475193,0.04632028],\"y\":[565,1584,6183,1487,5080,13785,740,10916,7588,5482,4542,100336,3912,3602],\"type\":\"scatter\"},{\"marker\":{\"color\":\"rgba(128, 177, 211, 0.8999999999999999)\",\"line\":{\"width\":1.3},\"opacity\":0.8,\"size\":[0.46780000000000005,0.1512,0.17120000000000002,0.2516,6.452,0.5146000000000001,0.7554000000000001,0.3584,18.2454,16.305400000000002,8.3084,3.0116,2.991,0.8558,0.8642000000000001,1.7850000000000001,3.7936,12.230400000000001,0.5650000000000001,0.2296,25.663800000000002,2.313,0.5986,3.7426000000000004,10.630600000000001,3.6996,2.3464,1.8266,1.1956,0.8094,0.7200000000000001,0.668,0.14400000000000002,41.878800000000005,34.9012,27.849400000000003,2.6604,0.9262,0.4232,39.726600000000005,14.4794,7.339600000000001,6.4284,3.1828000000000003,2.3826,1.2502,0.9878,0.3524,0.48360000000000003,0.5812,2.2246,0.1218,0.8336,0.7662,0.1636,5.6374,46.918,9.284,5.1788,4.7102,3.66,3.5894000000000004,2.8480000000000003,2.0798,1.7608000000000001,0.9580000000000001,0.727,0.6566000000000001,0.6158,0.6028,0.4878,0.2872,0.024800000000000003,13.306000000000001,0.48700000000000004,65.9854,41.0422,36.5242,3.696,3.0464,1.6132,7.821400000000001,0.26580000000000004,1.5226000000000002,2.1944,4.8994,2.7056,2.6772,1.1258000000000001,0.3956,0.2772,5.1930000000000005,42.7992,30.5648,20.696,14.523800000000001,12.410400000000001,10.6324,6.239,5.747800000000001,4.412,3.9758,3.7818,3.6218000000000004,3.607,3.0300000000000002,2.7546,2.7326,2.4592,0.8086,0.7214,0.137,28.7436,28.3902,9.6492,4.930000000000001,4.0396,3.947,2.8474,0.1608,2.548,2.1412,56.1418,23.0866,10.5648,9.6982,8.7294,6.094200000000001,3.3202000000000003,2.0300000000000002,1.9832,1.8308,3.4250000000000003,6.7198,10.9628,6.836200000000001,38.9346,34.1724,25.0148,14.273800000000001,7.7522,2.584,1.4832,1.2966,78.747,12.1266,5.6426,4.206,14.888,11.600200000000001,10.7104,4.3146,3.25,2.8886000000000003,1.9256000000000002,1.8748,1.3304,6.0414,3.3954,2.1020000000000003,0.29760000000000003,7.768800000000001,7.6558,7.5178,2.2408,8.6498,3.7906,1.6818000000000002,0.5708,0.5676,0.9252,0.21960000000000002],\"symbol\":\"circle\"},\"mode\":\"markers\",\"name\":\"Education\",\"text\":[\"SCHOOL STUDENT COUNSELING\",\"SPECIAL NEEDS EDUCATION\",\"GENERAL EDUCATION\",\"SOCIAL SCIENCE OR HISTORY TEACHER EDUCATION\",\"MATHEMATICS TEACHER EDUCATION\",\"EDUCATIONAL ADMINISTRATION AND SUPERVISION\",\"LANGUAGE AND DRAMA EDUCATION\",\"MISCELLANEOUS EDUCATION\",\"SECONDARY TEACHER EDUCATION\",\"ART AND MUSIC EDUCATION\",\"ELEMENTARY EDUCATION\",\"SCIENCE AND COMPUTER TEACHER EDUCATION\",\"PHYSICAL AND HEALTH EDUCATION TEACHING\",\"TEACHER EDUCATION: MULTIPLE LEVELS\",\"EARLY CHILDHOOD EDUCATION\",\"LIBRARY SCIENCE\"],\"textfont\":{\"color\":\"#4D5663\"},\"x\":[0.107579462,0.041507819,0.057359929,0.054082941,0.016202835,0.0,0.050306435,0.059211951,0.05222898,0.038637747,0.046585715,0.047263682,0.074667496,0.03654583,0.040104981,0.104945718],\"y\":[545,16642,73531,8871,8073,504,15266,5816,9193,16537,86540,3247,13651,8457,20748,410],\"type\":\"scatter\"},{\"marker\":{\"color\":\"rgba(255, 153, 51, 0.8999999999999999)\",\"line\":{\"width\":1.3},\"opacity\":0.8,\"size\":[0.46780000000000005,0.1512,0.17120000000000002,0.2516,6.452,0.5146000000000001,0.7554000000000001,0.3584,18.2454,16.305400000000002,8.3084,3.0116,2.991,0.8558,0.8642000000000001,1.7850000000000001,3.7936,12.230400000000001,0.5650000000000001,0.2296,25.663800000000002,2.313,0.5986,3.7426000000000004,10.630600000000001,3.6996,2.3464,1.8266,1.1956,0.8094,0.7200000000000001,0.668,0.14400000000000002,41.878800000000005,34.9012,27.849400000000003,2.6604,0.9262,0.4232,39.726600000000005,14.4794,7.339600000000001,6.4284,3.1828000000000003,2.3826,1.2502,0.9878,0.3524,0.48360000000000003,0.5812,2.2246,0.1218,0.8336,0.7662,0.1636,5.6374,46.918,9.284,5.1788,4.7102,3.66,3.5894000000000004,2.8480000000000003,2.0798,1.7608000000000001,0.9580000000000001,0.727,0.6566000000000001,0.6158,0.6028,0.4878,0.2872,0.024800000000000003,13.306000000000001,0.48700000000000004,65.9854,41.0422,36.5242,3.696,3.0464,1.6132,7.821400000000001,0.26580000000000004,1.5226000000000002,2.1944,4.8994,2.7056,2.6772,1.1258000000000001,0.3956,0.2772,5.1930000000000005,42.7992,30.5648,20.696,14.523800000000001,12.410400000000001,10.6324,6.239,5.747800000000001,4.412,3.9758,3.7818,3.6218000000000004,3.607,3.0300000000000002,2.7546,2.7326,2.4592,0.8086,0.7214,0.137,28.7436,28.3902,9.6492,4.930000000000001,4.0396,3.947,2.8474,0.1608,2.548,2.1412,56.1418,23.0866,10.5648,9.6982,8.7294,6.094200000000001,3.3202000000000003,2.0300000000000002,1.9832,1.8308,3.4250000000000003,6.7198,10.9628,6.836200000000001,38.9346,34.1724,25.0148,14.273800000000001,7.7522,2.584,1.4832,1.2966,78.747,12.1266,5.6426,4.206,14.888,11.600200000000001,10.7104,4.3146,3.25,2.8886000000000003,1.9256000000000002,1.8748,1.3304,6.0414,3.3954,2.1020000000000003,0.29760000000000003,7.768800000000001,7.6558,7.5178,2.2408,8.6498,3.7906,1.6818000000000002,0.5708,0.5676,0.9252,0.21960000000000002],\"symbol\":\"circle\"},\"mode\":\"markers\",\"name\":\"Agriculture & Natural Resources\",\"text\":[\"AGRICULTURE PRODUCTION AND MANAGEMENT\",\"GENERAL AGRICULTURE\",\"AGRICULTURAL ECONOMICS\",\"NATURAL RESOURCES MANAGEMENT\",\"FORESTRY\",\"SOIL SCIENCE\",\"PLANT SCIENCE AND AGRONOMY\",\"ANIMAL SCIENCES\",\"MISCELLANEOUS AGRICULTURE\"],\"textfont\":{\"color\":\"#4D5663\"},\"x\":[0.050030836,0.019642463,0.077249576,0.066619195,0.096725743,0.0,0.045454545,0.050862499,0.059766764],\"y\":[9093,5888,1528,6954,1763,383,4522,10824,936],\"type\":\"scatter\"},{\"marker\":{\"color\":\"rgba(55, 128, 191, 0.8999999999999999)\",\"line\":{\"width\":1.3},\"opacity\":0.8,\"size\":[0.46780000000000005,0.1512,0.17120000000000002,0.2516,6.452,0.5146000000000001,0.7554000000000001,0.3584,18.2454,16.305400000000002,8.3084,3.0116,2.991,0.8558,0.8642000000000001,1.7850000000000001,3.7936,12.230400000000001,0.5650000000000001,0.2296,25.663800000000002,2.313,0.5986,3.7426000000000004,10.630600000000001,3.6996,2.3464,1.8266,1.1956,0.8094,0.7200000000000001,0.668,0.14400000000000002,41.878800000000005,34.9012,27.849400000000003,2.6604,0.9262,0.4232,39.726600000000005,14.4794,7.339600000000001,6.4284,3.1828000000000003,2.3826,1.2502,0.9878,0.3524,0.48360000000000003,0.5812,2.2246,0.1218,0.8336,0.7662,0.1636,5.6374,46.918,9.284,5.1788,4.7102,3.66,3.5894000000000004,2.8480000000000003,2.0798,1.7608000000000001,0.9580000000000001,0.727,0.6566000000000001,0.6158,0.6028,0.4878,0.2872,0.024800000000000003,13.306000000000001,0.48700000000000004,65.9854,41.0422,36.5242,3.696,3.0464,1.6132,7.821400000000001,0.26580000000000004,1.5226000000000002,2.1944,4.8994,2.7056,2.6772,1.1258000000000001,0.3956,0.2772,5.1930000000000005,42.7992,30.5648,20.696,14.523800000000001,12.410400000000001,10.6324,6.239,5.747800000000001,4.412,3.9758,3.7818,3.6218000000000004,3.607,3.0300000000000002,2.7546,2.7326,2.4592,0.8086,0.7214,0.137,28.7436,28.3902,9.6492,4.930000000000001,4.0396,3.947,2.8474,0.1608,2.548,2.1412,56.1418,23.0866,10.5648,9.6982,8.7294,6.094200000000001,3.3202000000000003,2.0300000000000002,1.9832,1.8308,3.4250000000000003,6.7198,10.9628,6.836200000000001,38.9346,34.1724,25.0148,14.273800000000001,7.7522,2.584,1.4832,1.2966,78.747,12.1266,5.6426,4.206,14.888,11.600200000000001,10.7104,4.3146,3.25,2.8886000000000003,1.9256000000000002,1.8748,1.3304,6.0414,3.3954,2.1020000000000003,0.29760000000000003,7.768800000000001,7.6558,7.5178,2.2408,8.6498,3.7906,1.6818000000000002,0.5708,0.5676,0.9252,0.21960000000000002],\"symbol\":\"circle\"},\"mode\":\"markers\",\"name\":\"Humanities & Liberal Arts\",\"text\":[\"UNITED STATES HISTORY\",\"AREA ETHNIC AND CIVILIZATION STUDIES\",\"HISTORY\",\"FRENCH GERMAN LATIN AND OTHER COMMON FOREIGN LANGUAGE STUDIES\",\"INTERCULTURAL AND INTERNATIONAL STUDIES\",\"LINGUISTICS AND COMPARATIVE LANGUAGE AND LITERATURE\",\"PHILOSOPHY AND RELIGIOUS STUDIES\",\"ENGLISH LANGUAGE AND LITERATURE\",\"LIBERAL ARTS\",\"ART HISTORY AND CRITICISM\",\"HUMANITIES\",\"THEOLOGY AND RELIGIOUS VOCATIONS\",\"ANTHROPOLOGY AND ARCHEOLOGY\",\"OTHER FOREIGN LANGUAGES\",\"COMPOSITION AND RHETORIC\"],\"textfont\":{\"color\":\"#4D5663\"},\"x\":[0.047179487,0.063429289,0.095666912,0.075566386,0.083633531,0.10443571,0.096051684,0.08772359,0.078267592,0.060298284,0.068584071,0.062628297,0.102791571,0.107115726,0.081742207],\"y\":[1274,13109,59218,20056,8801,5821,21816,81180,33438,9965,2661,13944,13232,3214,7832],\"type\":\"scatter\"},{\"marker\":{\"color\":\"rgba(50, 171, 96, 0.8999999999999999)\",\"line\":{\"width\":1.3},\"opacity\":0.8,\"size\":[0.46780000000000005,0.1512,0.17120000000000002,0.2516,6.452,0.5146000000000001,0.7554000000000001,0.3584,18.2454,16.305400000000002,8.3084,3.0116,2.991,0.8558,0.8642000000000001,1.7850000000000001,3.7936,12.230400000000001,0.5650000000000001,0.2296,25.663800000000002,2.313,0.5986,3.7426000000000004,10.630600000000001,3.6996,2.3464,1.8266,1.1956,0.8094,0.7200000000000001,0.668,0.14400000000000002,41.878800000000005,34.9012,27.849400000000003,2.6604,0.9262,0.4232,39.726600000000005,14.4794,7.339600000000001,6.4284,3.1828000000000003,2.3826,1.2502,0.9878,0.3524,0.48360000000000003,0.5812,2.2246,0.1218,0.8336,0.7662,0.1636,5.6374,46.918,9.284,5.1788,4.7102,3.66,3.5894000000000004,2.8480000000000003,2.0798,1.7608000000000001,0.9580000000000001,0.727,0.6566000000000001,0.6158,0.6028,0.4878,0.2872,0.024800000000000003,13.306000000000001,0.48700000000000004,65.9854,41.0422,36.5242,3.696,3.0464,1.6132,7.821400000000001,0.26580000000000004,1.5226000000000002,2.1944,4.8994,2.7056,2.6772,1.1258000000000001,0.3956,0.2772,5.1930000000000005,42.7992,30.5648,20.696,14.523800000000001,12.410400000000001,10.6324,6.239,5.747800000000001,4.412,3.9758,3.7818,3.6218000000000004,3.607,3.0300000000000002,2.7546,2.7326,2.4592,0.8086,0.7214,0.137,28.7436,28.3902,9.6492,4.930000000000001,4.0396,3.947,2.8474,0.1608,2.548,2.1412,56.1418,23.0866,10.5648,9.6982,8.7294,6.094200000000001,3.3202000000000003,2.0300000000000002,1.9832,1.8308,3.4250000000000003,6.7198,10.9628,6.836200000000001,38.9346,34.1724,25.0148,14.273800000000001,7.7522,2.584,1.4832,1.2966,78.747,12.1266,5.6426,4.206,14.888,11.600200000000001,10.7104,4.3146,3.25,2.8886000000000003,1.9256000000000002,1.8748,1.3304,6.0414,3.3954,2.1020000000000003,0.29760000000000003,7.768800000000001,7.6558,7.5178,2.2408,8.6498,3.7906,1.6818000000000002,0.5708,0.5676,0.9252,0.21960000000000002],\"symbol\":\"circle\"},\"mode\":\"markers\",\"name\":\"Psychology & Social Work\",\"text\":[\"INDUSTRIAL AND ORGANIZATIONAL PSYCHOLOGY\",\"SOCIAL PSYCHOLOGY\",\"PSYCHOLOGY\",\"SOCIAL WORK\",\"MISCELLANEOUS PSYCHOLOGY\",\"HUMAN SERVICES AND COMMUNITY ORGANIZATION\",\"EDUCATIONAL PSYCHOLOGY\",\"CLINICAL PSYCHOLOGY\",\"COUNSELING PSYCHOLOGY\"],\"textfont\":{\"color\":\"#4D5663\"},\"x\":[0.108786611,0.029649596,0.083810867,0.06882792,0.05190783,0.037819026,0.065112187,0.149048198,0.053620646],\"y\":[1409,529,174438,27588,3838,5061,1211,1293,2738],\"type\":\"scatter\"},{\"marker\":{\"color\":\"rgba(128, 0, 128, 0.8999999999999999)\",\"line\":{\"width\":1.3},\"opacity\":0.8,\"size\":[0.46780000000000005,0.1512,0.17120000000000002,0.2516,6.452,0.5146000000000001,0.7554000000000001,0.3584,18.2454,16.305400000000002,8.3084,3.0116,2.991,0.8558,0.8642000000000001,1.7850000000000001,3.7936,12.230400000000001,0.5650000000000001,0.2296,25.663800000000002,2.313,0.5986,3.7426000000000004,10.630600000000001,3.6996,2.3464,1.8266,1.1956,0.8094,0.7200000000000001,0.668,0.14400000000000002,41.878800000000005,34.9012,27.849400000000003,2.6604,0.9262,0.4232,39.726600000000005,14.4794,7.339600000000001,6.4284,3.1828000000000003,2.3826,1.2502,0.9878,0.3524,0.48360000000000003,0.5812,2.2246,0.1218,0.8336,0.7662,0.1636,5.6374,46.918,9.284,5.1788,4.7102,3.66,3.5894000000000004,2.8480000000000003,2.0798,1.7608000000000001,0.9580000000000001,0.727,0.6566000000000001,0.6158,0.6028,0.4878,0.2872,0.024800000000000003,13.306000000000001,0.48700000000000004,65.9854,41.0422,36.5242,3.696,3.0464,1.6132,7.821400000000001,0.26580000000000004,1.5226000000000002,2.1944,4.8994,2.7056,2.6772,1.1258000000000001,0.3956,0.2772,5.1930000000000005,42.7992,30.5648,20.696,14.523800000000001,12.410400000000001,10.6324,6.239,5.747800000000001,4.412,3.9758,3.7818,3.6218000000000004,3.607,3.0300000000000002,2.7546,2.7326,2.4592,0.8086,0.7214,0.137,28.7436,28.3902,9.6492,4.930000000000001,4.0396,3.947,2.8474,0.1608,2.548,2.1412,56.1418,23.0866,10.5648,9.6982,8.7294,6.094200000000001,3.3202000000000003,2.0300000000000002,1.9832,1.8308,3.4250000000000003,6.7198,10.9628,6.836200000000001,38.9346,34.1724,25.0148,14.273800000000001,7.7522,2.584,1.4832,1.2966,78.747,12.1266,5.6426,4.206,14.888,11.600200000000001,10.7104,4.3146,3.25,2.8886000000000003,1.9256000000000002,1.8748,1.3304,6.0414,3.3954,2.1020000000000003,0.29760000000000003,7.768800000000001,7.6558,7.5178,2.2408,8.6498,3.7906,1.6818000000000002,0.5708,0.5676,0.9252,0.21960000000000002],\"symbol\":\"circle\"},\"mode\":\"markers\",\"name\":\"Communications & Journalism\",\"text\":[\"COMMUNICATIONS\",\"JOURNALISM\",\"ADVERTISING AND PUBLIC RELATIONS\",\"MASS MEDIA\"],\"textfont\":{\"color\":\"#4D5663\"},\"x\":[0.075176976,0.069176442,0.067960766,0.089836827],\"y\":[116251,39524,30932,27521],\"type\":\"scatter\"},{\"marker\":{\"color\":\"rgba(219, 64, 82, 0.8999999999999999)\",\"line\":{\"width\":1.3},\"opacity\":0.8,\"size\":[0.46780000000000005,0.1512,0.17120000000000002,0.2516,6.452,0.5146000000000001,0.7554000000000001,0.3584,18.2454,16.305400000000002,8.3084,3.0116,2.991,0.8558,0.8642000000000001,1.7850000000000001,3.7936,12.230400000000001,0.5650000000000001,0.2296,25.663800000000002,2.313,0.5986,3.7426000000000004,10.630600000000001,3.6996,2.3464,1.8266,1.1956,0.8094,0.7200000000000001,0.668,0.14400000000000002,41.878800000000005,34.9012,27.849400000000003,2.6604,0.9262,0.4232,39.726600000000005,14.4794,7.339600000000001,6.4284,3.1828000000000003,2.3826,1.2502,0.9878,0.3524,0.48360000000000003,0.5812,2.2246,0.1218,0.8336,0.7662,0.1636,5.6374,46.918,9.284,5.1788,4.7102,3.66,3.5894000000000004,2.8480000000000003,2.0798,1.7608000000000001,0.9580000000000001,0.727,0.6566000000000001,0.6158,0.6028,0.4878,0.2872,0.024800000000000003,13.306000000000001,0.48700000000000004,65.9854,41.0422,36.5242,3.696,3.0464,1.6132,7.821400000000001,0.26580000000000004,1.5226000000000002,2.1944,4.8994,2.7056,2.6772,1.1258000000000001,0.3956,0.2772,5.1930000000000005,42.7992,30.5648,20.696,14.523800000000001,12.410400000000001,10.6324,6.239,5.747800000000001,4.412,3.9758,3.7818,3.6218000000000004,3.607,3.0300000000000002,2.7546,2.7326,2.4592,0.8086,0.7214,0.137,28.7436,28.3902,9.6492,4.930000000000001,4.0396,3.947,2.8474,0.1608,2.548,2.1412,56.1418,23.0866,10.5648,9.6982,8.7294,6.094200000000001,3.3202000000000003,2.0300000000000002,1.9832,1.8308,3.4250000000000003,6.7198,10.9628,6.836200000000001,38.9346,34.1724,25.0148,14.273800000000001,7.7522,2.584,1.4832,1.2966,78.747,12.1266,5.6426,4.206,14.888,11.600200000000001,10.7104,4.3146,3.25,2.8886000000000003,1.9256000000000002,1.8748,1.3304,6.0414,3.3954,2.1020000000000003,0.29760000000000003,7.768800000000001,7.6558,7.5178,2.2408,8.6498,3.7906,1.6818000000000002,0.5708,0.5676,0.9252,0.21960000000000002],\"symbol\":\"circle\"},\"mode\":\"markers\",\"name\":\"Interdisciplinary\",\"text\":[\"MULTI/INTERDISCIPLINARY STUDIES\"],\"textfont\":{\"color\":\"#4D5663\"},\"x\":[0.070860927],\"y\":[6234],\"type\":\"scatter\"}],                        {\"legend\":{\"bgcolor\":\"#F5F6F9\",\"font\":{\"color\":\"#4D5663\"}},\"paper_bgcolor\":\"#F5F6F9\",\"plot_bgcolor\":\"#F5F6F9\",\"template\":{\"data\":{\"barpolar\":[{\"marker\":{\"line\":{\"color\":\"#E5ECF6\",\"width\":0.5},\"pattern\":{\"fillmode\":\"overlay\",\"size\":10,\"solidity\":0.2}},\"type\":\"barpolar\"}],\"bar\":[{\"error_x\":{\"color\":\"#2a3f5f\"},\"error_y\":{\"color\":\"#2a3f5f\"},\"marker\":{\"line\":{\"color\":\"#E5ECF6\",\"width\":0.5},\"pattern\":{\"fillmode\":\"overlay\",\"size\":10,\"solidity\":0.2}},\"type\":\"bar\"}],\"carpet\":[{\"aaxis\":{\"endlinecolor\":\"#2a3f5f\",\"gridcolor\":\"white\",\"linecolor\":\"white\",\"minorgridcolor\":\"white\",\"startlinecolor\":\"#2a3f5f\"},\"baxis\":{\"endlinecolor\":\"#2a3f5f\",\"gridcolor\":\"white\",\"linecolor\":\"white\",\"minorgridcolor\":\"white\",\"startlinecolor\":\"#2a3f5f\"},\"type\":\"carpet\"}],\"choropleth\":[{\"colorbar\":{\"outlinewidth\":0,\"ticks\":\"\"},\"type\":\"choropleth\"}],\"contourcarpet\":[{\"colorbar\":{\"outlinewidth\":0,\"ticks\":\"\"},\"type\":\"contourcarpet\"}],\"contour\":[{\"colorbar\":{\"outlinewidth\":0,\"ticks\":\"\"},\"colorscale\":[[0.0,\"#0d0887\"],[0.1111111111111111,\"#46039f\"],[0.2222222222222222,\"#7201a8\"],[0.3333333333333333,\"#9c179e\"],[0.4444444444444444,\"#bd3786\"],[0.5555555555555556,\"#d8576b\"],[0.6666666666666666,\"#ed7953\"],[0.7777777777777778,\"#fb9f3a\"],[0.8888888888888888,\"#fdca26\"],[1.0,\"#f0f921\"]],\"type\":\"contour\"}],\"heatmapgl\":[{\"colorbar\":{\"outlinewidth\":0,\"ticks\":\"\"},\"colorscale\":[[0.0,\"#0d0887\"],[0.1111111111111111,\"#46039f\"],[0.2222222222222222,\"#7201a8\"],[0.3333333333333333,\"#9c179e\"],[0.4444444444444444,\"#bd3786\"],[0.5555555555555556,\"#d8576b\"],[0.6666666666666666,\"#ed7953\"],[0.7777777777777778,\"#fb9f3a\"],[0.8888888888888888,\"#fdca26\"],[1.0,\"#f0f921\"]],\"type\":\"heatmapgl\"}],\"heatmap\":[{\"colorbar\":{\"outlinewidth\":0,\"ticks\":\"\"},\"colorscale\":[[0.0,\"#0d0887\"],[0.1111111111111111,\"#46039f\"],[0.2222222222222222,\"#7201a8\"],[0.3333333333333333,\"#9c179e\"],[0.4444444444444444,\"#bd3786\"],[0.5555555555555556,\"#d8576b\"],[0.6666666666666666,\"#ed7953\"],[0.7777777777777778,\"#fb9f3a\"],[0.8888888888888888,\"#fdca26\"],[1.0,\"#f0f921\"]],\"type\":\"heatmap\"}],\"histogram2dcontour\":[{\"colorbar\":{\"outlinewidth\":0,\"ticks\":\"\"},\"colorscale\":[[0.0,\"#0d0887\"],[0.1111111111111111,\"#46039f\"],[0.2222222222222222,\"#7201a8\"],[0.3333333333333333,\"#9c179e\"],[0.4444444444444444,\"#bd3786\"],[0.5555555555555556,\"#d8576b\"],[0.6666666666666666,\"#ed7953\"],[0.7777777777777778,\"#fb9f3a\"],[0.8888888888888888,\"#fdca26\"],[1.0,\"#f0f921\"]],\"type\":\"histogram2dcontour\"}],\"histogram2d\":[{\"colorbar\":{\"outlinewidth\":0,\"ticks\":\"\"},\"colorscale\":[[0.0,\"#0d0887\"],[0.1111111111111111,\"#46039f\"],[0.2222222222222222,\"#7201a8\"],[0.3333333333333333,\"#9c179e\"],[0.4444444444444444,\"#bd3786\"],[0.5555555555555556,\"#d8576b\"],[0.6666666666666666,\"#ed7953\"],[0.7777777777777778,\"#fb9f3a\"],[0.8888888888888888,\"#fdca26\"],[1.0,\"#f0f921\"]],\"type\":\"histogram2d\"}],\"histogram\":[{\"marker\":{\"pattern\":{\"fillmode\":\"overlay\",\"size\":10,\"solidity\":0.2}},\"type\":\"histogram\"}],\"mesh3d\":[{\"colorbar\":{\"outlinewidth\":0,\"ticks\":\"\"},\"type\":\"mesh3d\"}],\"parcoords\":[{\"line\":{\"colorbar\":{\"outlinewidth\":0,\"ticks\":\"\"}},\"type\":\"parcoords\"}],\"pie\":[{\"automargin\":true,\"type\":\"pie\"}],\"scatter3d\":[{\"line\":{\"colorbar\":{\"outlinewidth\":0,\"ticks\":\"\"}},\"marker\":{\"colorbar\":{\"outlinewidth\":0,\"ticks\":\"\"}},\"type\":\"scatter3d\"}],\"scattercarpet\":[{\"marker\":{\"colorbar\":{\"outlinewidth\":0,\"ticks\":\"\"}},\"type\":\"scattercarpet\"}],\"scattergeo\":[{\"marker\":{\"colorbar\":{\"outlinewidth\":0,\"ticks\":\"\"}},\"type\":\"scattergeo\"}],\"scattergl\":[{\"marker\":{\"colorbar\":{\"outlinewidth\":0,\"ticks\":\"\"}},\"type\":\"scattergl\"}],\"scattermapbox\":[{\"marker\":{\"colorbar\":{\"outlinewidth\":0,\"ticks\":\"\"}},\"type\":\"scattermapbox\"}],\"scatterpolargl\":[{\"marker\":{\"colorbar\":{\"outlinewidth\":0,\"ticks\":\"\"}},\"type\":\"scatterpolargl\"}],\"scatterpolar\":[{\"marker\":{\"colorbar\":{\"outlinewidth\":0,\"ticks\":\"\"}},\"type\":\"scatterpolar\"}],\"scatter\":[{\"fillpattern\":{\"fillmode\":\"overlay\",\"size\":10,\"solidity\":0.2},\"type\":\"scatter\"}],\"scatterternary\":[{\"marker\":{\"colorbar\":{\"outlinewidth\":0,\"ticks\":\"\"}},\"type\":\"scatterternary\"}],\"surface\":[{\"colorbar\":{\"outlinewidth\":0,\"ticks\":\"\"},\"colorscale\":[[0.0,\"#0d0887\"],[0.1111111111111111,\"#46039f\"],[0.2222222222222222,\"#7201a8\"],[0.3333333333333333,\"#9c179e\"],[0.4444444444444444,\"#bd3786\"],[0.5555555555555556,\"#d8576b\"],[0.6666666666666666,\"#ed7953\"],[0.7777777777777778,\"#fb9f3a\"],[0.8888888888888888,\"#fdca26\"],[1.0,\"#f0f921\"]],\"type\":\"surface\"}],\"table\":[{\"cells\":{\"fill\":{\"color\":\"#EBF0F8\"},\"line\":{\"color\":\"white\"}},\"header\":{\"fill\":{\"color\":\"#C8D4E3\"},\"line\":{\"color\":\"white\"}},\"type\":\"table\"}]},\"layout\":{\"annotationdefaults\":{\"arrowcolor\":\"#2a3f5f\",\"arrowhead\":0,\"arrowwidth\":1},\"autotypenumbers\":\"strict\",\"coloraxis\":{\"colorbar\":{\"outlinewidth\":0,\"ticks\":\"\"}},\"colorscale\":{\"diverging\":[[0,\"#8e0152\"],[0.1,\"#c51b7d\"],[0.2,\"#de77ae\"],[0.3,\"#f1b6da\"],[0.4,\"#fde0ef\"],[0.5,\"#f7f7f7\"],[0.6,\"#e6f5d0\"],[0.7,\"#b8e186\"],[0.8,\"#7fbc41\"],[0.9,\"#4d9221\"],[1,\"#276419\"]],\"sequential\":[[0.0,\"#0d0887\"],[0.1111111111111111,\"#46039f\"],[0.2222222222222222,\"#7201a8\"],[0.3333333333333333,\"#9c179e\"],[0.4444444444444444,\"#bd3786\"],[0.5555555555555556,\"#d8576b\"],[0.6666666666666666,\"#ed7953\"],[0.7777777777777778,\"#fb9f3a\"],[0.8888888888888888,\"#fdca26\"],[1.0,\"#f0f921\"]],\"sequentialminus\":[[0.0,\"#0d0887\"],[0.1111111111111111,\"#46039f\"],[0.2222222222222222,\"#7201a8\"],[0.3333333333333333,\"#9c179e\"],[0.4444444444444444,\"#bd3786\"],[0.5555555555555556,\"#d8576b\"],[0.6666666666666666,\"#ed7953\"],[0.7777777777777778,\"#fb9f3a\"],[0.8888888888888888,\"#fdca26\"],[1.0,\"#f0f921\"]]},\"colorway\":[\"#636efa\",\"#EF553B\",\"#00cc96\",\"#ab63fa\",\"#FFA15A\",\"#19d3f3\",\"#FF6692\",\"#B6E880\",\"#FF97FF\",\"#FECB52\"],\"font\":{\"color\":\"#2a3f5f\"},\"geo\":{\"bgcolor\":\"white\",\"lakecolor\":\"white\",\"landcolor\":\"#E5ECF6\",\"showlakes\":true,\"showland\":true,\"subunitcolor\":\"white\"},\"hoverlabel\":{\"align\":\"left\"},\"hovermode\":\"closest\",\"mapbox\":{\"style\":\"light\"},\"paper_bgcolor\":\"white\",\"plot_bgcolor\":\"#E5ECF6\",\"polar\":{\"angularaxis\":{\"gridcolor\":\"white\",\"linecolor\":\"white\",\"ticks\":\"\"},\"bgcolor\":\"#E5ECF6\",\"radialaxis\":{\"gridcolor\":\"white\",\"linecolor\":\"white\",\"ticks\":\"\"}},\"scene\":{\"xaxis\":{\"backgroundcolor\":\"#E5ECF6\",\"gridcolor\":\"white\",\"gridwidth\":2,\"linecolor\":\"white\",\"showbackground\":true,\"ticks\":\"\",\"zerolinecolor\":\"white\"},\"yaxis\":{\"backgroundcolor\":\"#E5ECF6\",\"gridcolor\":\"white\",\"gridwidth\":2,\"linecolor\":\"white\",\"showbackground\":true,\"ticks\":\"\",\"zerolinecolor\":\"white\"},\"zaxis\":{\"backgroundcolor\":\"#E5ECF6\",\"gridcolor\":\"white\",\"gridwidth\":2,\"linecolor\":\"white\",\"showbackground\":true,\"ticks\":\"\",\"zerolinecolor\":\"white\"}},\"shapedefaults\":{\"line\":{\"color\":\"#2a3f5f\"}},\"ternary\":{\"aaxis\":{\"gridcolor\":\"white\",\"linecolor\":\"white\",\"ticks\":\"\"},\"baxis\":{\"gridcolor\":\"white\",\"linecolor\":\"white\",\"ticks\":\"\"},\"bgcolor\":\"#E5ECF6\",\"caxis\":{\"gridcolor\":\"white\",\"linecolor\":\"white\",\"ticks\":\"\"}},\"title\":{\"x\":0.05},\"xaxis\":{\"automargin\":true,\"gridcolor\":\"white\",\"linecolor\":\"white\",\"ticks\":\"\",\"title\":{\"standoff\":15},\"zerolinecolor\":\"white\",\"zerolinewidth\":2},\"yaxis\":{\"automargin\":true,\"gridcolor\":\"white\",\"linecolor\":\"white\",\"ticks\":\"\",\"title\":{\"standoff\":15},\"zerolinecolor\":\"white\",\"zerolinewidth\":2}}},\"title\":{\"font\":{\"color\":\"#4D5663\"},\"text\":\"Job Prospects\"},\"xaxis\":{\"gridcolor\":\"#E1E5ED\",\"showgrid\":true,\"tickfont\":{\"color\":\"#4D5663\"},\"title\":{\"font\":{\"color\":\"#4D5663\"},\"text\":\"Unemployment rate\"},\"zerolinecolor\":\"#E1E5ED\"},\"yaxis\":{\"gridcolor\":\"#E1E5ED\",\"showgrid\":true,\"tickfont\":{\"color\":\"#4D5663\"},\"title\":{\"font\":{\"color\":\"#4D5663\"},\"text\":\"Amount of full time year round employees\"},\"zerolinecolor\":\"#E1E5ED\"}},                        {\"showLink\": true, \"linkText\": \"Export to plot.ly\", \"plotlyServerURL\": \"https://plot.ly\", \"responsive\": true}                    ).then(function(){\n",
       "                            \n",
       "var gd = document.getElementById('1dd907e7-d65a-46bd-917a-47fdf51e7c5c');\n",
       "var x = new MutationObserver(function (mutations, observer) {{\n",
       "        var display = window.getComputedStyle(gd).display;\n",
       "        if (!display || display === 'none') {{\n",
       "            console.log([gd, 'removed!']);\n",
       "            Plotly.purge(gd);\n",
       "            observer.disconnect();\n",
       "        }}\n",
       "}});\n",
       "\n",
       "// Listen for the removal of the full notebook cells\n",
       "var notebookContainer = gd.closest('#notebook-container');\n",
       "if (notebookContainer) {{\n",
       "    x.observe(notebookContainer, {childList: true});\n",
       "}}\n",
       "\n",
       "// Listen for the clearing of the current output cell\n",
       "var outputEl = gd.closest('.output');\n",
       "if (outputEl) {{\n",
       "    x.observe(outputEl, {childList: true});\n",
       "}}\n",
       "\n",
       "                        })                };                });            </script>        </div>"
      ]
     },
     "metadata": {},
     "output_type": "display_data"
    }
   ],
   "source": [
    "df.iplot(\n",
    "    x=\"Unemployment_rate\",\n",
    "    y=\"Full_time_year_round\",\n",
    "    categories=\"Major_category\",\n",
    "    size = 0.0002*df['Total'],\n",
    "    #size = 1.5*np.log(df[\"Total\"]),\n",
    "    xTitle=\"Unemployment rate\",\n",
    "    yTitle=\"Amount of full time year round employees\",\n",
    "    text=\"Major\",\n",
    "    mode=\"markers\",\n",
    "    title=\"Job Prospects\",\n",
    ")"
   ]
  },
  {
   "cell_type": "code",
   "execution_count": 30,
   "metadata": {},
   "outputs": [
    {
     "data": {
      "application/vnd.plotly.v1+json": {
       "config": {
        "linkText": "Export to plot.ly",
        "plotlyServerURL": "https://plot.ly",
        "showLink": false
       },
       "data": [
        {
         "colorscale": [
          [
           0,
           "rgb(161, 105, 40)"
          ],
          [
           0.16666666666666666,
           "rgb(189, 146, 90)"
          ],
          [
           0.3333333333333333,
           "rgb(214, 189, 141)"
          ],
          [
           0.5,
           "rgb(237, 234, 194)"
          ],
          [
           0.6666666666666666,
           "rgb(181, 200, 184)"
          ],
          [
           0.8333333333333334,
           "rgb(121, 167, 172)"
          ],
          [
           1,
           "rgb(40, 135, 161)"
          ]
         ],
         "reversescale": true,
         "showscale": true,
         "type": "heatmap",
         "x": [
          "Rank",
          "Major_code",
          "Total",
          "ShareWomen",
          "Sample_size",
          "Employed",
          "Full_time",
          "Part_time",
          "Full_time_year_round",
          "Unemployed",
          "Unemployment_rate",
          "Median",
          "P25th",
          "P75th",
          "College_jobs",
          "Non_college_jobs",
          "Low_wage_jobs",
          "ShareMen",
          "Amount Men",
          "Amount Women"
         ],
         "y": [
          "Rank",
          "Major_code",
          "Total",
          "ShareWomen",
          "Sample_size",
          "Employed",
          "Full_time",
          "Part_time",
          "Full_time_year_round",
          "Unemployed",
          "Unemployment_rate",
          "Median",
          "P25th",
          "P75th",
          "College_jobs",
          "Non_college_jobs",
          "Low_wage_jobs",
          "ShareMen",
          "Amount Men",
          "Amount Women"
         ],
         "z": [
          [
           1,
           0.09719450952723539,
           0.07113655538233221,
           0.643781424734423,
           0.004589983297572155,
           0.066941452417565,
           0.03074840629704042,
           0.19027168864893565,
           0.0164023917515608,
           0.08673585134688483,
           0.07667069172878725,
           -0.8723032113416209,
           -0.7374191137101549,
           -0.8008167209981147,
           0.04895031699585101,
           0.1416614999556364,
           0.20036026719114944,
           -0.6437814247344223,
           -0.09477823070089081,
           0.17491109736798197
          ],
          [
           0.09719450952723539,
           1,
           0.1967840901017655,
           0.2592109624664122,
           0.20337501884325213,
           0.19734489834823923,
           0.1958571173669315,
           0.19179764994886725,
           0.20220307605398388,
           0.220472138127554,
           0.13716297078606376,
           -0.16723668653273985,
           -0.16559284229589724,
           -0.08365450521786749,
           0.036486243645611385,
           0.22956205421508874,
           0.22254085271633095,
           -0.2592109624664122,
           0.17930057403498895,
           0.18145777498683374
          ],
          [
           0.07113655538233221,
           0.1967840901017655,
           1,
           0.14299931208162422,
           0.9455747357207451,
           0.996213998955208,
           0.9893392137116919,
           0.9502683661034295,
           0.9811118244655264,
           0.974768390511927,
           0.0831917028134864,
           -0.1067376702051371,
           -0.07192608151261885,
           -0.08319767378703781,
           0.8004647658776266,
           0.9412470722294447,
           0.9355095544691524,
           -0.14299931208162417,
           0.8780884465950591,
           0.9447648443423954
          ],
          [
           0.643781424734423,
           0.2592109624664122,
           0.14299931208162422,
           1,
           0.09749570465694649,
           0.14754681093687838,
           0.12020012727108047,
           0.2122897541008934,
           0.11252303848394386,
           0.12124302407363591,
           0.07320457867229423,
           -0.618689751213161,
           -0.5001986323939085,
           -0.5869321632626863,
           0.1955501228386264,
           0.13700656277347,
           0.18784962733916696,
           -1.0000000000000004,
           -0.11201089657709946,
           0.297829560221463
          ],
          [
           0.004589983297572155,
           0.20337501884325213,
           0.9455747357207451,
           0.09749570465694649,
           1,
           0.9644061612735607,
           0.9783623613836113,
           0.8245444340357722,
           0.9852124725299435,
           0.9179335294019043,
           0.06295493699511234,
           -0.06447499542762167,
           -0.024428589648752483,
           -0.05225613567942122,
           0.7012309400781065,
           0.9153352295793599,
           0.8601158841864506,
           -0.09749570465694651,
           0.8751754425197239,
           0.8626070064996264
          ],
          [
           0.066941452417565,
           0.19734489834823923,
           0.996213998955208,
           0.14754681093687838,
           0.9644061612735607,
           1,
           0.9958308328122525,
           0.9344181758754256,
           0.9910313753199327,
           0.9688554213928416,
           0.07137376129490561,
           -0.10439868749441884,
           -0.06670644541364452,
           -0.08399630349720974,
           0.7971931052424193,
           0.9412360353338642,
           0.9271222925579062,
           -0.14754681093687835,
           0.8706046002097557,
           0.944036960915049
          ],
          [
           0.03074840629704042,
           0.1958571173669315,
           0.9893392137116919,
           0.12020012727108047,
           0.9783623613836113,
           0.9958308328122525,
           1,
           0.9007106155488598,
           0.9981999438668634,
           0.9600421977338651,
           0.06661569105660553,
           -0.07903093567520728,
           -0.04213068698066762,
           -0.061429083709640085,
           0.7721345661907703,
           0.9330211344165179,
           0.9047136415894512,
           -0.12020012727108051,
           0.8935630214561073,
           0.917681629287967
          ],
          [
           0.19027168864893565,
           0.19179764994886725,
           0.9502683661034295,
           0.2122897541008934,
           0.8245444340357722,
           0.9344181758754256,
           0.9007106155488598,
           1,
           0.8806561519300002,
           0.9450093125758834,
           0.1122469184116957,
           -0.1875162361313827,
           -0.15282682905269215,
           -0.15522397980729147,
           0.8046726449188619,
           0.9094945870731804,
           0.9515254827564531,
           -0.21228975410089324,
           0.7515915960114844,
           0.9545134894237463
          ],
          [
           0.0164023917515608,
           0.20220307605398388,
           0.9811118244655264,
           0.11252303848394386,
           0.9852124725299435,
           0.9910313753199327,
           0.9981999438668634,
           0.8806561519300002,
           1,
           0.9506354179236666,
           0.060382305014432806,
           -0.06975038308116806,
           -0.03220486641398013,
           -0.0532866274085831,
           0.754848670342405,
           0.9287635160301236,
           0.8926903846711912,
           -0.11252303848394386,
           0.8924539443080214,
           0.9057199920447818
          ],
          [
           0.08673585134688483,
           0.220472138127554,
           0.974768390511927,
           0.12124302407363591,
           0.9179335294019043,
           0.9688554213928416,
           0.9600421977338651,
           0.9450093125758834,
           0.9506354179236666,
           1,
           0.1686508084454254,
           -0.12362233733968128,
           -0.09146725647399975,
           -0.093953826909388,
           0.7133619046730892,
           0.9564671599781004,
           0.9553250765423359,
           -0.12124302407363598,
           0.869410879364918,
           0.9116950974742131
          ],
          [
           0.07667069172878725,
           0.13716297078606376,
           0.0831917028134864,
           0.07320457867229423,
           0.06295493699511234,
           0.07137376129490561,
           0.06661569105660553,
           0.1122469184116957,
           0.060382305014432806,
           0.1686508084454254,
           1,
           -0.1157690495783848,
           -0.09794507042291149,
           -0.039932547931914614,
           -0.011693854658246534,
           0.11956552450368925,
           0.1315727111403494,
           -0.07320457867229413,
           0.10150211233746238,
           0.059107661425193525
          ],
          [
           -0.8723032113416209,
           -0.16723668653273985,
           -0.1067376702051371,
           -0.618689751213161,
           -0.06447499542762167,
           -0.10439868749441884,
           -0.07903093567520728,
           -0.1875162361313827,
           -0.06975038308116806,
           -0.12362233733968128,
           -0.1157690495783848,
           1,
           0.8933743582528847,
           0.90115779036468,
           -0.04706014819326904,
           -0.1718151046330405,
           -0.2071528356609693,
           0.6186897512131602,
           0.025988422744853915,
           -0.18284026388256833
          ],
          [
           -0.7374191137101549,
           -0.16559284229589724,
           -0.07192608151261885,
           -0.5001986323939085,
           -0.024428589648752483,
           -0.06670644541364452,
           -0.04213068698066762,
           -0.15282682905269215,
           -0.03220486641398013,
           -0.09146725647399975,
           -0.09794507042291149,
           0.8933743582528847,
           1,
           0.7359955831805077,
           -0.010731349760207612,
           -0.1382050138251939,
           -0.17321800699935616,
           0.5001986323939079,
           0.03872345625483346,
           -0.13773672480229326
          ],
          [
           -0.8008167209981147,
           -0.08365450521786749,
           -0.08319767378703781,
           -0.5869321632626863,
           -0.05225613567942122,
           -0.08399630349720974,
           -0.061429083709640085,
           -0.15522397980729147,
           -0.0532866274085831,
           -0.093953826909388,
           -0.039932547931914614,
           0.90115779036468,
           0.7359955831805077,
           1,
           -0.052965959174077905,
           -0.13639736146228565,
           -0.1708364852811008,
           0.586932163262686,
           0.05239051483386818,
           -0.1645266585032455
          ],
          [
           0.04895031699585101,
           0.036486243645611385,
           0.8004647658776266,
           0.1955501228386264,
           0.7012309400781065,
           0.7971931052424193,
           0.7721345661907703,
           0.8046726449188619,
           0.754848670342405,
           0.7133619046730892,
           -0.011693854658246534,
           -0.04706014819326904,
           -0.010731349760207612,
           -0.052965959174077905,
           1,
           0.6128771581016479,
           0.6497199484704506,
           -0.19555012283862647,
           0.5631690850690065,
           0.8519456098493696
          ],
          [
           0.1416614999556364,
           0.22956205421508874,
           0.9412470722294447,
           0.13700656277347,
           0.9153352295793599,
           0.9412360353338642,
           0.9330211344165179,
           0.9094945870731804,
           0.9287635160301236,
           0.9564671599781004,
           0.11956552450368925,
           -0.1718151046330405,
           -0.1382050138251939,
           -0.13639736146228565,
           0.6128771581016479,
           1,
           0.975699495897125,
           -0.13700656277347006,
           0.8514991733978654,
           0.8721326347160299
          ],
          [
           0.20036026719114944,
           0.22254085271633095,
           0.9355095544691524,
           0.18784962733916696,
           0.8601158841864506,
           0.9271222925579062,
           0.9047136415894512,
           0.9515254827564531,
           0.8926903846711912,
           0.9553250765423359,
           0.1315727111403494,
           -0.2071528356609693,
           -0.17321800699935616,
           -0.1708364852811008,
           0.6497199484704506,
           0.975699495897125,
           1,
           -0.18784962733916694,
           0.7913354509562891,
           0.9044705306709137
          ],
          [
           -0.6437814247344223,
           -0.2592109624664122,
           -0.14299931208162417,
           -1.0000000000000004,
           -0.09749570465694651,
           -0.14754681093687835,
           -0.12020012727108051,
           -0.21228975410089324,
           -0.11252303848394386,
           -0.12124302407363598,
           -0.07320457867229413,
           0.6186897512131602,
           0.5001986323939079,
           0.586932163262686,
           -0.19555012283862647,
           -0.13700656277347006,
           -0.18784962733916694,
           1,
           0.11201089657709941,
           -0.29782956022146306
          ],
          [
           -0.09477823070089081,
           0.17930057403498895,
           0.8780884465950591,
           -0.11201089657709946,
           0.8751754425197239,
           0.8706046002097557,
           0.8935630214561073,
           0.7515915960114844,
           0.8924539443080214,
           0.869410879364918,
           0.10150211233746238,
           0.025988422744853915,
           0.03872345625483346,
           0.05239051483386818,
           0.5631690850690065,
           0.8514991733978654,
           0.7913354509562891,
           0.11201089657709941,
           1,
           0.672759748990756
          ],
          [
           0.17491109736798197,
           0.18145777498683374,
           0.9447648443423954,
           0.297829560221463,
           0.8626070064996264,
           0.944036960915049,
           0.917681629287967,
           0.9545134894237463,
           0.9057199920447818,
           0.9116950974742131,
           0.059107661425193525,
           -0.18284026388256833,
           -0.13773672480229326,
           -0.1645266585032455,
           0.8519456098493696,
           0.8721326347160299,
           0.9044705306709137,
           -0.29782956022146306,
           0.672759748990756,
           1
          ]
         ]
        }
       ],
       "layout": {
        "annotations": [
         {
          "font": {
           "color": "#FFFFFF"
          },
          "showarrow": false,
          "text": "1.0",
          "x": "Rank",
          "xref": "x",
          "y": "Rank",
          "yref": "y"
         },
         {
          "font": {
           "color": "#FFFFFF"
          },
          "showarrow": false,
          "text": "0.1",
          "x": "Major_code",
          "xref": "x",
          "y": "Rank",
          "yref": "y"
         },
         {
          "font": {
           "color": "#FFFFFF"
          },
          "showarrow": false,
          "text": "0.07",
          "x": "Total",
          "xref": "x",
          "y": "Rank",
          "yref": "y"
         },
         {
          "font": {
           "color": "#FFFFFF"
          },
          "showarrow": false,
          "text": "0.64",
          "x": "ShareWomen",
          "xref": "x",
          "y": "Rank",
          "yref": "y"
         },
         {
          "font": {
           "color": "#FFFFFF"
          },
          "showarrow": false,
          "text": "0.0",
          "x": "Sample_size",
          "xref": "x",
          "y": "Rank",
          "yref": "y"
         },
         {
          "font": {
           "color": "#FFFFFF"
          },
          "showarrow": false,
          "text": "0.07",
          "x": "Employed",
          "xref": "x",
          "y": "Rank",
          "yref": "y"
         },
         {
          "font": {
           "color": "#FFFFFF"
          },
          "showarrow": false,
          "text": "0.03",
          "x": "Full_time",
          "xref": "x",
          "y": "Rank",
          "yref": "y"
         },
         {
          "font": {
           "color": "#FFFFFF"
          },
          "showarrow": false,
          "text": "0.19",
          "x": "Part_time",
          "xref": "x",
          "y": "Rank",
          "yref": "y"
         },
         {
          "font": {
           "color": "#FFFFFF"
          },
          "showarrow": false,
          "text": "0.02",
          "x": "Full_time_year_round",
          "xref": "x",
          "y": "Rank",
          "yref": "y"
         },
         {
          "font": {
           "color": "#FFFFFF"
          },
          "showarrow": false,
          "text": "0.09",
          "x": "Unemployed",
          "xref": "x",
          "y": "Rank",
          "yref": "y"
         },
         {
          "font": {
           "color": "#FFFFFF"
          },
          "showarrow": false,
          "text": "0.08",
          "x": "Unemployment_rate",
          "xref": "x",
          "y": "Rank",
          "yref": "y"
         },
         {
          "font": {
           "color": "#FFFFFF"
          },
          "showarrow": false,
          "text": "-0.87",
          "x": "Median",
          "xref": "x",
          "y": "Rank",
          "yref": "y"
         },
         {
          "font": {
           "color": "#FFFFFF"
          },
          "showarrow": false,
          "text": "-0.74",
          "x": "P25th",
          "xref": "x",
          "y": "Rank",
          "yref": "y"
         },
         {
          "font": {
           "color": "#FFFFFF"
          },
          "showarrow": false,
          "text": "-0.8",
          "x": "P75th",
          "xref": "x",
          "y": "Rank",
          "yref": "y"
         },
         {
          "font": {
           "color": "#FFFFFF"
          },
          "showarrow": false,
          "text": "0.05",
          "x": "College_jobs",
          "xref": "x",
          "y": "Rank",
          "yref": "y"
         },
         {
          "font": {
           "color": "#FFFFFF"
          },
          "showarrow": false,
          "text": "0.14",
          "x": "Non_college_jobs",
          "xref": "x",
          "y": "Rank",
          "yref": "y"
         },
         {
          "font": {
           "color": "#FFFFFF"
          },
          "showarrow": false,
          "text": "0.2",
          "x": "Low_wage_jobs",
          "xref": "x",
          "y": "Rank",
          "yref": "y"
         },
         {
          "font": {
           "color": "#FFFFFF"
          },
          "showarrow": false,
          "text": "-0.64",
          "x": "ShareMen",
          "xref": "x",
          "y": "Rank",
          "yref": "y"
         },
         {
          "font": {
           "color": "#FFFFFF"
          },
          "showarrow": false,
          "text": "-0.09",
          "x": "Amount Men",
          "xref": "x",
          "y": "Rank",
          "yref": "y"
         },
         {
          "font": {
           "color": "#FFFFFF"
          },
          "showarrow": false,
          "text": "0.17",
          "x": "Amount Women",
          "xref": "x",
          "y": "Rank",
          "yref": "y"
         },
         {
          "font": {
           "color": "#FFFFFF"
          },
          "showarrow": false,
          "text": "0.1",
          "x": "Rank",
          "xref": "x",
          "y": "Major_code",
          "yref": "y"
         },
         {
          "font": {
           "color": "#FFFFFF"
          },
          "showarrow": false,
          "text": "1.0",
          "x": "Major_code",
          "xref": "x",
          "y": "Major_code",
          "yref": "y"
         },
         {
          "font": {
           "color": "#FFFFFF"
          },
          "showarrow": false,
          "text": "0.2",
          "x": "Total",
          "xref": "x",
          "y": "Major_code",
          "yref": "y"
         },
         {
          "font": {
           "color": "#FFFFFF"
          },
          "showarrow": false,
          "text": "0.26",
          "x": "ShareWomen",
          "xref": "x",
          "y": "Major_code",
          "yref": "y"
         },
         {
          "font": {
           "color": "#FFFFFF"
          },
          "showarrow": false,
          "text": "0.2",
          "x": "Sample_size",
          "xref": "x",
          "y": "Major_code",
          "yref": "y"
         },
         {
          "font": {
           "color": "#FFFFFF"
          },
          "showarrow": false,
          "text": "0.2",
          "x": "Employed",
          "xref": "x",
          "y": "Major_code",
          "yref": "y"
         },
         {
          "font": {
           "color": "#FFFFFF"
          },
          "showarrow": false,
          "text": "0.2",
          "x": "Full_time",
          "xref": "x",
          "y": "Major_code",
          "yref": "y"
         },
         {
          "font": {
           "color": "#FFFFFF"
          },
          "showarrow": false,
          "text": "0.19",
          "x": "Part_time",
          "xref": "x",
          "y": "Major_code",
          "yref": "y"
         },
         {
          "font": {
           "color": "#FFFFFF"
          },
          "showarrow": false,
          "text": "0.2",
          "x": "Full_time_year_round",
          "xref": "x",
          "y": "Major_code",
          "yref": "y"
         },
         {
          "font": {
           "color": "#FFFFFF"
          },
          "showarrow": false,
          "text": "0.22",
          "x": "Unemployed",
          "xref": "x",
          "y": "Major_code",
          "yref": "y"
         },
         {
          "font": {
           "color": "#FFFFFF"
          },
          "showarrow": false,
          "text": "0.14",
          "x": "Unemployment_rate",
          "xref": "x",
          "y": "Major_code",
          "yref": "y"
         },
         {
          "font": {
           "color": "#FFFFFF"
          },
          "showarrow": false,
          "text": "-0.17",
          "x": "Median",
          "xref": "x",
          "y": "Major_code",
          "yref": "y"
         },
         {
          "font": {
           "color": "#FFFFFF"
          },
          "showarrow": false,
          "text": "-0.17",
          "x": "P25th",
          "xref": "x",
          "y": "Major_code",
          "yref": "y"
         },
         {
          "font": {
           "color": "#FFFFFF"
          },
          "showarrow": false,
          "text": "-0.08",
          "x": "P75th",
          "xref": "x",
          "y": "Major_code",
          "yref": "y"
         },
         {
          "font": {
           "color": "#FFFFFF"
          },
          "showarrow": false,
          "text": "0.04",
          "x": "College_jobs",
          "xref": "x",
          "y": "Major_code",
          "yref": "y"
         },
         {
          "font": {
           "color": "#FFFFFF"
          },
          "showarrow": false,
          "text": "0.23",
          "x": "Non_college_jobs",
          "xref": "x",
          "y": "Major_code",
          "yref": "y"
         },
         {
          "font": {
           "color": "#FFFFFF"
          },
          "showarrow": false,
          "text": "0.22",
          "x": "Low_wage_jobs",
          "xref": "x",
          "y": "Major_code",
          "yref": "y"
         },
         {
          "font": {
           "color": "#FFFFFF"
          },
          "showarrow": false,
          "text": "-0.26",
          "x": "ShareMen",
          "xref": "x",
          "y": "Major_code",
          "yref": "y"
         },
         {
          "font": {
           "color": "#FFFFFF"
          },
          "showarrow": false,
          "text": "0.18",
          "x": "Amount Men",
          "xref": "x",
          "y": "Major_code",
          "yref": "y"
         },
         {
          "font": {
           "color": "#FFFFFF"
          },
          "showarrow": false,
          "text": "0.18",
          "x": "Amount Women",
          "xref": "x",
          "y": "Major_code",
          "yref": "y"
         },
         {
          "font": {
           "color": "#FFFFFF"
          },
          "showarrow": false,
          "text": "0.07",
          "x": "Rank",
          "xref": "x",
          "y": "Total",
          "yref": "y"
         },
         {
          "font": {
           "color": "#FFFFFF"
          },
          "showarrow": false,
          "text": "0.2",
          "x": "Major_code",
          "xref": "x",
          "y": "Total",
          "yref": "y"
         },
         {
          "font": {
           "color": "#FFFFFF"
          },
          "showarrow": false,
          "text": "1.0",
          "x": "Total",
          "xref": "x",
          "y": "Total",
          "yref": "y"
         },
         {
          "font": {
           "color": "#FFFFFF"
          },
          "showarrow": false,
          "text": "0.14",
          "x": "ShareWomen",
          "xref": "x",
          "y": "Total",
          "yref": "y"
         },
         {
          "font": {
           "color": "#FFFFFF"
          },
          "showarrow": false,
          "text": "0.95",
          "x": "Sample_size",
          "xref": "x",
          "y": "Total",
          "yref": "y"
         },
         {
          "font": {
           "color": "#FFFFFF"
          },
          "showarrow": false,
          "text": "1.0",
          "x": "Employed",
          "xref": "x",
          "y": "Total",
          "yref": "y"
         },
         {
          "font": {
           "color": "#FFFFFF"
          },
          "showarrow": false,
          "text": "0.99",
          "x": "Full_time",
          "xref": "x",
          "y": "Total",
          "yref": "y"
         },
         {
          "font": {
           "color": "#FFFFFF"
          },
          "showarrow": false,
          "text": "0.95",
          "x": "Part_time",
          "xref": "x",
          "y": "Total",
          "yref": "y"
         },
         {
          "font": {
           "color": "#FFFFFF"
          },
          "showarrow": false,
          "text": "0.98",
          "x": "Full_time_year_round",
          "xref": "x",
          "y": "Total",
          "yref": "y"
         },
         {
          "font": {
           "color": "#FFFFFF"
          },
          "showarrow": false,
          "text": "0.97",
          "x": "Unemployed",
          "xref": "x",
          "y": "Total",
          "yref": "y"
         },
         {
          "font": {
           "color": "#FFFFFF"
          },
          "showarrow": false,
          "text": "0.08",
          "x": "Unemployment_rate",
          "xref": "x",
          "y": "Total",
          "yref": "y"
         },
         {
          "font": {
           "color": "#FFFFFF"
          },
          "showarrow": false,
          "text": "-0.11",
          "x": "Median",
          "xref": "x",
          "y": "Total",
          "yref": "y"
         },
         {
          "font": {
           "color": "#FFFFFF"
          },
          "showarrow": false,
          "text": "-0.07",
          "x": "P25th",
          "xref": "x",
          "y": "Total",
          "yref": "y"
         },
         {
          "font": {
           "color": "#FFFFFF"
          },
          "showarrow": false,
          "text": "-0.08",
          "x": "P75th",
          "xref": "x",
          "y": "Total",
          "yref": "y"
         },
         {
          "font": {
           "color": "#FFFFFF"
          },
          "showarrow": false,
          "text": "0.8",
          "x": "College_jobs",
          "xref": "x",
          "y": "Total",
          "yref": "y"
         },
         {
          "font": {
           "color": "#FFFFFF"
          },
          "showarrow": false,
          "text": "0.94",
          "x": "Non_college_jobs",
          "xref": "x",
          "y": "Total",
          "yref": "y"
         },
         {
          "font": {
           "color": "#FFFFFF"
          },
          "showarrow": false,
          "text": "0.94",
          "x": "Low_wage_jobs",
          "xref": "x",
          "y": "Total",
          "yref": "y"
         },
         {
          "font": {
           "color": "#FFFFFF"
          },
          "showarrow": false,
          "text": "-0.14",
          "x": "ShareMen",
          "xref": "x",
          "y": "Total",
          "yref": "y"
         },
         {
          "font": {
           "color": "#FFFFFF"
          },
          "showarrow": false,
          "text": "0.88",
          "x": "Amount Men",
          "xref": "x",
          "y": "Total",
          "yref": "y"
         },
         {
          "font": {
           "color": "#FFFFFF"
          },
          "showarrow": false,
          "text": "0.94",
          "x": "Amount Women",
          "xref": "x",
          "y": "Total",
          "yref": "y"
         },
         {
          "font": {
           "color": "#FFFFFF"
          },
          "showarrow": false,
          "text": "0.64",
          "x": "Rank",
          "xref": "x",
          "y": "ShareWomen",
          "yref": "y"
         },
         {
          "font": {
           "color": "#FFFFFF"
          },
          "showarrow": false,
          "text": "0.26",
          "x": "Major_code",
          "xref": "x",
          "y": "ShareWomen",
          "yref": "y"
         },
         {
          "font": {
           "color": "#FFFFFF"
          },
          "showarrow": false,
          "text": "0.14",
          "x": "Total",
          "xref": "x",
          "y": "ShareWomen",
          "yref": "y"
         },
         {
          "font": {
           "color": "#FFFFFF"
          },
          "showarrow": false,
          "text": "1.0",
          "x": "ShareWomen",
          "xref": "x",
          "y": "ShareWomen",
          "yref": "y"
         },
         {
          "font": {
           "color": "#FFFFFF"
          },
          "showarrow": false,
          "text": "0.1",
          "x": "Sample_size",
          "xref": "x",
          "y": "ShareWomen",
          "yref": "y"
         },
         {
          "font": {
           "color": "#FFFFFF"
          },
          "showarrow": false,
          "text": "0.15",
          "x": "Employed",
          "xref": "x",
          "y": "ShareWomen",
          "yref": "y"
         },
         {
          "font": {
           "color": "#FFFFFF"
          },
          "showarrow": false,
          "text": "0.12",
          "x": "Full_time",
          "xref": "x",
          "y": "ShareWomen",
          "yref": "y"
         },
         {
          "font": {
           "color": "#FFFFFF"
          },
          "showarrow": false,
          "text": "0.21",
          "x": "Part_time",
          "xref": "x",
          "y": "ShareWomen",
          "yref": "y"
         },
         {
          "font": {
           "color": "#FFFFFF"
          },
          "showarrow": false,
          "text": "0.11",
          "x": "Full_time_year_round",
          "xref": "x",
          "y": "ShareWomen",
          "yref": "y"
         },
         {
          "font": {
           "color": "#FFFFFF"
          },
          "showarrow": false,
          "text": "0.12",
          "x": "Unemployed",
          "xref": "x",
          "y": "ShareWomen",
          "yref": "y"
         },
         {
          "font": {
           "color": "#FFFFFF"
          },
          "showarrow": false,
          "text": "0.07",
          "x": "Unemployment_rate",
          "xref": "x",
          "y": "ShareWomen",
          "yref": "y"
         },
         {
          "font": {
           "color": "#FFFFFF"
          },
          "showarrow": false,
          "text": "-0.62",
          "x": "Median",
          "xref": "x",
          "y": "ShareWomen",
          "yref": "y"
         },
         {
          "font": {
           "color": "#FFFFFF"
          },
          "showarrow": false,
          "text": "-0.5",
          "x": "P25th",
          "xref": "x",
          "y": "ShareWomen",
          "yref": "y"
         },
         {
          "font": {
           "color": "#FFFFFF"
          },
          "showarrow": false,
          "text": "-0.59",
          "x": "P75th",
          "xref": "x",
          "y": "ShareWomen",
          "yref": "y"
         },
         {
          "font": {
           "color": "#FFFFFF"
          },
          "showarrow": false,
          "text": "0.2",
          "x": "College_jobs",
          "xref": "x",
          "y": "ShareWomen",
          "yref": "y"
         },
         {
          "font": {
           "color": "#FFFFFF"
          },
          "showarrow": false,
          "text": "0.14",
          "x": "Non_college_jobs",
          "xref": "x",
          "y": "ShareWomen",
          "yref": "y"
         },
         {
          "font": {
           "color": "#FFFFFF"
          },
          "showarrow": false,
          "text": "0.19",
          "x": "Low_wage_jobs",
          "xref": "x",
          "y": "ShareWomen",
          "yref": "y"
         },
         {
          "font": {
           "color": "#FFFFFF"
          },
          "showarrow": false,
          "text": "-1.0",
          "x": "ShareMen",
          "xref": "x",
          "y": "ShareWomen",
          "yref": "y"
         },
         {
          "font": {
           "color": "#FFFFFF"
          },
          "showarrow": false,
          "text": "-0.11",
          "x": "Amount Men",
          "xref": "x",
          "y": "ShareWomen",
          "yref": "y"
         },
         {
          "font": {
           "color": "#FFFFFF"
          },
          "showarrow": false,
          "text": "0.3",
          "x": "Amount Women",
          "xref": "x",
          "y": "ShareWomen",
          "yref": "y"
         },
         {
          "font": {
           "color": "#FFFFFF"
          },
          "showarrow": false,
          "text": "0.0",
          "x": "Rank",
          "xref": "x",
          "y": "Sample_size",
          "yref": "y"
         },
         {
          "font": {
           "color": "#FFFFFF"
          },
          "showarrow": false,
          "text": "0.2",
          "x": "Major_code",
          "xref": "x",
          "y": "Sample_size",
          "yref": "y"
         },
         {
          "font": {
           "color": "#FFFFFF"
          },
          "showarrow": false,
          "text": "0.95",
          "x": "Total",
          "xref": "x",
          "y": "Sample_size",
          "yref": "y"
         },
         {
          "font": {
           "color": "#FFFFFF"
          },
          "showarrow": false,
          "text": "0.1",
          "x": "ShareWomen",
          "xref": "x",
          "y": "Sample_size",
          "yref": "y"
         },
         {
          "font": {
           "color": "#FFFFFF"
          },
          "showarrow": false,
          "text": "1.0",
          "x": "Sample_size",
          "xref": "x",
          "y": "Sample_size",
          "yref": "y"
         },
         {
          "font": {
           "color": "#FFFFFF"
          },
          "showarrow": false,
          "text": "0.96",
          "x": "Employed",
          "xref": "x",
          "y": "Sample_size",
          "yref": "y"
         },
         {
          "font": {
           "color": "#FFFFFF"
          },
          "showarrow": false,
          "text": "0.98",
          "x": "Full_time",
          "xref": "x",
          "y": "Sample_size",
          "yref": "y"
         },
         {
          "font": {
           "color": "#FFFFFF"
          },
          "showarrow": false,
          "text": "0.82",
          "x": "Part_time",
          "xref": "x",
          "y": "Sample_size",
          "yref": "y"
         },
         {
          "font": {
           "color": "#FFFFFF"
          },
          "showarrow": false,
          "text": "0.99",
          "x": "Full_time_year_round",
          "xref": "x",
          "y": "Sample_size",
          "yref": "y"
         },
         {
          "font": {
           "color": "#FFFFFF"
          },
          "showarrow": false,
          "text": "0.92",
          "x": "Unemployed",
          "xref": "x",
          "y": "Sample_size",
          "yref": "y"
         },
         {
          "font": {
           "color": "#FFFFFF"
          },
          "showarrow": false,
          "text": "0.06",
          "x": "Unemployment_rate",
          "xref": "x",
          "y": "Sample_size",
          "yref": "y"
         },
         {
          "font": {
           "color": "#FFFFFF"
          },
          "showarrow": false,
          "text": "-0.06",
          "x": "Median",
          "xref": "x",
          "y": "Sample_size",
          "yref": "y"
         },
         {
          "font": {
           "color": "#FFFFFF"
          },
          "showarrow": false,
          "text": "-0.02",
          "x": "P25th",
          "xref": "x",
          "y": "Sample_size",
          "yref": "y"
         },
         {
          "font": {
           "color": "#FFFFFF"
          },
          "showarrow": false,
          "text": "-0.05",
          "x": "P75th",
          "xref": "x",
          "y": "Sample_size",
          "yref": "y"
         },
         {
          "font": {
           "color": "#FFFFFF"
          },
          "showarrow": false,
          "text": "0.7",
          "x": "College_jobs",
          "xref": "x",
          "y": "Sample_size",
          "yref": "y"
         },
         {
          "font": {
           "color": "#FFFFFF"
          },
          "showarrow": false,
          "text": "0.92",
          "x": "Non_college_jobs",
          "xref": "x",
          "y": "Sample_size",
          "yref": "y"
         },
         {
          "font": {
           "color": "#FFFFFF"
          },
          "showarrow": false,
          "text": "0.86",
          "x": "Low_wage_jobs",
          "xref": "x",
          "y": "Sample_size",
          "yref": "y"
         },
         {
          "font": {
           "color": "#FFFFFF"
          },
          "showarrow": false,
          "text": "-0.1",
          "x": "ShareMen",
          "xref": "x",
          "y": "Sample_size",
          "yref": "y"
         },
         {
          "font": {
           "color": "#FFFFFF"
          },
          "showarrow": false,
          "text": "0.88",
          "x": "Amount Men",
          "xref": "x",
          "y": "Sample_size",
          "yref": "y"
         },
         {
          "font": {
           "color": "#FFFFFF"
          },
          "showarrow": false,
          "text": "0.86",
          "x": "Amount Women",
          "xref": "x",
          "y": "Sample_size",
          "yref": "y"
         },
         {
          "font": {
           "color": "#FFFFFF"
          },
          "showarrow": false,
          "text": "0.07",
          "x": "Rank",
          "xref": "x",
          "y": "Employed",
          "yref": "y"
         },
         {
          "font": {
           "color": "#FFFFFF"
          },
          "showarrow": false,
          "text": "0.2",
          "x": "Major_code",
          "xref": "x",
          "y": "Employed",
          "yref": "y"
         },
         {
          "font": {
           "color": "#FFFFFF"
          },
          "showarrow": false,
          "text": "1.0",
          "x": "Total",
          "xref": "x",
          "y": "Employed",
          "yref": "y"
         },
         {
          "font": {
           "color": "#FFFFFF"
          },
          "showarrow": false,
          "text": "0.15",
          "x": "ShareWomen",
          "xref": "x",
          "y": "Employed",
          "yref": "y"
         },
         {
          "font": {
           "color": "#FFFFFF"
          },
          "showarrow": false,
          "text": "0.96",
          "x": "Sample_size",
          "xref": "x",
          "y": "Employed",
          "yref": "y"
         },
         {
          "font": {
           "color": "#FFFFFF"
          },
          "showarrow": false,
          "text": "1.0",
          "x": "Employed",
          "xref": "x",
          "y": "Employed",
          "yref": "y"
         },
         {
          "font": {
           "color": "#FFFFFF"
          },
          "showarrow": false,
          "text": "1.0",
          "x": "Full_time",
          "xref": "x",
          "y": "Employed",
          "yref": "y"
         },
         {
          "font": {
           "color": "#FFFFFF"
          },
          "showarrow": false,
          "text": "0.93",
          "x": "Part_time",
          "xref": "x",
          "y": "Employed",
          "yref": "y"
         },
         {
          "font": {
           "color": "#FFFFFF"
          },
          "showarrow": false,
          "text": "0.99",
          "x": "Full_time_year_round",
          "xref": "x",
          "y": "Employed",
          "yref": "y"
         },
         {
          "font": {
           "color": "#FFFFFF"
          },
          "showarrow": false,
          "text": "0.97",
          "x": "Unemployed",
          "xref": "x",
          "y": "Employed",
          "yref": "y"
         },
         {
          "font": {
           "color": "#FFFFFF"
          },
          "showarrow": false,
          "text": "0.07",
          "x": "Unemployment_rate",
          "xref": "x",
          "y": "Employed",
          "yref": "y"
         },
         {
          "font": {
           "color": "#FFFFFF"
          },
          "showarrow": false,
          "text": "-0.1",
          "x": "Median",
          "xref": "x",
          "y": "Employed",
          "yref": "y"
         },
         {
          "font": {
           "color": "#FFFFFF"
          },
          "showarrow": false,
          "text": "-0.07",
          "x": "P25th",
          "xref": "x",
          "y": "Employed",
          "yref": "y"
         },
         {
          "font": {
           "color": "#FFFFFF"
          },
          "showarrow": false,
          "text": "-0.08",
          "x": "P75th",
          "xref": "x",
          "y": "Employed",
          "yref": "y"
         },
         {
          "font": {
           "color": "#FFFFFF"
          },
          "showarrow": false,
          "text": "0.8",
          "x": "College_jobs",
          "xref": "x",
          "y": "Employed",
          "yref": "y"
         },
         {
          "font": {
           "color": "#FFFFFF"
          },
          "showarrow": false,
          "text": "0.94",
          "x": "Non_college_jobs",
          "xref": "x",
          "y": "Employed",
          "yref": "y"
         },
         {
          "font": {
           "color": "#FFFFFF"
          },
          "showarrow": false,
          "text": "0.93",
          "x": "Low_wage_jobs",
          "xref": "x",
          "y": "Employed",
          "yref": "y"
         },
         {
          "font": {
           "color": "#FFFFFF"
          },
          "showarrow": false,
          "text": "-0.15",
          "x": "ShareMen",
          "xref": "x",
          "y": "Employed",
          "yref": "y"
         },
         {
          "font": {
           "color": "#FFFFFF"
          },
          "showarrow": false,
          "text": "0.87",
          "x": "Amount Men",
          "xref": "x",
          "y": "Employed",
          "yref": "y"
         },
         {
          "font": {
           "color": "#FFFFFF"
          },
          "showarrow": false,
          "text": "0.94",
          "x": "Amount Women",
          "xref": "x",
          "y": "Employed",
          "yref": "y"
         },
         {
          "font": {
           "color": "#FFFFFF"
          },
          "showarrow": false,
          "text": "0.03",
          "x": "Rank",
          "xref": "x",
          "y": "Full_time",
          "yref": "y"
         },
         {
          "font": {
           "color": "#FFFFFF"
          },
          "showarrow": false,
          "text": "0.2",
          "x": "Major_code",
          "xref": "x",
          "y": "Full_time",
          "yref": "y"
         },
         {
          "font": {
           "color": "#FFFFFF"
          },
          "showarrow": false,
          "text": "0.99",
          "x": "Total",
          "xref": "x",
          "y": "Full_time",
          "yref": "y"
         },
         {
          "font": {
           "color": "#FFFFFF"
          },
          "showarrow": false,
          "text": "0.12",
          "x": "ShareWomen",
          "xref": "x",
          "y": "Full_time",
          "yref": "y"
         },
         {
          "font": {
           "color": "#FFFFFF"
          },
          "showarrow": false,
          "text": "0.98",
          "x": "Sample_size",
          "xref": "x",
          "y": "Full_time",
          "yref": "y"
         },
         {
          "font": {
           "color": "#FFFFFF"
          },
          "showarrow": false,
          "text": "1.0",
          "x": "Employed",
          "xref": "x",
          "y": "Full_time",
          "yref": "y"
         },
         {
          "font": {
           "color": "#FFFFFF"
          },
          "showarrow": false,
          "text": "1.0",
          "x": "Full_time",
          "xref": "x",
          "y": "Full_time",
          "yref": "y"
         },
         {
          "font": {
           "color": "#FFFFFF"
          },
          "showarrow": false,
          "text": "0.9",
          "x": "Part_time",
          "xref": "x",
          "y": "Full_time",
          "yref": "y"
         },
         {
          "font": {
           "color": "#FFFFFF"
          },
          "showarrow": false,
          "text": "1.0",
          "x": "Full_time_year_round",
          "xref": "x",
          "y": "Full_time",
          "yref": "y"
         },
         {
          "font": {
           "color": "#FFFFFF"
          },
          "showarrow": false,
          "text": "0.96",
          "x": "Unemployed",
          "xref": "x",
          "y": "Full_time",
          "yref": "y"
         },
         {
          "font": {
           "color": "#FFFFFF"
          },
          "showarrow": false,
          "text": "0.07",
          "x": "Unemployment_rate",
          "xref": "x",
          "y": "Full_time",
          "yref": "y"
         },
         {
          "font": {
           "color": "#FFFFFF"
          },
          "showarrow": false,
          "text": "-0.08",
          "x": "Median",
          "xref": "x",
          "y": "Full_time",
          "yref": "y"
         },
         {
          "font": {
           "color": "#FFFFFF"
          },
          "showarrow": false,
          "text": "-0.04",
          "x": "P25th",
          "xref": "x",
          "y": "Full_time",
          "yref": "y"
         },
         {
          "font": {
           "color": "#FFFFFF"
          },
          "showarrow": false,
          "text": "-0.06",
          "x": "P75th",
          "xref": "x",
          "y": "Full_time",
          "yref": "y"
         },
         {
          "font": {
           "color": "#FFFFFF"
          },
          "showarrow": false,
          "text": "0.77",
          "x": "College_jobs",
          "xref": "x",
          "y": "Full_time",
          "yref": "y"
         },
         {
          "font": {
           "color": "#FFFFFF"
          },
          "showarrow": false,
          "text": "0.93",
          "x": "Non_college_jobs",
          "xref": "x",
          "y": "Full_time",
          "yref": "y"
         },
         {
          "font": {
           "color": "#FFFFFF"
          },
          "showarrow": false,
          "text": "0.9",
          "x": "Low_wage_jobs",
          "xref": "x",
          "y": "Full_time",
          "yref": "y"
         },
         {
          "font": {
           "color": "#FFFFFF"
          },
          "showarrow": false,
          "text": "-0.12",
          "x": "ShareMen",
          "xref": "x",
          "y": "Full_time",
          "yref": "y"
         },
         {
          "font": {
           "color": "#FFFFFF"
          },
          "showarrow": false,
          "text": "0.89",
          "x": "Amount Men",
          "xref": "x",
          "y": "Full_time",
          "yref": "y"
         },
         {
          "font": {
           "color": "#FFFFFF"
          },
          "showarrow": false,
          "text": "0.92",
          "x": "Amount Women",
          "xref": "x",
          "y": "Full_time",
          "yref": "y"
         },
         {
          "font": {
           "color": "#FFFFFF"
          },
          "showarrow": false,
          "text": "0.19",
          "x": "Rank",
          "xref": "x",
          "y": "Part_time",
          "yref": "y"
         },
         {
          "font": {
           "color": "#FFFFFF"
          },
          "showarrow": false,
          "text": "0.19",
          "x": "Major_code",
          "xref": "x",
          "y": "Part_time",
          "yref": "y"
         },
         {
          "font": {
           "color": "#FFFFFF"
          },
          "showarrow": false,
          "text": "0.95",
          "x": "Total",
          "xref": "x",
          "y": "Part_time",
          "yref": "y"
         },
         {
          "font": {
           "color": "#FFFFFF"
          },
          "showarrow": false,
          "text": "0.21",
          "x": "ShareWomen",
          "xref": "x",
          "y": "Part_time",
          "yref": "y"
         },
         {
          "font": {
           "color": "#FFFFFF"
          },
          "showarrow": false,
          "text": "0.82",
          "x": "Sample_size",
          "xref": "x",
          "y": "Part_time",
          "yref": "y"
         },
         {
          "font": {
           "color": "#FFFFFF"
          },
          "showarrow": false,
          "text": "0.93",
          "x": "Employed",
          "xref": "x",
          "y": "Part_time",
          "yref": "y"
         },
         {
          "font": {
           "color": "#FFFFFF"
          },
          "showarrow": false,
          "text": "0.9",
          "x": "Full_time",
          "xref": "x",
          "y": "Part_time",
          "yref": "y"
         },
         {
          "font": {
           "color": "#FFFFFF"
          },
          "showarrow": false,
          "text": "1.0",
          "x": "Part_time",
          "xref": "x",
          "y": "Part_time",
          "yref": "y"
         },
         {
          "font": {
           "color": "#FFFFFF"
          },
          "showarrow": false,
          "text": "0.88",
          "x": "Full_time_year_round",
          "xref": "x",
          "y": "Part_time",
          "yref": "y"
         },
         {
          "font": {
           "color": "#FFFFFF"
          },
          "showarrow": false,
          "text": "0.95",
          "x": "Unemployed",
          "xref": "x",
          "y": "Part_time",
          "yref": "y"
         },
         {
          "font": {
           "color": "#FFFFFF"
          },
          "showarrow": false,
          "text": "0.11",
          "x": "Unemployment_rate",
          "xref": "x",
          "y": "Part_time",
          "yref": "y"
         },
         {
          "font": {
           "color": "#FFFFFF"
          },
          "showarrow": false,
          "text": "-0.19",
          "x": "Median",
          "xref": "x",
          "y": "Part_time",
          "yref": "y"
         },
         {
          "font": {
           "color": "#FFFFFF"
          },
          "showarrow": false,
          "text": "-0.15",
          "x": "P25th",
          "xref": "x",
          "y": "Part_time",
          "yref": "y"
         },
         {
          "font": {
           "color": "#FFFFFF"
          },
          "showarrow": false,
          "text": "-0.16",
          "x": "P75th",
          "xref": "x",
          "y": "Part_time",
          "yref": "y"
         },
         {
          "font": {
           "color": "#FFFFFF"
          },
          "showarrow": false,
          "text": "0.8",
          "x": "College_jobs",
          "xref": "x",
          "y": "Part_time",
          "yref": "y"
         },
         {
          "font": {
           "color": "#FFFFFF"
          },
          "showarrow": false,
          "text": "0.91",
          "x": "Non_college_jobs",
          "xref": "x",
          "y": "Part_time",
          "yref": "y"
         },
         {
          "font": {
           "color": "#FFFFFF"
          },
          "showarrow": false,
          "text": "0.95",
          "x": "Low_wage_jobs",
          "xref": "x",
          "y": "Part_time",
          "yref": "y"
         },
         {
          "font": {
           "color": "#FFFFFF"
          },
          "showarrow": false,
          "text": "-0.21",
          "x": "ShareMen",
          "xref": "x",
          "y": "Part_time",
          "yref": "y"
         },
         {
          "font": {
           "color": "#FFFFFF"
          },
          "showarrow": false,
          "text": "0.75",
          "x": "Amount Men",
          "xref": "x",
          "y": "Part_time",
          "yref": "y"
         },
         {
          "font": {
           "color": "#FFFFFF"
          },
          "showarrow": false,
          "text": "0.95",
          "x": "Amount Women",
          "xref": "x",
          "y": "Part_time",
          "yref": "y"
         },
         {
          "font": {
           "color": "#FFFFFF"
          },
          "showarrow": false,
          "text": "0.02",
          "x": "Rank",
          "xref": "x",
          "y": "Full_time_year_round",
          "yref": "y"
         },
         {
          "font": {
           "color": "#FFFFFF"
          },
          "showarrow": false,
          "text": "0.2",
          "x": "Major_code",
          "xref": "x",
          "y": "Full_time_year_round",
          "yref": "y"
         },
         {
          "font": {
           "color": "#FFFFFF"
          },
          "showarrow": false,
          "text": "0.98",
          "x": "Total",
          "xref": "x",
          "y": "Full_time_year_round",
          "yref": "y"
         },
         {
          "font": {
           "color": "#FFFFFF"
          },
          "showarrow": false,
          "text": "0.11",
          "x": "ShareWomen",
          "xref": "x",
          "y": "Full_time_year_round",
          "yref": "y"
         },
         {
          "font": {
           "color": "#FFFFFF"
          },
          "showarrow": false,
          "text": "0.99",
          "x": "Sample_size",
          "xref": "x",
          "y": "Full_time_year_round",
          "yref": "y"
         },
         {
          "font": {
           "color": "#FFFFFF"
          },
          "showarrow": false,
          "text": "0.99",
          "x": "Employed",
          "xref": "x",
          "y": "Full_time_year_round",
          "yref": "y"
         },
         {
          "font": {
           "color": "#FFFFFF"
          },
          "showarrow": false,
          "text": "1.0",
          "x": "Full_time",
          "xref": "x",
          "y": "Full_time_year_round",
          "yref": "y"
         },
         {
          "font": {
           "color": "#FFFFFF"
          },
          "showarrow": false,
          "text": "0.88",
          "x": "Part_time",
          "xref": "x",
          "y": "Full_time_year_round",
          "yref": "y"
         },
         {
          "font": {
           "color": "#FFFFFF"
          },
          "showarrow": false,
          "text": "1.0",
          "x": "Full_time_year_round",
          "xref": "x",
          "y": "Full_time_year_round",
          "yref": "y"
         },
         {
          "font": {
           "color": "#FFFFFF"
          },
          "showarrow": false,
          "text": "0.95",
          "x": "Unemployed",
          "xref": "x",
          "y": "Full_time_year_round",
          "yref": "y"
         },
         {
          "font": {
           "color": "#FFFFFF"
          },
          "showarrow": false,
          "text": "0.06",
          "x": "Unemployment_rate",
          "xref": "x",
          "y": "Full_time_year_round",
          "yref": "y"
         },
         {
          "font": {
           "color": "#FFFFFF"
          },
          "showarrow": false,
          "text": "-0.07",
          "x": "Median",
          "xref": "x",
          "y": "Full_time_year_round",
          "yref": "y"
         },
         {
          "font": {
           "color": "#FFFFFF"
          },
          "showarrow": false,
          "text": "-0.03",
          "x": "P25th",
          "xref": "x",
          "y": "Full_time_year_round",
          "yref": "y"
         },
         {
          "font": {
           "color": "#FFFFFF"
          },
          "showarrow": false,
          "text": "-0.05",
          "x": "P75th",
          "xref": "x",
          "y": "Full_time_year_round",
          "yref": "y"
         },
         {
          "font": {
           "color": "#FFFFFF"
          },
          "showarrow": false,
          "text": "0.75",
          "x": "College_jobs",
          "xref": "x",
          "y": "Full_time_year_round",
          "yref": "y"
         },
         {
          "font": {
           "color": "#FFFFFF"
          },
          "showarrow": false,
          "text": "0.93",
          "x": "Non_college_jobs",
          "xref": "x",
          "y": "Full_time_year_round",
          "yref": "y"
         },
         {
          "font": {
           "color": "#FFFFFF"
          },
          "showarrow": false,
          "text": "0.89",
          "x": "Low_wage_jobs",
          "xref": "x",
          "y": "Full_time_year_round",
          "yref": "y"
         },
         {
          "font": {
           "color": "#FFFFFF"
          },
          "showarrow": false,
          "text": "-0.11",
          "x": "ShareMen",
          "xref": "x",
          "y": "Full_time_year_round",
          "yref": "y"
         },
         {
          "font": {
           "color": "#FFFFFF"
          },
          "showarrow": false,
          "text": "0.89",
          "x": "Amount Men",
          "xref": "x",
          "y": "Full_time_year_round",
          "yref": "y"
         },
         {
          "font": {
           "color": "#FFFFFF"
          },
          "showarrow": false,
          "text": "0.91",
          "x": "Amount Women",
          "xref": "x",
          "y": "Full_time_year_round",
          "yref": "y"
         },
         {
          "font": {
           "color": "#FFFFFF"
          },
          "showarrow": false,
          "text": "0.09",
          "x": "Rank",
          "xref": "x",
          "y": "Unemployed",
          "yref": "y"
         },
         {
          "font": {
           "color": "#FFFFFF"
          },
          "showarrow": false,
          "text": "0.22",
          "x": "Major_code",
          "xref": "x",
          "y": "Unemployed",
          "yref": "y"
         },
         {
          "font": {
           "color": "#FFFFFF"
          },
          "showarrow": false,
          "text": "0.97",
          "x": "Total",
          "xref": "x",
          "y": "Unemployed",
          "yref": "y"
         },
         {
          "font": {
           "color": "#FFFFFF"
          },
          "showarrow": false,
          "text": "0.12",
          "x": "ShareWomen",
          "xref": "x",
          "y": "Unemployed",
          "yref": "y"
         },
         {
          "font": {
           "color": "#FFFFFF"
          },
          "showarrow": false,
          "text": "0.92",
          "x": "Sample_size",
          "xref": "x",
          "y": "Unemployed",
          "yref": "y"
         },
         {
          "font": {
           "color": "#FFFFFF"
          },
          "showarrow": false,
          "text": "0.97",
          "x": "Employed",
          "xref": "x",
          "y": "Unemployed",
          "yref": "y"
         },
         {
          "font": {
           "color": "#FFFFFF"
          },
          "showarrow": false,
          "text": "0.96",
          "x": "Full_time",
          "xref": "x",
          "y": "Unemployed",
          "yref": "y"
         },
         {
          "font": {
           "color": "#FFFFFF"
          },
          "showarrow": false,
          "text": "0.95",
          "x": "Part_time",
          "xref": "x",
          "y": "Unemployed",
          "yref": "y"
         },
         {
          "font": {
           "color": "#FFFFFF"
          },
          "showarrow": false,
          "text": "0.95",
          "x": "Full_time_year_round",
          "xref": "x",
          "y": "Unemployed",
          "yref": "y"
         },
         {
          "font": {
           "color": "#FFFFFF"
          },
          "showarrow": false,
          "text": "1.0",
          "x": "Unemployed",
          "xref": "x",
          "y": "Unemployed",
          "yref": "y"
         },
         {
          "font": {
           "color": "#FFFFFF"
          },
          "showarrow": false,
          "text": "0.17",
          "x": "Unemployment_rate",
          "xref": "x",
          "y": "Unemployed",
          "yref": "y"
         },
         {
          "font": {
           "color": "#FFFFFF"
          },
          "showarrow": false,
          "text": "-0.12",
          "x": "Median",
          "xref": "x",
          "y": "Unemployed",
          "yref": "y"
         },
         {
          "font": {
           "color": "#FFFFFF"
          },
          "showarrow": false,
          "text": "-0.09",
          "x": "P25th",
          "xref": "x",
          "y": "Unemployed",
          "yref": "y"
         },
         {
          "font": {
           "color": "#FFFFFF"
          },
          "showarrow": false,
          "text": "-0.09",
          "x": "P75th",
          "xref": "x",
          "y": "Unemployed",
          "yref": "y"
         },
         {
          "font": {
           "color": "#FFFFFF"
          },
          "showarrow": false,
          "text": "0.71",
          "x": "College_jobs",
          "xref": "x",
          "y": "Unemployed",
          "yref": "y"
         },
         {
          "font": {
           "color": "#FFFFFF"
          },
          "showarrow": false,
          "text": "0.96",
          "x": "Non_college_jobs",
          "xref": "x",
          "y": "Unemployed",
          "yref": "y"
         },
         {
          "font": {
           "color": "#FFFFFF"
          },
          "showarrow": false,
          "text": "0.96",
          "x": "Low_wage_jobs",
          "xref": "x",
          "y": "Unemployed",
          "yref": "y"
         },
         {
          "font": {
           "color": "#FFFFFF"
          },
          "showarrow": false,
          "text": "-0.12",
          "x": "ShareMen",
          "xref": "x",
          "y": "Unemployed",
          "yref": "y"
         },
         {
          "font": {
           "color": "#FFFFFF"
          },
          "showarrow": false,
          "text": "0.87",
          "x": "Amount Men",
          "xref": "x",
          "y": "Unemployed",
          "yref": "y"
         },
         {
          "font": {
           "color": "#FFFFFF"
          },
          "showarrow": false,
          "text": "0.91",
          "x": "Amount Women",
          "xref": "x",
          "y": "Unemployed",
          "yref": "y"
         },
         {
          "font": {
           "color": "#FFFFFF"
          },
          "showarrow": false,
          "text": "0.08",
          "x": "Rank",
          "xref": "x",
          "y": "Unemployment_rate",
          "yref": "y"
         },
         {
          "font": {
           "color": "#FFFFFF"
          },
          "showarrow": false,
          "text": "0.14",
          "x": "Major_code",
          "xref": "x",
          "y": "Unemployment_rate",
          "yref": "y"
         },
         {
          "font": {
           "color": "#FFFFFF"
          },
          "showarrow": false,
          "text": "0.08",
          "x": "Total",
          "xref": "x",
          "y": "Unemployment_rate",
          "yref": "y"
         },
         {
          "font": {
           "color": "#FFFFFF"
          },
          "showarrow": false,
          "text": "0.07",
          "x": "ShareWomen",
          "xref": "x",
          "y": "Unemployment_rate",
          "yref": "y"
         },
         {
          "font": {
           "color": "#FFFFFF"
          },
          "showarrow": false,
          "text": "0.06",
          "x": "Sample_size",
          "xref": "x",
          "y": "Unemployment_rate",
          "yref": "y"
         },
         {
          "font": {
           "color": "#FFFFFF"
          },
          "showarrow": false,
          "text": "0.07",
          "x": "Employed",
          "xref": "x",
          "y": "Unemployment_rate",
          "yref": "y"
         },
         {
          "font": {
           "color": "#FFFFFF"
          },
          "showarrow": false,
          "text": "0.07",
          "x": "Full_time",
          "xref": "x",
          "y": "Unemployment_rate",
          "yref": "y"
         },
         {
          "font": {
           "color": "#FFFFFF"
          },
          "showarrow": false,
          "text": "0.11",
          "x": "Part_time",
          "xref": "x",
          "y": "Unemployment_rate",
          "yref": "y"
         },
         {
          "font": {
           "color": "#FFFFFF"
          },
          "showarrow": false,
          "text": "0.06",
          "x": "Full_time_year_round",
          "xref": "x",
          "y": "Unemployment_rate",
          "yref": "y"
         },
         {
          "font": {
           "color": "#FFFFFF"
          },
          "showarrow": false,
          "text": "0.17",
          "x": "Unemployed",
          "xref": "x",
          "y": "Unemployment_rate",
          "yref": "y"
         },
         {
          "font": {
           "color": "#FFFFFF"
          },
          "showarrow": false,
          "text": "1.0",
          "x": "Unemployment_rate",
          "xref": "x",
          "y": "Unemployment_rate",
          "yref": "y"
         },
         {
          "font": {
           "color": "#FFFFFF"
          },
          "showarrow": false,
          "text": "-0.12",
          "x": "Median",
          "xref": "x",
          "y": "Unemployment_rate",
          "yref": "y"
         },
         {
          "font": {
           "color": "#FFFFFF"
          },
          "showarrow": false,
          "text": "-0.1",
          "x": "P25th",
          "xref": "x",
          "y": "Unemployment_rate",
          "yref": "y"
         },
         {
          "font": {
           "color": "#FFFFFF"
          },
          "showarrow": false,
          "text": "-0.04",
          "x": "P75th",
          "xref": "x",
          "y": "Unemployment_rate",
          "yref": "y"
         },
         {
          "font": {
           "color": "#FFFFFF"
          },
          "showarrow": false,
          "text": "-0.01",
          "x": "College_jobs",
          "xref": "x",
          "y": "Unemployment_rate",
          "yref": "y"
         },
         {
          "font": {
           "color": "#FFFFFF"
          },
          "showarrow": false,
          "text": "0.12",
          "x": "Non_college_jobs",
          "xref": "x",
          "y": "Unemployment_rate",
          "yref": "y"
         },
         {
          "font": {
           "color": "#FFFFFF"
          },
          "showarrow": false,
          "text": "0.13",
          "x": "Low_wage_jobs",
          "xref": "x",
          "y": "Unemployment_rate",
          "yref": "y"
         },
         {
          "font": {
           "color": "#FFFFFF"
          },
          "showarrow": false,
          "text": "-0.07",
          "x": "ShareMen",
          "xref": "x",
          "y": "Unemployment_rate",
          "yref": "y"
         },
         {
          "font": {
           "color": "#FFFFFF"
          },
          "showarrow": false,
          "text": "0.1",
          "x": "Amount Men",
          "xref": "x",
          "y": "Unemployment_rate",
          "yref": "y"
         },
         {
          "font": {
           "color": "#FFFFFF"
          },
          "showarrow": false,
          "text": "0.06",
          "x": "Amount Women",
          "xref": "x",
          "y": "Unemployment_rate",
          "yref": "y"
         },
         {
          "font": {
           "color": "#FFFFFF"
          },
          "showarrow": false,
          "text": "-0.87",
          "x": "Rank",
          "xref": "x",
          "y": "Median",
          "yref": "y"
         },
         {
          "font": {
           "color": "#FFFFFF"
          },
          "showarrow": false,
          "text": "-0.17",
          "x": "Major_code",
          "xref": "x",
          "y": "Median",
          "yref": "y"
         },
         {
          "font": {
           "color": "#FFFFFF"
          },
          "showarrow": false,
          "text": "-0.11",
          "x": "Total",
          "xref": "x",
          "y": "Median",
          "yref": "y"
         },
         {
          "font": {
           "color": "#FFFFFF"
          },
          "showarrow": false,
          "text": "-0.62",
          "x": "ShareWomen",
          "xref": "x",
          "y": "Median",
          "yref": "y"
         },
         {
          "font": {
           "color": "#FFFFFF"
          },
          "showarrow": false,
          "text": "-0.06",
          "x": "Sample_size",
          "xref": "x",
          "y": "Median",
          "yref": "y"
         },
         {
          "font": {
           "color": "#FFFFFF"
          },
          "showarrow": false,
          "text": "-0.1",
          "x": "Employed",
          "xref": "x",
          "y": "Median",
          "yref": "y"
         },
         {
          "font": {
           "color": "#FFFFFF"
          },
          "showarrow": false,
          "text": "-0.08",
          "x": "Full_time",
          "xref": "x",
          "y": "Median",
          "yref": "y"
         },
         {
          "font": {
           "color": "#FFFFFF"
          },
          "showarrow": false,
          "text": "-0.19",
          "x": "Part_time",
          "xref": "x",
          "y": "Median",
          "yref": "y"
         },
         {
          "font": {
           "color": "#FFFFFF"
          },
          "showarrow": false,
          "text": "-0.07",
          "x": "Full_time_year_round",
          "xref": "x",
          "y": "Median",
          "yref": "y"
         },
         {
          "font": {
           "color": "#FFFFFF"
          },
          "showarrow": false,
          "text": "-0.12",
          "x": "Unemployed",
          "xref": "x",
          "y": "Median",
          "yref": "y"
         },
         {
          "font": {
           "color": "#FFFFFF"
          },
          "showarrow": false,
          "text": "-0.12",
          "x": "Unemployment_rate",
          "xref": "x",
          "y": "Median",
          "yref": "y"
         },
         {
          "font": {
           "color": "#FFFFFF"
          },
          "showarrow": false,
          "text": "1.0",
          "x": "Median",
          "xref": "x",
          "y": "Median",
          "yref": "y"
         },
         {
          "font": {
           "color": "#FFFFFF"
          },
          "showarrow": false,
          "text": "0.89",
          "x": "P25th",
          "xref": "x",
          "y": "Median",
          "yref": "y"
         },
         {
          "font": {
           "color": "#FFFFFF"
          },
          "showarrow": false,
          "text": "0.9",
          "x": "P75th",
          "xref": "x",
          "y": "Median",
          "yref": "y"
         },
         {
          "font": {
           "color": "#FFFFFF"
          },
          "showarrow": false,
          "text": "-0.05",
          "x": "College_jobs",
          "xref": "x",
          "y": "Median",
          "yref": "y"
         },
         {
          "font": {
           "color": "#FFFFFF"
          },
          "showarrow": false,
          "text": "-0.17",
          "x": "Non_college_jobs",
          "xref": "x",
          "y": "Median",
          "yref": "y"
         },
         {
          "font": {
           "color": "#FFFFFF"
          },
          "showarrow": false,
          "text": "-0.21",
          "x": "Low_wage_jobs",
          "xref": "x",
          "y": "Median",
          "yref": "y"
         },
         {
          "font": {
           "color": "#FFFFFF"
          },
          "showarrow": false,
          "text": "0.62",
          "x": "ShareMen",
          "xref": "x",
          "y": "Median",
          "yref": "y"
         },
         {
          "font": {
           "color": "#FFFFFF"
          },
          "showarrow": false,
          "text": "0.03",
          "x": "Amount Men",
          "xref": "x",
          "y": "Median",
          "yref": "y"
         },
         {
          "font": {
           "color": "#FFFFFF"
          },
          "showarrow": false,
          "text": "-0.18",
          "x": "Amount Women",
          "xref": "x",
          "y": "Median",
          "yref": "y"
         },
         {
          "font": {
           "color": "#FFFFFF"
          },
          "showarrow": false,
          "text": "-0.74",
          "x": "Rank",
          "xref": "x",
          "y": "P25th",
          "yref": "y"
         },
         {
          "font": {
           "color": "#FFFFFF"
          },
          "showarrow": false,
          "text": "-0.17",
          "x": "Major_code",
          "xref": "x",
          "y": "P25th",
          "yref": "y"
         },
         {
          "font": {
           "color": "#FFFFFF"
          },
          "showarrow": false,
          "text": "-0.07",
          "x": "Total",
          "xref": "x",
          "y": "P25th",
          "yref": "y"
         },
         {
          "font": {
           "color": "#FFFFFF"
          },
          "showarrow": false,
          "text": "-0.5",
          "x": "ShareWomen",
          "xref": "x",
          "y": "P25th",
          "yref": "y"
         },
         {
          "font": {
           "color": "#FFFFFF"
          },
          "showarrow": false,
          "text": "-0.02",
          "x": "Sample_size",
          "xref": "x",
          "y": "P25th",
          "yref": "y"
         },
         {
          "font": {
           "color": "#FFFFFF"
          },
          "showarrow": false,
          "text": "-0.07",
          "x": "Employed",
          "xref": "x",
          "y": "P25th",
          "yref": "y"
         },
         {
          "font": {
           "color": "#FFFFFF"
          },
          "showarrow": false,
          "text": "-0.04",
          "x": "Full_time",
          "xref": "x",
          "y": "P25th",
          "yref": "y"
         },
         {
          "font": {
           "color": "#FFFFFF"
          },
          "showarrow": false,
          "text": "-0.15",
          "x": "Part_time",
          "xref": "x",
          "y": "P25th",
          "yref": "y"
         },
         {
          "font": {
           "color": "#FFFFFF"
          },
          "showarrow": false,
          "text": "-0.03",
          "x": "Full_time_year_round",
          "xref": "x",
          "y": "P25th",
          "yref": "y"
         },
         {
          "font": {
           "color": "#FFFFFF"
          },
          "showarrow": false,
          "text": "-0.09",
          "x": "Unemployed",
          "xref": "x",
          "y": "P25th",
          "yref": "y"
         },
         {
          "font": {
           "color": "#FFFFFF"
          },
          "showarrow": false,
          "text": "-0.1",
          "x": "Unemployment_rate",
          "xref": "x",
          "y": "P25th",
          "yref": "y"
         },
         {
          "font": {
           "color": "#FFFFFF"
          },
          "showarrow": false,
          "text": "0.89",
          "x": "Median",
          "xref": "x",
          "y": "P25th",
          "yref": "y"
         },
         {
          "font": {
           "color": "#FFFFFF"
          },
          "showarrow": false,
          "text": "1.0",
          "x": "P25th",
          "xref": "x",
          "y": "P25th",
          "yref": "y"
         },
         {
          "font": {
           "color": "#FFFFFF"
          },
          "showarrow": false,
          "text": "0.74",
          "x": "P75th",
          "xref": "x",
          "y": "P25th",
          "yref": "y"
         },
         {
          "font": {
           "color": "#FFFFFF"
          },
          "showarrow": false,
          "text": "-0.01",
          "x": "College_jobs",
          "xref": "x",
          "y": "P25th",
          "yref": "y"
         },
         {
          "font": {
           "color": "#FFFFFF"
          },
          "showarrow": false,
          "text": "-0.14",
          "x": "Non_college_jobs",
          "xref": "x",
          "y": "P25th",
          "yref": "y"
         },
         {
          "font": {
           "color": "#FFFFFF"
          },
          "showarrow": false,
          "text": "-0.17",
          "x": "Low_wage_jobs",
          "xref": "x",
          "y": "P25th",
          "yref": "y"
         },
         {
          "font": {
           "color": "#FFFFFF"
          },
          "showarrow": false,
          "text": "0.5",
          "x": "ShareMen",
          "xref": "x",
          "y": "P25th",
          "yref": "y"
         },
         {
          "font": {
           "color": "#FFFFFF"
          },
          "showarrow": false,
          "text": "0.04",
          "x": "Amount Men",
          "xref": "x",
          "y": "P25th",
          "yref": "y"
         },
         {
          "font": {
           "color": "#FFFFFF"
          },
          "showarrow": false,
          "text": "-0.14",
          "x": "Amount Women",
          "xref": "x",
          "y": "P25th",
          "yref": "y"
         },
         {
          "font": {
           "color": "#FFFFFF"
          },
          "showarrow": false,
          "text": "-0.8",
          "x": "Rank",
          "xref": "x",
          "y": "P75th",
          "yref": "y"
         },
         {
          "font": {
           "color": "#FFFFFF"
          },
          "showarrow": false,
          "text": "-0.08",
          "x": "Major_code",
          "xref": "x",
          "y": "P75th",
          "yref": "y"
         },
         {
          "font": {
           "color": "#FFFFFF"
          },
          "showarrow": false,
          "text": "-0.08",
          "x": "Total",
          "xref": "x",
          "y": "P75th",
          "yref": "y"
         },
         {
          "font": {
           "color": "#FFFFFF"
          },
          "showarrow": false,
          "text": "-0.59",
          "x": "ShareWomen",
          "xref": "x",
          "y": "P75th",
          "yref": "y"
         },
         {
          "font": {
           "color": "#FFFFFF"
          },
          "showarrow": false,
          "text": "-0.05",
          "x": "Sample_size",
          "xref": "x",
          "y": "P75th",
          "yref": "y"
         },
         {
          "font": {
           "color": "#FFFFFF"
          },
          "showarrow": false,
          "text": "-0.08",
          "x": "Employed",
          "xref": "x",
          "y": "P75th",
          "yref": "y"
         },
         {
          "font": {
           "color": "#FFFFFF"
          },
          "showarrow": false,
          "text": "-0.06",
          "x": "Full_time",
          "xref": "x",
          "y": "P75th",
          "yref": "y"
         },
         {
          "font": {
           "color": "#FFFFFF"
          },
          "showarrow": false,
          "text": "-0.16",
          "x": "Part_time",
          "xref": "x",
          "y": "P75th",
          "yref": "y"
         },
         {
          "font": {
           "color": "#FFFFFF"
          },
          "showarrow": false,
          "text": "-0.05",
          "x": "Full_time_year_round",
          "xref": "x",
          "y": "P75th",
          "yref": "y"
         },
         {
          "font": {
           "color": "#FFFFFF"
          },
          "showarrow": false,
          "text": "-0.09",
          "x": "Unemployed",
          "xref": "x",
          "y": "P75th",
          "yref": "y"
         },
         {
          "font": {
           "color": "#FFFFFF"
          },
          "showarrow": false,
          "text": "-0.04",
          "x": "Unemployment_rate",
          "xref": "x",
          "y": "P75th",
          "yref": "y"
         },
         {
          "font": {
           "color": "#FFFFFF"
          },
          "showarrow": false,
          "text": "0.9",
          "x": "Median",
          "xref": "x",
          "y": "P75th",
          "yref": "y"
         },
         {
          "font": {
           "color": "#FFFFFF"
          },
          "showarrow": false,
          "text": "0.74",
          "x": "P25th",
          "xref": "x",
          "y": "P75th",
          "yref": "y"
         },
         {
          "font": {
           "color": "#FFFFFF"
          },
          "showarrow": false,
          "text": "1.0",
          "x": "P75th",
          "xref": "x",
          "y": "P75th",
          "yref": "y"
         },
         {
          "font": {
           "color": "#FFFFFF"
          },
          "showarrow": false,
          "text": "-0.05",
          "x": "College_jobs",
          "xref": "x",
          "y": "P75th",
          "yref": "y"
         },
         {
          "font": {
           "color": "#FFFFFF"
          },
          "showarrow": false,
          "text": "-0.14",
          "x": "Non_college_jobs",
          "xref": "x",
          "y": "P75th",
          "yref": "y"
         },
         {
          "font": {
           "color": "#FFFFFF"
          },
          "showarrow": false,
          "text": "-0.17",
          "x": "Low_wage_jobs",
          "xref": "x",
          "y": "P75th",
          "yref": "y"
         },
         {
          "font": {
           "color": "#FFFFFF"
          },
          "showarrow": false,
          "text": "0.59",
          "x": "ShareMen",
          "xref": "x",
          "y": "P75th",
          "yref": "y"
         },
         {
          "font": {
           "color": "#FFFFFF"
          },
          "showarrow": false,
          "text": "0.05",
          "x": "Amount Men",
          "xref": "x",
          "y": "P75th",
          "yref": "y"
         },
         {
          "font": {
           "color": "#FFFFFF"
          },
          "showarrow": false,
          "text": "-0.16",
          "x": "Amount Women",
          "xref": "x",
          "y": "P75th",
          "yref": "y"
         },
         {
          "font": {
           "color": "#FFFFFF"
          },
          "showarrow": false,
          "text": "0.05",
          "x": "Rank",
          "xref": "x",
          "y": "College_jobs",
          "yref": "y"
         },
         {
          "font": {
           "color": "#FFFFFF"
          },
          "showarrow": false,
          "text": "0.04",
          "x": "Major_code",
          "xref": "x",
          "y": "College_jobs",
          "yref": "y"
         },
         {
          "font": {
           "color": "#FFFFFF"
          },
          "showarrow": false,
          "text": "0.8",
          "x": "Total",
          "xref": "x",
          "y": "College_jobs",
          "yref": "y"
         },
         {
          "font": {
           "color": "#FFFFFF"
          },
          "showarrow": false,
          "text": "0.2",
          "x": "ShareWomen",
          "xref": "x",
          "y": "College_jobs",
          "yref": "y"
         },
         {
          "font": {
           "color": "#FFFFFF"
          },
          "showarrow": false,
          "text": "0.7",
          "x": "Sample_size",
          "xref": "x",
          "y": "College_jobs",
          "yref": "y"
         },
         {
          "font": {
           "color": "#FFFFFF"
          },
          "showarrow": false,
          "text": "0.8",
          "x": "Employed",
          "xref": "x",
          "y": "College_jobs",
          "yref": "y"
         },
         {
          "font": {
           "color": "#FFFFFF"
          },
          "showarrow": false,
          "text": "0.77",
          "x": "Full_time",
          "xref": "x",
          "y": "College_jobs",
          "yref": "y"
         },
         {
          "font": {
           "color": "#FFFFFF"
          },
          "showarrow": false,
          "text": "0.8",
          "x": "Part_time",
          "xref": "x",
          "y": "College_jobs",
          "yref": "y"
         },
         {
          "font": {
           "color": "#FFFFFF"
          },
          "showarrow": false,
          "text": "0.75",
          "x": "Full_time_year_round",
          "xref": "x",
          "y": "College_jobs",
          "yref": "y"
         },
         {
          "font": {
           "color": "#FFFFFF"
          },
          "showarrow": false,
          "text": "0.71",
          "x": "Unemployed",
          "xref": "x",
          "y": "College_jobs",
          "yref": "y"
         },
         {
          "font": {
           "color": "#FFFFFF"
          },
          "showarrow": false,
          "text": "-0.01",
          "x": "Unemployment_rate",
          "xref": "x",
          "y": "College_jobs",
          "yref": "y"
         },
         {
          "font": {
           "color": "#FFFFFF"
          },
          "showarrow": false,
          "text": "-0.05",
          "x": "Median",
          "xref": "x",
          "y": "College_jobs",
          "yref": "y"
         },
         {
          "font": {
           "color": "#FFFFFF"
          },
          "showarrow": false,
          "text": "-0.01",
          "x": "P25th",
          "xref": "x",
          "y": "College_jobs",
          "yref": "y"
         },
         {
          "font": {
           "color": "#FFFFFF"
          },
          "showarrow": false,
          "text": "-0.05",
          "x": "P75th",
          "xref": "x",
          "y": "College_jobs",
          "yref": "y"
         },
         {
          "font": {
           "color": "#FFFFFF"
          },
          "showarrow": false,
          "text": "1.0",
          "x": "College_jobs",
          "xref": "x",
          "y": "College_jobs",
          "yref": "y"
         },
         {
          "font": {
           "color": "#FFFFFF"
          },
          "showarrow": false,
          "text": "0.61",
          "x": "Non_college_jobs",
          "xref": "x",
          "y": "College_jobs",
          "yref": "y"
         },
         {
          "font": {
           "color": "#FFFFFF"
          },
          "showarrow": false,
          "text": "0.65",
          "x": "Low_wage_jobs",
          "xref": "x",
          "y": "College_jobs",
          "yref": "y"
         },
         {
          "font": {
           "color": "#FFFFFF"
          },
          "showarrow": false,
          "text": "-0.2",
          "x": "ShareMen",
          "xref": "x",
          "y": "College_jobs",
          "yref": "y"
         },
         {
          "font": {
           "color": "#FFFFFF"
          },
          "showarrow": false,
          "text": "0.56",
          "x": "Amount Men",
          "xref": "x",
          "y": "College_jobs",
          "yref": "y"
         },
         {
          "font": {
           "color": "#FFFFFF"
          },
          "showarrow": false,
          "text": "0.85",
          "x": "Amount Women",
          "xref": "x",
          "y": "College_jobs",
          "yref": "y"
         },
         {
          "font": {
           "color": "#FFFFFF"
          },
          "showarrow": false,
          "text": "0.14",
          "x": "Rank",
          "xref": "x",
          "y": "Non_college_jobs",
          "yref": "y"
         },
         {
          "font": {
           "color": "#FFFFFF"
          },
          "showarrow": false,
          "text": "0.23",
          "x": "Major_code",
          "xref": "x",
          "y": "Non_college_jobs",
          "yref": "y"
         },
         {
          "font": {
           "color": "#FFFFFF"
          },
          "showarrow": false,
          "text": "0.94",
          "x": "Total",
          "xref": "x",
          "y": "Non_college_jobs",
          "yref": "y"
         },
         {
          "font": {
           "color": "#FFFFFF"
          },
          "showarrow": false,
          "text": "0.14",
          "x": "ShareWomen",
          "xref": "x",
          "y": "Non_college_jobs",
          "yref": "y"
         },
         {
          "font": {
           "color": "#FFFFFF"
          },
          "showarrow": false,
          "text": "0.92",
          "x": "Sample_size",
          "xref": "x",
          "y": "Non_college_jobs",
          "yref": "y"
         },
         {
          "font": {
           "color": "#FFFFFF"
          },
          "showarrow": false,
          "text": "0.94",
          "x": "Employed",
          "xref": "x",
          "y": "Non_college_jobs",
          "yref": "y"
         },
         {
          "font": {
           "color": "#FFFFFF"
          },
          "showarrow": false,
          "text": "0.93",
          "x": "Full_time",
          "xref": "x",
          "y": "Non_college_jobs",
          "yref": "y"
         },
         {
          "font": {
           "color": "#FFFFFF"
          },
          "showarrow": false,
          "text": "0.91",
          "x": "Part_time",
          "xref": "x",
          "y": "Non_college_jobs",
          "yref": "y"
         },
         {
          "font": {
           "color": "#FFFFFF"
          },
          "showarrow": false,
          "text": "0.93",
          "x": "Full_time_year_round",
          "xref": "x",
          "y": "Non_college_jobs",
          "yref": "y"
         },
         {
          "font": {
           "color": "#FFFFFF"
          },
          "showarrow": false,
          "text": "0.96",
          "x": "Unemployed",
          "xref": "x",
          "y": "Non_college_jobs",
          "yref": "y"
         },
         {
          "font": {
           "color": "#FFFFFF"
          },
          "showarrow": false,
          "text": "0.12",
          "x": "Unemployment_rate",
          "xref": "x",
          "y": "Non_college_jobs",
          "yref": "y"
         },
         {
          "font": {
           "color": "#FFFFFF"
          },
          "showarrow": false,
          "text": "-0.17",
          "x": "Median",
          "xref": "x",
          "y": "Non_college_jobs",
          "yref": "y"
         },
         {
          "font": {
           "color": "#FFFFFF"
          },
          "showarrow": false,
          "text": "-0.14",
          "x": "P25th",
          "xref": "x",
          "y": "Non_college_jobs",
          "yref": "y"
         },
         {
          "font": {
           "color": "#FFFFFF"
          },
          "showarrow": false,
          "text": "-0.14",
          "x": "P75th",
          "xref": "x",
          "y": "Non_college_jobs",
          "yref": "y"
         },
         {
          "font": {
           "color": "#FFFFFF"
          },
          "showarrow": false,
          "text": "0.61",
          "x": "College_jobs",
          "xref": "x",
          "y": "Non_college_jobs",
          "yref": "y"
         },
         {
          "font": {
           "color": "#FFFFFF"
          },
          "showarrow": false,
          "text": "1.0",
          "x": "Non_college_jobs",
          "xref": "x",
          "y": "Non_college_jobs",
          "yref": "y"
         },
         {
          "font": {
           "color": "#FFFFFF"
          },
          "showarrow": false,
          "text": "0.98",
          "x": "Low_wage_jobs",
          "xref": "x",
          "y": "Non_college_jobs",
          "yref": "y"
         },
         {
          "font": {
           "color": "#FFFFFF"
          },
          "showarrow": false,
          "text": "-0.14",
          "x": "ShareMen",
          "xref": "x",
          "y": "Non_college_jobs",
          "yref": "y"
         },
         {
          "font": {
           "color": "#FFFFFF"
          },
          "showarrow": false,
          "text": "0.85",
          "x": "Amount Men",
          "xref": "x",
          "y": "Non_college_jobs",
          "yref": "y"
         },
         {
          "font": {
           "color": "#FFFFFF"
          },
          "showarrow": false,
          "text": "0.87",
          "x": "Amount Women",
          "xref": "x",
          "y": "Non_college_jobs",
          "yref": "y"
         },
         {
          "font": {
           "color": "#FFFFFF"
          },
          "showarrow": false,
          "text": "0.2",
          "x": "Rank",
          "xref": "x",
          "y": "Low_wage_jobs",
          "yref": "y"
         },
         {
          "font": {
           "color": "#FFFFFF"
          },
          "showarrow": false,
          "text": "0.22",
          "x": "Major_code",
          "xref": "x",
          "y": "Low_wage_jobs",
          "yref": "y"
         },
         {
          "font": {
           "color": "#FFFFFF"
          },
          "showarrow": false,
          "text": "0.94",
          "x": "Total",
          "xref": "x",
          "y": "Low_wage_jobs",
          "yref": "y"
         },
         {
          "font": {
           "color": "#FFFFFF"
          },
          "showarrow": false,
          "text": "0.19",
          "x": "ShareWomen",
          "xref": "x",
          "y": "Low_wage_jobs",
          "yref": "y"
         },
         {
          "font": {
           "color": "#FFFFFF"
          },
          "showarrow": false,
          "text": "0.86",
          "x": "Sample_size",
          "xref": "x",
          "y": "Low_wage_jobs",
          "yref": "y"
         },
         {
          "font": {
           "color": "#FFFFFF"
          },
          "showarrow": false,
          "text": "0.93",
          "x": "Employed",
          "xref": "x",
          "y": "Low_wage_jobs",
          "yref": "y"
         },
         {
          "font": {
           "color": "#FFFFFF"
          },
          "showarrow": false,
          "text": "0.9",
          "x": "Full_time",
          "xref": "x",
          "y": "Low_wage_jobs",
          "yref": "y"
         },
         {
          "font": {
           "color": "#FFFFFF"
          },
          "showarrow": false,
          "text": "0.95",
          "x": "Part_time",
          "xref": "x",
          "y": "Low_wage_jobs",
          "yref": "y"
         },
         {
          "font": {
           "color": "#FFFFFF"
          },
          "showarrow": false,
          "text": "0.89",
          "x": "Full_time_year_round",
          "xref": "x",
          "y": "Low_wage_jobs",
          "yref": "y"
         },
         {
          "font": {
           "color": "#FFFFFF"
          },
          "showarrow": false,
          "text": "0.96",
          "x": "Unemployed",
          "xref": "x",
          "y": "Low_wage_jobs",
          "yref": "y"
         },
         {
          "font": {
           "color": "#FFFFFF"
          },
          "showarrow": false,
          "text": "0.13",
          "x": "Unemployment_rate",
          "xref": "x",
          "y": "Low_wage_jobs",
          "yref": "y"
         },
         {
          "font": {
           "color": "#FFFFFF"
          },
          "showarrow": false,
          "text": "-0.21",
          "x": "Median",
          "xref": "x",
          "y": "Low_wage_jobs",
          "yref": "y"
         },
         {
          "font": {
           "color": "#FFFFFF"
          },
          "showarrow": false,
          "text": "-0.17",
          "x": "P25th",
          "xref": "x",
          "y": "Low_wage_jobs",
          "yref": "y"
         },
         {
          "font": {
           "color": "#FFFFFF"
          },
          "showarrow": false,
          "text": "-0.17",
          "x": "P75th",
          "xref": "x",
          "y": "Low_wage_jobs",
          "yref": "y"
         },
         {
          "font": {
           "color": "#FFFFFF"
          },
          "showarrow": false,
          "text": "0.65",
          "x": "College_jobs",
          "xref": "x",
          "y": "Low_wage_jobs",
          "yref": "y"
         },
         {
          "font": {
           "color": "#FFFFFF"
          },
          "showarrow": false,
          "text": "0.98",
          "x": "Non_college_jobs",
          "xref": "x",
          "y": "Low_wage_jobs",
          "yref": "y"
         },
         {
          "font": {
           "color": "#FFFFFF"
          },
          "showarrow": false,
          "text": "1.0",
          "x": "Low_wage_jobs",
          "xref": "x",
          "y": "Low_wage_jobs",
          "yref": "y"
         },
         {
          "font": {
           "color": "#FFFFFF"
          },
          "showarrow": false,
          "text": "-0.19",
          "x": "ShareMen",
          "xref": "x",
          "y": "Low_wage_jobs",
          "yref": "y"
         },
         {
          "font": {
           "color": "#FFFFFF"
          },
          "showarrow": false,
          "text": "0.79",
          "x": "Amount Men",
          "xref": "x",
          "y": "Low_wage_jobs",
          "yref": "y"
         },
         {
          "font": {
           "color": "#FFFFFF"
          },
          "showarrow": false,
          "text": "0.9",
          "x": "Amount Women",
          "xref": "x",
          "y": "Low_wage_jobs",
          "yref": "y"
         },
         {
          "font": {
           "color": "#FFFFFF"
          },
          "showarrow": false,
          "text": "-0.64",
          "x": "Rank",
          "xref": "x",
          "y": "ShareMen",
          "yref": "y"
         },
         {
          "font": {
           "color": "#FFFFFF"
          },
          "showarrow": false,
          "text": "-0.26",
          "x": "Major_code",
          "xref": "x",
          "y": "ShareMen",
          "yref": "y"
         },
         {
          "font": {
           "color": "#FFFFFF"
          },
          "showarrow": false,
          "text": "-0.14",
          "x": "Total",
          "xref": "x",
          "y": "ShareMen",
          "yref": "y"
         },
         {
          "font": {
           "color": "#FFFFFF"
          },
          "showarrow": false,
          "text": "-1.0",
          "x": "ShareWomen",
          "xref": "x",
          "y": "ShareMen",
          "yref": "y"
         },
         {
          "font": {
           "color": "#FFFFFF"
          },
          "showarrow": false,
          "text": "-0.1",
          "x": "Sample_size",
          "xref": "x",
          "y": "ShareMen",
          "yref": "y"
         },
         {
          "font": {
           "color": "#FFFFFF"
          },
          "showarrow": false,
          "text": "-0.15",
          "x": "Employed",
          "xref": "x",
          "y": "ShareMen",
          "yref": "y"
         },
         {
          "font": {
           "color": "#FFFFFF"
          },
          "showarrow": false,
          "text": "-0.12",
          "x": "Full_time",
          "xref": "x",
          "y": "ShareMen",
          "yref": "y"
         },
         {
          "font": {
           "color": "#FFFFFF"
          },
          "showarrow": false,
          "text": "-0.21",
          "x": "Part_time",
          "xref": "x",
          "y": "ShareMen",
          "yref": "y"
         },
         {
          "font": {
           "color": "#FFFFFF"
          },
          "showarrow": false,
          "text": "-0.11",
          "x": "Full_time_year_round",
          "xref": "x",
          "y": "ShareMen",
          "yref": "y"
         },
         {
          "font": {
           "color": "#FFFFFF"
          },
          "showarrow": false,
          "text": "-0.12",
          "x": "Unemployed",
          "xref": "x",
          "y": "ShareMen",
          "yref": "y"
         },
         {
          "font": {
           "color": "#FFFFFF"
          },
          "showarrow": false,
          "text": "-0.07",
          "x": "Unemployment_rate",
          "xref": "x",
          "y": "ShareMen",
          "yref": "y"
         },
         {
          "font": {
           "color": "#FFFFFF"
          },
          "showarrow": false,
          "text": "0.62",
          "x": "Median",
          "xref": "x",
          "y": "ShareMen",
          "yref": "y"
         },
         {
          "font": {
           "color": "#FFFFFF"
          },
          "showarrow": false,
          "text": "0.5",
          "x": "P25th",
          "xref": "x",
          "y": "ShareMen",
          "yref": "y"
         },
         {
          "font": {
           "color": "#FFFFFF"
          },
          "showarrow": false,
          "text": "0.59",
          "x": "P75th",
          "xref": "x",
          "y": "ShareMen",
          "yref": "y"
         },
         {
          "font": {
           "color": "#FFFFFF"
          },
          "showarrow": false,
          "text": "-0.2",
          "x": "College_jobs",
          "xref": "x",
          "y": "ShareMen",
          "yref": "y"
         },
         {
          "font": {
           "color": "#FFFFFF"
          },
          "showarrow": false,
          "text": "-0.14",
          "x": "Non_college_jobs",
          "xref": "x",
          "y": "ShareMen",
          "yref": "y"
         },
         {
          "font": {
           "color": "#FFFFFF"
          },
          "showarrow": false,
          "text": "-0.19",
          "x": "Low_wage_jobs",
          "xref": "x",
          "y": "ShareMen",
          "yref": "y"
         },
         {
          "font": {
           "color": "#FFFFFF"
          },
          "showarrow": false,
          "text": "1.0",
          "x": "ShareMen",
          "xref": "x",
          "y": "ShareMen",
          "yref": "y"
         },
         {
          "font": {
           "color": "#FFFFFF"
          },
          "showarrow": false,
          "text": "0.11",
          "x": "Amount Men",
          "xref": "x",
          "y": "ShareMen",
          "yref": "y"
         },
         {
          "font": {
           "color": "#FFFFFF"
          },
          "showarrow": false,
          "text": "-0.3",
          "x": "Amount Women",
          "xref": "x",
          "y": "ShareMen",
          "yref": "y"
         },
         {
          "font": {
           "color": "#FFFFFF"
          },
          "showarrow": false,
          "text": "-0.09",
          "x": "Rank",
          "xref": "x",
          "y": "Amount Men",
          "yref": "y"
         },
         {
          "font": {
           "color": "#FFFFFF"
          },
          "showarrow": false,
          "text": "0.18",
          "x": "Major_code",
          "xref": "x",
          "y": "Amount Men",
          "yref": "y"
         },
         {
          "font": {
           "color": "#FFFFFF"
          },
          "showarrow": false,
          "text": "0.88",
          "x": "Total",
          "xref": "x",
          "y": "Amount Men",
          "yref": "y"
         },
         {
          "font": {
           "color": "#FFFFFF"
          },
          "showarrow": false,
          "text": "-0.11",
          "x": "ShareWomen",
          "xref": "x",
          "y": "Amount Men",
          "yref": "y"
         },
         {
          "font": {
           "color": "#FFFFFF"
          },
          "showarrow": false,
          "text": "0.88",
          "x": "Sample_size",
          "xref": "x",
          "y": "Amount Men",
          "yref": "y"
         },
         {
          "font": {
           "color": "#FFFFFF"
          },
          "showarrow": false,
          "text": "0.87",
          "x": "Employed",
          "xref": "x",
          "y": "Amount Men",
          "yref": "y"
         },
         {
          "font": {
           "color": "#FFFFFF"
          },
          "showarrow": false,
          "text": "0.89",
          "x": "Full_time",
          "xref": "x",
          "y": "Amount Men",
          "yref": "y"
         },
         {
          "font": {
           "color": "#FFFFFF"
          },
          "showarrow": false,
          "text": "0.75",
          "x": "Part_time",
          "xref": "x",
          "y": "Amount Men",
          "yref": "y"
         },
         {
          "font": {
           "color": "#FFFFFF"
          },
          "showarrow": false,
          "text": "0.89",
          "x": "Full_time_year_round",
          "xref": "x",
          "y": "Amount Men",
          "yref": "y"
         },
         {
          "font": {
           "color": "#FFFFFF"
          },
          "showarrow": false,
          "text": "0.87",
          "x": "Unemployed",
          "xref": "x",
          "y": "Amount Men",
          "yref": "y"
         },
         {
          "font": {
           "color": "#FFFFFF"
          },
          "showarrow": false,
          "text": "0.1",
          "x": "Unemployment_rate",
          "xref": "x",
          "y": "Amount Men",
          "yref": "y"
         },
         {
          "font": {
           "color": "#FFFFFF"
          },
          "showarrow": false,
          "text": "0.03",
          "x": "Median",
          "xref": "x",
          "y": "Amount Men",
          "yref": "y"
         },
         {
          "font": {
           "color": "#FFFFFF"
          },
          "showarrow": false,
          "text": "0.04",
          "x": "P25th",
          "xref": "x",
          "y": "Amount Men",
          "yref": "y"
         },
         {
          "font": {
           "color": "#FFFFFF"
          },
          "showarrow": false,
          "text": "0.05",
          "x": "P75th",
          "xref": "x",
          "y": "Amount Men",
          "yref": "y"
         },
         {
          "font": {
           "color": "#FFFFFF"
          },
          "showarrow": false,
          "text": "0.56",
          "x": "College_jobs",
          "xref": "x",
          "y": "Amount Men",
          "yref": "y"
         },
         {
          "font": {
           "color": "#FFFFFF"
          },
          "showarrow": false,
          "text": "0.85",
          "x": "Non_college_jobs",
          "xref": "x",
          "y": "Amount Men",
          "yref": "y"
         },
         {
          "font": {
           "color": "#FFFFFF"
          },
          "showarrow": false,
          "text": "0.79",
          "x": "Low_wage_jobs",
          "xref": "x",
          "y": "Amount Men",
          "yref": "y"
         },
         {
          "font": {
           "color": "#FFFFFF"
          },
          "showarrow": false,
          "text": "0.11",
          "x": "ShareMen",
          "xref": "x",
          "y": "Amount Men",
          "yref": "y"
         },
         {
          "font": {
           "color": "#FFFFFF"
          },
          "showarrow": false,
          "text": "1.0",
          "x": "Amount Men",
          "xref": "x",
          "y": "Amount Men",
          "yref": "y"
         },
         {
          "font": {
           "color": "#FFFFFF"
          },
          "showarrow": false,
          "text": "0.67",
          "x": "Amount Women",
          "xref": "x",
          "y": "Amount Men",
          "yref": "y"
         },
         {
          "font": {
           "color": "#FFFFFF"
          },
          "showarrow": false,
          "text": "0.17",
          "x": "Rank",
          "xref": "x",
          "y": "Amount Women",
          "yref": "y"
         },
         {
          "font": {
           "color": "#FFFFFF"
          },
          "showarrow": false,
          "text": "0.18",
          "x": "Major_code",
          "xref": "x",
          "y": "Amount Women",
          "yref": "y"
         },
         {
          "font": {
           "color": "#FFFFFF"
          },
          "showarrow": false,
          "text": "0.94",
          "x": "Total",
          "xref": "x",
          "y": "Amount Women",
          "yref": "y"
         },
         {
          "font": {
           "color": "#FFFFFF"
          },
          "showarrow": false,
          "text": "0.3",
          "x": "ShareWomen",
          "xref": "x",
          "y": "Amount Women",
          "yref": "y"
         },
         {
          "font": {
           "color": "#FFFFFF"
          },
          "showarrow": false,
          "text": "0.86",
          "x": "Sample_size",
          "xref": "x",
          "y": "Amount Women",
          "yref": "y"
         },
         {
          "font": {
           "color": "#FFFFFF"
          },
          "showarrow": false,
          "text": "0.94",
          "x": "Employed",
          "xref": "x",
          "y": "Amount Women",
          "yref": "y"
         },
         {
          "font": {
           "color": "#FFFFFF"
          },
          "showarrow": false,
          "text": "0.92",
          "x": "Full_time",
          "xref": "x",
          "y": "Amount Women",
          "yref": "y"
         },
         {
          "font": {
           "color": "#FFFFFF"
          },
          "showarrow": false,
          "text": "0.95",
          "x": "Part_time",
          "xref": "x",
          "y": "Amount Women",
          "yref": "y"
         },
         {
          "font": {
           "color": "#FFFFFF"
          },
          "showarrow": false,
          "text": "0.91",
          "x": "Full_time_year_round",
          "xref": "x",
          "y": "Amount Women",
          "yref": "y"
         },
         {
          "font": {
           "color": "#FFFFFF"
          },
          "showarrow": false,
          "text": "0.91",
          "x": "Unemployed",
          "xref": "x",
          "y": "Amount Women",
          "yref": "y"
         },
         {
          "font": {
           "color": "#FFFFFF"
          },
          "showarrow": false,
          "text": "0.06",
          "x": "Unemployment_rate",
          "xref": "x",
          "y": "Amount Women",
          "yref": "y"
         },
         {
          "font": {
           "color": "#FFFFFF"
          },
          "showarrow": false,
          "text": "-0.18",
          "x": "Median",
          "xref": "x",
          "y": "Amount Women",
          "yref": "y"
         },
         {
          "font": {
           "color": "#FFFFFF"
          },
          "showarrow": false,
          "text": "-0.14",
          "x": "P25th",
          "xref": "x",
          "y": "Amount Women",
          "yref": "y"
         },
         {
          "font": {
           "color": "#FFFFFF"
          },
          "showarrow": false,
          "text": "-0.16",
          "x": "P75th",
          "xref": "x",
          "y": "Amount Women",
          "yref": "y"
         },
         {
          "font": {
           "color": "#FFFFFF"
          },
          "showarrow": false,
          "text": "0.85",
          "x": "College_jobs",
          "xref": "x",
          "y": "Amount Women",
          "yref": "y"
         },
         {
          "font": {
           "color": "#FFFFFF"
          },
          "showarrow": false,
          "text": "0.87",
          "x": "Non_college_jobs",
          "xref": "x",
          "y": "Amount Women",
          "yref": "y"
         },
         {
          "font": {
           "color": "#FFFFFF"
          },
          "showarrow": false,
          "text": "0.9",
          "x": "Low_wage_jobs",
          "xref": "x",
          "y": "Amount Women",
          "yref": "y"
         },
         {
          "font": {
           "color": "#FFFFFF"
          },
          "showarrow": false,
          "text": "-0.3",
          "x": "ShareMen",
          "xref": "x",
          "y": "Amount Women",
          "yref": "y"
         },
         {
          "font": {
           "color": "#FFFFFF"
          },
          "showarrow": false,
          "text": "0.67",
          "x": "Amount Men",
          "xref": "x",
          "y": "Amount Women",
          "yref": "y"
         },
         {
          "font": {
           "color": "#FFFFFF"
          },
          "showarrow": false,
          "text": "1.0",
          "x": "Amount Women",
          "xref": "x",
          "y": "Amount Women",
          "yref": "y"
         }
        ],
        "height": 800,
        "margin": {
         "l": 200,
         "t": 200
        },
        "template": {
         "data": {
          "bar": [
           {
            "error_x": {
             "color": "#2a3f5f"
            },
            "error_y": {
             "color": "#2a3f5f"
            },
            "marker": {
             "line": {
              "color": "#E5ECF6",
              "width": 0.5
             },
             "pattern": {
              "fillmode": "overlay",
              "size": 10,
              "solidity": 0.2
             }
            },
            "type": "bar"
           }
          ],
          "barpolar": [
           {
            "marker": {
             "line": {
              "color": "#E5ECF6",
              "width": 0.5
             },
             "pattern": {
              "fillmode": "overlay",
              "size": 10,
              "solidity": 0.2
             }
            },
            "type": "barpolar"
           }
          ],
          "carpet": [
           {
            "aaxis": {
             "endlinecolor": "#2a3f5f",
             "gridcolor": "white",
             "linecolor": "white",
             "minorgridcolor": "white",
             "startlinecolor": "#2a3f5f"
            },
            "baxis": {
             "endlinecolor": "#2a3f5f",
             "gridcolor": "white",
             "linecolor": "white",
             "minorgridcolor": "white",
             "startlinecolor": "#2a3f5f"
            },
            "type": "carpet"
           }
          ],
          "choropleth": [
           {
            "colorbar": {
             "outlinewidth": 0,
             "ticks": ""
            },
            "type": "choropleth"
           }
          ],
          "contour": [
           {
            "colorbar": {
             "outlinewidth": 0,
             "ticks": ""
            },
            "colorscale": [
             [
              0,
              "#0d0887"
             ],
             [
              0.1111111111111111,
              "#46039f"
             ],
             [
              0.2222222222222222,
              "#7201a8"
             ],
             [
              0.3333333333333333,
              "#9c179e"
             ],
             [
              0.4444444444444444,
              "#bd3786"
             ],
             [
              0.5555555555555556,
              "#d8576b"
             ],
             [
              0.6666666666666666,
              "#ed7953"
             ],
             [
              0.7777777777777778,
              "#fb9f3a"
             ],
             [
              0.8888888888888888,
              "#fdca26"
             ],
             [
              1,
              "#f0f921"
             ]
            ],
            "type": "contour"
           }
          ],
          "contourcarpet": [
           {
            "colorbar": {
             "outlinewidth": 0,
             "ticks": ""
            },
            "type": "contourcarpet"
           }
          ],
          "heatmap": [
           {
            "colorbar": {
             "outlinewidth": 0,
             "ticks": ""
            },
            "colorscale": [
             [
              0,
              "#0d0887"
             ],
             [
              0.1111111111111111,
              "#46039f"
             ],
             [
              0.2222222222222222,
              "#7201a8"
             ],
             [
              0.3333333333333333,
              "#9c179e"
             ],
             [
              0.4444444444444444,
              "#bd3786"
             ],
             [
              0.5555555555555556,
              "#d8576b"
             ],
             [
              0.6666666666666666,
              "#ed7953"
             ],
             [
              0.7777777777777778,
              "#fb9f3a"
             ],
             [
              0.8888888888888888,
              "#fdca26"
             ],
             [
              1,
              "#f0f921"
             ]
            ],
            "type": "heatmap"
           }
          ],
          "heatmapgl": [
           {
            "colorbar": {
             "outlinewidth": 0,
             "ticks": ""
            },
            "colorscale": [
             [
              0,
              "#0d0887"
             ],
             [
              0.1111111111111111,
              "#46039f"
             ],
             [
              0.2222222222222222,
              "#7201a8"
             ],
             [
              0.3333333333333333,
              "#9c179e"
             ],
             [
              0.4444444444444444,
              "#bd3786"
             ],
             [
              0.5555555555555556,
              "#d8576b"
             ],
             [
              0.6666666666666666,
              "#ed7953"
             ],
             [
              0.7777777777777778,
              "#fb9f3a"
             ],
             [
              0.8888888888888888,
              "#fdca26"
             ],
             [
              1,
              "#f0f921"
             ]
            ],
            "type": "heatmapgl"
           }
          ],
          "histogram": [
           {
            "marker": {
             "pattern": {
              "fillmode": "overlay",
              "size": 10,
              "solidity": 0.2
             }
            },
            "type": "histogram"
           }
          ],
          "histogram2d": [
           {
            "colorbar": {
             "outlinewidth": 0,
             "ticks": ""
            },
            "colorscale": [
             [
              0,
              "#0d0887"
             ],
             [
              0.1111111111111111,
              "#46039f"
             ],
             [
              0.2222222222222222,
              "#7201a8"
             ],
             [
              0.3333333333333333,
              "#9c179e"
             ],
             [
              0.4444444444444444,
              "#bd3786"
             ],
             [
              0.5555555555555556,
              "#d8576b"
             ],
             [
              0.6666666666666666,
              "#ed7953"
             ],
             [
              0.7777777777777778,
              "#fb9f3a"
             ],
             [
              0.8888888888888888,
              "#fdca26"
             ],
             [
              1,
              "#f0f921"
             ]
            ],
            "type": "histogram2d"
           }
          ],
          "histogram2dcontour": [
           {
            "colorbar": {
             "outlinewidth": 0,
             "ticks": ""
            },
            "colorscale": [
             [
              0,
              "#0d0887"
             ],
             [
              0.1111111111111111,
              "#46039f"
             ],
             [
              0.2222222222222222,
              "#7201a8"
             ],
             [
              0.3333333333333333,
              "#9c179e"
             ],
             [
              0.4444444444444444,
              "#bd3786"
             ],
             [
              0.5555555555555556,
              "#d8576b"
             ],
             [
              0.6666666666666666,
              "#ed7953"
             ],
             [
              0.7777777777777778,
              "#fb9f3a"
             ],
             [
              0.8888888888888888,
              "#fdca26"
             ],
             [
              1,
              "#f0f921"
             ]
            ],
            "type": "histogram2dcontour"
           }
          ],
          "mesh3d": [
           {
            "colorbar": {
             "outlinewidth": 0,
             "ticks": ""
            },
            "type": "mesh3d"
           }
          ],
          "parcoords": [
           {
            "line": {
             "colorbar": {
              "outlinewidth": 0,
              "ticks": ""
             }
            },
            "type": "parcoords"
           }
          ],
          "pie": [
           {
            "automargin": true,
            "type": "pie"
           }
          ],
          "scatter": [
           {
            "fillpattern": {
             "fillmode": "overlay",
             "size": 10,
             "solidity": 0.2
            },
            "type": "scatter"
           }
          ],
          "scatter3d": [
           {
            "line": {
             "colorbar": {
              "outlinewidth": 0,
              "ticks": ""
             }
            },
            "marker": {
             "colorbar": {
              "outlinewidth": 0,
              "ticks": ""
             }
            },
            "type": "scatter3d"
           }
          ],
          "scattercarpet": [
           {
            "marker": {
             "colorbar": {
              "outlinewidth": 0,
              "ticks": ""
             }
            },
            "type": "scattercarpet"
           }
          ],
          "scattergeo": [
           {
            "marker": {
             "colorbar": {
              "outlinewidth": 0,
              "ticks": ""
             }
            },
            "type": "scattergeo"
           }
          ],
          "scattergl": [
           {
            "marker": {
             "colorbar": {
              "outlinewidth": 0,
              "ticks": ""
             }
            },
            "type": "scattergl"
           }
          ],
          "scattermapbox": [
           {
            "marker": {
             "colorbar": {
              "outlinewidth": 0,
              "ticks": ""
             }
            },
            "type": "scattermapbox"
           }
          ],
          "scatterpolar": [
           {
            "marker": {
             "colorbar": {
              "outlinewidth": 0,
              "ticks": ""
             }
            },
            "type": "scatterpolar"
           }
          ],
          "scatterpolargl": [
           {
            "marker": {
             "colorbar": {
              "outlinewidth": 0,
              "ticks": ""
             }
            },
            "type": "scatterpolargl"
           }
          ],
          "scatterternary": [
           {
            "marker": {
             "colorbar": {
              "outlinewidth": 0,
              "ticks": ""
             }
            },
            "type": "scatterternary"
           }
          ],
          "surface": [
           {
            "colorbar": {
             "outlinewidth": 0,
             "ticks": ""
            },
            "colorscale": [
             [
              0,
              "#0d0887"
             ],
             [
              0.1111111111111111,
              "#46039f"
             ],
             [
              0.2222222222222222,
              "#7201a8"
             ],
             [
              0.3333333333333333,
              "#9c179e"
             ],
             [
              0.4444444444444444,
              "#bd3786"
             ],
             [
              0.5555555555555556,
              "#d8576b"
             ],
             [
              0.6666666666666666,
              "#ed7953"
             ],
             [
              0.7777777777777778,
              "#fb9f3a"
             ],
             [
              0.8888888888888888,
              "#fdca26"
             ],
             [
              1,
              "#f0f921"
             ]
            ],
            "type": "surface"
           }
          ],
          "table": [
           {
            "cells": {
             "fill": {
              "color": "#EBF0F8"
             },
             "line": {
              "color": "white"
             }
            },
            "header": {
             "fill": {
              "color": "#C8D4E3"
             },
             "line": {
              "color": "white"
             }
            },
            "type": "table"
           }
          ]
         },
         "layout": {
          "annotationdefaults": {
           "arrowcolor": "#2a3f5f",
           "arrowhead": 0,
           "arrowwidth": 1
          },
          "autotypenumbers": "strict",
          "coloraxis": {
           "colorbar": {
            "outlinewidth": 0,
            "ticks": ""
           }
          },
          "colorscale": {
           "diverging": [
            [
             0,
             "#8e0152"
            ],
            [
             0.1,
             "#c51b7d"
            ],
            [
             0.2,
             "#de77ae"
            ],
            [
             0.3,
             "#f1b6da"
            ],
            [
             0.4,
             "#fde0ef"
            ],
            [
             0.5,
             "#f7f7f7"
            ],
            [
             0.6,
             "#e6f5d0"
            ],
            [
             0.7,
             "#b8e186"
            ],
            [
             0.8,
             "#7fbc41"
            ],
            [
             0.9,
             "#4d9221"
            ],
            [
             1,
             "#276419"
            ]
           ],
           "sequential": [
            [
             0,
             "#0d0887"
            ],
            [
             0.1111111111111111,
             "#46039f"
            ],
            [
             0.2222222222222222,
             "#7201a8"
            ],
            [
             0.3333333333333333,
             "#9c179e"
            ],
            [
             0.4444444444444444,
             "#bd3786"
            ],
            [
             0.5555555555555556,
             "#d8576b"
            ],
            [
             0.6666666666666666,
             "#ed7953"
            ],
            [
             0.7777777777777778,
             "#fb9f3a"
            ],
            [
             0.8888888888888888,
             "#fdca26"
            ],
            [
             1,
             "#f0f921"
            ]
           ],
           "sequentialminus": [
            [
             0,
             "#0d0887"
            ],
            [
             0.1111111111111111,
             "#46039f"
            ],
            [
             0.2222222222222222,
             "#7201a8"
            ],
            [
             0.3333333333333333,
             "#9c179e"
            ],
            [
             0.4444444444444444,
             "#bd3786"
            ],
            [
             0.5555555555555556,
             "#d8576b"
            ],
            [
             0.6666666666666666,
             "#ed7953"
            ],
            [
             0.7777777777777778,
             "#fb9f3a"
            ],
            [
             0.8888888888888888,
             "#fdca26"
            ],
            [
             1,
             "#f0f921"
            ]
           ]
          },
          "colorway": [
           "#636efa",
           "#EF553B",
           "#00cc96",
           "#ab63fa",
           "#FFA15A",
           "#19d3f3",
           "#FF6692",
           "#B6E880",
           "#FF97FF",
           "#FECB52"
          ],
          "font": {
           "color": "#2a3f5f"
          },
          "geo": {
           "bgcolor": "white",
           "lakecolor": "white",
           "landcolor": "#E5ECF6",
           "showlakes": true,
           "showland": true,
           "subunitcolor": "white"
          },
          "hoverlabel": {
           "align": "left"
          },
          "hovermode": "closest",
          "mapbox": {
           "style": "light"
          },
          "paper_bgcolor": "white",
          "plot_bgcolor": "#E5ECF6",
          "polar": {
           "angularaxis": {
            "gridcolor": "white",
            "linecolor": "white",
            "ticks": ""
           },
           "bgcolor": "#E5ECF6",
           "radialaxis": {
            "gridcolor": "white",
            "linecolor": "white",
            "ticks": ""
           }
          },
          "scene": {
           "xaxis": {
            "backgroundcolor": "#E5ECF6",
            "gridcolor": "white",
            "gridwidth": 2,
            "linecolor": "white",
            "showbackground": true,
            "ticks": "",
            "zerolinecolor": "white"
           },
           "yaxis": {
            "backgroundcolor": "#E5ECF6",
            "gridcolor": "white",
            "gridwidth": 2,
            "linecolor": "white",
            "showbackground": true,
            "ticks": "",
            "zerolinecolor": "white"
           },
           "zaxis": {
            "backgroundcolor": "#E5ECF6",
            "gridcolor": "white",
            "gridwidth": 2,
            "linecolor": "white",
            "showbackground": true,
            "ticks": "",
            "zerolinecolor": "white"
           }
          },
          "shapedefaults": {
           "line": {
            "color": "#2a3f5f"
           }
          },
          "ternary": {
           "aaxis": {
            "gridcolor": "white",
            "linecolor": "white",
            "ticks": ""
           },
           "baxis": {
            "gridcolor": "white",
            "linecolor": "white",
            "ticks": ""
           },
           "bgcolor": "#E5ECF6",
           "caxis": {
            "gridcolor": "white",
            "linecolor": "white",
            "ticks": ""
           }
          },
          "title": {
           "x": 0.05
          },
          "xaxis": {
           "automargin": true,
           "gridcolor": "white",
           "linecolor": "white",
           "ticks": "",
           "title": {
            "standoff": 15
           },
           "zerolinecolor": "white",
           "zerolinewidth": 2
          },
          "yaxis": {
           "automargin": true,
           "gridcolor": "white",
           "linecolor": "white",
           "ticks": "",
           "title": {
            "standoff": 15
           },
           "zerolinecolor": "white",
           "zerolinewidth": 2
          }
         }
        },
        "width": 1000,
        "xaxis": {
         "dtick": 1,
         "gridcolor": "rgb(0, 0, 0)",
         "side": "top",
         "ticks": ""
        },
        "yaxis": {
         "dtick": 1,
         "ticks": "",
         "ticksuffix": "  "
        }
       }
      },
      "text/html": [
       "<div>                            <div id=\"88510bf6-e57d-48d2-ac21-ced1f766ed69\" class=\"plotly-graph-div\" style=\"height:800px; width:1000px;\"></div>            <script type=\"text/javascript\">                require([\"plotly\"], function(Plotly) {                    window.PLOTLYENV=window.PLOTLYENV || {};                                    if (document.getElementById(\"88510bf6-e57d-48d2-ac21-ced1f766ed69\")) {                    Plotly.newPlot(                        \"88510bf6-e57d-48d2-ac21-ced1f766ed69\",                        [{\"colorscale\":[[0.0,\"rgb(161, 105, 40)\"],[0.16666666666666666,\"rgb(189, 146, 90)\"],[0.3333333333333333,\"rgb(214, 189, 141)\"],[0.5,\"rgb(237, 234, 194)\"],[0.6666666666666666,\"rgb(181, 200, 184)\"],[0.8333333333333334,\"rgb(121, 167, 172)\"],[1.0,\"rgb(40, 135, 161)\"]],\"reversescale\":true,\"showscale\":true,\"x\":[\"Rank\",\"Major_code\",\"Total\",\"ShareWomen\",\"Sample_size\",\"Employed\",\"Full_time\",\"Part_time\",\"Full_time_year_round\",\"Unemployed\",\"Unemployment_rate\",\"Median\",\"P25th\",\"P75th\",\"College_jobs\",\"Non_college_jobs\",\"Low_wage_jobs\",\"ShareMen\",\"Amount Men\",\"Amount Women\"],\"y\":[\"Rank\",\"Major_code\",\"Total\",\"ShareWomen\",\"Sample_size\",\"Employed\",\"Full_time\",\"Part_time\",\"Full_time_year_round\",\"Unemployed\",\"Unemployment_rate\",\"Median\",\"P25th\",\"P75th\",\"College_jobs\",\"Non_college_jobs\",\"Low_wage_jobs\",\"ShareMen\",\"Amount Men\",\"Amount Women\"],\"z\":[[1.0,0.09719450952723539,0.07113655538233221,0.643781424734423,0.004589983297572155,0.066941452417565,0.03074840629704042,0.19027168864893565,0.0164023917515608,0.08673585134688483,0.07667069172878725,-0.8723032113416209,-0.7374191137101549,-0.8008167209981147,0.04895031699585101,0.1416614999556364,0.20036026719114944,-0.6437814247344223,-0.09477823070089081,0.17491109736798197],[0.09719450952723539,1.0,0.1967840901017655,0.2592109624664122,0.20337501884325213,0.19734489834823923,0.1958571173669315,0.19179764994886725,0.20220307605398388,0.220472138127554,0.13716297078606376,-0.16723668653273985,-0.16559284229589724,-0.08365450521786749,0.036486243645611385,0.22956205421508874,0.22254085271633095,-0.2592109624664122,0.17930057403498895,0.18145777498683374],[0.07113655538233221,0.1967840901017655,1.0,0.14299931208162422,0.9455747357207451,0.996213998955208,0.9893392137116919,0.9502683661034295,0.9811118244655264,0.974768390511927,0.0831917028134864,-0.1067376702051371,-0.07192608151261885,-0.08319767378703781,0.8004647658776266,0.9412470722294447,0.9355095544691524,-0.14299931208162417,0.8780884465950591,0.9447648443423954],[0.643781424734423,0.2592109624664122,0.14299931208162422,1.0,0.09749570465694649,0.14754681093687838,0.12020012727108047,0.2122897541008934,0.11252303848394386,0.12124302407363591,0.07320457867229423,-0.618689751213161,-0.5001986323939085,-0.5869321632626863,0.1955501228386264,0.13700656277347,0.18784962733916696,-1.0000000000000004,-0.11201089657709946,0.297829560221463],[0.004589983297572155,0.20337501884325213,0.9455747357207451,0.09749570465694649,1.0,0.9644061612735607,0.9783623613836113,0.8245444340357722,0.9852124725299435,0.9179335294019043,0.06295493699511234,-0.06447499542762167,-0.024428589648752483,-0.05225613567942122,0.7012309400781065,0.9153352295793599,0.8601158841864506,-0.09749570465694651,0.8751754425197239,0.8626070064996264],[0.066941452417565,0.19734489834823923,0.996213998955208,0.14754681093687838,0.9644061612735607,1.0,0.9958308328122525,0.9344181758754256,0.9910313753199327,0.9688554213928416,0.07137376129490561,-0.10439868749441884,-0.06670644541364452,-0.08399630349720974,0.7971931052424193,0.9412360353338642,0.9271222925579062,-0.14754681093687835,0.8706046002097557,0.944036960915049],[0.03074840629704042,0.1958571173669315,0.9893392137116919,0.12020012727108047,0.9783623613836113,0.9958308328122525,1.0,0.9007106155488598,0.9981999438668634,0.9600421977338651,0.06661569105660553,-0.07903093567520728,-0.04213068698066762,-0.061429083709640085,0.7721345661907703,0.9330211344165179,0.9047136415894512,-0.12020012727108051,0.8935630214561073,0.917681629287967],[0.19027168864893565,0.19179764994886725,0.9502683661034295,0.2122897541008934,0.8245444340357722,0.9344181758754256,0.9007106155488598,1.0,0.8806561519300002,0.9450093125758834,0.1122469184116957,-0.1875162361313827,-0.15282682905269215,-0.15522397980729147,0.8046726449188619,0.9094945870731804,0.9515254827564531,-0.21228975410089324,0.7515915960114844,0.9545134894237463],[0.0164023917515608,0.20220307605398388,0.9811118244655264,0.11252303848394386,0.9852124725299435,0.9910313753199327,0.9981999438668634,0.8806561519300002,1.0,0.9506354179236666,0.060382305014432806,-0.06975038308116806,-0.03220486641398013,-0.0532866274085831,0.754848670342405,0.9287635160301236,0.8926903846711912,-0.11252303848394386,0.8924539443080214,0.9057199920447818],[0.08673585134688483,0.220472138127554,0.974768390511927,0.12124302407363591,0.9179335294019043,0.9688554213928416,0.9600421977338651,0.9450093125758834,0.9506354179236666,1.0,0.1686508084454254,-0.12362233733968128,-0.09146725647399975,-0.093953826909388,0.7133619046730892,0.9564671599781004,0.9553250765423359,-0.12124302407363598,0.869410879364918,0.9116950974742131],[0.07667069172878725,0.13716297078606376,0.0831917028134864,0.07320457867229423,0.06295493699511234,0.07137376129490561,0.06661569105660553,0.1122469184116957,0.060382305014432806,0.1686508084454254,1.0,-0.1157690495783848,-0.09794507042291149,-0.039932547931914614,-0.011693854658246534,0.11956552450368925,0.1315727111403494,-0.07320457867229413,0.10150211233746238,0.059107661425193525],[-0.8723032113416209,-0.16723668653273985,-0.1067376702051371,-0.618689751213161,-0.06447499542762167,-0.10439868749441884,-0.07903093567520728,-0.1875162361313827,-0.06975038308116806,-0.12362233733968128,-0.1157690495783848,1.0,0.8933743582528847,0.90115779036468,-0.04706014819326904,-0.1718151046330405,-0.2071528356609693,0.6186897512131602,0.025988422744853915,-0.18284026388256833],[-0.7374191137101549,-0.16559284229589724,-0.07192608151261885,-0.5001986323939085,-0.024428589648752483,-0.06670644541364452,-0.04213068698066762,-0.15282682905269215,-0.03220486641398013,-0.09146725647399975,-0.09794507042291149,0.8933743582528847,1.0,0.7359955831805077,-0.010731349760207612,-0.1382050138251939,-0.17321800699935616,0.5001986323939079,0.03872345625483346,-0.13773672480229326],[-0.8008167209981147,-0.08365450521786749,-0.08319767378703781,-0.5869321632626863,-0.05225613567942122,-0.08399630349720974,-0.061429083709640085,-0.15522397980729147,-0.0532866274085831,-0.093953826909388,-0.039932547931914614,0.90115779036468,0.7359955831805077,1.0,-0.052965959174077905,-0.13639736146228565,-0.1708364852811008,0.586932163262686,0.05239051483386818,-0.1645266585032455],[0.04895031699585101,0.036486243645611385,0.8004647658776266,0.1955501228386264,0.7012309400781065,0.7971931052424193,0.7721345661907703,0.8046726449188619,0.754848670342405,0.7133619046730892,-0.011693854658246534,-0.04706014819326904,-0.010731349760207612,-0.052965959174077905,1.0,0.6128771581016479,0.6497199484704506,-0.19555012283862647,0.5631690850690065,0.8519456098493696],[0.1416614999556364,0.22956205421508874,0.9412470722294447,0.13700656277347,0.9153352295793599,0.9412360353338642,0.9330211344165179,0.9094945870731804,0.9287635160301236,0.9564671599781004,0.11956552450368925,-0.1718151046330405,-0.1382050138251939,-0.13639736146228565,0.6128771581016479,1.0,0.975699495897125,-0.13700656277347006,0.8514991733978654,0.8721326347160299],[0.20036026719114944,0.22254085271633095,0.9355095544691524,0.18784962733916696,0.8601158841864506,0.9271222925579062,0.9047136415894512,0.9515254827564531,0.8926903846711912,0.9553250765423359,0.1315727111403494,-0.2071528356609693,-0.17321800699935616,-0.1708364852811008,0.6497199484704506,0.975699495897125,1.0,-0.18784962733916694,0.7913354509562891,0.9044705306709137],[-0.6437814247344223,-0.2592109624664122,-0.14299931208162417,-1.0000000000000004,-0.09749570465694651,-0.14754681093687835,-0.12020012727108051,-0.21228975410089324,-0.11252303848394386,-0.12124302407363598,-0.07320457867229413,0.6186897512131602,0.5001986323939079,0.586932163262686,-0.19555012283862647,-0.13700656277347006,-0.18784962733916694,1.0,0.11201089657709941,-0.29782956022146306],[-0.09477823070089081,0.17930057403498895,0.8780884465950591,-0.11201089657709946,0.8751754425197239,0.8706046002097557,0.8935630214561073,0.7515915960114844,0.8924539443080214,0.869410879364918,0.10150211233746238,0.025988422744853915,0.03872345625483346,0.05239051483386818,0.5631690850690065,0.8514991733978654,0.7913354509562891,0.11201089657709941,1.0,0.672759748990756],[0.17491109736798197,0.18145777498683374,0.9447648443423954,0.297829560221463,0.8626070064996264,0.944036960915049,0.917681629287967,0.9545134894237463,0.9057199920447818,0.9116950974742131,0.059107661425193525,-0.18284026388256833,-0.13773672480229326,-0.1645266585032455,0.8519456098493696,0.8721326347160299,0.9044705306709137,-0.29782956022146306,0.672759748990756,1.0]],\"type\":\"heatmap\"}],                        {\"annotations\":[{\"font\":{\"color\":\"#FFFFFF\"},\"showarrow\":false,\"text\":\"1.0\",\"x\":\"Rank\",\"xref\":\"x\",\"y\":\"Rank\",\"yref\":\"y\"},{\"font\":{\"color\":\"#FFFFFF\"},\"showarrow\":false,\"text\":\"0.1\",\"x\":\"Major_code\",\"xref\":\"x\",\"y\":\"Rank\",\"yref\":\"y\"},{\"font\":{\"color\":\"#FFFFFF\"},\"showarrow\":false,\"text\":\"0.07\",\"x\":\"Total\",\"xref\":\"x\",\"y\":\"Rank\",\"yref\":\"y\"},{\"font\":{\"color\":\"#FFFFFF\"},\"showarrow\":false,\"text\":\"0.64\",\"x\":\"ShareWomen\",\"xref\":\"x\",\"y\":\"Rank\",\"yref\":\"y\"},{\"font\":{\"color\":\"#FFFFFF\"},\"showarrow\":false,\"text\":\"0.0\",\"x\":\"Sample_size\",\"xref\":\"x\",\"y\":\"Rank\",\"yref\":\"y\"},{\"font\":{\"color\":\"#FFFFFF\"},\"showarrow\":false,\"text\":\"0.07\",\"x\":\"Employed\",\"xref\":\"x\",\"y\":\"Rank\",\"yref\":\"y\"},{\"font\":{\"color\":\"#FFFFFF\"},\"showarrow\":false,\"text\":\"0.03\",\"x\":\"Full_time\",\"xref\":\"x\",\"y\":\"Rank\",\"yref\":\"y\"},{\"font\":{\"color\":\"#FFFFFF\"},\"showarrow\":false,\"text\":\"0.19\",\"x\":\"Part_time\",\"xref\":\"x\",\"y\":\"Rank\",\"yref\":\"y\"},{\"font\":{\"color\":\"#FFFFFF\"},\"showarrow\":false,\"text\":\"0.02\",\"x\":\"Full_time_year_round\",\"xref\":\"x\",\"y\":\"Rank\",\"yref\":\"y\"},{\"font\":{\"color\":\"#FFFFFF\"},\"showarrow\":false,\"text\":\"0.09\",\"x\":\"Unemployed\",\"xref\":\"x\",\"y\":\"Rank\",\"yref\":\"y\"},{\"font\":{\"color\":\"#FFFFFF\"},\"showarrow\":false,\"text\":\"0.08\",\"x\":\"Unemployment_rate\",\"xref\":\"x\",\"y\":\"Rank\",\"yref\":\"y\"},{\"font\":{\"color\":\"#FFFFFF\"},\"showarrow\":false,\"text\":\"-0.87\",\"x\":\"Median\",\"xref\":\"x\",\"y\":\"Rank\",\"yref\":\"y\"},{\"font\":{\"color\":\"#FFFFFF\"},\"showarrow\":false,\"text\":\"-0.74\",\"x\":\"P25th\",\"xref\":\"x\",\"y\":\"Rank\",\"yref\":\"y\"},{\"font\":{\"color\":\"#FFFFFF\"},\"showarrow\":false,\"text\":\"-0.8\",\"x\":\"P75th\",\"xref\":\"x\",\"y\":\"Rank\",\"yref\":\"y\"},{\"font\":{\"color\":\"#FFFFFF\"},\"showarrow\":false,\"text\":\"0.05\",\"x\":\"College_jobs\",\"xref\":\"x\",\"y\":\"Rank\",\"yref\":\"y\"},{\"font\":{\"color\":\"#FFFFFF\"},\"showarrow\":false,\"text\":\"0.14\",\"x\":\"Non_college_jobs\",\"xref\":\"x\",\"y\":\"Rank\",\"yref\":\"y\"},{\"font\":{\"color\":\"#FFFFFF\"},\"showarrow\":false,\"text\":\"0.2\",\"x\":\"Low_wage_jobs\",\"xref\":\"x\",\"y\":\"Rank\",\"yref\":\"y\"},{\"font\":{\"color\":\"#FFFFFF\"},\"showarrow\":false,\"text\":\"-0.64\",\"x\":\"ShareMen\",\"xref\":\"x\",\"y\":\"Rank\",\"yref\":\"y\"},{\"font\":{\"color\":\"#FFFFFF\"},\"showarrow\":false,\"text\":\"-0.09\",\"x\":\"Amount Men\",\"xref\":\"x\",\"y\":\"Rank\",\"yref\":\"y\"},{\"font\":{\"color\":\"#FFFFFF\"},\"showarrow\":false,\"text\":\"0.17\",\"x\":\"Amount Women\",\"xref\":\"x\",\"y\":\"Rank\",\"yref\":\"y\"},{\"font\":{\"color\":\"#FFFFFF\"},\"showarrow\":false,\"text\":\"0.1\",\"x\":\"Rank\",\"xref\":\"x\",\"y\":\"Major_code\",\"yref\":\"y\"},{\"font\":{\"color\":\"#FFFFFF\"},\"showarrow\":false,\"text\":\"1.0\",\"x\":\"Major_code\",\"xref\":\"x\",\"y\":\"Major_code\",\"yref\":\"y\"},{\"font\":{\"color\":\"#FFFFFF\"},\"showarrow\":false,\"text\":\"0.2\",\"x\":\"Total\",\"xref\":\"x\",\"y\":\"Major_code\",\"yref\":\"y\"},{\"font\":{\"color\":\"#FFFFFF\"},\"showarrow\":false,\"text\":\"0.26\",\"x\":\"ShareWomen\",\"xref\":\"x\",\"y\":\"Major_code\",\"yref\":\"y\"},{\"font\":{\"color\":\"#FFFFFF\"},\"showarrow\":false,\"text\":\"0.2\",\"x\":\"Sample_size\",\"xref\":\"x\",\"y\":\"Major_code\",\"yref\":\"y\"},{\"font\":{\"color\":\"#FFFFFF\"},\"showarrow\":false,\"text\":\"0.2\",\"x\":\"Employed\",\"xref\":\"x\",\"y\":\"Major_code\",\"yref\":\"y\"},{\"font\":{\"color\":\"#FFFFFF\"},\"showarrow\":false,\"text\":\"0.2\",\"x\":\"Full_time\",\"xref\":\"x\",\"y\":\"Major_code\",\"yref\":\"y\"},{\"font\":{\"color\":\"#FFFFFF\"},\"showarrow\":false,\"text\":\"0.19\",\"x\":\"Part_time\",\"xref\":\"x\",\"y\":\"Major_code\",\"yref\":\"y\"},{\"font\":{\"color\":\"#FFFFFF\"},\"showarrow\":false,\"text\":\"0.2\",\"x\":\"Full_time_year_round\",\"xref\":\"x\",\"y\":\"Major_code\",\"yref\":\"y\"},{\"font\":{\"color\":\"#FFFFFF\"},\"showarrow\":false,\"text\":\"0.22\",\"x\":\"Unemployed\",\"xref\":\"x\",\"y\":\"Major_code\",\"yref\":\"y\"},{\"font\":{\"color\":\"#FFFFFF\"},\"showarrow\":false,\"text\":\"0.14\",\"x\":\"Unemployment_rate\",\"xref\":\"x\",\"y\":\"Major_code\",\"yref\":\"y\"},{\"font\":{\"color\":\"#FFFFFF\"},\"showarrow\":false,\"text\":\"-0.17\",\"x\":\"Median\",\"xref\":\"x\",\"y\":\"Major_code\",\"yref\":\"y\"},{\"font\":{\"color\":\"#FFFFFF\"},\"showarrow\":false,\"text\":\"-0.17\",\"x\":\"P25th\",\"xref\":\"x\",\"y\":\"Major_code\",\"yref\":\"y\"},{\"font\":{\"color\":\"#FFFFFF\"},\"showarrow\":false,\"text\":\"-0.08\",\"x\":\"P75th\",\"xref\":\"x\",\"y\":\"Major_code\",\"yref\":\"y\"},{\"font\":{\"color\":\"#FFFFFF\"},\"showarrow\":false,\"text\":\"0.04\",\"x\":\"College_jobs\",\"xref\":\"x\",\"y\":\"Major_code\",\"yref\":\"y\"},{\"font\":{\"color\":\"#FFFFFF\"},\"showarrow\":false,\"text\":\"0.23\",\"x\":\"Non_college_jobs\",\"xref\":\"x\",\"y\":\"Major_code\",\"yref\":\"y\"},{\"font\":{\"color\":\"#FFFFFF\"},\"showarrow\":false,\"text\":\"0.22\",\"x\":\"Low_wage_jobs\",\"xref\":\"x\",\"y\":\"Major_code\",\"yref\":\"y\"},{\"font\":{\"color\":\"#FFFFFF\"},\"showarrow\":false,\"text\":\"-0.26\",\"x\":\"ShareMen\",\"xref\":\"x\",\"y\":\"Major_code\",\"yref\":\"y\"},{\"font\":{\"color\":\"#FFFFFF\"},\"showarrow\":false,\"text\":\"0.18\",\"x\":\"Amount Men\",\"xref\":\"x\",\"y\":\"Major_code\",\"yref\":\"y\"},{\"font\":{\"color\":\"#FFFFFF\"},\"showarrow\":false,\"text\":\"0.18\",\"x\":\"Amount Women\",\"xref\":\"x\",\"y\":\"Major_code\",\"yref\":\"y\"},{\"font\":{\"color\":\"#FFFFFF\"},\"showarrow\":false,\"text\":\"0.07\",\"x\":\"Rank\",\"xref\":\"x\",\"y\":\"Total\",\"yref\":\"y\"},{\"font\":{\"color\":\"#FFFFFF\"},\"showarrow\":false,\"text\":\"0.2\",\"x\":\"Major_code\",\"xref\":\"x\",\"y\":\"Total\",\"yref\":\"y\"},{\"font\":{\"color\":\"#FFFFFF\"},\"showarrow\":false,\"text\":\"1.0\",\"x\":\"Total\",\"xref\":\"x\",\"y\":\"Total\",\"yref\":\"y\"},{\"font\":{\"color\":\"#FFFFFF\"},\"showarrow\":false,\"text\":\"0.14\",\"x\":\"ShareWomen\",\"xref\":\"x\",\"y\":\"Total\",\"yref\":\"y\"},{\"font\":{\"color\":\"#FFFFFF\"},\"showarrow\":false,\"text\":\"0.95\",\"x\":\"Sample_size\",\"xref\":\"x\",\"y\":\"Total\",\"yref\":\"y\"},{\"font\":{\"color\":\"#FFFFFF\"},\"showarrow\":false,\"text\":\"1.0\",\"x\":\"Employed\",\"xref\":\"x\",\"y\":\"Total\",\"yref\":\"y\"},{\"font\":{\"color\":\"#FFFFFF\"},\"showarrow\":false,\"text\":\"0.99\",\"x\":\"Full_time\",\"xref\":\"x\",\"y\":\"Total\",\"yref\":\"y\"},{\"font\":{\"color\":\"#FFFFFF\"},\"showarrow\":false,\"text\":\"0.95\",\"x\":\"Part_time\",\"xref\":\"x\",\"y\":\"Total\",\"yref\":\"y\"},{\"font\":{\"color\":\"#FFFFFF\"},\"showarrow\":false,\"text\":\"0.98\",\"x\":\"Full_time_year_round\",\"xref\":\"x\",\"y\":\"Total\",\"yref\":\"y\"},{\"font\":{\"color\":\"#FFFFFF\"},\"showarrow\":false,\"text\":\"0.97\",\"x\":\"Unemployed\",\"xref\":\"x\",\"y\":\"Total\",\"yref\":\"y\"},{\"font\":{\"color\":\"#FFFFFF\"},\"showarrow\":false,\"text\":\"0.08\",\"x\":\"Unemployment_rate\",\"xref\":\"x\",\"y\":\"Total\",\"yref\":\"y\"},{\"font\":{\"color\":\"#FFFFFF\"},\"showarrow\":false,\"text\":\"-0.11\",\"x\":\"Median\",\"xref\":\"x\",\"y\":\"Total\",\"yref\":\"y\"},{\"font\":{\"color\":\"#FFFFFF\"},\"showarrow\":false,\"text\":\"-0.07\",\"x\":\"P25th\",\"xref\":\"x\",\"y\":\"Total\",\"yref\":\"y\"},{\"font\":{\"color\":\"#FFFFFF\"},\"showarrow\":false,\"text\":\"-0.08\",\"x\":\"P75th\",\"xref\":\"x\",\"y\":\"Total\",\"yref\":\"y\"},{\"font\":{\"color\":\"#FFFFFF\"},\"showarrow\":false,\"text\":\"0.8\",\"x\":\"College_jobs\",\"xref\":\"x\",\"y\":\"Total\",\"yref\":\"y\"},{\"font\":{\"color\":\"#FFFFFF\"},\"showarrow\":false,\"text\":\"0.94\",\"x\":\"Non_college_jobs\",\"xref\":\"x\",\"y\":\"Total\",\"yref\":\"y\"},{\"font\":{\"color\":\"#FFFFFF\"},\"showarrow\":false,\"text\":\"0.94\",\"x\":\"Low_wage_jobs\",\"xref\":\"x\",\"y\":\"Total\",\"yref\":\"y\"},{\"font\":{\"color\":\"#FFFFFF\"},\"showarrow\":false,\"text\":\"-0.14\",\"x\":\"ShareMen\",\"xref\":\"x\",\"y\":\"Total\",\"yref\":\"y\"},{\"font\":{\"color\":\"#FFFFFF\"},\"showarrow\":false,\"text\":\"0.88\",\"x\":\"Amount Men\",\"xref\":\"x\",\"y\":\"Total\",\"yref\":\"y\"},{\"font\":{\"color\":\"#FFFFFF\"},\"showarrow\":false,\"text\":\"0.94\",\"x\":\"Amount Women\",\"xref\":\"x\",\"y\":\"Total\",\"yref\":\"y\"},{\"font\":{\"color\":\"#FFFFFF\"},\"showarrow\":false,\"text\":\"0.64\",\"x\":\"Rank\",\"xref\":\"x\",\"y\":\"ShareWomen\",\"yref\":\"y\"},{\"font\":{\"color\":\"#FFFFFF\"},\"showarrow\":false,\"text\":\"0.26\",\"x\":\"Major_code\",\"xref\":\"x\",\"y\":\"ShareWomen\",\"yref\":\"y\"},{\"font\":{\"color\":\"#FFFFFF\"},\"showarrow\":false,\"text\":\"0.14\",\"x\":\"Total\",\"xref\":\"x\",\"y\":\"ShareWomen\",\"yref\":\"y\"},{\"font\":{\"color\":\"#FFFFFF\"},\"showarrow\":false,\"text\":\"1.0\",\"x\":\"ShareWomen\",\"xref\":\"x\",\"y\":\"ShareWomen\",\"yref\":\"y\"},{\"font\":{\"color\":\"#FFFFFF\"},\"showarrow\":false,\"text\":\"0.1\",\"x\":\"Sample_size\",\"xref\":\"x\",\"y\":\"ShareWomen\",\"yref\":\"y\"},{\"font\":{\"color\":\"#FFFFFF\"},\"showarrow\":false,\"text\":\"0.15\",\"x\":\"Employed\",\"xref\":\"x\",\"y\":\"ShareWomen\",\"yref\":\"y\"},{\"font\":{\"color\":\"#FFFFFF\"},\"showarrow\":false,\"text\":\"0.12\",\"x\":\"Full_time\",\"xref\":\"x\",\"y\":\"ShareWomen\",\"yref\":\"y\"},{\"font\":{\"color\":\"#FFFFFF\"},\"showarrow\":false,\"text\":\"0.21\",\"x\":\"Part_time\",\"xref\":\"x\",\"y\":\"ShareWomen\",\"yref\":\"y\"},{\"font\":{\"color\":\"#FFFFFF\"},\"showarrow\":false,\"text\":\"0.11\",\"x\":\"Full_time_year_round\",\"xref\":\"x\",\"y\":\"ShareWomen\",\"yref\":\"y\"},{\"font\":{\"color\":\"#FFFFFF\"},\"showarrow\":false,\"text\":\"0.12\",\"x\":\"Unemployed\",\"xref\":\"x\",\"y\":\"ShareWomen\",\"yref\":\"y\"},{\"font\":{\"color\":\"#FFFFFF\"},\"showarrow\":false,\"text\":\"0.07\",\"x\":\"Unemployment_rate\",\"xref\":\"x\",\"y\":\"ShareWomen\",\"yref\":\"y\"},{\"font\":{\"color\":\"#FFFFFF\"},\"showarrow\":false,\"text\":\"-0.62\",\"x\":\"Median\",\"xref\":\"x\",\"y\":\"ShareWomen\",\"yref\":\"y\"},{\"font\":{\"color\":\"#FFFFFF\"},\"showarrow\":false,\"text\":\"-0.5\",\"x\":\"P25th\",\"xref\":\"x\",\"y\":\"ShareWomen\",\"yref\":\"y\"},{\"font\":{\"color\":\"#FFFFFF\"},\"showarrow\":false,\"text\":\"-0.59\",\"x\":\"P75th\",\"xref\":\"x\",\"y\":\"ShareWomen\",\"yref\":\"y\"},{\"font\":{\"color\":\"#FFFFFF\"},\"showarrow\":false,\"text\":\"0.2\",\"x\":\"College_jobs\",\"xref\":\"x\",\"y\":\"ShareWomen\",\"yref\":\"y\"},{\"font\":{\"color\":\"#FFFFFF\"},\"showarrow\":false,\"text\":\"0.14\",\"x\":\"Non_college_jobs\",\"xref\":\"x\",\"y\":\"ShareWomen\",\"yref\":\"y\"},{\"font\":{\"color\":\"#FFFFFF\"},\"showarrow\":false,\"text\":\"0.19\",\"x\":\"Low_wage_jobs\",\"xref\":\"x\",\"y\":\"ShareWomen\",\"yref\":\"y\"},{\"font\":{\"color\":\"#FFFFFF\"},\"showarrow\":false,\"text\":\"-1.0\",\"x\":\"ShareMen\",\"xref\":\"x\",\"y\":\"ShareWomen\",\"yref\":\"y\"},{\"font\":{\"color\":\"#FFFFFF\"},\"showarrow\":false,\"text\":\"-0.11\",\"x\":\"Amount Men\",\"xref\":\"x\",\"y\":\"ShareWomen\",\"yref\":\"y\"},{\"font\":{\"color\":\"#FFFFFF\"},\"showarrow\":false,\"text\":\"0.3\",\"x\":\"Amount Women\",\"xref\":\"x\",\"y\":\"ShareWomen\",\"yref\":\"y\"},{\"font\":{\"color\":\"#FFFFFF\"},\"showarrow\":false,\"text\":\"0.0\",\"x\":\"Rank\",\"xref\":\"x\",\"y\":\"Sample_size\",\"yref\":\"y\"},{\"font\":{\"color\":\"#FFFFFF\"},\"showarrow\":false,\"text\":\"0.2\",\"x\":\"Major_code\",\"xref\":\"x\",\"y\":\"Sample_size\",\"yref\":\"y\"},{\"font\":{\"color\":\"#FFFFFF\"},\"showarrow\":false,\"text\":\"0.95\",\"x\":\"Total\",\"xref\":\"x\",\"y\":\"Sample_size\",\"yref\":\"y\"},{\"font\":{\"color\":\"#FFFFFF\"},\"showarrow\":false,\"text\":\"0.1\",\"x\":\"ShareWomen\",\"xref\":\"x\",\"y\":\"Sample_size\",\"yref\":\"y\"},{\"font\":{\"color\":\"#FFFFFF\"},\"showarrow\":false,\"text\":\"1.0\",\"x\":\"Sample_size\",\"xref\":\"x\",\"y\":\"Sample_size\",\"yref\":\"y\"},{\"font\":{\"color\":\"#FFFFFF\"},\"showarrow\":false,\"text\":\"0.96\",\"x\":\"Employed\",\"xref\":\"x\",\"y\":\"Sample_size\",\"yref\":\"y\"},{\"font\":{\"color\":\"#FFFFFF\"},\"showarrow\":false,\"text\":\"0.98\",\"x\":\"Full_time\",\"xref\":\"x\",\"y\":\"Sample_size\",\"yref\":\"y\"},{\"font\":{\"color\":\"#FFFFFF\"},\"showarrow\":false,\"text\":\"0.82\",\"x\":\"Part_time\",\"xref\":\"x\",\"y\":\"Sample_size\",\"yref\":\"y\"},{\"font\":{\"color\":\"#FFFFFF\"},\"showarrow\":false,\"text\":\"0.99\",\"x\":\"Full_time_year_round\",\"xref\":\"x\",\"y\":\"Sample_size\",\"yref\":\"y\"},{\"font\":{\"color\":\"#FFFFFF\"},\"showarrow\":false,\"text\":\"0.92\",\"x\":\"Unemployed\",\"xref\":\"x\",\"y\":\"Sample_size\",\"yref\":\"y\"},{\"font\":{\"color\":\"#FFFFFF\"},\"showarrow\":false,\"text\":\"0.06\",\"x\":\"Unemployment_rate\",\"xref\":\"x\",\"y\":\"Sample_size\",\"yref\":\"y\"},{\"font\":{\"color\":\"#FFFFFF\"},\"showarrow\":false,\"text\":\"-0.06\",\"x\":\"Median\",\"xref\":\"x\",\"y\":\"Sample_size\",\"yref\":\"y\"},{\"font\":{\"color\":\"#FFFFFF\"},\"showarrow\":false,\"text\":\"-0.02\",\"x\":\"P25th\",\"xref\":\"x\",\"y\":\"Sample_size\",\"yref\":\"y\"},{\"font\":{\"color\":\"#FFFFFF\"},\"showarrow\":false,\"text\":\"-0.05\",\"x\":\"P75th\",\"xref\":\"x\",\"y\":\"Sample_size\",\"yref\":\"y\"},{\"font\":{\"color\":\"#FFFFFF\"},\"showarrow\":false,\"text\":\"0.7\",\"x\":\"College_jobs\",\"xref\":\"x\",\"y\":\"Sample_size\",\"yref\":\"y\"},{\"font\":{\"color\":\"#FFFFFF\"},\"showarrow\":false,\"text\":\"0.92\",\"x\":\"Non_college_jobs\",\"xref\":\"x\",\"y\":\"Sample_size\",\"yref\":\"y\"},{\"font\":{\"color\":\"#FFFFFF\"},\"showarrow\":false,\"text\":\"0.86\",\"x\":\"Low_wage_jobs\",\"xref\":\"x\",\"y\":\"Sample_size\",\"yref\":\"y\"},{\"font\":{\"color\":\"#FFFFFF\"},\"showarrow\":false,\"text\":\"-0.1\",\"x\":\"ShareMen\",\"xref\":\"x\",\"y\":\"Sample_size\",\"yref\":\"y\"},{\"font\":{\"color\":\"#FFFFFF\"},\"showarrow\":false,\"text\":\"0.88\",\"x\":\"Amount Men\",\"xref\":\"x\",\"y\":\"Sample_size\",\"yref\":\"y\"},{\"font\":{\"color\":\"#FFFFFF\"},\"showarrow\":false,\"text\":\"0.86\",\"x\":\"Amount Women\",\"xref\":\"x\",\"y\":\"Sample_size\",\"yref\":\"y\"},{\"font\":{\"color\":\"#FFFFFF\"},\"showarrow\":false,\"text\":\"0.07\",\"x\":\"Rank\",\"xref\":\"x\",\"y\":\"Employed\",\"yref\":\"y\"},{\"font\":{\"color\":\"#FFFFFF\"},\"showarrow\":false,\"text\":\"0.2\",\"x\":\"Major_code\",\"xref\":\"x\",\"y\":\"Employed\",\"yref\":\"y\"},{\"font\":{\"color\":\"#FFFFFF\"},\"showarrow\":false,\"text\":\"1.0\",\"x\":\"Total\",\"xref\":\"x\",\"y\":\"Employed\",\"yref\":\"y\"},{\"font\":{\"color\":\"#FFFFFF\"},\"showarrow\":false,\"text\":\"0.15\",\"x\":\"ShareWomen\",\"xref\":\"x\",\"y\":\"Employed\",\"yref\":\"y\"},{\"font\":{\"color\":\"#FFFFFF\"},\"showarrow\":false,\"text\":\"0.96\",\"x\":\"Sample_size\",\"xref\":\"x\",\"y\":\"Employed\",\"yref\":\"y\"},{\"font\":{\"color\":\"#FFFFFF\"},\"showarrow\":false,\"text\":\"1.0\",\"x\":\"Employed\",\"xref\":\"x\",\"y\":\"Employed\",\"yref\":\"y\"},{\"font\":{\"color\":\"#FFFFFF\"},\"showarrow\":false,\"text\":\"1.0\",\"x\":\"Full_time\",\"xref\":\"x\",\"y\":\"Employed\",\"yref\":\"y\"},{\"font\":{\"color\":\"#FFFFFF\"},\"showarrow\":false,\"text\":\"0.93\",\"x\":\"Part_time\",\"xref\":\"x\",\"y\":\"Employed\",\"yref\":\"y\"},{\"font\":{\"color\":\"#FFFFFF\"},\"showarrow\":false,\"text\":\"0.99\",\"x\":\"Full_time_year_round\",\"xref\":\"x\",\"y\":\"Employed\",\"yref\":\"y\"},{\"font\":{\"color\":\"#FFFFFF\"},\"showarrow\":false,\"text\":\"0.97\",\"x\":\"Unemployed\",\"xref\":\"x\",\"y\":\"Employed\",\"yref\":\"y\"},{\"font\":{\"color\":\"#FFFFFF\"},\"showarrow\":false,\"text\":\"0.07\",\"x\":\"Unemployment_rate\",\"xref\":\"x\",\"y\":\"Employed\",\"yref\":\"y\"},{\"font\":{\"color\":\"#FFFFFF\"},\"showarrow\":false,\"text\":\"-0.1\",\"x\":\"Median\",\"xref\":\"x\",\"y\":\"Employed\",\"yref\":\"y\"},{\"font\":{\"color\":\"#FFFFFF\"},\"showarrow\":false,\"text\":\"-0.07\",\"x\":\"P25th\",\"xref\":\"x\",\"y\":\"Employed\",\"yref\":\"y\"},{\"font\":{\"color\":\"#FFFFFF\"},\"showarrow\":false,\"text\":\"-0.08\",\"x\":\"P75th\",\"xref\":\"x\",\"y\":\"Employed\",\"yref\":\"y\"},{\"font\":{\"color\":\"#FFFFFF\"},\"showarrow\":false,\"text\":\"0.8\",\"x\":\"College_jobs\",\"xref\":\"x\",\"y\":\"Employed\",\"yref\":\"y\"},{\"font\":{\"color\":\"#FFFFFF\"},\"showarrow\":false,\"text\":\"0.94\",\"x\":\"Non_college_jobs\",\"xref\":\"x\",\"y\":\"Employed\",\"yref\":\"y\"},{\"font\":{\"color\":\"#FFFFFF\"},\"showarrow\":false,\"text\":\"0.93\",\"x\":\"Low_wage_jobs\",\"xref\":\"x\",\"y\":\"Employed\",\"yref\":\"y\"},{\"font\":{\"color\":\"#FFFFFF\"},\"showarrow\":false,\"text\":\"-0.15\",\"x\":\"ShareMen\",\"xref\":\"x\",\"y\":\"Employed\",\"yref\":\"y\"},{\"font\":{\"color\":\"#FFFFFF\"},\"showarrow\":false,\"text\":\"0.87\",\"x\":\"Amount Men\",\"xref\":\"x\",\"y\":\"Employed\",\"yref\":\"y\"},{\"font\":{\"color\":\"#FFFFFF\"},\"showarrow\":false,\"text\":\"0.94\",\"x\":\"Amount Women\",\"xref\":\"x\",\"y\":\"Employed\",\"yref\":\"y\"},{\"font\":{\"color\":\"#FFFFFF\"},\"showarrow\":false,\"text\":\"0.03\",\"x\":\"Rank\",\"xref\":\"x\",\"y\":\"Full_time\",\"yref\":\"y\"},{\"font\":{\"color\":\"#FFFFFF\"},\"showarrow\":false,\"text\":\"0.2\",\"x\":\"Major_code\",\"xref\":\"x\",\"y\":\"Full_time\",\"yref\":\"y\"},{\"font\":{\"color\":\"#FFFFFF\"},\"showarrow\":false,\"text\":\"0.99\",\"x\":\"Total\",\"xref\":\"x\",\"y\":\"Full_time\",\"yref\":\"y\"},{\"font\":{\"color\":\"#FFFFFF\"},\"showarrow\":false,\"text\":\"0.12\",\"x\":\"ShareWomen\",\"xref\":\"x\",\"y\":\"Full_time\",\"yref\":\"y\"},{\"font\":{\"color\":\"#FFFFFF\"},\"showarrow\":false,\"text\":\"0.98\",\"x\":\"Sample_size\",\"xref\":\"x\",\"y\":\"Full_time\",\"yref\":\"y\"},{\"font\":{\"color\":\"#FFFFFF\"},\"showarrow\":false,\"text\":\"1.0\",\"x\":\"Employed\",\"xref\":\"x\",\"y\":\"Full_time\",\"yref\":\"y\"},{\"font\":{\"color\":\"#FFFFFF\"},\"showarrow\":false,\"text\":\"1.0\",\"x\":\"Full_time\",\"xref\":\"x\",\"y\":\"Full_time\",\"yref\":\"y\"},{\"font\":{\"color\":\"#FFFFFF\"},\"showarrow\":false,\"text\":\"0.9\",\"x\":\"Part_time\",\"xref\":\"x\",\"y\":\"Full_time\",\"yref\":\"y\"},{\"font\":{\"color\":\"#FFFFFF\"},\"showarrow\":false,\"text\":\"1.0\",\"x\":\"Full_time_year_round\",\"xref\":\"x\",\"y\":\"Full_time\",\"yref\":\"y\"},{\"font\":{\"color\":\"#FFFFFF\"},\"showarrow\":false,\"text\":\"0.96\",\"x\":\"Unemployed\",\"xref\":\"x\",\"y\":\"Full_time\",\"yref\":\"y\"},{\"font\":{\"color\":\"#FFFFFF\"},\"showarrow\":false,\"text\":\"0.07\",\"x\":\"Unemployment_rate\",\"xref\":\"x\",\"y\":\"Full_time\",\"yref\":\"y\"},{\"font\":{\"color\":\"#FFFFFF\"},\"showarrow\":false,\"text\":\"-0.08\",\"x\":\"Median\",\"xref\":\"x\",\"y\":\"Full_time\",\"yref\":\"y\"},{\"font\":{\"color\":\"#FFFFFF\"},\"showarrow\":false,\"text\":\"-0.04\",\"x\":\"P25th\",\"xref\":\"x\",\"y\":\"Full_time\",\"yref\":\"y\"},{\"font\":{\"color\":\"#FFFFFF\"},\"showarrow\":false,\"text\":\"-0.06\",\"x\":\"P75th\",\"xref\":\"x\",\"y\":\"Full_time\",\"yref\":\"y\"},{\"font\":{\"color\":\"#FFFFFF\"},\"showarrow\":false,\"text\":\"0.77\",\"x\":\"College_jobs\",\"xref\":\"x\",\"y\":\"Full_time\",\"yref\":\"y\"},{\"font\":{\"color\":\"#FFFFFF\"},\"showarrow\":false,\"text\":\"0.93\",\"x\":\"Non_college_jobs\",\"xref\":\"x\",\"y\":\"Full_time\",\"yref\":\"y\"},{\"font\":{\"color\":\"#FFFFFF\"},\"showarrow\":false,\"text\":\"0.9\",\"x\":\"Low_wage_jobs\",\"xref\":\"x\",\"y\":\"Full_time\",\"yref\":\"y\"},{\"font\":{\"color\":\"#FFFFFF\"},\"showarrow\":false,\"text\":\"-0.12\",\"x\":\"ShareMen\",\"xref\":\"x\",\"y\":\"Full_time\",\"yref\":\"y\"},{\"font\":{\"color\":\"#FFFFFF\"},\"showarrow\":false,\"text\":\"0.89\",\"x\":\"Amount Men\",\"xref\":\"x\",\"y\":\"Full_time\",\"yref\":\"y\"},{\"font\":{\"color\":\"#FFFFFF\"},\"showarrow\":false,\"text\":\"0.92\",\"x\":\"Amount Women\",\"xref\":\"x\",\"y\":\"Full_time\",\"yref\":\"y\"},{\"font\":{\"color\":\"#FFFFFF\"},\"showarrow\":false,\"text\":\"0.19\",\"x\":\"Rank\",\"xref\":\"x\",\"y\":\"Part_time\",\"yref\":\"y\"},{\"font\":{\"color\":\"#FFFFFF\"},\"showarrow\":false,\"text\":\"0.19\",\"x\":\"Major_code\",\"xref\":\"x\",\"y\":\"Part_time\",\"yref\":\"y\"},{\"font\":{\"color\":\"#FFFFFF\"},\"showarrow\":false,\"text\":\"0.95\",\"x\":\"Total\",\"xref\":\"x\",\"y\":\"Part_time\",\"yref\":\"y\"},{\"font\":{\"color\":\"#FFFFFF\"},\"showarrow\":false,\"text\":\"0.21\",\"x\":\"ShareWomen\",\"xref\":\"x\",\"y\":\"Part_time\",\"yref\":\"y\"},{\"font\":{\"color\":\"#FFFFFF\"},\"showarrow\":false,\"text\":\"0.82\",\"x\":\"Sample_size\",\"xref\":\"x\",\"y\":\"Part_time\",\"yref\":\"y\"},{\"font\":{\"color\":\"#FFFFFF\"},\"showarrow\":false,\"text\":\"0.93\",\"x\":\"Employed\",\"xref\":\"x\",\"y\":\"Part_time\",\"yref\":\"y\"},{\"font\":{\"color\":\"#FFFFFF\"},\"showarrow\":false,\"text\":\"0.9\",\"x\":\"Full_time\",\"xref\":\"x\",\"y\":\"Part_time\",\"yref\":\"y\"},{\"font\":{\"color\":\"#FFFFFF\"},\"showarrow\":false,\"text\":\"1.0\",\"x\":\"Part_time\",\"xref\":\"x\",\"y\":\"Part_time\",\"yref\":\"y\"},{\"font\":{\"color\":\"#FFFFFF\"},\"showarrow\":false,\"text\":\"0.88\",\"x\":\"Full_time_year_round\",\"xref\":\"x\",\"y\":\"Part_time\",\"yref\":\"y\"},{\"font\":{\"color\":\"#FFFFFF\"},\"showarrow\":false,\"text\":\"0.95\",\"x\":\"Unemployed\",\"xref\":\"x\",\"y\":\"Part_time\",\"yref\":\"y\"},{\"font\":{\"color\":\"#FFFFFF\"},\"showarrow\":false,\"text\":\"0.11\",\"x\":\"Unemployment_rate\",\"xref\":\"x\",\"y\":\"Part_time\",\"yref\":\"y\"},{\"font\":{\"color\":\"#FFFFFF\"},\"showarrow\":false,\"text\":\"-0.19\",\"x\":\"Median\",\"xref\":\"x\",\"y\":\"Part_time\",\"yref\":\"y\"},{\"font\":{\"color\":\"#FFFFFF\"},\"showarrow\":false,\"text\":\"-0.15\",\"x\":\"P25th\",\"xref\":\"x\",\"y\":\"Part_time\",\"yref\":\"y\"},{\"font\":{\"color\":\"#FFFFFF\"},\"showarrow\":false,\"text\":\"-0.16\",\"x\":\"P75th\",\"xref\":\"x\",\"y\":\"Part_time\",\"yref\":\"y\"},{\"font\":{\"color\":\"#FFFFFF\"},\"showarrow\":false,\"text\":\"0.8\",\"x\":\"College_jobs\",\"xref\":\"x\",\"y\":\"Part_time\",\"yref\":\"y\"},{\"font\":{\"color\":\"#FFFFFF\"},\"showarrow\":false,\"text\":\"0.91\",\"x\":\"Non_college_jobs\",\"xref\":\"x\",\"y\":\"Part_time\",\"yref\":\"y\"},{\"font\":{\"color\":\"#FFFFFF\"},\"showarrow\":false,\"text\":\"0.95\",\"x\":\"Low_wage_jobs\",\"xref\":\"x\",\"y\":\"Part_time\",\"yref\":\"y\"},{\"font\":{\"color\":\"#FFFFFF\"},\"showarrow\":false,\"text\":\"-0.21\",\"x\":\"ShareMen\",\"xref\":\"x\",\"y\":\"Part_time\",\"yref\":\"y\"},{\"font\":{\"color\":\"#FFFFFF\"},\"showarrow\":false,\"text\":\"0.75\",\"x\":\"Amount Men\",\"xref\":\"x\",\"y\":\"Part_time\",\"yref\":\"y\"},{\"font\":{\"color\":\"#FFFFFF\"},\"showarrow\":false,\"text\":\"0.95\",\"x\":\"Amount Women\",\"xref\":\"x\",\"y\":\"Part_time\",\"yref\":\"y\"},{\"font\":{\"color\":\"#FFFFFF\"},\"showarrow\":false,\"text\":\"0.02\",\"x\":\"Rank\",\"xref\":\"x\",\"y\":\"Full_time_year_round\",\"yref\":\"y\"},{\"font\":{\"color\":\"#FFFFFF\"},\"showarrow\":false,\"text\":\"0.2\",\"x\":\"Major_code\",\"xref\":\"x\",\"y\":\"Full_time_year_round\",\"yref\":\"y\"},{\"font\":{\"color\":\"#FFFFFF\"},\"showarrow\":false,\"text\":\"0.98\",\"x\":\"Total\",\"xref\":\"x\",\"y\":\"Full_time_year_round\",\"yref\":\"y\"},{\"font\":{\"color\":\"#FFFFFF\"},\"showarrow\":false,\"text\":\"0.11\",\"x\":\"ShareWomen\",\"xref\":\"x\",\"y\":\"Full_time_year_round\",\"yref\":\"y\"},{\"font\":{\"color\":\"#FFFFFF\"},\"showarrow\":false,\"text\":\"0.99\",\"x\":\"Sample_size\",\"xref\":\"x\",\"y\":\"Full_time_year_round\",\"yref\":\"y\"},{\"font\":{\"color\":\"#FFFFFF\"},\"showarrow\":false,\"text\":\"0.99\",\"x\":\"Employed\",\"xref\":\"x\",\"y\":\"Full_time_year_round\",\"yref\":\"y\"},{\"font\":{\"color\":\"#FFFFFF\"},\"showarrow\":false,\"text\":\"1.0\",\"x\":\"Full_time\",\"xref\":\"x\",\"y\":\"Full_time_year_round\",\"yref\":\"y\"},{\"font\":{\"color\":\"#FFFFFF\"},\"showarrow\":false,\"text\":\"0.88\",\"x\":\"Part_time\",\"xref\":\"x\",\"y\":\"Full_time_year_round\",\"yref\":\"y\"},{\"font\":{\"color\":\"#FFFFFF\"},\"showarrow\":false,\"text\":\"1.0\",\"x\":\"Full_time_year_round\",\"xref\":\"x\",\"y\":\"Full_time_year_round\",\"yref\":\"y\"},{\"font\":{\"color\":\"#FFFFFF\"},\"showarrow\":false,\"text\":\"0.95\",\"x\":\"Unemployed\",\"xref\":\"x\",\"y\":\"Full_time_year_round\",\"yref\":\"y\"},{\"font\":{\"color\":\"#FFFFFF\"},\"showarrow\":false,\"text\":\"0.06\",\"x\":\"Unemployment_rate\",\"xref\":\"x\",\"y\":\"Full_time_year_round\",\"yref\":\"y\"},{\"font\":{\"color\":\"#FFFFFF\"},\"showarrow\":false,\"text\":\"-0.07\",\"x\":\"Median\",\"xref\":\"x\",\"y\":\"Full_time_year_round\",\"yref\":\"y\"},{\"font\":{\"color\":\"#FFFFFF\"},\"showarrow\":false,\"text\":\"-0.03\",\"x\":\"P25th\",\"xref\":\"x\",\"y\":\"Full_time_year_round\",\"yref\":\"y\"},{\"font\":{\"color\":\"#FFFFFF\"},\"showarrow\":false,\"text\":\"-0.05\",\"x\":\"P75th\",\"xref\":\"x\",\"y\":\"Full_time_year_round\",\"yref\":\"y\"},{\"font\":{\"color\":\"#FFFFFF\"},\"showarrow\":false,\"text\":\"0.75\",\"x\":\"College_jobs\",\"xref\":\"x\",\"y\":\"Full_time_year_round\",\"yref\":\"y\"},{\"font\":{\"color\":\"#FFFFFF\"},\"showarrow\":false,\"text\":\"0.93\",\"x\":\"Non_college_jobs\",\"xref\":\"x\",\"y\":\"Full_time_year_round\",\"yref\":\"y\"},{\"font\":{\"color\":\"#FFFFFF\"},\"showarrow\":false,\"text\":\"0.89\",\"x\":\"Low_wage_jobs\",\"xref\":\"x\",\"y\":\"Full_time_year_round\",\"yref\":\"y\"},{\"font\":{\"color\":\"#FFFFFF\"},\"showarrow\":false,\"text\":\"-0.11\",\"x\":\"ShareMen\",\"xref\":\"x\",\"y\":\"Full_time_year_round\",\"yref\":\"y\"},{\"font\":{\"color\":\"#FFFFFF\"},\"showarrow\":false,\"text\":\"0.89\",\"x\":\"Amount Men\",\"xref\":\"x\",\"y\":\"Full_time_year_round\",\"yref\":\"y\"},{\"font\":{\"color\":\"#FFFFFF\"},\"showarrow\":false,\"text\":\"0.91\",\"x\":\"Amount Women\",\"xref\":\"x\",\"y\":\"Full_time_year_round\",\"yref\":\"y\"},{\"font\":{\"color\":\"#FFFFFF\"},\"showarrow\":false,\"text\":\"0.09\",\"x\":\"Rank\",\"xref\":\"x\",\"y\":\"Unemployed\",\"yref\":\"y\"},{\"font\":{\"color\":\"#FFFFFF\"},\"showarrow\":false,\"text\":\"0.22\",\"x\":\"Major_code\",\"xref\":\"x\",\"y\":\"Unemployed\",\"yref\":\"y\"},{\"font\":{\"color\":\"#FFFFFF\"},\"showarrow\":false,\"text\":\"0.97\",\"x\":\"Total\",\"xref\":\"x\",\"y\":\"Unemployed\",\"yref\":\"y\"},{\"font\":{\"color\":\"#FFFFFF\"},\"showarrow\":false,\"text\":\"0.12\",\"x\":\"ShareWomen\",\"xref\":\"x\",\"y\":\"Unemployed\",\"yref\":\"y\"},{\"font\":{\"color\":\"#FFFFFF\"},\"showarrow\":false,\"text\":\"0.92\",\"x\":\"Sample_size\",\"xref\":\"x\",\"y\":\"Unemployed\",\"yref\":\"y\"},{\"font\":{\"color\":\"#FFFFFF\"},\"showarrow\":false,\"text\":\"0.97\",\"x\":\"Employed\",\"xref\":\"x\",\"y\":\"Unemployed\",\"yref\":\"y\"},{\"font\":{\"color\":\"#FFFFFF\"},\"showarrow\":false,\"text\":\"0.96\",\"x\":\"Full_time\",\"xref\":\"x\",\"y\":\"Unemployed\",\"yref\":\"y\"},{\"font\":{\"color\":\"#FFFFFF\"},\"showarrow\":false,\"text\":\"0.95\",\"x\":\"Part_time\",\"xref\":\"x\",\"y\":\"Unemployed\",\"yref\":\"y\"},{\"font\":{\"color\":\"#FFFFFF\"},\"showarrow\":false,\"text\":\"0.95\",\"x\":\"Full_time_year_round\",\"xref\":\"x\",\"y\":\"Unemployed\",\"yref\":\"y\"},{\"font\":{\"color\":\"#FFFFFF\"},\"showarrow\":false,\"text\":\"1.0\",\"x\":\"Unemployed\",\"xref\":\"x\",\"y\":\"Unemployed\",\"yref\":\"y\"},{\"font\":{\"color\":\"#FFFFFF\"},\"showarrow\":false,\"text\":\"0.17\",\"x\":\"Unemployment_rate\",\"xref\":\"x\",\"y\":\"Unemployed\",\"yref\":\"y\"},{\"font\":{\"color\":\"#FFFFFF\"},\"showarrow\":false,\"text\":\"-0.12\",\"x\":\"Median\",\"xref\":\"x\",\"y\":\"Unemployed\",\"yref\":\"y\"},{\"font\":{\"color\":\"#FFFFFF\"},\"showarrow\":false,\"text\":\"-0.09\",\"x\":\"P25th\",\"xref\":\"x\",\"y\":\"Unemployed\",\"yref\":\"y\"},{\"font\":{\"color\":\"#FFFFFF\"},\"showarrow\":false,\"text\":\"-0.09\",\"x\":\"P75th\",\"xref\":\"x\",\"y\":\"Unemployed\",\"yref\":\"y\"},{\"font\":{\"color\":\"#FFFFFF\"},\"showarrow\":false,\"text\":\"0.71\",\"x\":\"College_jobs\",\"xref\":\"x\",\"y\":\"Unemployed\",\"yref\":\"y\"},{\"font\":{\"color\":\"#FFFFFF\"},\"showarrow\":false,\"text\":\"0.96\",\"x\":\"Non_college_jobs\",\"xref\":\"x\",\"y\":\"Unemployed\",\"yref\":\"y\"},{\"font\":{\"color\":\"#FFFFFF\"},\"showarrow\":false,\"text\":\"0.96\",\"x\":\"Low_wage_jobs\",\"xref\":\"x\",\"y\":\"Unemployed\",\"yref\":\"y\"},{\"font\":{\"color\":\"#FFFFFF\"},\"showarrow\":false,\"text\":\"-0.12\",\"x\":\"ShareMen\",\"xref\":\"x\",\"y\":\"Unemployed\",\"yref\":\"y\"},{\"font\":{\"color\":\"#FFFFFF\"},\"showarrow\":false,\"text\":\"0.87\",\"x\":\"Amount Men\",\"xref\":\"x\",\"y\":\"Unemployed\",\"yref\":\"y\"},{\"font\":{\"color\":\"#FFFFFF\"},\"showarrow\":false,\"text\":\"0.91\",\"x\":\"Amount Women\",\"xref\":\"x\",\"y\":\"Unemployed\",\"yref\":\"y\"},{\"font\":{\"color\":\"#FFFFFF\"},\"showarrow\":false,\"text\":\"0.08\",\"x\":\"Rank\",\"xref\":\"x\",\"y\":\"Unemployment_rate\",\"yref\":\"y\"},{\"font\":{\"color\":\"#FFFFFF\"},\"showarrow\":false,\"text\":\"0.14\",\"x\":\"Major_code\",\"xref\":\"x\",\"y\":\"Unemployment_rate\",\"yref\":\"y\"},{\"font\":{\"color\":\"#FFFFFF\"},\"showarrow\":false,\"text\":\"0.08\",\"x\":\"Total\",\"xref\":\"x\",\"y\":\"Unemployment_rate\",\"yref\":\"y\"},{\"font\":{\"color\":\"#FFFFFF\"},\"showarrow\":false,\"text\":\"0.07\",\"x\":\"ShareWomen\",\"xref\":\"x\",\"y\":\"Unemployment_rate\",\"yref\":\"y\"},{\"font\":{\"color\":\"#FFFFFF\"},\"showarrow\":false,\"text\":\"0.06\",\"x\":\"Sample_size\",\"xref\":\"x\",\"y\":\"Unemployment_rate\",\"yref\":\"y\"},{\"font\":{\"color\":\"#FFFFFF\"},\"showarrow\":false,\"text\":\"0.07\",\"x\":\"Employed\",\"xref\":\"x\",\"y\":\"Unemployment_rate\",\"yref\":\"y\"},{\"font\":{\"color\":\"#FFFFFF\"},\"showarrow\":false,\"text\":\"0.07\",\"x\":\"Full_time\",\"xref\":\"x\",\"y\":\"Unemployment_rate\",\"yref\":\"y\"},{\"font\":{\"color\":\"#FFFFFF\"},\"showarrow\":false,\"text\":\"0.11\",\"x\":\"Part_time\",\"xref\":\"x\",\"y\":\"Unemployment_rate\",\"yref\":\"y\"},{\"font\":{\"color\":\"#FFFFFF\"},\"showarrow\":false,\"text\":\"0.06\",\"x\":\"Full_time_year_round\",\"xref\":\"x\",\"y\":\"Unemployment_rate\",\"yref\":\"y\"},{\"font\":{\"color\":\"#FFFFFF\"},\"showarrow\":false,\"text\":\"0.17\",\"x\":\"Unemployed\",\"xref\":\"x\",\"y\":\"Unemployment_rate\",\"yref\":\"y\"},{\"font\":{\"color\":\"#FFFFFF\"},\"showarrow\":false,\"text\":\"1.0\",\"x\":\"Unemployment_rate\",\"xref\":\"x\",\"y\":\"Unemployment_rate\",\"yref\":\"y\"},{\"font\":{\"color\":\"#FFFFFF\"},\"showarrow\":false,\"text\":\"-0.12\",\"x\":\"Median\",\"xref\":\"x\",\"y\":\"Unemployment_rate\",\"yref\":\"y\"},{\"font\":{\"color\":\"#FFFFFF\"},\"showarrow\":false,\"text\":\"-0.1\",\"x\":\"P25th\",\"xref\":\"x\",\"y\":\"Unemployment_rate\",\"yref\":\"y\"},{\"font\":{\"color\":\"#FFFFFF\"},\"showarrow\":false,\"text\":\"-0.04\",\"x\":\"P75th\",\"xref\":\"x\",\"y\":\"Unemployment_rate\",\"yref\":\"y\"},{\"font\":{\"color\":\"#FFFFFF\"},\"showarrow\":false,\"text\":\"-0.01\",\"x\":\"College_jobs\",\"xref\":\"x\",\"y\":\"Unemployment_rate\",\"yref\":\"y\"},{\"font\":{\"color\":\"#FFFFFF\"},\"showarrow\":false,\"text\":\"0.12\",\"x\":\"Non_college_jobs\",\"xref\":\"x\",\"y\":\"Unemployment_rate\",\"yref\":\"y\"},{\"font\":{\"color\":\"#FFFFFF\"},\"showarrow\":false,\"text\":\"0.13\",\"x\":\"Low_wage_jobs\",\"xref\":\"x\",\"y\":\"Unemployment_rate\",\"yref\":\"y\"},{\"font\":{\"color\":\"#FFFFFF\"},\"showarrow\":false,\"text\":\"-0.07\",\"x\":\"ShareMen\",\"xref\":\"x\",\"y\":\"Unemployment_rate\",\"yref\":\"y\"},{\"font\":{\"color\":\"#FFFFFF\"},\"showarrow\":false,\"text\":\"0.1\",\"x\":\"Amount Men\",\"xref\":\"x\",\"y\":\"Unemployment_rate\",\"yref\":\"y\"},{\"font\":{\"color\":\"#FFFFFF\"},\"showarrow\":false,\"text\":\"0.06\",\"x\":\"Amount Women\",\"xref\":\"x\",\"y\":\"Unemployment_rate\",\"yref\":\"y\"},{\"font\":{\"color\":\"#FFFFFF\"},\"showarrow\":false,\"text\":\"-0.87\",\"x\":\"Rank\",\"xref\":\"x\",\"y\":\"Median\",\"yref\":\"y\"},{\"font\":{\"color\":\"#FFFFFF\"},\"showarrow\":false,\"text\":\"-0.17\",\"x\":\"Major_code\",\"xref\":\"x\",\"y\":\"Median\",\"yref\":\"y\"},{\"font\":{\"color\":\"#FFFFFF\"},\"showarrow\":false,\"text\":\"-0.11\",\"x\":\"Total\",\"xref\":\"x\",\"y\":\"Median\",\"yref\":\"y\"},{\"font\":{\"color\":\"#FFFFFF\"},\"showarrow\":false,\"text\":\"-0.62\",\"x\":\"ShareWomen\",\"xref\":\"x\",\"y\":\"Median\",\"yref\":\"y\"},{\"font\":{\"color\":\"#FFFFFF\"},\"showarrow\":false,\"text\":\"-0.06\",\"x\":\"Sample_size\",\"xref\":\"x\",\"y\":\"Median\",\"yref\":\"y\"},{\"font\":{\"color\":\"#FFFFFF\"},\"showarrow\":false,\"text\":\"-0.1\",\"x\":\"Employed\",\"xref\":\"x\",\"y\":\"Median\",\"yref\":\"y\"},{\"font\":{\"color\":\"#FFFFFF\"},\"showarrow\":false,\"text\":\"-0.08\",\"x\":\"Full_time\",\"xref\":\"x\",\"y\":\"Median\",\"yref\":\"y\"},{\"font\":{\"color\":\"#FFFFFF\"},\"showarrow\":false,\"text\":\"-0.19\",\"x\":\"Part_time\",\"xref\":\"x\",\"y\":\"Median\",\"yref\":\"y\"},{\"font\":{\"color\":\"#FFFFFF\"},\"showarrow\":false,\"text\":\"-0.07\",\"x\":\"Full_time_year_round\",\"xref\":\"x\",\"y\":\"Median\",\"yref\":\"y\"},{\"font\":{\"color\":\"#FFFFFF\"},\"showarrow\":false,\"text\":\"-0.12\",\"x\":\"Unemployed\",\"xref\":\"x\",\"y\":\"Median\",\"yref\":\"y\"},{\"font\":{\"color\":\"#FFFFFF\"},\"showarrow\":false,\"text\":\"-0.12\",\"x\":\"Unemployment_rate\",\"xref\":\"x\",\"y\":\"Median\",\"yref\":\"y\"},{\"font\":{\"color\":\"#FFFFFF\"},\"showarrow\":false,\"text\":\"1.0\",\"x\":\"Median\",\"xref\":\"x\",\"y\":\"Median\",\"yref\":\"y\"},{\"font\":{\"color\":\"#FFFFFF\"},\"showarrow\":false,\"text\":\"0.89\",\"x\":\"P25th\",\"xref\":\"x\",\"y\":\"Median\",\"yref\":\"y\"},{\"font\":{\"color\":\"#FFFFFF\"},\"showarrow\":false,\"text\":\"0.9\",\"x\":\"P75th\",\"xref\":\"x\",\"y\":\"Median\",\"yref\":\"y\"},{\"font\":{\"color\":\"#FFFFFF\"},\"showarrow\":false,\"text\":\"-0.05\",\"x\":\"College_jobs\",\"xref\":\"x\",\"y\":\"Median\",\"yref\":\"y\"},{\"font\":{\"color\":\"#FFFFFF\"},\"showarrow\":false,\"text\":\"-0.17\",\"x\":\"Non_college_jobs\",\"xref\":\"x\",\"y\":\"Median\",\"yref\":\"y\"},{\"font\":{\"color\":\"#FFFFFF\"},\"showarrow\":false,\"text\":\"-0.21\",\"x\":\"Low_wage_jobs\",\"xref\":\"x\",\"y\":\"Median\",\"yref\":\"y\"},{\"font\":{\"color\":\"#FFFFFF\"},\"showarrow\":false,\"text\":\"0.62\",\"x\":\"ShareMen\",\"xref\":\"x\",\"y\":\"Median\",\"yref\":\"y\"},{\"font\":{\"color\":\"#FFFFFF\"},\"showarrow\":false,\"text\":\"0.03\",\"x\":\"Amount Men\",\"xref\":\"x\",\"y\":\"Median\",\"yref\":\"y\"},{\"font\":{\"color\":\"#FFFFFF\"},\"showarrow\":false,\"text\":\"-0.18\",\"x\":\"Amount Women\",\"xref\":\"x\",\"y\":\"Median\",\"yref\":\"y\"},{\"font\":{\"color\":\"#FFFFFF\"},\"showarrow\":false,\"text\":\"-0.74\",\"x\":\"Rank\",\"xref\":\"x\",\"y\":\"P25th\",\"yref\":\"y\"},{\"font\":{\"color\":\"#FFFFFF\"},\"showarrow\":false,\"text\":\"-0.17\",\"x\":\"Major_code\",\"xref\":\"x\",\"y\":\"P25th\",\"yref\":\"y\"},{\"font\":{\"color\":\"#FFFFFF\"},\"showarrow\":false,\"text\":\"-0.07\",\"x\":\"Total\",\"xref\":\"x\",\"y\":\"P25th\",\"yref\":\"y\"},{\"font\":{\"color\":\"#FFFFFF\"},\"showarrow\":false,\"text\":\"-0.5\",\"x\":\"ShareWomen\",\"xref\":\"x\",\"y\":\"P25th\",\"yref\":\"y\"},{\"font\":{\"color\":\"#FFFFFF\"},\"showarrow\":false,\"text\":\"-0.02\",\"x\":\"Sample_size\",\"xref\":\"x\",\"y\":\"P25th\",\"yref\":\"y\"},{\"font\":{\"color\":\"#FFFFFF\"},\"showarrow\":false,\"text\":\"-0.07\",\"x\":\"Employed\",\"xref\":\"x\",\"y\":\"P25th\",\"yref\":\"y\"},{\"font\":{\"color\":\"#FFFFFF\"},\"showarrow\":false,\"text\":\"-0.04\",\"x\":\"Full_time\",\"xref\":\"x\",\"y\":\"P25th\",\"yref\":\"y\"},{\"font\":{\"color\":\"#FFFFFF\"},\"showarrow\":false,\"text\":\"-0.15\",\"x\":\"Part_time\",\"xref\":\"x\",\"y\":\"P25th\",\"yref\":\"y\"},{\"font\":{\"color\":\"#FFFFFF\"},\"showarrow\":false,\"text\":\"-0.03\",\"x\":\"Full_time_year_round\",\"xref\":\"x\",\"y\":\"P25th\",\"yref\":\"y\"},{\"font\":{\"color\":\"#FFFFFF\"},\"showarrow\":false,\"text\":\"-0.09\",\"x\":\"Unemployed\",\"xref\":\"x\",\"y\":\"P25th\",\"yref\":\"y\"},{\"font\":{\"color\":\"#FFFFFF\"},\"showarrow\":false,\"text\":\"-0.1\",\"x\":\"Unemployment_rate\",\"xref\":\"x\",\"y\":\"P25th\",\"yref\":\"y\"},{\"font\":{\"color\":\"#FFFFFF\"},\"showarrow\":false,\"text\":\"0.89\",\"x\":\"Median\",\"xref\":\"x\",\"y\":\"P25th\",\"yref\":\"y\"},{\"font\":{\"color\":\"#FFFFFF\"},\"showarrow\":false,\"text\":\"1.0\",\"x\":\"P25th\",\"xref\":\"x\",\"y\":\"P25th\",\"yref\":\"y\"},{\"font\":{\"color\":\"#FFFFFF\"},\"showarrow\":false,\"text\":\"0.74\",\"x\":\"P75th\",\"xref\":\"x\",\"y\":\"P25th\",\"yref\":\"y\"},{\"font\":{\"color\":\"#FFFFFF\"},\"showarrow\":false,\"text\":\"-0.01\",\"x\":\"College_jobs\",\"xref\":\"x\",\"y\":\"P25th\",\"yref\":\"y\"},{\"font\":{\"color\":\"#FFFFFF\"},\"showarrow\":false,\"text\":\"-0.14\",\"x\":\"Non_college_jobs\",\"xref\":\"x\",\"y\":\"P25th\",\"yref\":\"y\"},{\"font\":{\"color\":\"#FFFFFF\"},\"showarrow\":false,\"text\":\"-0.17\",\"x\":\"Low_wage_jobs\",\"xref\":\"x\",\"y\":\"P25th\",\"yref\":\"y\"},{\"font\":{\"color\":\"#FFFFFF\"},\"showarrow\":false,\"text\":\"0.5\",\"x\":\"ShareMen\",\"xref\":\"x\",\"y\":\"P25th\",\"yref\":\"y\"},{\"font\":{\"color\":\"#FFFFFF\"},\"showarrow\":false,\"text\":\"0.04\",\"x\":\"Amount Men\",\"xref\":\"x\",\"y\":\"P25th\",\"yref\":\"y\"},{\"font\":{\"color\":\"#FFFFFF\"},\"showarrow\":false,\"text\":\"-0.14\",\"x\":\"Amount Women\",\"xref\":\"x\",\"y\":\"P25th\",\"yref\":\"y\"},{\"font\":{\"color\":\"#FFFFFF\"},\"showarrow\":false,\"text\":\"-0.8\",\"x\":\"Rank\",\"xref\":\"x\",\"y\":\"P75th\",\"yref\":\"y\"},{\"font\":{\"color\":\"#FFFFFF\"},\"showarrow\":false,\"text\":\"-0.08\",\"x\":\"Major_code\",\"xref\":\"x\",\"y\":\"P75th\",\"yref\":\"y\"},{\"font\":{\"color\":\"#FFFFFF\"},\"showarrow\":false,\"text\":\"-0.08\",\"x\":\"Total\",\"xref\":\"x\",\"y\":\"P75th\",\"yref\":\"y\"},{\"font\":{\"color\":\"#FFFFFF\"},\"showarrow\":false,\"text\":\"-0.59\",\"x\":\"ShareWomen\",\"xref\":\"x\",\"y\":\"P75th\",\"yref\":\"y\"},{\"font\":{\"color\":\"#FFFFFF\"},\"showarrow\":false,\"text\":\"-0.05\",\"x\":\"Sample_size\",\"xref\":\"x\",\"y\":\"P75th\",\"yref\":\"y\"},{\"font\":{\"color\":\"#FFFFFF\"},\"showarrow\":false,\"text\":\"-0.08\",\"x\":\"Employed\",\"xref\":\"x\",\"y\":\"P75th\",\"yref\":\"y\"},{\"font\":{\"color\":\"#FFFFFF\"},\"showarrow\":false,\"text\":\"-0.06\",\"x\":\"Full_time\",\"xref\":\"x\",\"y\":\"P75th\",\"yref\":\"y\"},{\"font\":{\"color\":\"#FFFFFF\"},\"showarrow\":false,\"text\":\"-0.16\",\"x\":\"Part_time\",\"xref\":\"x\",\"y\":\"P75th\",\"yref\":\"y\"},{\"font\":{\"color\":\"#FFFFFF\"},\"showarrow\":false,\"text\":\"-0.05\",\"x\":\"Full_time_year_round\",\"xref\":\"x\",\"y\":\"P75th\",\"yref\":\"y\"},{\"font\":{\"color\":\"#FFFFFF\"},\"showarrow\":false,\"text\":\"-0.09\",\"x\":\"Unemployed\",\"xref\":\"x\",\"y\":\"P75th\",\"yref\":\"y\"},{\"font\":{\"color\":\"#FFFFFF\"},\"showarrow\":false,\"text\":\"-0.04\",\"x\":\"Unemployment_rate\",\"xref\":\"x\",\"y\":\"P75th\",\"yref\":\"y\"},{\"font\":{\"color\":\"#FFFFFF\"},\"showarrow\":false,\"text\":\"0.9\",\"x\":\"Median\",\"xref\":\"x\",\"y\":\"P75th\",\"yref\":\"y\"},{\"font\":{\"color\":\"#FFFFFF\"},\"showarrow\":false,\"text\":\"0.74\",\"x\":\"P25th\",\"xref\":\"x\",\"y\":\"P75th\",\"yref\":\"y\"},{\"font\":{\"color\":\"#FFFFFF\"},\"showarrow\":false,\"text\":\"1.0\",\"x\":\"P75th\",\"xref\":\"x\",\"y\":\"P75th\",\"yref\":\"y\"},{\"font\":{\"color\":\"#FFFFFF\"},\"showarrow\":false,\"text\":\"-0.05\",\"x\":\"College_jobs\",\"xref\":\"x\",\"y\":\"P75th\",\"yref\":\"y\"},{\"font\":{\"color\":\"#FFFFFF\"},\"showarrow\":false,\"text\":\"-0.14\",\"x\":\"Non_college_jobs\",\"xref\":\"x\",\"y\":\"P75th\",\"yref\":\"y\"},{\"font\":{\"color\":\"#FFFFFF\"},\"showarrow\":false,\"text\":\"-0.17\",\"x\":\"Low_wage_jobs\",\"xref\":\"x\",\"y\":\"P75th\",\"yref\":\"y\"},{\"font\":{\"color\":\"#FFFFFF\"},\"showarrow\":false,\"text\":\"0.59\",\"x\":\"ShareMen\",\"xref\":\"x\",\"y\":\"P75th\",\"yref\":\"y\"},{\"font\":{\"color\":\"#FFFFFF\"},\"showarrow\":false,\"text\":\"0.05\",\"x\":\"Amount Men\",\"xref\":\"x\",\"y\":\"P75th\",\"yref\":\"y\"},{\"font\":{\"color\":\"#FFFFFF\"},\"showarrow\":false,\"text\":\"-0.16\",\"x\":\"Amount Women\",\"xref\":\"x\",\"y\":\"P75th\",\"yref\":\"y\"},{\"font\":{\"color\":\"#FFFFFF\"},\"showarrow\":false,\"text\":\"0.05\",\"x\":\"Rank\",\"xref\":\"x\",\"y\":\"College_jobs\",\"yref\":\"y\"},{\"font\":{\"color\":\"#FFFFFF\"},\"showarrow\":false,\"text\":\"0.04\",\"x\":\"Major_code\",\"xref\":\"x\",\"y\":\"College_jobs\",\"yref\":\"y\"},{\"font\":{\"color\":\"#FFFFFF\"},\"showarrow\":false,\"text\":\"0.8\",\"x\":\"Total\",\"xref\":\"x\",\"y\":\"College_jobs\",\"yref\":\"y\"},{\"font\":{\"color\":\"#FFFFFF\"},\"showarrow\":false,\"text\":\"0.2\",\"x\":\"ShareWomen\",\"xref\":\"x\",\"y\":\"College_jobs\",\"yref\":\"y\"},{\"font\":{\"color\":\"#FFFFFF\"},\"showarrow\":false,\"text\":\"0.7\",\"x\":\"Sample_size\",\"xref\":\"x\",\"y\":\"College_jobs\",\"yref\":\"y\"},{\"font\":{\"color\":\"#FFFFFF\"},\"showarrow\":false,\"text\":\"0.8\",\"x\":\"Employed\",\"xref\":\"x\",\"y\":\"College_jobs\",\"yref\":\"y\"},{\"font\":{\"color\":\"#FFFFFF\"},\"showarrow\":false,\"text\":\"0.77\",\"x\":\"Full_time\",\"xref\":\"x\",\"y\":\"College_jobs\",\"yref\":\"y\"},{\"font\":{\"color\":\"#FFFFFF\"},\"showarrow\":false,\"text\":\"0.8\",\"x\":\"Part_time\",\"xref\":\"x\",\"y\":\"College_jobs\",\"yref\":\"y\"},{\"font\":{\"color\":\"#FFFFFF\"},\"showarrow\":false,\"text\":\"0.75\",\"x\":\"Full_time_year_round\",\"xref\":\"x\",\"y\":\"College_jobs\",\"yref\":\"y\"},{\"font\":{\"color\":\"#FFFFFF\"},\"showarrow\":false,\"text\":\"0.71\",\"x\":\"Unemployed\",\"xref\":\"x\",\"y\":\"College_jobs\",\"yref\":\"y\"},{\"font\":{\"color\":\"#FFFFFF\"},\"showarrow\":false,\"text\":\"-0.01\",\"x\":\"Unemployment_rate\",\"xref\":\"x\",\"y\":\"College_jobs\",\"yref\":\"y\"},{\"font\":{\"color\":\"#FFFFFF\"},\"showarrow\":false,\"text\":\"-0.05\",\"x\":\"Median\",\"xref\":\"x\",\"y\":\"College_jobs\",\"yref\":\"y\"},{\"font\":{\"color\":\"#FFFFFF\"},\"showarrow\":false,\"text\":\"-0.01\",\"x\":\"P25th\",\"xref\":\"x\",\"y\":\"College_jobs\",\"yref\":\"y\"},{\"font\":{\"color\":\"#FFFFFF\"},\"showarrow\":false,\"text\":\"-0.05\",\"x\":\"P75th\",\"xref\":\"x\",\"y\":\"College_jobs\",\"yref\":\"y\"},{\"font\":{\"color\":\"#FFFFFF\"},\"showarrow\":false,\"text\":\"1.0\",\"x\":\"College_jobs\",\"xref\":\"x\",\"y\":\"College_jobs\",\"yref\":\"y\"},{\"font\":{\"color\":\"#FFFFFF\"},\"showarrow\":false,\"text\":\"0.61\",\"x\":\"Non_college_jobs\",\"xref\":\"x\",\"y\":\"College_jobs\",\"yref\":\"y\"},{\"font\":{\"color\":\"#FFFFFF\"},\"showarrow\":false,\"text\":\"0.65\",\"x\":\"Low_wage_jobs\",\"xref\":\"x\",\"y\":\"College_jobs\",\"yref\":\"y\"},{\"font\":{\"color\":\"#FFFFFF\"},\"showarrow\":false,\"text\":\"-0.2\",\"x\":\"ShareMen\",\"xref\":\"x\",\"y\":\"College_jobs\",\"yref\":\"y\"},{\"font\":{\"color\":\"#FFFFFF\"},\"showarrow\":false,\"text\":\"0.56\",\"x\":\"Amount Men\",\"xref\":\"x\",\"y\":\"College_jobs\",\"yref\":\"y\"},{\"font\":{\"color\":\"#FFFFFF\"},\"showarrow\":false,\"text\":\"0.85\",\"x\":\"Amount Women\",\"xref\":\"x\",\"y\":\"College_jobs\",\"yref\":\"y\"},{\"font\":{\"color\":\"#FFFFFF\"},\"showarrow\":false,\"text\":\"0.14\",\"x\":\"Rank\",\"xref\":\"x\",\"y\":\"Non_college_jobs\",\"yref\":\"y\"},{\"font\":{\"color\":\"#FFFFFF\"},\"showarrow\":false,\"text\":\"0.23\",\"x\":\"Major_code\",\"xref\":\"x\",\"y\":\"Non_college_jobs\",\"yref\":\"y\"},{\"font\":{\"color\":\"#FFFFFF\"},\"showarrow\":false,\"text\":\"0.94\",\"x\":\"Total\",\"xref\":\"x\",\"y\":\"Non_college_jobs\",\"yref\":\"y\"},{\"font\":{\"color\":\"#FFFFFF\"},\"showarrow\":false,\"text\":\"0.14\",\"x\":\"ShareWomen\",\"xref\":\"x\",\"y\":\"Non_college_jobs\",\"yref\":\"y\"},{\"font\":{\"color\":\"#FFFFFF\"},\"showarrow\":false,\"text\":\"0.92\",\"x\":\"Sample_size\",\"xref\":\"x\",\"y\":\"Non_college_jobs\",\"yref\":\"y\"},{\"font\":{\"color\":\"#FFFFFF\"},\"showarrow\":false,\"text\":\"0.94\",\"x\":\"Employed\",\"xref\":\"x\",\"y\":\"Non_college_jobs\",\"yref\":\"y\"},{\"font\":{\"color\":\"#FFFFFF\"},\"showarrow\":false,\"text\":\"0.93\",\"x\":\"Full_time\",\"xref\":\"x\",\"y\":\"Non_college_jobs\",\"yref\":\"y\"},{\"font\":{\"color\":\"#FFFFFF\"},\"showarrow\":false,\"text\":\"0.91\",\"x\":\"Part_time\",\"xref\":\"x\",\"y\":\"Non_college_jobs\",\"yref\":\"y\"},{\"font\":{\"color\":\"#FFFFFF\"},\"showarrow\":false,\"text\":\"0.93\",\"x\":\"Full_time_year_round\",\"xref\":\"x\",\"y\":\"Non_college_jobs\",\"yref\":\"y\"},{\"font\":{\"color\":\"#FFFFFF\"},\"showarrow\":false,\"text\":\"0.96\",\"x\":\"Unemployed\",\"xref\":\"x\",\"y\":\"Non_college_jobs\",\"yref\":\"y\"},{\"font\":{\"color\":\"#FFFFFF\"},\"showarrow\":false,\"text\":\"0.12\",\"x\":\"Unemployment_rate\",\"xref\":\"x\",\"y\":\"Non_college_jobs\",\"yref\":\"y\"},{\"font\":{\"color\":\"#FFFFFF\"},\"showarrow\":false,\"text\":\"-0.17\",\"x\":\"Median\",\"xref\":\"x\",\"y\":\"Non_college_jobs\",\"yref\":\"y\"},{\"font\":{\"color\":\"#FFFFFF\"},\"showarrow\":false,\"text\":\"-0.14\",\"x\":\"P25th\",\"xref\":\"x\",\"y\":\"Non_college_jobs\",\"yref\":\"y\"},{\"font\":{\"color\":\"#FFFFFF\"},\"showarrow\":false,\"text\":\"-0.14\",\"x\":\"P75th\",\"xref\":\"x\",\"y\":\"Non_college_jobs\",\"yref\":\"y\"},{\"font\":{\"color\":\"#FFFFFF\"},\"showarrow\":false,\"text\":\"0.61\",\"x\":\"College_jobs\",\"xref\":\"x\",\"y\":\"Non_college_jobs\",\"yref\":\"y\"},{\"font\":{\"color\":\"#FFFFFF\"},\"showarrow\":false,\"text\":\"1.0\",\"x\":\"Non_college_jobs\",\"xref\":\"x\",\"y\":\"Non_college_jobs\",\"yref\":\"y\"},{\"font\":{\"color\":\"#FFFFFF\"},\"showarrow\":false,\"text\":\"0.98\",\"x\":\"Low_wage_jobs\",\"xref\":\"x\",\"y\":\"Non_college_jobs\",\"yref\":\"y\"},{\"font\":{\"color\":\"#FFFFFF\"},\"showarrow\":false,\"text\":\"-0.14\",\"x\":\"ShareMen\",\"xref\":\"x\",\"y\":\"Non_college_jobs\",\"yref\":\"y\"},{\"font\":{\"color\":\"#FFFFFF\"},\"showarrow\":false,\"text\":\"0.85\",\"x\":\"Amount Men\",\"xref\":\"x\",\"y\":\"Non_college_jobs\",\"yref\":\"y\"},{\"font\":{\"color\":\"#FFFFFF\"},\"showarrow\":false,\"text\":\"0.87\",\"x\":\"Amount Women\",\"xref\":\"x\",\"y\":\"Non_college_jobs\",\"yref\":\"y\"},{\"font\":{\"color\":\"#FFFFFF\"},\"showarrow\":false,\"text\":\"0.2\",\"x\":\"Rank\",\"xref\":\"x\",\"y\":\"Low_wage_jobs\",\"yref\":\"y\"},{\"font\":{\"color\":\"#FFFFFF\"},\"showarrow\":false,\"text\":\"0.22\",\"x\":\"Major_code\",\"xref\":\"x\",\"y\":\"Low_wage_jobs\",\"yref\":\"y\"},{\"font\":{\"color\":\"#FFFFFF\"},\"showarrow\":false,\"text\":\"0.94\",\"x\":\"Total\",\"xref\":\"x\",\"y\":\"Low_wage_jobs\",\"yref\":\"y\"},{\"font\":{\"color\":\"#FFFFFF\"},\"showarrow\":false,\"text\":\"0.19\",\"x\":\"ShareWomen\",\"xref\":\"x\",\"y\":\"Low_wage_jobs\",\"yref\":\"y\"},{\"font\":{\"color\":\"#FFFFFF\"},\"showarrow\":false,\"text\":\"0.86\",\"x\":\"Sample_size\",\"xref\":\"x\",\"y\":\"Low_wage_jobs\",\"yref\":\"y\"},{\"font\":{\"color\":\"#FFFFFF\"},\"showarrow\":false,\"text\":\"0.93\",\"x\":\"Employed\",\"xref\":\"x\",\"y\":\"Low_wage_jobs\",\"yref\":\"y\"},{\"font\":{\"color\":\"#FFFFFF\"},\"showarrow\":false,\"text\":\"0.9\",\"x\":\"Full_time\",\"xref\":\"x\",\"y\":\"Low_wage_jobs\",\"yref\":\"y\"},{\"font\":{\"color\":\"#FFFFFF\"},\"showarrow\":false,\"text\":\"0.95\",\"x\":\"Part_time\",\"xref\":\"x\",\"y\":\"Low_wage_jobs\",\"yref\":\"y\"},{\"font\":{\"color\":\"#FFFFFF\"},\"showarrow\":false,\"text\":\"0.89\",\"x\":\"Full_time_year_round\",\"xref\":\"x\",\"y\":\"Low_wage_jobs\",\"yref\":\"y\"},{\"font\":{\"color\":\"#FFFFFF\"},\"showarrow\":false,\"text\":\"0.96\",\"x\":\"Unemployed\",\"xref\":\"x\",\"y\":\"Low_wage_jobs\",\"yref\":\"y\"},{\"font\":{\"color\":\"#FFFFFF\"},\"showarrow\":false,\"text\":\"0.13\",\"x\":\"Unemployment_rate\",\"xref\":\"x\",\"y\":\"Low_wage_jobs\",\"yref\":\"y\"},{\"font\":{\"color\":\"#FFFFFF\"},\"showarrow\":false,\"text\":\"-0.21\",\"x\":\"Median\",\"xref\":\"x\",\"y\":\"Low_wage_jobs\",\"yref\":\"y\"},{\"font\":{\"color\":\"#FFFFFF\"},\"showarrow\":false,\"text\":\"-0.17\",\"x\":\"P25th\",\"xref\":\"x\",\"y\":\"Low_wage_jobs\",\"yref\":\"y\"},{\"font\":{\"color\":\"#FFFFFF\"},\"showarrow\":false,\"text\":\"-0.17\",\"x\":\"P75th\",\"xref\":\"x\",\"y\":\"Low_wage_jobs\",\"yref\":\"y\"},{\"font\":{\"color\":\"#FFFFFF\"},\"showarrow\":false,\"text\":\"0.65\",\"x\":\"College_jobs\",\"xref\":\"x\",\"y\":\"Low_wage_jobs\",\"yref\":\"y\"},{\"font\":{\"color\":\"#FFFFFF\"},\"showarrow\":false,\"text\":\"0.98\",\"x\":\"Non_college_jobs\",\"xref\":\"x\",\"y\":\"Low_wage_jobs\",\"yref\":\"y\"},{\"font\":{\"color\":\"#FFFFFF\"},\"showarrow\":false,\"text\":\"1.0\",\"x\":\"Low_wage_jobs\",\"xref\":\"x\",\"y\":\"Low_wage_jobs\",\"yref\":\"y\"},{\"font\":{\"color\":\"#FFFFFF\"},\"showarrow\":false,\"text\":\"-0.19\",\"x\":\"ShareMen\",\"xref\":\"x\",\"y\":\"Low_wage_jobs\",\"yref\":\"y\"},{\"font\":{\"color\":\"#FFFFFF\"},\"showarrow\":false,\"text\":\"0.79\",\"x\":\"Amount Men\",\"xref\":\"x\",\"y\":\"Low_wage_jobs\",\"yref\":\"y\"},{\"font\":{\"color\":\"#FFFFFF\"},\"showarrow\":false,\"text\":\"0.9\",\"x\":\"Amount Women\",\"xref\":\"x\",\"y\":\"Low_wage_jobs\",\"yref\":\"y\"},{\"font\":{\"color\":\"#FFFFFF\"},\"showarrow\":false,\"text\":\"-0.64\",\"x\":\"Rank\",\"xref\":\"x\",\"y\":\"ShareMen\",\"yref\":\"y\"},{\"font\":{\"color\":\"#FFFFFF\"},\"showarrow\":false,\"text\":\"-0.26\",\"x\":\"Major_code\",\"xref\":\"x\",\"y\":\"ShareMen\",\"yref\":\"y\"},{\"font\":{\"color\":\"#FFFFFF\"},\"showarrow\":false,\"text\":\"-0.14\",\"x\":\"Total\",\"xref\":\"x\",\"y\":\"ShareMen\",\"yref\":\"y\"},{\"font\":{\"color\":\"#FFFFFF\"},\"showarrow\":false,\"text\":\"-1.0\",\"x\":\"ShareWomen\",\"xref\":\"x\",\"y\":\"ShareMen\",\"yref\":\"y\"},{\"font\":{\"color\":\"#FFFFFF\"},\"showarrow\":false,\"text\":\"-0.1\",\"x\":\"Sample_size\",\"xref\":\"x\",\"y\":\"ShareMen\",\"yref\":\"y\"},{\"font\":{\"color\":\"#FFFFFF\"},\"showarrow\":false,\"text\":\"-0.15\",\"x\":\"Employed\",\"xref\":\"x\",\"y\":\"ShareMen\",\"yref\":\"y\"},{\"font\":{\"color\":\"#FFFFFF\"},\"showarrow\":false,\"text\":\"-0.12\",\"x\":\"Full_time\",\"xref\":\"x\",\"y\":\"ShareMen\",\"yref\":\"y\"},{\"font\":{\"color\":\"#FFFFFF\"},\"showarrow\":false,\"text\":\"-0.21\",\"x\":\"Part_time\",\"xref\":\"x\",\"y\":\"ShareMen\",\"yref\":\"y\"},{\"font\":{\"color\":\"#FFFFFF\"},\"showarrow\":false,\"text\":\"-0.11\",\"x\":\"Full_time_year_round\",\"xref\":\"x\",\"y\":\"ShareMen\",\"yref\":\"y\"},{\"font\":{\"color\":\"#FFFFFF\"},\"showarrow\":false,\"text\":\"-0.12\",\"x\":\"Unemployed\",\"xref\":\"x\",\"y\":\"ShareMen\",\"yref\":\"y\"},{\"font\":{\"color\":\"#FFFFFF\"},\"showarrow\":false,\"text\":\"-0.07\",\"x\":\"Unemployment_rate\",\"xref\":\"x\",\"y\":\"ShareMen\",\"yref\":\"y\"},{\"font\":{\"color\":\"#FFFFFF\"},\"showarrow\":false,\"text\":\"0.62\",\"x\":\"Median\",\"xref\":\"x\",\"y\":\"ShareMen\",\"yref\":\"y\"},{\"font\":{\"color\":\"#FFFFFF\"},\"showarrow\":false,\"text\":\"0.5\",\"x\":\"P25th\",\"xref\":\"x\",\"y\":\"ShareMen\",\"yref\":\"y\"},{\"font\":{\"color\":\"#FFFFFF\"},\"showarrow\":false,\"text\":\"0.59\",\"x\":\"P75th\",\"xref\":\"x\",\"y\":\"ShareMen\",\"yref\":\"y\"},{\"font\":{\"color\":\"#FFFFFF\"},\"showarrow\":false,\"text\":\"-0.2\",\"x\":\"College_jobs\",\"xref\":\"x\",\"y\":\"ShareMen\",\"yref\":\"y\"},{\"font\":{\"color\":\"#FFFFFF\"},\"showarrow\":false,\"text\":\"-0.14\",\"x\":\"Non_college_jobs\",\"xref\":\"x\",\"y\":\"ShareMen\",\"yref\":\"y\"},{\"font\":{\"color\":\"#FFFFFF\"},\"showarrow\":false,\"text\":\"-0.19\",\"x\":\"Low_wage_jobs\",\"xref\":\"x\",\"y\":\"ShareMen\",\"yref\":\"y\"},{\"font\":{\"color\":\"#FFFFFF\"},\"showarrow\":false,\"text\":\"1.0\",\"x\":\"ShareMen\",\"xref\":\"x\",\"y\":\"ShareMen\",\"yref\":\"y\"},{\"font\":{\"color\":\"#FFFFFF\"},\"showarrow\":false,\"text\":\"0.11\",\"x\":\"Amount Men\",\"xref\":\"x\",\"y\":\"ShareMen\",\"yref\":\"y\"},{\"font\":{\"color\":\"#FFFFFF\"},\"showarrow\":false,\"text\":\"-0.3\",\"x\":\"Amount Women\",\"xref\":\"x\",\"y\":\"ShareMen\",\"yref\":\"y\"},{\"font\":{\"color\":\"#FFFFFF\"},\"showarrow\":false,\"text\":\"-0.09\",\"x\":\"Rank\",\"xref\":\"x\",\"y\":\"Amount Men\",\"yref\":\"y\"},{\"font\":{\"color\":\"#FFFFFF\"},\"showarrow\":false,\"text\":\"0.18\",\"x\":\"Major_code\",\"xref\":\"x\",\"y\":\"Amount Men\",\"yref\":\"y\"},{\"font\":{\"color\":\"#FFFFFF\"},\"showarrow\":false,\"text\":\"0.88\",\"x\":\"Total\",\"xref\":\"x\",\"y\":\"Amount Men\",\"yref\":\"y\"},{\"font\":{\"color\":\"#FFFFFF\"},\"showarrow\":false,\"text\":\"-0.11\",\"x\":\"ShareWomen\",\"xref\":\"x\",\"y\":\"Amount Men\",\"yref\":\"y\"},{\"font\":{\"color\":\"#FFFFFF\"},\"showarrow\":false,\"text\":\"0.88\",\"x\":\"Sample_size\",\"xref\":\"x\",\"y\":\"Amount Men\",\"yref\":\"y\"},{\"font\":{\"color\":\"#FFFFFF\"},\"showarrow\":false,\"text\":\"0.87\",\"x\":\"Employed\",\"xref\":\"x\",\"y\":\"Amount Men\",\"yref\":\"y\"},{\"font\":{\"color\":\"#FFFFFF\"},\"showarrow\":false,\"text\":\"0.89\",\"x\":\"Full_time\",\"xref\":\"x\",\"y\":\"Amount Men\",\"yref\":\"y\"},{\"font\":{\"color\":\"#FFFFFF\"},\"showarrow\":false,\"text\":\"0.75\",\"x\":\"Part_time\",\"xref\":\"x\",\"y\":\"Amount Men\",\"yref\":\"y\"},{\"font\":{\"color\":\"#FFFFFF\"},\"showarrow\":false,\"text\":\"0.89\",\"x\":\"Full_time_year_round\",\"xref\":\"x\",\"y\":\"Amount Men\",\"yref\":\"y\"},{\"font\":{\"color\":\"#FFFFFF\"},\"showarrow\":false,\"text\":\"0.87\",\"x\":\"Unemployed\",\"xref\":\"x\",\"y\":\"Amount Men\",\"yref\":\"y\"},{\"font\":{\"color\":\"#FFFFFF\"},\"showarrow\":false,\"text\":\"0.1\",\"x\":\"Unemployment_rate\",\"xref\":\"x\",\"y\":\"Amount Men\",\"yref\":\"y\"},{\"font\":{\"color\":\"#FFFFFF\"},\"showarrow\":false,\"text\":\"0.03\",\"x\":\"Median\",\"xref\":\"x\",\"y\":\"Amount Men\",\"yref\":\"y\"},{\"font\":{\"color\":\"#FFFFFF\"},\"showarrow\":false,\"text\":\"0.04\",\"x\":\"P25th\",\"xref\":\"x\",\"y\":\"Amount Men\",\"yref\":\"y\"},{\"font\":{\"color\":\"#FFFFFF\"},\"showarrow\":false,\"text\":\"0.05\",\"x\":\"P75th\",\"xref\":\"x\",\"y\":\"Amount Men\",\"yref\":\"y\"},{\"font\":{\"color\":\"#FFFFFF\"},\"showarrow\":false,\"text\":\"0.56\",\"x\":\"College_jobs\",\"xref\":\"x\",\"y\":\"Amount Men\",\"yref\":\"y\"},{\"font\":{\"color\":\"#FFFFFF\"},\"showarrow\":false,\"text\":\"0.85\",\"x\":\"Non_college_jobs\",\"xref\":\"x\",\"y\":\"Amount Men\",\"yref\":\"y\"},{\"font\":{\"color\":\"#FFFFFF\"},\"showarrow\":false,\"text\":\"0.79\",\"x\":\"Low_wage_jobs\",\"xref\":\"x\",\"y\":\"Amount Men\",\"yref\":\"y\"},{\"font\":{\"color\":\"#FFFFFF\"},\"showarrow\":false,\"text\":\"0.11\",\"x\":\"ShareMen\",\"xref\":\"x\",\"y\":\"Amount Men\",\"yref\":\"y\"},{\"font\":{\"color\":\"#FFFFFF\"},\"showarrow\":false,\"text\":\"1.0\",\"x\":\"Amount Men\",\"xref\":\"x\",\"y\":\"Amount Men\",\"yref\":\"y\"},{\"font\":{\"color\":\"#FFFFFF\"},\"showarrow\":false,\"text\":\"0.67\",\"x\":\"Amount Women\",\"xref\":\"x\",\"y\":\"Amount Men\",\"yref\":\"y\"},{\"font\":{\"color\":\"#FFFFFF\"},\"showarrow\":false,\"text\":\"0.17\",\"x\":\"Rank\",\"xref\":\"x\",\"y\":\"Amount Women\",\"yref\":\"y\"},{\"font\":{\"color\":\"#FFFFFF\"},\"showarrow\":false,\"text\":\"0.18\",\"x\":\"Major_code\",\"xref\":\"x\",\"y\":\"Amount Women\",\"yref\":\"y\"},{\"font\":{\"color\":\"#FFFFFF\"},\"showarrow\":false,\"text\":\"0.94\",\"x\":\"Total\",\"xref\":\"x\",\"y\":\"Amount Women\",\"yref\":\"y\"},{\"font\":{\"color\":\"#FFFFFF\"},\"showarrow\":false,\"text\":\"0.3\",\"x\":\"ShareWomen\",\"xref\":\"x\",\"y\":\"Amount Women\",\"yref\":\"y\"},{\"font\":{\"color\":\"#FFFFFF\"},\"showarrow\":false,\"text\":\"0.86\",\"x\":\"Sample_size\",\"xref\":\"x\",\"y\":\"Amount Women\",\"yref\":\"y\"},{\"font\":{\"color\":\"#FFFFFF\"},\"showarrow\":false,\"text\":\"0.94\",\"x\":\"Employed\",\"xref\":\"x\",\"y\":\"Amount Women\",\"yref\":\"y\"},{\"font\":{\"color\":\"#FFFFFF\"},\"showarrow\":false,\"text\":\"0.92\",\"x\":\"Full_time\",\"xref\":\"x\",\"y\":\"Amount Women\",\"yref\":\"y\"},{\"font\":{\"color\":\"#FFFFFF\"},\"showarrow\":false,\"text\":\"0.95\",\"x\":\"Part_time\",\"xref\":\"x\",\"y\":\"Amount Women\",\"yref\":\"y\"},{\"font\":{\"color\":\"#FFFFFF\"},\"showarrow\":false,\"text\":\"0.91\",\"x\":\"Full_time_year_round\",\"xref\":\"x\",\"y\":\"Amount Women\",\"yref\":\"y\"},{\"font\":{\"color\":\"#FFFFFF\"},\"showarrow\":false,\"text\":\"0.91\",\"x\":\"Unemployed\",\"xref\":\"x\",\"y\":\"Amount Women\",\"yref\":\"y\"},{\"font\":{\"color\":\"#FFFFFF\"},\"showarrow\":false,\"text\":\"0.06\",\"x\":\"Unemployment_rate\",\"xref\":\"x\",\"y\":\"Amount Women\",\"yref\":\"y\"},{\"font\":{\"color\":\"#FFFFFF\"},\"showarrow\":false,\"text\":\"-0.18\",\"x\":\"Median\",\"xref\":\"x\",\"y\":\"Amount Women\",\"yref\":\"y\"},{\"font\":{\"color\":\"#FFFFFF\"},\"showarrow\":false,\"text\":\"-0.14\",\"x\":\"P25th\",\"xref\":\"x\",\"y\":\"Amount Women\",\"yref\":\"y\"},{\"font\":{\"color\":\"#FFFFFF\"},\"showarrow\":false,\"text\":\"-0.16\",\"x\":\"P75th\",\"xref\":\"x\",\"y\":\"Amount Women\",\"yref\":\"y\"},{\"font\":{\"color\":\"#FFFFFF\"},\"showarrow\":false,\"text\":\"0.85\",\"x\":\"College_jobs\",\"xref\":\"x\",\"y\":\"Amount Women\",\"yref\":\"y\"},{\"font\":{\"color\":\"#FFFFFF\"},\"showarrow\":false,\"text\":\"0.87\",\"x\":\"Non_college_jobs\",\"xref\":\"x\",\"y\":\"Amount Women\",\"yref\":\"y\"},{\"font\":{\"color\":\"#FFFFFF\"},\"showarrow\":false,\"text\":\"0.9\",\"x\":\"Low_wage_jobs\",\"xref\":\"x\",\"y\":\"Amount Women\",\"yref\":\"y\"},{\"font\":{\"color\":\"#FFFFFF\"},\"showarrow\":false,\"text\":\"-0.3\",\"x\":\"ShareMen\",\"xref\":\"x\",\"y\":\"Amount Women\",\"yref\":\"y\"},{\"font\":{\"color\":\"#FFFFFF\"},\"showarrow\":false,\"text\":\"0.67\",\"x\":\"Amount Men\",\"xref\":\"x\",\"y\":\"Amount Women\",\"yref\":\"y\"},{\"font\":{\"color\":\"#FFFFFF\"},\"showarrow\":false,\"text\":\"1.0\",\"x\":\"Amount Women\",\"xref\":\"x\",\"y\":\"Amount Women\",\"yref\":\"y\"}],\"height\":800,\"margin\":{\"l\":200,\"t\":200},\"template\":{\"data\":{\"barpolar\":[{\"marker\":{\"line\":{\"color\":\"#E5ECF6\",\"width\":0.5},\"pattern\":{\"fillmode\":\"overlay\",\"size\":10,\"solidity\":0.2}},\"type\":\"barpolar\"}],\"bar\":[{\"error_x\":{\"color\":\"#2a3f5f\"},\"error_y\":{\"color\":\"#2a3f5f\"},\"marker\":{\"line\":{\"color\":\"#E5ECF6\",\"width\":0.5},\"pattern\":{\"fillmode\":\"overlay\",\"size\":10,\"solidity\":0.2}},\"type\":\"bar\"}],\"carpet\":[{\"aaxis\":{\"endlinecolor\":\"#2a3f5f\",\"gridcolor\":\"white\",\"linecolor\":\"white\",\"minorgridcolor\":\"white\",\"startlinecolor\":\"#2a3f5f\"},\"baxis\":{\"endlinecolor\":\"#2a3f5f\",\"gridcolor\":\"white\",\"linecolor\":\"white\",\"minorgridcolor\":\"white\",\"startlinecolor\":\"#2a3f5f\"},\"type\":\"carpet\"}],\"choropleth\":[{\"colorbar\":{\"outlinewidth\":0,\"ticks\":\"\"},\"type\":\"choropleth\"}],\"contourcarpet\":[{\"colorbar\":{\"outlinewidth\":0,\"ticks\":\"\"},\"type\":\"contourcarpet\"}],\"contour\":[{\"colorbar\":{\"outlinewidth\":0,\"ticks\":\"\"},\"colorscale\":[[0.0,\"#0d0887\"],[0.1111111111111111,\"#46039f\"],[0.2222222222222222,\"#7201a8\"],[0.3333333333333333,\"#9c179e\"],[0.4444444444444444,\"#bd3786\"],[0.5555555555555556,\"#d8576b\"],[0.6666666666666666,\"#ed7953\"],[0.7777777777777778,\"#fb9f3a\"],[0.8888888888888888,\"#fdca26\"],[1.0,\"#f0f921\"]],\"type\":\"contour\"}],\"heatmapgl\":[{\"colorbar\":{\"outlinewidth\":0,\"ticks\":\"\"},\"colorscale\":[[0.0,\"#0d0887\"],[0.1111111111111111,\"#46039f\"],[0.2222222222222222,\"#7201a8\"],[0.3333333333333333,\"#9c179e\"],[0.4444444444444444,\"#bd3786\"],[0.5555555555555556,\"#d8576b\"],[0.6666666666666666,\"#ed7953\"],[0.7777777777777778,\"#fb9f3a\"],[0.8888888888888888,\"#fdca26\"],[1.0,\"#f0f921\"]],\"type\":\"heatmapgl\"}],\"heatmap\":[{\"colorbar\":{\"outlinewidth\":0,\"ticks\":\"\"},\"colorscale\":[[0.0,\"#0d0887\"],[0.1111111111111111,\"#46039f\"],[0.2222222222222222,\"#7201a8\"],[0.3333333333333333,\"#9c179e\"],[0.4444444444444444,\"#bd3786\"],[0.5555555555555556,\"#d8576b\"],[0.6666666666666666,\"#ed7953\"],[0.7777777777777778,\"#fb9f3a\"],[0.8888888888888888,\"#fdca26\"],[1.0,\"#f0f921\"]],\"type\":\"heatmap\"}],\"histogram2dcontour\":[{\"colorbar\":{\"outlinewidth\":0,\"ticks\":\"\"},\"colorscale\":[[0.0,\"#0d0887\"],[0.1111111111111111,\"#46039f\"],[0.2222222222222222,\"#7201a8\"],[0.3333333333333333,\"#9c179e\"],[0.4444444444444444,\"#bd3786\"],[0.5555555555555556,\"#d8576b\"],[0.6666666666666666,\"#ed7953\"],[0.7777777777777778,\"#fb9f3a\"],[0.8888888888888888,\"#fdca26\"],[1.0,\"#f0f921\"]],\"type\":\"histogram2dcontour\"}],\"histogram2d\":[{\"colorbar\":{\"outlinewidth\":0,\"ticks\":\"\"},\"colorscale\":[[0.0,\"#0d0887\"],[0.1111111111111111,\"#46039f\"],[0.2222222222222222,\"#7201a8\"],[0.3333333333333333,\"#9c179e\"],[0.4444444444444444,\"#bd3786\"],[0.5555555555555556,\"#d8576b\"],[0.6666666666666666,\"#ed7953\"],[0.7777777777777778,\"#fb9f3a\"],[0.8888888888888888,\"#fdca26\"],[1.0,\"#f0f921\"]],\"type\":\"histogram2d\"}],\"histogram\":[{\"marker\":{\"pattern\":{\"fillmode\":\"overlay\",\"size\":10,\"solidity\":0.2}},\"type\":\"histogram\"}],\"mesh3d\":[{\"colorbar\":{\"outlinewidth\":0,\"ticks\":\"\"},\"type\":\"mesh3d\"}],\"parcoords\":[{\"line\":{\"colorbar\":{\"outlinewidth\":0,\"ticks\":\"\"}},\"type\":\"parcoords\"}],\"pie\":[{\"automargin\":true,\"type\":\"pie\"}],\"scatter3d\":[{\"line\":{\"colorbar\":{\"outlinewidth\":0,\"ticks\":\"\"}},\"marker\":{\"colorbar\":{\"outlinewidth\":0,\"ticks\":\"\"}},\"type\":\"scatter3d\"}],\"scattercarpet\":[{\"marker\":{\"colorbar\":{\"outlinewidth\":0,\"ticks\":\"\"}},\"type\":\"scattercarpet\"}],\"scattergeo\":[{\"marker\":{\"colorbar\":{\"outlinewidth\":0,\"ticks\":\"\"}},\"type\":\"scattergeo\"}],\"scattergl\":[{\"marker\":{\"colorbar\":{\"outlinewidth\":0,\"ticks\":\"\"}},\"type\":\"scattergl\"}],\"scattermapbox\":[{\"marker\":{\"colorbar\":{\"outlinewidth\":0,\"ticks\":\"\"}},\"type\":\"scattermapbox\"}],\"scatterpolargl\":[{\"marker\":{\"colorbar\":{\"outlinewidth\":0,\"ticks\":\"\"}},\"type\":\"scatterpolargl\"}],\"scatterpolar\":[{\"marker\":{\"colorbar\":{\"outlinewidth\":0,\"ticks\":\"\"}},\"type\":\"scatterpolar\"}],\"scatter\":[{\"fillpattern\":{\"fillmode\":\"overlay\",\"size\":10,\"solidity\":0.2},\"type\":\"scatter\"}],\"scatterternary\":[{\"marker\":{\"colorbar\":{\"outlinewidth\":0,\"ticks\":\"\"}},\"type\":\"scatterternary\"}],\"surface\":[{\"colorbar\":{\"outlinewidth\":0,\"ticks\":\"\"},\"colorscale\":[[0.0,\"#0d0887\"],[0.1111111111111111,\"#46039f\"],[0.2222222222222222,\"#7201a8\"],[0.3333333333333333,\"#9c179e\"],[0.4444444444444444,\"#bd3786\"],[0.5555555555555556,\"#d8576b\"],[0.6666666666666666,\"#ed7953\"],[0.7777777777777778,\"#fb9f3a\"],[0.8888888888888888,\"#fdca26\"],[1.0,\"#f0f921\"]],\"type\":\"surface\"}],\"table\":[{\"cells\":{\"fill\":{\"color\":\"#EBF0F8\"},\"line\":{\"color\":\"white\"}},\"header\":{\"fill\":{\"color\":\"#C8D4E3\"},\"line\":{\"color\":\"white\"}},\"type\":\"table\"}]},\"layout\":{\"annotationdefaults\":{\"arrowcolor\":\"#2a3f5f\",\"arrowhead\":0,\"arrowwidth\":1},\"autotypenumbers\":\"strict\",\"coloraxis\":{\"colorbar\":{\"outlinewidth\":0,\"ticks\":\"\"}},\"colorscale\":{\"diverging\":[[0,\"#8e0152\"],[0.1,\"#c51b7d\"],[0.2,\"#de77ae\"],[0.3,\"#f1b6da\"],[0.4,\"#fde0ef\"],[0.5,\"#f7f7f7\"],[0.6,\"#e6f5d0\"],[0.7,\"#b8e186\"],[0.8,\"#7fbc41\"],[0.9,\"#4d9221\"],[1,\"#276419\"]],\"sequential\":[[0.0,\"#0d0887\"],[0.1111111111111111,\"#46039f\"],[0.2222222222222222,\"#7201a8\"],[0.3333333333333333,\"#9c179e\"],[0.4444444444444444,\"#bd3786\"],[0.5555555555555556,\"#d8576b\"],[0.6666666666666666,\"#ed7953\"],[0.7777777777777778,\"#fb9f3a\"],[0.8888888888888888,\"#fdca26\"],[1.0,\"#f0f921\"]],\"sequentialminus\":[[0.0,\"#0d0887\"],[0.1111111111111111,\"#46039f\"],[0.2222222222222222,\"#7201a8\"],[0.3333333333333333,\"#9c179e\"],[0.4444444444444444,\"#bd3786\"],[0.5555555555555556,\"#d8576b\"],[0.6666666666666666,\"#ed7953\"],[0.7777777777777778,\"#fb9f3a\"],[0.8888888888888888,\"#fdca26\"],[1.0,\"#f0f921\"]]},\"colorway\":[\"#636efa\",\"#EF553B\",\"#00cc96\",\"#ab63fa\",\"#FFA15A\",\"#19d3f3\",\"#FF6692\",\"#B6E880\",\"#FF97FF\",\"#FECB52\"],\"font\":{\"color\":\"#2a3f5f\"},\"geo\":{\"bgcolor\":\"white\",\"lakecolor\":\"white\",\"landcolor\":\"#E5ECF6\",\"showlakes\":true,\"showland\":true,\"subunitcolor\":\"white\"},\"hoverlabel\":{\"align\":\"left\"},\"hovermode\":\"closest\",\"mapbox\":{\"style\":\"light\"},\"paper_bgcolor\":\"white\",\"plot_bgcolor\":\"#E5ECF6\",\"polar\":{\"angularaxis\":{\"gridcolor\":\"white\",\"linecolor\":\"white\",\"ticks\":\"\"},\"bgcolor\":\"#E5ECF6\",\"radialaxis\":{\"gridcolor\":\"white\",\"linecolor\":\"white\",\"ticks\":\"\"}},\"scene\":{\"xaxis\":{\"backgroundcolor\":\"#E5ECF6\",\"gridcolor\":\"white\",\"gridwidth\":2,\"linecolor\":\"white\",\"showbackground\":true,\"ticks\":\"\",\"zerolinecolor\":\"white\"},\"yaxis\":{\"backgroundcolor\":\"#E5ECF6\",\"gridcolor\":\"white\",\"gridwidth\":2,\"linecolor\":\"white\",\"showbackground\":true,\"ticks\":\"\",\"zerolinecolor\":\"white\"},\"zaxis\":{\"backgroundcolor\":\"#E5ECF6\",\"gridcolor\":\"white\",\"gridwidth\":2,\"linecolor\":\"white\",\"showbackground\":true,\"ticks\":\"\",\"zerolinecolor\":\"white\"}},\"shapedefaults\":{\"line\":{\"color\":\"#2a3f5f\"}},\"ternary\":{\"aaxis\":{\"gridcolor\":\"white\",\"linecolor\":\"white\",\"ticks\":\"\"},\"baxis\":{\"gridcolor\":\"white\",\"linecolor\":\"white\",\"ticks\":\"\"},\"bgcolor\":\"#E5ECF6\",\"caxis\":{\"gridcolor\":\"white\",\"linecolor\":\"white\",\"ticks\":\"\"}},\"title\":{\"x\":0.05},\"xaxis\":{\"automargin\":true,\"gridcolor\":\"white\",\"linecolor\":\"white\",\"ticks\":\"\",\"title\":{\"standoff\":15},\"zerolinecolor\":\"white\",\"zerolinewidth\":2},\"yaxis\":{\"automargin\":true,\"gridcolor\":\"white\",\"linecolor\":\"white\",\"ticks\":\"\",\"title\":{\"standoff\":15},\"zerolinecolor\":\"white\",\"zerolinewidth\":2}}},\"width\":1000,\"xaxis\":{\"dtick\":1,\"gridcolor\":\"rgb(0, 0, 0)\",\"side\":\"top\",\"ticks\":\"\"},\"yaxis\":{\"dtick\":1,\"ticks\":\"\",\"ticksuffix\":\"  \"}},                        {\"responsive\": true}                    ).then(function(){\n",
       "                            \n",
       "var gd = document.getElementById('88510bf6-e57d-48d2-ac21-ced1f766ed69');\n",
       "var x = new MutationObserver(function (mutations, observer) {{\n",
       "        var display = window.getComputedStyle(gd).display;\n",
       "        if (!display || display === 'none') {{\n",
       "            console.log([gd, 'removed!']);\n",
       "            Plotly.purge(gd);\n",
       "            observer.disconnect();\n",
       "        }}\n",
       "}});\n",
       "\n",
       "// Listen for the removal of the full notebook cells\n",
       "var notebookContainer = gd.closest('#notebook-container');\n",
       "if (notebookContainer) {{\n",
       "    x.observe(notebookContainer, {childList: true});\n",
       "}}\n",
       "\n",
       "// Listen for the clearing of the current output cell\n",
       "var outputEl = gd.closest('.output');\n",
       "if (outputEl) {{\n",
       "    x.observe(outputEl, {childList: true});\n",
       "}}\n",
       "\n",
       "                        })                };                });            </script>        </div>"
      ]
     },
     "metadata": {},
     "output_type": "display_data"
    }
   ],
   "source": [
    "import plotly.figure_factory as ff\n",
    "corrs = df.corr()\n",
    "\n",
    "figure = ff.create_annotated_heatmap(\n",
    "    z=corrs.values,\n",
    "    x=list(corrs.columns),\n",
    "    y=list(corrs.index),\n",
    "    colorscale=\"Earth\",\n",
    "    annotation_text=corrs.round(2).values,\n",
    "    showscale=True,\n",
    "    reversescale=True,\n",
    ")\n",
    "\n",
    "figure.layout.margin = dict(l=200, t=200)\n",
    "figure.layout.height = 800\n",
    "figure.layout.width = 1000\n",
    "\n",
    "iplot(figure)"
   ]
  },
  {
   "cell_type": "code",
   "execution_count": 35,
   "metadata": {},
   "outputs": [
    {
     "data": {
      "application/vnd.plotly.v1+json": {
       "config": {
        "linkText": "Export to plot.ly",
        "plotlyServerURL": "https://plot.ly",
        "showLink": false
       },
       "data": [
        {
         "showlegend": false,
         "type": "histogram",
         "x": [
          "Engi",
          "Engi",
          "Engi",
          "Engi",
          "Engi",
          "Engi",
          "Busi",
          "Phys",
          "Engi",
          "Engi",
          "Engi",
          "Engi",
          "Engi",
          "Engi",
          "Engi",
          "Engi",
          "Engi",
          "Engi",
          "Engi",
          "Law ",
          "Comp",
          "Engi",
          "Engi",
          "Busi",
          "Engi",
          "Indu",
          "Busi",
          "Engi",
          "Law ",
          "Engi",
          "Engi",
          "Arts",
          "Engi",
          "Heal",
          "Busi",
          "Soci",
          "Busi",
          "Engi",
          "Phys",
          "Busi",
          "Comp",
          "Comp",
          "Phys",
          "Heal",
          "Comp",
          "Comp",
          "Comp",
          "Biol",
          "Phys",
          "Engi",
          "Heal",
          "Comp",
          "Comp",
          "Biol",
          "Educ",
          "Soci",
          "Busi",
          "Engi",
          "Busi",
          "Heal",
          "Biol",
          "Busi",
          "Agri",
          "Agri",
          "Engi",
          "Engi",
          "Biol",
          "Soci",
          "Huma",
          "Psyc",
          "Agri",
          "Phys",
          "Indu",
          "Phys",
          "Indu",
          "Busi",
          "Busi",
          "Soci",
          "Soci",
          "Biol",
          "Comp",
          "Biol",
          "Biol",
          "Comp",
          "Phys",
          "Busi",
          "Law ",
          "Heal",
          "Law ",
          "Phys",
          "Psyc",
          "Biol",
          "Comm",
          "Law ",
          "Arts",
          "Comm",
          "Phys",
          "Comm",
          "Huma",
          "Educ",
          "Biol",
          "Soci",
          "Heal",
          "Heal",
          "Comp",
          "Indu",
          "Agri",
          "Biol",
          "Inte",
          "Phys",
          "Agri",
          "Agri",
          "Educ",
          "Huma",
          "Huma",
          "Huma",
          "Educ",
          "Heal",
          "Educ",
          "Educ",
          "Heal",
          "Biol",
          "Biol",
          "Soci",
          "Comm",
          "Heal",
          "Busi",
          "Educ",
          "Huma",
          "Educ",
          "Soci",
          "Biol",
          "Educ",
          "Heal",
          "Huma",
          "Educ",
          "Huma",
          "Educ",
          "Indu",
          "Huma",
          "Arts",
          "Soci",
          "Agri",
          "Educ",
          "Psyc",
          "Arts",
          "Educ",
          "Huma",
          "Arts",
          "Indu",
          "Psyc",
          "Agri",
          "Arts",
          "Educ",
          "Psyc",
          "Psyc",
          "Huma",
          "Huma",
          "Arts",
          "Indu",
          "Agri",
          "Huma",
          "Heal",
          "Educ",
          "Huma",
          "Arts",
          "Huma",
          "Biol",
          "Psyc",
          "Psyc",
          "Psyc",
          "Educ"
         ],
         "xaxis": "x",
         "yaxis": "y"
        },
        {
         "marker": {
          "size": 6
         },
         "mode": "markers",
         "showlegend": false,
         "text": [
          "Engineering",
          "Engineering",
          "Engineering",
          "Engineering",
          "Engineering",
          "Engineering",
          "Business",
          "Physical Sciences",
          "Engineering",
          "Engineering",
          "Engineering",
          "Engineering",
          "Engineering",
          "Engineering",
          "Engineering",
          "Engineering",
          "Engineering",
          "Engineering",
          "Engineering",
          "Law & Public Policy",
          "Computers & Mathematics",
          "Engineering",
          "Engineering",
          "Business",
          "Engineering",
          "Industrial Arts & Consumer Services",
          "Business",
          "Engineering",
          "Law & Public Policy",
          "Engineering",
          "Engineering",
          "Arts",
          "Engineering",
          "Health",
          "Business",
          "Social Science",
          "Business",
          "Engineering",
          "Physical Sciences",
          "Business",
          "Computers & Mathematics",
          "Computers & Mathematics",
          "Physical Sciences",
          "Health",
          "Computers & Mathematics",
          "Computers & Mathematics",
          "Computers & Mathematics",
          "Biology & Life Science",
          "Physical Sciences",
          "Engineering",
          "Health",
          "Computers & Mathematics",
          "Computers & Mathematics",
          "Biology & Life Science",
          "Education",
          "Social Science",
          "Business",
          "Engineering",
          "Business",
          "Health",
          "Biology & Life Science",
          "Business",
          "Agriculture & Natural Resources",
          "Agriculture & Natural Resources",
          "Engineering",
          "Engineering",
          "Biology & Life Science",
          "Social Science",
          "Humanities & Liberal Arts",
          "Psychology & Social Work",
          "Agriculture & Natural Resources",
          "Physical Sciences",
          "Industrial Arts & Consumer Services",
          "Physical Sciences",
          "Industrial Arts & Consumer Services",
          "Business",
          "Business",
          "Social Science",
          "Social Science",
          "Biology & Life Science",
          "Computers & Mathematics",
          "Biology & Life Science",
          "Biology & Life Science",
          "Computers & Mathematics",
          "Physical Sciences",
          "Business",
          "Law & Public Policy",
          "Health",
          "Law & Public Policy",
          "Physical Sciences",
          "Psychology & Social Work",
          "Biology & Life Science",
          "Communications & Journalism",
          "Law & Public Policy",
          "Arts",
          "Communications & Journalism",
          "Physical Sciences",
          "Communications & Journalism",
          "Humanities & Liberal Arts",
          "Education",
          "Biology & Life Science",
          "Social Science",
          "Health",
          "Health",
          "Computers & Mathematics",
          "Industrial Arts & Consumer Services",
          "Agriculture & Natural Resources",
          "Biology & Life Science",
          "Interdisciplinary",
          "Physical Sciences",
          "Agriculture & Natural Resources",
          "Agriculture & Natural Resources",
          "Education",
          "Humanities & Liberal Arts",
          "Humanities & Liberal Arts",
          "Humanities & Liberal Arts",
          "Education",
          "Health",
          "Education",
          "Education",
          "Health",
          "Biology & Life Science",
          "Biology & Life Science",
          "Social Science",
          "Communications & Journalism",
          "Health",
          "Business",
          "Education",
          "Humanities & Liberal Arts",
          "Education",
          "Social Science",
          "Biology & Life Science",
          "Education",
          "Health",
          "Humanities & Liberal Arts",
          "Education",
          "Humanities & Liberal Arts",
          "Education",
          "Industrial Arts & Consumer Services",
          "Humanities & Liberal Arts",
          "Arts",
          "Social Science",
          "Agriculture & Natural Resources",
          "Education",
          "Psychology & Social Work",
          "Arts",
          "Education",
          "Humanities & Liberal Arts",
          "Arts",
          "Industrial Arts & Consumer Services",
          "Psychology & Social Work",
          "Agriculture & Natural Resources",
          "Arts",
          "Education",
          "Psychology & Social Work",
          "Psychology & Social Work",
          "Humanities & Liberal Arts",
          "Humanities & Liberal Arts",
          "Arts",
          "Industrial Arts & Consumer Services",
          "Agriculture & Natural Resources",
          "Humanities & Liberal Arts",
          "Health",
          "Education",
          "Humanities & Liberal Arts",
          "Arts",
          "Humanities & Liberal Arts",
          "Biology & Life Science",
          "Psychology & Social Work",
          "Psychology & Social Work",
          "Psychology & Social Work",
          "Education"
         ],
         "type": "scatter",
         "x": [
          110000,
          75000,
          73000,
          70000,
          65000,
          65000,
          62000,
          62000,
          60000,
          60000,
          60000,
          60000,
          60000,
          60000,
          58000,
          57100,
          57000,
          56000,
          54000,
          54000,
          53000,
          52000,
          52000,
          51000,
          50000,
          50000,
          50000,
          50000,
          50000,
          50000,
          50000,
          50000,
          50000,
          48000,
          47000,
          47000,
          46000,
          46000,
          46000,
          45000,
          45000,
          45000,
          45000,
          45000,
          45000,
          45000,
          45000,
          45000,
          44700,
          44000,
          42000,
          42000,
          41300,
          41000,
          41000,
          40100,
          40000,
          40000,
          40000,
          40000,
          40000,
          40000,
          40000,
          40000,
          40000,
          40000,
          40000,
          40000,
          40000,
          40000,
          40000,
          40000,
          40000,
          39000,
          38400,
          38000,
          38000,
          38000,
          38000,
          38000,
          37500,
          37400,
          37000,
          36400,
          36200,
          36000,
          36000,
          36000,
          36000,
          36000,
          36000,
          35600,
          35000,
          35000,
          35000,
          35000,
          35000,
          35000,
          35000,
          35000,
          35000,
          35000,
          35000,
          35000,
          35000,
          35000,
          35000,
          35000,
          35000,
          35000,
          35000,
          35000,
          34000,
          34000,
          34000,
          34000,
          34000,
          34000,
          34000,
          34000,
          33500,
          33500,
          33400,
          33000,
          33000,
          33000,
          33000,
          33000,
          33000,
          33000,
          33000,
          33000,
          32500,
          32400,
          32200,
          32100,
          32000,
          32000,
          32000,
          32000,
          32000,
          32000,
          32000,
          32000,
          31500,
          31000,
          31000,
          31000,
          30500,
          30000,
          30000,
          30000,
          30000,
          30000,
          30000,
          30000,
          30000,
          29000,
          29000,
          29000,
          29000,
          28000,
          28000,
          28000,
          27500,
          27000,
          27000,
          26000,
          25000,
          25000,
          23400,
          22000
         ],
         "xaxis": "x2",
         "y": [
          "Engi",
          "Engi",
          "Engi",
          "Engi",
          "Engi",
          "Engi",
          "Busi",
          "Phys",
          "Engi",
          "Engi",
          "Engi",
          "Engi",
          "Engi",
          "Engi",
          "Engi",
          "Engi",
          "Engi",
          "Engi",
          "Engi",
          "Law ",
          "Comp",
          "Engi",
          "Engi",
          "Busi",
          "Engi",
          "Indu",
          "Busi",
          "Engi",
          "Law ",
          "Engi",
          "Engi",
          "Arts",
          "Engi",
          "Heal",
          "Busi",
          "Soci",
          "Busi",
          "Engi",
          "Phys",
          "Busi",
          "Comp",
          "Comp",
          "Phys",
          "Heal",
          "Comp",
          "Comp",
          "Comp",
          "Biol",
          "Phys",
          "Engi",
          "Heal",
          "Comp",
          "Comp",
          "Biol",
          "Educ",
          "Soci",
          "Busi",
          "Engi",
          "Busi",
          "Heal",
          "Biol",
          "Busi",
          "Agri",
          "Agri",
          "Engi",
          "Engi",
          "Biol",
          "Soci",
          "Huma",
          "Psyc",
          "Agri",
          "Phys",
          "Indu",
          "Phys",
          "Indu",
          "Busi",
          "Busi",
          "Soci",
          "Soci",
          "Biol",
          "Comp",
          "Biol",
          "Biol",
          "Comp",
          "Phys",
          "Busi",
          "Law ",
          "Heal",
          "Law ",
          "Phys",
          "Psyc",
          "Biol",
          "Comm",
          "Law ",
          "Arts",
          "Comm",
          "Phys",
          "Comm",
          "Huma",
          "Educ",
          "Biol",
          "Soci",
          "Heal",
          "Heal",
          "Comp",
          "Indu",
          "Agri",
          "Biol",
          "Inte",
          "Phys",
          "Agri",
          "Agri",
          "Educ",
          "Huma",
          "Huma",
          "Huma",
          "Educ",
          "Heal",
          "Educ",
          "Educ",
          "Heal",
          "Biol",
          "Biol",
          "Soci",
          "Comm",
          "Heal",
          "Busi",
          "Educ",
          "Huma",
          "Educ",
          "Soci",
          "Biol",
          "Educ",
          "Heal",
          "Huma",
          "Educ",
          "Huma",
          "Educ",
          "Indu",
          "Huma",
          "Arts",
          "Soci",
          "Agri",
          "Educ",
          "Psyc",
          "Arts",
          "Educ",
          "Huma",
          "Arts",
          "Indu",
          "Psyc",
          "Agri",
          "Arts",
          "Educ",
          "Psyc",
          "Psyc",
          "Huma",
          "Huma",
          "Arts",
          "Indu",
          "Agri",
          "Huma",
          "Heal",
          "Educ",
          "Huma",
          "Arts",
          "Huma",
          "Biol",
          "Psyc",
          "Psyc",
          "Psyc",
          "Educ"
         ],
         "yaxis": "y2"
        },
        {
         "marker": {
          "size": 6
         },
         "mode": "markers",
         "showlegend": false,
         "text": [
          "Engineering",
          "Engineering",
          "Engineering",
          "Engineering",
          "Engineering",
          "Engineering",
          "Business",
          "Physical Sciences",
          "Engineering",
          "Engineering",
          "Engineering",
          "Engineering",
          "Engineering",
          "Engineering",
          "Engineering",
          "Engineering",
          "Engineering",
          "Engineering",
          "Engineering",
          "Law & Public Policy",
          "Computers & Mathematics",
          "Engineering",
          "Engineering",
          "Business",
          "Engineering",
          "Industrial Arts & Consumer Services",
          "Business",
          "Engineering",
          "Law & Public Policy",
          "Engineering",
          "Engineering",
          "Arts",
          "Engineering",
          "Health",
          "Business",
          "Social Science",
          "Business",
          "Engineering",
          "Physical Sciences",
          "Business",
          "Computers & Mathematics",
          "Computers & Mathematics",
          "Physical Sciences",
          "Health",
          "Computers & Mathematics",
          "Computers & Mathematics",
          "Computers & Mathematics",
          "Biology & Life Science",
          "Physical Sciences",
          "Engineering",
          "Health",
          "Computers & Mathematics",
          "Computers & Mathematics",
          "Biology & Life Science",
          "Education",
          "Social Science",
          "Business",
          "Engineering",
          "Business",
          "Health",
          "Biology & Life Science",
          "Business",
          "Agriculture & Natural Resources",
          "Agriculture & Natural Resources",
          "Engineering",
          "Engineering",
          "Biology & Life Science",
          "Social Science",
          "Humanities & Liberal Arts",
          "Psychology & Social Work",
          "Agriculture & Natural Resources",
          "Physical Sciences",
          "Industrial Arts & Consumer Services",
          "Physical Sciences",
          "Industrial Arts & Consumer Services",
          "Business",
          "Business",
          "Social Science",
          "Social Science",
          "Biology & Life Science",
          "Computers & Mathematics",
          "Biology & Life Science",
          "Biology & Life Science",
          "Computers & Mathematics",
          "Physical Sciences",
          "Business",
          "Law & Public Policy",
          "Health",
          "Law & Public Policy",
          "Physical Sciences",
          "Psychology & Social Work",
          "Biology & Life Science",
          "Communications & Journalism",
          "Law & Public Policy",
          "Arts",
          "Communications & Journalism",
          "Physical Sciences",
          "Communications & Journalism",
          "Humanities & Liberal Arts",
          "Education",
          "Biology & Life Science",
          "Social Science",
          "Health",
          "Health",
          "Computers & Mathematics",
          "Industrial Arts & Consumer Services",
          "Agriculture & Natural Resources",
          "Biology & Life Science",
          "Interdisciplinary",
          "Physical Sciences",
          "Agriculture & Natural Resources",
          "Agriculture & Natural Resources",
          "Education",
          "Humanities & Liberal Arts",
          "Humanities & Liberal Arts",
          "Humanities & Liberal Arts",
          "Education",
          "Health",
          "Education",
          "Education",
          "Health",
          "Biology & Life Science",
          "Biology & Life Science",
          "Social Science",
          "Communications & Journalism",
          "Health",
          "Business",
          "Education",
          "Humanities & Liberal Arts",
          "Education",
          "Social Science",
          "Biology & Life Science",
          "Education",
          "Health",
          "Humanities & Liberal Arts",
          "Education",
          "Humanities & Liberal Arts",
          "Education",
          "Industrial Arts & Consumer Services",
          "Humanities & Liberal Arts",
          "Arts",
          "Social Science",
          "Agriculture & Natural Resources",
          "Education",
          "Psychology & Social Work",
          "Arts",
          "Education",
          "Humanities & Liberal Arts",
          "Arts",
          "Industrial Arts & Consumer Services",
          "Psychology & Social Work",
          "Agriculture & Natural Resources",
          "Arts",
          "Education",
          "Psychology & Social Work",
          "Psychology & Social Work",
          "Humanities & Liberal Arts",
          "Humanities & Liberal Arts",
          "Arts",
          "Industrial Arts & Consumer Services",
          "Agriculture & Natural Resources",
          "Humanities & Liberal Arts",
          "Health",
          "Education",
          "Humanities & Liberal Arts",
          "Arts",
          "Humanities & Liberal Arts",
          "Biology & Life Science",
          "Psychology & Social Work",
          "Psychology & Social Work",
          "Psychology & Social Work",
          "Education"
         ],
         "type": "scatter",
         "x": [
          0.018380527,
          0.117241379,
          0.024096386,
          0.050125313,
          0.061097712,
          0.177226407,
          0.095652174,
          0.021167415,
          0.057342278,
          0.059173845,
          0.065409275,
          0.065162085,
          0.09208386,
          0.023042836,
          0.006334343,
          0.087143069,
          0.042875544,
          0.059824231,
          0.061930783,
          0.011689692,
          0.063172771,
          0.087557114,
          0.027788805,
          0.058239614,
          0.070609574,
          0.060023041,
          0.047858703,
          0.074392523,
          0.128426299,
          0.093588575,
          0.055030385,
          0.089375,
          0.075038285,
          0.044862724,
          0.060686356,
          0.099092317,
          0.096448381,
          0.028308097,
          0.07154047,
          0.069749014,
          0.047277138,
          0.093460326,
          0.048224496,
          0.03698279,
          0.060741445,
          0.086273666,
          0.090823307,
          0.085531575,
          0.056994819,
          0.03365166,
          0.042506527,
          0,
          0.11398259,
          0.075236167,
          0.107579462,
          0.096798943,
          0.072861468,
          0.113331949,
          0.096175064,
          0.055520827,
          0.084361164,
          0.071982974,
          0.050030836,
          0.019642463,
          0.05253852,
          0.056357078,
          0.034117647,
          0.073079538,
          0.047179487,
          0.108786611,
          0.077249576,
          0.035353535,
          0,
          0.0539724,
          0.029479503,
          0.072218341,
          0.061215064,
          0.101174601,
          0.113458628,
          0.066775872,
          0.099723375,
          0.080531385,
          0,
          0.151849807,
          0.075448568,
          0.059569649,
          0.071965016,
          0.08141125,
          0.1594906,
          0.024373731,
          0.029649596,
          0.078584681,
          0.075176976,
          0.082452199,
          0.096797577,
          0.069176442,
          0.055806815,
          0.067960766,
          0.063429289,
          0.041507819,
          0.0691628,
          0.097243919,
          0.068700676,
          0.089626262,
          0.119511469,
          0.072724524,
          0.066619195,
          0.048481675,
          0.070860927,
          0.022228555,
          0.096725743,
          0,
          0.057359929,
          0.095666912,
          0.075566386,
          0.083633531,
          0.054082941,
          0.112144387,
          0.016202835,
          0,
          0.069779712,
          0.058545455,
          0.070724732,
          0.084951001,
          0.089836827,
          0.059821207,
          0.061169193,
          0.050306435,
          0.10443571,
          0.059211951,
          0.092305816,
          0.054475193,
          0.05222898,
          0.082101621,
          0.096051684,
          0.038637747,
          0.08772359,
          0.046585715,
          0.051467273,
          0.078267592,
          0.10577224,
          0.103454715,
          0.045454545,
          0.047263682,
          0.083810867,
          0.075959674,
          0.074667496,
          0.060298284,
          0.084186296,
          0.067128194,
          0.06882792,
          0.050862499,
          0.102197419,
          0.03654583,
          0.05190783,
          0.037819026,
          0.068584071,
          0.062628297,
          0.089552239,
          0.055676856,
          0.059766764,
          0.102791571,
          0.047584,
          0.040104981,
          0.107115726,
          0.07754113,
          0.081742207,
          0.04632028,
          0.065112187,
          0.149048198,
          0.053620646,
          0.104945718
         ],
         "xaxis": "x3",
         "y": [
          "Engi",
          "Engi",
          "Engi",
          "Engi",
          "Engi",
          "Engi",
          "Busi",
          "Phys",
          "Engi",
          "Engi",
          "Engi",
          "Engi",
          "Engi",
          "Engi",
          "Engi",
          "Engi",
          "Engi",
          "Engi",
          "Engi",
          "Law ",
          "Comp",
          "Engi",
          "Engi",
          "Busi",
          "Engi",
          "Indu",
          "Busi",
          "Engi",
          "Law ",
          "Engi",
          "Engi",
          "Arts",
          "Engi",
          "Heal",
          "Busi",
          "Soci",
          "Busi",
          "Engi",
          "Phys",
          "Busi",
          "Comp",
          "Comp",
          "Phys",
          "Heal",
          "Comp",
          "Comp",
          "Comp",
          "Biol",
          "Phys",
          "Engi",
          "Heal",
          "Comp",
          "Comp",
          "Biol",
          "Educ",
          "Soci",
          "Busi",
          "Engi",
          "Busi",
          "Heal",
          "Biol",
          "Busi",
          "Agri",
          "Agri",
          "Engi",
          "Engi",
          "Biol",
          "Soci",
          "Huma",
          "Psyc",
          "Agri",
          "Phys",
          "Indu",
          "Phys",
          "Indu",
          "Busi",
          "Busi",
          "Soci",
          "Soci",
          "Biol",
          "Comp",
          "Biol",
          "Biol",
          "Comp",
          "Phys",
          "Busi",
          "Law ",
          "Heal",
          "Law ",
          "Phys",
          "Psyc",
          "Biol",
          "Comm",
          "Law ",
          "Arts",
          "Comm",
          "Phys",
          "Comm",
          "Huma",
          "Educ",
          "Biol",
          "Soci",
          "Heal",
          "Heal",
          "Comp",
          "Indu",
          "Agri",
          "Biol",
          "Inte",
          "Phys",
          "Agri",
          "Agri",
          "Educ",
          "Huma",
          "Huma",
          "Huma",
          "Educ",
          "Heal",
          "Educ",
          "Educ",
          "Heal",
          "Biol",
          "Biol",
          "Soci",
          "Comm",
          "Heal",
          "Busi",
          "Educ",
          "Huma",
          "Educ",
          "Soci",
          "Biol",
          "Educ",
          "Heal",
          "Huma",
          "Educ",
          "Huma",
          "Educ",
          "Indu",
          "Huma",
          "Arts",
          "Soci",
          "Agri",
          "Educ",
          "Psyc",
          "Arts",
          "Educ",
          "Huma",
          "Arts",
          "Indu",
          "Psyc",
          "Agri",
          "Arts",
          "Educ",
          "Psyc",
          "Psyc",
          "Huma",
          "Huma",
          "Arts",
          "Indu",
          "Agri",
          "Huma",
          "Heal",
          "Educ",
          "Huma",
          "Arts",
          "Huma",
          "Biol",
          "Psyc",
          "Psyc",
          "Psyc",
          "Educ"
         ],
         "yaxis": "y3"
        },
        {
         "marker": {
          "size": 6
         },
         "mode": "markers",
         "showlegend": false,
         "text": [
          "Engineering",
          "Engineering",
          "Engineering",
          "Engineering",
          "Engineering",
          "Engineering",
          "Business",
          "Physical Sciences",
          "Engineering",
          "Engineering",
          "Engineering",
          "Engineering",
          "Engineering",
          "Engineering",
          "Engineering",
          "Engineering",
          "Engineering",
          "Engineering",
          "Engineering",
          "Law & Public Policy",
          "Computers & Mathematics",
          "Engineering",
          "Engineering",
          "Business",
          "Engineering",
          "Industrial Arts & Consumer Services",
          "Business",
          "Engineering",
          "Law & Public Policy",
          "Engineering",
          "Engineering",
          "Arts",
          "Engineering",
          "Health",
          "Business",
          "Social Science",
          "Business",
          "Engineering",
          "Physical Sciences",
          "Business",
          "Computers & Mathematics",
          "Computers & Mathematics",
          "Physical Sciences",
          "Health",
          "Computers & Mathematics",
          "Computers & Mathematics",
          "Computers & Mathematics",
          "Biology & Life Science",
          "Physical Sciences",
          "Engineering",
          "Health",
          "Computers & Mathematics",
          "Computers & Mathematics",
          "Biology & Life Science",
          "Education",
          "Social Science",
          "Business",
          "Engineering",
          "Business",
          "Health",
          "Biology & Life Science",
          "Business",
          "Agriculture & Natural Resources",
          "Agriculture & Natural Resources",
          "Engineering",
          "Engineering",
          "Biology & Life Science",
          "Social Science",
          "Humanities & Liberal Arts",
          "Psychology & Social Work",
          "Agriculture & Natural Resources",
          "Physical Sciences",
          "Industrial Arts & Consumer Services",
          "Physical Sciences",
          "Industrial Arts & Consumer Services",
          "Business",
          "Business",
          "Social Science",
          "Social Science",
          "Biology & Life Science",
          "Computers & Mathematics",
          "Biology & Life Science",
          "Biology & Life Science",
          "Computers & Mathematics",
          "Physical Sciences",
          "Business",
          "Law & Public Policy",
          "Health",
          "Law & Public Policy",
          "Physical Sciences",
          "Psychology & Social Work",
          "Biology & Life Science",
          "Communications & Journalism",
          "Law & Public Policy",
          "Arts",
          "Communications & Journalism",
          "Physical Sciences",
          "Communications & Journalism",
          "Humanities & Liberal Arts",
          "Education",
          "Biology & Life Science",
          "Social Science",
          "Health",
          "Health",
          "Computers & Mathematics",
          "Industrial Arts & Consumer Services",
          "Agriculture & Natural Resources",
          "Biology & Life Science",
          "Interdisciplinary",
          "Physical Sciences",
          "Agriculture & Natural Resources",
          "Agriculture & Natural Resources",
          "Education",
          "Humanities & Liberal Arts",
          "Humanities & Liberal Arts",
          "Humanities & Liberal Arts",
          "Education",
          "Health",
          "Education",
          "Education",
          "Health",
          "Biology & Life Science",
          "Biology & Life Science",
          "Social Science",
          "Communications & Journalism",
          "Health",
          "Business",
          "Education",
          "Humanities & Liberal Arts",
          "Education",
          "Social Science",
          "Biology & Life Science",
          "Education",
          "Health",
          "Humanities & Liberal Arts",
          "Education",
          "Humanities & Liberal Arts",
          "Education",
          "Industrial Arts & Consumer Services",
          "Humanities & Liberal Arts",
          "Arts",
          "Social Science",
          "Agriculture & Natural Resources",
          "Education",
          "Psychology & Social Work",
          "Arts",
          "Education",
          "Humanities & Liberal Arts",
          "Arts",
          "Industrial Arts & Consumer Services",
          "Psychology & Social Work",
          "Agriculture & Natural Resources",
          "Arts",
          "Education",
          "Psychology & Social Work",
          "Psychology & Social Work",
          "Humanities & Liberal Arts",
          "Humanities & Liberal Arts",
          "Arts",
          "Industrial Arts & Consumer Services",
          "Agriculture & Natural Resources",
          "Humanities & Liberal Arts",
          "Health",
          "Education",
          "Humanities & Liberal Arts",
          "Arts",
          "Humanities & Liberal Arts",
          "Biology & Life Science",
          "Psychology & Social Work",
          "Psychology & Social Work",
          "Psychology & Social Work",
          "Education"
         ],
         "type": "scatter",
         "x": [
          "Engi",
          "Engi",
          "Engi",
          "Engi",
          "Engi",
          "Engi",
          "Busi",
          "Phys",
          "Engi",
          "Engi",
          "Engi",
          "Engi",
          "Engi",
          "Engi",
          "Engi",
          "Engi",
          "Engi",
          "Engi",
          "Engi",
          "Law ",
          "Comp",
          "Engi",
          "Engi",
          "Busi",
          "Engi",
          "Indu",
          "Busi",
          "Engi",
          "Law ",
          "Engi",
          "Engi",
          "Arts",
          "Engi",
          "Heal",
          "Busi",
          "Soci",
          "Busi",
          "Engi",
          "Phys",
          "Busi",
          "Comp",
          "Comp",
          "Phys",
          "Heal",
          "Comp",
          "Comp",
          "Comp",
          "Biol",
          "Phys",
          "Engi",
          "Heal",
          "Comp",
          "Comp",
          "Biol",
          "Educ",
          "Soci",
          "Busi",
          "Engi",
          "Busi",
          "Heal",
          "Biol",
          "Busi",
          "Agri",
          "Agri",
          "Engi",
          "Engi",
          "Biol",
          "Soci",
          "Huma",
          "Psyc",
          "Agri",
          "Phys",
          "Indu",
          "Phys",
          "Indu",
          "Busi",
          "Busi",
          "Soci",
          "Soci",
          "Biol",
          "Comp",
          "Biol",
          "Biol",
          "Comp",
          "Phys",
          "Busi",
          "Law ",
          "Heal",
          "Law ",
          "Phys",
          "Psyc",
          "Biol",
          "Comm",
          "Law ",
          "Arts",
          "Comm",
          "Phys",
          "Comm",
          "Huma",
          "Educ",
          "Biol",
          "Soci",
          "Heal",
          "Heal",
          "Comp",
          "Indu",
          "Agri",
          "Biol",
          "Inte",
          "Phys",
          "Agri",
          "Agri",
          "Educ",
          "Huma",
          "Huma",
          "Huma",
          "Educ",
          "Heal",
          "Educ",
          "Educ",
          "Heal",
          "Biol",
          "Biol",
          "Soci",
          "Comm",
          "Heal",
          "Busi",
          "Educ",
          "Huma",
          "Educ",
          "Soci",
          "Biol",
          "Educ",
          "Heal",
          "Huma",
          "Educ",
          "Huma",
          "Educ",
          "Indu",
          "Huma",
          "Arts",
          "Soci",
          "Agri",
          "Educ",
          "Psyc",
          "Arts",
          "Educ",
          "Huma",
          "Arts",
          "Indu",
          "Psyc",
          "Agri",
          "Arts",
          "Educ",
          "Psyc",
          "Psyc",
          "Huma",
          "Huma",
          "Arts",
          "Indu",
          "Agri",
          "Huma",
          "Heal",
          "Educ",
          "Huma",
          "Arts",
          "Huma",
          "Biol",
          "Psyc",
          "Psyc",
          "Psyc",
          "Educ"
         ],
         "xaxis": "x4",
         "y": [
          110000,
          75000,
          73000,
          70000,
          65000,
          65000,
          62000,
          62000,
          60000,
          60000,
          60000,
          60000,
          60000,
          60000,
          58000,
          57100,
          57000,
          56000,
          54000,
          54000,
          53000,
          52000,
          52000,
          51000,
          50000,
          50000,
          50000,
          50000,
          50000,
          50000,
          50000,
          50000,
          50000,
          48000,
          47000,
          47000,
          46000,
          46000,
          46000,
          45000,
          45000,
          45000,
          45000,
          45000,
          45000,
          45000,
          45000,
          45000,
          44700,
          44000,
          42000,
          42000,
          41300,
          41000,
          41000,
          40100,
          40000,
          40000,
          40000,
          40000,
          40000,
          40000,
          40000,
          40000,
          40000,
          40000,
          40000,
          40000,
          40000,
          40000,
          40000,
          40000,
          40000,
          39000,
          38400,
          38000,
          38000,
          38000,
          38000,
          38000,
          37500,
          37400,
          37000,
          36400,
          36200,
          36000,
          36000,
          36000,
          36000,
          36000,
          36000,
          35600,
          35000,
          35000,
          35000,
          35000,
          35000,
          35000,
          35000,
          35000,
          35000,
          35000,
          35000,
          35000,
          35000,
          35000,
          35000,
          35000,
          35000,
          35000,
          35000,
          35000,
          34000,
          34000,
          34000,
          34000,
          34000,
          34000,
          34000,
          34000,
          33500,
          33500,
          33400,
          33000,
          33000,
          33000,
          33000,
          33000,
          33000,
          33000,
          33000,
          33000,
          32500,
          32400,
          32200,
          32100,
          32000,
          32000,
          32000,
          32000,
          32000,
          32000,
          32000,
          32000,
          31500,
          31000,
          31000,
          31000,
          30500,
          30000,
          30000,
          30000,
          30000,
          30000,
          30000,
          30000,
          30000,
          29000,
          29000,
          29000,
          29000,
          28000,
          28000,
          28000,
          27500,
          27000,
          27000,
          26000,
          25000,
          25000,
          23400,
          22000
         ],
         "yaxis": "y4"
        },
        {
         "showlegend": false,
         "type": "histogram",
         "x": [
          110000,
          75000,
          73000,
          70000,
          65000,
          65000,
          62000,
          62000,
          60000,
          60000,
          60000,
          60000,
          60000,
          60000,
          58000,
          57100,
          57000,
          56000,
          54000,
          54000,
          53000,
          52000,
          52000,
          51000,
          50000,
          50000,
          50000,
          50000,
          50000,
          50000,
          50000,
          50000,
          50000,
          48000,
          47000,
          47000,
          46000,
          46000,
          46000,
          45000,
          45000,
          45000,
          45000,
          45000,
          45000,
          45000,
          45000,
          45000,
          44700,
          44000,
          42000,
          42000,
          41300,
          41000,
          41000,
          40100,
          40000,
          40000,
          40000,
          40000,
          40000,
          40000,
          40000,
          40000,
          40000,
          40000,
          40000,
          40000,
          40000,
          40000,
          40000,
          40000,
          40000,
          39000,
          38400,
          38000,
          38000,
          38000,
          38000,
          38000,
          37500,
          37400,
          37000,
          36400,
          36200,
          36000,
          36000,
          36000,
          36000,
          36000,
          36000,
          35600,
          35000,
          35000,
          35000,
          35000,
          35000,
          35000,
          35000,
          35000,
          35000,
          35000,
          35000,
          35000,
          35000,
          35000,
          35000,
          35000,
          35000,
          35000,
          35000,
          35000,
          34000,
          34000,
          34000,
          34000,
          34000,
          34000,
          34000,
          34000,
          33500,
          33500,
          33400,
          33000,
          33000,
          33000,
          33000,
          33000,
          33000,
          33000,
          33000,
          33000,
          32500,
          32400,
          32200,
          32100,
          32000,
          32000,
          32000,
          32000,
          32000,
          32000,
          32000,
          32000,
          31500,
          31000,
          31000,
          31000,
          30500,
          30000,
          30000,
          30000,
          30000,
          30000,
          30000,
          30000,
          30000,
          29000,
          29000,
          29000,
          29000,
          28000,
          28000,
          28000,
          27500,
          27000,
          27000,
          26000,
          25000,
          25000,
          23400,
          22000
         ],
         "xaxis": "x5",
         "yaxis": "y5"
        },
        {
         "marker": {
          "size": 6
         },
         "mode": "markers",
         "showlegend": false,
         "text": [
          "Engineering",
          "Engineering",
          "Engineering",
          "Engineering",
          "Engineering",
          "Engineering",
          "Business",
          "Physical Sciences",
          "Engineering",
          "Engineering",
          "Engineering",
          "Engineering",
          "Engineering",
          "Engineering",
          "Engineering",
          "Engineering",
          "Engineering",
          "Engineering",
          "Engineering",
          "Law & Public Policy",
          "Computers & Mathematics",
          "Engineering",
          "Engineering",
          "Business",
          "Engineering",
          "Industrial Arts & Consumer Services",
          "Business",
          "Engineering",
          "Law & Public Policy",
          "Engineering",
          "Engineering",
          "Arts",
          "Engineering",
          "Health",
          "Business",
          "Social Science",
          "Business",
          "Engineering",
          "Physical Sciences",
          "Business",
          "Computers & Mathematics",
          "Computers & Mathematics",
          "Physical Sciences",
          "Health",
          "Computers & Mathematics",
          "Computers & Mathematics",
          "Computers & Mathematics",
          "Biology & Life Science",
          "Physical Sciences",
          "Engineering",
          "Health",
          "Computers & Mathematics",
          "Computers & Mathematics",
          "Biology & Life Science",
          "Education",
          "Social Science",
          "Business",
          "Engineering",
          "Business",
          "Health",
          "Biology & Life Science",
          "Business",
          "Agriculture & Natural Resources",
          "Agriculture & Natural Resources",
          "Engineering",
          "Engineering",
          "Biology & Life Science",
          "Social Science",
          "Humanities & Liberal Arts",
          "Psychology & Social Work",
          "Agriculture & Natural Resources",
          "Physical Sciences",
          "Industrial Arts & Consumer Services",
          "Physical Sciences",
          "Industrial Arts & Consumer Services",
          "Business",
          "Business",
          "Social Science",
          "Social Science",
          "Biology & Life Science",
          "Computers & Mathematics",
          "Biology & Life Science",
          "Biology & Life Science",
          "Computers & Mathematics",
          "Physical Sciences",
          "Business",
          "Law & Public Policy",
          "Health",
          "Law & Public Policy",
          "Physical Sciences",
          "Psychology & Social Work",
          "Biology & Life Science",
          "Communications & Journalism",
          "Law & Public Policy",
          "Arts",
          "Communications & Journalism",
          "Physical Sciences",
          "Communications & Journalism",
          "Humanities & Liberal Arts",
          "Education",
          "Biology & Life Science",
          "Social Science",
          "Health",
          "Health",
          "Computers & Mathematics",
          "Industrial Arts & Consumer Services",
          "Agriculture & Natural Resources",
          "Biology & Life Science",
          "Interdisciplinary",
          "Physical Sciences",
          "Agriculture & Natural Resources",
          "Agriculture & Natural Resources",
          "Education",
          "Humanities & Liberal Arts",
          "Humanities & Liberal Arts",
          "Humanities & Liberal Arts",
          "Education",
          "Health",
          "Education",
          "Education",
          "Health",
          "Biology & Life Science",
          "Biology & Life Science",
          "Social Science",
          "Communications & Journalism",
          "Health",
          "Business",
          "Education",
          "Humanities & Liberal Arts",
          "Education",
          "Social Science",
          "Biology & Life Science",
          "Education",
          "Health",
          "Humanities & Liberal Arts",
          "Education",
          "Humanities & Liberal Arts",
          "Education",
          "Industrial Arts & Consumer Services",
          "Humanities & Liberal Arts",
          "Arts",
          "Social Science",
          "Agriculture & Natural Resources",
          "Education",
          "Psychology & Social Work",
          "Arts",
          "Education",
          "Humanities & Liberal Arts",
          "Arts",
          "Industrial Arts & Consumer Services",
          "Psychology & Social Work",
          "Agriculture & Natural Resources",
          "Arts",
          "Education",
          "Psychology & Social Work",
          "Psychology & Social Work",
          "Humanities & Liberal Arts",
          "Humanities & Liberal Arts",
          "Arts",
          "Industrial Arts & Consumer Services",
          "Agriculture & Natural Resources",
          "Humanities & Liberal Arts",
          "Health",
          "Education",
          "Humanities & Liberal Arts",
          "Arts",
          "Humanities & Liberal Arts",
          "Biology & Life Science",
          "Psychology & Social Work",
          "Psychology & Social Work",
          "Psychology & Social Work",
          "Education"
         ],
         "type": "scatter",
         "x": [
          0.018380527,
          0.117241379,
          0.024096386,
          0.050125313,
          0.061097712,
          0.177226407,
          0.095652174,
          0.021167415,
          0.057342278,
          0.059173845,
          0.065409275,
          0.065162085,
          0.09208386,
          0.023042836,
          0.006334343,
          0.087143069,
          0.042875544,
          0.059824231,
          0.061930783,
          0.011689692,
          0.063172771,
          0.087557114,
          0.027788805,
          0.058239614,
          0.070609574,
          0.060023041,
          0.047858703,
          0.074392523,
          0.128426299,
          0.093588575,
          0.055030385,
          0.089375,
          0.075038285,
          0.044862724,
          0.060686356,
          0.099092317,
          0.096448381,
          0.028308097,
          0.07154047,
          0.069749014,
          0.047277138,
          0.093460326,
          0.048224496,
          0.03698279,
          0.060741445,
          0.086273666,
          0.090823307,
          0.085531575,
          0.056994819,
          0.03365166,
          0.042506527,
          0,
          0.11398259,
          0.075236167,
          0.107579462,
          0.096798943,
          0.072861468,
          0.113331949,
          0.096175064,
          0.055520827,
          0.084361164,
          0.071982974,
          0.050030836,
          0.019642463,
          0.05253852,
          0.056357078,
          0.034117647,
          0.073079538,
          0.047179487,
          0.108786611,
          0.077249576,
          0.035353535,
          0,
          0.0539724,
          0.029479503,
          0.072218341,
          0.061215064,
          0.101174601,
          0.113458628,
          0.066775872,
          0.099723375,
          0.080531385,
          0,
          0.151849807,
          0.075448568,
          0.059569649,
          0.071965016,
          0.08141125,
          0.1594906,
          0.024373731,
          0.029649596,
          0.078584681,
          0.075176976,
          0.082452199,
          0.096797577,
          0.069176442,
          0.055806815,
          0.067960766,
          0.063429289,
          0.041507819,
          0.0691628,
          0.097243919,
          0.068700676,
          0.089626262,
          0.119511469,
          0.072724524,
          0.066619195,
          0.048481675,
          0.070860927,
          0.022228555,
          0.096725743,
          0,
          0.057359929,
          0.095666912,
          0.075566386,
          0.083633531,
          0.054082941,
          0.112144387,
          0.016202835,
          0,
          0.069779712,
          0.058545455,
          0.070724732,
          0.084951001,
          0.089836827,
          0.059821207,
          0.061169193,
          0.050306435,
          0.10443571,
          0.059211951,
          0.092305816,
          0.054475193,
          0.05222898,
          0.082101621,
          0.096051684,
          0.038637747,
          0.08772359,
          0.046585715,
          0.051467273,
          0.078267592,
          0.10577224,
          0.103454715,
          0.045454545,
          0.047263682,
          0.083810867,
          0.075959674,
          0.074667496,
          0.060298284,
          0.084186296,
          0.067128194,
          0.06882792,
          0.050862499,
          0.102197419,
          0.03654583,
          0.05190783,
          0.037819026,
          0.068584071,
          0.062628297,
          0.089552239,
          0.055676856,
          0.059766764,
          0.102791571,
          0.047584,
          0.040104981,
          0.107115726,
          0.07754113,
          0.081742207,
          0.04632028,
          0.065112187,
          0.149048198,
          0.053620646,
          0.104945718
         ],
         "xaxis": "x6",
         "y": [
          110000,
          75000,
          73000,
          70000,
          65000,
          65000,
          62000,
          62000,
          60000,
          60000,
          60000,
          60000,
          60000,
          60000,
          58000,
          57100,
          57000,
          56000,
          54000,
          54000,
          53000,
          52000,
          52000,
          51000,
          50000,
          50000,
          50000,
          50000,
          50000,
          50000,
          50000,
          50000,
          50000,
          48000,
          47000,
          47000,
          46000,
          46000,
          46000,
          45000,
          45000,
          45000,
          45000,
          45000,
          45000,
          45000,
          45000,
          45000,
          44700,
          44000,
          42000,
          42000,
          41300,
          41000,
          41000,
          40100,
          40000,
          40000,
          40000,
          40000,
          40000,
          40000,
          40000,
          40000,
          40000,
          40000,
          40000,
          40000,
          40000,
          40000,
          40000,
          40000,
          40000,
          39000,
          38400,
          38000,
          38000,
          38000,
          38000,
          38000,
          37500,
          37400,
          37000,
          36400,
          36200,
          36000,
          36000,
          36000,
          36000,
          36000,
          36000,
          35600,
          35000,
          35000,
          35000,
          35000,
          35000,
          35000,
          35000,
          35000,
          35000,
          35000,
          35000,
          35000,
          35000,
          35000,
          35000,
          35000,
          35000,
          35000,
          35000,
          35000,
          34000,
          34000,
          34000,
          34000,
          34000,
          34000,
          34000,
          34000,
          33500,
          33500,
          33400,
          33000,
          33000,
          33000,
          33000,
          33000,
          33000,
          33000,
          33000,
          33000,
          32500,
          32400,
          32200,
          32100,
          32000,
          32000,
          32000,
          32000,
          32000,
          32000,
          32000,
          32000,
          31500,
          31000,
          31000,
          31000,
          30500,
          30000,
          30000,
          30000,
          30000,
          30000,
          30000,
          30000,
          30000,
          29000,
          29000,
          29000,
          29000,
          28000,
          28000,
          28000,
          27500,
          27000,
          27000,
          26000,
          25000,
          25000,
          23400,
          22000
         ],
         "yaxis": "y6"
        },
        {
         "marker": {
          "size": 6
         },
         "mode": "markers",
         "showlegend": false,
         "text": [
          "Engineering",
          "Engineering",
          "Engineering",
          "Engineering",
          "Engineering",
          "Engineering",
          "Business",
          "Physical Sciences",
          "Engineering",
          "Engineering",
          "Engineering",
          "Engineering",
          "Engineering",
          "Engineering",
          "Engineering",
          "Engineering",
          "Engineering",
          "Engineering",
          "Engineering",
          "Law & Public Policy",
          "Computers & Mathematics",
          "Engineering",
          "Engineering",
          "Business",
          "Engineering",
          "Industrial Arts & Consumer Services",
          "Business",
          "Engineering",
          "Law & Public Policy",
          "Engineering",
          "Engineering",
          "Arts",
          "Engineering",
          "Health",
          "Business",
          "Social Science",
          "Business",
          "Engineering",
          "Physical Sciences",
          "Business",
          "Computers & Mathematics",
          "Computers & Mathematics",
          "Physical Sciences",
          "Health",
          "Computers & Mathematics",
          "Computers & Mathematics",
          "Computers & Mathematics",
          "Biology & Life Science",
          "Physical Sciences",
          "Engineering",
          "Health",
          "Computers & Mathematics",
          "Computers & Mathematics",
          "Biology & Life Science",
          "Education",
          "Social Science",
          "Business",
          "Engineering",
          "Business",
          "Health",
          "Biology & Life Science",
          "Business",
          "Agriculture & Natural Resources",
          "Agriculture & Natural Resources",
          "Engineering",
          "Engineering",
          "Biology & Life Science",
          "Social Science",
          "Humanities & Liberal Arts",
          "Psychology & Social Work",
          "Agriculture & Natural Resources",
          "Physical Sciences",
          "Industrial Arts & Consumer Services",
          "Physical Sciences",
          "Industrial Arts & Consumer Services",
          "Business",
          "Business",
          "Social Science",
          "Social Science",
          "Biology & Life Science",
          "Computers & Mathematics",
          "Biology & Life Science",
          "Biology & Life Science",
          "Computers & Mathematics",
          "Physical Sciences",
          "Business",
          "Law & Public Policy",
          "Health",
          "Law & Public Policy",
          "Physical Sciences",
          "Psychology & Social Work",
          "Biology & Life Science",
          "Communications & Journalism",
          "Law & Public Policy",
          "Arts",
          "Communications & Journalism",
          "Physical Sciences",
          "Communications & Journalism",
          "Humanities & Liberal Arts",
          "Education",
          "Biology & Life Science",
          "Social Science",
          "Health",
          "Health",
          "Computers & Mathematics",
          "Industrial Arts & Consumer Services",
          "Agriculture & Natural Resources",
          "Biology & Life Science",
          "Interdisciplinary",
          "Physical Sciences",
          "Agriculture & Natural Resources",
          "Agriculture & Natural Resources",
          "Education",
          "Humanities & Liberal Arts",
          "Humanities & Liberal Arts",
          "Humanities & Liberal Arts",
          "Education",
          "Health",
          "Education",
          "Education",
          "Health",
          "Biology & Life Science",
          "Biology & Life Science",
          "Social Science",
          "Communications & Journalism",
          "Health",
          "Business",
          "Education",
          "Humanities & Liberal Arts",
          "Education",
          "Social Science",
          "Biology & Life Science",
          "Education",
          "Health",
          "Humanities & Liberal Arts",
          "Education",
          "Humanities & Liberal Arts",
          "Education",
          "Industrial Arts & Consumer Services",
          "Humanities & Liberal Arts",
          "Arts",
          "Social Science",
          "Agriculture & Natural Resources",
          "Education",
          "Psychology & Social Work",
          "Arts",
          "Education",
          "Humanities & Liberal Arts",
          "Arts",
          "Industrial Arts & Consumer Services",
          "Psychology & Social Work",
          "Agriculture & Natural Resources",
          "Arts",
          "Education",
          "Psychology & Social Work",
          "Psychology & Social Work",
          "Humanities & Liberal Arts",
          "Humanities & Liberal Arts",
          "Arts",
          "Industrial Arts & Consumer Services",
          "Agriculture & Natural Resources",
          "Humanities & Liberal Arts",
          "Health",
          "Education",
          "Humanities & Liberal Arts",
          "Arts",
          "Humanities & Liberal Arts",
          "Biology & Life Science",
          "Psychology & Social Work",
          "Psychology & Social Work",
          "Psychology & Social Work",
          "Education"
         ],
         "type": "scatter",
         "x": [
          "Engi",
          "Engi",
          "Engi",
          "Engi",
          "Engi",
          "Engi",
          "Busi",
          "Phys",
          "Engi",
          "Engi",
          "Engi",
          "Engi",
          "Engi",
          "Engi",
          "Engi",
          "Engi",
          "Engi",
          "Engi",
          "Engi",
          "Law ",
          "Comp",
          "Engi",
          "Engi",
          "Busi",
          "Engi",
          "Indu",
          "Busi",
          "Engi",
          "Law ",
          "Engi",
          "Engi",
          "Arts",
          "Engi",
          "Heal",
          "Busi",
          "Soci",
          "Busi",
          "Engi",
          "Phys",
          "Busi",
          "Comp",
          "Comp",
          "Phys",
          "Heal",
          "Comp",
          "Comp",
          "Comp",
          "Biol",
          "Phys",
          "Engi",
          "Heal",
          "Comp",
          "Comp",
          "Biol",
          "Educ",
          "Soci",
          "Busi",
          "Engi",
          "Busi",
          "Heal",
          "Biol",
          "Busi",
          "Agri",
          "Agri",
          "Engi",
          "Engi",
          "Biol",
          "Soci",
          "Huma",
          "Psyc",
          "Agri",
          "Phys",
          "Indu",
          "Phys",
          "Indu",
          "Busi",
          "Busi",
          "Soci",
          "Soci",
          "Biol",
          "Comp",
          "Biol",
          "Biol",
          "Comp",
          "Phys",
          "Busi",
          "Law ",
          "Heal",
          "Law ",
          "Phys",
          "Psyc",
          "Biol",
          "Comm",
          "Law ",
          "Arts",
          "Comm",
          "Phys",
          "Comm",
          "Huma",
          "Educ",
          "Biol",
          "Soci",
          "Heal",
          "Heal",
          "Comp",
          "Indu",
          "Agri",
          "Biol",
          "Inte",
          "Phys",
          "Agri",
          "Agri",
          "Educ",
          "Huma",
          "Huma",
          "Huma",
          "Educ",
          "Heal",
          "Educ",
          "Educ",
          "Heal",
          "Biol",
          "Biol",
          "Soci",
          "Comm",
          "Heal",
          "Busi",
          "Educ",
          "Huma",
          "Educ",
          "Soci",
          "Biol",
          "Educ",
          "Heal",
          "Huma",
          "Educ",
          "Huma",
          "Educ",
          "Indu",
          "Huma",
          "Arts",
          "Soci",
          "Agri",
          "Educ",
          "Psyc",
          "Arts",
          "Educ",
          "Huma",
          "Arts",
          "Indu",
          "Psyc",
          "Agri",
          "Arts",
          "Educ",
          "Psyc",
          "Psyc",
          "Huma",
          "Huma",
          "Arts",
          "Indu",
          "Agri",
          "Huma",
          "Heal",
          "Educ",
          "Huma",
          "Arts",
          "Huma",
          "Biol",
          "Psyc",
          "Psyc",
          "Psyc",
          "Educ"
         ],
         "xaxis": "x7",
         "y": [
          0.018380527,
          0.117241379,
          0.024096386,
          0.050125313,
          0.061097712,
          0.177226407,
          0.095652174,
          0.021167415,
          0.057342278,
          0.059173845,
          0.065409275,
          0.065162085,
          0.09208386,
          0.023042836,
          0.006334343,
          0.087143069,
          0.042875544,
          0.059824231,
          0.061930783,
          0.011689692,
          0.063172771,
          0.087557114,
          0.027788805,
          0.058239614,
          0.070609574,
          0.060023041,
          0.047858703,
          0.074392523,
          0.128426299,
          0.093588575,
          0.055030385,
          0.089375,
          0.075038285,
          0.044862724,
          0.060686356,
          0.099092317,
          0.096448381,
          0.028308097,
          0.07154047,
          0.069749014,
          0.047277138,
          0.093460326,
          0.048224496,
          0.03698279,
          0.060741445,
          0.086273666,
          0.090823307,
          0.085531575,
          0.056994819,
          0.03365166,
          0.042506527,
          0,
          0.11398259,
          0.075236167,
          0.107579462,
          0.096798943,
          0.072861468,
          0.113331949,
          0.096175064,
          0.055520827,
          0.084361164,
          0.071982974,
          0.050030836,
          0.019642463,
          0.05253852,
          0.056357078,
          0.034117647,
          0.073079538,
          0.047179487,
          0.108786611,
          0.077249576,
          0.035353535,
          0,
          0.0539724,
          0.029479503,
          0.072218341,
          0.061215064,
          0.101174601,
          0.113458628,
          0.066775872,
          0.099723375,
          0.080531385,
          0,
          0.151849807,
          0.075448568,
          0.059569649,
          0.071965016,
          0.08141125,
          0.1594906,
          0.024373731,
          0.029649596,
          0.078584681,
          0.075176976,
          0.082452199,
          0.096797577,
          0.069176442,
          0.055806815,
          0.067960766,
          0.063429289,
          0.041507819,
          0.0691628,
          0.097243919,
          0.068700676,
          0.089626262,
          0.119511469,
          0.072724524,
          0.066619195,
          0.048481675,
          0.070860927,
          0.022228555,
          0.096725743,
          0,
          0.057359929,
          0.095666912,
          0.075566386,
          0.083633531,
          0.054082941,
          0.112144387,
          0.016202835,
          0,
          0.069779712,
          0.058545455,
          0.070724732,
          0.084951001,
          0.089836827,
          0.059821207,
          0.061169193,
          0.050306435,
          0.10443571,
          0.059211951,
          0.092305816,
          0.054475193,
          0.05222898,
          0.082101621,
          0.096051684,
          0.038637747,
          0.08772359,
          0.046585715,
          0.051467273,
          0.078267592,
          0.10577224,
          0.103454715,
          0.045454545,
          0.047263682,
          0.083810867,
          0.075959674,
          0.074667496,
          0.060298284,
          0.084186296,
          0.067128194,
          0.06882792,
          0.050862499,
          0.102197419,
          0.03654583,
          0.05190783,
          0.037819026,
          0.068584071,
          0.062628297,
          0.089552239,
          0.055676856,
          0.059766764,
          0.102791571,
          0.047584,
          0.040104981,
          0.107115726,
          0.07754113,
          0.081742207,
          0.04632028,
          0.065112187,
          0.149048198,
          0.053620646,
          0.104945718
         ],
         "yaxis": "y7"
        },
        {
         "marker": {
          "size": 6
         },
         "mode": "markers",
         "showlegend": false,
         "text": [
          "Engineering",
          "Engineering",
          "Engineering",
          "Engineering",
          "Engineering",
          "Engineering",
          "Business",
          "Physical Sciences",
          "Engineering",
          "Engineering",
          "Engineering",
          "Engineering",
          "Engineering",
          "Engineering",
          "Engineering",
          "Engineering",
          "Engineering",
          "Engineering",
          "Engineering",
          "Law & Public Policy",
          "Computers & Mathematics",
          "Engineering",
          "Engineering",
          "Business",
          "Engineering",
          "Industrial Arts & Consumer Services",
          "Business",
          "Engineering",
          "Law & Public Policy",
          "Engineering",
          "Engineering",
          "Arts",
          "Engineering",
          "Health",
          "Business",
          "Social Science",
          "Business",
          "Engineering",
          "Physical Sciences",
          "Business",
          "Computers & Mathematics",
          "Computers & Mathematics",
          "Physical Sciences",
          "Health",
          "Computers & Mathematics",
          "Computers & Mathematics",
          "Computers & Mathematics",
          "Biology & Life Science",
          "Physical Sciences",
          "Engineering",
          "Health",
          "Computers & Mathematics",
          "Computers & Mathematics",
          "Biology & Life Science",
          "Education",
          "Social Science",
          "Business",
          "Engineering",
          "Business",
          "Health",
          "Biology & Life Science",
          "Business",
          "Agriculture & Natural Resources",
          "Agriculture & Natural Resources",
          "Engineering",
          "Engineering",
          "Biology & Life Science",
          "Social Science",
          "Humanities & Liberal Arts",
          "Psychology & Social Work",
          "Agriculture & Natural Resources",
          "Physical Sciences",
          "Industrial Arts & Consumer Services",
          "Physical Sciences",
          "Industrial Arts & Consumer Services",
          "Business",
          "Business",
          "Social Science",
          "Social Science",
          "Biology & Life Science",
          "Computers & Mathematics",
          "Biology & Life Science",
          "Biology & Life Science",
          "Computers & Mathematics",
          "Physical Sciences",
          "Business",
          "Law & Public Policy",
          "Health",
          "Law & Public Policy",
          "Physical Sciences",
          "Psychology & Social Work",
          "Biology & Life Science",
          "Communications & Journalism",
          "Law & Public Policy",
          "Arts",
          "Communications & Journalism",
          "Physical Sciences",
          "Communications & Journalism",
          "Humanities & Liberal Arts",
          "Education",
          "Biology & Life Science",
          "Social Science",
          "Health",
          "Health",
          "Computers & Mathematics",
          "Industrial Arts & Consumer Services",
          "Agriculture & Natural Resources",
          "Biology & Life Science",
          "Interdisciplinary",
          "Physical Sciences",
          "Agriculture & Natural Resources",
          "Agriculture & Natural Resources",
          "Education",
          "Humanities & Liberal Arts",
          "Humanities & Liberal Arts",
          "Humanities & Liberal Arts",
          "Education",
          "Health",
          "Education",
          "Education",
          "Health",
          "Biology & Life Science",
          "Biology & Life Science",
          "Social Science",
          "Communications & Journalism",
          "Health",
          "Business",
          "Education",
          "Humanities & Liberal Arts",
          "Education",
          "Social Science",
          "Biology & Life Science",
          "Education",
          "Health",
          "Humanities & Liberal Arts",
          "Education",
          "Humanities & Liberal Arts",
          "Education",
          "Industrial Arts & Consumer Services",
          "Humanities & Liberal Arts",
          "Arts",
          "Social Science",
          "Agriculture & Natural Resources",
          "Education",
          "Psychology & Social Work",
          "Arts",
          "Education",
          "Humanities & Liberal Arts",
          "Arts",
          "Industrial Arts & Consumer Services",
          "Psychology & Social Work",
          "Agriculture & Natural Resources",
          "Arts",
          "Education",
          "Psychology & Social Work",
          "Psychology & Social Work",
          "Humanities & Liberal Arts",
          "Humanities & Liberal Arts",
          "Arts",
          "Industrial Arts & Consumer Services",
          "Agriculture & Natural Resources",
          "Humanities & Liberal Arts",
          "Health",
          "Education",
          "Humanities & Liberal Arts",
          "Arts",
          "Humanities & Liberal Arts",
          "Biology & Life Science",
          "Psychology & Social Work",
          "Psychology & Social Work",
          "Psychology & Social Work",
          "Education"
         ],
         "type": "scatter",
         "x": [
          110000,
          75000,
          73000,
          70000,
          65000,
          65000,
          62000,
          62000,
          60000,
          60000,
          60000,
          60000,
          60000,
          60000,
          58000,
          57100,
          57000,
          56000,
          54000,
          54000,
          53000,
          52000,
          52000,
          51000,
          50000,
          50000,
          50000,
          50000,
          50000,
          50000,
          50000,
          50000,
          50000,
          48000,
          47000,
          47000,
          46000,
          46000,
          46000,
          45000,
          45000,
          45000,
          45000,
          45000,
          45000,
          45000,
          45000,
          45000,
          44700,
          44000,
          42000,
          42000,
          41300,
          41000,
          41000,
          40100,
          40000,
          40000,
          40000,
          40000,
          40000,
          40000,
          40000,
          40000,
          40000,
          40000,
          40000,
          40000,
          40000,
          40000,
          40000,
          40000,
          40000,
          39000,
          38400,
          38000,
          38000,
          38000,
          38000,
          38000,
          37500,
          37400,
          37000,
          36400,
          36200,
          36000,
          36000,
          36000,
          36000,
          36000,
          36000,
          35600,
          35000,
          35000,
          35000,
          35000,
          35000,
          35000,
          35000,
          35000,
          35000,
          35000,
          35000,
          35000,
          35000,
          35000,
          35000,
          35000,
          35000,
          35000,
          35000,
          35000,
          34000,
          34000,
          34000,
          34000,
          34000,
          34000,
          34000,
          34000,
          33500,
          33500,
          33400,
          33000,
          33000,
          33000,
          33000,
          33000,
          33000,
          33000,
          33000,
          33000,
          32500,
          32400,
          32200,
          32100,
          32000,
          32000,
          32000,
          32000,
          32000,
          32000,
          32000,
          32000,
          31500,
          31000,
          31000,
          31000,
          30500,
          30000,
          30000,
          30000,
          30000,
          30000,
          30000,
          30000,
          30000,
          29000,
          29000,
          29000,
          29000,
          28000,
          28000,
          28000,
          27500,
          27000,
          27000,
          26000,
          25000,
          25000,
          23400,
          22000
         ],
         "xaxis": "x8",
         "y": [
          0.018380527,
          0.117241379,
          0.024096386,
          0.050125313,
          0.061097712,
          0.177226407,
          0.095652174,
          0.021167415,
          0.057342278,
          0.059173845,
          0.065409275,
          0.065162085,
          0.09208386,
          0.023042836,
          0.006334343,
          0.087143069,
          0.042875544,
          0.059824231,
          0.061930783,
          0.011689692,
          0.063172771,
          0.087557114,
          0.027788805,
          0.058239614,
          0.070609574,
          0.060023041,
          0.047858703,
          0.074392523,
          0.128426299,
          0.093588575,
          0.055030385,
          0.089375,
          0.075038285,
          0.044862724,
          0.060686356,
          0.099092317,
          0.096448381,
          0.028308097,
          0.07154047,
          0.069749014,
          0.047277138,
          0.093460326,
          0.048224496,
          0.03698279,
          0.060741445,
          0.086273666,
          0.090823307,
          0.085531575,
          0.056994819,
          0.03365166,
          0.042506527,
          0,
          0.11398259,
          0.075236167,
          0.107579462,
          0.096798943,
          0.072861468,
          0.113331949,
          0.096175064,
          0.055520827,
          0.084361164,
          0.071982974,
          0.050030836,
          0.019642463,
          0.05253852,
          0.056357078,
          0.034117647,
          0.073079538,
          0.047179487,
          0.108786611,
          0.077249576,
          0.035353535,
          0,
          0.0539724,
          0.029479503,
          0.072218341,
          0.061215064,
          0.101174601,
          0.113458628,
          0.066775872,
          0.099723375,
          0.080531385,
          0,
          0.151849807,
          0.075448568,
          0.059569649,
          0.071965016,
          0.08141125,
          0.1594906,
          0.024373731,
          0.029649596,
          0.078584681,
          0.075176976,
          0.082452199,
          0.096797577,
          0.069176442,
          0.055806815,
          0.067960766,
          0.063429289,
          0.041507819,
          0.0691628,
          0.097243919,
          0.068700676,
          0.089626262,
          0.119511469,
          0.072724524,
          0.066619195,
          0.048481675,
          0.070860927,
          0.022228555,
          0.096725743,
          0,
          0.057359929,
          0.095666912,
          0.075566386,
          0.083633531,
          0.054082941,
          0.112144387,
          0.016202835,
          0,
          0.069779712,
          0.058545455,
          0.070724732,
          0.084951001,
          0.089836827,
          0.059821207,
          0.061169193,
          0.050306435,
          0.10443571,
          0.059211951,
          0.092305816,
          0.054475193,
          0.05222898,
          0.082101621,
          0.096051684,
          0.038637747,
          0.08772359,
          0.046585715,
          0.051467273,
          0.078267592,
          0.10577224,
          0.103454715,
          0.045454545,
          0.047263682,
          0.083810867,
          0.075959674,
          0.074667496,
          0.060298284,
          0.084186296,
          0.067128194,
          0.06882792,
          0.050862499,
          0.102197419,
          0.03654583,
          0.05190783,
          0.037819026,
          0.068584071,
          0.062628297,
          0.089552239,
          0.055676856,
          0.059766764,
          0.102791571,
          0.047584,
          0.040104981,
          0.107115726,
          0.07754113,
          0.081742207,
          0.04632028,
          0.065112187,
          0.149048198,
          0.053620646,
          0.104945718
         ],
         "yaxis": "y8"
        },
        {
         "showlegend": false,
         "type": "histogram",
         "x": [
          0.018380527,
          0.117241379,
          0.024096386,
          0.050125313,
          0.061097712,
          0.177226407,
          0.095652174,
          0.021167415,
          0.057342278,
          0.059173845,
          0.065409275,
          0.065162085,
          0.09208386,
          0.023042836,
          0.006334343,
          0.087143069,
          0.042875544,
          0.059824231,
          0.061930783,
          0.011689692,
          0.063172771,
          0.087557114,
          0.027788805,
          0.058239614,
          0.070609574,
          0.060023041,
          0.047858703,
          0.074392523,
          0.128426299,
          0.093588575,
          0.055030385,
          0.089375,
          0.075038285,
          0.044862724,
          0.060686356,
          0.099092317,
          0.096448381,
          0.028308097,
          0.07154047,
          0.069749014,
          0.047277138,
          0.093460326,
          0.048224496,
          0.03698279,
          0.060741445,
          0.086273666,
          0.090823307,
          0.085531575,
          0.056994819,
          0.03365166,
          0.042506527,
          0,
          0.11398259,
          0.075236167,
          0.107579462,
          0.096798943,
          0.072861468,
          0.113331949,
          0.096175064,
          0.055520827,
          0.084361164,
          0.071982974,
          0.050030836,
          0.019642463,
          0.05253852,
          0.056357078,
          0.034117647,
          0.073079538,
          0.047179487,
          0.108786611,
          0.077249576,
          0.035353535,
          0,
          0.0539724,
          0.029479503,
          0.072218341,
          0.061215064,
          0.101174601,
          0.113458628,
          0.066775872,
          0.099723375,
          0.080531385,
          0,
          0.151849807,
          0.075448568,
          0.059569649,
          0.071965016,
          0.08141125,
          0.1594906,
          0.024373731,
          0.029649596,
          0.078584681,
          0.075176976,
          0.082452199,
          0.096797577,
          0.069176442,
          0.055806815,
          0.067960766,
          0.063429289,
          0.041507819,
          0.0691628,
          0.097243919,
          0.068700676,
          0.089626262,
          0.119511469,
          0.072724524,
          0.066619195,
          0.048481675,
          0.070860927,
          0.022228555,
          0.096725743,
          0,
          0.057359929,
          0.095666912,
          0.075566386,
          0.083633531,
          0.054082941,
          0.112144387,
          0.016202835,
          0,
          0.069779712,
          0.058545455,
          0.070724732,
          0.084951001,
          0.089836827,
          0.059821207,
          0.061169193,
          0.050306435,
          0.10443571,
          0.059211951,
          0.092305816,
          0.054475193,
          0.05222898,
          0.082101621,
          0.096051684,
          0.038637747,
          0.08772359,
          0.046585715,
          0.051467273,
          0.078267592,
          0.10577224,
          0.103454715,
          0.045454545,
          0.047263682,
          0.083810867,
          0.075959674,
          0.074667496,
          0.060298284,
          0.084186296,
          0.067128194,
          0.06882792,
          0.050862499,
          0.102197419,
          0.03654583,
          0.05190783,
          0.037819026,
          0.068584071,
          0.062628297,
          0.089552239,
          0.055676856,
          0.059766764,
          0.102791571,
          0.047584,
          0.040104981,
          0.107115726,
          0.07754113,
          0.081742207,
          0.04632028,
          0.065112187,
          0.149048198,
          0.053620646,
          0.104945718
         ],
         "xaxis": "x9",
         "yaxis": "y9"
        }
       ],
       "layout": {
        "height": 1000,
        "showlegend": true,
        "template": {
         "data": {
          "bar": [
           {
            "error_x": {
             "color": "#2a3f5f"
            },
            "error_y": {
             "color": "#2a3f5f"
            },
            "marker": {
             "line": {
              "color": "#E5ECF6",
              "width": 0.5
             },
             "pattern": {
              "fillmode": "overlay",
              "size": 10,
              "solidity": 0.2
             }
            },
            "type": "bar"
           }
          ],
          "barpolar": [
           {
            "marker": {
             "line": {
              "color": "#E5ECF6",
              "width": 0.5
             },
             "pattern": {
              "fillmode": "overlay",
              "size": 10,
              "solidity": 0.2
             }
            },
            "type": "barpolar"
           }
          ],
          "carpet": [
           {
            "aaxis": {
             "endlinecolor": "#2a3f5f",
             "gridcolor": "white",
             "linecolor": "white",
             "minorgridcolor": "white",
             "startlinecolor": "#2a3f5f"
            },
            "baxis": {
             "endlinecolor": "#2a3f5f",
             "gridcolor": "white",
             "linecolor": "white",
             "minorgridcolor": "white",
             "startlinecolor": "#2a3f5f"
            },
            "type": "carpet"
           }
          ],
          "choropleth": [
           {
            "colorbar": {
             "outlinewidth": 0,
             "ticks": ""
            },
            "type": "choropleth"
           }
          ],
          "contour": [
           {
            "colorbar": {
             "outlinewidth": 0,
             "ticks": ""
            },
            "colorscale": [
             [
              0,
              "#0d0887"
             ],
             [
              0.1111111111111111,
              "#46039f"
             ],
             [
              0.2222222222222222,
              "#7201a8"
             ],
             [
              0.3333333333333333,
              "#9c179e"
             ],
             [
              0.4444444444444444,
              "#bd3786"
             ],
             [
              0.5555555555555556,
              "#d8576b"
             ],
             [
              0.6666666666666666,
              "#ed7953"
             ],
             [
              0.7777777777777778,
              "#fb9f3a"
             ],
             [
              0.8888888888888888,
              "#fdca26"
             ],
             [
              1,
              "#f0f921"
             ]
            ],
            "type": "contour"
           }
          ],
          "contourcarpet": [
           {
            "colorbar": {
             "outlinewidth": 0,
             "ticks": ""
            },
            "type": "contourcarpet"
           }
          ],
          "heatmap": [
           {
            "colorbar": {
             "outlinewidth": 0,
             "ticks": ""
            },
            "colorscale": [
             [
              0,
              "#0d0887"
             ],
             [
              0.1111111111111111,
              "#46039f"
             ],
             [
              0.2222222222222222,
              "#7201a8"
             ],
             [
              0.3333333333333333,
              "#9c179e"
             ],
             [
              0.4444444444444444,
              "#bd3786"
             ],
             [
              0.5555555555555556,
              "#d8576b"
             ],
             [
              0.6666666666666666,
              "#ed7953"
             ],
             [
              0.7777777777777778,
              "#fb9f3a"
             ],
             [
              0.8888888888888888,
              "#fdca26"
             ],
             [
              1,
              "#f0f921"
             ]
            ],
            "type": "heatmap"
           }
          ],
          "heatmapgl": [
           {
            "colorbar": {
             "outlinewidth": 0,
             "ticks": ""
            },
            "colorscale": [
             [
              0,
              "#0d0887"
             ],
             [
              0.1111111111111111,
              "#46039f"
             ],
             [
              0.2222222222222222,
              "#7201a8"
             ],
             [
              0.3333333333333333,
              "#9c179e"
             ],
             [
              0.4444444444444444,
              "#bd3786"
             ],
             [
              0.5555555555555556,
              "#d8576b"
             ],
             [
              0.6666666666666666,
              "#ed7953"
             ],
             [
              0.7777777777777778,
              "#fb9f3a"
             ],
             [
              0.8888888888888888,
              "#fdca26"
             ],
             [
              1,
              "#f0f921"
             ]
            ],
            "type": "heatmapgl"
           }
          ],
          "histogram": [
           {
            "marker": {
             "pattern": {
              "fillmode": "overlay",
              "size": 10,
              "solidity": 0.2
             }
            },
            "type": "histogram"
           }
          ],
          "histogram2d": [
           {
            "colorbar": {
             "outlinewidth": 0,
             "ticks": ""
            },
            "colorscale": [
             [
              0,
              "#0d0887"
             ],
             [
              0.1111111111111111,
              "#46039f"
             ],
             [
              0.2222222222222222,
              "#7201a8"
             ],
             [
              0.3333333333333333,
              "#9c179e"
             ],
             [
              0.4444444444444444,
              "#bd3786"
             ],
             [
              0.5555555555555556,
              "#d8576b"
             ],
             [
              0.6666666666666666,
              "#ed7953"
             ],
             [
              0.7777777777777778,
              "#fb9f3a"
             ],
             [
              0.8888888888888888,
              "#fdca26"
             ],
             [
              1,
              "#f0f921"
             ]
            ],
            "type": "histogram2d"
           }
          ],
          "histogram2dcontour": [
           {
            "colorbar": {
             "outlinewidth": 0,
             "ticks": ""
            },
            "colorscale": [
             [
              0,
              "#0d0887"
             ],
             [
              0.1111111111111111,
              "#46039f"
             ],
             [
              0.2222222222222222,
              "#7201a8"
             ],
             [
              0.3333333333333333,
              "#9c179e"
             ],
             [
              0.4444444444444444,
              "#bd3786"
             ],
             [
              0.5555555555555556,
              "#d8576b"
             ],
             [
              0.6666666666666666,
              "#ed7953"
             ],
             [
              0.7777777777777778,
              "#fb9f3a"
             ],
             [
              0.8888888888888888,
              "#fdca26"
             ],
             [
              1,
              "#f0f921"
             ]
            ],
            "type": "histogram2dcontour"
           }
          ],
          "mesh3d": [
           {
            "colorbar": {
             "outlinewidth": 0,
             "ticks": ""
            },
            "type": "mesh3d"
           }
          ],
          "parcoords": [
           {
            "line": {
             "colorbar": {
              "outlinewidth": 0,
              "ticks": ""
             }
            },
            "type": "parcoords"
           }
          ],
          "pie": [
           {
            "automargin": true,
            "type": "pie"
           }
          ],
          "scatter": [
           {
            "fillpattern": {
             "fillmode": "overlay",
             "size": 10,
             "solidity": 0.2
            },
            "type": "scatter"
           }
          ],
          "scatter3d": [
           {
            "line": {
             "colorbar": {
              "outlinewidth": 0,
              "ticks": ""
             }
            },
            "marker": {
             "colorbar": {
              "outlinewidth": 0,
              "ticks": ""
             }
            },
            "type": "scatter3d"
           }
          ],
          "scattercarpet": [
           {
            "marker": {
             "colorbar": {
              "outlinewidth": 0,
              "ticks": ""
             }
            },
            "type": "scattercarpet"
           }
          ],
          "scattergeo": [
           {
            "marker": {
             "colorbar": {
              "outlinewidth": 0,
              "ticks": ""
             }
            },
            "type": "scattergeo"
           }
          ],
          "scattergl": [
           {
            "marker": {
             "colorbar": {
              "outlinewidth": 0,
              "ticks": ""
             }
            },
            "type": "scattergl"
           }
          ],
          "scattermapbox": [
           {
            "marker": {
             "colorbar": {
              "outlinewidth": 0,
              "ticks": ""
             }
            },
            "type": "scattermapbox"
           }
          ],
          "scatterpolar": [
           {
            "marker": {
             "colorbar": {
              "outlinewidth": 0,
              "ticks": ""
             }
            },
            "type": "scatterpolar"
           }
          ],
          "scatterpolargl": [
           {
            "marker": {
             "colorbar": {
              "outlinewidth": 0,
              "ticks": ""
             }
            },
            "type": "scatterpolargl"
           }
          ],
          "scatterternary": [
           {
            "marker": {
             "colorbar": {
              "outlinewidth": 0,
              "ticks": ""
             }
            },
            "type": "scatterternary"
           }
          ],
          "surface": [
           {
            "colorbar": {
             "outlinewidth": 0,
             "ticks": ""
            },
            "colorscale": [
             [
              0,
              "#0d0887"
             ],
             [
              0.1111111111111111,
              "#46039f"
             ],
             [
              0.2222222222222222,
              "#7201a8"
             ],
             [
              0.3333333333333333,
              "#9c179e"
             ],
             [
              0.4444444444444444,
              "#bd3786"
             ],
             [
              0.5555555555555556,
              "#d8576b"
             ],
             [
              0.6666666666666666,
              "#ed7953"
             ],
             [
              0.7777777777777778,
              "#fb9f3a"
             ],
             [
              0.8888888888888888,
              "#fdca26"
             ],
             [
              1,
              "#f0f921"
             ]
            ],
            "type": "surface"
           }
          ],
          "table": [
           {
            "cells": {
             "fill": {
              "color": "#EBF0F8"
             },
             "line": {
              "color": "white"
             }
            },
            "header": {
             "fill": {
              "color": "#C8D4E3"
             },
             "line": {
              "color": "white"
             }
            },
            "type": "table"
           }
          ]
         },
         "layout": {
          "annotationdefaults": {
           "arrowcolor": "#2a3f5f",
           "arrowhead": 0,
           "arrowwidth": 1
          },
          "autotypenumbers": "strict",
          "coloraxis": {
           "colorbar": {
            "outlinewidth": 0,
            "ticks": ""
           }
          },
          "colorscale": {
           "diverging": [
            [
             0,
             "#8e0152"
            ],
            [
             0.1,
             "#c51b7d"
            ],
            [
             0.2,
             "#de77ae"
            ],
            [
             0.3,
             "#f1b6da"
            ],
            [
             0.4,
             "#fde0ef"
            ],
            [
             0.5,
             "#f7f7f7"
            ],
            [
             0.6,
             "#e6f5d0"
            ],
            [
             0.7,
             "#b8e186"
            ],
            [
             0.8,
             "#7fbc41"
            ],
            [
             0.9,
             "#4d9221"
            ],
            [
             1,
             "#276419"
            ]
           ],
           "sequential": [
            [
             0,
             "#0d0887"
            ],
            [
             0.1111111111111111,
             "#46039f"
            ],
            [
             0.2222222222222222,
             "#7201a8"
            ],
            [
             0.3333333333333333,
             "#9c179e"
            ],
            [
             0.4444444444444444,
             "#bd3786"
            ],
            [
             0.5555555555555556,
             "#d8576b"
            ],
            [
             0.6666666666666666,
             "#ed7953"
            ],
            [
             0.7777777777777778,
             "#fb9f3a"
            ],
            [
             0.8888888888888888,
             "#fdca26"
            ],
            [
             1,
             "#f0f921"
            ]
           ],
           "sequentialminus": [
            [
             0,
             "#0d0887"
            ],
            [
             0.1111111111111111,
             "#46039f"
            ],
            [
             0.2222222222222222,
             "#7201a8"
            ],
            [
             0.3333333333333333,
             "#9c179e"
            ],
            [
             0.4444444444444444,
             "#bd3786"
            ],
            [
             0.5555555555555556,
             "#d8576b"
            ],
            [
             0.6666666666666666,
             "#ed7953"
            ],
            [
             0.7777777777777778,
             "#fb9f3a"
            ],
            [
             0.8888888888888888,
             "#fdca26"
            ],
            [
             1,
             "#f0f921"
            ]
           ]
          },
          "colorway": [
           "#636efa",
           "#EF553B",
           "#00cc96",
           "#ab63fa",
           "#FFA15A",
           "#19d3f3",
           "#FF6692",
           "#B6E880",
           "#FF97FF",
           "#FECB52"
          ],
          "font": {
           "color": "#2a3f5f"
          },
          "geo": {
           "bgcolor": "white",
           "lakecolor": "white",
           "landcolor": "#E5ECF6",
           "showlakes": true,
           "showland": true,
           "subunitcolor": "white"
          },
          "hoverlabel": {
           "align": "left"
          },
          "hovermode": "closest",
          "mapbox": {
           "style": "light"
          },
          "paper_bgcolor": "white",
          "plot_bgcolor": "#E5ECF6",
          "polar": {
           "angularaxis": {
            "gridcolor": "white",
            "linecolor": "white",
            "ticks": ""
           },
           "bgcolor": "#E5ECF6",
           "radialaxis": {
            "gridcolor": "white",
            "linecolor": "white",
            "ticks": ""
           }
          },
          "scene": {
           "xaxis": {
            "backgroundcolor": "#E5ECF6",
            "gridcolor": "white",
            "gridwidth": 2,
            "linecolor": "white",
            "showbackground": true,
            "ticks": "",
            "zerolinecolor": "white"
           },
           "yaxis": {
            "backgroundcolor": "#E5ECF6",
            "gridcolor": "white",
            "gridwidth": 2,
            "linecolor": "white",
            "showbackground": true,
            "ticks": "",
            "zerolinecolor": "white"
           },
           "zaxis": {
            "backgroundcolor": "#E5ECF6",
            "gridcolor": "white",
            "gridwidth": 2,
            "linecolor": "white",
            "showbackground": true,
            "ticks": "",
            "zerolinecolor": "white"
           }
          },
          "shapedefaults": {
           "line": {
            "color": "#2a3f5f"
           }
          },
          "ternary": {
           "aaxis": {
            "gridcolor": "white",
            "linecolor": "white",
            "ticks": ""
           },
           "baxis": {
            "gridcolor": "white",
            "linecolor": "white",
            "ticks": ""
           },
           "bgcolor": "#E5ECF6",
           "caxis": {
            "gridcolor": "white",
            "linecolor": "white",
            "ticks": ""
           }
          },
          "title": {
           "x": 0.05
          },
          "xaxis": {
           "automargin": true,
           "gridcolor": "white",
           "linecolor": "white",
           "ticks": "",
           "title": {
            "standoff": 15
           },
           "zerolinecolor": "white",
           "zerolinewidth": 2
          },
          "yaxis": {
           "automargin": true,
           "gridcolor": "white",
           "linecolor": "white",
           "ticks": "",
           "title": {
            "standoff": 15
           },
           "zerolinecolor": "white",
           "zerolinewidth": 2
          }
         }
        },
        "title": {
         "text": "Scatterplot Matrix"
        },
        "width": 1000,
        "xaxis": {
         "anchor": "y",
         "domain": [
          0,
          0.2888888888888889
         ]
        },
        "xaxis2": {
         "anchor": "y2",
         "domain": [
          0.35555555555555557,
          0.6444444444444445
         ]
        },
        "xaxis3": {
         "anchor": "y3",
         "domain": [
          0.7111111111111111,
          1
         ]
        },
        "xaxis4": {
         "anchor": "y4",
         "domain": [
          0,
          0.2888888888888889
         ]
        },
        "xaxis5": {
         "anchor": "y5",
         "domain": [
          0.35555555555555557,
          0.6444444444444445
         ]
        },
        "xaxis6": {
         "anchor": "y6",
         "domain": [
          0.7111111111111111,
          1
         ]
        },
        "xaxis7": {
         "anchor": "y7",
         "domain": [
          0,
          0.2888888888888889
         ],
         "title": {
          "text": "Majort_cat_short"
         }
        },
        "xaxis8": {
         "anchor": "y8",
         "domain": [
          0.35555555555555557,
          0.6444444444444445
         ],
         "title": {
          "text": "Median"
         }
        },
        "xaxis9": {
         "anchor": "y9",
         "domain": [
          0.7111111111111111,
          1
         ],
         "title": {
          "text": "Unemployment_rate"
         }
        },
        "yaxis": {
         "anchor": "x",
         "domain": [
          0.7333333333333333,
          1
         ],
         "title": {
          "text": "Majort_cat_short"
         }
        },
        "yaxis2": {
         "anchor": "x2",
         "domain": [
          0.7333333333333333,
          1
         ]
        },
        "yaxis3": {
         "anchor": "x3",
         "domain": [
          0.7333333333333333,
          1
         ]
        },
        "yaxis4": {
         "anchor": "x4",
         "domain": [
          0.36666666666666664,
          0.6333333333333333
         ],
         "title": {
          "text": "Median"
         }
        },
        "yaxis5": {
         "anchor": "x5",
         "domain": [
          0.36666666666666664,
          0.6333333333333333
         ]
        },
        "yaxis6": {
         "anchor": "x6",
         "domain": [
          0.36666666666666664,
          0.6333333333333333
         ]
        },
        "yaxis7": {
         "anchor": "x7",
         "domain": [
          0,
          0.26666666666666666
         ],
         "title": {
          "text": "Unemployment_rate"
         }
        },
        "yaxis8": {
         "anchor": "x8",
         "domain": [
          0,
          0.26666666666666666
         ]
        },
        "yaxis9": {
         "anchor": "x9",
         "domain": [
          0,
          0.26666666666666666
         ]
        }
       }
      },
      "text/html": [
       "<div>                            <div id=\"9cc65888-236b-421d-855b-590d1b5c57fc\" class=\"plotly-graph-div\" style=\"height:1000px; width:1000px;\"></div>            <script type=\"text/javascript\">                require([\"plotly\"], function(Plotly) {                    window.PLOTLYENV=window.PLOTLYENV || {};                                    if (document.getElementById(\"9cc65888-236b-421d-855b-590d1b5c57fc\")) {                    Plotly.newPlot(                        \"9cc65888-236b-421d-855b-590d1b5c57fc\",                        [{\"showlegend\":false,\"x\":[\"Engi\",\"Engi\",\"Engi\",\"Engi\",\"Engi\",\"Engi\",\"Busi\",\"Phys\",\"Engi\",\"Engi\",\"Engi\",\"Engi\",\"Engi\",\"Engi\",\"Engi\",\"Engi\",\"Engi\",\"Engi\",\"Engi\",\"Law \",\"Comp\",\"Engi\",\"Engi\",\"Busi\",\"Engi\",\"Indu\",\"Busi\",\"Engi\",\"Law \",\"Engi\",\"Engi\",\"Arts\",\"Engi\",\"Heal\",\"Busi\",\"Soci\",\"Busi\",\"Engi\",\"Phys\",\"Busi\",\"Comp\",\"Comp\",\"Phys\",\"Heal\",\"Comp\",\"Comp\",\"Comp\",\"Biol\",\"Phys\",\"Engi\",\"Heal\",\"Comp\",\"Comp\",\"Biol\",\"Educ\",\"Soci\",\"Busi\",\"Engi\",\"Busi\",\"Heal\",\"Biol\",\"Busi\",\"Agri\",\"Agri\",\"Engi\",\"Engi\",\"Biol\",\"Soci\",\"Huma\",\"Psyc\",\"Agri\",\"Phys\",\"Indu\",\"Phys\",\"Indu\",\"Busi\",\"Busi\",\"Soci\",\"Soci\",\"Biol\",\"Comp\",\"Biol\",\"Biol\",\"Comp\",\"Phys\",\"Busi\",\"Law \",\"Heal\",\"Law \",\"Phys\",\"Psyc\",\"Biol\",\"Comm\",\"Law \",\"Arts\",\"Comm\",\"Phys\",\"Comm\",\"Huma\",\"Educ\",\"Biol\",\"Soci\",\"Heal\",\"Heal\",\"Comp\",\"Indu\",\"Agri\",\"Biol\",\"Inte\",\"Phys\",\"Agri\",\"Agri\",\"Educ\",\"Huma\",\"Huma\",\"Huma\",\"Educ\",\"Heal\",\"Educ\",\"Educ\",\"Heal\",\"Biol\",\"Biol\",\"Soci\",\"Comm\",\"Heal\",\"Busi\",\"Educ\",\"Huma\",\"Educ\",\"Soci\",\"Biol\",\"Educ\",\"Heal\",\"Huma\",\"Educ\",\"Huma\",\"Educ\",\"Indu\",\"Huma\",\"Arts\",\"Soci\",\"Agri\",\"Educ\",\"Psyc\",\"Arts\",\"Educ\",\"Huma\",\"Arts\",\"Indu\",\"Psyc\",\"Agri\",\"Arts\",\"Educ\",\"Psyc\",\"Psyc\",\"Huma\",\"Huma\",\"Arts\",\"Indu\",\"Agri\",\"Huma\",\"Heal\",\"Educ\",\"Huma\",\"Arts\",\"Huma\",\"Biol\",\"Psyc\",\"Psyc\",\"Psyc\",\"Educ\"],\"xaxis\":\"x\",\"yaxis\":\"y\",\"type\":\"histogram\"},{\"marker\":{\"size\":6},\"mode\":\"markers\",\"showlegend\":false,\"text\":[\"Engineering\",\"Engineering\",\"Engineering\",\"Engineering\",\"Engineering\",\"Engineering\",\"Business\",\"Physical Sciences\",\"Engineering\",\"Engineering\",\"Engineering\",\"Engineering\",\"Engineering\",\"Engineering\",\"Engineering\",\"Engineering\",\"Engineering\",\"Engineering\",\"Engineering\",\"Law & Public Policy\",\"Computers & Mathematics\",\"Engineering\",\"Engineering\",\"Business\",\"Engineering\",\"Industrial Arts & Consumer Services\",\"Business\",\"Engineering\",\"Law & Public Policy\",\"Engineering\",\"Engineering\",\"Arts\",\"Engineering\",\"Health\",\"Business\",\"Social Science\",\"Business\",\"Engineering\",\"Physical Sciences\",\"Business\",\"Computers & Mathematics\",\"Computers & Mathematics\",\"Physical Sciences\",\"Health\",\"Computers & Mathematics\",\"Computers & Mathematics\",\"Computers & Mathematics\",\"Biology & Life Science\",\"Physical Sciences\",\"Engineering\",\"Health\",\"Computers & Mathematics\",\"Computers & Mathematics\",\"Biology & Life Science\",\"Education\",\"Social Science\",\"Business\",\"Engineering\",\"Business\",\"Health\",\"Biology & Life Science\",\"Business\",\"Agriculture & Natural Resources\",\"Agriculture & Natural Resources\",\"Engineering\",\"Engineering\",\"Biology & Life Science\",\"Social Science\",\"Humanities & Liberal Arts\",\"Psychology & Social Work\",\"Agriculture & Natural Resources\",\"Physical Sciences\",\"Industrial Arts & Consumer Services\",\"Physical Sciences\",\"Industrial Arts & Consumer Services\",\"Business\",\"Business\",\"Social Science\",\"Social Science\",\"Biology & Life Science\",\"Computers & Mathematics\",\"Biology & Life Science\",\"Biology & Life Science\",\"Computers & Mathematics\",\"Physical Sciences\",\"Business\",\"Law & Public Policy\",\"Health\",\"Law & Public Policy\",\"Physical Sciences\",\"Psychology & Social Work\",\"Biology & Life Science\",\"Communications & Journalism\",\"Law & Public Policy\",\"Arts\",\"Communications & Journalism\",\"Physical Sciences\",\"Communications & Journalism\",\"Humanities & Liberal Arts\",\"Education\",\"Biology & Life Science\",\"Social Science\",\"Health\",\"Health\",\"Computers & Mathematics\",\"Industrial Arts & Consumer Services\",\"Agriculture & Natural Resources\",\"Biology & Life Science\",\"Interdisciplinary\",\"Physical Sciences\",\"Agriculture & Natural Resources\",\"Agriculture & Natural Resources\",\"Education\",\"Humanities & Liberal Arts\",\"Humanities & Liberal Arts\",\"Humanities & Liberal Arts\",\"Education\",\"Health\",\"Education\",\"Education\",\"Health\",\"Biology & Life Science\",\"Biology & Life Science\",\"Social Science\",\"Communications & Journalism\",\"Health\",\"Business\",\"Education\",\"Humanities & Liberal Arts\",\"Education\",\"Social Science\",\"Biology & Life Science\",\"Education\",\"Health\",\"Humanities & Liberal Arts\",\"Education\",\"Humanities & Liberal Arts\",\"Education\",\"Industrial Arts & Consumer Services\",\"Humanities & Liberal Arts\",\"Arts\",\"Social Science\",\"Agriculture & Natural Resources\",\"Education\",\"Psychology & Social Work\",\"Arts\",\"Education\",\"Humanities & Liberal Arts\",\"Arts\",\"Industrial Arts & Consumer Services\",\"Psychology & Social Work\",\"Agriculture & Natural Resources\",\"Arts\",\"Education\",\"Psychology & Social Work\",\"Psychology & Social Work\",\"Humanities & Liberal Arts\",\"Humanities & Liberal Arts\",\"Arts\",\"Industrial Arts & Consumer Services\",\"Agriculture & Natural Resources\",\"Humanities & Liberal Arts\",\"Health\",\"Education\",\"Humanities & Liberal Arts\",\"Arts\",\"Humanities & Liberal Arts\",\"Biology & Life Science\",\"Psychology & Social Work\",\"Psychology & Social Work\",\"Psychology & Social Work\",\"Education\"],\"x\":[110000,75000,73000,70000,65000,65000,62000,62000,60000,60000,60000,60000,60000,60000,58000,57100,57000,56000,54000,54000,53000,52000,52000,51000,50000,50000,50000,50000,50000,50000,50000,50000,50000,48000,47000,47000,46000,46000,46000,45000,45000,45000,45000,45000,45000,45000,45000,45000,44700,44000,42000,42000,41300,41000,41000,40100,40000,40000,40000,40000,40000,40000,40000,40000,40000,40000,40000,40000,40000,40000,40000,40000,40000,39000,38400,38000,38000,38000,38000,38000,37500,37400,37000,36400,36200,36000,36000,36000,36000,36000,36000,35600,35000,35000,35000,35000,35000,35000,35000,35000,35000,35000,35000,35000,35000,35000,35000,35000,35000,35000,35000,35000,34000,34000,34000,34000,34000,34000,34000,34000,33500,33500,33400,33000,33000,33000,33000,33000,33000,33000,33000,33000,32500,32400,32200,32100,32000,32000,32000,32000,32000,32000,32000,32000,31500,31000,31000,31000,30500,30000,30000,30000,30000,30000,30000,30000,30000,29000,29000,29000,29000,28000,28000,28000,27500,27000,27000,26000,25000,25000,23400,22000],\"xaxis\":\"x2\",\"y\":[\"Engi\",\"Engi\",\"Engi\",\"Engi\",\"Engi\",\"Engi\",\"Busi\",\"Phys\",\"Engi\",\"Engi\",\"Engi\",\"Engi\",\"Engi\",\"Engi\",\"Engi\",\"Engi\",\"Engi\",\"Engi\",\"Engi\",\"Law \",\"Comp\",\"Engi\",\"Engi\",\"Busi\",\"Engi\",\"Indu\",\"Busi\",\"Engi\",\"Law \",\"Engi\",\"Engi\",\"Arts\",\"Engi\",\"Heal\",\"Busi\",\"Soci\",\"Busi\",\"Engi\",\"Phys\",\"Busi\",\"Comp\",\"Comp\",\"Phys\",\"Heal\",\"Comp\",\"Comp\",\"Comp\",\"Biol\",\"Phys\",\"Engi\",\"Heal\",\"Comp\",\"Comp\",\"Biol\",\"Educ\",\"Soci\",\"Busi\",\"Engi\",\"Busi\",\"Heal\",\"Biol\",\"Busi\",\"Agri\",\"Agri\",\"Engi\",\"Engi\",\"Biol\",\"Soci\",\"Huma\",\"Psyc\",\"Agri\",\"Phys\",\"Indu\",\"Phys\",\"Indu\",\"Busi\",\"Busi\",\"Soci\",\"Soci\",\"Biol\",\"Comp\",\"Biol\",\"Biol\",\"Comp\",\"Phys\",\"Busi\",\"Law \",\"Heal\",\"Law \",\"Phys\",\"Psyc\",\"Biol\",\"Comm\",\"Law \",\"Arts\",\"Comm\",\"Phys\",\"Comm\",\"Huma\",\"Educ\",\"Biol\",\"Soci\",\"Heal\",\"Heal\",\"Comp\",\"Indu\",\"Agri\",\"Biol\",\"Inte\",\"Phys\",\"Agri\",\"Agri\",\"Educ\",\"Huma\",\"Huma\",\"Huma\",\"Educ\",\"Heal\",\"Educ\",\"Educ\",\"Heal\",\"Biol\",\"Biol\",\"Soci\",\"Comm\",\"Heal\",\"Busi\",\"Educ\",\"Huma\",\"Educ\",\"Soci\",\"Biol\",\"Educ\",\"Heal\",\"Huma\",\"Educ\",\"Huma\",\"Educ\",\"Indu\",\"Huma\",\"Arts\",\"Soci\",\"Agri\",\"Educ\",\"Psyc\",\"Arts\",\"Educ\",\"Huma\",\"Arts\",\"Indu\",\"Psyc\",\"Agri\",\"Arts\",\"Educ\",\"Psyc\",\"Psyc\",\"Huma\",\"Huma\",\"Arts\",\"Indu\",\"Agri\",\"Huma\",\"Heal\",\"Educ\",\"Huma\",\"Arts\",\"Huma\",\"Biol\",\"Psyc\",\"Psyc\",\"Psyc\",\"Educ\"],\"yaxis\":\"y2\",\"type\":\"scatter\"},{\"marker\":{\"size\":6},\"mode\":\"markers\",\"showlegend\":false,\"text\":[\"Engineering\",\"Engineering\",\"Engineering\",\"Engineering\",\"Engineering\",\"Engineering\",\"Business\",\"Physical Sciences\",\"Engineering\",\"Engineering\",\"Engineering\",\"Engineering\",\"Engineering\",\"Engineering\",\"Engineering\",\"Engineering\",\"Engineering\",\"Engineering\",\"Engineering\",\"Law & Public Policy\",\"Computers & Mathematics\",\"Engineering\",\"Engineering\",\"Business\",\"Engineering\",\"Industrial Arts & Consumer Services\",\"Business\",\"Engineering\",\"Law & Public Policy\",\"Engineering\",\"Engineering\",\"Arts\",\"Engineering\",\"Health\",\"Business\",\"Social Science\",\"Business\",\"Engineering\",\"Physical Sciences\",\"Business\",\"Computers & Mathematics\",\"Computers & Mathematics\",\"Physical Sciences\",\"Health\",\"Computers & Mathematics\",\"Computers & Mathematics\",\"Computers & Mathematics\",\"Biology & Life Science\",\"Physical Sciences\",\"Engineering\",\"Health\",\"Computers & Mathematics\",\"Computers & Mathematics\",\"Biology & Life Science\",\"Education\",\"Social Science\",\"Business\",\"Engineering\",\"Business\",\"Health\",\"Biology & Life Science\",\"Business\",\"Agriculture & Natural Resources\",\"Agriculture & Natural Resources\",\"Engineering\",\"Engineering\",\"Biology & Life Science\",\"Social Science\",\"Humanities & Liberal Arts\",\"Psychology & Social Work\",\"Agriculture & Natural Resources\",\"Physical Sciences\",\"Industrial Arts & Consumer Services\",\"Physical Sciences\",\"Industrial Arts & Consumer Services\",\"Business\",\"Business\",\"Social Science\",\"Social Science\",\"Biology & Life Science\",\"Computers & Mathematics\",\"Biology & Life Science\",\"Biology & Life Science\",\"Computers & Mathematics\",\"Physical Sciences\",\"Business\",\"Law & Public Policy\",\"Health\",\"Law & Public Policy\",\"Physical Sciences\",\"Psychology & Social Work\",\"Biology & Life Science\",\"Communications & Journalism\",\"Law & Public Policy\",\"Arts\",\"Communications & Journalism\",\"Physical Sciences\",\"Communications & Journalism\",\"Humanities & Liberal Arts\",\"Education\",\"Biology & Life Science\",\"Social Science\",\"Health\",\"Health\",\"Computers & Mathematics\",\"Industrial Arts & Consumer Services\",\"Agriculture & Natural Resources\",\"Biology & Life Science\",\"Interdisciplinary\",\"Physical Sciences\",\"Agriculture & Natural Resources\",\"Agriculture & Natural Resources\",\"Education\",\"Humanities & Liberal Arts\",\"Humanities & Liberal Arts\",\"Humanities & Liberal Arts\",\"Education\",\"Health\",\"Education\",\"Education\",\"Health\",\"Biology & Life Science\",\"Biology & Life Science\",\"Social Science\",\"Communications & Journalism\",\"Health\",\"Business\",\"Education\",\"Humanities & Liberal Arts\",\"Education\",\"Social Science\",\"Biology & Life Science\",\"Education\",\"Health\",\"Humanities & Liberal Arts\",\"Education\",\"Humanities & Liberal Arts\",\"Education\",\"Industrial Arts & Consumer Services\",\"Humanities & Liberal Arts\",\"Arts\",\"Social Science\",\"Agriculture & Natural Resources\",\"Education\",\"Psychology & Social Work\",\"Arts\",\"Education\",\"Humanities & Liberal Arts\",\"Arts\",\"Industrial Arts & Consumer Services\",\"Psychology & Social Work\",\"Agriculture & Natural Resources\",\"Arts\",\"Education\",\"Psychology & Social Work\",\"Psychology & Social Work\",\"Humanities & Liberal Arts\",\"Humanities & Liberal Arts\",\"Arts\",\"Industrial Arts & Consumer Services\",\"Agriculture & Natural Resources\",\"Humanities & Liberal Arts\",\"Health\",\"Education\",\"Humanities & Liberal Arts\",\"Arts\",\"Humanities & Liberal Arts\",\"Biology & Life Science\",\"Psychology & Social Work\",\"Psychology & Social Work\",\"Psychology & Social Work\",\"Education\"],\"x\":[0.018380527,0.117241379,0.024096386,0.050125313,0.061097712,0.177226407,0.095652174,0.021167415,0.057342278,0.059173845,0.065409275,0.065162085,0.09208386,0.023042836,0.006334343,0.087143069,0.042875544,0.059824231,0.061930783,0.011689692,0.063172771,0.087557114,0.027788805,0.058239614,0.070609574,0.060023041,0.047858703,0.074392523,0.128426299,0.093588575,0.055030385,0.089375,0.075038285,0.044862724,0.060686356,0.099092317,0.096448381,0.028308097,0.07154047,0.069749014,0.047277138,0.093460326,0.048224496,0.03698279,0.060741445,0.086273666,0.090823307,0.085531575,0.056994819,0.03365166,0.042506527,0.0,0.11398259,0.075236167,0.107579462,0.096798943,0.072861468,0.113331949,0.096175064,0.055520827,0.084361164,0.071982974,0.050030836,0.019642463,0.05253852,0.056357078,0.034117647,0.073079538,0.047179487,0.108786611,0.077249576,0.035353535,0.0,0.0539724,0.029479503,0.072218341,0.061215064,0.101174601,0.113458628,0.066775872,0.099723375,0.080531385,0.0,0.151849807,0.075448568,0.059569649,0.071965016,0.08141125,0.1594906,0.024373731,0.029649596,0.078584681,0.075176976,0.082452199,0.096797577,0.069176442,0.055806815,0.067960766,0.063429289,0.041507819,0.0691628,0.097243919,0.068700676,0.089626262,0.119511469,0.072724524,0.066619195,0.048481675,0.070860927,0.022228555,0.096725743,0.0,0.057359929,0.095666912,0.075566386,0.083633531,0.054082941,0.112144387,0.016202835,0.0,0.069779712,0.058545455,0.070724732,0.084951001,0.089836827,0.059821207,0.061169193,0.050306435,0.10443571,0.059211951,0.092305816,0.054475193,0.05222898,0.082101621,0.096051684,0.038637747,0.08772359,0.046585715,0.051467273,0.078267592,0.10577224,0.103454715,0.045454545,0.047263682,0.083810867,0.075959674,0.074667496,0.060298284,0.084186296,0.067128194,0.06882792,0.050862499,0.102197419,0.03654583,0.05190783,0.037819026,0.068584071,0.062628297,0.089552239,0.055676856,0.059766764,0.102791571,0.047584,0.040104981,0.107115726,0.07754113,0.081742207,0.04632028,0.065112187,0.149048198,0.053620646,0.104945718],\"xaxis\":\"x3\",\"y\":[\"Engi\",\"Engi\",\"Engi\",\"Engi\",\"Engi\",\"Engi\",\"Busi\",\"Phys\",\"Engi\",\"Engi\",\"Engi\",\"Engi\",\"Engi\",\"Engi\",\"Engi\",\"Engi\",\"Engi\",\"Engi\",\"Engi\",\"Law \",\"Comp\",\"Engi\",\"Engi\",\"Busi\",\"Engi\",\"Indu\",\"Busi\",\"Engi\",\"Law \",\"Engi\",\"Engi\",\"Arts\",\"Engi\",\"Heal\",\"Busi\",\"Soci\",\"Busi\",\"Engi\",\"Phys\",\"Busi\",\"Comp\",\"Comp\",\"Phys\",\"Heal\",\"Comp\",\"Comp\",\"Comp\",\"Biol\",\"Phys\",\"Engi\",\"Heal\",\"Comp\",\"Comp\",\"Biol\",\"Educ\",\"Soci\",\"Busi\",\"Engi\",\"Busi\",\"Heal\",\"Biol\",\"Busi\",\"Agri\",\"Agri\",\"Engi\",\"Engi\",\"Biol\",\"Soci\",\"Huma\",\"Psyc\",\"Agri\",\"Phys\",\"Indu\",\"Phys\",\"Indu\",\"Busi\",\"Busi\",\"Soci\",\"Soci\",\"Biol\",\"Comp\",\"Biol\",\"Biol\",\"Comp\",\"Phys\",\"Busi\",\"Law \",\"Heal\",\"Law \",\"Phys\",\"Psyc\",\"Biol\",\"Comm\",\"Law \",\"Arts\",\"Comm\",\"Phys\",\"Comm\",\"Huma\",\"Educ\",\"Biol\",\"Soci\",\"Heal\",\"Heal\",\"Comp\",\"Indu\",\"Agri\",\"Biol\",\"Inte\",\"Phys\",\"Agri\",\"Agri\",\"Educ\",\"Huma\",\"Huma\",\"Huma\",\"Educ\",\"Heal\",\"Educ\",\"Educ\",\"Heal\",\"Biol\",\"Biol\",\"Soci\",\"Comm\",\"Heal\",\"Busi\",\"Educ\",\"Huma\",\"Educ\",\"Soci\",\"Biol\",\"Educ\",\"Heal\",\"Huma\",\"Educ\",\"Huma\",\"Educ\",\"Indu\",\"Huma\",\"Arts\",\"Soci\",\"Agri\",\"Educ\",\"Psyc\",\"Arts\",\"Educ\",\"Huma\",\"Arts\",\"Indu\",\"Psyc\",\"Agri\",\"Arts\",\"Educ\",\"Psyc\",\"Psyc\",\"Huma\",\"Huma\",\"Arts\",\"Indu\",\"Agri\",\"Huma\",\"Heal\",\"Educ\",\"Huma\",\"Arts\",\"Huma\",\"Biol\",\"Psyc\",\"Psyc\",\"Psyc\",\"Educ\"],\"yaxis\":\"y3\",\"type\":\"scatter\"},{\"marker\":{\"size\":6},\"mode\":\"markers\",\"showlegend\":false,\"text\":[\"Engineering\",\"Engineering\",\"Engineering\",\"Engineering\",\"Engineering\",\"Engineering\",\"Business\",\"Physical Sciences\",\"Engineering\",\"Engineering\",\"Engineering\",\"Engineering\",\"Engineering\",\"Engineering\",\"Engineering\",\"Engineering\",\"Engineering\",\"Engineering\",\"Engineering\",\"Law & Public Policy\",\"Computers & Mathematics\",\"Engineering\",\"Engineering\",\"Business\",\"Engineering\",\"Industrial Arts & Consumer Services\",\"Business\",\"Engineering\",\"Law & Public Policy\",\"Engineering\",\"Engineering\",\"Arts\",\"Engineering\",\"Health\",\"Business\",\"Social Science\",\"Business\",\"Engineering\",\"Physical Sciences\",\"Business\",\"Computers & Mathematics\",\"Computers & Mathematics\",\"Physical Sciences\",\"Health\",\"Computers & Mathematics\",\"Computers & Mathematics\",\"Computers & Mathematics\",\"Biology & Life Science\",\"Physical Sciences\",\"Engineering\",\"Health\",\"Computers & Mathematics\",\"Computers & Mathematics\",\"Biology & Life Science\",\"Education\",\"Social Science\",\"Business\",\"Engineering\",\"Business\",\"Health\",\"Biology & Life Science\",\"Business\",\"Agriculture & Natural Resources\",\"Agriculture & Natural Resources\",\"Engineering\",\"Engineering\",\"Biology & Life Science\",\"Social Science\",\"Humanities & Liberal Arts\",\"Psychology & Social Work\",\"Agriculture & Natural Resources\",\"Physical Sciences\",\"Industrial Arts & Consumer Services\",\"Physical Sciences\",\"Industrial Arts & Consumer Services\",\"Business\",\"Business\",\"Social Science\",\"Social Science\",\"Biology & Life Science\",\"Computers & Mathematics\",\"Biology & Life Science\",\"Biology & Life Science\",\"Computers & Mathematics\",\"Physical Sciences\",\"Business\",\"Law & Public Policy\",\"Health\",\"Law & Public Policy\",\"Physical Sciences\",\"Psychology & Social Work\",\"Biology & Life Science\",\"Communications & Journalism\",\"Law & Public Policy\",\"Arts\",\"Communications & Journalism\",\"Physical Sciences\",\"Communications & Journalism\",\"Humanities & Liberal Arts\",\"Education\",\"Biology & Life Science\",\"Social Science\",\"Health\",\"Health\",\"Computers & Mathematics\",\"Industrial Arts & Consumer Services\",\"Agriculture & Natural Resources\",\"Biology & Life Science\",\"Interdisciplinary\",\"Physical Sciences\",\"Agriculture & Natural Resources\",\"Agriculture & Natural Resources\",\"Education\",\"Humanities & Liberal Arts\",\"Humanities & Liberal Arts\",\"Humanities & Liberal Arts\",\"Education\",\"Health\",\"Education\",\"Education\",\"Health\",\"Biology & Life Science\",\"Biology & Life Science\",\"Social Science\",\"Communications & Journalism\",\"Health\",\"Business\",\"Education\",\"Humanities & Liberal Arts\",\"Education\",\"Social Science\",\"Biology & Life Science\",\"Education\",\"Health\",\"Humanities & Liberal Arts\",\"Education\",\"Humanities & Liberal Arts\",\"Education\",\"Industrial Arts & Consumer Services\",\"Humanities & Liberal Arts\",\"Arts\",\"Social Science\",\"Agriculture & Natural Resources\",\"Education\",\"Psychology & Social Work\",\"Arts\",\"Education\",\"Humanities & Liberal Arts\",\"Arts\",\"Industrial Arts & Consumer Services\",\"Psychology & Social Work\",\"Agriculture & Natural Resources\",\"Arts\",\"Education\",\"Psychology & Social Work\",\"Psychology & Social Work\",\"Humanities & Liberal Arts\",\"Humanities & Liberal Arts\",\"Arts\",\"Industrial Arts & Consumer Services\",\"Agriculture & Natural Resources\",\"Humanities & Liberal Arts\",\"Health\",\"Education\",\"Humanities & Liberal Arts\",\"Arts\",\"Humanities & Liberal Arts\",\"Biology & Life Science\",\"Psychology & Social Work\",\"Psychology & Social Work\",\"Psychology & Social Work\",\"Education\"],\"x\":[\"Engi\",\"Engi\",\"Engi\",\"Engi\",\"Engi\",\"Engi\",\"Busi\",\"Phys\",\"Engi\",\"Engi\",\"Engi\",\"Engi\",\"Engi\",\"Engi\",\"Engi\",\"Engi\",\"Engi\",\"Engi\",\"Engi\",\"Law \",\"Comp\",\"Engi\",\"Engi\",\"Busi\",\"Engi\",\"Indu\",\"Busi\",\"Engi\",\"Law \",\"Engi\",\"Engi\",\"Arts\",\"Engi\",\"Heal\",\"Busi\",\"Soci\",\"Busi\",\"Engi\",\"Phys\",\"Busi\",\"Comp\",\"Comp\",\"Phys\",\"Heal\",\"Comp\",\"Comp\",\"Comp\",\"Biol\",\"Phys\",\"Engi\",\"Heal\",\"Comp\",\"Comp\",\"Biol\",\"Educ\",\"Soci\",\"Busi\",\"Engi\",\"Busi\",\"Heal\",\"Biol\",\"Busi\",\"Agri\",\"Agri\",\"Engi\",\"Engi\",\"Biol\",\"Soci\",\"Huma\",\"Psyc\",\"Agri\",\"Phys\",\"Indu\",\"Phys\",\"Indu\",\"Busi\",\"Busi\",\"Soci\",\"Soci\",\"Biol\",\"Comp\",\"Biol\",\"Biol\",\"Comp\",\"Phys\",\"Busi\",\"Law \",\"Heal\",\"Law \",\"Phys\",\"Psyc\",\"Biol\",\"Comm\",\"Law \",\"Arts\",\"Comm\",\"Phys\",\"Comm\",\"Huma\",\"Educ\",\"Biol\",\"Soci\",\"Heal\",\"Heal\",\"Comp\",\"Indu\",\"Agri\",\"Biol\",\"Inte\",\"Phys\",\"Agri\",\"Agri\",\"Educ\",\"Huma\",\"Huma\",\"Huma\",\"Educ\",\"Heal\",\"Educ\",\"Educ\",\"Heal\",\"Biol\",\"Biol\",\"Soci\",\"Comm\",\"Heal\",\"Busi\",\"Educ\",\"Huma\",\"Educ\",\"Soci\",\"Biol\",\"Educ\",\"Heal\",\"Huma\",\"Educ\",\"Huma\",\"Educ\",\"Indu\",\"Huma\",\"Arts\",\"Soci\",\"Agri\",\"Educ\",\"Psyc\",\"Arts\",\"Educ\",\"Huma\",\"Arts\",\"Indu\",\"Psyc\",\"Agri\",\"Arts\",\"Educ\",\"Psyc\",\"Psyc\",\"Huma\",\"Huma\",\"Arts\",\"Indu\",\"Agri\",\"Huma\",\"Heal\",\"Educ\",\"Huma\",\"Arts\",\"Huma\",\"Biol\",\"Psyc\",\"Psyc\",\"Psyc\",\"Educ\"],\"xaxis\":\"x4\",\"y\":[110000,75000,73000,70000,65000,65000,62000,62000,60000,60000,60000,60000,60000,60000,58000,57100,57000,56000,54000,54000,53000,52000,52000,51000,50000,50000,50000,50000,50000,50000,50000,50000,50000,48000,47000,47000,46000,46000,46000,45000,45000,45000,45000,45000,45000,45000,45000,45000,44700,44000,42000,42000,41300,41000,41000,40100,40000,40000,40000,40000,40000,40000,40000,40000,40000,40000,40000,40000,40000,40000,40000,40000,40000,39000,38400,38000,38000,38000,38000,38000,37500,37400,37000,36400,36200,36000,36000,36000,36000,36000,36000,35600,35000,35000,35000,35000,35000,35000,35000,35000,35000,35000,35000,35000,35000,35000,35000,35000,35000,35000,35000,35000,34000,34000,34000,34000,34000,34000,34000,34000,33500,33500,33400,33000,33000,33000,33000,33000,33000,33000,33000,33000,32500,32400,32200,32100,32000,32000,32000,32000,32000,32000,32000,32000,31500,31000,31000,31000,30500,30000,30000,30000,30000,30000,30000,30000,30000,29000,29000,29000,29000,28000,28000,28000,27500,27000,27000,26000,25000,25000,23400,22000],\"yaxis\":\"y4\",\"type\":\"scatter\"},{\"showlegend\":false,\"x\":[110000,75000,73000,70000,65000,65000,62000,62000,60000,60000,60000,60000,60000,60000,58000,57100,57000,56000,54000,54000,53000,52000,52000,51000,50000,50000,50000,50000,50000,50000,50000,50000,50000,48000,47000,47000,46000,46000,46000,45000,45000,45000,45000,45000,45000,45000,45000,45000,44700,44000,42000,42000,41300,41000,41000,40100,40000,40000,40000,40000,40000,40000,40000,40000,40000,40000,40000,40000,40000,40000,40000,40000,40000,39000,38400,38000,38000,38000,38000,38000,37500,37400,37000,36400,36200,36000,36000,36000,36000,36000,36000,35600,35000,35000,35000,35000,35000,35000,35000,35000,35000,35000,35000,35000,35000,35000,35000,35000,35000,35000,35000,35000,34000,34000,34000,34000,34000,34000,34000,34000,33500,33500,33400,33000,33000,33000,33000,33000,33000,33000,33000,33000,32500,32400,32200,32100,32000,32000,32000,32000,32000,32000,32000,32000,31500,31000,31000,31000,30500,30000,30000,30000,30000,30000,30000,30000,30000,29000,29000,29000,29000,28000,28000,28000,27500,27000,27000,26000,25000,25000,23400,22000],\"xaxis\":\"x5\",\"yaxis\":\"y5\",\"type\":\"histogram\"},{\"marker\":{\"size\":6},\"mode\":\"markers\",\"showlegend\":false,\"text\":[\"Engineering\",\"Engineering\",\"Engineering\",\"Engineering\",\"Engineering\",\"Engineering\",\"Business\",\"Physical Sciences\",\"Engineering\",\"Engineering\",\"Engineering\",\"Engineering\",\"Engineering\",\"Engineering\",\"Engineering\",\"Engineering\",\"Engineering\",\"Engineering\",\"Engineering\",\"Law & Public Policy\",\"Computers & Mathematics\",\"Engineering\",\"Engineering\",\"Business\",\"Engineering\",\"Industrial Arts & Consumer Services\",\"Business\",\"Engineering\",\"Law & Public Policy\",\"Engineering\",\"Engineering\",\"Arts\",\"Engineering\",\"Health\",\"Business\",\"Social Science\",\"Business\",\"Engineering\",\"Physical Sciences\",\"Business\",\"Computers & Mathematics\",\"Computers & Mathematics\",\"Physical Sciences\",\"Health\",\"Computers & Mathematics\",\"Computers & Mathematics\",\"Computers & Mathematics\",\"Biology & Life Science\",\"Physical Sciences\",\"Engineering\",\"Health\",\"Computers & Mathematics\",\"Computers & Mathematics\",\"Biology & Life Science\",\"Education\",\"Social Science\",\"Business\",\"Engineering\",\"Business\",\"Health\",\"Biology & Life Science\",\"Business\",\"Agriculture & Natural Resources\",\"Agriculture & Natural Resources\",\"Engineering\",\"Engineering\",\"Biology & Life Science\",\"Social Science\",\"Humanities & Liberal Arts\",\"Psychology & Social Work\",\"Agriculture & Natural Resources\",\"Physical Sciences\",\"Industrial Arts & Consumer Services\",\"Physical Sciences\",\"Industrial Arts & Consumer Services\",\"Business\",\"Business\",\"Social Science\",\"Social Science\",\"Biology & Life Science\",\"Computers & Mathematics\",\"Biology & Life Science\",\"Biology & Life Science\",\"Computers & Mathematics\",\"Physical Sciences\",\"Business\",\"Law & Public Policy\",\"Health\",\"Law & Public Policy\",\"Physical Sciences\",\"Psychology & Social Work\",\"Biology & Life Science\",\"Communications & Journalism\",\"Law & Public Policy\",\"Arts\",\"Communications & Journalism\",\"Physical Sciences\",\"Communications & Journalism\",\"Humanities & Liberal Arts\",\"Education\",\"Biology & Life Science\",\"Social Science\",\"Health\",\"Health\",\"Computers & Mathematics\",\"Industrial Arts & Consumer Services\",\"Agriculture & Natural Resources\",\"Biology & Life Science\",\"Interdisciplinary\",\"Physical Sciences\",\"Agriculture & Natural Resources\",\"Agriculture & Natural Resources\",\"Education\",\"Humanities & Liberal Arts\",\"Humanities & Liberal Arts\",\"Humanities & Liberal Arts\",\"Education\",\"Health\",\"Education\",\"Education\",\"Health\",\"Biology & Life Science\",\"Biology & Life Science\",\"Social Science\",\"Communications & Journalism\",\"Health\",\"Business\",\"Education\",\"Humanities & Liberal Arts\",\"Education\",\"Social Science\",\"Biology & Life Science\",\"Education\",\"Health\",\"Humanities & Liberal Arts\",\"Education\",\"Humanities & Liberal Arts\",\"Education\",\"Industrial Arts & Consumer Services\",\"Humanities & Liberal Arts\",\"Arts\",\"Social Science\",\"Agriculture & Natural Resources\",\"Education\",\"Psychology & Social Work\",\"Arts\",\"Education\",\"Humanities & Liberal Arts\",\"Arts\",\"Industrial Arts & Consumer Services\",\"Psychology & Social Work\",\"Agriculture & Natural Resources\",\"Arts\",\"Education\",\"Psychology & Social Work\",\"Psychology & Social Work\",\"Humanities & Liberal Arts\",\"Humanities & Liberal Arts\",\"Arts\",\"Industrial Arts & Consumer Services\",\"Agriculture & Natural Resources\",\"Humanities & Liberal Arts\",\"Health\",\"Education\",\"Humanities & Liberal Arts\",\"Arts\",\"Humanities & Liberal Arts\",\"Biology & Life Science\",\"Psychology & Social Work\",\"Psychology & Social Work\",\"Psychology & Social Work\",\"Education\"],\"x\":[0.018380527,0.117241379,0.024096386,0.050125313,0.061097712,0.177226407,0.095652174,0.021167415,0.057342278,0.059173845,0.065409275,0.065162085,0.09208386,0.023042836,0.006334343,0.087143069,0.042875544,0.059824231,0.061930783,0.011689692,0.063172771,0.087557114,0.027788805,0.058239614,0.070609574,0.060023041,0.047858703,0.074392523,0.128426299,0.093588575,0.055030385,0.089375,0.075038285,0.044862724,0.060686356,0.099092317,0.096448381,0.028308097,0.07154047,0.069749014,0.047277138,0.093460326,0.048224496,0.03698279,0.060741445,0.086273666,0.090823307,0.085531575,0.056994819,0.03365166,0.042506527,0.0,0.11398259,0.075236167,0.107579462,0.096798943,0.072861468,0.113331949,0.096175064,0.055520827,0.084361164,0.071982974,0.050030836,0.019642463,0.05253852,0.056357078,0.034117647,0.073079538,0.047179487,0.108786611,0.077249576,0.035353535,0.0,0.0539724,0.029479503,0.072218341,0.061215064,0.101174601,0.113458628,0.066775872,0.099723375,0.080531385,0.0,0.151849807,0.075448568,0.059569649,0.071965016,0.08141125,0.1594906,0.024373731,0.029649596,0.078584681,0.075176976,0.082452199,0.096797577,0.069176442,0.055806815,0.067960766,0.063429289,0.041507819,0.0691628,0.097243919,0.068700676,0.089626262,0.119511469,0.072724524,0.066619195,0.048481675,0.070860927,0.022228555,0.096725743,0.0,0.057359929,0.095666912,0.075566386,0.083633531,0.054082941,0.112144387,0.016202835,0.0,0.069779712,0.058545455,0.070724732,0.084951001,0.089836827,0.059821207,0.061169193,0.050306435,0.10443571,0.059211951,0.092305816,0.054475193,0.05222898,0.082101621,0.096051684,0.038637747,0.08772359,0.046585715,0.051467273,0.078267592,0.10577224,0.103454715,0.045454545,0.047263682,0.083810867,0.075959674,0.074667496,0.060298284,0.084186296,0.067128194,0.06882792,0.050862499,0.102197419,0.03654583,0.05190783,0.037819026,0.068584071,0.062628297,0.089552239,0.055676856,0.059766764,0.102791571,0.047584,0.040104981,0.107115726,0.07754113,0.081742207,0.04632028,0.065112187,0.149048198,0.053620646,0.104945718],\"xaxis\":\"x6\",\"y\":[110000,75000,73000,70000,65000,65000,62000,62000,60000,60000,60000,60000,60000,60000,58000,57100,57000,56000,54000,54000,53000,52000,52000,51000,50000,50000,50000,50000,50000,50000,50000,50000,50000,48000,47000,47000,46000,46000,46000,45000,45000,45000,45000,45000,45000,45000,45000,45000,44700,44000,42000,42000,41300,41000,41000,40100,40000,40000,40000,40000,40000,40000,40000,40000,40000,40000,40000,40000,40000,40000,40000,40000,40000,39000,38400,38000,38000,38000,38000,38000,37500,37400,37000,36400,36200,36000,36000,36000,36000,36000,36000,35600,35000,35000,35000,35000,35000,35000,35000,35000,35000,35000,35000,35000,35000,35000,35000,35000,35000,35000,35000,35000,34000,34000,34000,34000,34000,34000,34000,34000,33500,33500,33400,33000,33000,33000,33000,33000,33000,33000,33000,33000,32500,32400,32200,32100,32000,32000,32000,32000,32000,32000,32000,32000,31500,31000,31000,31000,30500,30000,30000,30000,30000,30000,30000,30000,30000,29000,29000,29000,29000,28000,28000,28000,27500,27000,27000,26000,25000,25000,23400,22000],\"yaxis\":\"y6\",\"type\":\"scatter\"},{\"marker\":{\"size\":6},\"mode\":\"markers\",\"showlegend\":false,\"text\":[\"Engineering\",\"Engineering\",\"Engineering\",\"Engineering\",\"Engineering\",\"Engineering\",\"Business\",\"Physical Sciences\",\"Engineering\",\"Engineering\",\"Engineering\",\"Engineering\",\"Engineering\",\"Engineering\",\"Engineering\",\"Engineering\",\"Engineering\",\"Engineering\",\"Engineering\",\"Law & Public Policy\",\"Computers & Mathematics\",\"Engineering\",\"Engineering\",\"Business\",\"Engineering\",\"Industrial Arts & Consumer Services\",\"Business\",\"Engineering\",\"Law & Public Policy\",\"Engineering\",\"Engineering\",\"Arts\",\"Engineering\",\"Health\",\"Business\",\"Social Science\",\"Business\",\"Engineering\",\"Physical Sciences\",\"Business\",\"Computers & Mathematics\",\"Computers & Mathematics\",\"Physical Sciences\",\"Health\",\"Computers & Mathematics\",\"Computers & Mathematics\",\"Computers & Mathematics\",\"Biology & Life Science\",\"Physical Sciences\",\"Engineering\",\"Health\",\"Computers & Mathematics\",\"Computers & Mathematics\",\"Biology & Life Science\",\"Education\",\"Social Science\",\"Business\",\"Engineering\",\"Business\",\"Health\",\"Biology & Life Science\",\"Business\",\"Agriculture & Natural Resources\",\"Agriculture & Natural Resources\",\"Engineering\",\"Engineering\",\"Biology & Life Science\",\"Social Science\",\"Humanities & Liberal Arts\",\"Psychology & Social Work\",\"Agriculture & Natural Resources\",\"Physical Sciences\",\"Industrial Arts & Consumer Services\",\"Physical Sciences\",\"Industrial Arts & Consumer Services\",\"Business\",\"Business\",\"Social Science\",\"Social Science\",\"Biology & Life Science\",\"Computers & Mathematics\",\"Biology & Life Science\",\"Biology & Life Science\",\"Computers & Mathematics\",\"Physical Sciences\",\"Business\",\"Law & Public Policy\",\"Health\",\"Law & Public Policy\",\"Physical Sciences\",\"Psychology & Social Work\",\"Biology & Life Science\",\"Communications & Journalism\",\"Law & Public Policy\",\"Arts\",\"Communications & Journalism\",\"Physical Sciences\",\"Communications & Journalism\",\"Humanities & Liberal Arts\",\"Education\",\"Biology & Life Science\",\"Social Science\",\"Health\",\"Health\",\"Computers & Mathematics\",\"Industrial Arts & Consumer Services\",\"Agriculture & Natural Resources\",\"Biology & Life Science\",\"Interdisciplinary\",\"Physical Sciences\",\"Agriculture & Natural Resources\",\"Agriculture & Natural Resources\",\"Education\",\"Humanities & Liberal Arts\",\"Humanities & Liberal Arts\",\"Humanities & Liberal Arts\",\"Education\",\"Health\",\"Education\",\"Education\",\"Health\",\"Biology & Life Science\",\"Biology & Life Science\",\"Social Science\",\"Communications & Journalism\",\"Health\",\"Business\",\"Education\",\"Humanities & Liberal Arts\",\"Education\",\"Social Science\",\"Biology & Life Science\",\"Education\",\"Health\",\"Humanities & Liberal Arts\",\"Education\",\"Humanities & Liberal Arts\",\"Education\",\"Industrial Arts & Consumer Services\",\"Humanities & Liberal Arts\",\"Arts\",\"Social Science\",\"Agriculture & Natural Resources\",\"Education\",\"Psychology & Social Work\",\"Arts\",\"Education\",\"Humanities & Liberal Arts\",\"Arts\",\"Industrial Arts & Consumer Services\",\"Psychology & Social Work\",\"Agriculture & Natural Resources\",\"Arts\",\"Education\",\"Psychology & Social Work\",\"Psychology & Social Work\",\"Humanities & Liberal Arts\",\"Humanities & Liberal Arts\",\"Arts\",\"Industrial Arts & Consumer Services\",\"Agriculture & Natural Resources\",\"Humanities & Liberal Arts\",\"Health\",\"Education\",\"Humanities & Liberal Arts\",\"Arts\",\"Humanities & Liberal Arts\",\"Biology & Life Science\",\"Psychology & Social Work\",\"Psychology & Social Work\",\"Psychology & Social Work\",\"Education\"],\"x\":[\"Engi\",\"Engi\",\"Engi\",\"Engi\",\"Engi\",\"Engi\",\"Busi\",\"Phys\",\"Engi\",\"Engi\",\"Engi\",\"Engi\",\"Engi\",\"Engi\",\"Engi\",\"Engi\",\"Engi\",\"Engi\",\"Engi\",\"Law \",\"Comp\",\"Engi\",\"Engi\",\"Busi\",\"Engi\",\"Indu\",\"Busi\",\"Engi\",\"Law \",\"Engi\",\"Engi\",\"Arts\",\"Engi\",\"Heal\",\"Busi\",\"Soci\",\"Busi\",\"Engi\",\"Phys\",\"Busi\",\"Comp\",\"Comp\",\"Phys\",\"Heal\",\"Comp\",\"Comp\",\"Comp\",\"Biol\",\"Phys\",\"Engi\",\"Heal\",\"Comp\",\"Comp\",\"Biol\",\"Educ\",\"Soci\",\"Busi\",\"Engi\",\"Busi\",\"Heal\",\"Biol\",\"Busi\",\"Agri\",\"Agri\",\"Engi\",\"Engi\",\"Biol\",\"Soci\",\"Huma\",\"Psyc\",\"Agri\",\"Phys\",\"Indu\",\"Phys\",\"Indu\",\"Busi\",\"Busi\",\"Soci\",\"Soci\",\"Biol\",\"Comp\",\"Biol\",\"Biol\",\"Comp\",\"Phys\",\"Busi\",\"Law \",\"Heal\",\"Law \",\"Phys\",\"Psyc\",\"Biol\",\"Comm\",\"Law \",\"Arts\",\"Comm\",\"Phys\",\"Comm\",\"Huma\",\"Educ\",\"Biol\",\"Soci\",\"Heal\",\"Heal\",\"Comp\",\"Indu\",\"Agri\",\"Biol\",\"Inte\",\"Phys\",\"Agri\",\"Agri\",\"Educ\",\"Huma\",\"Huma\",\"Huma\",\"Educ\",\"Heal\",\"Educ\",\"Educ\",\"Heal\",\"Biol\",\"Biol\",\"Soci\",\"Comm\",\"Heal\",\"Busi\",\"Educ\",\"Huma\",\"Educ\",\"Soci\",\"Biol\",\"Educ\",\"Heal\",\"Huma\",\"Educ\",\"Huma\",\"Educ\",\"Indu\",\"Huma\",\"Arts\",\"Soci\",\"Agri\",\"Educ\",\"Psyc\",\"Arts\",\"Educ\",\"Huma\",\"Arts\",\"Indu\",\"Psyc\",\"Agri\",\"Arts\",\"Educ\",\"Psyc\",\"Psyc\",\"Huma\",\"Huma\",\"Arts\",\"Indu\",\"Agri\",\"Huma\",\"Heal\",\"Educ\",\"Huma\",\"Arts\",\"Huma\",\"Biol\",\"Psyc\",\"Psyc\",\"Psyc\",\"Educ\"],\"xaxis\":\"x7\",\"y\":[0.018380527,0.117241379,0.024096386,0.050125313,0.061097712,0.177226407,0.095652174,0.021167415,0.057342278,0.059173845,0.065409275,0.065162085,0.09208386,0.023042836,0.006334343,0.087143069,0.042875544,0.059824231,0.061930783,0.011689692,0.063172771,0.087557114,0.027788805,0.058239614,0.070609574,0.060023041,0.047858703,0.074392523,0.128426299,0.093588575,0.055030385,0.089375,0.075038285,0.044862724,0.060686356,0.099092317,0.096448381,0.028308097,0.07154047,0.069749014,0.047277138,0.093460326,0.048224496,0.03698279,0.060741445,0.086273666,0.090823307,0.085531575,0.056994819,0.03365166,0.042506527,0.0,0.11398259,0.075236167,0.107579462,0.096798943,0.072861468,0.113331949,0.096175064,0.055520827,0.084361164,0.071982974,0.050030836,0.019642463,0.05253852,0.056357078,0.034117647,0.073079538,0.047179487,0.108786611,0.077249576,0.035353535,0.0,0.0539724,0.029479503,0.072218341,0.061215064,0.101174601,0.113458628,0.066775872,0.099723375,0.080531385,0.0,0.151849807,0.075448568,0.059569649,0.071965016,0.08141125,0.1594906,0.024373731,0.029649596,0.078584681,0.075176976,0.082452199,0.096797577,0.069176442,0.055806815,0.067960766,0.063429289,0.041507819,0.0691628,0.097243919,0.068700676,0.089626262,0.119511469,0.072724524,0.066619195,0.048481675,0.070860927,0.022228555,0.096725743,0.0,0.057359929,0.095666912,0.075566386,0.083633531,0.054082941,0.112144387,0.016202835,0.0,0.069779712,0.058545455,0.070724732,0.084951001,0.089836827,0.059821207,0.061169193,0.050306435,0.10443571,0.059211951,0.092305816,0.054475193,0.05222898,0.082101621,0.096051684,0.038637747,0.08772359,0.046585715,0.051467273,0.078267592,0.10577224,0.103454715,0.045454545,0.047263682,0.083810867,0.075959674,0.074667496,0.060298284,0.084186296,0.067128194,0.06882792,0.050862499,0.102197419,0.03654583,0.05190783,0.037819026,0.068584071,0.062628297,0.089552239,0.055676856,0.059766764,0.102791571,0.047584,0.040104981,0.107115726,0.07754113,0.081742207,0.04632028,0.065112187,0.149048198,0.053620646,0.104945718],\"yaxis\":\"y7\",\"type\":\"scatter\"},{\"marker\":{\"size\":6},\"mode\":\"markers\",\"showlegend\":false,\"text\":[\"Engineering\",\"Engineering\",\"Engineering\",\"Engineering\",\"Engineering\",\"Engineering\",\"Business\",\"Physical Sciences\",\"Engineering\",\"Engineering\",\"Engineering\",\"Engineering\",\"Engineering\",\"Engineering\",\"Engineering\",\"Engineering\",\"Engineering\",\"Engineering\",\"Engineering\",\"Law & Public Policy\",\"Computers & Mathematics\",\"Engineering\",\"Engineering\",\"Business\",\"Engineering\",\"Industrial Arts & Consumer Services\",\"Business\",\"Engineering\",\"Law & Public Policy\",\"Engineering\",\"Engineering\",\"Arts\",\"Engineering\",\"Health\",\"Business\",\"Social Science\",\"Business\",\"Engineering\",\"Physical Sciences\",\"Business\",\"Computers & Mathematics\",\"Computers & Mathematics\",\"Physical Sciences\",\"Health\",\"Computers & Mathematics\",\"Computers & Mathematics\",\"Computers & Mathematics\",\"Biology & Life Science\",\"Physical Sciences\",\"Engineering\",\"Health\",\"Computers & Mathematics\",\"Computers & Mathematics\",\"Biology & Life Science\",\"Education\",\"Social Science\",\"Business\",\"Engineering\",\"Business\",\"Health\",\"Biology & Life Science\",\"Business\",\"Agriculture & Natural Resources\",\"Agriculture & Natural Resources\",\"Engineering\",\"Engineering\",\"Biology & Life Science\",\"Social Science\",\"Humanities & Liberal Arts\",\"Psychology & Social Work\",\"Agriculture & Natural Resources\",\"Physical Sciences\",\"Industrial Arts & Consumer Services\",\"Physical Sciences\",\"Industrial Arts & Consumer Services\",\"Business\",\"Business\",\"Social Science\",\"Social Science\",\"Biology & Life Science\",\"Computers & Mathematics\",\"Biology & Life Science\",\"Biology & Life Science\",\"Computers & Mathematics\",\"Physical Sciences\",\"Business\",\"Law & Public Policy\",\"Health\",\"Law & Public Policy\",\"Physical Sciences\",\"Psychology & Social Work\",\"Biology & Life Science\",\"Communications & Journalism\",\"Law & Public Policy\",\"Arts\",\"Communications & Journalism\",\"Physical Sciences\",\"Communications & Journalism\",\"Humanities & Liberal Arts\",\"Education\",\"Biology & Life Science\",\"Social Science\",\"Health\",\"Health\",\"Computers & Mathematics\",\"Industrial Arts & Consumer Services\",\"Agriculture & Natural Resources\",\"Biology & Life Science\",\"Interdisciplinary\",\"Physical Sciences\",\"Agriculture & Natural Resources\",\"Agriculture & Natural Resources\",\"Education\",\"Humanities & Liberal Arts\",\"Humanities & Liberal Arts\",\"Humanities & Liberal Arts\",\"Education\",\"Health\",\"Education\",\"Education\",\"Health\",\"Biology & Life Science\",\"Biology & Life Science\",\"Social Science\",\"Communications & Journalism\",\"Health\",\"Business\",\"Education\",\"Humanities & Liberal Arts\",\"Education\",\"Social Science\",\"Biology & Life Science\",\"Education\",\"Health\",\"Humanities & Liberal Arts\",\"Education\",\"Humanities & Liberal Arts\",\"Education\",\"Industrial Arts & Consumer Services\",\"Humanities & Liberal Arts\",\"Arts\",\"Social Science\",\"Agriculture & Natural Resources\",\"Education\",\"Psychology & Social Work\",\"Arts\",\"Education\",\"Humanities & Liberal Arts\",\"Arts\",\"Industrial Arts & Consumer Services\",\"Psychology & Social Work\",\"Agriculture & Natural Resources\",\"Arts\",\"Education\",\"Psychology & Social Work\",\"Psychology & Social Work\",\"Humanities & Liberal Arts\",\"Humanities & Liberal Arts\",\"Arts\",\"Industrial Arts & Consumer Services\",\"Agriculture & Natural Resources\",\"Humanities & Liberal Arts\",\"Health\",\"Education\",\"Humanities & Liberal Arts\",\"Arts\",\"Humanities & Liberal Arts\",\"Biology & Life Science\",\"Psychology & Social Work\",\"Psychology & Social Work\",\"Psychology & Social Work\",\"Education\"],\"x\":[110000,75000,73000,70000,65000,65000,62000,62000,60000,60000,60000,60000,60000,60000,58000,57100,57000,56000,54000,54000,53000,52000,52000,51000,50000,50000,50000,50000,50000,50000,50000,50000,50000,48000,47000,47000,46000,46000,46000,45000,45000,45000,45000,45000,45000,45000,45000,45000,44700,44000,42000,42000,41300,41000,41000,40100,40000,40000,40000,40000,40000,40000,40000,40000,40000,40000,40000,40000,40000,40000,40000,40000,40000,39000,38400,38000,38000,38000,38000,38000,37500,37400,37000,36400,36200,36000,36000,36000,36000,36000,36000,35600,35000,35000,35000,35000,35000,35000,35000,35000,35000,35000,35000,35000,35000,35000,35000,35000,35000,35000,35000,35000,34000,34000,34000,34000,34000,34000,34000,34000,33500,33500,33400,33000,33000,33000,33000,33000,33000,33000,33000,33000,32500,32400,32200,32100,32000,32000,32000,32000,32000,32000,32000,32000,31500,31000,31000,31000,30500,30000,30000,30000,30000,30000,30000,30000,30000,29000,29000,29000,29000,28000,28000,28000,27500,27000,27000,26000,25000,25000,23400,22000],\"xaxis\":\"x8\",\"y\":[0.018380527,0.117241379,0.024096386,0.050125313,0.061097712,0.177226407,0.095652174,0.021167415,0.057342278,0.059173845,0.065409275,0.065162085,0.09208386,0.023042836,0.006334343,0.087143069,0.042875544,0.059824231,0.061930783,0.011689692,0.063172771,0.087557114,0.027788805,0.058239614,0.070609574,0.060023041,0.047858703,0.074392523,0.128426299,0.093588575,0.055030385,0.089375,0.075038285,0.044862724,0.060686356,0.099092317,0.096448381,0.028308097,0.07154047,0.069749014,0.047277138,0.093460326,0.048224496,0.03698279,0.060741445,0.086273666,0.090823307,0.085531575,0.056994819,0.03365166,0.042506527,0.0,0.11398259,0.075236167,0.107579462,0.096798943,0.072861468,0.113331949,0.096175064,0.055520827,0.084361164,0.071982974,0.050030836,0.019642463,0.05253852,0.056357078,0.034117647,0.073079538,0.047179487,0.108786611,0.077249576,0.035353535,0.0,0.0539724,0.029479503,0.072218341,0.061215064,0.101174601,0.113458628,0.066775872,0.099723375,0.080531385,0.0,0.151849807,0.075448568,0.059569649,0.071965016,0.08141125,0.1594906,0.024373731,0.029649596,0.078584681,0.075176976,0.082452199,0.096797577,0.069176442,0.055806815,0.067960766,0.063429289,0.041507819,0.0691628,0.097243919,0.068700676,0.089626262,0.119511469,0.072724524,0.066619195,0.048481675,0.070860927,0.022228555,0.096725743,0.0,0.057359929,0.095666912,0.075566386,0.083633531,0.054082941,0.112144387,0.016202835,0.0,0.069779712,0.058545455,0.070724732,0.084951001,0.089836827,0.059821207,0.061169193,0.050306435,0.10443571,0.059211951,0.092305816,0.054475193,0.05222898,0.082101621,0.096051684,0.038637747,0.08772359,0.046585715,0.051467273,0.078267592,0.10577224,0.103454715,0.045454545,0.047263682,0.083810867,0.075959674,0.074667496,0.060298284,0.084186296,0.067128194,0.06882792,0.050862499,0.102197419,0.03654583,0.05190783,0.037819026,0.068584071,0.062628297,0.089552239,0.055676856,0.059766764,0.102791571,0.047584,0.040104981,0.107115726,0.07754113,0.081742207,0.04632028,0.065112187,0.149048198,0.053620646,0.104945718],\"yaxis\":\"y8\",\"type\":\"scatter\"},{\"showlegend\":false,\"x\":[0.018380527,0.117241379,0.024096386,0.050125313,0.061097712,0.177226407,0.095652174,0.021167415,0.057342278,0.059173845,0.065409275,0.065162085,0.09208386,0.023042836,0.006334343,0.087143069,0.042875544,0.059824231,0.061930783,0.011689692,0.063172771,0.087557114,0.027788805,0.058239614,0.070609574,0.060023041,0.047858703,0.074392523,0.128426299,0.093588575,0.055030385,0.089375,0.075038285,0.044862724,0.060686356,0.099092317,0.096448381,0.028308097,0.07154047,0.069749014,0.047277138,0.093460326,0.048224496,0.03698279,0.060741445,0.086273666,0.090823307,0.085531575,0.056994819,0.03365166,0.042506527,0.0,0.11398259,0.075236167,0.107579462,0.096798943,0.072861468,0.113331949,0.096175064,0.055520827,0.084361164,0.071982974,0.050030836,0.019642463,0.05253852,0.056357078,0.034117647,0.073079538,0.047179487,0.108786611,0.077249576,0.035353535,0.0,0.0539724,0.029479503,0.072218341,0.061215064,0.101174601,0.113458628,0.066775872,0.099723375,0.080531385,0.0,0.151849807,0.075448568,0.059569649,0.071965016,0.08141125,0.1594906,0.024373731,0.029649596,0.078584681,0.075176976,0.082452199,0.096797577,0.069176442,0.055806815,0.067960766,0.063429289,0.041507819,0.0691628,0.097243919,0.068700676,0.089626262,0.119511469,0.072724524,0.066619195,0.048481675,0.070860927,0.022228555,0.096725743,0.0,0.057359929,0.095666912,0.075566386,0.083633531,0.054082941,0.112144387,0.016202835,0.0,0.069779712,0.058545455,0.070724732,0.084951001,0.089836827,0.059821207,0.061169193,0.050306435,0.10443571,0.059211951,0.092305816,0.054475193,0.05222898,0.082101621,0.096051684,0.038637747,0.08772359,0.046585715,0.051467273,0.078267592,0.10577224,0.103454715,0.045454545,0.047263682,0.083810867,0.075959674,0.074667496,0.060298284,0.084186296,0.067128194,0.06882792,0.050862499,0.102197419,0.03654583,0.05190783,0.037819026,0.068584071,0.062628297,0.089552239,0.055676856,0.059766764,0.102791571,0.047584,0.040104981,0.107115726,0.07754113,0.081742207,0.04632028,0.065112187,0.149048198,0.053620646,0.104945718],\"xaxis\":\"x9\",\"yaxis\":\"y9\",\"type\":\"histogram\"}],                        {\"height\":1000,\"showlegend\":true,\"template\":{\"data\":{\"barpolar\":[{\"marker\":{\"line\":{\"color\":\"#E5ECF6\",\"width\":0.5},\"pattern\":{\"fillmode\":\"overlay\",\"size\":10,\"solidity\":0.2}},\"type\":\"barpolar\"}],\"bar\":[{\"error_x\":{\"color\":\"#2a3f5f\"},\"error_y\":{\"color\":\"#2a3f5f\"},\"marker\":{\"line\":{\"color\":\"#E5ECF6\",\"width\":0.5},\"pattern\":{\"fillmode\":\"overlay\",\"size\":10,\"solidity\":0.2}},\"type\":\"bar\"}],\"carpet\":[{\"aaxis\":{\"endlinecolor\":\"#2a3f5f\",\"gridcolor\":\"white\",\"linecolor\":\"white\",\"minorgridcolor\":\"white\",\"startlinecolor\":\"#2a3f5f\"},\"baxis\":{\"endlinecolor\":\"#2a3f5f\",\"gridcolor\":\"white\",\"linecolor\":\"white\",\"minorgridcolor\":\"white\",\"startlinecolor\":\"#2a3f5f\"},\"type\":\"carpet\"}],\"choropleth\":[{\"colorbar\":{\"outlinewidth\":0,\"ticks\":\"\"},\"type\":\"choropleth\"}],\"contourcarpet\":[{\"colorbar\":{\"outlinewidth\":0,\"ticks\":\"\"},\"type\":\"contourcarpet\"}],\"contour\":[{\"colorbar\":{\"outlinewidth\":0,\"ticks\":\"\"},\"colorscale\":[[0.0,\"#0d0887\"],[0.1111111111111111,\"#46039f\"],[0.2222222222222222,\"#7201a8\"],[0.3333333333333333,\"#9c179e\"],[0.4444444444444444,\"#bd3786\"],[0.5555555555555556,\"#d8576b\"],[0.6666666666666666,\"#ed7953\"],[0.7777777777777778,\"#fb9f3a\"],[0.8888888888888888,\"#fdca26\"],[1.0,\"#f0f921\"]],\"type\":\"contour\"}],\"heatmapgl\":[{\"colorbar\":{\"outlinewidth\":0,\"ticks\":\"\"},\"colorscale\":[[0.0,\"#0d0887\"],[0.1111111111111111,\"#46039f\"],[0.2222222222222222,\"#7201a8\"],[0.3333333333333333,\"#9c179e\"],[0.4444444444444444,\"#bd3786\"],[0.5555555555555556,\"#d8576b\"],[0.6666666666666666,\"#ed7953\"],[0.7777777777777778,\"#fb9f3a\"],[0.8888888888888888,\"#fdca26\"],[1.0,\"#f0f921\"]],\"type\":\"heatmapgl\"}],\"heatmap\":[{\"colorbar\":{\"outlinewidth\":0,\"ticks\":\"\"},\"colorscale\":[[0.0,\"#0d0887\"],[0.1111111111111111,\"#46039f\"],[0.2222222222222222,\"#7201a8\"],[0.3333333333333333,\"#9c179e\"],[0.4444444444444444,\"#bd3786\"],[0.5555555555555556,\"#d8576b\"],[0.6666666666666666,\"#ed7953\"],[0.7777777777777778,\"#fb9f3a\"],[0.8888888888888888,\"#fdca26\"],[1.0,\"#f0f921\"]],\"type\":\"heatmap\"}],\"histogram2dcontour\":[{\"colorbar\":{\"outlinewidth\":0,\"ticks\":\"\"},\"colorscale\":[[0.0,\"#0d0887\"],[0.1111111111111111,\"#46039f\"],[0.2222222222222222,\"#7201a8\"],[0.3333333333333333,\"#9c179e\"],[0.4444444444444444,\"#bd3786\"],[0.5555555555555556,\"#d8576b\"],[0.6666666666666666,\"#ed7953\"],[0.7777777777777778,\"#fb9f3a\"],[0.8888888888888888,\"#fdca26\"],[1.0,\"#f0f921\"]],\"type\":\"histogram2dcontour\"}],\"histogram2d\":[{\"colorbar\":{\"outlinewidth\":0,\"ticks\":\"\"},\"colorscale\":[[0.0,\"#0d0887\"],[0.1111111111111111,\"#46039f\"],[0.2222222222222222,\"#7201a8\"],[0.3333333333333333,\"#9c179e\"],[0.4444444444444444,\"#bd3786\"],[0.5555555555555556,\"#d8576b\"],[0.6666666666666666,\"#ed7953\"],[0.7777777777777778,\"#fb9f3a\"],[0.8888888888888888,\"#fdca26\"],[1.0,\"#f0f921\"]],\"type\":\"histogram2d\"}],\"histogram\":[{\"marker\":{\"pattern\":{\"fillmode\":\"overlay\",\"size\":10,\"solidity\":0.2}},\"type\":\"histogram\"}],\"mesh3d\":[{\"colorbar\":{\"outlinewidth\":0,\"ticks\":\"\"},\"type\":\"mesh3d\"}],\"parcoords\":[{\"line\":{\"colorbar\":{\"outlinewidth\":0,\"ticks\":\"\"}},\"type\":\"parcoords\"}],\"pie\":[{\"automargin\":true,\"type\":\"pie\"}],\"scatter3d\":[{\"line\":{\"colorbar\":{\"outlinewidth\":0,\"ticks\":\"\"}},\"marker\":{\"colorbar\":{\"outlinewidth\":0,\"ticks\":\"\"}},\"type\":\"scatter3d\"}],\"scattercarpet\":[{\"marker\":{\"colorbar\":{\"outlinewidth\":0,\"ticks\":\"\"}},\"type\":\"scattercarpet\"}],\"scattergeo\":[{\"marker\":{\"colorbar\":{\"outlinewidth\":0,\"ticks\":\"\"}},\"type\":\"scattergeo\"}],\"scattergl\":[{\"marker\":{\"colorbar\":{\"outlinewidth\":0,\"ticks\":\"\"}},\"type\":\"scattergl\"}],\"scattermapbox\":[{\"marker\":{\"colorbar\":{\"outlinewidth\":0,\"ticks\":\"\"}},\"type\":\"scattermapbox\"}],\"scatterpolargl\":[{\"marker\":{\"colorbar\":{\"outlinewidth\":0,\"ticks\":\"\"}},\"type\":\"scatterpolargl\"}],\"scatterpolar\":[{\"marker\":{\"colorbar\":{\"outlinewidth\":0,\"ticks\":\"\"}},\"type\":\"scatterpolar\"}],\"scatter\":[{\"fillpattern\":{\"fillmode\":\"overlay\",\"size\":10,\"solidity\":0.2},\"type\":\"scatter\"}],\"scatterternary\":[{\"marker\":{\"colorbar\":{\"outlinewidth\":0,\"ticks\":\"\"}},\"type\":\"scatterternary\"}],\"surface\":[{\"colorbar\":{\"outlinewidth\":0,\"ticks\":\"\"},\"colorscale\":[[0.0,\"#0d0887\"],[0.1111111111111111,\"#46039f\"],[0.2222222222222222,\"#7201a8\"],[0.3333333333333333,\"#9c179e\"],[0.4444444444444444,\"#bd3786\"],[0.5555555555555556,\"#d8576b\"],[0.6666666666666666,\"#ed7953\"],[0.7777777777777778,\"#fb9f3a\"],[0.8888888888888888,\"#fdca26\"],[1.0,\"#f0f921\"]],\"type\":\"surface\"}],\"table\":[{\"cells\":{\"fill\":{\"color\":\"#EBF0F8\"},\"line\":{\"color\":\"white\"}},\"header\":{\"fill\":{\"color\":\"#C8D4E3\"},\"line\":{\"color\":\"white\"}},\"type\":\"table\"}]},\"layout\":{\"annotationdefaults\":{\"arrowcolor\":\"#2a3f5f\",\"arrowhead\":0,\"arrowwidth\":1},\"autotypenumbers\":\"strict\",\"coloraxis\":{\"colorbar\":{\"outlinewidth\":0,\"ticks\":\"\"}},\"colorscale\":{\"diverging\":[[0,\"#8e0152\"],[0.1,\"#c51b7d\"],[0.2,\"#de77ae\"],[0.3,\"#f1b6da\"],[0.4,\"#fde0ef\"],[0.5,\"#f7f7f7\"],[0.6,\"#e6f5d0\"],[0.7,\"#b8e186\"],[0.8,\"#7fbc41\"],[0.9,\"#4d9221\"],[1,\"#276419\"]],\"sequential\":[[0.0,\"#0d0887\"],[0.1111111111111111,\"#46039f\"],[0.2222222222222222,\"#7201a8\"],[0.3333333333333333,\"#9c179e\"],[0.4444444444444444,\"#bd3786\"],[0.5555555555555556,\"#d8576b\"],[0.6666666666666666,\"#ed7953\"],[0.7777777777777778,\"#fb9f3a\"],[0.8888888888888888,\"#fdca26\"],[1.0,\"#f0f921\"]],\"sequentialminus\":[[0.0,\"#0d0887\"],[0.1111111111111111,\"#46039f\"],[0.2222222222222222,\"#7201a8\"],[0.3333333333333333,\"#9c179e\"],[0.4444444444444444,\"#bd3786\"],[0.5555555555555556,\"#d8576b\"],[0.6666666666666666,\"#ed7953\"],[0.7777777777777778,\"#fb9f3a\"],[0.8888888888888888,\"#fdca26\"],[1.0,\"#f0f921\"]]},\"colorway\":[\"#636efa\",\"#EF553B\",\"#00cc96\",\"#ab63fa\",\"#FFA15A\",\"#19d3f3\",\"#FF6692\",\"#B6E880\",\"#FF97FF\",\"#FECB52\"],\"font\":{\"color\":\"#2a3f5f\"},\"geo\":{\"bgcolor\":\"white\",\"lakecolor\":\"white\",\"landcolor\":\"#E5ECF6\",\"showlakes\":true,\"showland\":true,\"subunitcolor\":\"white\"},\"hoverlabel\":{\"align\":\"left\"},\"hovermode\":\"closest\",\"mapbox\":{\"style\":\"light\"},\"paper_bgcolor\":\"white\",\"plot_bgcolor\":\"#E5ECF6\",\"polar\":{\"angularaxis\":{\"gridcolor\":\"white\",\"linecolor\":\"white\",\"ticks\":\"\"},\"bgcolor\":\"#E5ECF6\",\"radialaxis\":{\"gridcolor\":\"white\",\"linecolor\":\"white\",\"ticks\":\"\"}},\"scene\":{\"xaxis\":{\"backgroundcolor\":\"#E5ECF6\",\"gridcolor\":\"white\",\"gridwidth\":2,\"linecolor\":\"white\",\"showbackground\":true,\"ticks\":\"\",\"zerolinecolor\":\"white\"},\"yaxis\":{\"backgroundcolor\":\"#E5ECF6\",\"gridcolor\":\"white\",\"gridwidth\":2,\"linecolor\":\"white\",\"showbackground\":true,\"ticks\":\"\",\"zerolinecolor\":\"white\"},\"zaxis\":{\"backgroundcolor\":\"#E5ECF6\",\"gridcolor\":\"white\",\"gridwidth\":2,\"linecolor\":\"white\",\"showbackground\":true,\"ticks\":\"\",\"zerolinecolor\":\"white\"}},\"shapedefaults\":{\"line\":{\"color\":\"#2a3f5f\"}},\"ternary\":{\"aaxis\":{\"gridcolor\":\"white\",\"linecolor\":\"white\",\"ticks\":\"\"},\"baxis\":{\"gridcolor\":\"white\",\"linecolor\":\"white\",\"ticks\":\"\"},\"bgcolor\":\"#E5ECF6\",\"caxis\":{\"gridcolor\":\"white\",\"linecolor\":\"white\",\"ticks\":\"\"}},\"title\":{\"x\":0.05},\"xaxis\":{\"automargin\":true,\"gridcolor\":\"white\",\"linecolor\":\"white\",\"ticks\":\"\",\"title\":{\"standoff\":15},\"zerolinecolor\":\"white\",\"zerolinewidth\":2},\"yaxis\":{\"automargin\":true,\"gridcolor\":\"white\",\"linecolor\":\"white\",\"ticks\":\"\",\"title\":{\"standoff\":15},\"zerolinecolor\":\"white\",\"zerolinewidth\":2}}},\"title\":{\"text\":\"Scatterplot Matrix\"},\"width\":1000,\"xaxis\":{\"anchor\":\"y\",\"domain\":[0.0,0.2888888888888889]},\"yaxis\":{\"anchor\":\"x\",\"domain\":[0.7333333333333333,1.0],\"title\":{\"text\":\"Majort_cat_short\"}},\"xaxis2\":{\"anchor\":\"y2\",\"domain\":[0.35555555555555557,0.6444444444444445]},\"yaxis2\":{\"anchor\":\"x2\",\"domain\":[0.7333333333333333,1.0]},\"xaxis3\":{\"anchor\":\"y3\",\"domain\":[0.7111111111111111,1.0]},\"yaxis3\":{\"anchor\":\"x3\",\"domain\":[0.7333333333333333,1.0]},\"xaxis4\":{\"anchor\":\"y4\",\"domain\":[0.0,0.2888888888888889]},\"yaxis4\":{\"anchor\":\"x4\",\"domain\":[0.36666666666666664,0.6333333333333333],\"title\":{\"text\":\"Median\"}},\"xaxis5\":{\"anchor\":\"y5\",\"domain\":[0.35555555555555557,0.6444444444444445]},\"yaxis5\":{\"anchor\":\"x5\",\"domain\":[0.36666666666666664,0.6333333333333333]},\"xaxis6\":{\"anchor\":\"y6\",\"domain\":[0.7111111111111111,1.0]},\"yaxis6\":{\"anchor\":\"x6\",\"domain\":[0.36666666666666664,0.6333333333333333]},\"xaxis7\":{\"anchor\":\"y7\",\"domain\":[0.0,0.2888888888888889],\"title\":{\"text\":\"Majort_cat_short\"}},\"yaxis7\":{\"anchor\":\"x7\",\"domain\":[0.0,0.26666666666666666],\"title\":{\"text\":\"Unemployment_rate\"}},\"xaxis8\":{\"anchor\":\"y8\",\"domain\":[0.35555555555555557,0.6444444444444445],\"title\":{\"text\":\"Median\"}},\"yaxis8\":{\"anchor\":\"x8\",\"domain\":[0.0,0.26666666666666666]},\"xaxis9\":{\"anchor\":\"y9\",\"domain\":[0.7111111111111111,1.0],\"title\":{\"text\":\"Unemployment_rate\"}},\"yaxis9\":{\"anchor\":\"x9\",\"domain\":[0.0,0.26666666666666666]}},                        {\"responsive\": true}                    ).then(function(){\n",
       "                            \n",
       "var gd = document.getElementById('9cc65888-236b-421d-855b-590d1b5c57fc');\n",
       "var x = new MutationObserver(function (mutations, observer) {{\n",
       "        var display = window.getComputedStyle(gd).display;\n",
       "        if (!display || display === 'none') {{\n",
       "            console.log([gd, 'removed!']);\n",
       "            Plotly.purge(gd);\n",
       "            observer.disconnect();\n",
       "        }}\n",
       "}});\n",
       "\n",
       "// Listen for the removal of the full notebook cells\n",
       "var notebookContainer = gd.closest('#notebook-container');\n",
       "if (notebookContainer) {{\n",
       "    x.observe(notebookContainer, {childList: true});\n",
       "}}\n",
       "\n",
       "// Listen for the clearing of the current output cell\n",
       "var outputEl = gd.closest('.output');\n",
       "if (outputEl) {{\n",
       "    x.observe(outputEl, {childList: true});\n",
       "}}\n",
       "\n",
       "                        })                };                });            </script>        </div>"
      ]
     },
     "metadata": {},
     "output_type": "display_data"
    },
    {
     "data": {
      "text/plain": [
       "0      Engi\n",
       "1      Engi\n",
       "2      Engi\n",
       "3      Engi\n",
       "4      Engi\n",
       "       ... \n",
       "168    Biol\n",
       "169    Psyc\n",
       "170    Psyc\n",
       "171    Psyc\n",
       "172    Educ\n",
       "Name: Majort_cat_short, Length: 172, dtype: object"
      ]
     },
     "execution_count": 35,
     "metadata": {},
     "output_type": "execute_result"
    }
   ],
   "source": [
    "def shortener(text):\n",
    "    return text[:4]\n",
    "df['Majort_cat_short'] = df['Major_category'].apply(shortener)\n",
    "# df[\"Short\"] = df.apply(lambda row: shortener(row[\"Major_category\"]),axis = 1)\n",
    "figure = ff.create_scatterplotmatrix(\n",
    "    df[[\"Majort_cat_short\", \"Median\",\"Unemployment_rate\"]],\n",
    "    height=1000,\n",
    "    width=1000,\n",
    "    text=df[\"Major_category\"],\n",
    "    diag=\"histogram\"\n",
    ")\n",
    "iplot(figure)\n",
    "df.pop(\"Majort_cat_short\")\n",
    "# print(df.head())"
   ]
  },
  {
   "cell_type": "code",
   "execution_count": 37,
   "metadata": {},
   "outputs": [
    {
     "data": {
      "text/plain": [
       "[Scatter({\n",
       "     'marker': {'color': array([  36,    7,    3,   16,  289,   17,   51,   10, 1029,  631,  399,  147,\n",
       "                                  79,   22,   30,   55,  183,  425,   26,   14, 1196,   97,   22,  278,\n",
       "                                 565,  295,  156,  118,   55,   26,   39,   30,    5, 2554, 2189, 1322,\n",
       "                                 199,   73,   31, 2042,  541,  425,  142,  190,  158,   37,   45,    3,\n",
       "                                  36,   29,   67,    7,   43,   25,    4,  219, 2380,  362,  260,   38,\n",
       "                                  90,  244,  273,  158,  125,   71,   11,   28,   22,   24,   44,   10,\n",
       "                                   4,  353,   37, 4212, 2684, 1387,  179,   62,  103,  174,    9,   97,\n",
       "                                  78,  264,   92,   81,   46,   18,    8,  225, 2394, 1728, 1186,  843,\n",
       "                                 427,  681,  249,  246,   99,  214,  118,  184,  208,  180,  152,   53,\n",
       "                                 128,   32,   48,    4,  919, 1058,  342,  184,  157,  130,  123,    5,\n",
       "                                  31,   63, 1370, 1024,  590,  224,  546,  235,   88,  126,   95,   86,\n",
       "                                 156,  202,  375,  338, 1436, 1629, 1014,  569,  331,  113,  110,   59,\n",
       "                                2584,  419,  259,  204,  623,  518,  374,  255,  132,  142,   60,   89,\n",
       "                                  49,  310,  182,  117,   24,  247,   95,  342,   56,  357,  151,   47,\n",
       "                                   7,   13,   21,    2]),\n",
       "                'colorscale': [[0.0, 'rgb(0,0,255)'], [1.0, 'rgb(255,0,0)']],\n",
       "                'line': {'color': 'black', 'width': 1.2},\n",
       "                'showscale': True,\n",
       "                'size': array([15.0092508,  5.8927389, 23.1748728, 19.9857585, 29.0177229,  0.       ,\n",
       "                               13.6363635, 15.2587497, 17.9300292]),\n",
       "                'sizemin': 2,\n",
       "                'sizeref': 2,\n",
       "                'symbol': 0},\n",
       "     'mode': 'markers',\n",
       "     'name': 'Agriculture & Natural Resources',\n",
       "     'text': array(['AGRICULTURE PRODUCTION AND MANAGEMENT', 'GENERAL AGRICULTURE',\n",
       "                    'AGRICULTURAL ECONOMICS', 'NATURAL RESOURCES MANAGEMENT', 'FORESTRY',\n",
       "                    'SOIL SCIENCE', 'PLANT SCIENCE AND AGRONOMY', 'ANIMAL SCIENCES',\n",
       "                    'MISCELLANEOUS AGRICULTURE'], dtype=object),\n",
       "     'x': array([50000, 50000, 54000, 42000, 48000, 44000, 40000, 40000, 42100]),\n",
       "     'y': array([25000, 30000, 27000, 25000, 28600, 18500, 22900, 22000, 23000])\n",
       " }),\n",
       " Scatter({\n",
       "     'marker': {'color': array([  36,    7,    3,   16,  289,   17,   51,   10, 1029,  631,  399,  147,\n",
       "                                  79,   22,   30,   55,  183,  425,   26,   14, 1196,   97,   22,  278,\n",
       "                                 565,  295,  156,  118,   55,   26,   39,   30,    5, 2554, 2189, 1322,\n",
       "                                 199,   73,   31, 2042,  541,  425,  142,  190,  158,   37,   45,    3,\n",
       "                                  36,   29,   67,    7,   43,   25,    4,  219, 2380,  362,  260,   38,\n",
       "                                  90,  244,  273,  158,  125,   71,   11,   28,   22,   24,   44,   10,\n",
       "                                   4,  353,   37, 4212, 2684, 1387,  179,   62,  103,  174,    9,   97,\n",
       "                                  78,  264,   92,   81,   46,   18,    8,  225, 2394, 1728, 1186,  843,\n",
       "                                 427,  681,  249,  246,   99,  214,  118,  184,  208,  180,  152,   53,\n",
       "                                 128,   32,   48,    4,  919, 1058,  342,  184,  157,  130,  123,    5,\n",
       "                                  31,   63, 1370, 1024,  590,  224,  546,  235,   88,  126,   95,   86,\n",
       "                                 156,  202,  375,  338, 1436, 1629, 1014,  569,  331,  113,  110,   59,\n",
       "                                2584,  419,  259,  204,  623,  518,  374,  255,  132,  142,   60,   89,\n",
       "                                  49,  310,  182,  117,   24,  247,   95,  342,   56,  357,  151,   47,\n",
       "                                   7,   13,   21,    2]),\n",
       "                'colorscale': [[0.0, 'rgb(0,0,255)'], [1.0, 'rgb(255,0,0)']],\n",
       "                'line': {'color': 'black', 'width': 1.2},\n",
       "                'showscale': True,\n",
       "                'size': array([26.8125   , 29.0392731, 31.731672 , 22.7879022, 25.2558888, 30.6592257,\n",
       "                               26.8656717, 23.262339 ]),\n",
       "                'sizemin': 2,\n",
       "                'sizeref': 2,\n",
       "                'symbol': 1},\n",
       "     'mode': 'markers',\n",
       "     'name': 'Arts',\n",
       "     'text': array(['MISCELLANEOUS FINE ARTS', 'COMMERCIAL ART AND GRAPHIC DESIGN',\n",
       "                    'FILM VIDEO AND PHOTOGRAPHIC ARTS', 'MUSIC', 'FINE ARTS',\n",
       "                    'VISUAL AND PERFORMING ARTS', 'STUDIO ARTS', 'DRAMA AND THEATER ARTS'],\n",
       "                   dtype=object),\n",
       "     'x': array([66000, 45000, 42000, 42000, 41000, 40000, 38300, 35000]),\n",
       "     'y': array([25000, 25000, 22000, 22300, 21000, 22000, 19200, 19200])\n",
       " }),\n",
       " Scatter({\n",
       "     'marker': {'color': array([  36,    7,    3,   16,  289,   17,   51,   10, 1029,  631,  399,  147,\n",
       "                                  79,   22,   30,   55,  183,  425,   26,   14, 1196,   97,   22,  278,\n",
       "                                 565,  295,  156,  118,   55,   26,   39,   30,    5, 2554, 2189, 1322,\n",
       "                                 199,   73,   31, 2042,  541,  425,  142,  190,  158,   37,   45,    3,\n",
       "                                  36,   29,   67,    7,   43,   25,    4,  219, 2380,  362,  260,   38,\n",
       "                                  90,  244,  273,  158,  125,   71,   11,   28,   22,   24,   44,   10,\n",
       "                                   4,  353,   37, 4212, 2684, 1387,  179,   62,  103,  174,    9,   97,\n",
       "                                  78,  264,   92,   81,   46,   18,    8,  225, 2394, 1728, 1186,  843,\n",
       "                                 427,  681,  249,  246,   99,  214,  118,  184,  208,  180,  152,   53,\n",
       "                                 128,   32,   48,    4,  919, 1058,  342,  184,  157,  130,  123,    5,\n",
       "                                  31,   63, 1370, 1024,  590,  224,  546,  235,   88,  126,   95,   86,\n",
       "                                 156,  202,  375,  338, 1436, 1629, 1014,  569,  331,  113,  110,   59,\n",
       "                                2584,  419,  259,  204,  623,  518,  374,  255,  132,  142,   60,   89,\n",
       "                                  49,  310,  182,  117,   24,  247,   95,  342,   56,  357,  151,   47,\n",
       "                                   7,   13,   21,    2]),\n",
       "                'colorscale': [[0.0, 'rgb(0,0,255)'], [1.0, 'rgb(255,0,0)']],\n",
       "                'line': {'color': 'black', 'width': 1.2},\n",
       "                'showscale': True,\n",
       "                'size': array([25.6594725, 22.5708501, 25.3083492, 10.2352941, 20.0327616, 24.1594155,\n",
       "                                0.       , 23.5754043, 20.74884  , 14.5445025, 17.5636365, 21.2174196,\n",
       "                               16.3425579, 13.896084 ]),\n",
       "                'sizemin': 2,\n",
       "                'sizeref': 2,\n",
       "                'symbol': 2},\n",
       "     'mode': 'markers',\n",
       "     'name': 'Biology & Life Science',\n",
       "     'text': array(['PHARMACOLOGY', 'COGNITIVE SCIENCE AND BIOPSYCHOLOGY',\n",
       "                    'MOLECULAR BIOLOGY', 'GENETICS', 'MICROBIOLOGY', 'BIOCHEMICAL SCIENCES',\n",
       "                    'BOTANY', 'ENVIRONMENTAL SCIENCE', 'PHYSIOLOGY', 'NEUROSCIENCE',\n",
       "                    'MISCELLANEOUS BIOLOGY', 'BIOLOGY', 'ECOLOGY', 'ZOOLOGY'], dtype=object),\n",
       "     'x': array([45000, 60000, 47000, 45000, 50000, 50000, 40000, 40200, 50000, 44000,\n",
       "                 48000, 45000, 42000, 39000]),\n",
       "     'y': array([40000, 20000, 29000, 34000, 29600, 29000, 26000, 25000, 20000, 30000,\n",
       "                 23000, 24000, 23000, 20000])\n",
       " }),\n",
       " Scatter({\n",
       "     'marker': {'color': array([  36,    7,    3,   16,  289,   17,   51,   10, 1029,  631,  399,  147,\n",
       "                                  79,   22,   30,   55,  183,  425,   26,   14, 1196,   97,   22,  278,\n",
       "                                 565,  295,  156,  118,   55,   26,   39,   30,    5, 2554, 2189, 1322,\n",
       "                                 199,   73,   31, 2042,  541,  425,  142,  190,  158,   37,   45,    3,\n",
       "                                  36,   29,   67,    7,   43,   25,    4,  219, 2380,  362,  260,   38,\n",
       "                                  90,  244,  273,  158,  125,   71,   11,   28,   22,   24,   44,   10,\n",
       "                                   4,  353,   37, 4212, 2684, 1387,  179,   62,  103,  174,    9,   97,\n",
       "                                  78,  264,   92,   81,   46,   18,    8,  225, 2394, 1728, 1186,  843,\n",
       "                                 427,  681,  249,  246,   99,  214,  118,  184,  208,  180,  152,   53,\n",
       "                                 128,   32,   48,    4,  919, 1058,  342,  184,  157,  130,  123,    5,\n",
       "                                  31,   63, 1370, 1024,  590,  224,  546,  235,   88,  126,   95,   86,\n",
       "                                 156,  202,  375,  338, 1436, 1629, 1014,  569,  331,  113,  110,   59,\n",
       "                                2584,  419,  259,  204,  623,  518,  374,  255,  132,  142,   60,   89,\n",
       "                                  49,  310,  182,  117,   24,  247,   95,  342,   56,  357,  151,   47,\n",
       "                                   7,   13,   21,    2]),\n",
       "                'colorscale': [[0.0, 'rgb(0,0,255)'], [1.0, 'rgb(255,0,0)']],\n",
       "                'line': {'color': 'black', 'width': 1.2},\n",
       "                'showscale': True,\n",
       "                'size': array([28.6956522, 17.4718842, 14.3576109, 18.2059068, 28.9345143, 20.9247042,\n",
       "                               21.8584404, 28.8525192, 21.5948922, 21.6655023, 18.3645192, 17.8708947,\n",
       "                               18.3507579]),\n",
       "                'sizemin': 2,\n",
       "                'sizeref': 2,\n",
       "                'symbol': 3},\n",
       "     'mode': 'markers',\n",
       "     'name': 'Business',\n",
       "     'text': array(['ACTUARIAL SCIENCE', 'MANAGEMENT INFORMATION SYSTEMS AND STATISTICS',\n",
       "                    'OPERATIONS LOGISTICS AND E-COMMERCE', 'FINANCE', 'BUSINESS ECONOMICS',\n",
       "                    'ACCOUNTING', 'GENERAL BUSINESS', 'INTERNATIONAL BUSINESS',\n",
       "                    'MISCELLANEOUS BUSINESS & MEDICAL ADMINISTRATION',\n",
       "                    'BUSINESS MANAGEMENT AND ADMINISTRATION',\n",
       "                    'MARKETING AND MARKETING RESEARCH',\n",
       "                    'HUMAN RESOURCES AND PERSONNEL MANAGEMENT', 'HOSPITALITY MANAGEMENT'],\n",
       "                   dtype=object),\n",
       "     'x': array([72000, 60000, 60000, 64000, 58000, 56000, 55000, 50000, 51000, 50000,\n",
       "                 50000, 45000, 42000]),\n",
       "     'y': array([53000, 38000, 40000, 35000, 33000, 34000, 30000, 30000, 30000, 29000,\n",
       "                 30000, 28000, 25000])\n",
       " }),\n",
       " Scatter({\n",
       "     'marker': {'color': array([  36,    7,    3,   16,  289,   17,   51,   10, 1029,  631,  399,  147,\n",
       "                                  79,   22,   30,   55,  183,  425,   26,   14, 1196,   97,   22,  278,\n",
       "                                 565,  295,  156,  118,   55,   26,   39,   30,    5, 2554, 2189, 1322,\n",
       "                                 199,   73,   31, 2042,  541,  425,  142,  190,  158,   37,   45,    3,\n",
       "                                  36,   29,   67,    7,   43,   25,    4,  219, 2380,  362,  260,   38,\n",
       "                                  90,  244,  273,  158,  125,   71,   11,   28,   22,   24,   44,   10,\n",
       "                                   4,  353,   37, 4212, 2684, 1387,  179,   62,  103,  174,    9,   97,\n",
       "                                  78,  264,   92,   81,   46,   18,    8,  225, 2394, 1728, 1186,  843,\n",
       "                                 427,  681,  249,  246,   99,  214,  118,  184,  208,  180,  152,   53,\n",
       "                                 128,   32,   48,    4,  919, 1058,  342,  184,  157,  130,  123,    5,\n",
       "                                  31,   63, 1370, 1024,  590,  224,  546,  235,   88,  126,   95,   86,\n",
       "                                 156,  202,  375,  338, 1436, 1629, 1014,  569,  331,  113,  110,   59,\n",
       "                                2584,  419,  259,  204,  623,  518,  374,  255,  132,  142,   60,   89,\n",
       "                                  49,  310,  182,  117,   24,  247,   95,  342,   56,  357,  151,   47,\n",
       "                                   7,   13,   21,    2]),\n",
       "                'colorscale': [[0.0, 'rgb(0,0,255)'], [1.0, 'rgb(255,0,0)']],\n",
       "                'line': {'color': 'black', 'width': 1.2},\n",
       "                'showscale': True,\n",
       "                'size': array([22.5530928, 20.7529326, 20.3882298, 26.9510481]),\n",
       "                'sizemin': 2,\n",
       "                'sizeref': 2,\n",
       "                'symbol': 4},\n",
       "     'mode': 'markers',\n",
       "     'name': 'Communications & Journalism',\n",
       "     'text': array(['COMMUNICATIONS', 'JOURNALISM', 'ADVERTISING AND PUBLIC RELATIONS',\n",
       "                    'MASS MEDIA'], dtype=object),\n",
       "     'x': array([45000, 42900, 47000, 45000]),\n",
       "     'y': array([27000, 26000, 27000, 25000])\n",
       " }),\n",
       " Scatter({\n",
       "     'marker': {'color': array([  36,    7,    3,   16,  289,   17,   51,   10, 1029,  631,  399,  147,\n",
       "                                  79,   22,   30,   55,  183,  425,   26,   14, 1196,   97,   22,  278,\n",
       "                                 565,  295,  156,  118,   55,   26,   39,   30,    5, 2554, 2189, 1322,\n",
       "                                 199,   73,   31, 2042,  541,  425,  142,  190,  158,   37,   45,    3,\n",
       "                                  36,   29,   67,    7,   43,   25,    4,  219, 2380,  362,  260,   38,\n",
       "                                  90,  244,  273,  158,  125,   71,   11,   28,   22,   24,   44,   10,\n",
       "                                   4,  353,   37, 4212, 2684, 1387,  179,   62,  103,  174,    9,   97,\n",
       "                                  78,  264,   92,   81,   46,   18,    8,  225, 2394, 1728, 1186,  843,\n",
       "                                 427,  681,  249,  246,   99,  214,  118,  184,  208,  180,  152,   53,\n",
       "                                 128,   32,   48,    4,  919, 1058,  342,  184,  157,  130,  123,    5,\n",
       "                                  31,   63, 1370, 1024,  590,  224,  546,  235,   88,  126,   95,   86,\n",
       "                                 156,  202,  375,  338, 1436, 1629, 1014,  569,  331,  113,  110,   59,\n",
       "                                2584,  419,  259,  204,  623,  518,  374,  255,  132,  142,   60,   89,\n",
       "                                  49,  310,  182,  117,   24,  247,   95,  342,   56,  357,  151,   47,\n",
       "                                   7,   13,   21,    2]),\n",
       "                'colorscale': [[0.0, 'rgb(0,0,255)'], [1.0, 'rgb(255,0,0)']],\n",
       "                'line': {'color': 'black', 'width': 1.2},\n",
       "                'showscale': True,\n",
       "                'size': array([18.9518313, 14.1831414, 28.0380978, 18.2224335, 25.8820998, 27.2469921,\n",
       "                                0.       , 34.194777 , 29.9170125, 45.5549421, 35.8534407]),\n",
       "                'sizemin': 2,\n",
       "                'sizeref': 2,\n",
       "                'symbol': 5},\n",
       "     'mode': 'markers',\n",
       "     'name': 'Computers & Mathematics',\n",
       "     'text': array(['COMPUTER SCIENCE', 'MATHEMATICS', 'COMPUTER AND INFORMATION SYSTEMS',\n",
       "                    'INFORMATION SCIENCES', 'STATISTICS AND DECISION SCIENCE',\n",
       "                    'APPLIED MATHEMATICS', 'MATHEMATICS AND COMPUTER SCIENCE',\n",
       "                    'COMPUTER PROGRAMMING AND DATA PROCESSING',\n",
       "                    'COMPUTER ADMINISTRATION MANAGEMENT AND SECURITY',\n",
       "                    'COMPUTER NETWORKING AND TELECOMMUNICATIONS',\n",
       "                    'COMMUNICATION TECHNOLOGIES'], dtype=object),\n",
       "     'x': array([70000, 60000, 60000, 58000, 60000, 63000, 78000, 46000, 50000, 49000,\n",
       "                 45000]),\n",
       "     'y': array([39000, 33000, 30000, 32500, 26700, 34000, 30000, 20000, 25000, 27000,\n",
       "                 25000])\n",
       " }),\n",
       " Scatter({\n",
       "     'marker': {'color': array([  36,    7,    3,   16,  289,   17,   51,   10, 1029,  631,  399,  147,\n",
       "                                  79,   22,   30,   55,  183,  425,   26,   14, 1196,   97,   22,  278,\n",
       "                                 565,  295,  156,  118,   55,   26,   39,   30,    5, 2554, 2189, 1322,\n",
       "                                 199,   73,   31, 2042,  541,  425,  142,  190,  158,   37,   45,    3,\n",
       "                                  36,   29,   67,    7,   43,   25,    4,  219, 2380,  362,  260,   38,\n",
       "                                  90,  244,  273,  158,  125,   71,   11,   28,   22,   24,   44,   10,\n",
       "                                   4,  353,   37, 4212, 2684, 1387,  179,   62,  103,  174,    9,   97,\n",
       "                                  78,  264,   92,   81,   46,   18,    8,  225, 2394, 1728, 1186,  843,\n",
       "                                 427,  681,  249,  246,   99,  214,  118,  184,  208,  180,  152,   53,\n",
       "                                 128,   32,   48,    4,  919, 1058,  342,  184,  157,  130,  123,    5,\n",
       "                                  31,   63, 1370, 1024,  590,  224,  546,  235,   88,  126,   95,   86,\n",
       "                                 156,  202,  375,  338, 1436, 1629, 1014,  569,  331,  113,  110,   59,\n",
       "                                2584,  419,  259,  204,  623,  518,  374,  255,  132,  142,   60,   89,\n",
       "                                  49,  310,  182,  117,   24,  247,   95,  342,   56,  357,  151,   47,\n",
       "                                   7,   13,   21,    2]),\n",
       "                'colorscale': [[0.0, 'rgb(0,0,255)'], [1.0, 'rgb(255,0,0)']],\n",
       "                'line': {'color': 'black', 'width': 1.2},\n",
       "                'showscale': True,\n",
       "                'size': array([32.2738386, 12.4523457, 17.2079787, 16.2248823,  4.8608505,  0.       ,\n",
       "                               15.0919305, 17.7635853, 15.668694 , 11.5913241, 13.9757145, 14.1791046,\n",
       "                               22.4002488, 10.963749 , 12.0314943, 31.4837154]),\n",
       "                'sizemin': 2,\n",
       "                'sizeref': 2,\n",
       "                'symbol': 6},\n",
       "     'mode': 'markers',\n",
       "     'name': 'Education',\n",
       "     'text': array(['SCHOOL STUDENT COUNSELING', 'SPECIAL NEEDS EDUCATION',\n",
       "                    'GENERAL EDUCATION', 'SOCIAL SCIENCE OR HISTORY TEACHER EDUCATION',\n",
       "                    'MATHEMATICS TEACHER EDUCATION',\n",
       "                    'EDUCATIONAL ADMINISTRATION AND SUPERVISION',\n",
       "                    'LANGUAGE AND DRAMA EDUCATION', 'MISCELLANEOUS EDUCATION',\n",
       "                    'SECONDARY TEACHER EDUCATION', 'ART AND MUSIC EDUCATION',\n",
       "                    'ELEMENTARY EDUCATION', 'SCIENCE AND COMPUTER TEACHER EDUCATION',\n",
       "                    'PHYSICAL AND HEALTH EDUCATION TEACHING',\n",
       "                    'TEACHER EDUCATION: MULTIPLE LEVELS', 'EARLY CHILDHOOD EDUCATION',\n",
       "                    'LIBRARY SCIENCE'], dtype=object),\n",
       "     'x': array([43000, 42000, 41000, 42000, 40000, 35000, 40000, 45000, 38000, 40000,\n",
       "                 38000, 39000, 40000, 37000, 35000, 22000]),\n",
       "     'y': array([41000, 32000, 26000, 23050, 30000, 29000, 24000, 30000, 25000, 25000,\n",
       "                 23400, 28000, 24000, 24000, 21000, 20000])\n",
       " }),\n",
       " Scatter({\n",
       "     'marker': {'color': array([  36,    7,    3,   16,  289,   17,   51,   10, 1029,  631,  399,  147,\n",
       "                                  79,   22,   30,   55,  183,  425,   26,   14, 1196,   97,   22,  278,\n",
       "                                 565,  295,  156,  118,   55,   26,   39,   30,    5, 2554, 2189, 1322,\n",
       "                                 199,   73,   31, 2042,  541,  425,  142,  190,  158,   37,   45,    3,\n",
       "                                  36,   29,   67,    7,   43,   25,    4,  219, 2380,  362,  260,   38,\n",
       "                                  90,  244,  273,  158,  125,   71,   11,   28,   22,   24,   44,   10,\n",
       "                                   4,  353,   37, 4212, 2684, 1387,  179,   62,  103,  174,    9,   97,\n",
       "                                  78,  264,   92,   81,   46,   18,    8,  225, 2394, 1728, 1186,  843,\n",
       "                                 427,  681,  249,  246,   99,  214,  118,  184,  208,  180,  152,   53,\n",
       "                                 128,   32,   48,    4,  919, 1058,  342,  184,  157,  130,  123,    5,\n",
       "                                  31,   63, 1370, 1024,  590,  224,  546,  235,   88,  126,   95,   86,\n",
       "                                 156,  202,  375,  338, 1436, 1629, 1014,  569,  331,  113,  110,   59,\n",
       "                                2584,  419,  259,  204,  623,  518,  374,  255,  132,  142,   60,   89,\n",
       "                                  49,  310,  182,  117,   24,  247,   95,  342,   56,  357,  151,   47,\n",
       "                                   7,   13,   21,    2]),\n",
       "                'colorscale': [[0.0, 'rgb(0,0,255)'], [1.0, 'rgb(255,0,0)']],\n",
       "                'line': {'color': 'black', 'width': 1.2},\n",
       "                'showscale': True,\n",
       "                'size': array([ 5.5141581, 35.1724137,  7.2289158, 15.0375939, 18.3293136, 53.1679221,\n",
       "                               17.2026834, 17.7521535, 19.6227825, 19.5486255, 27.625158 ,  6.9128508,\n",
       "                                1.9003029, 26.1429207, 12.8626632, 17.9472693, 18.5792349, 26.2671342,\n",
       "                                8.3366415, 21.1828722, 22.3177569, 28.0765725, 16.5091155, 22.5114855,\n",
       "                                8.4924291, 10.095498 , 33.9995847, 15.761556 , 16.9071234]),\n",
       "                'sizemin': 2,\n",
       "                'sizeref': 2,\n",
       "                'symbol': 7},\n",
       "     'mode': 'markers',\n",
       "     'name': 'Engineering',\n",
       "     'text': array(['PETROLEUM ENGINEERING', 'MINING AND MINERAL ENGINEERING',\n",
       "                    'METALLURGICAL ENGINEERING',\n",
       "                    'NAVAL ARCHITECTURE AND MARINE ENGINEERING', 'CHEMICAL ENGINEERING',\n",
       "                    'NUCLEAR ENGINEERING', 'MECHANICAL ENGINEERING',\n",
       "                    'ELECTRICAL ENGINEERING', 'COMPUTER ENGINEERING',\n",
       "                    'AEROSPACE ENGINEERING', 'BIOMEDICAL ENGINEERING', 'MATERIALS SCIENCE',\n",
       "                    'ENGINEERING MECHANICS PHYSICS AND SCIENCE', 'BIOLOGICAL ENGINEERING',\n",
       "                    'INDUSTRIAL AND MANUFACTURING ENGINEERING', 'GENERAL ENGINEERING',\n",
       "                    'ARCHITECTURAL ENGINEERING', 'ELECTRICAL ENGINEERING TECHNOLOGY',\n",
       "                    'MATERIALS ENGINEERING AND MATERIALS SCIENCE', 'CIVIL ENGINEERING',\n",
       "                    'MISCELLANEOUS ENGINEERING', 'ENVIRONMENTAL ENGINEERING',\n",
       "                    'ENGINEERING TECHNOLOGIES', 'GEOLOGICAL AND GEOPHYSICAL ENGINEERING',\n",
       "                    'INDUSTRIAL PRODUCTION TECHNOLOGIES',\n",
       "                    'ENGINEERING AND INDUSTRIAL MANAGEMENT', 'ARCHITECTURE',\n",
       "                    'MISCELLANEOUS ENGINEERING TECHNOLOGIES',\n",
       "                    'MECHANICAL ENGINEERING RELATED TECHNOLOGIES'], dtype=object),\n",
       "     'x': array([125000,  90000, 105000,  80000,  75000, 102000,  70000,  72000,  75000,\n",
       "                  70000,  70000,  65000,  74000,  76000,  67000,  69000,  65000,  60000,\n",
       "                  62000,  60000,  65000,  56000,  60000,  57000,  65000,  50000,  50000,\n",
       "                  56000,  52000]),\n",
       "     'y': array([95000, 55000, 50000, 43000, 50000, 50000, 48000, 45000, 45000, 42000,\n",
       "                 36000, 39000, 25000, 40000, 37900, 36000, 38000, 35000, 35000, 40000,\n",
       "                 39000, 42000, 43000, 42800, 35000, 30000, 31000, 30400, 27000])\n",
       " }),\n",
       " Scatter({\n",
       "     'marker': {'color': array([  36,    7,    3,   16,  289,   17,   51,   10, 1029,  631,  399,  147,\n",
       "                                  79,   22,   30,   55,  183,  425,   26,   14, 1196,   97,   22,  278,\n",
       "                                 565,  295,  156,  118,   55,   26,   39,   30,    5, 2554, 2189, 1322,\n",
       "                                 199,   73,   31, 2042,  541,  425,  142,  190,  158,   37,   45,    3,\n",
       "                                  36,   29,   67,    7,   43,   25,    4,  219, 2380,  362,  260,   38,\n",
       "                                  90,  244,  273,  158,  125,   71,   11,   28,   22,   24,   44,   10,\n",
       "                                   4,  353,   37, 4212, 2684, 1387,  179,   62,  103,  174,    9,   97,\n",
       "                                  78,  264,   92,   81,   46,   18,    8,  225, 2394, 1728, 1186,  843,\n",
       "                                 427,  681,  249,  246,   99,  214,  118,  184,  208,  180,  152,   53,\n",
       "                                 128,   32,   48,    4,  919, 1058,  342,  184,  157,  130,  123,    5,\n",
       "                                  31,   63, 1370, 1024,  590,  224,  546,  235,   88,  126,   95,   86,\n",
       "                                 156,  202,  375,  338, 1436, 1629, 1014,  569,  331,  113,  110,   59,\n",
       "                                2584,  419,  259,  204,  623,  518,  374,  255,  132,  142,   60,   89,\n",
       "                                  49,  310,  182,  117,   24,  247,   95,  342,   56,  357,  151,   47,\n",
       "                                   7,   13,   21,    2]),\n",
       "                'colorscale': [[0.0, 'rgb(0,0,255)'], [1.0, 'rgb(255,0,0)']],\n",
       "                'line': {'color': 'black', 'width': 1.2},\n",
       "                'showscale': True,\n",
       "                'size': array([13.4588172, 11.094837 , 12.7519581, 16.6562481, 24.423375 , 20.6102028,\n",
       "                               26.8878786, 33.6433161, 20.9339136, 17.9463621, 24.6304863, 14.2752   ]),\n",
       "                'sizemin': 2,\n",
       "                'sizeref': 2,\n",
       "                'symbol': 8},\n",
       "     'mode': 'markers',\n",
       "     'name': 'Health',\n",
       "     'text': array(['NURSING', 'MEDICAL TECHNOLOGIES TECHNICIANS',\n",
       "                    'MEDICAL ASSISTING SERVICES',\n",
       "                    'PHARMACY PHARMACEUTICAL SCIENCES AND ADMINISTRATION',\n",
       "                    'MISCELLANEOUS HEALTH MEDICAL PROFESSIONS', 'NUTRITION SCIENCES',\n",
       "                    'HEALTH AND MEDICAL ADMINISTRATIVE SERVICES',\n",
       "                    'COMMUNITY AND PUBLIC HEALTH',\n",
       "                    'HEALTH AND MEDICAL PREPARATORY PROGRAMS',\n",
       "                    'TREATMENT THERAPY PROFESSIONS', 'GENERAL MEDICAL AND HEALTH SERVICES',\n",
       "                    'COMMUNICATION DISORDERS SCIENCES AND SERVICES'], dtype=object),\n",
       "     'x': array([58000, 50000, 65000, 90000, 42000, 45000, 42000, 45000, 40000, 41000,\n",
       "                 45000, 40000]),\n",
       "     'y': array([39000, 36000, 30000, 20000, 23000, 26000, 27000, 21000, 23000, 24000,\n",
       "                 25000, 20000])\n",
       " }),\n",
       " Scatter({\n",
       "     'marker': {'color': array([  36,    7,    3,   16,  289,   17,   51,   10, 1029,  631,  399,  147,\n",
       "                                  79,   22,   30,   55,  183,  425,   26,   14, 1196,   97,   22,  278,\n",
       "                                 565,  295,  156,  118,   55,   26,   39,   30,    5, 2554, 2189, 1322,\n",
       "                                 199,   73,   31, 2042,  541,  425,  142,  190,  158,   37,   45,    3,\n",
       "                                  36,   29,   67,    7,   43,   25,    4,  219, 2380,  362,  260,   38,\n",
       "                                  90,  244,  273,  158,  125,   71,   11,   28,   22,   24,   44,   10,\n",
       "                                   4,  353,   37, 4212, 2684, 1387,  179,   62,  103,  174,    9,   97,\n",
       "                                  78,  264,   92,   81,   46,   18,    8,  225, 2394, 1728, 1186,  843,\n",
       "                                 427,  681,  249,  246,   99,  214,  118,  184,  208,  180,  152,   53,\n",
       "                                 128,   32,   48,    4,  919, 1058,  342,  184,  157,  130,  123,    5,\n",
       "                                  31,   63, 1370, 1024,  590,  224,  546,  235,   88,  126,   95,   86,\n",
       "                                 156,  202,  375,  338, 1436, 1629, 1014,  569,  331,  113,  110,   59,\n",
       "                                2584,  419,  259,  204,  623,  518,  374,  255,  132,  142,   60,   89,\n",
       "                                  49,  310,  182,  117,   24,  247,   95,  342,   56,  357,  151,   47,\n",
       "                                   7,   13,   21,    2]),\n",
       "                'colorscale': [[0.0, 'rgb(0,0,255)'], [1.0, 'rgb(255,0,0)']],\n",
       "                'line': {'color': 'black', 'width': 1.2},\n",
       "                'showscale': True,\n",
       "                'size': array([14.1538461, 19.0287867, 28.7000736, 22.6699158, 25.0900593, 31.330713 ,\n",
       "                               28.8155052, 26.317077 , 23.4802776, 18.0894852, 20.5752213, 18.7884891,\n",
       "                               30.8374713, 32.1347178, 24.5226621]),\n",
       "                'sizemin': 2,\n",
       "                'sizeref': 2,\n",
       "                'symbol': 9},\n",
       "     'mode': 'markers',\n",
       "     'name': 'Humanities & Liberal Arts',\n",
       "     'text': array(['UNITED STATES HISTORY', 'AREA ETHNIC AND CIVILIZATION STUDIES',\n",
       "                    'HISTORY',\n",
       "                    'FRENCH GERMAN LATIN AND OTHER COMMON FOREIGN LANGUAGE STUDIES',\n",
       "                    'INTERCULTURAL AND INTERNATIONAL STUDIES',\n",
       "                    'LINGUISTICS AND COMPARATIVE LANGUAGE AND LITERATURE',\n",
       "                    'PHILOSOPHY AND RELIGIOUS STUDIES', 'ENGLISH LANGUAGE AND LITERATURE',\n",
       "                    'LIBERAL ARTS', 'ART HISTORY AND CRITICISM', 'HUMANITIES',\n",
       "                    'THEOLOGY AND RELIGIOUS VOCATIONS', 'ANTHROPOLOGY AND ARCHEOLOGY',\n",
       "                    'OTHER FOREIGN LANGUAGES', 'COMPOSITION AND RHETORIC'], dtype=object),\n",
       "     'x': array([42000, 44000, 47000, 45000, 45000, 40000, 47100, 41000, 42000, 40000,\n",
       "                 49000, 38000, 38000, 38000, 35000]),\n",
       "     'y': array([30000, 24500, 25000, 25000, 24000, 25000, 23000, 23000, 25000, 23000,\n",
       "                 20000, 22000, 20000, 22900, 20000])\n",
       " }),\n",
       " Scatter({\n",
       "     'marker': {'color': array([  36,    7,    3,   16,  289,   17,   51,   10, 1029,  631,  399,  147,\n",
       "                                  79,   22,   30,   55,  183,  425,   26,   14, 1196,   97,   22,  278,\n",
       "                                 565,  295,  156,  118,   55,   26,   39,   30,    5, 2554, 2189, 1322,\n",
       "                                 199,   73,   31, 2042,  541,  425,  142,  190,  158,   37,   45,    3,\n",
       "                                  36,   29,   67,    7,   43,   25,    4,  219, 2380,  362,  260,   38,\n",
       "                                  90,  244,  273,  158,  125,   71,   11,   28,   22,   24,   44,   10,\n",
       "                                   4,  353,   37, 4212, 2684, 1387,  179,   62,  103,  174,    9,   97,\n",
       "                                  78,  264,   92,   81,   46,   18,    8,  225, 2394, 1728, 1186,  843,\n",
       "                                 427,  681,  249,  246,   99,  214,  118,  184,  208,  180,  152,   53,\n",
       "                                 128,   32,   48,    4,  919, 1058,  342,  184,  157,  130,  123,    5,\n",
       "                                  31,   63, 1370, 1024,  590,  224,  546,  235,   88,  126,   95,   86,\n",
       "                                 156,  202,  375,  338, 1436, 1629, 1014,  569,  331,  113,  110,   59,\n",
       "                                2584,  419,  259,  204,  623,  518,  374,  255,  132,  142,   60,   89,\n",
       "                                  49,  310,  182,  117,   24,  247,   95,  342,   56,  357,  151,   47,\n",
       "                                   7,   13,   21,    2]),\n",
       "                'colorscale': [[0.0, 'rgb(0,0,255)'], [1.0, 'rgb(255,0,0)']],\n",
       "                'line': {'color': 'black', 'width': 1.2},\n",
       "                'showscale': True,\n",
       "                'size': array([18.0069123,  0.       ,  8.8438509, 21.8173572, 15.4401819, 20.1384582,\n",
       "                               16.7030568]),\n",
       "                'sizemin': 2,\n",
       "                'sizeref': 2,\n",
       "                'symbol': 10},\n",
       "     'mode': 'markers',\n",
       "     'name': 'Industrial Arts & Consumer Services',\n",
       "     'text': array(['CONSTRUCTION SERVICES', 'MILITARY TECHNOLOGIES',\n",
       "                    'ELECTRICAL, MECHANICAL, AND PRECISION TECHNOLOGIES AND PRODUCTION',\n",
       "                    'TRANSPORTATION SCIENCES AND TECHNOLOGIES',\n",
       "                    'PHYSICAL FITNESS PARKS RECREATION AND LEISURE',\n",
       "                    'FAMILY AND CONSUMER SCIENCES',\n",
       "                    'COSMETOLOGY SERVICES AND CULINARY ARTS'], dtype=object),\n",
       "     'x': array([60000, 40000, 45000, 52000, 43000, 40000, 36000]),\n",
       "     'y': array([36000, 40000, 22500, 22000, 24000, 22900, 20000])\n",
       " }),\n",
       " Scatter({\n",
       "     'marker': {'color': array([  36,    7,    3,   16,  289,   17,   51,   10, 1029,  631,  399,  147,\n",
       "                                  79,   22,   30,   55,  183,  425,   26,   14, 1196,   97,   22,  278,\n",
       "                                 565,  295,  156,  118,   55,   26,   39,   30,    5, 2554, 2189, 1322,\n",
       "                                 199,   73,   31, 2042,  541,  425,  142,  190,  158,   37,   45,    3,\n",
       "                                  36,   29,   67,    7,   43,   25,    4,  219, 2380,  362,  260,   38,\n",
       "                                  90,  244,  273,  158,  125,   71,   11,   28,   22,   24,   44,   10,\n",
       "                                   4,  353,   37, 4212, 2684, 1387,  179,   62,  103,  174,    9,   97,\n",
       "                                  78,  264,   92,   81,   46,   18,    8,  225, 2394, 1728, 1186,  843,\n",
       "                                 427,  681,  249,  246,   99,  214,  118,  184,  208,  180,  152,   53,\n",
       "                                 128,   32,   48,    4,  919, 1058,  342,  184,  157,  130,  123,    5,\n",
       "                                  31,   63, 1370, 1024,  590,  224,  546,  235,   88,  126,   95,   86,\n",
       "                                 156,  202,  375,  338, 1436, 1629, 1014,  569,  331,  113,  110,   59,\n",
       "                                2584,  419,  259,  204,  623,  518,  374,  255,  132,  142,   60,   89,\n",
       "                                  49,  310,  182,  117,   24,  247,   95,  342,   56,  357,  151,   47,\n",
       "                                   7,   13,   21,    2]),\n",
       "                'colorscale': [[0.0, 'rgb(0,0,255)'], [1.0, 'rgb(255,0,0)']],\n",
       "                'line': {'color': 'black', 'width': 1.2},\n",
       "                'showscale': True,\n",
       "                'size': array([21.2582781]),\n",
       "                'sizemin': 2,\n",
       "                'sizeref': 2,\n",
       "                'symbol': 11},\n",
       "     'mode': 'markers',\n",
       "     'name': 'Interdisciplinary',\n",
       "     'text': array(['MULTI/INTERDISCIPLINARY STUDIES'], dtype=object),\n",
       "     'x': array([44000]),\n",
       "     'y': array([25000])\n",
       " }),\n",
       " Scatter({\n",
       "     'marker': {'color': array([  36,    7,    3,   16,  289,   17,   51,   10, 1029,  631,  399,  147,\n",
       "                                  79,   22,   30,   55,  183,  425,   26,   14, 1196,   97,   22,  278,\n",
       "                                 565,  295,  156,  118,   55,   26,   39,   30,    5, 2554, 2189, 1322,\n",
       "                                 199,   73,   31, 2042,  541,  425,  142,  190,  158,   37,   45,    3,\n",
       "                                  36,   29,   67,    7,   43,   25,    4,  219, 2380,  362,  260,   38,\n",
       "                                  90,  244,  273,  158,  125,   71,   11,   28,   22,   24,   44,   10,\n",
       "                                   4,  353,   37, 4212, 2684, 1387,  179,   62,  103,  174,    9,   97,\n",
       "                                  78,  264,   92,   81,   46,   18,    8,  225, 2394, 1728, 1186,  843,\n",
       "                                 427,  681,  249,  246,   99,  214,  118,  184,  208,  180,  152,   53,\n",
       "                                 128,   32,   48,    4,  919, 1058,  342,  184,  157,  130,  123,    5,\n",
       "                                  31,   63, 1370, 1024,  590,  224,  546,  235,   88,  126,   95,   86,\n",
       "                                 156,  202,  375,  338, 1436, 1629, 1014,  569,  331,  113,  110,   59,\n",
       "                                2584,  419,  259,  204,  623,  518,  374,  255,  132,  142,   60,   89,\n",
       "                                  49,  310,  182,  117,   24,  247,   95,  342,   56,  357,  151,   47,\n",
       "                                   7,   13,   21,    2]),\n",
       "                'colorscale': [[0.0, 'rgb(0,0,255)'], [1.0, 'rgb(255,0,0)']],\n",
       "                'line': {'color': 'black', 'width': 1.2},\n",
       "                'showscale': True,\n",
       "                'size': array([ 3.5069076, 38.5278897, 21.5895048, 47.84718  , 24.7356597]),\n",
       "                'sizemin': 2,\n",
       "                'sizeref': 2,\n",
       "                'symbol': 12},\n",
       "     'mode': 'markers',\n",
       "     'name': 'Law & Public Policy',\n",
       "     'text': array(['COURT REPORTING', 'PUBLIC POLICY', 'PRE-LAW AND LEGAL STUDIES',\n",
       "                    'PUBLIC ADMINISTRATION', 'CRIMINAL JUSTICE AND FIRE PROTECTION'],\n",
       "                   dtype=object),\n",
       "     'x': array([54000, 70000, 46000, 60000, 45000]),\n",
       "     'y': array([50000, 35000, 29200, 23000, 26000])\n",
       " }),\n",
       " Scatter({\n",
       "     'marker': {'color': array([  36,    7,    3,   16,  289,   17,   51,   10, 1029,  631,  399,  147,\n",
       "                                  79,   22,   30,   55,  183,  425,   26,   14, 1196,   97,   22,  278,\n",
       "                                 565,  295,  156,  118,   55,   26,   39,   30,    5, 2554, 2189, 1322,\n",
       "                                 199,   73,   31, 2042,  541,  425,  142,  190,  158,   37,   45,    3,\n",
       "                                  36,   29,   67,    7,   43,   25,    4,  219, 2380,  362,  260,   38,\n",
       "                                  90,  244,  273,  158,  125,   71,   11,   28,   22,   24,   44,   10,\n",
       "                                   4,  353,   37, 4212, 2684, 1387,  179,   62,  103,  174,    9,   97,\n",
       "                                  78,  264,   92,   81,   46,   18,    8,  225, 2394, 1728, 1186,  843,\n",
       "                                 427,  681,  249,  246,   99,  214,  118,  184,  208,  180,  152,   53,\n",
       "                                 128,   32,   48,    4,  919, 1058,  342,  184,  157,  130,  123,    5,\n",
       "                                  31,   63, 1370, 1024,  590,  224,  546,  235,   88,  126,   95,   86,\n",
       "                                 156,  202,  375,  338, 1436, 1629, 1014,  569,  331,  113,  110,   59,\n",
       "                                2584,  419,  259,  204,  623,  518,  374,  255,  132,  142,   60,   89,\n",
       "                                  49,  310,  182,  117,   24,  247,   95,  342,   56,  357,  151,   47,\n",
       "                                   7,   13,   21,    2]),\n",
       "                'colorscale': [[0.0, 'rgb(0,0,255)'], [1.0, 'rgb(255,0,0)']],\n",
       "                'line': {'color': 'black', 'width': 1.2},\n",
       "                'showscale': True,\n",
       "                'size': array([ 6.3502245, 21.462141 , 14.4673488, 17.0984457, 10.6060605, 16.19172  ,\n",
       "                               22.6345704,  7.3121193, 16.7420445,  6.6685665]),\n",
       "                'sizemin': 2,\n",
       "                'sizeref': 2,\n",
       "                'symbol': 13},\n",
       "     'mode': 'markers',\n",
       "     'name': 'Physical Sciences',\n",
       "     'text': array(['ASTRONOMY AND ASTROPHYSICS',\n",
       "                    'NUCLEAR, INDUSTRIAL RADIOLOGY, AND BIOLOGICAL TECHNOLOGIES', 'PHYSICS',\n",
       "                    'OCEANOGRAPHY', 'PHYSICAL SCIENCES', 'CHEMISTRY',\n",
       "                    'GEOLOGY AND EARTH SCIENCE', 'GEOSCIENCES',\n",
       "                    'MULTI-DISCIPLINARY OR GENERAL SCIENCE',\n",
       "                    'ATMOSPHERIC SCIENCES AND METEOROLOGY'], dtype=object),\n",
       "     'x': array([109000,  53000,  68000,  50000,  55000,  49900,  47000,  41000,  50000,\n",
       "                  50000]),\n",
       "     'y': array([31500, 38000, 30000, 23000, 30000, 30000, 28000, 21000, 24000, 28000])\n",
       " }),\n",
       " Scatter({\n",
       "     'marker': {'color': array([  36,    7,    3,   16,  289,   17,   51,   10, 1029,  631,  399,  147,\n",
       "                                  79,   22,   30,   55,  183,  425,   26,   14, 1196,   97,   22,  278,\n",
       "                                 565,  295,  156,  118,   55,   26,   39,   30,    5, 2554, 2189, 1322,\n",
       "                                 199,   73,   31, 2042,  541,  425,  142,  190,  158,   37,   45,    3,\n",
       "                                  36,   29,   67,    7,   43,   25,    4,  219, 2380,  362,  260,   38,\n",
       "                                  90,  244,  273,  158,  125,   71,   11,   28,   22,   24,   44,   10,\n",
       "                                   4,  353,   37, 4212, 2684, 1387,  179,   62,  103,  174,    9,   97,\n",
       "                                  78,  264,   92,   81,   46,   18,    8,  225, 2394, 1728, 1186,  843,\n",
       "                                 427,  681,  249,  246,   99,  214,  118,  184,  208,  180,  152,   53,\n",
       "                                 128,   32,   48,    4,  919, 1058,  342,  184,  157,  130,  123,    5,\n",
       "                                  31,   63, 1370, 1024,  590,  224,  546,  235,   88,  126,   95,   86,\n",
       "                                 156,  202,  375,  338, 1436, 1629, 1014,  569,  331,  113,  110,   59,\n",
       "                                2584,  419,  259,  204,  623,  518,  374,  255,  132,  142,   60,   89,\n",
       "                                  49,  310,  182,  117,   24,  247,   95,  342,   56,  357,  151,   47,\n",
       "                                   7,   13,   21,    2]),\n",
       "                'colorscale': [[0.0, 'rgb(0,0,255)'], [1.0, 'rgb(255,0,0)']],\n",
       "                'line': {'color': 'black', 'width': 1.2},\n",
       "                'showscale': True,\n",
       "                'size': array([32.6359833,  8.8948788, 25.1432601, 20.648376 , 15.572349 , 11.3457078,\n",
       "                               19.5336561, 44.7144594, 16.0861938]),\n",
       "                'sizemin': 2,\n",
       "                'sizeref': 2,\n",
       "                'symbol': 14},\n",
       "     'mode': 'markers',\n",
       "     'name': 'Psychology & Social Work',\n",
       "     'text': array(['INDUSTRIAL AND ORGANIZATIONAL PSYCHOLOGY', 'SOCIAL PSYCHOLOGY',\n",
       "                    'PSYCHOLOGY', 'SOCIAL WORK', 'MISCELLANEOUS PSYCHOLOGY',\n",
       "                    'HUMAN SERVICES AND COMMUNITY ORGANIZATION', 'EDUCATIONAL PSYCHOLOGY',\n",
       "                    'CLINICAL PSYCHOLOGY', 'COUNSELING PSYCHOLOGY'], dtype=object),\n",
       "     'x': array([53000, 45000, 41000, 35000, 40000, 35000, 34000, 40000, 26000]),\n",
       "     'y': array([32000, 34000, 24000, 25000, 20800, 24000, 24000, 25000, 19200])\n",
       " }),\n",
       " Scatter({\n",
       "     'marker': {'color': array([  36,    7,    3,   16,  289,   17,   51,   10, 1029,  631,  399,  147,\n",
       "                                  79,   22,   30,   55,  183,  425,   26,   14, 1196,   97,   22,  278,\n",
       "                                 565,  295,  156,  118,   55,   26,   39,   30,    5, 2554, 2189, 1322,\n",
       "                                 199,   73,   31, 2042,  541,  425,  142,  190,  158,   37,   45,    3,\n",
       "                                  36,   29,   67,    7,   43,   25,    4,  219, 2380,  362,  260,   38,\n",
       "                                  90,  244,  273,  158,  125,   71,   11,   28,   22,   24,   44,   10,\n",
       "                                   4,  353,   37, 4212, 2684, 1387,  179,   62,  103,  174,    9,   97,\n",
       "                                  78,  264,   92,   81,   46,   18,    8,  225, 2394, 1728, 1186,  843,\n",
       "                                 427,  681,  249,  246,   99,  214,  118,  184,  208,  180,  152,   53,\n",
       "                                 128,   32,   48,    4,  919, 1058,  342,  184,  157,  130,  123,    5,\n",
       "                                  31,   63, 1370, 1024,  590,  224,  546,  235,   88,  126,   95,   86,\n",
       "                                 156,  202,  375,  338, 1436, 1629, 1014,  569,  331,  113,  110,   59,\n",
       "                                2584,  419,  259,  204,  623,  518,  374,  255,  132,  142,   60,   89,\n",
       "                                  49,  310,  182,  117,   24,  247,   95,  342,   56,  357,  151,   47,\n",
       "                                   7,   13,   21,    2]),\n",
       "                'colorscale': [[0.0, 'rgb(0,0,255)'], [1.0, 'rgb(255,0,0)']],\n",
       "                'line': {'color': 'black', 'width': 1.2},\n",
       "                'showscale': True,\n",
       "                'size': array([29.7276951, 29.0396829, 21.9238614, 30.3523803, 34.0375884, 29.1731757,\n",
       "                               25.4853003, 27.6917448, 31.0364145]),\n",
       "                'sizemin': 2,\n",
       "                'sizeref': 2,\n",
       "                'symbol': 15},\n",
       "     'mode': 'markers',\n",
       "     'name': 'Social Science',\n",
       "     'text': array(['ECONOMICS', 'INTERNATIONAL RELATIONS', 'MISCELLANEOUS SOCIAL SCIENCES',\n",
       "                    'POLITICAL SCIENCE AND GOVERNMENT', 'GEOGRAPHY', 'CRIMINOLOGY',\n",
       "                    'SOCIOLOGY', 'INTERDISCIPLINARY SOCIAL SCIENCES',\n",
       "                    'GENERAL SOCIAL SCIENCES'], dtype=object),\n",
       "     'x': array([65000, 53000, 54000, 50000, 50000, 45000, 44000, 40000, 50000]),\n",
       "     'y': array([35000, 31200, 30000, 28000, 30000, 25000, 25000, 24000, 27000])\n",
       " })]"
      ]
     },
     "execution_count": 37,
     "metadata": {},
     "output_type": "execute_result"
    },
    {
     "data": {
      "application/vnd.plotly.v1+json": {
       "config": {
        "linkText": "Export to plot.ly",
        "plotlyServerURL": "https://plot.ly",
        "showLink": false
       },
       "data": [
        {
         "marker": {
          "color": [
           36,
           7,
           3,
           16,
           289,
           17,
           51,
           10,
           1029,
           631,
           399,
           147,
           79,
           22,
           30,
           55,
           183,
           425,
           26,
           14,
           1196,
           97,
           22,
           278,
           565,
           295,
           156,
           118,
           55,
           26,
           39,
           30,
           5,
           2554,
           2189,
           1322,
           199,
           73,
           31,
           2042,
           541,
           425,
           142,
           190,
           158,
           37,
           45,
           3,
           36,
           29,
           67,
           7,
           43,
           25,
           4,
           219,
           2380,
           362,
           260,
           38,
           90,
           244,
           273,
           158,
           125,
           71,
           11,
           28,
           22,
           24,
           44,
           10,
           4,
           353,
           37,
           4212,
           2684,
           1387,
           179,
           62,
           103,
           174,
           9,
           97,
           78,
           264,
           92,
           81,
           46,
           18,
           8,
           225,
           2394,
           1728,
           1186,
           843,
           427,
           681,
           249,
           246,
           99,
           214,
           118,
           184,
           208,
           180,
           152,
           53,
           128,
           32,
           48,
           4,
           919,
           1058,
           342,
           184,
           157,
           130,
           123,
           5,
           31,
           63,
           1370,
           1024,
           590,
           224,
           546,
           235,
           88,
           126,
           95,
           86,
           156,
           202,
           375,
           338,
           1436,
           1629,
           1014,
           569,
           331,
           113,
           110,
           59,
           2584,
           419,
           259,
           204,
           623,
           518,
           374,
           255,
           132,
           142,
           60,
           89,
           49,
           310,
           182,
           117,
           24,
           247,
           95,
           342,
           56,
           357,
           151,
           47,
           7,
           13,
           21,
           2
          ],
          "colorscale": [
           [
            0,
            "rgb(0,0,255)"
           ],
           [
            1,
            "rgb(255,0,0)"
           ]
          ],
          "line": {
           "color": "black",
           "width": 1.2
          },
          "showscale": true,
          "size": [
           15.0092508,
           5.8927388999999994,
           23.1748728,
           19.985758500000003,
           29.017722900000003,
           0,
           13.6363635,
           15.2587497,
           17.9300292
          ],
          "sizemin": 2,
          "sizeref": 2,
          "symbol": 0
         },
         "mode": "markers",
         "name": "Agriculture & Natural Resources",
         "text": [
          "AGRICULTURE PRODUCTION AND MANAGEMENT",
          "GENERAL AGRICULTURE",
          "AGRICULTURAL ECONOMICS",
          "NATURAL RESOURCES MANAGEMENT",
          "FORESTRY",
          "SOIL SCIENCE",
          "PLANT SCIENCE AND AGRONOMY",
          "ANIMAL SCIENCES",
          "MISCELLANEOUS AGRICULTURE"
         ],
         "type": "scatter",
         "x": [
          50000,
          50000,
          54000,
          42000,
          48000,
          44000,
          40000,
          40000,
          42100
         ],
         "y": [
          25000,
          30000,
          27000,
          25000,
          28600,
          18500,
          22900,
          22000,
          23000
         ]
        },
        {
         "marker": {
          "color": [
           36,
           7,
           3,
           16,
           289,
           17,
           51,
           10,
           1029,
           631,
           399,
           147,
           79,
           22,
           30,
           55,
           183,
           425,
           26,
           14,
           1196,
           97,
           22,
           278,
           565,
           295,
           156,
           118,
           55,
           26,
           39,
           30,
           5,
           2554,
           2189,
           1322,
           199,
           73,
           31,
           2042,
           541,
           425,
           142,
           190,
           158,
           37,
           45,
           3,
           36,
           29,
           67,
           7,
           43,
           25,
           4,
           219,
           2380,
           362,
           260,
           38,
           90,
           244,
           273,
           158,
           125,
           71,
           11,
           28,
           22,
           24,
           44,
           10,
           4,
           353,
           37,
           4212,
           2684,
           1387,
           179,
           62,
           103,
           174,
           9,
           97,
           78,
           264,
           92,
           81,
           46,
           18,
           8,
           225,
           2394,
           1728,
           1186,
           843,
           427,
           681,
           249,
           246,
           99,
           214,
           118,
           184,
           208,
           180,
           152,
           53,
           128,
           32,
           48,
           4,
           919,
           1058,
           342,
           184,
           157,
           130,
           123,
           5,
           31,
           63,
           1370,
           1024,
           590,
           224,
           546,
           235,
           88,
           126,
           95,
           86,
           156,
           202,
           375,
           338,
           1436,
           1629,
           1014,
           569,
           331,
           113,
           110,
           59,
           2584,
           419,
           259,
           204,
           623,
           518,
           374,
           255,
           132,
           142,
           60,
           89,
           49,
           310,
           182,
           117,
           24,
           247,
           95,
           342,
           56,
           357,
           151,
           47,
           7,
           13,
           21,
           2
          ],
          "colorscale": [
           [
            0,
            "rgb(0,0,255)"
           ],
           [
            1,
            "rgb(255,0,0)"
           ]
          ],
          "line": {
           "color": "black",
           "width": 1.2
          },
          "showscale": true,
          "size": [
           26.8125,
           29.0392731,
           31.731672,
           22.7879022,
           25.255888799999997,
           30.6592257,
           26.8656717,
           23.262339
          ],
          "sizemin": 2,
          "sizeref": 2,
          "symbol": 1
         },
         "mode": "markers",
         "name": "Arts",
         "text": [
          "MISCELLANEOUS FINE ARTS",
          "COMMERCIAL ART AND GRAPHIC DESIGN",
          "FILM VIDEO AND PHOTOGRAPHIC ARTS",
          "MUSIC",
          "FINE ARTS",
          "VISUAL AND PERFORMING ARTS",
          "STUDIO ARTS",
          "DRAMA AND THEATER ARTS"
         ],
         "type": "scatter",
         "x": [
          66000,
          45000,
          42000,
          42000,
          41000,
          40000,
          38300,
          35000
         ],
         "y": [
          25000,
          25000,
          22000,
          22300,
          21000,
          22000,
          19200,
          19200
         ]
        },
        {
         "marker": {
          "color": [
           36,
           7,
           3,
           16,
           289,
           17,
           51,
           10,
           1029,
           631,
           399,
           147,
           79,
           22,
           30,
           55,
           183,
           425,
           26,
           14,
           1196,
           97,
           22,
           278,
           565,
           295,
           156,
           118,
           55,
           26,
           39,
           30,
           5,
           2554,
           2189,
           1322,
           199,
           73,
           31,
           2042,
           541,
           425,
           142,
           190,
           158,
           37,
           45,
           3,
           36,
           29,
           67,
           7,
           43,
           25,
           4,
           219,
           2380,
           362,
           260,
           38,
           90,
           244,
           273,
           158,
           125,
           71,
           11,
           28,
           22,
           24,
           44,
           10,
           4,
           353,
           37,
           4212,
           2684,
           1387,
           179,
           62,
           103,
           174,
           9,
           97,
           78,
           264,
           92,
           81,
           46,
           18,
           8,
           225,
           2394,
           1728,
           1186,
           843,
           427,
           681,
           249,
           246,
           99,
           214,
           118,
           184,
           208,
           180,
           152,
           53,
           128,
           32,
           48,
           4,
           919,
           1058,
           342,
           184,
           157,
           130,
           123,
           5,
           31,
           63,
           1370,
           1024,
           590,
           224,
           546,
           235,
           88,
           126,
           95,
           86,
           156,
           202,
           375,
           338,
           1436,
           1629,
           1014,
           569,
           331,
           113,
           110,
           59,
           2584,
           419,
           259,
           204,
           623,
           518,
           374,
           255,
           132,
           142,
           60,
           89,
           49,
           310,
           182,
           117,
           24,
           247,
           95,
           342,
           56,
           357,
           151,
           47,
           7,
           13,
           21,
           2
          ],
          "colorscale": [
           [
            0,
            "rgb(0,0,255)"
           ],
           [
            1,
            "rgb(255,0,0)"
           ]
          ],
          "line": {
           "color": "black",
           "width": 1.2
          },
          "showscale": true,
          "size": [
           25.6594725,
           22.5708501,
           25.308349200000002,
           10.2352941,
           20.0327616,
           24.159415499999998,
           0,
           23.575404300000002,
           20.748839999999998,
           14.5445025,
           17.5636365,
           21.2174196,
           16.3425579,
           13.896084
          ],
          "sizemin": 2,
          "sizeref": 2,
          "symbol": 2
         },
         "mode": "markers",
         "name": "Biology & Life Science",
         "text": [
          "PHARMACOLOGY",
          "COGNITIVE SCIENCE AND BIOPSYCHOLOGY",
          "MOLECULAR BIOLOGY",
          "GENETICS",
          "MICROBIOLOGY",
          "BIOCHEMICAL SCIENCES",
          "BOTANY",
          "ENVIRONMENTAL SCIENCE",
          "PHYSIOLOGY",
          "NEUROSCIENCE",
          "MISCELLANEOUS BIOLOGY",
          "BIOLOGY",
          "ECOLOGY",
          "ZOOLOGY"
         ],
         "type": "scatter",
         "x": [
          45000,
          60000,
          47000,
          45000,
          50000,
          50000,
          40000,
          40200,
          50000,
          44000,
          48000,
          45000,
          42000,
          39000
         ],
         "y": [
          40000,
          20000,
          29000,
          34000,
          29600,
          29000,
          26000,
          25000,
          20000,
          30000,
          23000,
          24000,
          23000,
          20000
         ]
        },
        {
         "marker": {
          "color": [
           36,
           7,
           3,
           16,
           289,
           17,
           51,
           10,
           1029,
           631,
           399,
           147,
           79,
           22,
           30,
           55,
           183,
           425,
           26,
           14,
           1196,
           97,
           22,
           278,
           565,
           295,
           156,
           118,
           55,
           26,
           39,
           30,
           5,
           2554,
           2189,
           1322,
           199,
           73,
           31,
           2042,
           541,
           425,
           142,
           190,
           158,
           37,
           45,
           3,
           36,
           29,
           67,
           7,
           43,
           25,
           4,
           219,
           2380,
           362,
           260,
           38,
           90,
           244,
           273,
           158,
           125,
           71,
           11,
           28,
           22,
           24,
           44,
           10,
           4,
           353,
           37,
           4212,
           2684,
           1387,
           179,
           62,
           103,
           174,
           9,
           97,
           78,
           264,
           92,
           81,
           46,
           18,
           8,
           225,
           2394,
           1728,
           1186,
           843,
           427,
           681,
           249,
           246,
           99,
           214,
           118,
           184,
           208,
           180,
           152,
           53,
           128,
           32,
           48,
           4,
           919,
           1058,
           342,
           184,
           157,
           130,
           123,
           5,
           31,
           63,
           1370,
           1024,
           590,
           224,
           546,
           235,
           88,
           126,
           95,
           86,
           156,
           202,
           375,
           338,
           1436,
           1629,
           1014,
           569,
           331,
           113,
           110,
           59,
           2584,
           419,
           259,
           204,
           623,
           518,
           374,
           255,
           132,
           142,
           60,
           89,
           49,
           310,
           182,
           117,
           24,
           247,
           95,
           342,
           56,
           357,
           151,
           47,
           7,
           13,
           21,
           2
          ],
          "colorscale": [
           [
            0,
            "rgb(0,0,255)"
           ],
           [
            1,
            "rgb(255,0,0)"
           ]
          ],
          "line": {
           "color": "black",
           "width": 1.2
          },
          "showscale": true,
          "size": [
           28.6956522,
           17.4718842,
           14.357610900000001,
           18.205906799999998,
           28.9345143,
           20.9247042,
           21.8584404,
           28.8525192,
           21.5948922,
           21.6655023,
           18.3645192,
           17.8708947,
           18.350757899999998
          ],
          "sizemin": 2,
          "sizeref": 2,
          "symbol": 3
         },
         "mode": "markers",
         "name": "Business",
         "text": [
          "ACTUARIAL SCIENCE",
          "MANAGEMENT INFORMATION SYSTEMS AND STATISTICS",
          "OPERATIONS LOGISTICS AND E-COMMERCE",
          "FINANCE",
          "BUSINESS ECONOMICS",
          "ACCOUNTING",
          "GENERAL BUSINESS",
          "INTERNATIONAL BUSINESS",
          "MISCELLANEOUS BUSINESS & MEDICAL ADMINISTRATION",
          "BUSINESS MANAGEMENT AND ADMINISTRATION",
          "MARKETING AND MARKETING RESEARCH",
          "HUMAN RESOURCES AND PERSONNEL MANAGEMENT",
          "HOSPITALITY MANAGEMENT"
         ],
         "type": "scatter",
         "x": [
          72000,
          60000,
          60000,
          64000,
          58000,
          56000,
          55000,
          50000,
          51000,
          50000,
          50000,
          45000,
          42000
         ],
         "y": [
          53000,
          38000,
          40000,
          35000,
          33000,
          34000,
          30000,
          30000,
          30000,
          29000,
          30000,
          28000,
          25000
         ]
        },
        {
         "marker": {
          "color": [
           36,
           7,
           3,
           16,
           289,
           17,
           51,
           10,
           1029,
           631,
           399,
           147,
           79,
           22,
           30,
           55,
           183,
           425,
           26,
           14,
           1196,
           97,
           22,
           278,
           565,
           295,
           156,
           118,
           55,
           26,
           39,
           30,
           5,
           2554,
           2189,
           1322,
           199,
           73,
           31,
           2042,
           541,
           425,
           142,
           190,
           158,
           37,
           45,
           3,
           36,
           29,
           67,
           7,
           43,
           25,
           4,
           219,
           2380,
           362,
           260,
           38,
           90,
           244,
           273,
           158,
           125,
           71,
           11,
           28,
           22,
           24,
           44,
           10,
           4,
           353,
           37,
           4212,
           2684,
           1387,
           179,
           62,
           103,
           174,
           9,
           97,
           78,
           264,
           92,
           81,
           46,
           18,
           8,
           225,
           2394,
           1728,
           1186,
           843,
           427,
           681,
           249,
           246,
           99,
           214,
           118,
           184,
           208,
           180,
           152,
           53,
           128,
           32,
           48,
           4,
           919,
           1058,
           342,
           184,
           157,
           130,
           123,
           5,
           31,
           63,
           1370,
           1024,
           590,
           224,
           546,
           235,
           88,
           126,
           95,
           86,
           156,
           202,
           375,
           338,
           1436,
           1629,
           1014,
           569,
           331,
           113,
           110,
           59,
           2584,
           419,
           259,
           204,
           623,
           518,
           374,
           255,
           132,
           142,
           60,
           89,
           49,
           310,
           182,
           117,
           24,
           247,
           95,
           342,
           56,
           357,
           151,
           47,
           7,
           13,
           21,
           2
          ],
          "colorscale": [
           [
            0,
            "rgb(0,0,255)"
           ],
           [
            1,
            "rgb(255,0,0)"
           ]
          ],
          "line": {
           "color": "black",
           "width": 1.2
          },
          "showscale": true,
          "size": [
           22.5530928,
           20.7529326,
           20.3882298,
           26.951048099999998
          ],
          "sizemin": 2,
          "sizeref": 2,
          "symbol": 4
         },
         "mode": "markers",
         "name": "Communications & Journalism",
         "text": [
          "COMMUNICATIONS",
          "JOURNALISM",
          "ADVERTISING AND PUBLIC RELATIONS",
          "MASS MEDIA"
         ],
         "type": "scatter",
         "x": [
          45000,
          42900,
          47000,
          45000
         ],
         "y": [
          27000,
          26000,
          27000,
          25000
         ]
        },
        {
         "marker": {
          "color": [
           36,
           7,
           3,
           16,
           289,
           17,
           51,
           10,
           1029,
           631,
           399,
           147,
           79,
           22,
           30,
           55,
           183,
           425,
           26,
           14,
           1196,
           97,
           22,
           278,
           565,
           295,
           156,
           118,
           55,
           26,
           39,
           30,
           5,
           2554,
           2189,
           1322,
           199,
           73,
           31,
           2042,
           541,
           425,
           142,
           190,
           158,
           37,
           45,
           3,
           36,
           29,
           67,
           7,
           43,
           25,
           4,
           219,
           2380,
           362,
           260,
           38,
           90,
           244,
           273,
           158,
           125,
           71,
           11,
           28,
           22,
           24,
           44,
           10,
           4,
           353,
           37,
           4212,
           2684,
           1387,
           179,
           62,
           103,
           174,
           9,
           97,
           78,
           264,
           92,
           81,
           46,
           18,
           8,
           225,
           2394,
           1728,
           1186,
           843,
           427,
           681,
           249,
           246,
           99,
           214,
           118,
           184,
           208,
           180,
           152,
           53,
           128,
           32,
           48,
           4,
           919,
           1058,
           342,
           184,
           157,
           130,
           123,
           5,
           31,
           63,
           1370,
           1024,
           590,
           224,
           546,
           235,
           88,
           126,
           95,
           86,
           156,
           202,
           375,
           338,
           1436,
           1629,
           1014,
           569,
           331,
           113,
           110,
           59,
           2584,
           419,
           259,
           204,
           623,
           518,
           374,
           255,
           132,
           142,
           60,
           89,
           49,
           310,
           182,
           117,
           24,
           247,
           95,
           342,
           56,
           357,
           151,
           47,
           7,
           13,
           21,
           2
          ],
          "colorscale": [
           [
            0,
            "rgb(0,0,255)"
           ],
           [
            1,
            "rgb(255,0,0)"
           ]
          ],
          "line": {
           "color": "black",
           "width": 1.2
          },
          "showscale": true,
          "size": [
           18.951831300000002,
           14.1831414,
           28.0380978,
           18.2224335,
           25.8820998,
           27.246992100000003,
           0,
           34.194777,
           29.917012500000002,
           45.5549421,
           35.8534407
          ],
          "sizemin": 2,
          "sizeref": 2,
          "symbol": 5
         },
         "mode": "markers",
         "name": "Computers & Mathematics",
         "text": [
          "COMPUTER SCIENCE",
          "MATHEMATICS",
          "COMPUTER AND INFORMATION SYSTEMS",
          "INFORMATION SCIENCES",
          "STATISTICS AND DECISION SCIENCE",
          "APPLIED MATHEMATICS",
          "MATHEMATICS AND COMPUTER SCIENCE",
          "COMPUTER PROGRAMMING AND DATA PROCESSING",
          "COMPUTER ADMINISTRATION MANAGEMENT AND SECURITY",
          "COMPUTER NETWORKING AND TELECOMMUNICATIONS",
          "COMMUNICATION TECHNOLOGIES"
         ],
         "type": "scatter",
         "x": [
          70000,
          60000,
          60000,
          58000,
          60000,
          63000,
          78000,
          46000,
          50000,
          49000,
          45000
         ],
         "y": [
          39000,
          33000,
          30000,
          32500,
          26700,
          34000,
          30000,
          20000,
          25000,
          27000,
          25000
         ]
        },
        {
         "marker": {
          "color": [
           36,
           7,
           3,
           16,
           289,
           17,
           51,
           10,
           1029,
           631,
           399,
           147,
           79,
           22,
           30,
           55,
           183,
           425,
           26,
           14,
           1196,
           97,
           22,
           278,
           565,
           295,
           156,
           118,
           55,
           26,
           39,
           30,
           5,
           2554,
           2189,
           1322,
           199,
           73,
           31,
           2042,
           541,
           425,
           142,
           190,
           158,
           37,
           45,
           3,
           36,
           29,
           67,
           7,
           43,
           25,
           4,
           219,
           2380,
           362,
           260,
           38,
           90,
           244,
           273,
           158,
           125,
           71,
           11,
           28,
           22,
           24,
           44,
           10,
           4,
           353,
           37,
           4212,
           2684,
           1387,
           179,
           62,
           103,
           174,
           9,
           97,
           78,
           264,
           92,
           81,
           46,
           18,
           8,
           225,
           2394,
           1728,
           1186,
           843,
           427,
           681,
           249,
           246,
           99,
           214,
           118,
           184,
           208,
           180,
           152,
           53,
           128,
           32,
           48,
           4,
           919,
           1058,
           342,
           184,
           157,
           130,
           123,
           5,
           31,
           63,
           1370,
           1024,
           590,
           224,
           546,
           235,
           88,
           126,
           95,
           86,
           156,
           202,
           375,
           338,
           1436,
           1629,
           1014,
           569,
           331,
           113,
           110,
           59,
           2584,
           419,
           259,
           204,
           623,
           518,
           374,
           255,
           132,
           142,
           60,
           89,
           49,
           310,
           182,
           117,
           24,
           247,
           95,
           342,
           56,
           357,
           151,
           47,
           7,
           13,
           21,
           2
          ],
          "colorscale": [
           [
            0,
            "rgb(0,0,255)"
           ],
           [
            1,
            "rgb(255,0,0)"
           ]
          ],
          "line": {
           "color": "black",
           "width": 1.2
          },
          "showscale": true,
          "size": [
           32.2738386,
           12.4523457,
           17.207978699999998,
           16.2248823,
           4.8608505,
           0,
           15.091930499999998,
           17.7635853,
           15.668694,
           11.5913241,
           13.9757145,
           14.1791046,
           22.4002488,
           10.963749,
           12.031494299999999,
           31.483715399999998
          ],
          "sizemin": 2,
          "sizeref": 2,
          "symbol": 6
         },
         "mode": "markers",
         "name": "Education",
         "text": [
          "SCHOOL STUDENT COUNSELING",
          "SPECIAL NEEDS EDUCATION",
          "GENERAL EDUCATION",
          "SOCIAL SCIENCE OR HISTORY TEACHER EDUCATION",
          "MATHEMATICS TEACHER EDUCATION",
          "EDUCATIONAL ADMINISTRATION AND SUPERVISION",
          "LANGUAGE AND DRAMA EDUCATION",
          "MISCELLANEOUS EDUCATION",
          "SECONDARY TEACHER EDUCATION",
          "ART AND MUSIC EDUCATION",
          "ELEMENTARY EDUCATION",
          "SCIENCE AND COMPUTER TEACHER EDUCATION",
          "PHYSICAL AND HEALTH EDUCATION TEACHING",
          "TEACHER EDUCATION: MULTIPLE LEVELS",
          "EARLY CHILDHOOD EDUCATION",
          "LIBRARY SCIENCE"
         ],
         "type": "scatter",
         "x": [
          43000,
          42000,
          41000,
          42000,
          40000,
          35000,
          40000,
          45000,
          38000,
          40000,
          38000,
          39000,
          40000,
          37000,
          35000,
          22000
         ],
         "y": [
          41000,
          32000,
          26000,
          23050,
          30000,
          29000,
          24000,
          30000,
          25000,
          25000,
          23400,
          28000,
          24000,
          24000,
          21000,
          20000
         ]
        },
        {
         "marker": {
          "color": [
           36,
           7,
           3,
           16,
           289,
           17,
           51,
           10,
           1029,
           631,
           399,
           147,
           79,
           22,
           30,
           55,
           183,
           425,
           26,
           14,
           1196,
           97,
           22,
           278,
           565,
           295,
           156,
           118,
           55,
           26,
           39,
           30,
           5,
           2554,
           2189,
           1322,
           199,
           73,
           31,
           2042,
           541,
           425,
           142,
           190,
           158,
           37,
           45,
           3,
           36,
           29,
           67,
           7,
           43,
           25,
           4,
           219,
           2380,
           362,
           260,
           38,
           90,
           244,
           273,
           158,
           125,
           71,
           11,
           28,
           22,
           24,
           44,
           10,
           4,
           353,
           37,
           4212,
           2684,
           1387,
           179,
           62,
           103,
           174,
           9,
           97,
           78,
           264,
           92,
           81,
           46,
           18,
           8,
           225,
           2394,
           1728,
           1186,
           843,
           427,
           681,
           249,
           246,
           99,
           214,
           118,
           184,
           208,
           180,
           152,
           53,
           128,
           32,
           48,
           4,
           919,
           1058,
           342,
           184,
           157,
           130,
           123,
           5,
           31,
           63,
           1370,
           1024,
           590,
           224,
           546,
           235,
           88,
           126,
           95,
           86,
           156,
           202,
           375,
           338,
           1436,
           1629,
           1014,
           569,
           331,
           113,
           110,
           59,
           2584,
           419,
           259,
           204,
           623,
           518,
           374,
           255,
           132,
           142,
           60,
           89,
           49,
           310,
           182,
           117,
           24,
           247,
           95,
           342,
           56,
           357,
           151,
           47,
           7,
           13,
           21,
           2
          ],
          "colorscale": [
           [
            0,
            "rgb(0,0,255)"
           ],
           [
            1,
            "rgb(255,0,0)"
           ]
          ],
          "line": {
           "color": "black",
           "width": 1.2
          },
          "showscale": true,
          "size": [
           5.5141581,
           35.1724137,
           7.2289158,
           15.0375939,
           18.3293136,
           53.1679221,
           17.2026834,
           17.752153500000002,
           19.6227825,
           19.5486255,
           27.625158000000003,
           6.9128508,
           1.9003029,
           26.1429207,
           12.8626632,
           17.9472693,
           18.5792349,
           26.2671342,
           8.3366415,
           21.1828722,
           22.3177569,
           28.076572499999997,
           16.5091155,
           22.5114855,
           8.4924291,
           10.095498,
           33.9995847,
           15.761555999999999,
           16.9071234
          ],
          "sizemin": 2,
          "sizeref": 2,
          "symbol": 7
         },
         "mode": "markers",
         "name": "Engineering",
         "text": [
          "PETROLEUM ENGINEERING",
          "MINING AND MINERAL ENGINEERING",
          "METALLURGICAL ENGINEERING",
          "NAVAL ARCHITECTURE AND MARINE ENGINEERING",
          "CHEMICAL ENGINEERING",
          "NUCLEAR ENGINEERING",
          "MECHANICAL ENGINEERING",
          "ELECTRICAL ENGINEERING",
          "COMPUTER ENGINEERING",
          "AEROSPACE ENGINEERING",
          "BIOMEDICAL ENGINEERING",
          "MATERIALS SCIENCE",
          "ENGINEERING MECHANICS PHYSICS AND SCIENCE",
          "BIOLOGICAL ENGINEERING",
          "INDUSTRIAL AND MANUFACTURING ENGINEERING",
          "GENERAL ENGINEERING",
          "ARCHITECTURAL ENGINEERING",
          "ELECTRICAL ENGINEERING TECHNOLOGY",
          "MATERIALS ENGINEERING AND MATERIALS SCIENCE",
          "CIVIL ENGINEERING",
          "MISCELLANEOUS ENGINEERING",
          "ENVIRONMENTAL ENGINEERING",
          "ENGINEERING TECHNOLOGIES",
          "GEOLOGICAL AND GEOPHYSICAL ENGINEERING",
          "INDUSTRIAL PRODUCTION TECHNOLOGIES",
          "ENGINEERING AND INDUSTRIAL MANAGEMENT",
          "ARCHITECTURE",
          "MISCELLANEOUS ENGINEERING TECHNOLOGIES",
          "MECHANICAL ENGINEERING RELATED TECHNOLOGIES"
         ],
         "type": "scatter",
         "x": [
          125000,
          90000,
          105000,
          80000,
          75000,
          102000,
          70000,
          72000,
          75000,
          70000,
          70000,
          65000,
          74000,
          76000,
          67000,
          69000,
          65000,
          60000,
          62000,
          60000,
          65000,
          56000,
          60000,
          57000,
          65000,
          50000,
          50000,
          56000,
          52000
         ],
         "y": [
          95000,
          55000,
          50000,
          43000,
          50000,
          50000,
          48000,
          45000,
          45000,
          42000,
          36000,
          39000,
          25000,
          40000,
          37900,
          36000,
          38000,
          35000,
          35000,
          40000,
          39000,
          42000,
          43000,
          42800,
          35000,
          30000,
          31000,
          30400,
          27000
         ]
        },
        {
         "marker": {
          "color": [
           36,
           7,
           3,
           16,
           289,
           17,
           51,
           10,
           1029,
           631,
           399,
           147,
           79,
           22,
           30,
           55,
           183,
           425,
           26,
           14,
           1196,
           97,
           22,
           278,
           565,
           295,
           156,
           118,
           55,
           26,
           39,
           30,
           5,
           2554,
           2189,
           1322,
           199,
           73,
           31,
           2042,
           541,
           425,
           142,
           190,
           158,
           37,
           45,
           3,
           36,
           29,
           67,
           7,
           43,
           25,
           4,
           219,
           2380,
           362,
           260,
           38,
           90,
           244,
           273,
           158,
           125,
           71,
           11,
           28,
           22,
           24,
           44,
           10,
           4,
           353,
           37,
           4212,
           2684,
           1387,
           179,
           62,
           103,
           174,
           9,
           97,
           78,
           264,
           92,
           81,
           46,
           18,
           8,
           225,
           2394,
           1728,
           1186,
           843,
           427,
           681,
           249,
           246,
           99,
           214,
           118,
           184,
           208,
           180,
           152,
           53,
           128,
           32,
           48,
           4,
           919,
           1058,
           342,
           184,
           157,
           130,
           123,
           5,
           31,
           63,
           1370,
           1024,
           590,
           224,
           546,
           235,
           88,
           126,
           95,
           86,
           156,
           202,
           375,
           338,
           1436,
           1629,
           1014,
           569,
           331,
           113,
           110,
           59,
           2584,
           419,
           259,
           204,
           623,
           518,
           374,
           255,
           132,
           142,
           60,
           89,
           49,
           310,
           182,
           117,
           24,
           247,
           95,
           342,
           56,
           357,
           151,
           47,
           7,
           13,
           21,
           2
          ],
          "colorscale": [
           [
            0,
            "rgb(0,0,255)"
           ],
           [
            1,
            "rgb(255,0,0)"
           ]
          ],
          "line": {
           "color": "black",
           "width": 1.2
          },
          "showscale": true,
          "size": [
           13.4588172,
           11.094837,
           12.751958100000001,
           16.6562481,
           24.423375,
           20.6102028,
           26.8878786,
           33.6433161,
           20.933913599999997,
           17.9463621,
           24.6304863,
           14.2752
          ],
          "sizemin": 2,
          "sizeref": 2,
          "symbol": 8
         },
         "mode": "markers",
         "name": "Health",
         "text": [
          "NURSING",
          "MEDICAL TECHNOLOGIES TECHNICIANS",
          "MEDICAL ASSISTING SERVICES",
          "PHARMACY PHARMACEUTICAL SCIENCES AND ADMINISTRATION",
          "MISCELLANEOUS HEALTH MEDICAL PROFESSIONS",
          "NUTRITION SCIENCES",
          "HEALTH AND MEDICAL ADMINISTRATIVE SERVICES",
          "COMMUNITY AND PUBLIC HEALTH",
          "HEALTH AND MEDICAL PREPARATORY PROGRAMS",
          "TREATMENT THERAPY PROFESSIONS",
          "GENERAL MEDICAL AND HEALTH SERVICES",
          "COMMUNICATION DISORDERS SCIENCES AND SERVICES"
         ],
         "type": "scatter",
         "x": [
          58000,
          50000,
          65000,
          90000,
          42000,
          45000,
          42000,
          45000,
          40000,
          41000,
          45000,
          40000
         ],
         "y": [
          39000,
          36000,
          30000,
          20000,
          23000,
          26000,
          27000,
          21000,
          23000,
          24000,
          25000,
          20000
         ]
        },
        {
         "marker": {
          "color": [
           36,
           7,
           3,
           16,
           289,
           17,
           51,
           10,
           1029,
           631,
           399,
           147,
           79,
           22,
           30,
           55,
           183,
           425,
           26,
           14,
           1196,
           97,
           22,
           278,
           565,
           295,
           156,
           118,
           55,
           26,
           39,
           30,
           5,
           2554,
           2189,
           1322,
           199,
           73,
           31,
           2042,
           541,
           425,
           142,
           190,
           158,
           37,
           45,
           3,
           36,
           29,
           67,
           7,
           43,
           25,
           4,
           219,
           2380,
           362,
           260,
           38,
           90,
           244,
           273,
           158,
           125,
           71,
           11,
           28,
           22,
           24,
           44,
           10,
           4,
           353,
           37,
           4212,
           2684,
           1387,
           179,
           62,
           103,
           174,
           9,
           97,
           78,
           264,
           92,
           81,
           46,
           18,
           8,
           225,
           2394,
           1728,
           1186,
           843,
           427,
           681,
           249,
           246,
           99,
           214,
           118,
           184,
           208,
           180,
           152,
           53,
           128,
           32,
           48,
           4,
           919,
           1058,
           342,
           184,
           157,
           130,
           123,
           5,
           31,
           63,
           1370,
           1024,
           590,
           224,
           546,
           235,
           88,
           126,
           95,
           86,
           156,
           202,
           375,
           338,
           1436,
           1629,
           1014,
           569,
           331,
           113,
           110,
           59,
           2584,
           419,
           259,
           204,
           623,
           518,
           374,
           255,
           132,
           142,
           60,
           89,
           49,
           310,
           182,
           117,
           24,
           247,
           95,
           342,
           56,
           357,
           151,
           47,
           7,
           13,
           21,
           2
          ],
          "colorscale": [
           [
            0,
            "rgb(0,0,255)"
           ],
           [
            1,
            "rgb(255,0,0)"
           ]
          ],
          "line": {
           "color": "black",
           "width": 1.2
          },
          "showscale": true,
          "size": [
           14.153846099999999,
           19.0287867,
           28.700073600000003,
           22.6699158,
           25.0900593,
           31.330713,
           28.8155052,
           26.317077,
           23.4802776,
           18.0894852,
           20.5752213,
           18.7884891,
           30.8374713,
           32.1347178,
           24.522662099999998
          ],
          "sizemin": 2,
          "sizeref": 2,
          "symbol": 9
         },
         "mode": "markers",
         "name": "Humanities & Liberal Arts",
         "text": [
          "UNITED STATES HISTORY",
          "AREA ETHNIC AND CIVILIZATION STUDIES",
          "HISTORY",
          "FRENCH GERMAN LATIN AND OTHER COMMON FOREIGN LANGUAGE STUDIES",
          "INTERCULTURAL AND INTERNATIONAL STUDIES",
          "LINGUISTICS AND COMPARATIVE LANGUAGE AND LITERATURE",
          "PHILOSOPHY AND RELIGIOUS STUDIES",
          "ENGLISH LANGUAGE AND LITERATURE",
          "LIBERAL ARTS",
          "ART HISTORY AND CRITICISM",
          "HUMANITIES",
          "THEOLOGY AND RELIGIOUS VOCATIONS",
          "ANTHROPOLOGY AND ARCHEOLOGY",
          "OTHER FOREIGN LANGUAGES",
          "COMPOSITION AND RHETORIC"
         ],
         "type": "scatter",
         "x": [
          42000,
          44000,
          47000,
          45000,
          45000,
          40000,
          47100,
          41000,
          42000,
          40000,
          49000,
          38000,
          38000,
          38000,
          35000
         ],
         "y": [
          30000,
          24500,
          25000,
          25000,
          24000,
          25000,
          23000,
          23000,
          25000,
          23000,
          20000,
          22000,
          20000,
          22900,
          20000
         ]
        },
        {
         "marker": {
          "color": [
           36,
           7,
           3,
           16,
           289,
           17,
           51,
           10,
           1029,
           631,
           399,
           147,
           79,
           22,
           30,
           55,
           183,
           425,
           26,
           14,
           1196,
           97,
           22,
           278,
           565,
           295,
           156,
           118,
           55,
           26,
           39,
           30,
           5,
           2554,
           2189,
           1322,
           199,
           73,
           31,
           2042,
           541,
           425,
           142,
           190,
           158,
           37,
           45,
           3,
           36,
           29,
           67,
           7,
           43,
           25,
           4,
           219,
           2380,
           362,
           260,
           38,
           90,
           244,
           273,
           158,
           125,
           71,
           11,
           28,
           22,
           24,
           44,
           10,
           4,
           353,
           37,
           4212,
           2684,
           1387,
           179,
           62,
           103,
           174,
           9,
           97,
           78,
           264,
           92,
           81,
           46,
           18,
           8,
           225,
           2394,
           1728,
           1186,
           843,
           427,
           681,
           249,
           246,
           99,
           214,
           118,
           184,
           208,
           180,
           152,
           53,
           128,
           32,
           48,
           4,
           919,
           1058,
           342,
           184,
           157,
           130,
           123,
           5,
           31,
           63,
           1370,
           1024,
           590,
           224,
           546,
           235,
           88,
           126,
           95,
           86,
           156,
           202,
           375,
           338,
           1436,
           1629,
           1014,
           569,
           331,
           113,
           110,
           59,
           2584,
           419,
           259,
           204,
           623,
           518,
           374,
           255,
           132,
           142,
           60,
           89,
           49,
           310,
           182,
           117,
           24,
           247,
           95,
           342,
           56,
           357,
           151,
           47,
           7,
           13,
           21,
           2
          ],
          "colorscale": [
           [
            0,
            "rgb(0,0,255)"
           ],
           [
            1,
            "rgb(255,0,0)"
           ]
          ],
          "line": {
           "color": "black",
           "width": 1.2
          },
          "showscale": true,
          "size": [
           18.0069123,
           0,
           8.8438509,
           21.8173572,
           15.4401819,
           20.138458200000002,
           16.7030568
          ],
          "sizemin": 2,
          "sizeref": 2,
          "symbol": 10
         },
         "mode": "markers",
         "name": "Industrial Arts & Consumer Services",
         "text": [
          "CONSTRUCTION SERVICES",
          "MILITARY TECHNOLOGIES",
          "ELECTRICAL, MECHANICAL, AND PRECISION TECHNOLOGIES AND PRODUCTION",
          "TRANSPORTATION SCIENCES AND TECHNOLOGIES",
          "PHYSICAL FITNESS PARKS RECREATION AND LEISURE",
          "FAMILY AND CONSUMER SCIENCES",
          "COSMETOLOGY SERVICES AND CULINARY ARTS"
         ],
         "type": "scatter",
         "x": [
          60000,
          40000,
          45000,
          52000,
          43000,
          40000,
          36000
         ],
         "y": [
          36000,
          40000,
          22500,
          22000,
          24000,
          22900,
          20000
         ]
        },
        {
         "marker": {
          "color": [
           36,
           7,
           3,
           16,
           289,
           17,
           51,
           10,
           1029,
           631,
           399,
           147,
           79,
           22,
           30,
           55,
           183,
           425,
           26,
           14,
           1196,
           97,
           22,
           278,
           565,
           295,
           156,
           118,
           55,
           26,
           39,
           30,
           5,
           2554,
           2189,
           1322,
           199,
           73,
           31,
           2042,
           541,
           425,
           142,
           190,
           158,
           37,
           45,
           3,
           36,
           29,
           67,
           7,
           43,
           25,
           4,
           219,
           2380,
           362,
           260,
           38,
           90,
           244,
           273,
           158,
           125,
           71,
           11,
           28,
           22,
           24,
           44,
           10,
           4,
           353,
           37,
           4212,
           2684,
           1387,
           179,
           62,
           103,
           174,
           9,
           97,
           78,
           264,
           92,
           81,
           46,
           18,
           8,
           225,
           2394,
           1728,
           1186,
           843,
           427,
           681,
           249,
           246,
           99,
           214,
           118,
           184,
           208,
           180,
           152,
           53,
           128,
           32,
           48,
           4,
           919,
           1058,
           342,
           184,
           157,
           130,
           123,
           5,
           31,
           63,
           1370,
           1024,
           590,
           224,
           546,
           235,
           88,
           126,
           95,
           86,
           156,
           202,
           375,
           338,
           1436,
           1629,
           1014,
           569,
           331,
           113,
           110,
           59,
           2584,
           419,
           259,
           204,
           623,
           518,
           374,
           255,
           132,
           142,
           60,
           89,
           49,
           310,
           182,
           117,
           24,
           247,
           95,
           342,
           56,
           357,
           151,
           47,
           7,
           13,
           21,
           2
          ],
          "colorscale": [
           [
            0,
            "rgb(0,0,255)"
           ],
           [
            1,
            "rgb(255,0,0)"
           ]
          ],
          "line": {
           "color": "black",
           "width": 1.2
          },
          "showscale": true,
          "size": [
           21.258278100000002
          ],
          "sizemin": 2,
          "sizeref": 2,
          "symbol": 11
         },
         "mode": "markers",
         "name": "Interdisciplinary",
         "text": [
          "MULTI/INTERDISCIPLINARY STUDIES"
         ],
         "type": "scatter",
         "x": [
          44000
         ],
         "y": [
          25000
         ]
        },
        {
         "marker": {
          "color": [
           36,
           7,
           3,
           16,
           289,
           17,
           51,
           10,
           1029,
           631,
           399,
           147,
           79,
           22,
           30,
           55,
           183,
           425,
           26,
           14,
           1196,
           97,
           22,
           278,
           565,
           295,
           156,
           118,
           55,
           26,
           39,
           30,
           5,
           2554,
           2189,
           1322,
           199,
           73,
           31,
           2042,
           541,
           425,
           142,
           190,
           158,
           37,
           45,
           3,
           36,
           29,
           67,
           7,
           43,
           25,
           4,
           219,
           2380,
           362,
           260,
           38,
           90,
           244,
           273,
           158,
           125,
           71,
           11,
           28,
           22,
           24,
           44,
           10,
           4,
           353,
           37,
           4212,
           2684,
           1387,
           179,
           62,
           103,
           174,
           9,
           97,
           78,
           264,
           92,
           81,
           46,
           18,
           8,
           225,
           2394,
           1728,
           1186,
           843,
           427,
           681,
           249,
           246,
           99,
           214,
           118,
           184,
           208,
           180,
           152,
           53,
           128,
           32,
           48,
           4,
           919,
           1058,
           342,
           184,
           157,
           130,
           123,
           5,
           31,
           63,
           1370,
           1024,
           590,
           224,
           546,
           235,
           88,
           126,
           95,
           86,
           156,
           202,
           375,
           338,
           1436,
           1629,
           1014,
           569,
           331,
           113,
           110,
           59,
           2584,
           419,
           259,
           204,
           623,
           518,
           374,
           255,
           132,
           142,
           60,
           89,
           49,
           310,
           182,
           117,
           24,
           247,
           95,
           342,
           56,
           357,
           151,
           47,
           7,
           13,
           21,
           2
          ],
          "colorscale": [
           [
            0,
            "rgb(0,0,255)"
           ],
           [
            1,
            "rgb(255,0,0)"
           ]
          ],
          "line": {
           "color": "black",
           "width": 1.2
          },
          "showscale": true,
          "size": [
           3.5069076,
           38.527889699999996,
           21.5895048,
           47.84718,
           24.7356597
          ],
          "sizemin": 2,
          "sizeref": 2,
          "symbol": 12
         },
         "mode": "markers",
         "name": "Law & Public Policy",
         "text": [
          "COURT REPORTING",
          "PUBLIC POLICY",
          "PRE-LAW AND LEGAL STUDIES",
          "PUBLIC ADMINISTRATION",
          "CRIMINAL JUSTICE AND FIRE PROTECTION"
         ],
         "type": "scatter",
         "x": [
          54000,
          70000,
          46000,
          60000,
          45000
         ],
         "y": [
          50000,
          35000,
          29200,
          23000,
          26000
         ]
        },
        {
         "marker": {
          "color": [
           36,
           7,
           3,
           16,
           289,
           17,
           51,
           10,
           1029,
           631,
           399,
           147,
           79,
           22,
           30,
           55,
           183,
           425,
           26,
           14,
           1196,
           97,
           22,
           278,
           565,
           295,
           156,
           118,
           55,
           26,
           39,
           30,
           5,
           2554,
           2189,
           1322,
           199,
           73,
           31,
           2042,
           541,
           425,
           142,
           190,
           158,
           37,
           45,
           3,
           36,
           29,
           67,
           7,
           43,
           25,
           4,
           219,
           2380,
           362,
           260,
           38,
           90,
           244,
           273,
           158,
           125,
           71,
           11,
           28,
           22,
           24,
           44,
           10,
           4,
           353,
           37,
           4212,
           2684,
           1387,
           179,
           62,
           103,
           174,
           9,
           97,
           78,
           264,
           92,
           81,
           46,
           18,
           8,
           225,
           2394,
           1728,
           1186,
           843,
           427,
           681,
           249,
           246,
           99,
           214,
           118,
           184,
           208,
           180,
           152,
           53,
           128,
           32,
           48,
           4,
           919,
           1058,
           342,
           184,
           157,
           130,
           123,
           5,
           31,
           63,
           1370,
           1024,
           590,
           224,
           546,
           235,
           88,
           126,
           95,
           86,
           156,
           202,
           375,
           338,
           1436,
           1629,
           1014,
           569,
           331,
           113,
           110,
           59,
           2584,
           419,
           259,
           204,
           623,
           518,
           374,
           255,
           132,
           142,
           60,
           89,
           49,
           310,
           182,
           117,
           24,
           247,
           95,
           342,
           56,
           357,
           151,
           47,
           7,
           13,
           21,
           2
          ],
          "colorscale": [
           [
            0,
            "rgb(0,0,255)"
           ],
           [
            1,
            "rgb(255,0,0)"
           ]
          ],
          "line": {
           "color": "black",
           "width": 1.2
          },
          "showscale": true,
          "size": [
           6.3502244999999995,
           21.462141,
           14.4673488,
           17.0984457,
           10.6060605,
           16.19172,
           22.634570399999998,
           7.3121193,
           16.742044500000002,
           6.6685665
          ],
          "sizemin": 2,
          "sizeref": 2,
          "symbol": 13
         },
         "mode": "markers",
         "name": "Physical Sciences",
         "text": [
          "ASTRONOMY AND ASTROPHYSICS",
          "NUCLEAR, INDUSTRIAL RADIOLOGY, AND BIOLOGICAL TECHNOLOGIES",
          "PHYSICS",
          "OCEANOGRAPHY",
          "PHYSICAL SCIENCES",
          "CHEMISTRY",
          "GEOLOGY AND EARTH SCIENCE",
          "GEOSCIENCES",
          "MULTI-DISCIPLINARY OR GENERAL SCIENCE",
          "ATMOSPHERIC SCIENCES AND METEOROLOGY"
         ],
         "type": "scatter",
         "x": [
          109000,
          53000,
          68000,
          50000,
          55000,
          49900,
          47000,
          41000,
          50000,
          50000
         ],
         "y": [
          31500,
          38000,
          30000,
          23000,
          30000,
          30000,
          28000,
          21000,
          24000,
          28000
         ]
        },
        {
         "marker": {
          "color": [
           36,
           7,
           3,
           16,
           289,
           17,
           51,
           10,
           1029,
           631,
           399,
           147,
           79,
           22,
           30,
           55,
           183,
           425,
           26,
           14,
           1196,
           97,
           22,
           278,
           565,
           295,
           156,
           118,
           55,
           26,
           39,
           30,
           5,
           2554,
           2189,
           1322,
           199,
           73,
           31,
           2042,
           541,
           425,
           142,
           190,
           158,
           37,
           45,
           3,
           36,
           29,
           67,
           7,
           43,
           25,
           4,
           219,
           2380,
           362,
           260,
           38,
           90,
           244,
           273,
           158,
           125,
           71,
           11,
           28,
           22,
           24,
           44,
           10,
           4,
           353,
           37,
           4212,
           2684,
           1387,
           179,
           62,
           103,
           174,
           9,
           97,
           78,
           264,
           92,
           81,
           46,
           18,
           8,
           225,
           2394,
           1728,
           1186,
           843,
           427,
           681,
           249,
           246,
           99,
           214,
           118,
           184,
           208,
           180,
           152,
           53,
           128,
           32,
           48,
           4,
           919,
           1058,
           342,
           184,
           157,
           130,
           123,
           5,
           31,
           63,
           1370,
           1024,
           590,
           224,
           546,
           235,
           88,
           126,
           95,
           86,
           156,
           202,
           375,
           338,
           1436,
           1629,
           1014,
           569,
           331,
           113,
           110,
           59,
           2584,
           419,
           259,
           204,
           623,
           518,
           374,
           255,
           132,
           142,
           60,
           89,
           49,
           310,
           182,
           117,
           24,
           247,
           95,
           342,
           56,
           357,
           151,
           47,
           7,
           13,
           21,
           2
          ],
          "colorscale": [
           [
            0,
            "rgb(0,0,255)"
           ],
           [
            1,
            "rgb(255,0,0)"
           ]
          ],
          "line": {
           "color": "black",
           "width": 1.2
          },
          "showscale": true,
          "size": [
           32.6359833,
           8.8948788,
           25.1432601,
           20.648376,
           15.572349,
           11.3457078,
           19.5336561,
           44.714459399999996,
           16.0861938
          ],
          "sizemin": 2,
          "sizeref": 2,
          "symbol": 14
         },
         "mode": "markers",
         "name": "Psychology & Social Work",
         "text": [
          "INDUSTRIAL AND ORGANIZATIONAL PSYCHOLOGY",
          "SOCIAL PSYCHOLOGY",
          "PSYCHOLOGY",
          "SOCIAL WORK",
          "MISCELLANEOUS PSYCHOLOGY",
          "HUMAN SERVICES AND COMMUNITY ORGANIZATION",
          "EDUCATIONAL PSYCHOLOGY",
          "CLINICAL PSYCHOLOGY",
          "COUNSELING PSYCHOLOGY"
         ],
         "type": "scatter",
         "x": [
          53000,
          45000,
          41000,
          35000,
          40000,
          35000,
          34000,
          40000,
          26000
         ],
         "y": [
          32000,
          34000,
          24000,
          25000,
          20800,
          24000,
          24000,
          25000,
          19200
         ]
        },
        {
         "marker": {
          "color": [
           36,
           7,
           3,
           16,
           289,
           17,
           51,
           10,
           1029,
           631,
           399,
           147,
           79,
           22,
           30,
           55,
           183,
           425,
           26,
           14,
           1196,
           97,
           22,
           278,
           565,
           295,
           156,
           118,
           55,
           26,
           39,
           30,
           5,
           2554,
           2189,
           1322,
           199,
           73,
           31,
           2042,
           541,
           425,
           142,
           190,
           158,
           37,
           45,
           3,
           36,
           29,
           67,
           7,
           43,
           25,
           4,
           219,
           2380,
           362,
           260,
           38,
           90,
           244,
           273,
           158,
           125,
           71,
           11,
           28,
           22,
           24,
           44,
           10,
           4,
           353,
           37,
           4212,
           2684,
           1387,
           179,
           62,
           103,
           174,
           9,
           97,
           78,
           264,
           92,
           81,
           46,
           18,
           8,
           225,
           2394,
           1728,
           1186,
           843,
           427,
           681,
           249,
           246,
           99,
           214,
           118,
           184,
           208,
           180,
           152,
           53,
           128,
           32,
           48,
           4,
           919,
           1058,
           342,
           184,
           157,
           130,
           123,
           5,
           31,
           63,
           1370,
           1024,
           590,
           224,
           546,
           235,
           88,
           126,
           95,
           86,
           156,
           202,
           375,
           338,
           1436,
           1629,
           1014,
           569,
           331,
           113,
           110,
           59,
           2584,
           419,
           259,
           204,
           623,
           518,
           374,
           255,
           132,
           142,
           60,
           89,
           49,
           310,
           182,
           117,
           24,
           247,
           95,
           342,
           56,
           357,
           151,
           47,
           7,
           13,
           21,
           2
          ],
          "colorscale": [
           [
            0,
            "rgb(0,0,255)"
           ],
           [
            1,
            "rgb(255,0,0)"
           ]
          ],
          "line": {
           "color": "black",
           "width": 1.2
          },
          "showscale": true,
          "size": [
           29.7276951,
           29.0396829,
           21.9238614,
           30.3523803,
           34.037588400000004,
           29.173175699999998,
           25.4853003,
           27.6917448,
           31.0364145
          ],
          "sizemin": 2,
          "sizeref": 2,
          "symbol": 15
         },
         "mode": "markers",
         "name": "Social Science",
         "text": [
          "ECONOMICS",
          "INTERNATIONAL RELATIONS",
          "MISCELLANEOUS SOCIAL SCIENCES",
          "POLITICAL SCIENCE AND GOVERNMENT",
          "GEOGRAPHY",
          "CRIMINOLOGY",
          "SOCIOLOGY",
          "INTERDISCIPLINARY SOCIAL SCIENCES",
          "GENERAL SOCIAL SCIENCES"
         ],
         "type": "scatter",
         "x": [
          65000,
          53000,
          54000,
          50000,
          50000,
          45000,
          44000,
          40000,
          50000
         ],
         "y": [
          35000,
          31200,
          30000,
          28000,
          30000,
          25000,
          25000,
          24000,
          27000
         ]
        }
       ],
       "layout": {
        "height": 1200,
        "legend": {
         "x": 1.2
        },
        "margin": {
         "r": 20
        },
        "template": {
         "data": {
          "bar": [
           {
            "error_x": {
             "color": "#2a3f5f"
            },
            "error_y": {
             "color": "#2a3f5f"
            },
            "marker": {
             "line": {
              "color": "#E5ECF6",
              "width": 0.5
             },
             "pattern": {
              "fillmode": "overlay",
              "size": 10,
              "solidity": 0.2
             }
            },
            "type": "bar"
           }
          ],
          "barpolar": [
           {
            "marker": {
             "line": {
              "color": "#E5ECF6",
              "width": 0.5
             },
             "pattern": {
              "fillmode": "overlay",
              "size": 10,
              "solidity": 0.2
             }
            },
            "type": "barpolar"
           }
          ],
          "carpet": [
           {
            "aaxis": {
             "endlinecolor": "#2a3f5f",
             "gridcolor": "white",
             "linecolor": "white",
             "minorgridcolor": "white",
             "startlinecolor": "#2a3f5f"
            },
            "baxis": {
             "endlinecolor": "#2a3f5f",
             "gridcolor": "white",
             "linecolor": "white",
             "minorgridcolor": "white",
             "startlinecolor": "#2a3f5f"
            },
            "type": "carpet"
           }
          ],
          "choropleth": [
           {
            "colorbar": {
             "outlinewidth": 0,
             "ticks": ""
            },
            "type": "choropleth"
           }
          ],
          "contour": [
           {
            "colorbar": {
             "outlinewidth": 0,
             "ticks": ""
            },
            "colorscale": [
             [
              0,
              "#0d0887"
             ],
             [
              0.1111111111111111,
              "#46039f"
             ],
             [
              0.2222222222222222,
              "#7201a8"
             ],
             [
              0.3333333333333333,
              "#9c179e"
             ],
             [
              0.4444444444444444,
              "#bd3786"
             ],
             [
              0.5555555555555556,
              "#d8576b"
             ],
             [
              0.6666666666666666,
              "#ed7953"
             ],
             [
              0.7777777777777778,
              "#fb9f3a"
             ],
             [
              0.8888888888888888,
              "#fdca26"
             ],
             [
              1,
              "#f0f921"
             ]
            ],
            "type": "contour"
           }
          ],
          "contourcarpet": [
           {
            "colorbar": {
             "outlinewidth": 0,
             "ticks": ""
            },
            "type": "contourcarpet"
           }
          ],
          "heatmap": [
           {
            "colorbar": {
             "outlinewidth": 0,
             "ticks": ""
            },
            "colorscale": [
             [
              0,
              "#0d0887"
             ],
             [
              0.1111111111111111,
              "#46039f"
             ],
             [
              0.2222222222222222,
              "#7201a8"
             ],
             [
              0.3333333333333333,
              "#9c179e"
             ],
             [
              0.4444444444444444,
              "#bd3786"
             ],
             [
              0.5555555555555556,
              "#d8576b"
             ],
             [
              0.6666666666666666,
              "#ed7953"
             ],
             [
              0.7777777777777778,
              "#fb9f3a"
             ],
             [
              0.8888888888888888,
              "#fdca26"
             ],
             [
              1,
              "#f0f921"
             ]
            ],
            "type": "heatmap"
           }
          ],
          "heatmapgl": [
           {
            "colorbar": {
             "outlinewidth": 0,
             "ticks": ""
            },
            "colorscale": [
             [
              0,
              "#0d0887"
             ],
             [
              0.1111111111111111,
              "#46039f"
             ],
             [
              0.2222222222222222,
              "#7201a8"
             ],
             [
              0.3333333333333333,
              "#9c179e"
             ],
             [
              0.4444444444444444,
              "#bd3786"
             ],
             [
              0.5555555555555556,
              "#d8576b"
             ],
             [
              0.6666666666666666,
              "#ed7953"
             ],
             [
              0.7777777777777778,
              "#fb9f3a"
             ],
             [
              0.8888888888888888,
              "#fdca26"
             ],
             [
              1,
              "#f0f921"
             ]
            ],
            "type": "heatmapgl"
           }
          ],
          "histogram": [
           {
            "marker": {
             "pattern": {
              "fillmode": "overlay",
              "size": 10,
              "solidity": 0.2
             }
            },
            "type": "histogram"
           }
          ],
          "histogram2d": [
           {
            "colorbar": {
             "outlinewidth": 0,
             "ticks": ""
            },
            "colorscale": [
             [
              0,
              "#0d0887"
             ],
             [
              0.1111111111111111,
              "#46039f"
             ],
             [
              0.2222222222222222,
              "#7201a8"
             ],
             [
              0.3333333333333333,
              "#9c179e"
             ],
             [
              0.4444444444444444,
              "#bd3786"
             ],
             [
              0.5555555555555556,
              "#d8576b"
             ],
             [
              0.6666666666666666,
              "#ed7953"
             ],
             [
              0.7777777777777778,
              "#fb9f3a"
             ],
             [
              0.8888888888888888,
              "#fdca26"
             ],
             [
              1,
              "#f0f921"
             ]
            ],
            "type": "histogram2d"
           }
          ],
          "histogram2dcontour": [
           {
            "colorbar": {
             "outlinewidth": 0,
             "ticks": ""
            },
            "colorscale": [
             [
              0,
              "#0d0887"
             ],
             [
              0.1111111111111111,
              "#46039f"
             ],
             [
              0.2222222222222222,
              "#7201a8"
             ],
             [
              0.3333333333333333,
              "#9c179e"
             ],
             [
              0.4444444444444444,
              "#bd3786"
             ],
             [
              0.5555555555555556,
              "#d8576b"
             ],
             [
              0.6666666666666666,
              "#ed7953"
             ],
             [
              0.7777777777777778,
              "#fb9f3a"
             ],
             [
              0.8888888888888888,
              "#fdca26"
             ],
             [
              1,
              "#f0f921"
             ]
            ],
            "type": "histogram2dcontour"
           }
          ],
          "mesh3d": [
           {
            "colorbar": {
             "outlinewidth": 0,
             "ticks": ""
            },
            "type": "mesh3d"
           }
          ],
          "parcoords": [
           {
            "line": {
             "colorbar": {
              "outlinewidth": 0,
              "ticks": ""
             }
            },
            "type": "parcoords"
           }
          ],
          "pie": [
           {
            "automargin": true,
            "type": "pie"
           }
          ],
          "scatter": [
           {
            "fillpattern": {
             "fillmode": "overlay",
             "size": 10,
             "solidity": 0.2
            },
            "type": "scatter"
           }
          ],
          "scatter3d": [
           {
            "line": {
             "colorbar": {
              "outlinewidth": 0,
              "ticks": ""
             }
            },
            "marker": {
             "colorbar": {
              "outlinewidth": 0,
              "ticks": ""
             }
            },
            "type": "scatter3d"
           }
          ],
          "scattercarpet": [
           {
            "marker": {
             "colorbar": {
              "outlinewidth": 0,
              "ticks": ""
             }
            },
            "type": "scattercarpet"
           }
          ],
          "scattergeo": [
           {
            "marker": {
             "colorbar": {
              "outlinewidth": 0,
              "ticks": ""
             }
            },
            "type": "scattergeo"
           }
          ],
          "scattergl": [
           {
            "marker": {
             "colorbar": {
              "outlinewidth": 0,
              "ticks": ""
             }
            },
            "type": "scattergl"
           }
          ],
          "scattermapbox": [
           {
            "marker": {
             "colorbar": {
              "outlinewidth": 0,
              "ticks": ""
             }
            },
            "type": "scattermapbox"
           }
          ],
          "scatterpolar": [
           {
            "marker": {
             "colorbar": {
              "outlinewidth": 0,
              "ticks": ""
             }
            },
            "type": "scatterpolar"
           }
          ],
          "scatterpolargl": [
           {
            "marker": {
             "colorbar": {
              "outlinewidth": 0,
              "ticks": ""
             }
            },
            "type": "scatterpolargl"
           }
          ],
          "scatterternary": [
           {
            "marker": {
             "colorbar": {
              "outlinewidth": 0,
              "ticks": ""
             }
            },
            "type": "scatterternary"
           }
          ],
          "surface": [
           {
            "colorbar": {
             "outlinewidth": 0,
             "ticks": ""
            },
            "colorscale": [
             [
              0,
              "#0d0887"
             ],
             [
              0.1111111111111111,
              "#46039f"
             ],
             [
              0.2222222222222222,
              "#7201a8"
             ],
             [
              0.3333333333333333,
              "#9c179e"
             ],
             [
              0.4444444444444444,
              "#bd3786"
             ],
             [
              0.5555555555555556,
              "#d8576b"
             ],
             [
              0.6666666666666666,
              "#ed7953"
             ],
             [
              0.7777777777777778,
              "#fb9f3a"
             ],
             [
              0.8888888888888888,
              "#fdca26"
             ],
             [
              1,
              "#f0f921"
             ]
            ],
            "type": "surface"
           }
          ],
          "table": [
           {
            "cells": {
             "fill": {
              "color": "#EBF0F8"
             },
             "line": {
              "color": "white"
             }
            },
            "header": {
             "fill": {
              "color": "#C8D4E3"
             },
             "line": {
              "color": "white"
             }
            },
            "type": "table"
           }
          ]
         },
         "layout": {
          "annotationdefaults": {
           "arrowcolor": "#2a3f5f",
           "arrowhead": 0,
           "arrowwidth": 1
          },
          "autotypenumbers": "strict",
          "coloraxis": {
           "colorbar": {
            "outlinewidth": 0,
            "ticks": ""
           }
          },
          "colorscale": {
           "diverging": [
            [
             0,
             "#8e0152"
            ],
            [
             0.1,
             "#c51b7d"
            ],
            [
             0.2,
             "#de77ae"
            ],
            [
             0.3,
             "#f1b6da"
            ],
            [
             0.4,
             "#fde0ef"
            ],
            [
             0.5,
             "#f7f7f7"
            ],
            [
             0.6,
             "#e6f5d0"
            ],
            [
             0.7,
             "#b8e186"
            ],
            [
             0.8,
             "#7fbc41"
            ],
            [
             0.9,
             "#4d9221"
            ],
            [
             1,
             "#276419"
            ]
           ],
           "sequential": [
            [
             0,
             "#0d0887"
            ],
            [
             0.1111111111111111,
             "#46039f"
            ],
            [
             0.2222222222222222,
             "#7201a8"
            ],
            [
             0.3333333333333333,
             "#9c179e"
            ],
            [
             0.4444444444444444,
             "#bd3786"
            ],
            [
             0.5555555555555556,
             "#d8576b"
            ],
            [
             0.6666666666666666,
             "#ed7953"
            ],
            [
             0.7777777777777778,
             "#fb9f3a"
            ],
            [
             0.8888888888888888,
             "#fdca26"
            ],
            [
             1,
             "#f0f921"
            ]
           ],
           "sequentialminus": [
            [
             0,
             "#0d0887"
            ],
            [
             0.1111111111111111,
             "#46039f"
            ],
            [
             0.2222222222222222,
             "#7201a8"
            ],
            [
             0.3333333333333333,
             "#9c179e"
            ],
            [
             0.4444444444444444,
             "#bd3786"
            ],
            [
             0.5555555555555556,
             "#d8576b"
            ],
            [
             0.6666666666666666,
             "#ed7953"
            ],
            [
             0.7777777777777778,
             "#fb9f3a"
            ],
            [
             0.8888888888888888,
             "#fdca26"
            ],
            [
             1,
             "#f0f921"
            ]
           ]
          },
          "colorway": [
           "#636efa",
           "#EF553B",
           "#00cc96",
           "#ab63fa",
           "#FFA15A",
           "#19d3f3",
           "#FF6692",
           "#B6E880",
           "#FF97FF",
           "#FECB52"
          ],
          "font": {
           "color": "#2a3f5f"
          },
          "geo": {
           "bgcolor": "white",
           "lakecolor": "white",
           "landcolor": "#E5ECF6",
           "showlakes": true,
           "showland": true,
           "subunitcolor": "white"
          },
          "hoverlabel": {
           "align": "left"
          },
          "hovermode": "closest",
          "mapbox": {
           "style": "light"
          },
          "paper_bgcolor": "white",
          "plot_bgcolor": "#E5ECF6",
          "polar": {
           "angularaxis": {
            "gridcolor": "white",
            "linecolor": "white",
            "ticks": ""
           },
           "bgcolor": "#E5ECF6",
           "radialaxis": {
            "gridcolor": "white",
            "linecolor": "white",
            "ticks": ""
           }
          },
          "scene": {
           "xaxis": {
            "backgroundcolor": "#E5ECF6",
            "gridcolor": "white",
            "gridwidth": 2,
            "linecolor": "white",
            "showbackground": true,
            "ticks": "",
            "zerolinecolor": "white"
           },
           "yaxis": {
            "backgroundcolor": "#E5ECF6",
            "gridcolor": "white",
            "gridwidth": 2,
            "linecolor": "white",
            "showbackground": true,
            "ticks": "",
            "zerolinecolor": "white"
           },
           "zaxis": {
            "backgroundcolor": "#E5ECF6",
            "gridcolor": "white",
            "gridwidth": 2,
            "linecolor": "white",
            "showbackground": true,
            "ticks": "",
            "zerolinecolor": "white"
           }
          },
          "shapedefaults": {
           "line": {
            "color": "#2a3f5f"
           }
          },
          "ternary": {
           "aaxis": {
            "gridcolor": "white",
            "linecolor": "white",
            "ticks": ""
           },
           "baxis": {
            "gridcolor": "white",
            "linecolor": "white",
            "ticks": ""
           },
           "bgcolor": "#E5ECF6",
           "caxis": {
            "gridcolor": "white",
            "linecolor": "white",
            "ticks": ""
           }
          },
          "title": {
           "x": 0.05
          },
          "xaxis": {
           "automargin": true,
           "gridcolor": "white",
           "linecolor": "white",
           "ticks": "",
           "title": {
            "standoff": 15
           },
           "zerolinecolor": "white",
           "zerolinewidth": 2
          },
          "yaxis": {
           "automargin": true,
           "gridcolor": "white",
           "linecolor": "white",
           "ticks": "",
           "title": {
            "standoff": 15
           },
           "zerolinecolor": "white",
           "zerolinewidth": 2
          }
         }
        },
        "title": {
         "text": "P25th vs P75th wage percentile Colored by Sample size, Sized by Unemployment Rate, and Shaped by Major Category"
        },
        "width": 1200,
        "xaxis": {
         "title": {
          "text": "75th Wage Percentile"
         },
         "type": "log"
        },
        "yaxis": {
         "title": {
          "text": "25th Wage Percentile"
         }
        }
       }
      },
      "text/html": [
       "<div>                            <div id=\"8f4f6bef-cb31-4185-8899-b48866cc259a\" class=\"plotly-graph-div\" style=\"height:1200px; width:1200px;\"></div>            <script type=\"text/javascript\">                require([\"plotly\"], function(Plotly) {                    window.PLOTLYENV=window.PLOTLYENV || {};                                    if (document.getElementById(\"8f4f6bef-cb31-4185-8899-b48866cc259a\")) {                    Plotly.newPlot(                        \"8f4f6bef-cb31-4185-8899-b48866cc259a\",                        [{\"marker\":{\"color\":[36,7,3,16,289,17,51,10,1029,631,399,147,79,22,30,55,183,425,26,14,1196,97,22,278,565,295,156,118,55,26,39,30,5,2554,2189,1322,199,73,31,2042,541,425,142,190,158,37,45,3,36,29,67,7,43,25,4,219,2380,362,260,38,90,244,273,158,125,71,11,28,22,24,44,10,4,353,37,4212,2684,1387,179,62,103,174,9,97,78,264,92,81,46,18,8,225,2394,1728,1186,843,427,681,249,246,99,214,118,184,208,180,152,53,128,32,48,4,919,1058,342,184,157,130,123,5,31,63,1370,1024,590,224,546,235,88,126,95,86,156,202,375,338,1436,1629,1014,569,331,113,110,59,2584,419,259,204,623,518,374,255,132,142,60,89,49,310,182,117,24,247,95,342,56,357,151,47,7,13,21,2],\"colorscale\":[[0.0,\"rgb(0,0,255)\"],[1.0,\"rgb(255,0,0)\"]],\"line\":{\"color\":\"black\",\"width\":1.2},\"showscale\":true,\"size\":[15.0092508,5.8927388999999994,23.1748728,19.985758500000003,29.017722900000003,0.0,13.6363635,15.2587497,17.9300292],\"sizemin\":2,\"sizeref\":2,\"symbol\":0},\"mode\":\"markers\",\"name\":\"Agriculture & Natural Resources\",\"text\":[\"AGRICULTURE PRODUCTION AND MANAGEMENT\",\"GENERAL AGRICULTURE\",\"AGRICULTURAL ECONOMICS\",\"NATURAL RESOURCES MANAGEMENT\",\"FORESTRY\",\"SOIL SCIENCE\",\"PLANT SCIENCE AND AGRONOMY\",\"ANIMAL SCIENCES\",\"MISCELLANEOUS AGRICULTURE\"],\"x\":[50000,50000,54000,42000,48000,44000,40000,40000,42100],\"y\":[25000,30000,27000,25000,28600,18500,22900,22000,23000],\"type\":\"scatter\"},{\"marker\":{\"color\":[36,7,3,16,289,17,51,10,1029,631,399,147,79,22,30,55,183,425,26,14,1196,97,22,278,565,295,156,118,55,26,39,30,5,2554,2189,1322,199,73,31,2042,541,425,142,190,158,37,45,3,36,29,67,7,43,25,4,219,2380,362,260,38,90,244,273,158,125,71,11,28,22,24,44,10,4,353,37,4212,2684,1387,179,62,103,174,9,97,78,264,92,81,46,18,8,225,2394,1728,1186,843,427,681,249,246,99,214,118,184,208,180,152,53,128,32,48,4,919,1058,342,184,157,130,123,5,31,63,1370,1024,590,224,546,235,88,126,95,86,156,202,375,338,1436,1629,1014,569,331,113,110,59,2584,419,259,204,623,518,374,255,132,142,60,89,49,310,182,117,24,247,95,342,56,357,151,47,7,13,21,2],\"colorscale\":[[0.0,\"rgb(0,0,255)\"],[1.0,\"rgb(255,0,0)\"]],\"line\":{\"color\":\"black\",\"width\":1.2},\"showscale\":true,\"size\":[26.8125,29.0392731,31.731672,22.7879022,25.255888799999997,30.6592257,26.8656717,23.262339],\"sizemin\":2,\"sizeref\":2,\"symbol\":1},\"mode\":\"markers\",\"name\":\"Arts\",\"text\":[\"MISCELLANEOUS FINE ARTS\",\"COMMERCIAL ART AND GRAPHIC DESIGN\",\"FILM VIDEO AND PHOTOGRAPHIC ARTS\",\"MUSIC\",\"FINE ARTS\",\"VISUAL AND PERFORMING ARTS\",\"STUDIO ARTS\",\"DRAMA AND THEATER ARTS\"],\"x\":[66000,45000,42000,42000,41000,40000,38300,35000],\"y\":[25000,25000,22000,22300,21000,22000,19200,19200],\"type\":\"scatter\"},{\"marker\":{\"color\":[36,7,3,16,289,17,51,10,1029,631,399,147,79,22,30,55,183,425,26,14,1196,97,22,278,565,295,156,118,55,26,39,30,5,2554,2189,1322,199,73,31,2042,541,425,142,190,158,37,45,3,36,29,67,7,43,25,4,219,2380,362,260,38,90,244,273,158,125,71,11,28,22,24,44,10,4,353,37,4212,2684,1387,179,62,103,174,9,97,78,264,92,81,46,18,8,225,2394,1728,1186,843,427,681,249,246,99,214,118,184,208,180,152,53,128,32,48,4,919,1058,342,184,157,130,123,5,31,63,1370,1024,590,224,546,235,88,126,95,86,156,202,375,338,1436,1629,1014,569,331,113,110,59,2584,419,259,204,623,518,374,255,132,142,60,89,49,310,182,117,24,247,95,342,56,357,151,47,7,13,21,2],\"colorscale\":[[0.0,\"rgb(0,0,255)\"],[1.0,\"rgb(255,0,0)\"]],\"line\":{\"color\":\"black\",\"width\":1.2},\"showscale\":true,\"size\":[25.6594725,22.5708501,25.308349200000002,10.2352941,20.0327616,24.159415499999998,0.0,23.575404300000002,20.748839999999998,14.5445025,17.5636365,21.2174196,16.3425579,13.896084],\"sizemin\":2,\"sizeref\":2,\"symbol\":2},\"mode\":\"markers\",\"name\":\"Biology & Life Science\",\"text\":[\"PHARMACOLOGY\",\"COGNITIVE SCIENCE AND BIOPSYCHOLOGY\",\"MOLECULAR BIOLOGY\",\"GENETICS\",\"MICROBIOLOGY\",\"BIOCHEMICAL SCIENCES\",\"BOTANY\",\"ENVIRONMENTAL SCIENCE\",\"PHYSIOLOGY\",\"NEUROSCIENCE\",\"MISCELLANEOUS BIOLOGY\",\"BIOLOGY\",\"ECOLOGY\",\"ZOOLOGY\"],\"x\":[45000,60000,47000,45000,50000,50000,40000,40200,50000,44000,48000,45000,42000,39000],\"y\":[40000,20000,29000,34000,29600,29000,26000,25000,20000,30000,23000,24000,23000,20000],\"type\":\"scatter\"},{\"marker\":{\"color\":[36,7,3,16,289,17,51,10,1029,631,399,147,79,22,30,55,183,425,26,14,1196,97,22,278,565,295,156,118,55,26,39,30,5,2554,2189,1322,199,73,31,2042,541,425,142,190,158,37,45,3,36,29,67,7,43,25,4,219,2380,362,260,38,90,244,273,158,125,71,11,28,22,24,44,10,4,353,37,4212,2684,1387,179,62,103,174,9,97,78,264,92,81,46,18,8,225,2394,1728,1186,843,427,681,249,246,99,214,118,184,208,180,152,53,128,32,48,4,919,1058,342,184,157,130,123,5,31,63,1370,1024,590,224,546,235,88,126,95,86,156,202,375,338,1436,1629,1014,569,331,113,110,59,2584,419,259,204,623,518,374,255,132,142,60,89,49,310,182,117,24,247,95,342,56,357,151,47,7,13,21,2],\"colorscale\":[[0.0,\"rgb(0,0,255)\"],[1.0,\"rgb(255,0,0)\"]],\"line\":{\"color\":\"black\",\"width\":1.2},\"showscale\":true,\"size\":[28.6956522,17.4718842,14.357610900000001,18.205906799999998,28.9345143,20.9247042,21.8584404,28.8525192,21.5948922,21.6655023,18.3645192,17.8708947,18.350757899999998],\"sizemin\":2,\"sizeref\":2,\"symbol\":3},\"mode\":\"markers\",\"name\":\"Business\",\"text\":[\"ACTUARIAL SCIENCE\",\"MANAGEMENT INFORMATION SYSTEMS AND STATISTICS\",\"OPERATIONS LOGISTICS AND E-COMMERCE\",\"FINANCE\",\"BUSINESS ECONOMICS\",\"ACCOUNTING\",\"GENERAL BUSINESS\",\"INTERNATIONAL BUSINESS\",\"MISCELLANEOUS BUSINESS & MEDICAL ADMINISTRATION\",\"BUSINESS MANAGEMENT AND ADMINISTRATION\",\"MARKETING AND MARKETING RESEARCH\",\"HUMAN RESOURCES AND PERSONNEL MANAGEMENT\",\"HOSPITALITY MANAGEMENT\"],\"x\":[72000,60000,60000,64000,58000,56000,55000,50000,51000,50000,50000,45000,42000],\"y\":[53000,38000,40000,35000,33000,34000,30000,30000,30000,29000,30000,28000,25000],\"type\":\"scatter\"},{\"marker\":{\"color\":[36,7,3,16,289,17,51,10,1029,631,399,147,79,22,30,55,183,425,26,14,1196,97,22,278,565,295,156,118,55,26,39,30,5,2554,2189,1322,199,73,31,2042,541,425,142,190,158,37,45,3,36,29,67,7,43,25,4,219,2380,362,260,38,90,244,273,158,125,71,11,28,22,24,44,10,4,353,37,4212,2684,1387,179,62,103,174,9,97,78,264,92,81,46,18,8,225,2394,1728,1186,843,427,681,249,246,99,214,118,184,208,180,152,53,128,32,48,4,919,1058,342,184,157,130,123,5,31,63,1370,1024,590,224,546,235,88,126,95,86,156,202,375,338,1436,1629,1014,569,331,113,110,59,2584,419,259,204,623,518,374,255,132,142,60,89,49,310,182,117,24,247,95,342,56,357,151,47,7,13,21,2],\"colorscale\":[[0.0,\"rgb(0,0,255)\"],[1.0,\"rgb(255,0,0)\"]],\"line\":{\"color\":\"black\",\"width\":1.2},\"showscale\":true,\"size\":[22.5530928,20.7529326,20.3882298,26.951048099999998],\"sizemin\":2,\"sizeref\":2,\"symbol\":4},\"mode\":\"markers\",\"name\":\"Communications & Journalism\",\"text\":[\"COMMUNICATIONS\",\"JOURNALISM\",\"ADVERTISING AND PUBLIC RELATIONS\",\"MASS MEDIA\"],\"x\":[45000,42900,47000,45000],\"y\":[27000,26000,27000,25000],\"type\":\"scatter\"},{\"marker\":{\"color\":[36,7,3,16,289,17,51,10,1029,631,399,147,79,22,30,55,183,425,26,14,1196,97,22,278,565,295,156,118,55,26,39,30,5,2554,2189,1322,199,73,31,2042,541,425,142,190,158,37,45,3,36,29,67,7,43,25,4,219,2380,362,260,38,90,244,273,158,125,71,11,28,22,24,44,10,4,353,37,4212,2684,1387,179,62,103,174,9,97,78,264,92,81,46,18,8,225,2394,1728,1186,843,427,681,249,246,99,214,118,184,208,180,152,53,128,32,48,4,919,1058,342,184,157,130,123,5,31,63,1370,1024,590,224,546,235,88,126,95,86,156,202,375,338,1436,1629,1014,569,331,113,110,59,2584,419,259,204,623,518,374,255,132,142,60,89,49,310,182,117,24,247,95,342,56,357,151,47,7,13,21,2],\"colorscale\":[[0.0,\"rgb(0,0,255)\"],[1.0,\"rgb(255,0,0)\"]],\"line\":{\"color\":\"black\",\"width\":1.2},\"showscale\":true,\"size\":[18.951831300000002,14.1831414,28.0380978,18.2224335,25.8820998,27.246992100000003,0.0,34.194777,29.917012500000002,45.5549421,35.8534407],\"sizemin\":2,\"sizeref\":2,\"symbol\":5},\"mode\":\"markers\",\"name\":\"Computers & Mathematics\",\"text\":[\"COMPUTER SCIENCE\",\"MATHEMATICS\",\"COMPUTER AND INFORMATION SYSTEMS\",\"INFORMATION SCIENCES\",\"STATISTICS AND DECISION SCIENCE\",\"APPLIED MATHEMATICS\",\"MATHEMATICS AND COMPUTER SCIENCE\",\"COMPUTER PROGRAMMING AND DATA PROCESSING\",\"COMPUTER ADMINISTRATION MANAGEMENT AND SECURITY\",\"COMPUTER NETWORKING AND TELECOMMUNICATIONS\",\"COMMUNICATION TECHNOLOGIES\"],\"x\":[70000,60000,60000,58000,60000,63000,78000,46000,50000,49000,45000],\"y\":[39000,33000,30000,32500,26700,34000,30000,20000,25000,27000,25000],\"type\":\"scatter\"},{\"marker\":{\"color\":[36,7,3,16,289,17,51,10,1029,631,399,147,79,22,30,55,183,425,26,14,1196,97,22,278,565,295,156,118,55,26,39,30,5,2554,2189,1322,199,73,31,2042,541,425,142,190,158,37,45,3,36,29,67,7,43,25,4,219,2380,362,260,38,90,244,273,158,125,71,11,28,22,24,44,10,4,353,37,4212,2684,1387,179,62,103,174,9,97,78,264,92,81,46,18,8,225,2394,1728,1186,843,427,681,249,246,99,214,118,184,208,180,152,53,128,32,48,4,919,1058,342,184,157,130,123,5,31,63,1370,1024,590,224,546,235,88,126,95,86,156,202,375,338,1436,1629,1014,569,331,113,110,59,2584,419,259,204,623,518,374,255,132,142,60,89,49,310,182,117,24,247,95,342,56,357,151,47,7,13,21,2],\"colorscale\":[[0.0,\"rgb(0,0,255)\"],[1.0,\"rgb(255,0,0)\"]],\"line\":{\"color\":\"black\",\"width\":1.2},\"showscale\":true,\"size\":[32.2738386,12.4523457,17.207978699999998,16.2248823,4.8608505,0.0,15.091930499999998,17.7635853,15.668694,11.5913241,13.9757145,14.1791046,22.4002488,10.963749,12.031494299999999,31.483715399999998],\"sizemin\":2,\"sizeref\":2,\"symbol\":6},\"mode\":\"markers\",\"name\":\"Education\",\"text\":[\"SCHOOL STUDENT COUNSELING\",\"SPECIAL NEEDS EDUCATION\",\"GENERAL EDUCATION\",\"SOCIAL SCIENCE OR HISTORY TEACHER EDUCATION\",\"MATHEMATICS TEACHER EDUCATION\",\"EDUCATIONAL ADMINISTRATION AND SUPERVISION\",\"LANGUAGE AND DRAMA EDUCATION\",\"MISCELLANEOUS EDUCATION\",\"SECONDARY TEACHER EDUCATION\",\"ART AND MUSIC EDUCATION\",\"ELEMENTARY EDUCATION\",\"SCIENCE AND COMPUTER TEACHER EDUCATION\",\"PHYSICAL AND HEALTH EDUCATION TEACHING\",\"TEACHER EDUCATION: MULTIPLE LEVELS\",\"EARLY CHILDHOOD EDUCATION\",\"LIBRARY SCIENCE\"],\"x\":[43000,42000,41000,42000,40000,35000,40000,45000,38000,40000,38000,39000,40000,37000,35000,22000],\"y\":[41000,32000,26000,23050,30000,29000,24000,30000,25000,25000,23400,28000,24000,24000,21000,20000],\"type\":\"scatter\"},{\"marker\":{\"color\":[36,7,3,16,289,17,51,10,1029,631,399,147,79,22,30,55,183,425,26,14,1196,97,22,278,565,295,156,118,55,26,39,30,5,2554,2189,1322,199,73,31,2042,541,425,142,190,158,37,45,3,36,29,67,7,43,25,4,219,2380,362,260,38,90,244,273,158,125,71,11,28,22,24,44,10,4,353,37,4212,2684,1387,179,62,103,174,9,97,78,264,92,81,46,18,8,225,2394,1728,1186,843,427,681,249,246,99,214,118,184,208,180,152,53,128,32,48,4,919,1058,342,184,157,130,123,5,31,63,1370,1024,590,224,546,235,88,126,95,86,156,202,375,338,1436,1629,1014,569,331,113,110,59,2584,419,259,204,623,518,374,255,132,142,60,89,49,310,182,117,24,247,95,342,56,357,151,47,7,13,21,2],\"colorscale\":[[0.0,\"rgb(0,0,255)\"],[1.0,\"rgb(255,0,0)\"]],\"line\":{\"color\":\"black\",\"width\":1.2},\"showscale\":true,\"size\":[5.5141581,35.1724137,7.2289158,15.0375939,18.3293136,53.1679221,17.2026834,17.752153500000002,19.6227825,19.5486255,27.625158000000003,6.9128508,1.9003029,26.1429207,12.8626632,17.9472693,18.5792349,26.2671342,8.3366415,21.1828722,22.3177569,28.076572499999997,16.5091155,22.5114855,8.4924291,10.095498,33.9995847,15.761555999999999,16.9071234],\"sizemin\":2,\"sizeref\":2,\"symbol\":7},\"mode\":\"markers\",\"name\":\"Engineering\",\"text\":[\"PETROLEUM ENGINEERING\",\"MINING AND MINERAL ENGINEERING\",\"METALLURGICAL ENGINEERING\",\"NAVAL ARCHITECTURE AND MARINE ENGINEERING\",\"CHEMICAL ENGINEERING\",\"NUCLEAR ENGINEERING\",\"MECHANICAL ENGINEERING\",\"ELECTRICAL ENGINEERING\",\"COMPUTER ENGINEERING\",\"AEROSPACE ENGINEERING\",\"BIOMEDICAL ENGINEERING\",\"MATERIALS SCIENCE\",\"ENGINEERING MECHANICS PHYSICS AND SCIENCE\",\"BIOLOGICAL ENGINEERING\",\"INDUSTRIAL AND MANUFACTURING ENGINEERING\",\"GENERAL ENGINEERING\",\"ARCHITECTURAL ENGINEERING\",\"ELECTRICAL ENGINEERING TECHNOLOGY\",\"MATERIALS ENGINEERING AND MATERIALS SCIENCE\",\"CIVIL ENGINEERING\",\"MISCELLANEOUS ENGINEERING\",\"ENVIRONMENTAL ENGINEERING\",\"ENGINEERING TECHNOLOGIES\",\"GEOLOGICAL AND GEOPHYSICAL ENGINEERING\",\"INDUSTRIAL PRODUCTION TECHNOLOGIES\",\"ENGINEERING AND INDUSTRIAL MANAGEMENT\",\"ARCHITECTURE\",\"MISCELLANEOUS ENGINEERING TECHNOLOGIES\",\"MECHANICAL ENGINEERING RELATED TECHNOLOGIES\"],\"x\":[125000,90000,105000,80000,75000,102000,70000,72000,75000,70000,70000,65000,74000,76000,67000,69000,65000,60000,62000,60000,65000,56000,60000,57000,65000,50000,50000,56000,52000],\"y\":[95000,55000,50000,43000,50000,50000,48000,45000,45000,42000,36000,39000,25000,40000,37900,36000,38000,35000,35000,40000,39000,42000,43000,42800,35000,30000,31000,30400,27000],\"type\":\"scatter\"},{\"marker\":{\"color\":[36,7,3,16,289,17,51,10,1029,631,399,147,79,22,30,55,183,425,26,14,1196,97,22,278,565,295,156,118,55,26,39,30,5,2554,2189,1322,199,73,31,2042,541,425,142,190,158,37,45,3,36,29,67,7,43,25,4,219,2380,362,260,38,90,244,273,158,125,71,11,28,22,24,44,10,4,353,37,4212,2684,1387,179,62,103,174,9,97,78,264,92,81,46,18,8,225,2394,1728,1186,843,427,681,249,246,99,214,118,184,208,180,152,53,128,32,48,4,919,1058,342,184,157,130,123,5,31,63,1370,1024,590,224,546,235,88,126,95,86,156,202,375,338,1436,1629,1014,569,331,113,110,59,2584,419,259,204,623,518,374,255,132,142,60,89,49,310,182,117,24,247,95,342,56,357,151,47,7,13,21,2],\"colorscale\":[[0.0,\"rgb(0,0,255)\"],[1.0,\"rgb(255,0,0)\"]],\"line\":{\"color\":\"black\",\"width\":1.2},\"showscale\":true,\"size\":[13.4588172,11.094837,12.751958100000001,16.6562481,24.423375,20.6102028,26.8878786,33.6433161,20.933913599999997,17.9463621,24.6304863,14.2752],\"sizemin\":2,\"sizeref\":2,\"symbol\":8},\"mode\":\"markers\",\"name\":\"Health\",\"text\":[\"NURSING\",\"MEDICAL TECHNOLOGIES TECHNICIANS\",\"MEDICAL ASSISTING SERVICES\",\"PHARMACY PHARMACEUTICAL SCIENCES AND ADMINISTRATION\",\"MISCELLANEOUS HEALTH MEDICAL PROFESSIONS\",\"NUTRITION SCIENCES\",\"HEALTH AND MEDICAL ADMINISTRATIVE SERVICES\",\"COMMUNITY AND PUBLIC HEALTH\",\"HEALTH AND MEDICAL PREPARATORY PROGRAMS\",\"TREATMENT THERAPY PROFESSIONS\",\"GENERAL MEDICAL AND HEALTH SERVICES\",\"COMMUNICATION DISORDERS SCIENCES AND SERVICES\"],\"x\":[58000,50000,65000,90000,42000,45000,42000,45000,40000,41000,45000,40000],\"y\":[39000,36000,30000,20000,23000,26000,27000,21000,23000,24000,25000,20000],\"type\":\"scatter\"},{\"marker\":{\"color\":[36,7,3,16,289,17,51,10,1029,631,399,147,79,22,30,55,183,425,26,14,1196,97,22,278,565,295,156,118,55,26,39,30,5,2554,2189,1322,199,73,31,2042,541,425,142,190,158,37,45,3,36,29,67,7,43,25,4,219,2380,362,260,38,90,244,273,158,125,71,11,28,22,24,44,10,4,353,37,4212,2684,1387,179,62,103,174,9,97,78,264,92,81,46,18,8,225,2394,1728,1186,843,427,681,249,246,99,214,118,184,208,180,152,53,128,32,48,4,919,1058,342,184,157,130,123,5,31,63,1370,1024,590,224,546,235,88,126,95,86,156,202,375,338,1436,1629,1014,569,331,113,110,59,2584,419,259,204,623,518,374,255,132,142,60,89,49,310,182,117,24,247,95,342,56,357,151,47,7,13,21,2],\"colorscale\":[[0.0,\"rgb(0,0,255)\"],[1.0,\"rgb(255,0,0)\"]],\"line\":{\"color\":\"black\",\"width\":1.2},\"showscale\":true,\"size\":[14.153846099999999,19.0287867,28.700073600000003,22.6699158,25.0900593,31.330713,28.8155052,26.317077,23.4802776,18.0894852,20.5752213,18.7884891,30.8374713,32.1347178,24.522662099999998],\"sizemin\":2,\"sizeref\":2,\"symbol\":9},\"mode\":\"markers\",\"name\":\"Humanities & Liberal Arts\",\"text\":[\"UNITED STATES HISTORY\",\"AREA ETHNIC AND CIVILIZATION STUDIES\",\"HISTORY\",\"FRENCH GERMAN LATIN AND OTHER COMMON FOREIGN LANGUAGE STUDIES\",\"INTERCULTURAL AND INTERNATIONAL STUDIES\",\"LINGUISTICS AND COMPARATIVE LANGUAGE AND LITERATURE\",\"PHILOSOPHY AND RELIGIOUS STUDIES\",\"ENGLISH LANGUAGE AND LITERATURE\",\"LIBERAL ARTS\",\"ART HISTORY AND CRITICISM\",\"HUMANITIES\",\"THEOLOGY AND RELIGIOUS VOCATIONS\",\"ANTHROPOLOGY AND ARCHEOLOGY\",\"OTHER FOREIGN LANGUAGES\",\"COMPOSITION AND RHETORIC\"],\"x\":[42000,44000,47000,45000,45000,40000,47100,41000,42000,40000,49000,38000,38000,38000,35000],\"y\":[30000,24500,25000,25000,24000,25000,23000,23000,25000,23000,20000,22000,20000,22900,20000],\"type\":\"scatter\"},{\"marker\":{\"color\":[36,7,3,16,289,17,51,10,1029,631,399,147,79,22,30,55,183,425,26,14,1196,97,22,278,565,295,156,118,55,26,39,30,5,2554,2189,1322,199,73,31,2042,541,425,142,190,158,37,45,3,36,29,67,7,43,25,4,219,2380,362,260,38,90,244,273,158,125,71,11,28,22,24,44,10,4,353,37,4212,2684,1387,179,62,103,174,9,97,78,264,92,81,46,18,8,225,2394,1728,1186,843,427,681,249,246,99,214,118,184,208,180,152,53,128,32,48,4,919,1058,342,184,157,130,123,5,31,63,1370,1024,590,224,546,235,88,126,95,86,156,202,375,338,1436,1629,1014,569,331,113,110,59,2584,419,259,204,623,518,374,255,132,142,60,89,49,310,182,117,24,247,95,342,56,357,151,47,7,13,21,2],\"colorscale\":[[0.0,\"rgb(0,0,255)\"],[1.0,\"rgb(255,0,0)\"]],\"line\":{\"color\":\"black\",\"width\":1.2},\"showscale\":true,\"size\":[18.0069123,0.0,8.8438509,21.8173572,15.4401819,20.138458200000002,16.7030568],\"sizemin\":2,\"sizeref\":2,\"symbol\":10},\"mode\":\"markers\",\"name\":\"Industrial Arts & Consumer Services\",\"text\":[\"CONSTRUCTION SERVICES\",\"MILITARY TECHNOLOGIES\",\"ELECTRICAL, MECHANICAL, AND PRECISION TECHNOLOGIES AND PRODUCTION\",\"TRANSPORTATION SCIENCES AND TECHNOLOGIES\",\"PHYSICAL FITNESS PARKS RECREATION AND LEISURE\",\"FAMILY AND CONSUMER SCIENCES\",\"COSMETOLOGY SERVICES AND CULINARY ARTS\"],\"x\":[60000,40000,45000,52000,43000,40000,36000],\"y\":[36000,40000,22500,22000,24000,22900,20000],\"type\":\"scatter\"},{\"marker\":{\"color\":[36,7,3,16,289,17,51,10,1029,631,399,147,79,22,30,55,183,425,26,14,1196,97,22,278,565,295,156,118,55,26,39,30,5,2554,2189,1322,199,73,31,2042,541,425,142,190,158,37,45,3,36,29,67,7,43,25,4,219,2380,362,260,38,90,244,273,158,125,71,11,28,22,24,44,10,4,353,37,4212,2684,1387,179,62,103,174,9,97,78,264,92,81,46,18,8,225,2394,1728,1186,843,427,681,249,246,99,214,118,184,208,180,152,53,128,32,48,4,919,1058,342,184,157,130,123,5,31,63,1370,1024,590,224,546,235,88,126,95,86,156,202,375,338,1436,1629,1014,569,331,113,110,59,2584,419,259,204,623,518,374,255,132,142,60,89,49,310,182,117,24,247,95,342,56,357,151,47,7,13,21,2],\"colorscale\":[[0.0,\"rgb(0,0,255)\"],[1.0,\"rgb(255,0,0)\"]],\"line\":{\"color\":\"black\",\"width\":1.2},\"showscale\":true,\"size\":[21.258278100000002],\"sizemin\":2,\"sizeref\":2,\"symbol\":11},\"mode\":\"markers\",\"name\":\"Interdisciplinary\",\"text\":[\"MULTI/INTERDISCIPLINARY STUDIES\"],\"x\":[44000],\"y\":[25000],\"type\":\"scatter\"},{\"marker\":{\"color\":[36,7,3,16,289,17,51,10,1029,631,399,147,79,22,30,55,183,425,26,14,1196,97,22,278,565,295,156,118,55,26,39,30,5,2554,2189,1322,199,73,31,2042,541,425,142,190,158,37,45,3,36,29,67,7,43,25,4,219,2380,362,260,38,90,244,273,158,125,71,11,28,22,24,44,10,4,353,37,4212,2684,1387,179,62,103,174,9,97,78,264,92,81,46,18,8,225,2394,1728,1186,843,427,681,249,246,99,214,118,184,208,180,152,53,128,32,48,4,919,1058,342,184,157,130,123,5,31,63,1370,1024,590,224,546,235,88,126,95,86,156,202,375,338,1436,1629,1014,569,331,113,110,59,2584,419,259,204,623,518,374,255,132,142,60,89,49,310,182,117,24,247,95,342,56,357,151,47,7,13,21,2],\"colorscale\":[[0.0,\"rgb(0,0,255)\"],[1.0,\"rgb(255,0,0)\"]],\"line\":{\"color\":\"black\",\"width\":1.2},\"showscale\":true,\"size\":[3.5069076,38.527889699999996,21.5895048,47.84718,24.7356597],\"sizemin\":2,\"sizeref\":2,\"symbol\":12},\"mode\":\"markers\",\"name\":\"Law & Public Policy\",\"text\":[\"COURT REPORTING\",\"PUBLIC POLICY\",\"PRE-LAW AND LEGAL STUDIES\",\"PUBLIC ADMINISTRATION\",\"CRIMINAL JUSTICE AND FIRE PROTECTION\"],\"x\":[54000,70000,46000,60000,45000],\"y\":[50000,35000,29200,23000,26000],\"type\":\"scatter\"},{\"marker\":{\"color\":[36,7,3,16,289,17,51,10,1029,631,399,147,79,22,30,55,183,425,26,14,1196,97,22,278,565,295,156,118,55,26,39,30,5,2554,2189,1322,199,73,31,2042,541,425,142,190,158,37,45,3,36,29,67,7,43,25,4,219,2380,362,260,38,90,244,273,158,125,71,11,28,22,24,44,10,4,353,37,4212,2684,1387,179,62,103,174,9,97,78,264,92,81,46,18,8,225,2394,1728,1186,843,427,681,249,246,99,214,118,184,208,180,152,53,128,32,48,4,919,1058,342,184,157,130,123,5,31,63,1370,1024,590,224,546,235,88,126,95,86,156,202,375,338,1436,1629,1014,569,331,113,110,59,2584,419,259,204,623,518,374,255,132,142,60,89,49,310,182,117,24,247,95,342,56,357,151,47,7,13,21,2],\"colorscale\":[[0.0,\"rgb(0,0,255)\"],[1.0,\"rgb(255,0,0)\"]],\"line\":{\"color\":\"black\",\"width\":1.2},\"showscale\":true,\"size\":[6.3502244999999995,21.462141,14.4673488,17.0984457,10.6060605,16.19172,22.634570399999998,7.3121193,16.742044500000002,6.6685665],\"sizemin\":2,\"sizeref\":2,\"symbol\":13},\"mode\":\"markers\",\"name\":\"Physical Sciences\",\"text\":[\"ASTRONOMY AND ASTROPHYSICS\",\"NUCLEAR, INDUSTRIAL RADIOLOGY, AND BIOLOGICAL TECHNOLOGIES\",\"PHYSICS\",\"OCEANOGRAPHY\",\"PHYSICAL SCIENCES\",\"CHEMISTRY\",\"GEOLOGY AND EARTH SCIENCE\",\"GEOSCIENCES\",\"MULTI-DISCIPLINARY OR GENERAL SCIENCE\",\"ATMOSPHERIC SCIENCES AND METEOROLOGY\"],\"x\":[109000,53000,68000,50000,55000,49900,47000,41000,50000,50000],\"y\":[31500,38000,30000,23000,30000,30000,28000,21000,24000,28000],\"type\":\"scatter\"},{\"marker\":{\"color\":[36,7,3,16,289,17,51,10,1029,631,399,147,79,22,30,55,183,425,26,14,1196,97,22,278,565,295,156,118,55,26,39,30,5,2554,2189,1322,199,73,31,2042,541,425,142,190,158,37,45,3,36,29,67,7,43,25,4,219,2380,362,260,38,90,244,273,158,125,71,11,28,22,24,44,10,4,353,37,4212,2684,1387,179,62,103,174,9,97,78,264,92,81,46,18,8,225,2394,1728,1186,843,427,681,249,246,99,214,118,184,208,180,152,53,128,32,48,4,919,1058,342,184,157,130,123,5,31,63,1370,1024,590,224,546,235,88,126,95,86,156,202,375,338,1436,1629,1014,569,331,113,110,59,2584,419,259,204,623,518,374,255,132,142,60,89,49,310,182,117,24,247,95,342,56,357,151,47,7,13,21,2],\"colorscale\":[[0.0,\"rgb(0,0,255)\"],[1.0,\"rgb(255,0,0)\"]],\"line\":{\"color\":\"black\",\"width\":1.2},\"showscale\":true,\"size\":[32.6359833,8.8948788,25.1432601,20.648376,15.572349,11.3457078,19.5336561,44.714459399999996,16.0861938],\"sizemin\":2,\"sizeref\":2,\"symbol\":14},\"mode\":\"markers\",\"name\":\"Psychology & Social Work\",\"text\":[\"INDUSTRIAL AND ORGANIZATIONAL PSYCHOLOGY\",\"SOCIAL PSYCHOLOGY\",\"PSYCHOLOGY\",\"SOCIAL WORK\",\"MISCELLANEOUS PSYCHOLOGY\",\"HUMAN SERVICES AND COMMUNITY ORGANIZATION\",\"EDUCATIONAL PSYCHOLOGY\",\"CLINICAL PSYCHOLOGY\",\"COUNSELING PSYCHOLOGY\"],\"x\":[53000,45000,41000,35000,40000,35000,34000,40000,26000],\"y\":[32000,34000,24000,25000,20800,24000,24000,25000,19200],\"type\":\"scatter\"},{\"marker\":{\"color\":[36,7,3,16,289,17,51,10,1029,631,399,147,79,22,30,55,183,425,26,14,1196,97,22,278,565,295,156,118,55,26,39,30,5,2554,2189,1322,199,73,31,2042,541,425,142,190,158,37,45,3,36,29,67,7,43,25,4,219,2380,362,260,38,90,244,273,158,125,71,11,28,22,24,44,10,4,353,37,4212,2684,1387,179,62,103,174,9,97,78,264,92,81,46,18,8,225,2394,1728,1186,843,427,681,249,246,99,214,118,184,208,180,152,53,128,32,48,4,919,1058,342,184,157,130,123,5,31,63,1370,1024,590,224,546,235,88,126,95,86,156,202,375,338,1436,1629,1014,569,331,113,110,59,2584,419,259,204,623,518,374,255,132,142,60,89,49,310,182,117,24,247,95,342,56,357,151,47,7,13,21,2],\"colorscale\":[[0.0,\"rgb(0,0,255)\"],[1.0,\"rgb(255,0,0)\"]],\"line\":{\"color\":\"black\",\"width\":1.2},\"showscale\":true,\"size\":[29.7276951,29.0396829,21.9238614,30.3523803,34.037588400000004,29.173175699999998,25.4853003,27.6917448,31.0364145],\"sizemin\":2,\"sizeref\":2,\"symbol\":15},\"mode\":\"markers\",\"name\":\"Social Science\",\"text\":[\"ECONOMICS\",\"INTERNATIONAL RELATIONS\",\"MISCELLANEOUS SOCIAL SCIENCES\",\"POLITICAL SCIENCE AND GOVERNMENT\",\"GEOGRAPHY\",\"CRIMINOLOGY\",\"SOCIOLOGY\",\"INTERDISCIPLINARY SOCIAL SCIENCES\",\"GENERAL SOCIAL SCIENCES\"],\"x\":[65000,53000,54000,50000,50000,45000,44000,40000,50000],\"y\":[35000,31200,30000,28000,30000,25000,25000,24000,27000],\"type\":\"scatter\"}],                        {\"height\":1200,\"legend\":{\"x\":1.2},\"margin\":{\"r\":20},\"template\":{\"data\":{\"barpolar\":[{\"marker\":{\"line\":{\"color\":\"#E5ECF6\",\"width\":0.5},\"pattern\":{\"fillmode\":\"overlay\",\"size\":10,\"solidity\":0.2}},\"type\":\"barpolar\"}],\"bar\":[{\"error_x\":{\"color\":\"#2a3f5f\"},\"error_y\":{\"color\":\"#2a3f5f\"},\"marker\":{\"line\":{\"color\":\"#E5ECF6\",\"width\":0.5},\"pattern\":{\"fillmode\":\"overlay\",\"size\":10,\"solidity\":0.2}},\"type\":\"bar\"}],\"carpet\":[{\"aaxis\":{\"endlinecolor\":\"#2a3f5f\",\"gridcolor\":\"white\",\"linecolor\":\"white\",\"minorgridcolor\":\"white\",\"startlinecolor\":\"#2a3f5f\"},\"baxis\":{\"endlinecolor\":\"#2a3f5f\",\"gridcolor\":\"white\",\"linecolor\":\"white\",\"minorgridcolor\":\"white\",\"startlinecolor\":\"#2a3f5f\"},\"type\":\"carpet\"}],\"choropleth\":[{\"colorbar\":{\"outlinewidth\":0,\"ticks\":\"\"},\"type\":\"choropleth\"}],\"contourcarpet\":[{\"colorbar\":{\"outlinewidth\":0,\"ticks\":\"\"},\"type\":\"contourcarpet\"}],\"contour\":[{\"colorbar\":{\"outlinewidth\":0,\"ticks\":\"\"},\"colorscale\":[[0.0,\"#0d0887\"],[0.1111111111111111,\"#46039f\"],[0.2222222222222222,\"#7201a8\"],[0.3333333333333333,\"#9c179e\"],[0.4444444444444444,\"#bd3786\"],[0.5555555555555556,\"#d8576b\"],[0.6666666666666666,\"#ed7953\"],[0.7777777777777778,\"#fb9f3a\"],[0.8888888888888888,\"#fdca26\"],[1.0,\"#f0f921\"]],\"type\":\"contour\"}],\"heatmapgl\":[{\"colorbar\":{\"outlinewidth\":0,\"ticks\":\"\"},\"colorscale\":[[0.0,\"#0d0887\"],[0.1111111111111111,\"#46039f\"],[0.2222222222222222,\"#7201a8\"],[0.3333333333333333,\"#9c179e\"],[0.4444444444444444,\"#bd3786\"],[0.5555555555555556,\"#d8576b\"],[0.6666666666666666,\"#ed7953\"],[0.7777777777777778,\"#fb9f3a\"],[0.8888888888888888,\"#fdca26\"],[1.0,\"#f0f921\"]],\"type\":\"heatmapgl\"}],\"heatmap\":[{\"colorbar\":{\"outlinewidth\":0,\"ticks\":\"\"},\"colorscale\":[[0.0,\"#0d0887\"],[0.1111111111111111,\"#46039f\"],[0.2222222222222222,\"#7201a8\"],[0.3333333333333333,\"#9c179e\"],[0.4444444444444444,\"#bd3786\"],[0.5555555555555556,\"#d8576b\"],[0.6666666666666666,\"#ed7953\"],[0.7777777777777778,\"#fb9f3a\"],[0.8888888888888888,\"#fdca26\"],[1.0,\"#f0f921\"]],\"type\":\"heatmap\"}],\"histogram2dcontour\":[{\"colorbar\":{\"outlinewidth\":0,\"ticks\":\"\"},\"colorscale\":[[0.0,\"#0d0887\"],[0.1111111111111111,\"#46039f\"],[0.2222222222222222,\"#7201a8\"],[0.3333333333333333,\"#9c179e\"],[0.4444444444444444,\"#bd3786\"],[0.5555555555555556,\"#d8576b\"],[0.6666666666666666,\"#ed7953\"],[0.7777777777777778,\"#fb9f3a\"],[0.8888888888888888,\"#fdca26\"],[1.0,\"#f0f921\"]],\"type\":\"histogram2dcontour\"}],\"histogram2d\":[{\"colorbar\":{\"outlinewidth\":0,\"ticks\":\"\"},\"colorscale\":[[0.0,\"#0d0887\"],[0.1111111111111111,\"#46039f\"],[0.2222222222222222,\"#7201a8\"],[0.3333333333333333,\"#9c179e\"],[0.4444444444444444,\"#bd3786\"],[0.5555555555555556,\"#d8576b\"],[0.6666666666666666,\"#ed7953\"],[0.7777777777777778,\"#fb9f3a\"],[0.8888888888888888,\"#fdca26\"],[1.0,\"#f0f921\"]],\"type\":\"histogram2d\"}],\"histogram\":[{\"marker\":{\"pattern\":{\"fillmode\":\"overlay\",\"size\":10,\"solidity\":0.2}},\"type\":\"histogram\"}],\"mesh3d\":[{\"colorbar\":{\"outlinewidth\":0,\"ticks\":\"\"},\"type\":\"mesh3d\"}],\"parcoords\":[{\"line\":{\"colorbar\":{\"outlinewidth\":0,\"ticks\":\"\"}},\"type\":\"parcoords\"}],\"pie\":[{\"automargin\":true,\"type\":\"pie\"}],\"scatter3d\":[{\"line\":{\"colorbar\":{\"outlinewidth\":0,\"ticks\":\"\"}},\"marker\":{\"colorbar\":{\"outlinewidth\":0,\"ticks\":\"\"}},\"type\":\"scatter3d\"}],\"scattercarpet\":[{\"marker\":{\"colorbar\":{\"outlinewidth\":0,\"ticks\":\"\"}},\"type\":\"scattercarpet\"}],\"scattergeo\":[{\"marker\":{\"colorbar\":{\"outlinewidth\":0,\"ticks\":\"\"}},\"type\":\"scattergeo\"}],\"scattergl\":[{\"marker\":{\"colorbar\":{\"outlinewidth\":0,\"ticks\":\"\"}},\"type\":\"scattergl\"}],\"scattermapbox\":[{\"marker\":{\"colorbar\":{\"outlinewidth\":0,\"ticks\":\"\"}},\"type\":\"scattermapbox\"}],\"scatterpolargl\":[{\"marker\":{\"colorbar\":{\"outlinewidth\":0,\"ticks\":\"\"}},\"type\":\"scatterpolargl\"}],\"scatterpolar\":[{\"marker\":{\"colorbar\":{\"outlinewidth\":0,\"ticks\":\"\"}},\"type\":\"scatterpolar\"}],\"scatter\":[{\"fillpattern\":{\"fillmode\":\"overlay\",\"size\":10,\"solidity\":0.2},\"type\":\"scatter\"}],\"scatterternary\":[{\"marker\":{\"colorbar\":{\"outlinewidth\":0,\"ticks\":\"\"}},\"type\":\"scatterternary\"}],\"surface\":[{\"colorbar\":{\"outlinewidth\":0,\"ticks\":\"\"},\"colorscale\":[[0.0,\"#0d0887\"],[0.1111111111111111,\"#46039f\"],[0.2222222222222222,\"#7201a8\"],[0.3333333333333333,\"#9c179e\"],[0.4444444444444444,\"#bd3786\"],[0.5555555555555556,\"#d8576b\"],[0.6666666666666666,\"#ed7953\"],[0.7777777777777778,\"#fb9f3a\"],[0.8888888888888888,\"#fdca26\"],[1.0,\"#f0f921\"]],\"type\":\"surface\"}],\"table\":[{\"cells\":{\"fill\":{\"color\":\"#EBF0F8\"},\"line\":{\"color\":\"white\"}},\"header\":{\"fill\":{\"color\":\"#C8D4E3\"},\"line\":{\"color\":\"white\"}},\"type\":\"table\"}]},\"layout\":{\"annotationdefaults\":{\"arrowcolor\":\"#2a3f5f\",\"arrowhead\":0,\"arrowwidth\":1},\"autotypenumbers\":\"strict\",\"coloraxis\":{\"colorbar\":{\"outlinewidth\":0,\"ticks\":\"\"}},\"colorscale\":{\"diverging\":[[0,\"#8e0152\"],[0.1,\"#c51b7d\"],[0.2,\"#de77ae\"],[0.3,\"#f1b6da\"],[0.4,\"#fde0ef\"],[0.5,\"#f7f7f7\"],[0.6,\"#e6f5d0\"],[0.7,\"#b8e186\"],[0.8,\"#7fbc41\"],[0.9,\"#4d9221\"],[1,\"#276419\"]],\"sequential\":[[0.0,\"#0d0887\"],[0.1111111111111111,\"#46039f\"],[0.2222222222222222,\"#7201a8\"],[0.3333333333333333,\"#9c179e\"],[0.4444444444444444,\"#bd3786\"],[0.5555555555555556,\"#d8576b\"],[0.6666666666666666,\"#ed7953\"],[0.7777777777777778,\"#fb9f3a\"],[0.8888888888888888,\"#fdca26\"],[1.0,\"#f0f921\"]],\"sequentialminus\":[[0.0,\"#0d0887\"],[0.1111111111111111,\"#46039f\"],[0.2222222222222222,\"#7201a8\"],[0.3333333333333333,\"#9c179e\"],[0.4444444444444444,\"#bd3786\"],[0.5555555555555556,\"#d8576b\"],[0.6666666666666666,\"#ed7953\"],[0.7777777777777778,\"#fb9f3a\"],[0.8888888888888888,\"#fdca26\"],[1.0,\"#f0f921\"]]},\"colorway\":[\"#636efa\",\"#EF553B\",\"#00cc96\",\"#ab63fa\",\"#FFA15A\",\"#19d3f3\",\"#FF6692\",\"#B6E880\",\"#FF97FF\",\"#FECB52\"],\"font\":{\"color\":\"#2a3f5f\"},\"geo\":{\"bgcolor\":\"white\",\"lakecolor\":\"white\",\"landcolor\":\"#E5ECF6\",\"showlakes\":true,\"showland\":true,\"subunitcolor\":\"white\"},\"hoverlabel\":{\"align\":\"left\"},\"hovermode\":\"closest\",\"mapbox\":{\"style\":\"light\"},\"paper_bgcolor\":\"white\",\"plot_bgcolor\":\"#E5ECF6\",\"polar\":{\"angularaxis\":{\"gridcolor\":\"white\",\"linecolor\":\"white\",\"ticks\":\"\"},\"bgcolor\":\"#E5ECF6\",\"radialaxis\":{\"gridcolor\":\"white\",\"linecolor\":\"white\",\"ticks\":\"\"}},\"scene\":{\"xaxis\":{\"backgroundcolor\":\"#E5ECF6\",\"gridcolor\":\"white\",\"gridwidth\":2,\"linecolor\":\"white\",\"showbackground\":true,\"ticks\":\"\",\"zerolinecolor\":\"white\"},\"yaxis\":{\"backgroundcolor\":\"#E5ECF6\",\"gridcolor\":\"white\",\"gridwidth\":2,\"linecolor\":\"white\",\"showbackground\":true,\"ticks\":\"\",\"zerolinecolor\":\"white\"},\"zaxis\":{\"backgroundcolor\":\"#E5ECF6\",\"gridcolor\":\"white\",\"gridwidth\":2,\"linecolor\":\"white\",\"showbackground\":true,\"ticks\":\"\",\"zerolinecolor\":\"white\"}},\"shapedefaults\":{\"line\":{\"color\":\"#2a3f5f\"}},\"ternary\":{\"aaxis\":{\"gridcolor\":\"white\",\"linecolor\":\"white\",\"ticks\":\"\"},\"baxis\":{\"gridcolor\":\"white\",\"linecolor\":\"white\",\"ticks\":\"\"},\"bgcolor\":\"#E5ECF6\",\"caxis\":{\"gridcolor\":\"white\",\"linecolor\":\"white\",\"ticks\":\"\"}},\"title\":{\"x\":0.05},\"xaxis\":{\"automargin\":true,\"gridcolor\":\"white\",\"linecolor\":\"white\",\"ticks\":\"\",\"title\":{\"standoff\":15},\"zerolinecolor\":\"white\",\"zerolinewidth\":2},\"yaxis\":{\"automargin\":true,\"gridcolor\":\"white\",\"linecolor\":\"white\",\"ticks\":\"\",\"title\":{\"standoff\":15},\"zerolinecolor\":\"white\",\"zerolinewidth\":2}}},\"title\":{\"text\":\"P25th vs P75th wage percentile Colored by Sample size, Sized by Unemployment Rate, and Shaped by Major Category\"},\"width\":1200,\"xaxis\":{\"title\":{\"text\":\"75th Wage Percentile\"},\"type\":\"log\"},\"yaxis\":{\"title\":{\"text\":\"25th Wage Percentile\"}}},                        {\"responsive\": true}                    ).then(function(){\n",
       "                            \n",
       "var gd = document.getElementById('8f4f6bef-cb31-4185-8899-b48866cc259a');\n",
       "var x = new MutationObserver(function (mutations, observer) {{\n",
       "        var display = window.getComputedStyle(gd).display;\n",
       "        if (!display || display === 'none') {{\n",
       "            console.log([gd, 'removed!']);\n",
       "            Plotly.purge(gd);\n",
       "            observer.disconnect();\n",
       "        }}\n",
       "}});\n",
       "\n",
       "// Listen for the removal of the full notebook cells\n",
       "var notebookContainer = gd.closest('#notebook-container');\n",
       "if (notebookContainer) {{\n",
       "    x.observe(notebookContainer, {childList: true});\n",
       "}}\n",
       "\n",
       "// Listen for the clearing of the current output cell\n",
       "var outputEl = gd.closest('.output');\n",
       "if (outputEl) {{\n",
       "    x.observe(outputEl, {childList: true});\n",
       "}}\n",
       "\n",
       "                        })                };                });            </script>        </div>"
      ]
     },
     "metadata": {},
     "output_type": "display_data"
    }
   ],
   "source": [
    "#print(df.head())\n",
    "#Rank,Major_code,Major,Total,Major_category,ShareWomen,Sample_size,Employed,\n",
    "# #Full_time,Part_time,Full_time_year_round,Unemployed,Unemployment_rate,Median,P25th,P75th,College_jobs,Non_college_jobs,Low_wage_jobs\n",
    "data = [\n",
    "    go.Scatter(\n",
    "        x=grouped[\"P75th\"],#grouped[\"word_count\"],\n",
    "        y=grouped[\"P25th\"],#[\"reads\"]\n",
    "        text=grouped[\"Major\"],#\"title\"]\n",
    "        mode=\"markers\",\n",
    "        name=name,\n",
    "        marker=dict(\n",
    "            symbol=i,\n",
    "            sizemin=2,\n",
    "            sizeref=2,\n",
    "            size=300*grouped[\"Unemployment_rate\"],#[\"read_ratio\"],\n",
    "            colorscale=\"BlueRed\",\n",
    "            showscale=True,\n",
    "            color=df[\"Sample_size\"],#[\"read_time\"]\n",
    "            line=dict(color=\"black\", width=1.2),\n",
    "        ),\n",
    "    )\n",
    "    for i, (name, grouped) in enumerate(df.groupby(\"Major_category\"))#groupby(\"publication\")\n",
    "]\n",
    "\n",
    "figure = go.Figure(\n",
    "    data=data,\n",
    "    layout=go.Layout(\n",
    "        legend=dict(x=1.2),\n",
    "        width=1200,\n",
    "        height = 1200,\n",
    "        margin=dict(r=20),\n",
    "        xaxis=dict(type=\"log\", title=\"75th Wage Percentile\"),\n",
    "        yaxis=dict(title=\"25th Wage Percentile\"),\n",
    "        title=\"P25th vs P75th wage percentile Colored by Sample size, Sized by Unemployment Rate, and Shaped by Major Category\",\n",
    "    ),\n",
    ")\n",
    "\n",
    "iplot(figure)"
   ]
  },
  {
   "cell_type": "code",
   "execution_count": null,
   "metadata": {},
   "outputs": [],
   "source": []
  }
 ],
 "metadata": {
  "interpreter": {
   "hash": "0cdbdca5c7f41f28c9d8a3c67989b6ee8f9d9b179b3eee48c790fa4d2a0431fb"
  },
  "kernelspec": {
   "display_name": "Python 3.7.3 64-bit ('base': conda)",
   "language": "python",
   "name": "python3"
  },
  "language_info": {
   "codemirror_mode": {
    "name": "ipython",
    "version": 3
   },
   "file_extension": ".py",
   "mimetype": "text/x-python",
   "name": "python",
   "nbconvert_exporter": "python",
   "pygments_lexer": "ipython3",
   "version": "3.10.0"
  },
  "orig_nbformat": 4
 },
 "nbformat": 4,
 "nbformat_minor": 2
}
