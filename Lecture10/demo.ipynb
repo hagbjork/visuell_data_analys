{
 "cells": [
  {
   "cell_type": "code",
   "execution_count": null,
   "metadata": {},
   "outputs": [],
   "source": [
    "import plotly.graph_objs as go\n",
    "import chart_studio.plotly as py\n",
    "import cufflinks\n",
    "import pandas as pd"
   ]
  }
 ],
 "metadata": {
  "interpreter": {
   "hash": "320e7767c1eca5bde308d3d7dc08623cfc4b8947246db7fb8a9a1fd535dde0f6"
  },
  "kernelspec": {
   "display_name": "Python 3.10.0 ('visuell_env')",
   "language": "python",
   "name": "python3"
  },
  "language_info": {
   "name": "python",
   "version": "3.10.0"
  },
  "orig_nbformat": 4
 },
 "nbformat": 4,
 "nbformat_minor": 2
}
