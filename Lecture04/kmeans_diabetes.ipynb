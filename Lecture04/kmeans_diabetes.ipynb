{
 "cells": [
  {
   "cell_type": "code",
   "execution_count": 10,
   "metadata": {},
   "outputs": [],
   "source": [
    "import numpy as np\n",
    "import matplotlib.pyplot as plt\n",
    "from sklearn.cluster import KMeans\n",
    "from sklearn import metrics\n",
    "import pandas as pd"
   ]
  },
  {
   "cell_type": "code",
   "execution_count": 11,
   "metadata": {},
   "outputs": [
    {
     "data": {
      "text/html": [
       "<div>\n",
       "<style scoped>\n",
       "    .dataframe tbody tr th:only-of-type {\n",
       "        vertical-align: middle;\n",
       "    }\n",
       "\n",
       "    .dataframe tbody tr th {\n",
       "        vertical-align: top;\n",
       "    }\n",
       "\n",
       "    .dataframe thead th {\n",
       "        text-align: right;\n",
       "    }\n",
       "</style>\n",
       "<table border=\"1\" class=\"dataframe\">\n",
       "  <thead>\n",
       "    <tr style=\"text-align: right;\">\n",
       "      <th></th>\n",
       "      <th>Pregnancies</th>\n",
       "      <th>Glucose</th>\n",
       "      <th>BloodPressure</th>\n",
       "      <th>SkinThickness</th>\n",
       "      <th>Insulin</th>\n",
       "      <th>BMI</th>\n",
       "      <th>DiabetesPedigreeFunction</th>\n",
       "      <th>Age</th>\n",
       "      <th>Outcome</th>\n",
       "    </tr>\n",
       "  </thead>\n",
       "  <tbody>\n",
       "    <tr>\n",
       "      <th>0</th>\n",
       "      <td>6</td>\n",
       "      <td>148</td>\n",
       "      <td>72</td>\n",
       "      <td>35</td>\n",
       "      <td>0</td>\n",
       "      <td>33.6</td>\n",
       "      <td>0.627</td>\n",
       "      <td>50</td>\n",
       "      <td>1</td>\n",
       "    </tr>\n",
       "    <tr>\n",
       "      <th>1</th>\n",
       "      <td>1</td>\n",
       "      <td>85</td>\n",
       "      <td>66</td>\n",
       "      <td>29</td>\n",
       "      <td>0</td>\n",
       "      <td>26.6</td>\n",
       "      <td>0.351</td>\n",
       "      <td>31</td>\n",
       "      <td>0</td>\n",
       "    </tr>\n",
       "    <tr>\n",
       "      <th>2</th>\n",
       "      <td>8</td>\n",
       "      <td>183</td>\n",
       "      <td>64</td>\n",
       "      <td>0</td>\n",
       "      <td>0</td>\n",
       "      <td>23.3</td>\n",
       "      <td>0.672</td>\n",
       "      <td>32</td>\n",
       "      <td>1</td>\n",
       "    </tr>\n",
       "    <tr>\n",
       "      <th>3</th>\n",
       "      <td>1</td>\n",
       "      <td>89</td>\n",
       "      <td>66</td>\n",
       "      <td>23</td>\n",
       "      <td>94</td>\n",
       "      <td>28.1</td>\n",
       "      <td>0.167</td>\n",
       "      <td>21</td>\n",
       "      <td>0</td>\n",
       "    </tr>\n",
       "    <tr>\n",
       "      <th>4</th>\n",
       "      <td>0</td>\n",
       "      <td>137</td>\n",
       "      <td>40</td>\n",
       "      <td>35</td>\n",
       "      <td>168</td>\n",
       "      <td>43.1</td>\n",
       "      <td>2.288</td>\n",
       "      <td>33</td>\n",
       "      <td>1</td>\n",
       "    </tr>\n",
       "  </tbody>\n",
       "</table>\n",
       "</div>"
      ],
      "text/plain": [
       "   Pregnancies  Glucose  BloodPressure  SkinThickness  Insulin   BMI  \\\n",
       "0            6      148             72             35        0  33.6   \n",
       "1            1       85             66             29        0  26.6   \n",
       "2            8      183             64              0        0  23.3   \n",
       "3            1       89             66             23       94  28.1   \n",
       "4            0      137             40             35      168  43.1   \n",
       "\n",
       "   DiabetesPedigreeFunction  Age  Outcome  \n",
       "0                     0.627   50        1  \n",
       "1                     0.351   31        0  \n",
       "2                     0.672   32        1  \n",
       "3                     0.167   21        0  \n",
       "4                     2.288   33        1  "
      ]
     },
     "execution_count": 11,
     "metadata": {},
     "output_type": "execute_result"
    }
   ],
   "source": [
    "data = pd.read_csv(\"diabetes.csv\")\n",
    "data.head()"
   ]
  },
  {
   "cell_type": "code",
   "execution_count": 12,
   "metadata": {},
   "outputs": [
    {
     "data": {
      "text/plain": [
       "0    500\n",
       "1    268\n",
       "Name: Outcome, dtype: int64"
      ]
     },
     "execution_count": 12,
     "metadata": {},
     "output_type": "execute_result"
    }
   ],
   "source": [
    "labels = data.pop(\"Outcome\")\n",
    "\n",
    "# Analysera distribution\n",
    "labels.value_counts()"
   ]
  },
  {
   "cell_type": "code",
   "execution_count": 13,
   "metadata": {},
   "outputs": [],
   "source": [
    "# Standardisera datasetet. Kan också använda scikit-learn\n",
    "data = (data-data.mean())/data.std()"
   ]
  },
  {
   "cell_type": "code",
   "execution_count": 14,
   "metadata": {},
   "outputs": [
    {
     "name": "stdout",
     "output_type": "stream",
     "text": [
      "[1 0 1 0 2 0 0 0 2 1 1 1 1 2 1 0 2 1 0 2 2 1 1 1 1 1 1 0 1 1 1 2 0 0 1 2 1\n",
      " 1 0 2 2 1 1 1 1 2 0 0 1 0 0 0 0 1 2 0 2 2 2 2 0 1 0 2 1 0 2 1 0 2 0 2 1 2\n",
      " 0 0 1 0 0 0 0 0 1 0 1 2 1 0 1 0 0 2 1 1 0 2 0 0 0 2 2 0 0 0 0 2 0 2 0 0 2\n",
      " 2 0 0 2 1 1 0 0 0 2 0 0 1 0 2 2 0 2 1 2 1 2 1 0 0 0 0 0 2 1 1 0 1 2 0 1 2\n",
      " 1 0 2 0 1 2 1 2 0 0 0 1 1 1 2 0 0 1 0 0 0 0 1 2 0 2 0 2 1 2 1 1 0 0 0 0 1\n",
      " 1 2 2 2 2 0 1 1 1 1 2 0 0 2 2 0 0 0 0 1 0 1 1 0 1 0 2 1 2 1 2 2 2 0 1 2 1\n",
      " 0 1 0 0 0 2 2 2 1 2 0 0 0 1 1 2 1 0 0 0 0 2 2 1 1 2 2 0 1 0 0 0 1 0 0 0 2\n",
      " 1 2 0 0 1 0 1 0 2 0 0 1 0 0 0 1 2 0 0 1 0 0 1 1 1 1 1 2 2 0 2 0 2 2 2 1 2\n",
      " 2 2 1 1 0 2 0 1 0 2 1 0 2 2 0 2 0 0 1 0 0 1 2 1 0 0 0 1 0 0 2 1 2 1 1 0 0\n",
      " 1 0 2 0 1 2 1 0 0 0 1 1 1 0 0 0 0 0 1 0 0 0 1 2 1 1 2 2 1 1 1 2 0 0 0 0 2\n",
      " 2 0 0 0 2 1 0 0 1 2 0 0 0 0 0 0 1 1 1 0 2 1 2 0 1 2 0 0 0 2 0 1 2 1 1 2 1\n",
      " 0 1 2 2 2 2 0 2 2 0 2 0 0 2 0 2 0 2 2 0 2 2 2 0 0 0 0 0 0 1 1 0 1 2 0 0 1\n",
      " 0 2 0 2 0 0 0 0 2 1 0 1 1 0 2 1 1 0 1 0 1 0 0 2 0 2 2 0 0 1 0 1 2 1 1 1 2\n",
      " 2 0 0 0 2 2 2 0 1 0 0 0 1 0 1 0 0 1 2 0 0 0 1 0 1 2 2 0 1 1 0 1 0 0 2 1 1\n",
      " 1 1 0 2 0 1 0 0 0 0 2 0 0 0 2 0 0 0 0 0 2 2 2 2 1 0 0 2 2 2 2 1 0 0 1 0 0\n",
      " 2 0 1 1 1 1 2 0 0 0 0 0 1 2 2 0 0 0 0 2 2 0 0 1 2 2 0 1 1 2 0 1 0 2 0 1 2\n",
      " 1 0 2 2 0 0 1 0 0 0 0 1 0 0 2 0 2 0 0 2 2 0 1 0 1 0 1 0 2 0 1 2 0 2 0 0 1\n",
      " 0 1 2 0 0 1 1 1 0 2 0 0 0 1 0 2 2 2 2 1 0 0 0 2 0 0 2 0 2 1 2 1 2 2 2 1 2\n",
      " 1 1 2 1 1 0 1 2 1 1 1 0 0 0 0 2 2 0 1 2 0 0 2 2 1 1 2 2 0 2 2 0 2 0 2 1 1\n",
      " 0 0 0 0 2 1 2 2 1 1 2 0 2 2 1 2 1 0 2 2 1 1 2 2 0 0 0 0 1 2 0 1 0 2 1 0 0\n",
      " 1 0 0 1 1 1 2 2 2 1 0 2 0 2 1 2 1 1 0 1 0 1 0 1 0 0 0 0]\n"
     ]
    }
   ],
   "source": [
    "# K-means\n",
    "kmeans = KMeans(n_clusters=3, random_state=0).fit(data)\n",
    "print(kmeans.labels_)"
   ]
  },
  {
   "cell_type": "code",
   "execution_count": 15,
   "metadata": {},
   "outputs": [],
   "source": [
    "# Välja fler kluster\n",
    "sse = []\n",
    "for i in range(10):\n",
    "    kmeans = KMeans(n_clusters = i + 1, random_state = 0).fit(data)\n",
    "    sse.append(kmeans.inertia_)"
   ]
  },
  {
   "cell_type": "code",
   "execution_count": 16,
   "metadata": {},
   "outputs": [
    {
     "data": {
      "text/plain": [
       "[<matplotlib.lines.Line2D at 0x7fd3dcff8dc0>]"
      ]
     },
     "execution_count": 16,
     "metadata": {},
     "output_type": "execute_result"
    },
    {
     "data": {
      "image/png": "[encoded data removed]",
      "text/plain": [
       "<Figure size 432x288 with 1 Axes>"
      ]
     },
     "metadata": {
      "needs_background": "light"
     },
     "output_type": "display_data"
    }
   ],
   "source": [
    "plt.plot(1 + np.arange(len(sse)), sse)"
   ]
  },
  {
   "cell_type": "code",
   "execution_count": 17,
   "metadata": {},
   "outputs": [
    {
     "name": "stdout",
     "output_type": "stream",
     "text": [
      "[[-1.25831616e-01  1.22638477e+00  6.25301086e-02  7.46661713e-01\n",
      "   2.92391510e+00  4.45870767e-01 -1.01608422e-01 -8.76138448e-02]\n",
      " [-7.95882074e-01 -2.37979164e-01  2.12278255e-01  1.09026303e+00\n",
      "   1.92727816e-01  1.02327016e+00 -7.83449878e-02 -6.28724580e-01]\n",
      " [-4.79075665e-01  4.48391117e-01  2.28425498e-04  2.37097004e-01\n",
      "   5.36391519e-01 -1.88755994e-01  3.44685046e-02 -4.76480651e-01]\n",
      " [-8.86343409e-02 -4.28103212e-02  3.05068163e-01 -1.27186302e+00\n",
      "  -6.85461749e-01  4.27843636e-02 -2.48701973e-01 -2.26489234e-01]\n",
      " [-5.21375898e-01  4.24615116e-01  1.49543299e-01  6.46711518e-01\n",
      "   5.28499548e-01  3.63171741e-01  2.93126506e+00 -1.05515390e-01]\n",
      " [ 9.62683382e-01  3.89392984e-01  4.54935425e-01 -1.13065524e+00\n",
      "  -6.39218912e-01 -2.67670344e-01 -3.04594134e-01  1.57529052e+00]\n",
      " [-5.61411166e-01 -8.44718578e-01 -2.20027098e-01 -1.12614959e-01\n",
      "  -3.56745789e-01 -7.18898555e-01 -3.15365583e-01 -7.46659229e-01]\n",
      " [ 1.27624361e+00  1.22309248e+00  5.38432931e-01  7.32294644e-01\n",
      "   4.99655842e-01  2.50924751e-01  5.80187740e-01  1.12977260e+00]\n",
      " [ 1.05275881e+00 -5.77102981e-01  4.03285876e-01  8.20186584e-01\n",
      "  -2.78677712e-01  3.80006158e-01 -1.99703383e-01  6.39324849e-01]\n",
      " [-8.59147710e-02 -1.21808331e-01 -3.53582785e+00 -1.16199884e+00\n",
      "  -6.86413463e-01 -7.90025695e-01 -2.37557629e-01 -2.37787918e-01]]\n"
     ]
    }
   ],
   "source": [
    "#Få ut klustercenter\n",
    "print(kmeans.cluster_centers_) # Alla 10 olika kmeans är sparad(!)"
   ]
  },
  {
   "cell_type": "code",
   "execution_count": 27,
   "metadata": {},
   "outputs": [
    {
     "name": "stdout",
     "output_type": "stream",
     "text": [
      "[0.19565409011385446, 0.17846436745293395, 0.20039690719846015, 0.15291607045244326, 0.16760637284099414, 0.16943027723025014, 0.1672108752194709, 0.1627361019710786, 0.1481884482722491, 0.15264342768492942]\n"
     ]
    }
   ],
   "source": [
    "#Silhouette score: (b_i - a_i)/max(a_i,b_i)  där a_i är mean distance från alla datapunkter i samma \n",
    "silhouette_scores = []\n",
    "for i in range(10):\n",
    "    kmeans = KMeans(n_clusters = i + 2, random_state = 0).fit(data)\n",
    "    predicted_labels = kmeans.labels_\n",
    "    # print(predicted_labels)\n",
    "    silhouette_scores.append(metrics.silhouette_score(data, predicted_labels))\n",
    "\n",
    "print(silhouette_scores)"
   ]
  },
  {
   "cell_type": "code",
   "execution_count": null,
   "metadata": {},
   "outputs": [],
   "source": []
  }
 ],
 "metadata": {
  "interpreter": {
   "hash": "6114b2ecdb3dbf269466423d7f8a4c7ea08a980c6108a678dde6d7f806f98fb1"
  },
  "kernelspec": {
   "display_name": "Python 3.9.7 ('ipynb_env')",
   "language": "python",
   "name": "python3"
  },
  "language_info": {
   "codemirror_mode": {
    "name": "ipython",
    "version": 3
   },
   "file_extension": ".py",
   "mimetype": "text/x-python",
   "name": "python",
   "nbconvert_exporter": "python",
   "pygments_lexer": "ipython3",
   "version": "3.9.7"
  },
  "orig_nbformat": 4
 },
 "nbformat": 4,
 "nbformat_minor": 2
}
